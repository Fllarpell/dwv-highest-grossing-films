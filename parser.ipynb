{
 "cells": [
  {
   "cell_type": "code",
   "execution_count": 1,
   "metadata": {},
   "outputs": [
    {
     "name": "stdout",
     "output_type": "stream",
     "text": [
      "Requirement already satisfied: pip in /Library/Frameworks/Python.framework/Versions/3.13/lib/python3.13/site-packages (25.0.1)\n",
      "Requirement already satisfied: sqlalchemy in /Library/Frameworks/Python.framework/Versions/3.13/lib/python3.13/site-packages (2.0.37)\n",
      "Requirement already satisfied: typing-extensions>=4.6.0 in /Library/Frameworks/Python.framework/Versions/3.13/lib/python3.13/site-packages (from sqlalchemy) (4.12.2)\n",
      "Requirement already satisfied: scrapy in /Library/Frameworks/Python.framework/Versions/3.13/lib/python3.13/site-packages (2.12.0)\n",
      "Requirement already satisfied: Twisted>=21.7.0 in /Library/Frameworks/Python.framework/Versions/3.13/lib/python3.13/site-packages (from scrapy) (24.11.0)\n",
      "Requirement already satisfied: cryptography>=37.0.0 in /Library/Frameworks/Python.framework/Versions/3.13/lib/python3.13/site-packages (from scrapy) (44.0.2)\n",
      "Requirement already satisfied: cssselect>=0.9.1 in /Library/Frameworks/Python.framework/Versions/3.13/lib/python3.13/site-packages (from scrapy) (1.2.0)\n",
      "Requirement already satisfied: itemloaders>=1.0.1 in /Library/Frameworks/Python.framework/Versions/3.13/lib/python3.13/site-packages (from scrapy) (1.3.2)\n",
      "Requirement already satisfied: parsel>=1.5.0 in /Library/Frameworks/Python.framework/Versions/3.13/lib/python3.13/site-packages (from scrapy) (1.10.0)\n",
      "Requirement already satisfied: pyOpenSSL>=22.0.0 in /Library/Frameworks/Python.framework/Versions/3.13/lib/python3.13/site-packages (from scrapy) (25.0.0)\n",
      "Requirement already satisfied: queuelib>=1.4.2 in /Library/Frameworks/Python.framework/Versions/3.13/lib/python3.13/site-packages (from scrapy) (1.7.0)\n",
      "Requirement already satisfied: service-identity>=18.1.0 in /Library/Frameworks/Python.framework/Versions/3.13/lib/python3.13/site-packages (from scrapy) (24.2.0)\n",
      "Requirement already satisfied: w3lib>=1.17.0 in /Library/Frameworks/Python.framework/Versions/3.13/lib/python3.13/site-packages (from scrapy) (2.3.1)\n",
      "Requirement already satisfied: zope.interface>=5.1.0 in /Library/Frameworks/Python.framework/Versions/3.13/lib/python3.13/site-packages (from scrapy) (7.2)\n",
      "Requirement already satisfied: protego>=0.1.15 in /Library/Frameworks/Python.framework/Versions/3.13/lib/python3.13/site-packages (from scrapy) (0.4.0)\n",
      "Requirement already satisfied: itemadapter>=0.1.0 in /Library/Frameworks/Python.framework/Versions/3.13/lib/python3.13/site-packages (from scrapy) (0.11.0)\n",
      "Requirement already satisfied: packaging in /Users/fllarpy/Library/Python/3.13/lib/python/site-packages (from scrapy) (24.1)\n",
      "Requirement already satisfied: tldextract in /Library/Frameworks/Python.framework/Versions/3.13/lib/python3.13/site-packages (from scrapy) (5.1.3)\n",
      "Requirement already satisfied: lxml>=4.6.0 in /Library/Frameworks/Python.framework/Versions/3.13/lib/python3.13/site-packages (from scrapy) (5.3.1)\n",
      "Requirement already satisfied: defusedxml>=0.7.1 in /Library/Frameworks/Python.framework/Versions/3.13/lib/python3.13/site-packages (from scrapy) (0.7.1)\n",
      "Requirement already satisfied: PyDispatcher>=2.0.5 in /Library/Frameworks/Python.framework/Versions/3.13/lib/python3.13/site-packages (from scrapy) (2.0.7)\n",
      "Requirement already satisfied: cffi>=1.12 in /Library/Frameworks/Python.framework/Versions/3.13/lib/python3.13/site-packages (from cryptography>=37.0.0->scrapy) (1.17.1)\n",
      "Requirement already satisfied: jmespath>=0.9.5 in /Library/Frameworks/Python.framework/Versions/3.13/lib/python3.13/site-packages (from itemloaders>=1.0.1->scrapy) (1.0.1)\n",
      "Requirement already satisfied: attrs>=19.1.0 in /Library/Frameworks/Python.framework/Versions/3.13/lib/python3.13/site-packages (from service-identity>=18.1.0->scrapy) (25.1.0)\n",
      "Requirement already satisfied: pyasn1 in /Library/Frameworks/Python.framework/Versions/3.13/lib/python3.13/site-packages (from service-identity>=18.1.0->scrapy) (0.6.1)\n",
      "Requirement already satisfied: pyasn1-modules in /Library/Frameworks/Python.framework/Versions/3.13/lib/python3.13/site-packages (from service-identity>=18.1.0->scrapy) (0.4.1)\n",
      "Requirement already satisfied: automat>=24.8.0 in /Library/Frameworks/Python.framework/Versions/3.13/lib/python3.13/site-packages (from Twisted>=21.7.0->scrapy) (24.8.1)\n",
      "Requirement already satisfied: constantly>=15.1 in /Library/Frameworks/Python.framework/Versions/3.13/lib/python3.13/site-packages (from Twisted>=21.7.0->scrapy) (23.10.4)\n",
      "Requirement already satisfied: hyperlink>=17.1.1 in /Library/Frameworks/Python.framework/Versions/3.13/lib/python3.13/site-packages (from Twisted>=21.7.0->scrapy) (21.0.0)\n",
      "Requirement already satisfied: incremental>=24.7.0 in /Library/Frameworks/Python.framework/Versions/3.13/lib/python3.13/site-packages (from Twisted>=21.7.0->scrapy) (24.7.2)\n",
      "Requirement already satisfied: typing-extensions>=4.2.0 in /Library/Frameworks/Python.framework/Versions/3.13/lib/python3.13/site-packages (from Twisted>=21.7.0->scrapy) (4.12.2)\n",
      "Requirement already satisfied: setuptools in /Library/Frameworks/Python.framework/Versions/3.13/lib/python3.13/site-packages (from zope.interface>=5.1.0->scrapy) (75.8.0)\n",
      "Requirement already satisfied: idna in /Library/Frameworks/Python.framework/Versions/3.13/lib/python3.13/site-packages (from tldextract->scrapy) (3.10)\n",
      "Requirement already satisfied: requests>=2.1.0 in /Library/Frameworks/Python.framework/Versions/3.13/lib/python3.13/site-packages (from tldextract->scrapy) (2.32.3)\n",
      "Requirement already satisfied: requests-file>=1.4 in /Library/Frameworks/Python.framework/Versions/3.13/lib/python3.13/site-packages (from tldextract->scrapy) (2.1.0)\n",
      "Requirement already satisfied: filelock>=3.0.8 in /Library/Frameworks/Python.framework/Versions/3.13/lib/python3.13/site-packages (from tldextract->scrapy) (3.17.0)\n",
      "Requirement already satisfied: pycparser in /Library/Frameworks/Python.framework/Versions/3.13/lib/python3.13/site-packages (from cffi>=1.12->cryptography>=37.0.0->scrapy) (2.22)\n",
      "Requirement already satisfied: charset-normalizer<4,>=2 in /Library/Frameworks/Python.framework/Versions/3.13/lib/python3.13/site-packages (from requests>=2.1.0->tldextract->scrapy) (3.4.1)\n",
      "Requirement already satisfied: urllib3<3,>=1.21.1 in /Library/Frameworks/Python.framework/Versions/3.13/lib/python3.13/site-packages (from requests>=2.1.0->tldextract->scrapy) (2.3.0)\n",
      "Requirement already satisfied: certifi>=2017.4.17 in /Library/Frameworks/Python.framework/Versions/3.13/lib/python3.13/site-packages (from requests>=2.1.0->tldextract->scrapy) (2025.1.31)\n"
     ]
    }
   ],
   "source": [
    "!pip install --upgrade pip\n",
    "!pip install sqlalchemy\n",
    "!pip install scrapy"
   ]
  },
  {
   "cell_type": "code",
   "execution_count": 2,
   "metadata": {},
   "outputs": [],
   "source": [
    "import subprocess\n",
    "from database.config import create_tables, Session\n",
    "from database.config.load_data import load_data_from_json, save_data_to_db\n",
    "from database.config.clear_db import clear_database\n",
    "from database.models.models import Film\n",
    "from sqlalchemy import select"
   ]
  },
  {
   "cell_type": "code",
   "execution_count": 3,
   "metadata": {},
   "outputs": [],
   "source": [
    "def run_scrapy():\n",
    "    spider_name = 'movies_spider'\n",
    "    output_file = 'movies_spider.json'\n",
    "    project_path = '/Users/fllarpy/projects/DWV/pop-films/wikipedia_scaper'\n",
    "    \n",
    "    subprocess.run(['scrapy', 'crawl', spider_name, '-o', output_file], cwd=project_path)"
   ]
  },
  {
   "cell_type": "code",
   "execution_count": 4,
   "metadata": {},
   "outputs": [],
   "source": [
    "def check_data_in_db():\n",
    "    session = Session()\n",
    "    \n",
    "    query = select(Film)\n",
    "    results = session.execute(query)\n",
    "    films = results.scalars().all()\n",
    "    for film in films:\n",
    "        print(f\"Title: {film.title}, Year: {film.release_year}, Director: {film.director}, URL: {film.image_url}\")"
   ]
  },
  {
   "cell_type": "code",
   "execution_count": 5,
   "metadata": {},
   "outputs": [
    {
     "name": "stdout",
     "output_type": "stream",
     "text": [
      "2025-03-02 22:34:33,743 INFO sqlalchemy.engine.Engine select pg_catalog.version()\n",
      "2025-03-02 22:34:33,745 INFO sqlalchemy.engine.Engine [raw sql] {}\n",
      "2025-03-02 22:34:33,762 INFO sqlalchemy.engine.Engine select current_schema()\n",
      "2025-03-02 22:34:33,765 INFO sqlalchemy.engine.Engine [raw sql] {}\n",
      "2025-03-02 22:34:33,766 INFO sqlalchemy.engine.Engine show standard_conforming_strings\n",
      "2025-03-02 22:34:33,767 INFO sqlalchemy.engine.Engine [raw sql] {}\n",
      "2025-03-02 22:34:33,768 INFO sqlalchemy.engine.Engine BEGIN (implicit)\n",
      "2025-03-02 22:34:33,775 INFO sqlalchemy.engine.Engine DELETE FROM films\n",
      "2025-03-02 22:34:33,775 INFO sqlalchemy.engine.Engine [generated in 0.00050s] {}\n",
      "2025-03-02 22:34:33,780 INFO sqlalchemy.engine.Engine COMMIT\n",
      "2025-03-02 22:34:33,784 INFO sqlalchemy.engine.Engine BEGIN (implicit)\n",
      "2025-03-02 22:34:33,787 INFO sqlalchemy.engine.Engine SELECT pg_catalog.pg_class.relname \n",
      "FROM pg_catalog.pg_class JOIN pg_catalog.pg_namespace ON pg_catalog.pg_namespace.oid = pg_catalog.pg_class.relnamespace \n",
      "WHERE pg_catalog.pg_class.relname = %(table_name)s AND pg_catalog.pg_class.relkind = ANY (ARRAY[%(param_1)s, %(param_2)s, %(param_3)s, %(param_4)s, %(param_5)s]) AND pg_catalog.pg_table_is_visible(pg_catalog.pg_class.oid) AND pg_catalog.pg_namespace.nspname != %(nspname_1)s\n",
      "2025-03-02 22:34:33,788 INFO sqlalchemy.engine.Engine [generated in 0.00103s] {'table_name': 'films', 'param_1': 'r', 'param_2': 'p', 'param_3': 'f', 'param_4': 'v', 'param_5': 'm', 'nspname_1': 'pg_catalog'}\n",
      "2025-03-02 22:34:33,793 INFO sqlalchemy.engine.Engine COMMIT\n"
     ]
    },
    {
     "name": "stderr",
     "output_type": "stream",
     "text": [
      "2025-03-02 22:34:34 [scrapy.utils.log] INFO: Scrapy 2.12.0 started (bot: wikipedia_scaper)\n",
      "2025-03-02 22:34:34 [scrapy.utils.log] INFO: Versions: lxml 5.3.1.0, libxml2 2.12.9, cssselect 1.2.0, parsel 1.10.0, w3lib 2.3.1, Twisted 24.11.0, Python 3.13.0 (v3.13.0:60403a5409f, Oct  7 2024, 00:37:40) [Clang 15.0.0 (clang-1500.3.9.4)], pyOpenSSL 25.0.0 (OpenSSL 3.4.1 11 Feb 2025), cryptography 44.0.2, Platform macOS-15.1.1-arm64-arm-64bit-Mach-O\n",
      "2025-03-02 22:34:34 [scrapy.addons] INFO: Enabled addons:\n",
      "[]\n",
      "2025-03-02 22:34:34 [asyncio] DEBUG: Using selector: KqueueSelector\n",
      "2025-03-02 22:34:34 [scrapy.utils.log] DEBUG: Using reactor: twisted.internet.asyncioreactor.AsyncioSelectorReactor\n",
      "2025-03-02 22:34:34 [scrapy.utils.log] DEBUG: Using asyncio event loop: asyncio.unix_events._UnixSelectorEventLoop\n",
      "2025-03-02 22:34:34 [scrapy.utils.log] DEBUG: Using reactor: twisted.internet.asyncioreactor.AsyncioSelectorReactor\n",
      "2025-03-02 22:34:34 [scrapy.utils.log] DEBUG: Using asyncio event loop: asyncio.unix_events._UnixSelectorEventLoop\n",
      "2025-03-02 22:34:34 [scrapy.extensions.telnet] INFO: Telnet Password: 9b247953d7ea7d09\n",
      "2025-03-02 22:34:34 [scrapy.middleware] INFO: Enabled extensions:\n",
      "['scrapy.extensions.corestats.CoreStats',\n",
      " 'scrapy.extensions.telnet.TelnetConsole',\n",
      " 'scrapy.extensions.memusage.MemoryUsage',\n",
      " 'scrapy.extensions.feedexport.FeedExporter',\n",
      " 'scrapy.extensions.logstats.LogStats']\n",
      "2025-03-02 22:34:34 [scrapy.crawler] INFO: Overridden settings:\n",
      "{'BOT_NAME': 'wikipedia_scaper',\n",
      " 'FEED_EXPORT_ENCODING': 'utf-8',\n",
      " 'NEWSPIDER_MODULE': 'wikipedia_scaper.spiders',\n",
      " 'ROBOTSTXT_OBEY': True,\n",
      " 'SPIDER_MODULES': ['wikipedia_scaper.spiders'],\n",
      " 'TWISTED_REACTOR': 'twisted.internet.asyncioreactor.AsyncioSelectorReactor'}\n",
      "2025-03-02 22:34:34 [scrapy.middleware] INFO: Enabled downloader middlewares:\n",
      "['scrapy.downloadermiddlewares.offsite.OffsiteMiddleware',\n",
      " 'scrapy.downloadermiddlewares.robotstxt.RobotsTxtMiddleware',\n",
      " 'scrapy.downloadermiddlewares.httpauth.HttpAuthMiddleware',\n",
      " 'scrapy.downloadermiddlewares.downloadtimeout.DownloadTimeoutMiddleware',\n",
      " 'scrapy.downloadermiddlewares.defaultheaders.DefaultHeadersMiddleware',\n",
      " 'scrapy.downloadermiddlewares.useragent.UserAgentMiddleware',\n",
      " 'scrapy.downloadermiddlewares.retry.RetryMiddleware',\n",
      " 'scrapy.downloadermiddlewares.redirect.MetaRefreshMiddleware',\n",
      " 'scrapy.downloadermiddlewares.httpcompression.HttpCompressionMiddleware',\n",
      " 'scrapy.downloadermiddlewares.redirect.RedirectMiddleware',\n",
      " 'scrapy.downloadermiddlewares.cookies.CookiesMiddleware',\n",
      " 'scrapy.downloadermiddlewares.httpproxy.HttpProxyMiddleware',\n",
      " 'scrapy.downloadermiddlewares.stats.DownloaderStats']\n",
      "2025-03-02 22:34:34 [scrapy.middleware] INFO: Enabled spider middlewares:\n",
      "['scrapy.spidermiddlewares.httperror.HttpErrorMiddleware',\n",
      " 'scrapy.spidermiddlewares.referer.RefererMiddleware',\n",
      " 'scrapy.spidermiddlewares.urllength.UrlLengthMiddleware',\n",
      " 'scrapy.spidermiddlewares.depth.DepthMiddleware']\n",
      "2025-03-02 22:34:34 [scrapy.middleware] INFO: Enabled item pipelines:\n",
      "['scrapy.pipelines.images.ImagesPipeline']\n",
      "2025-03-02 22:34:34 [scrapy.core.engine] INFO: Spider opened\n",
      "2025-03-02 22:34:34 [scrapy.extensions.logstats] INFO: Crawled 0 pages (at 0 pages/min), scraped 0 items (at 0 items/min)\n",
      "2025-03-02 22:34:34 [scrapy.extensions.telnet] INFO: Telnet console listening on 127.0.0.1:6037\n",
      "2025-03-02 22:34:34 [scrapy.core.engine] DEBUG: Crawled (200) <GET https://en.wikipedia.org/robots.txt> (referer: None)\n",
      "2025-03-02 22:34:35 [scrapy.core.engine] DEBUG: Crawled (200) <GET https://en.wikipedia.org/wiki/List_of_highest-grossing_films#Highest-grossing_films> (referer: None)\n",
      "2025-03-02 22:34:35 [scrapy.dupefilters] DEBUG: Filtered duplicate request: <GET https://en.wikipedia.org/wiki/The_Birth_of_a_Nation> - no more duplicates will be shown (see DUPEFILTER_DEBUG to show all duplicates)\n",
      "2025-03-02 22:34:35 [scrapy.core.engine] DEBUG: Crawled (200) <GET https://en.wikipedia.org/wiki/The_Birth_of_a_Nation> (referer: https://en.wikipedia.org/wiki/List_of_highest-grossing_films)\n",
      "2025-03-02 22:34:35 [scrapy.core.engine] DEBUG: Crawled (200) <GET https://en.wikipedia.org/wiki/The_Sting> (referer: https://en.wikipedia.org/wiki/List_of_highest-grossing_films)\n",
      "2025-03-02 22:34:35 [scrapy.downloadermiddlewares.offsite] DEBUG: Filtered offsite request to 'upload.wikimedia.org': <GET https://upload.wikimedia.org/wikipedia/commons/thumb/6/61/Birth_of_a_Nation_theatrical_poster.jpg/220px-Birth_of_a_Nation_theatrical_poster.jpg>\n",
      "2025-03-02 22:34:35 [scrapy.pipelines.media] ERROR: [Failure instance: Traceback: <class 'scrapy.pipelines.files.FileException'>: \n",
      "/Library/Frameworks/Python.framework/Versions/3.13/lib/python3.13/site-packages/twisted/internet/defer.py:1088:_runCallbacks\n",
      "/Library/Frameworks/Python.framework/Versions/3.13/lib/python3.13/site-packages/scrapy/pipelines/files.py:627:media_failed\n",
      "]\n",
      "NoneType: None\n",
      "2025-03-02 22:34:35 [urllib3.connectionpool] DEBUG: Starting new HTTPS connection (1): upload.wikimedia.org:443\n",
      "2025-03-02 22:34:36 [urllib3.connectionpool] DEBUG: https://upload.wikimedia.org:443 \"GET /wikipedia/commons/thumb/6/61/Birth_of_a_Nation_theatrical_poster.jpg/220px-Birth_of_a_Nation_theatrical_poster.jpg HTTP/1.1\" 200 26839\n",
      "2025-03-02 22:34:36 [scrapy.core.engine] DEBUG: Crawled (200) <GET https://en.wikipedia.org/wiki/The_Towering_Inferno> (referer: https://en.wikipedia.org/wiki/List_of_highest-grossing_films)\n",
      "2025-03-02 22:34:36 [scrapy.core.engine] DEBUG: Crawled (200) <GET https://en.wikipedia.org/wiki/Rocky_II> (referer: https://en.wikipedia.org/wiki/List_of_highest-grossing_films)\n",
      "2025-03-02 22:34:36 [scrapy.core.engine] DEBUG: Crawled (200) <GET https://en.wikipedia.org/wiki/Grease_(film)> (referer: https://en.wikipedia.org/wiki/List_of_highest-grossing_films)\n",
      "2025-03-02 22:34:36 [scrapy.core.engine] DEBUG: Crawled (200) <GET https://en.wikipedia.org/wiki/Moonraker_(film)> (referer: https://en.wikipedia.org/wiki/List_of_highest-grossing_films)\n",
      "2025-03-02 22:34:36 [scrapy.core.scraper] DEBUG: Scraped from <200 https://en.wikipedia.org/wiki/The_Birth_of_a_Nation>\n",
      "{'box_office': 50000000.0,\n",
      " 'countries': ['United States'],\n",
      " 'directors': ['D. W. Griffith'],\n",
      " 'image_urls': ['https://upload.wikimedia.org/wikipedia/commons/thumb/6/61/Birth_of_a_Nation_theatrical_poster.jpg/220px-Birth_of_a_Nation_theatrical_poster.jpg'],\n",
      " 'images': [],\n",
      " 'title': 'The Birth of a Nation',\n",
      " 'year': 1915}\n",
      "2025-03-02 22:34:36 [scrapy.core.engine] DEBUG: Crawled (200) <GET https://en.wikipedia.org/wiki/Jaws_(film)> (referer: https://en.wikipedia.org/wiki/List_of_highest-grossing_films)\n",
      "2025-03-02 22:34:36 [scrapy.core.engine] DEBUG: Crawled (200) <GET https://en.wikipedia.org/wiki/Rocky> (referer: https://en.wikipedia.org/wiki/List_of_highest-grossing_films)\n",
      "2025-03-02 22:34:36 [scrapy.core.engine] DEBUG: Crawled (200) <GET https://en.wikipedia.org/wiki/The_Exorcist> (referer: https://en.wikipedia.org/wiki/List_of_highest-grossing_films)\n",
      "2025-03-02 22:34:36 [scrapy.pipelines.media] ERROR: [Failure instance: Traceback: <class 'scrapy.pipelines.files.FileException'>: \n",
      "/Library/Frameworks/Python.framework/Versions/3.13/lib/python3.13/site-packages/twisted/internet/defer.py:1088:_runCallbacks\n",
      "/Library/Frameworks/Python.framework/Versions/3.13/lib/python3.13/site-packages/scrapy/pipelines/files.py:627:media_failed\n",
      "]\n",
      "NoneType: None\n",
      "2025-03-02 22:34:36 [scrapy.core.engine] DEBUG: Crawled (200) <GET https://en.wikipedia.org/wiki/Star_Wars_(film)> (referer: https://en.wikipedia.org/wiki/List_of_highest-grossing_films)\n",
      "2025-03-02 22:34:36 [urllib3.connectionpool] DEBUG: Starting new HTTPS connection (1): upload.wikimedia.org:443\n"
     ]
    },
    {
     "name": "stdout",
     "output_type": "stream",
     "text": [
      "saved in images/The_Birth_of_a_Nation/The_Birth_of_a_Nation.jpg\n",
      "erroe: \n"
     ]
    },
    {
     "name": "stderr",
     "output_type": "stream",
     "text": [
      "2025-03-02 22:34:36 [urllib3.connectionpool] DEBUG: https://upload.wikimedia.org:443 \"GET /wikipedia/commons/thumb/a/aa/The_Sting_%281973_alt_poster%29.jpeg/220px-The_Sting_%281973_alt_poster%29.jpeg HTTP/1.1\" 200 16570\n",
      "2025-03-02 22:34:36 [scrapy.core.engine] DEBUG: Crawled (200) <GET https://en.wikipedia.org/wiki/Diamonds_Are_Forever_(film)> (referer: https://en.wikipedia.org/wiki/List_of_highest-grossing_films)\n",
      "2025-03-02 22:34:36 [scrapy.core.engine] DEBUG: Crawled (200) <GET https://en.wikipedia.org/wiki/The_French_Connection_(film)> (referer: https://en.wikipedia.org/wiki/List_of_highest-grossing_films)\n",
      "2025-03-02 22:34:36 [scrapy.core.engine] DEBUG: Crawled (200) <GET https://en.wikipedia.org/wiki/Fiddler_on_the_Roof_(film)> (referer: https://en.wikipedia.org/wiki/List_of_highest-grossing_films)\n",
      "2025-03-02 22:34:36 [scrapy.core.engine] DEBUG: Crawled (200) <GET https://en.wikipedia.org/wiki/Love_Story_(1970_film)> (referer: https://en.wikipedia.org/wiki/List_of_highest-grossing_films)\n",
      "2025-03-02 22:34:36 [scrapy.core.engine] DEBUG: Crawled (200) <GET https://en.wikipedia.org/wiki/Butch_Cassidy_and_the_Sundance_Kid> (referer: https://en.wikipedia.org/wiki/List_of_highest-grossing_films)\n",
      "2025-03-02 22:34:36 [scrapy.core.engine] DEBUG: Crawled (200) <GET https://en.wikipedia.org/wiki/The_Lion_King_1%C2%BD> (referer: https://en.wikipedia.org/wiki/List_of_highest-grossing_films)\n",
      "2025-03-02 22:34:36 [scrapy.core.scraper] DEBUG: Scraped from <200 https://en.wikipedia.org/wiki/The_Sting>\n",
      "{'box_office': 257000000.0,\n",
      " 'countries': ['United States'],\n",
      " 'directors': ['George Roy Hill'],\n",
      " 'image_urls': ['https://upload.wikimedia.org/wikipedia/commons/thumb/a/aa/The_Sting_%281973_alt_poster%29.jpeg/220px-The_Sting_%281973_alt_poster%29.jpeg'],\n",
      " 'images': [],\n",
      " 'title': 'The Sting',\n",
      " 'year': 1973}\n",
      "2025-03-02 22:34:36 [scrapy.core.engine] DEBUG: Crawled (200) <GET https://en.wikipedia.org/wiki/The_Godfather> (referer: https://en.wikipedia.org/wiki/List_of_highest-grossing_films)\n",
      "2025-03-02 22:34:36 [scrapy.pipelines.media] ERROR: [Failure instance: Traceback: <class 'scrapy.pipelines.files.FileException'>: \n",
      "/Library/Frameworks/Python.framework/Versions/3.13/lib/python3.13/site-packages/twisted/internet/defer.py:1088:_runCallbacks\n",
      "/Library/Frameworks/Python.framework/Versions/3.13/lib/python3.13/site-packages/scrapy/pipelines/files.py:627:media_failed\n",
      "]\n",
      "NoneType: None\n",
      "2025-03-02 22:34:36 [urllib3.connectionpool] DEBUG: Starting new HTTPS connection (1): upload.wikimedia.org:443\n"
     ]
    },
    {
     "name": "stdout",
     "output_type": "stream",
     "text": [
      "saved in images/The_Sting/The_Sting.jpeg\n",
      "erroe: \n"
     ]
    },
    {
     "name": "stderr",
     "output_type": "stream",
     "text": [
      "2025-03-02 22:34:37 [urllib3.connectionpool] DEBUG: https://upload.wikimedia.org:443 \"GET /wikipedia/en/thumb/5/5c/Towering_inferno_movie_poster.jpg/220px-Towering_inferno_movie_poster.jpg HTTP/1.1\" 200 30484\n",
      "2025-03-02 22:34:37 [scrapy.pipelines.media] ERROR: [Failure instance: Traceback: <class 'scrapy.pipelines.files.FileException'>: \n",
      "/Library/Frameworks/Python.framework/Versions/3.13/lib/python3.13/site-packages/twisted/internet/defer.py:1088:_runCallbacks\n",
      "/Library/Frameworks/Python.framework/Versions/3.13/lib/python3.13/site-packages/scrapy/pipelines/files.py:627:media_failed\n",
      "]\n",
      "NoneType: None\n",
      "2025-03-02 22:34:37 [urllib3.connectionpool] DEBUG: Starting new HTTPS connection (1): upload.wikimedia.org:443\n"
     ]
    },
    {
     "name": "stdout",
     "output_type": "stream",
     "text": [
      "saved in images/The_Towering_Inferno/The_Towering_Inferno.jpg\n",
      "erroe: \n"
     ]
    },
    {
     "name": "stderr",
     "output_type": "stream",
     "text": [
      "2025-03-02 22:34:37 [urllib3.connectionpool] DEBUG: https://upload.wikimedia.org:443 \"GET /wikipedia/en/thumb/b/bc/Rocky_ii_poster.jpg/220px-Rocky_ii_poster.jpg HTTP/1.1\" 403 2184\n",
      "2025-03-02 22:34:37 [scrapy.pipelines.media] ERROR: [Failure instance: Traceback: <class 'scrapy.pipelines.files.FileException'>: \n",
      "/Library/Frameworks/Python.framework/Versions/3.13/lib/python3.13/site-packages/twisted/internet/defer.py:1088:_runCallbacks\n",
      "/Library/Frameworks/Python.framework/Versions/3.13/lib/python3.13/site-packages/scrapy/pipelines/files.py:627:media_failed\n",
      "]\n",
      "NoneType: None\n",
      "2025-03-02 22:34:37 [scrapy.pipelines.media] ERROR: [Failure instance: Traceback: <class 'scrapy.pipelines.files.FileException'>: \n",
      "/Library/Frameworks/Python.framework/Versions/3.13/lib/python3.13/site-packages/twisted/internet/defer.py:1088:_runCallbacks\n",
      "/Library/Frameworks/Python.framework/Versions/3.13/lib/python3.13/site-packages/scrapy/pipelines/files.py:627:media_failed\n",
      "]\n",
      "NoneType: None\n",
      "2025-03-02 22:34:37 [urllib3.connectionpool] DEBUG: Starting new HTTPS connection (1): upload.wikimedia.org:443\n"
     ]
    },
    {
     "name": "stdout",
     "output_type": "stream",
     "text": [
      "error: 403\n"
     ]
    },
    {
     "name": "stderr",
     "output_type": "stream",
     "text": [
      "2025-03-02 22:34:38 [urllib3.connectionpool] DEBUG: https://upload.wikimedia.org:443 \"GET /wikipedia/en/thumb/6/66/Moonraker_%28UK_cinema_poster%29.jpg/220px-Moonraker_%28UK_cinema_poster%29.jpg HTTP/1.1\" 403 2184\n",
      "2025-03-02 22:34:38 [scrapy.pipelines.media] ERROR: [Failure instance: Traceback: <class 'scrapy.pipelines.files.FileException'>: \n",
      "/Library/Frameworks/Python.framework/Versions/3.13/lib/python3.13/site-packages/twisted/internet/defer.py:1088:_runCallbacks\n",
      "/Library/Frameworks/Python.framework/Versions/3.13/lib/python3.13/site-packages/scrapy/pipelines/files.py:627:media_failed\n",
      "]\n",
      "NoneType: None\n",
      "2025-03-02 22:34:38 [scrapy.pipelines.media] ERROR: [Failure instance: Traceback: <class 'scrapy.pipelines.files.FileException'>: \n",
      "/Library/Frameworks/Python.framework/Versions/3.13/lib/python3.13/site-packages/twisted/internet/defer.py:1088:_runCallbacks\n",
      "/Library/Frameworks/Python.framework/Versions/3.13/lib/python3.13/site-packages/scrapy/pipelines/files.py:627:media_failed\n",
      "]\n",
      "NoneType: None\n",
      "2025-03-02 22:34:38 [scrapy.pipelines.media] ERROR: [Failure instance: Traceback: <class 'scrapy.pipelines.files.FileException'>: \n",
      "/Library/Frameworks/Python.framework/Versions/3.13/lib/python3.13/site-packages/twisted/internet/defer.py:1088:_runCallbacks\n",
      "/Library/Frameworks/Python.framework/Versions/3.13/lib/python3.13/site-packages/scrapy/pipelines/files.py:627:media_failed\n",
      "]\n",
      "NoneType: None\n",
      "2025-03-02 22:34:38 [scrapy.pipelines.media] ERROR: [Failure instance: Traceback: <class 'scrapy.pipelines.files.FileException'>: \n",
      "/Library/Frameworks/Python.framework/Versions/3.13/lib/python3.13/site-packages/twisted/internet/defer.py:1088:_runCallbacks\n",
      "/Library/Frameworks/Python.framework/Versions/3.13/lib/python3.13/site-packages/scrapy/pipelines/files.py:627:media_failed\n",
      "]\n",
      "NoneType: None\n",
      "2025-03-02 22:34:38 [scrapy.core.engine] DEBUG: Crawled (200) <GET https://en.wikipedia.org/wiki/The_Twilight_Saga:_Breaking_Dawn_%E2%80%93_Part_2> (referer: https://en.wikipedia.org/wiki/List_of_highest-grossing_films)\n",
      "2025-03-02 22:34:38 [scrapy.core.scraper] DEBUG: Scraped from <200 https://en.wikipedia.org/wiki/The_Towering_Inferno>\n",
      "{'box_office': 203300000.0,\n",
      " 'countries': ['United States'],\n",
      " 'directors': ['John Guillermin', 'Irwin Allen'],\n",
      " 'image_urls': ['https://upload.wikimedia.org/wikipedia/en/thumb/5/5c/Towering_inferno_movie_poster.jpg/220px-Towering_inferno_movie_poster.jpg'],\n",
      " 'images': [],\n",
      " 'title': 'The Towering Inferno',\n",
      " 'year': 1974}\n",
      "2025-03-02 22:34:38 [scrapy.core.scraper] DEBUG: Scraped from <200 https://en.wikipedia.org/wiki/Rocky_II>\n",
      "{'box_office': 200100000.0,\n",
      " 'countries': ['United States'],\n",
      " 'directors': ['Sylvester Stallone'],\n",
      " 'image_urls': ['https://upload.wikimedia.org/wikipedia/en/thumb/b/bc/Rocky_ii_poster.jpg/220px-Rocky_ii_poster.jpg'],\n",
      " 'images': [],\n",
      " 'title': 'Rocky II',\n",
      " 'year': 1979}\n",
      "2025-03-02 22:34:38 [urllib3.connectionpool] DEBUG: Starting new HTTPS connection (1): upload.wikimedia.org:443\n"
     ]
    },
    {
     "name": "stdout",
     "output_type": "stream",
     "text": [
      "error: 403\n"
     ]
    },
    {
     "name": "stderr",
     "output_type": "stream",
     "text": [
      "2025-03-02 22:34:38 [urllib3.connectionpool] DEBUG: https://upload.wikimedia.org:443 \"GET /wikipedia/en/thumb/e/e2/Grease_ver2.jpg/220px-Grease_ver2.jpg HTTP/1.1\" 200 25308\n",
      "2025-03-02 22:34:38 [scrapy.core.scraper] DEBUG: Scraped from <200 https://en.wikipedia.org/wiki/Grease_(film)>\n",
      "{'box_office': 396300000.0,\n",
      " 'countries': ['United States'],\n",
      " 'directors': ['Randal Kleiser'],\n",
      " 'image_urls': ['https://upload.wikimedia.org/wikipedia/en/thumb/e/e2/Grease_ver2.jpg/220px-Grease_ver2.jpg'],\n",
      " 'images': [],\n",
      " 'title': 'Grease',\n",
      " 'year': 1978}\n",
      "2025-03-02 22:34:38 [scrapy.core.scraper] DEBUG: Scraped from <200 https://en.wikipedia.org/wiki/Moonraker_(film)>\n",
      "{'box_office': 210300000.0,\n",
      " 'countries': ['United Kingdom', 'United States', 'France'],\n",
      " 'directors': ['Lewis Gilbert'],\n",
      " 'image_urls': ['https://upload.wikimedia.org/wikipedia/en/thumb/6/66/Moonraker_%28UK_cinema_poster%29.jpg/220px-Moonraker_%28UK_cinema_poster%29.jpg'],\n",
      " 'images': [],\n",
      " 'title': 'Moonraker',\n",
      " 'year': 1979}\n",
      "2025-03-02 22:34:38 [urllib3.connectionpool] DEBUG: Starting new HTTPS connection (1): upload.wikimedia.org:443\n"
     ]
    },
    {
     "name": "stdout",
     "output_type": "stream",
     "text": [
      "saved in images/Grease/Grease.jpg\n",
      "erroe: \n"
     ]
    },
    {
     "name": "stderr",
     "output_type": "stream",
     "text": [
      "2025-03-02 22:34:38 [urllib3.connectionpool] DEBUG: https://upload.wikimedia.org:443 \"GET /wikipedia/commons/thumb/4/40/Jaws_movie_poster.jpg/220px-Jaws_movie_poster.jpg HTTP/1.1\" 200 23046\n",
      "2025-03-02 22:34:38 [urllib3.connectionpool] DEBUG: Starting new HTTPS connection (1): upload.wikimedia.org:443\n"
     ]
    },
    {
     "name": "stdout",
     "output_type": "stream",
     "text": [
      "saved in images/Jaws/Jaws.jpg\n",
      "erroe: \n"
     ]
    },
    {
     "name": "stderr",
     "output_type": "stream",
     "text": [
      "2025-03-02 22:34:39 [urllib3.connectionpool] DEBUG: https://upload.wikimedia.org:443 \"GET /wikipedia/en/thumb/1/18/Rocky_poster.jpg/220px-Rocky_poster.jpg HTTP/1.1\" 200 19587\n",
      "2025-03-02 22:34:39 [urllib3.connectionpool] DEBUG: Starting new HTTPS connection (1): upload.wikimedia.org:443\n"
     ]
    },
    {
     "name": "stdout",
     "output_type": "stream",
     "text": [
      "saved in images/Rocky/Rocky.jpg\n",
      "erroe: \n"
     ]
    },
    {
     "name": "stderr",
     "output_type": "stream",
     "text": [
      "2025-03-02 22:34:39 [urllib3.connectionpool] DEBUG: https://upload.wikimedia.org:443 \"GET /wikipedia/en/thumb/7/7b/Exorcist_ver2.jpg/220px-Exorcist_ver2.jpg HTTP/1.1\" 200 15232\n",
      "2025-03-02 22:34:39 [urllib3.connectionpool] DEBUG: Starting new HTTPS connection (1): upload.wikimedia.org:443\n"
     ]
    },
    {
     "name": "stdout",
     "output_type": "stream",
     "text": [
      "saved in images/The_Exorcist/The_Exorcist.jpg\n",
      "erroe: \n"
     ]
    },
    {
     "name": "stderr",
     "output_type": "stream",
     "text": [
      "2025-03-02 22:34:40 [urllib3.connectionpool] DEBUG: https://upload.wikimedia.org:443 \"GET /wikipedia/en/thumb/8/87/StarWarsMoviePoster1977.jpg/220px-StarWarsMoviePoster1977.jpg HTTP/1.1\" 200 24538\n",
      "2025-03-02 22:34:40 [scrapy.core.engine] DEBUG: Crawled (200) <GET https://en.wikipedia.org/wiki/The_Twilight_Saga:_New_Moon> (referer: https://en.wikipedia.org/wiki/List_of_highest-grossing_films)\n",
      "2025-03-02 22:34:40 [scrapy.core.engine] DEBUG: Crawled (200) <GET https://en.wikipedia.org/wiki/Twilight_(2008_film)> (referer: https://en.wikipedia.org/wiki/List_of_highest-grossing_films)\n",
      "2025-03-02 22:34:40 [scrapy.core.engine] DEBUG: Crawled (200) <GET https://en.wikipedia.org/wiki/Mufasa:_The_Lion_King> (referer: https://en.wikipedia.org/wiki/List_of_highest-grossing_films)\n",
      "2025-03-02 22:34:40 [scrapy.core.engine] DEBUG: Crawled (200) <GET https://en.wikipedia.org/wiki/The_Lion_King_(2019_film)> (referer: https://en.wikipedia.org/wiki/List_of_highest-grossing_films)\n",
      "2025-03-02 22:34:40 [scrapy.core.engine] DEBUG: Crawled (200) <GET https://en.wikipedia.org/wiki/The_Twilight_Saga:_Eclipse> (referer: https://en.wikipedia.org/wiki/List_of_highest-grossing_films)\n",
      "2025-03-02 22:34:40 [scrapy.core.engine] DEBUG: Crawled (200) <GET https://en.wikipedia.org/wiki/The_Twilight_Saga:_Breaking_Dawn_%E2%80%93_Part_1> (referer: https://en.wikipedia.org/wiki/List_of_highest-grossing_films)\n",
      "2025-03-02 22:34:40 [scrapy.core.scraper] DEBUG: Scraped from <200 https://en.wikipedia.org/wiki/Jaws_(film)>\n",
      "{'box_office': 476500000.0,\n",
      " 'countries': ['United States'],\n",
      " 'directors': ['Steven Spielberg'],\n",
      " 'image_urls': ['https://upload.wikimedia.org/wikipedia/commons/thumb/4/40/Jaws_movie_poster.jpg/220px-Jaws_movie_poster.jpg'],\n",
      " 'images': [],\n",
      " 'title': 'Jaws',\n",
      " 'year': 1975}\n",
      "2025-03-02 22:34:40 [scrapy.core.scraper] DEBUG: Scraped from <200 https://en.wikipedia.org/wiki/Rocky>\n",
      "{'box_office': 225000000.0,\n",
      " 'countries': ['United States'],\n",
      " 'directors': ['John G. Avildsen'],\n",
      " 'image_urls': ['https://upload.wikimedia.org/wikipedia/en/thumb/1/18/Rocky_poster.jpg/220px-Rocky_poster.jpg'],\n",
      " 'images': [],\n",
      " 'title': 'Rocky',\n",
      " 'year': 1976}\n",
      "2025-03-02 22:34:40 [scrapy.core.scraper] DEBUG: Scraped from <200 https://en.wikipedia.org/wiki/The_Exorcist>\n",
      "{'box_office': 441300000.0,\n",
      " 'countries': ['United States'],\n",
      " 'directors': ['William Friedkin'],\n",
      " 'image_urls': ['https://upload.wikimedia.org/wikipedia/en/thumb/7/7b/Exorcist_ver2.jpg/220px-Exorcist_ver2.jpg'],\n",
      " 'images': [],\n",
      " 'title': 'The Exorcist',\n",
      " 'year': 1973}\n",
      "2025-03-02 22:34:40 [scrapy.core.scraper] DEBUG: Scraped from <200 https://en.wikipedia.org/wiki/Star_Wars_(film)>\n",
      "{'box_office': 775400000.0,\n",
      " 'countries': ['United States'],\n",
      " 'directors': ['George Lucas'],\n",
      " 'image_urls': ['https://upload.wikimedia.org/wikipedia/en/thumb/8/87/StarWarsMoviePoster1977.jpg/220px-StarWarsMoviePoster1977.jpg'],\n",
      " 'images': [],\n",
      " 'title': 'Star Wars',\n",
      " 'year': 1977}\n",
      "2025-03-02 22:34:40 [scrapy.core.engine] DEBUG: Crawled (200) <GET https://en.wikipedia.org/wiki/Puss_in_Boots:_The_Last_Wish> (referer: https://en.wikipedia.org/wiki/List_of_highest-grossing_films)\n",
      "2025-03-02 22:34:40 [scrapy.pipelines.media] ERROR: [Failure instance: Traceback: <class 'scrapy.pipelines.files.FileException'>: \n",
      "/Library/Frameworks/Python.framework/Versions/3.13/lib/python3.13/site-packages/twisted/internet/defer.py:1088:_runCallbacks\n",
      "/Library/Frameworks/Python.framework/Versions/3.13/lib/python3.13/site-packages/scrapy/pipelines/files.py:627:media_failed\n",
      "]\n",
      "NoneType: None\n",
      "2025-03-02 22:34:40 [scrapy.pipelines.media] ERROR: [Failure instance: Traceback: <class 'scrapy.pipelines.files.FileException'>: \n",
      "/Library/Frameworks/Python.framework/Versions/3.13/lib/python3.13/site-packages/twisted/internet/defer.py:1088:_runCallbacks\n",
      "/Library/Frameworks/Python.framework/Versions/3.13/lib/python3.13/site-packages/scrapy/pipelines/files.py:627:media_failed\n",
      "]\n",
      "NoneType: None\n",
      "2025-03-02 22:34:40 [urllib3.connectionpool] DEBUG: Starting new HTTPS connection (1): upload.wikimedia.org:443\n"
     ]
    },
    {
     "name": "stdout",
     "output_type": "stream",
     "text": [
      "saved in images/Star_Wars/Star_Wars.jpg\n",
      "erroe: \n"
     ]
    },
    {
     "name": "stderr",
     "output_type": "stream",
     "text": [
      "2025-03-02 22:34:40 [urllib3.connectionpool] DEBUG: https://upload.wikimedia.org:443 \"GET /wikipedia/en/thumb/b/b8/TheFrenchConnection.jpg/220px-TheFrenchConnection.jpg HTTP/1.1\" 200 26189\n",
      "2025-03-02 22:34:40 [scrapy.pipelines.media] ERROR: [Failure instance: Traceback: <class 'scrapy.pipelines.files.FileException'>: \n",
      "/Library/Frameworks/Python.framework/Versions/3.13/lib/python3.13/site-packages/twisted/internet/defer.py:1088:_runCallbacks\n",
      "/Library/Frameworks/Python.framework/Versions/3.13/lib/python3.13/site-packages/scrapy/pipelines/files.py:627:media_failed\n",
      "]\n",
      "NoneType: None\n",
      "2025-03-02 22:34:40 [urllib3.connectionpool] DEBUG: Starting new HTTPS connection (1): upload.wikimedia.org:443\n"
     ]
    },
    {
     "name": "stdout",
     "output_type": "stream",
     "text": [
      "saved in images/The_French_Connection/The_French_Connection.jpg\n",
      "erroe: \n"
     ]
    },
    {
     "name": "stderr",
     "output_type": "stream",
     "text": [
      "2025-03-02 22:34:40 [urllib3.connectionpool] DEBUG: https://upload.wikimedia.org:443 \"GET /wikipedia/en/thumb/5/5e/Fiddler_on_the_roof.jpg/220px-Fiddler_on_the_roof.jpg HTTP/1.1\" 403 2184\n",
      "2025-03-02 22:34:40 [scrapy.pipelines.media] ERROR: [Failure instance: Traceback: <class 'scrapy.pipelines.files.FileException'>: \n",
      "/Library/Frameworks/Python.framework/Versions/3.13/lib/python3.13/site-packages/twisted/internet/defer.py:1088:_runCallbacks\n",
      "/Library/Frameworks/Python.framework/Versions/3.13/lib/python3.13/site-packages/scrapy/pipelines/files.py:627:media_failed\n",
      "]\n",
      "NoneType: None\n",
      "2025-03-02 22:34:41 [scrapy.pipelines.media] ERROR: [Failure instance: Traceback: <class 'scrapy.pipelines.files.FileException'>: \n",
      "/Library/Frameworks/Python.framework/Versions/3.13/lib/python3.13/site-packages/twisted/internet/defer.py:1088:_runCallbacks\n",
      "/Library/Frameworks/Python.framework/Versions/3.13/lib/python3.13/site-packages/scrapy/pipelines/files.py:627:media_failed\n",
      "]\n",
      "NoneType: None\n",
      "2025-03-02 22:34:41 [scrapy.core.scraper] ERROR: Spider error processing <GET https://en.wikipedia.org/wiki/The_Lion_King_1%C2%BD> (referer: https://en.wikipedia.org/wiki/List_of_highest-grossing_films)\n",
      "Traceback (most recent call last):\n",
      "  File \"/Library/Frameworks/Python.framework/Versions/3.13/lib/python3.13/site-packages/scrapy/utils/defer.py\", line 327, in iter_errback\n",
      "    yield next(it)\n",
      "          ~~~~^^^^\n",
      "  File \"/Library/Frameworks/Python.framework/Versions/3.13/lib/python3.13/site-packages/scrapy/utils/python.py\", line 368, in __next__\n",
      "    return next(self.data)\n",
      "  File \"/Library/Frameworks/Python.framework/Versions/3.13/lib/python3.13/site-packages/scrapy/utils/python.py\", line 368, in __next__\n",
      "    return next(self.data)\n",
      "  File \"/Library/Frameworks/Python.framework/Versions/3.13/lib/python3.13/site-packages/scrapy/core/spidermw.py\", line 106, in process_sync\n",
      "    yield from iterable\n",
      "  File \"/Library/Frameworks/Python.framework/Versions/3.13/lib/python3.13/site-packages/scrapy/spidermiddlewares/referer.py\", line 379, in <genexpr>\n",
      "    return (self._set_referer(r, response) for r in result)\n",
      "                                                    ^^^^^^\n",
      "  File \"/Library/Frameworks/Python.framework/Versions/3.13/lib/python3.13/site-packages/scrapy/core/spidermw.py\", line 106, in process_sync\n",
      "    yield from iterable\n",
      "  File \"/Library/Frameworks/Python.framework/Versions/3.13/lib/python3.13/site-packages/scrapy/spidermiddlewares/urllength.py\", line 57, in <genexpr>\n",
      "    return (r for r in result if self._filter(r, spider))\n",
      "                       ^^^^^^\n",
      "  File \"/Library/Frameworks/Python.framework/Versions/3.13/lib/python3.13/site-packages/scrapy/core/spidermw.py\", line 106, in process_sync\n",
      "    yield from iterable\n",
      "  File \"/Library/Frameworks/Python.framework/Versions/3.13/lib/python3.13/site-packages/scrapy/spidermiddlewares/depth.py\", line 54, in <genexpr>\n",
      "    return (r for r in result if self._filter(r, response, spider))\n",
      "                       ^^^^^^\n",
      "  File \"/Library/Frameworks/Python.framework/Versions/3.13/lib/python3.13/site-packages/scrapy/core/spidermw.py\", line 106, in process_sync\n",
      "    yield from iterable\n",
      "  File \"/Users/fllarpy/projects/DWV/pop-films/wikipedia_scaper/wikipedia_scaper/spiders/movies_spider.py\", line 37, in parse_movie\n",
      "    box_office = self.extract_numeric_value(infobox.xpath('.//th[contains(text(), \"Box office\")]/following-sibling::td//text()').get().strip())\n",
      "                                            ^^^^^^^^^^^^^^^^^^^^^^^^^^^^^^^^^^^^^^^^^^^^^^^^^^^^^^^^^^^^^^^^^^^^^^^^^^^^^^^^^^^^^^^^^^^^^^^^\n",
      "AttributeError: 'NoneType' object has no attribute 'strip'\n",
      "2025-03-02 22:34:41 [scrapy.pipelines.media] ERROR: [Failure instance: Traceback: <class 'scrapy.pipelines.files.FileException'>: \n",
      "/Library/Frameworks/Python.framework/Versions/3.13/lib/python3.13/site-packages/twisted/internet/defer.py:1088:_runCallbacks\n",
      "/Library/Frameworks/Python.framework/Versions/3.13/lib/python3.13/site-packages/scrapy/pipelines/files.py:627:media_failed\n",
      "]\n",
      "NoneType: None\n",
      "2025-03-02 22:34:41 [urllib3.connectionpool] DEBUG: Starting new HTTPS connection (1): upload.wikimedia.org:443\n"
     ]
    },
    {
     "name": "stdout",
     "output_type": "stream",
     "text": [
      "error: 403\n"
     ]
    },
    {
     "name": "stderr",
     "output_type": "stream",
     "text": [
      "2025-03-02 22:34:41 [urllib3.connectionpool] DEBUG: https://upload.wikimedia.org:443 \"GET /wikipedia/en/thumb/7/77/Diamonds_Are_Forever_-_UK_cinema_poster.jpg/220px-Diamonds_Are_Forever_-_UK_cinema_poster.jpg HTTP/1.1\" 403 2184\n",
      "2025-03-02 22:34:41 [scrapy.core.scraper] DEBUG: Scraped from <200 https://en.wikipedia.org/wiki/Diamonds_Are_Forever_(film)>\n",
      "{'box_office': 116000000.0,\n",
      " 'countries': ['United Kingdom', 'United States'],\n",
      " 'directors': ['Guy Hamilton'],\n",
      " 'image_urls': ['https://upload.wikimedia.org/wikipedia/en/thumb/7/77/Diamonds_Are_Forever_-_UK_cinema_poster.jpg/220px-Diamonds_Are_Forever_-_UK_cinema_poster.jpg'],\n",
      " 'images': [],\n",
      " 'title': 'Diamonds Are Forever',\n",
      " 'year': 1971}\n",
      "2025-03-02 22:34:41 [scrapy.core.scraper] DEBUG: Scraped from <200 https://en.wikipedia.org/wiki/The_French_Connection_(film)>\n",
      "{'box_office': 75000000.0,\n",
      " 'countries': ['United States'],\n",
      " 'directors': ['William Friedkin'],\n",
      " 'image_urls': ['https://upload.wikimedia.org/wikipedia/en/thumb/b/b8/TheFrenchConnection.jpg/220px-TheFrenchConnection.jpg'],\n",
      " 'images': [],\n",
      " 'title': 'The French Connection',\n",
      " 'year': 1971}\n",
      "2025-03-02 22:34:41 [scrapy.core.scraper] DEBUG: Scraped from <200 https://en.wikipedia.org/wiki/Fiddler_on_the_Roof_(film)>\n",
      "{'box_office': 83300000.0,\n",
      " 'countries': ['United States'],\n",
      " 'directors': ['Norman Jewison'],\n",
      " 'image_urls': ['https://upload.wikimedia.org/wikipedia/en/thumb/5/5e/Fiddler_on_the_roof.jpg/220px-Fiddler_on_the_roof.jpg'],\n",
      " 'images': [],\n",
      " 'title': 'Fiddler on the Roof',\n",
      " 'year': 1971}\n",
      "2025-03-02 22:34:41 [urllib3.connectionpool] DEBUG: Starting new HTTPS connection (1): upload.wikimedia.org:443\n"
     ]
    },
    {
     "name": "stdout",
     "output_type": "stream",
     "text": [
      "error: 403\n"
     ]
    },
    {
     "name": "stderr",
     "output_type": "stream",
     "text": [
      "2025-03-02 22:34:41 [urllib3.connectionpool] DEBUG: https://upload.wikimedia.org:443 \"GET /wikipedia/en/thumb/b/b7/Love_Story_%281970_film%29.jpg/220px-Love_Story_%281970_film%29.jpg HTTP/1.1\" 200 20037\n",
      "2025-03-02 22:34:41 [urllib3.connectionpool] DEBUG: Starting new HTTPS connection (1): upload.wikimedia.org:443\n"
     ]
    },
    {
     "name": "stdout",
     "output_type": "stream",
     "text": [
      "saved in images/Love_Story/Love_Story.jpg\n",
      "erroe: \n"
     ]
    },
    {
     "name": "stderr",
     "output_type": "stream",
     "text": [
      "2025-03-02 22:34:42 [urllib3.connectionpool] DEBUG: https://upload.wikimedia.org:443 \"GET /wikipedia/en/thumb/f/fd/Butch_sundance_poster.jpg/220px-Butch_sundance_poster.jpg HTTP/1.1\" 200 29846\n",
      "2025-03-02 22:34:42 [urllib3.connectionpool] DEBUG: Starting new HTTPS connection (1): upload.wikimedia.org:443\n"
     ]
    },
    {
     "name": "stdout",
     "output_type": "stream",
     "text": [
      "saved in images/Butch_Cassidy_and_the_Sundance_Kid/Butch_Cassidy_and_the_Sundance_Kid.jpg\n",
      "erroe: \n"
     ]
    },
    {
     "name": "stderr",
     "output_type": "stream",
     "text": [
      "2025-03-02 22:34:42 [urllib3.connectionpool] DEBUG: https://upload.wikimedia.org:443 \"GET /wikipedia/en/1/1c/Godfather_ver1.jpg HTTP/1.1\" 200 33203\n",
      "2025-03-02 22:34:42 [scrapy.pipelines.media] ERROR: [Failure instance: Traceback: <class 'scrapy.pipelines.files.FileException'>: \n",
      "/Library/Frameworks/Python.framework/Versions/3.13/lib/python3.13/site-packages/twisted/internet/defer.py:1088:_runCallbacks\n",
      "/Library/Frameworks/Python.framework/Versions/3.13/lib/python3.13/site-packages/scrapy/pipelines/files.py:627:media_failed\n",
      "]\n",
      "NoneType: None\n",
      "2025-03-02 22:34:42 [scrapy.core.engine] DEBUG: Crawled (200) <GET https://en.wikipedia.org/wiki/Puss_in_Boots_(2011_film)> (referer: https://en.wikipedia.org/wiki/List_of_highest-grossing_films)\n",
      "2025-03-02 22:34:42 [scrapy.core.scraper] DEBUG: Scraped from <200 https://en.wikipedia.org/wiki/Love_Story_(1970_film)>\n",
      "{'box_office': 173400000.0,\n",
      " 'countries': ['United States'],\n",
      " 'directors': ['Arthur Hiller'],\n",
      " 'image_urls': ['https://upload.wikimedia.org/wikipedia/en/thumb/b/b7/Love_Story_%281970_film%29.jpg/220px-Love_Story_%281970_film%29.jpg'],\n",
      " 'images': [],\n",
      " 'title': 'Love Story',\n",
      " 'year': 1970}\n",
      "2025-03-02 22:34:42 [scrapy.core.scraper] DEBUG: Scraped from <200 https://en.wikipedia.org/wiki/Butch_Cassidy_and_the_Sundance_Kid>\n",
      "{'box_office': 102300000.0,\n",
      " 'countries': ['United States'],\n",
      " 'directors': ['George Roy Hill'],\n",
      " 'image_urls': ['https://upload.wikimedia.org/wikipedia/en/thumb/f/fd/Butch_sundance_poster.jpg/220px-Butch_sundance_poster.jpg'],\n",
      " 'images': [],\n",
      " 'title': 'Butch Cassidy and the Sundance Kid',\n",
      " 'year': 1969}\n",
      "2025-03-02 22:34:42 [scrapy.core.scraper] DEBUG: Scraped from <200 https://en.wikipedia.org/wiki/The_Godfather>\n",
      "{'box_office': 250000000.0,\n",
      " 'countries': ['United States'],\n",
      " 'directors': ['Francis Ford Coppola'],\n",
      " 'image_urls': ['https://upload.wikimedia.org/wikipedia/en/1/1c/Godfather_ver1.jpg'],\n",
      " 'images': [],\n",
      " 'title': 'The Godfather',\n",
      " 'year': 1972}\n",
      "2025-03-02 22:34:42 [urllib3.connectionpool] DEBUG: Starting new HTTPS connection (1): upload.wikimedia.org:443\n"
     ]
    },
    {
     "name": "stdout",
     "output_type": "stream",
     "text": [
      "saved in images/The_Godfather/The_Godfather.jpg\n",
      "erroe: \n"
     ]
    },
    {
     "name": "stderr",
     "output_type": "stream",
     "text": [
      "2025-03-02 22:34:42 [urllib3.connectionpool] DEBUG: https://upload.wikimedia.org:443 \"GET /wikipedia/en/4/49/The_Twilight_Saga_Breaking_Dawn_Part_2_poster.jpg HTTP/1.1\" 200 150815\n",
      "2025-03-02 22:34:43 [scrapy.core.scraper] DEBUG: Scraped from <200 https://en.wikipedia.org/wiki/The_Twilight_Saga:_Breaking_Dawn_%E2%80%93_Part_2>\n",
      "{'box_office': 848600000.0,\n",
      " 'countries': ['United States'],\n",
      " 'directors': ['Bill Condon'],\n",
      " 'image_urls': ['https://upload.wikimedia.org/wikipedia/en/4/49/The_Twilight_Saga_Breaking_Dawn_Part_2_poster.jpg'],\n",
      " 'images': [],\n",
      " 'title': 'The Twilight Saga:',\n",
      " 'year': 2012}\n",
      "2025-03-02 22:34:43 [scrapy.pipelines.media] ERROR: [Failure instance: Traceback: <class 'scrapy.pipelines.files.FileException'>: \n",
      "/Library/Frameworks/Python.framework/Versions/3.13/lib/python3.13/site-packages/twisted/internet/defer.py:1088:_runCallbacks\n",
      "/Library/Frameworks/Python.framework/Versions/3.13/lib/python3.13/site-packages/scrapy/pipelines/files.py:627:media_failed\n",
      "]\n",
      "NoneType: None\n"
     ]
    },
    {
     "name": "stdout",
     "output_type": "stream",
     "text": [
      "saved in images/The_Twilight_Saga:/The_Twilight_Saga:.jpg\n",
      "erroe: \n"
     ]
    },
    {
     "name": "stderr",
     "output_type": "stream",
     "text": [
      "2025-03-02 22:34:43 [scrapy.pipelines.media] ERROR: [Failure instance: Traceback: <class 'scrapy.pipelines.files.FileException'>: \n",
      "/Library/Frameworks/Python.framework/Versions/3.13/lib/python3.13/site-packages/twisted/internet/defer.py:1088:_runCallbacks\n",
      "/Library/Frameworks/Python.framework/Versions/3.13/lib/python3.13/site-packages/scrapy/pipelines/files.py:627:media_failed\n",
      "]\n",
      "NoneType: None\n",
      "2025-03-02 22:34:43 [scrapy.pipelines.media] ERROR: [Failure instance: Traceback: <class 'scrapy.pipelines.files.FileException'>: \n",
      "/Library/Frameworks/Python.framework/Versions/3.13/lib/python3.13/site-packages/twisted/internet/defer.py:1088:_runCallbacks\n",
      "/Library/Frameworks/Python.framework/Versions/3.13/lib/python3.13/site-packages/scrapy/pipelines/files.py:627:media_failed\n",
      "]\n",
      "NoneType: None\n",
      "2025-03-02 22:34:43 [scrapy.pipelines.media] ERROR: [Failure instance: Traceback: <class 'scrapy.pipelines.files.FileException'>: \n",
      "/Library/Frameworks/Python.framework/Versions/3.13/lib/python3.13/site-packages/twisted/internet/defer.py:1088:_runCallbacks\n",
      "/Library/Frameworks/Python.framework/Versions/3.13/lib/python3.13/site-packages/scrapy/pipelines/files.py:627:media_failed\n",
      "]\n",
      "NoneType: None\n",
      "2025-03-02 22:34:43 [scrapy.pipelines.media] ERROR: [Failure instance: Traceback: <class 'scrapy.pipelines.files.FileException'>: \n",
      "/Library/Frameworks/Python.framework/Versions/3.13/lib/python3.13/site-packages/twisted/internet/defer.py:1088:_runCallbacks\n",
      "/Library/Frameworks/Python.framework/Versions/3.13/lib/python3.13/site-packages/scrapy/pipelines/files.py:627:media_failed\n",
      "]\n",
      "NoneType: None\n",
      "2025-03-02 22:34:43 [scrapy.pipelines.media] ERROR: [Failure instance: Traceback: <class 'scrapy.pipelines.files.FileException'>: \n",
      "/Library/Frameworks/Python.framework/Versions/3.13/lib/python3.13/site-packages/twisted/internet/defer.py:1088:_runCallbacks\n",
      "/Library/Frameworks/Python.framework/Versions/3.13/lib/python3.13/site-packages/scrapy/pipelines/files.py:627:media_failed\n",
      "]\n",
      "NoneType: None\n",
      "2025-03-02 22:34:43 [scrapy.pipelines.media] ERROR: [Failure instance: Traceback: <class 'scrapy.pipelines.files.FileException'>: \n",
      "/Library/Frameworks/Python.framework/Versions/3.13/lib/python3.13/site-packages/twisted/internet/defer.py:1088:_runCallbacks\n",
      "/Library/Frameworks/Python.framework/Versions/3.13/lib/python3.13/site-packages/scrapy/pipelines/files.py:627:media_failed\n",
      "]\n",
      "NoneType: None\n",
      "2025-03-02 22:34:43 [urllib3.connectionpool] DEBUG: Starting new HTTPS connection (1): upload.wikimedia.org:443\n",
      "2025-03-02 22:34:43 [urllib3.connectionpool] DEBUG: https://upload.wikimedia.org:443 \"GET /wikipedia/en/9/93/The_Twilight_Saga-_New_Moon_poster.JPG HTTP/1.1\" 200 96083\n",
      "2025-03-02 22:34:43 [urllib3.connectionpool] DEBUG: Starting new HTTPS connection (1): upload.wikimedia.org:443\n"
     ]
    },
    {
     "name": "stdout",
     "output_type": "stream",
     "text": [
      "saved in images/The_Twilight_Saga:/The_Twilight_Saga:.JPG\n",
      "erroe: \n"
     ]
    },
    {
     "name": "stderr",
     "output_type": "stream",
     "text": [
      "2025-03-02 22:34:43 [urllib3.connectionpool] DEBUG: https://upload.wikimedia.org:443 \"GET /wikipedia/en/thumb/b/b6/Twilight_%282008_film%29_poster.jpg/220px-Twilight_%282008_film%29_poster.jpg HTTP/1.1\" 200 15919\n",
      "2025-03-02 22:34:43 [urllib3.connectionpool] DEBUG: Starting new HTTPS connection (1): upload.wikimedia.org:443\n"
     ]
    },
    {
     "name": "stdout",
     "output_type": "stream",
     "text": [
      "saved in images/Twilight/Twilight.jpg\n",
      "erroe: \n"
     ]
    },
    {
     "name": "stderr",
     "output_type": "stream",
     "text": [
      "2025-03-02 22:34:44 [urllib3.connectionpool] DEBUG: https://upload.wikimedia.org:443 \"GET /wikipedia/en/thumb/0/0b/Mufasa_The_Lion_King_Movie_2024.jpeg/220px-Mufasa_The_Lion_King_Movie_2024.jpeg HTTP/1.1\" 200 31343\n",
      "2025-03-02 22:34:44 [urllib3.connectionpool] DEBUG: Starting new HTTPS connection (1): upload.wikimedia.org:443\n"
     ]
    },
    {
     "name": "stdout",
     "output_type": "stream",
     "text": [
      "saved in images/Mufasa:_The_Lion_King/Mufasa:_The_Lion_King.jpeg\n",
      "erroe: \n"
     ]
    },
    {
     "name": "stderr",
     "output_type": "stream",
     "text": [
      "2025-03-02 22:34:44 [urllib3.connectionpool] DEBUG: https://upload.wikimedia.org:443 \"GET /wikipedia/en/9/9d/Disney_The_Lion_King_2019.jpg HTTP/1.1\" 200 99480\n",
      "2025-03-02 22:34:44 [urllib3.connectionpool] DEBUG: Starting new HTTPS connection (1): upload.wikimedia.org:443\n"
     ]
    },
    {
     "name": "stdout",
     "output_type": "stream",
     "text": [
      "saved in images/The_Lion_King/The_Lion_King.jpg\n",
      "erroe: \n"
     ]
    },
    {
     "name": "stderr",
     "output_type": "stream",
     "text": [
      "2025-03-02 22:34:45 [urllib3.connectionpool] DEBUG: https://upload.wikimedia.org:443 \"GET /wikipedia/en/thumb/d/d7/Eclipse_Theatrical_One-Sheet.jpg/220px-Eclipse_Theatrical_One-Sheet.jpg HTTP/1.1\" 200 14662\n",
      "2025-03-02 22:34:45 [urllib3.connectionpool] DEBUG: Starting new HTTPS connection (1): upload.wikimedia.org:443\n"
     ]
    },
    {
     "name": "stdout",
     "output_type": "stream",
     "text": [
      "saved in images/The_Twilight_Saga:_Eclipse/The_Twilight_Saga:_Eclipse.jpg\n",
      "erroe: \n"
     ]
    },
    {
     "name": "stderr",
     "output_type": "stream",
     "text": [
      "2025-03-02 22:34:45 [urllib3.connectionpool] DEBUG: https://upload.wikimedia.org:443 \"GET /wikipedia/en/thumb/c/c2/Breaking_Dawn_Part_1_Poster.jpg/220px-Breaking_Dawn_Part_1_Poster.jpg HTTP/1.1\" 403 2184\n",
      "2025-03-02 22:34:45 [urllib3.connectionpool] DEBUG: Starting new HTTPS connection (1): upload.wikimedia.org:443\n"
     ]
    },
    {
     "name": "stdout",
     "output_type": "stream",
     "text": [
      "error: 403\n"
     ]
    },
    {
     "name": "stderr",
     "output_type": "stream",
     "text": [
      "2025-03-02 22:34:45 [urllib3.connectionpool] DEBUG: https://upload.wikimedia.org:443 \"GET /wikipedia/en/thumb/7/78/Puss_in_Boots_The_Last_Wish_poster.jpg/220px-Puss_in_Boots_The_Last_Wish_poster.jpg HTTP/1.1\" 200 28615\n",
      "2025-03-02 22:34:45 [scrapy.core.scraper] DEBUG: Scraped from <200 https://en.wikipedia.org/wiki/The_Twilight_Saga:_New_Moon>\n",
      "{'box_office': 711000000.0,\n",
      " 'countries': ['United States'],\n",
      " 'directors': ['Chris Weitz'],\n",
      " 'image_urls': ['https://upload.wikimedia.org/wikipedia/en/9/93/The_Twilight_Saga-_New_Moon_poster.JPG'],\n",
      " 'images': [],\n",
      " 'title': 'The Twilight Saga:',\n",
      " 'year': 2009}\n",
      "2025-03-02 22:34:45 [scrapy.core.scraper] DEBUG: Scraped from <200 https://en.wikipedia.org/wiki/Twilight_(2008_film)>\n",
      "{'box_office': 408400000.0,\n",
      " 'countries': ['United States'],\n",
      " 'directors': ['Catherine Hardwicke'],\n",
      " 'image_urls': ['https://upload.wikimedia.org/wikipedia/en/thumb/b/b6/Twilight_%282008_film%29_poster.jpg/220px-Twilight_%282008_film%29_poster.jpg'],\n",
      " 'images': [],\n",
      " 'title': 'Twilight',\n",
      " 'year': 2008}\n",
      "2025-03-02 22:34:45 [scrapy.core.scraper] DEBUG: Scraped from <200 https://en.wikipedia.org/wiki/Mufasa:_The_Lion_King>\n",
      "{'box_office': 702200000.0,\n",
      " 'countries': ['United States'],\n",
      " 'directors': ['Barry Jenkins'],\n",
      " 'image_urls': ['https://upload.wikimedia.org/wikipedia/en/thumb/0/0b/Mufasa_The_Lion_King_Movie_2024.jpeg/220px-Mufasa_The_Lion_King_Movie_2024.jpeg'],\n",
      " 'images': [],\n",
      " 'title': 'Mufasa: The Lion King',\n",
      " 'year': 2024}\n",
      "2025-03-02 22:34:45 [scrapy.core.scraper] DEBUG: Scraped from <200 https://en.wikipedia.org/wiki/The_Lion_King_(2019_film)>\n",
      "{'box_office': 1657000000.0,\n",
      " 'countries': ['United States'],\n",
      " 'directors': ['Jon Favreau'],\n",
      " 'image_urls': ['https://upload.wikimedia.org/wikipedia/en/9/9d/Disney_The_Lion_King_2019.jpg'],\n",
      " 'images': [],\n",
      " 'title': 'The Lion King',\n",
      " 'year': 2019}\n",
      "2025-03-02 22:34:45 [scrapy.core.scraper] DEBUG: Scraped from <200 https://en.wikipedia.org/wiki/The_Twilight_Saga:_Eclipse>\n",
      "{'box_office': 698400000.0,\n",
      " 'countries': ['United States'],\n",
      " 'directors': ['David Slade'],\n",
      " 'image_urls': ['https://upload.wikimedia.org/wikipedia/en/thumb/d/d7/Eclipse_Theatrical_One-Sheet.jpg/220px-Eclipse_Theatrical_One-Sheet.jpg'],\n",
      " 'images': [],\n",
      " 'title': 'The Twilight Saga: Eclipse',\n",
      " 'year': 2010}\n",
      "2025-03-02 22:34:45 [scrapy.core.scraper] DEBUG: Scraped from <200 https://en.wikipedia.org/wiki/The_Twilight_Saga:_Breaking_Dawn_%E2%80%93_Part_1>\n",
      "{'box_office': 712200000.0,\n",
      " 'countries': ['United States'],\n",
      " 'directors': ['Bill Condon'],\n",
      " 'image_urls': ['https://upload.wikimedia.org/wikipedia/en/thumb/c/c2/Breaking_Dawn_Part_1_Poster.jpg/220px-Breaking_Dawn_Part_1_Poster.jpg'],\n",
      " 'images': [],\n",
      " 'title': 'The Twilight Saga:',\n",
      " 'year': 2011}\n",
      "2025-03-02 22:34:45 [scrapy.core.scraper] DEBUG: Scraped from <200 https://en.wikipedia.org/wiki/Puss_in_Boots:_The_Last_Wish>\n",
      "{'box_office': 485300000.0,\n",
      " 'countries': ['United States'],\n",
      " 'directors': ['Joel Crawford'],\n",
      " 'image_urls': ['https://upload.wikimedia.org/wikipedia/en/thumb/7/78/Puss_in_Boots_The_Last_Wish_poster.jpg/220px-Puss_in_Boots_The_Last_Wish_poster.jpg'],\n",
      " 'images': [],\n",
      " 'title': 'Puss in Boots: The Last Wish',\n",
      " 'year': 2022}\n",
      "2025-03-02 22:34:45 [scrapy.pipelines.media] ERROR: [Failure instance: Traceback: <class 'scrapy.pipelines.files.FileException'>: \n",
      "/Library/Frameworks/Python.framework/Versions/3.13/lib/python3.13/site-packages/twisted/internet/defer.py:1088:_runCallbacks\n",
      "/Library/Frameworks/Python.framework/Versions/3.13/lib/python3.13/site-packages/scrapy/pipelines/files.py:627:media_failed\n",
      "]\n",
      "NoneType: None\n",
      "2025-03-02 22:34:45 [urllib3.connectionpool] DEBUG: Starting new HTTPS connection (1): upload.wikimedia.org:443\n"
     ]
    },
    {
     "name": "stdout",
     "output_type": "stream",
     "text": [
      "saved in images/Puss_in_Boots:_The_Last_Wish/Puss_in_Boots:_The_Last_Wish.jpg\n",
      "erroe: \n"
     ]
    },
    {
     "name": "stderr",
     "output_type": "stream",
     "text": [
      "2025-03-02 22:34:46 [urllib3.connectionpool] DEBUG: https://upload.wikimedia.org:443 \"GET /wikipedia/en/thumb/2/2a/Puss_in_Boots_%282011_animated_feature_film%29.jpg/220px-Puss_in_Boots_%282011_animated_feature_film%29.jpg HTTP/1.1\" 200 17901\n",
      "2025-03-02 22:34:46 [scrapy.core.engine] DEBUG: Crawled (200) <GET https://en.wikipedia.org/wiki/Mission:_Impossible_III> (referer: https://en.wikipedia.org/wiki/List_of_highest-grossing_films)\n",
      "2025-03-02 22:34:46 [scrapy.core.engine] DEBUG: Crawled (200) <GET https://en.wikipedia.org/wiki/Shrek_Forever_After> (referer: https://en.wikipedia.org/wiki/List_of_highest-grossing_films)\n",
      "2025-03-02 22:34:46 [scrapy.core.engine] DEBUG: Crawled (200) <GET https://en.wikipedia.org/wiki/Mission:_Impossible_(film)> (referer: https://en.wikipedia.org/wiki/List_of_highest-grossing_films)\n",
      "2025-03-02 22:34:46 [scrapy.core.engine] DEBUG: Crawled (200) <GET https://en.wikipedia.org/wiki/Shrek_the_Third> (referer: https://en.wikipedia.org/wiki/List_of_highest-grossing_films)\n",
      "2025-03-02 22:34:46 [scrapy.core.scraper] DEBUG: Scraped from <200 https://en.wikipedia.org/wiki/Puss_in_Boots_(2011_film)>\n",
      "{'box_office': 555000000.0,\n",
      " 'countries': ['United States'],\n",
      " 'directors': ['Chris Miller'],\n",
      " 'image_urls': ['https://upload.wikimedia.org/wikipedia/en/thumb/2/2a/Puss_in_Boots_%282011_animated_feature_film%29.jpg/220px-Puss_in_Boots_%282011_animated_feature_film%29.jpg'],\n",
      " 'images': [],\n",
      " 'title': 'Puss in Boots',\n",
      " 'year': 2011}\n",
      "2025-03-02 22:34:46 [scrapy.core.engine] DEBUG: Crawled (200) <GET https://en.wikipedia.org/wiki/Mission:_Impossible_%E2%80%93_Rogue_Nation> (referer: https://en.wikipedia.org/wiki/List_of_highest-grossing_films)\n",
      "2025-03-02 22:34:46 [scrapy.core.engine] DEBUG: Crawled (200) <GET https://en.wikipedia.org/wiki/Shrek> (referer: https://en.wikipedia.org/wiki/List_of_highest-grossing_films)\n",
      "2025-03-02 22:34:46 [scrapy.core.engine] DEBUG: Crawled (200) <GET https://en.wikipedia.org/wiki/Mission:_Impossible_%E2%80%93_Ghost_Protocol> (referer: https://en.wikipedia.org/wiki/List_of_highest-grossing_films)\n",
      "2025-03-02 22:34:46 [scrapy.core.engine] DEBUG: Crawled (200) <GET https://en.wikipedia.org/wiki/Mission:_Impossible_%E2%80%93_Dead_Reckoning_Part_One> (referer: https://en.wikipedia.org/wiki/List_of_highest-grossing_films)\n",
      "2025-03-02 22:34:46 [scrapy.pipelines.media] ERROR: [Failure instance: Traceback: <class 'scrapy.pipelines.files.FileException'>: \n",
      "/Library/Frameworks/Python.framework/Versions/3.13/lib/python3.13/site-packages/twisted/internet/defer.py:1088:_runCallbacks\n",
      "/Library/Frameworks/Python.framework/Versions/3.13/lib/python3.13/site-packages/scrapy/pipelines/files.py:627:media_failed\n",
      "]\n",
      "NoneType: None\n",
      "2025-03-02 22:34:46 [scrapy.core.engine] DEBUG: Crawled (200) <GET https://en.wikipedia.org/wiki/Bumblebee_(film)> (referer: https://en.wikipedia.org/wiki/List_of_highest-grossing_films)\n",
      "2025-03-02 22:34:46 [urllib3.connectionpool] DEBUG: Starting new HTTPS connection (1): upload.wikimedia.org:443\n"
     ]
    },
    {
     "name": "stdout",
     "output_type": "stream",
     "text": [
      "saved in images/Puss_in_Boots/Puss_in_Boots.jpg\n",
      "erroe: \n"
     ]
    },
    {
     "name": "stderr",
     "output_type": "stream",
     "text": [
      "2025-03-02 22:34:46 [urllib3.connectionpool] DEBUG: https://upload.wikimedia.org:443 \"GET /wikipedia/en/thumb/b/bc/Mission_Impossible_III.jpg/220px-Mission_Impossible_III.jpg HTTP/1.1\" 200 25762\n",
      "2025-03-02 22:34:46 [scrapy.core.engine] DEBUG: Crawled (200) <GET https://en.wikipedia.org/wiki/Transformers_One> (referer: https://en.wikipedia.org/wiki/List_of_highest-grossing_films)\n",
      "2025-03-02 22:34:46 [scrapy.core.engine] DEBUG: Crawled (200) <GET https://en.wikipedia.org/wiki/The_Transformers:_The_Movie> (referer: https://en.wikipedia.org/wiki/List_of_highest-grossing_films)\n",
      "2025-03-02 22:34:46 [scrapy.core.engine] DEBUG: Crawled (200) <GET https://en.wikipedia.org/wiki/Pirates_of_the_Caribbean:_On_Stranger_Tides> (referer: https://en.wikipedia.org/wiki/List_of_highest-grossing_films)\n",
      "2025-03-02 22:34:46 [scrapy.core.engine] DEBUG: Crawled (200) <GET https://en.wikipedia.org/wiki/Pirates_of_the_Caribbean:_The_Curse_of_the_Black_Pearl> (referer: https://en.wikipedia.org/wiki/List_of_highest-grossing_films)\n",
      "2025-03-02 22:34:46 [scrapy.core.engine] DEBUG: Crawled (200) <GET https://en.wikipedia.org/wiki/Transformers:_Rise_of_the_Beasts> (referer: https://en.wikipedia.org/wiki/List_of_highest-grossing_films)\n",
      "2025-03-02 22:34:46 [scrapy.core.scraper] DEBUG: Scraped from <200 https://en.wikipedia.org/wiki/Mission:_Impossible_III>\n",
      "{'box_office': 399400000.0,\n",
      " 'countries': ['United States'],\n",
      " 'directors': ['J. J. Abrams'],\n",
      " 'image_urls': ['https://upload.wikimedia.org/wikipedia/en/thumb/b/bc/Mission_Impossible_III.jpg/220px-Mission_Impossible_III.jpg'],\n",
      " 'images': [],\n",
      " 'title': 'Mission: Impossible III',\n",
      " 'year': 2006}\n",
      "2025-03-02 22:34:46 [scrapy.core.engine] DEBUG: Crawled (200) <GET https://en.wikipedia.org/wiki/Mission:_Impossible_%E2%80%93_Fallout> (referer: https://en.wikipedia.org/wiki/List_of_highest-grossing_films)\n",
      "2025-03-02 22:34:46 [scrapy.core.engine] DEBUG: Crawled (200) <GET https://en.wikipedia.org/wiki/Pirates_of_the_Caribbean:_Dead_Men_Tell_No_Tales> (referer: https://en.wikipedia.org/wiki/List_of_highest-grossing_films)\n",
      "2025-03-02 22:34:46 [scrapy.pipelines.media] ERROR: [Failure instance: Traceback: <class 'scrapy.pipelines.files.FileException'>: \n",
      "/Library/Frameworks/Python.framework/Versions/3.13/lib/python3.13/site-packages/twisted/internet/defer.py:1088:_runCallbacks\n",
      "/Library/Frameworks/Python.framework/Versions/3.13/lib/python3.13/site-packages/scrapy/pipelines/files.py:627:media_failed\n",
      "]\n",
      "NoneType: None\n",
      "2025-03-02 22:34:46 [scrapy.pipelines.media] ERROR: [Failure instance: Traceback: <class 'scrapy.pipelines.files.FileException'>: \n",
      "/Library/Frameworks/Python.framework/Versions/3.13/lib/python3.13/site-packages/twisted/internet/defer.py:1088:_runCallbacks\n",
      "/Library/Frameworks/Python.framework/Versions/3.13/lib/python3.13/site-packages/scrapy/pipelines/files.py:627:media_failed\n",
      "]\n",
      "NoneType: None\n",
      "2025-03-02 22:34:46 [urllib3.connectionpool] DEBUG: Starting new HTTPS connection (1): upload.wikimedia.org:443\n"
     ]
    },
    {
     "name": "stdout",
     "output_type": "stream",
     "text": [
      "saved in images/Mission:_Impossible_III/Mission:_Impossible_III.jpg\n",
      "erroe: \n"
     ]
    },
    {
     "name": "stderr",
     "output_type": "stream",
     "text": [
      "2025-03-02 22:34:47 [urllib3.connectionpool] DEBUG: https://upload.wikimedia.org:443 \"GET /wikipedia/en/thumb/e/e1/MissionImpossiblePoster.jpg/220px-MissionImpossiblePoster.jpg HTTP/1.1\" 200 24450\n",
      "2025-03-02 22:34:47 [scrapy.pipelines.media] ERROR: [Failure instance: Traceback: <class 'scrapy.pipelines.files.FileException'>: \n",
      "/Library/Frameworks/Python.framework/Versions/3.13/lib/python3.13/site-packages/twisted/internet/defer.py:1088:_runCallbacks\n",
      "/Library/Frameworks/Python.framework/Versions/3.13/lib/python3.13/site-packages/scrapy/pipelines/files.py:627:media_failed\n",
      "]\n",
      "NoneType: None\n",
      "2025-03-02 22:34:47 [scrapy.pipelines.media] ERROR: [Failure instance: Traceback: <class 'scrapy.pipelines.files.FileException'>: \n",
      "/Library/Frameworks/Python.framework/Versions/3.13/lib/python3.13/site-packages/twisted/internet/defer.py:1088:_runCallbacks\n",
      "/Library/Frameworks/Python.framework/Versions/3.13/lib/python3.13/site-packages/scrapy/pipelines/files.py:627:media_failed\n",
      "]\n",
      "NoneType: None\n",
      "2025-03-02 22:34:47 [scrapy.pipelines.media] ERROR: [Failure instance: Traceback: <class 'scrapy.pipelines.files.FileException'>: \n",
      "/Library/Frameworks/Python.framework/Versions/3.13/lib/python3.13/site-packages/twisted/internet/defer.py:1088:_runCallbacks\n",
      "/Library/Frameworks/Python.framework/Versions/3.13/lib/python3.13/site-packages/scrapy/pipelines/files.py:627:media_failed\n",
      "]\n",
      "NoneType: None\n",
      "2025-03-02 22:34:47 [scrapy.pipelines.media] ERROR: [Failure instance: Traceback: <class 'scrapy.pipelines.files.FileException'>: \n",
      "/Library/Frameworks/Python.framework/Versions/3.13/lib/python3.13/site-packages/twisted/internet/defer.py:1088:_runCallbacks\n",
      "/Library/Frameworks/Python.framework/Versions/3.13/lib/python3.13/site-packages/scrapy/pipelines/files.py:627:media_failed\n",
      "]\n",
      "NoneType: None\n",
      "2025-03-02 22:34:47 [scrapy.pipelines.media] ERROR: [Failure instance: Traceback: <class 'scrapy.pipelines.files.FileException'>: \n",
      "/Library/Frameworks/Python.framework/Versions/3.13/lib/python3.13/site-packages/twisted/internet/defer.py:1088:_runCallbacks\n",
      "/Library/Frameworks/Python.framework/Versions/3.13/lib/python3.13/site-packages/scrapy/pipelines/files.py:627:media_failed\n",
      "]\n",
      "NoneType: None\n",
      "2025-03-02 22:34:47 [scrapy.pipelines.media] ERROR: [Failure instance: Traceback: <class 'scrapy.pipelines.files.FileException'>: \n",
      "/Library/Frameworks/Python.framework/Versions/3.13/lib/python3.13/site-packages/twisted/internet/defer.py:1088:_runCallbacks\n",
      "/Library/Frameworks/Python.framework/Versions/3.13/lib/python3.13/site-packages/scrapy/pipelines/files.py:627:media_failed\n",
      "]\n",
      "NoneType: None\n",
      "2025-03-02 22:34:47 [urllib3.connectionpool] DEBUG: Starting new HTTPS connection (1): upload.wikimedia.org:443\n"
     ]
    },
    {
     "name": "stdout",
     "output_type": "stream",
     "text": [
      "saved in images/Mission:_Impossible/Mission:_Impossible.jpg\n",
      "erroe: \n"
     ]
    },
    {
     "name": "stderr",
     "output_type": "stream",
     "text": [
      "2025-03-02 22:34:47 [urllib3.connectionpool] DEBUG: https://upload.wikimedia.org:443 \"GET /wikipedia/en/thumb/7/77/Bumblebee_%28film%29_poster.png/220px-Bumblebee_%28film%29_poster.png HTTP/1.1\" 200 133993\n",
      "2025-03-02 22:34:47 [urllib3.connectionpool] DEBUG: Starting new HTTPS connection (1): upload.wikimedia.org:443\n"
     ]
    },
    {
     "name": "stdout",
     "output_type": "stream",
     "text": [
      "saved in images/Bumblebee/Bumblebee.png\n",
      "erroe: \n"
     ]
    },
    {
     "name": "stderr",
     "output_type": "stream",
     "text": [
      "2025-03-02 22:34:48 [urllib3.connectionpool] DEBUG: https://upload.wikimedia.org:443 \"GET /wikipedia/en/thumb/7/70/Shrek_Forever_After_%282010_animated_feature_film%29.jpg/220px-Shrek_Forever_After_%282010_animated_feature_film%29.jpg HTTP/1.1\" 200 27758\n",
      "2025-03-02 22:34:48 [scrapy.core.scraper] DEBUG: Scraped from <200 https://en.wikipedia.org/wiki/Shrek_Forever_After>\n",
      "{'box_office': 756200000.0,\n",
      " 'countries': ['United States'],\n",
      " 'directors': ['Mike Mitchell'],\n",
      " 'image_urls': ['https://upload.wikimedia.org/wikipedia/en/thumb/7/70/Shrek_Forever_After_%282010_animated_feature_film%29.jpg/220px-Shrek_Forever_After_%282010_animated_feature_film%29.jpg'],\n",
      " 'images': [],\n",
      " 'title': 'Shrek Forever After',\n",
      " 'year': 2010}\n",
      "2025-03-02 22:34:48 [scrapy.core.scraper] DEBUG: Scraped from <200 https://en.wikipedia.org/wiki/Mission:_Impossible_(film)>\n",
      "{'box_office': 457700000.0,\n",
      " 'countries': ['United States'],\n",
      " 'directors': ['Brian De Palma'],\n",
      " 'image_urls': ['https://upload.wikimedia.org/wikipedia/en/thumb/e/e1/MissionImpossiblePoster.jpg/220px-MissionImpossiblePoster.jpg'],\n",
      " 'images': [],\n",
      " 'title': 'Mission: Impossible',\n",
      " 'year': 1996}\n",
      "2025-03-02 22:34:48 [urllib3.connectionpool] DEBUG: Starting new HTTPS connection (1): upload.wikimedia.org:443\n"
     ]
    },
    {
     "name": "stdout",
     "output_type": "stream",
     "text": [
      "saved in images/Shrek_Forever_After/Shrek_Forever_After.jpg\n",
      "erroe: \n"
     ]
    },
    {
     "name": "stderr",
     "output_type": "stream",
     "text": [
      "2025-03-02 22:34:48 [urllib3.connectionpool] DEBUG: https://upload.wikimedia.org:443 \"GET /wikipedia/en/2/22/Shrek_the_Third_%282007_animated_feature_film%29.jpg HTTP/1.1\" 200 122125\n",
      "2025-03-02 22:34:48 [urllib3.connectionpool] DEBUG: Starting new HTTPS connection (1): upload.wikimedia.org:443\n"
     ]
    },
    {
     "name": "stdout",
     "output_type": "stream",
     "text": [
      "saved in images/Shrek_the_Third/Shrek_the_Third.jpg\n",
      "erroe: \n"
     ]
    },
    {
     "name": "stderr",
     "output_type": "stream",
     "text": [
      "2025-03-02 22:34:49 [urllib3.connectionpool] DEBUG: https://upload.wikimedia.org:443 \"GET /wikipedia/en/f/fb/Mission_Impossible_Rogue_Nation_poster.jpg HTTP/1.1\" 200 123534\n",
      "2025-03-02 22:34:49 [urllib3.connectionpool] DEBUG: Starting new HTTPS connection (1): upload.wikimedia.org:443\n"
     ]
    },
    {
     "name": "stdout",
     "output_type": "stream",
     "text": [
      "saved in images/Mission:_Impossible_–_/Mission:_Impossible_–_.jpg\n",
      "erroe: \n"
     ]
    },
    {
     "name": "stderr",
     "output_type": "stream",
     "text": [
      "2025-03-02 22:34:49 [urllib3.connectionpool] DEBUG: https://upload.wikimedia.org:443 \"GET /wikipedia/en/7/7b/Shrek_%282001_animated_feature_film%29.jpg HTTP/1.1\" 200 92394\n",
      "2025-03-02 22:34:49 [urllib3.connectionpool] DEBUG: Starting new HTTPS connection (1): upload.wikimedia.org:443\n"
     ]
    },
    {
     "name": "stdout",
     "output_type": "stream",
     "text": [
      "saved in images/Shrek/Shrek.jpg\n",
      "erroe: \n"
     ]
    },
    {
     "name": "stderr",
     "output_type": "stream",
     "text": [
      "2025-03-02 22:34:50 [urllib3.connectionpool] DEBUG: https://upload.wikimedia.org:443 \"GET /wikipedia/en/b/b5/Mission_impossible_ghost_protocol.jpg HTTP/1.1\" 200 121360\n",
      "2025-03-02 22:34:50 [urllib3.connectionpool] DEBUG: Starting new HTTPS connection (1): upload.wikimedia.org:443\n"
     ]
    },
    {
     "name": "stdout",
     "output_type": "stream",
     "text": [
      "saved in images/Mission:_Impossible_–/Mission:_Impossible_–.jpg\n",
      "erroe: \n"
     ]
    },
    {
     "name": "stderr",
     "output_type": "stream",
     "text": [
      "2025-03-02 22:34:50 [urllib3.connectionpool] DEBUG: https://upload.wikimedia.org:443 \"GET /wikipedia/en/thumb/e/ed/Mission-_Impossible_%E2%80%93_Dead_Reckoning_Part_One_poster.jpg/220px-Mission-_Impossible_%E2%80%93_Dead_Reckoning_Part_One_poster.jpg HTTP/1.1\" 200 29357\n",
      "2025-03-02 22:34:50 [scrapy.core.scraper] DEBUG: Scraped from <200 https://en.wikipedia.org/wiki/Shrek_the_Third>\n",
      "{'box_office': 808300000.0,\n",
      " 'countries': ['United States'],\n",
      " 'directors': ['Chris Miller'],\n",
      " 'image_urls': ['https://upload.wikimedia.org/wikipedia/en/2/22/Shrek_the_Third_%282007_animated_feature_film%29.jpg'],\n",
      " 'images': [],\n",
      " 'title': 'Shrek the Third',\n",
      " 'year': 2007}\n",
      "2025-03-02 22:34:50 [scrapy.core.scraper] DEBUG: Scraped from <200 https://en.wikipedia.org/wiki/Mission:_Impossible_%E2%80%93_Rogue_Nation>\n",
      "{'box_office': 688900000.0,\n",
      " 'countries': ['United States'],\n",
      " 'directors': ['Christopher McQuarrie'],\n",
      " 'image_urls': ['https://upload.wikimedia.org/wikipedia/en/f/fb/Mission_Impossible_Rogue_Nation_poster.jpg'],\n",
      " 'images': [],\n",
      " 'title': 'Mission: Impossible – ',\n",
      " 'year': 2015}\n",
      "2025-03-02 22:34:50 [scrapy.core.scraper] DEBUG: Scraped from <200 https://en.wikipedia.org/wiki/Shrek>\n",
      "{'box_office': 492500000.0,\n",
      " 'countries': ['United States'],\n",
      " 'directors': ['Andrew Adamson', 'Vicky Jenson'],\n",
      " 'image_urls': ['https://upload.wikimedia.org/wikipedia/en/7/7b/Shrek_%282001_animated_feature_film%29.jpg'],\n",
      " 'images': [],\n",
      " 'title': 'Shrek',\n",
      " 'year': 2001}\n",
      "2025-03-02 22:34:50 [scrapy.core.scraper] DEBUG: Scraped from <200 https://en.wikipedia.org/wiki/Mission:_Impossible_%E2%80%93_Ghost_Protocol>\n",
      "{'box_office': 694700000.0,\n",
      " 'countries': ['United States'],\n",
      " 'directors': ['Brad Bird'],\n",
      " 'image_urls': ['https://upload.wikimedia.org/wikipedia/en/b/b5/Mission_impossible_ghost_protocol.jpg'],\n",
      " 'images': [],\n",
      " 'title': 'Mission: Impossible –',\n",
      " 'year': 2011}\n",
      "2025-03-02 22:34:50 [scrapy.core.scraper] DEBUG: Scraped from <200 https://en.wikipedia.org/wiki/Mission:_Impossible_%E2%80%93_Dead_Reckoning_Part_One>\n",
      "{'box_office': 571100000.0,\n",
      " 'countries': ['United States'],\n",
      " 'directors': ['Christopher McQuarrie'],\n",
      " 'image_urls': ['https://upload.wikimedia.org/wikipedia/en/thumb/e/ed/Mission-_Impossible_%E2%80%93_Dead_Reckoning_Part_One_poster.jpg/220px-Mission-_Impossible_%E2%80%93_Dead_Reckoning_Part_One_poster.jpg'],\n",
      " 'images': [],\n",
      " 'title': 'Mission: Impossible – Dead Reckoning Part One',\n",
      " 'year': 2023}\n",
      "2025-03-02 22:34:50 [scrapy.core.scraper] DEBUG: Scraped from <200 https://en.wikipedia.org/wiki/Bumblebee_(film)>\n",
      "{'box_office': 468000000.0,\n",
      " 'countries': ['China', 'United States'],\n",
      " 'directors': ['Travis Knight'],\n",
      " 'image_urls': ['https://upload.wikimedia.org/wikipedia/en/thumb/7/77/Bumblebee_%28film%29_poster.png/220px-Bumblebee_%28film%29_poster.png'],\n",
      " 'images': [],\n",
      " 'title': 'Bumblebee',\n",
      " 'year': 2018}\n",
      "2025-03-02 22:34:50 [scrapy.core.engine] DEBUG: Crawled (200) <GET https://en.wikipedia.org/wiki/Transformers_(film)> (referer: https://en.wikipedia.org/wiki/List_of_highest-grossing_films)\n",
      "2025-03-02 22:34:50 [scrapy.core.engine] DEBUG: Crawled (200) <GET https://en.wikipedia.org/wiki/Transformers:_The_Last_Knight> (referer: https://en.wikipedia.org/wiki/List_of_highest-grossing_films)\n",
      "2025-03-02 22:34:50 [scrapy.core.engine] DEBUG: Crawled (200) <GET https://en.wikipedia.org/wiki/Transformers:_Revenge_of_the_Fallen> (referer: https://en.wikipedia.org/wiki/List_of_highest-grossing_films)\n",
      "2025-03-02 22:34:50 [scrapy.core.engine] DEBUG: Crawled (200) <GET https://en.wikipedia.org/wiki/Transformers:_Dark_of_the_Moon> (referer: https://en.wikipedia.org/wiki/List_of_highest-grossing_films)\n",
      "2025-03-02 22:34:50 [scrapy.core.engine] DEBUG: Crawled (200) <GET https://en.wikipedia.org/wiki/Minions_(film)> (referer: https://en.wikipedia.org/wiki/List_of_highest-grossing_films)\n",
      "2025-03-02 22:34:50 [scrapy.core.engine] DEBUG: Crawled (200) <GET https://en.wikipedia.org/wiki/Minions:_The_Rise_of_Gru> (referer: https://en.wikipedia.org/wiki/List_of_highest-grossing_films)\n",
      "2025-03-02 22:34:50 [scrapy.core.engine] DEBUG: Crawled (200) <GET https://en.wikipedia.org/wiki/Despicable_Me_(film)> (referer: https://en.wikipedia.org/wiki/List_of_highest-grossing_films)\n",
      "2025-03-02 22:34:50 [scrapy.core.engine] DEBUG: Crawled (200) <GET https://en.wikipedia.org/wiki/Despicable_Me_2> (referer: https://en.wikipedia.org/wiki/List_of_highest-grossing_films)\n",
      "2025-03-02 22:34:50 [scrapy.pipelines.media] ERROR: [Failure instance: Traceback: <class 'scrapy.pipelines.files.FileException'>: \n",
      "/Library/Frameworks/Python.framework/Versions/3.13/lib/python3.13/site-packages/twisted/internet/defer.py:1088:_runCallbacks\n",
      "/Library/Frameworks/Python.framework/Versions/3.13/lib/python3.13/site-packages/scrapy/pipelines/files.py:627:media_failed\n",
      "]\n",
      "NoneType: None\n",
      "2025-03-02 22:34:50 [scrapy.pipelines.media] ERROR: [Failure instance: Traceback: <class 'scrapy.pipelines.files.FileException'>: \n",
      "/Library/Frameworks/Python.framework/Versions/3.13/lib/python3.13/site-packages/twisted/internet/defer.py:1088:_runCallbacks\n",
      "/Library/Frameworks/Python.framework/Versions/3.13/lib/python3.13/site-packages/scrapy/pipelines/files.py:627:media_failed\n",
      "]\n",
      "NoneType: None\n",
      "2025-03-02 22:34:50 [urllib3.connectionpool] DEBUG: Starting new HTTPS connection (1): upload.wikimedia.org:443\n"
     ]
    },
    {
     "name": "stdout",
     "output_type": "stream",
     "text": [
      "saved in images/Mission:_Impossible_–_Dead_Reckoning_Part_One/Mission:_Impossible_–_Dead_Reckoning_Part_One.jpg\n",
      "erroe: \n"
     ]
    },
    {
     "name": "stderr",
     "output_type": "stream",
     "text": [
      "2025-03-02 22:34:51 [urllib3.connectionpool] DEBUG: https://upload.wikimedia.org:443 \"GET /wikipedia/en/thumb/9/91/Transformers-movieposter-west.jpg/220px-Transformers-movieposter-west.jpg HTTP/1.1\" 200 28541\n",
      "2025-03-02 22:34:51 [scrapy.pipelines.media] ERROR: [Failure instance: Traceback: <class 'scrapy.pipelines.files.FileException'>: \n",
      "/Library/Frameworks/Python.framework/Versions/3.13/lib/python3.13/site-packages/twisted/internet/defer.py:1088:_runCallbacks\n",
      "/Library/Frameworks/Python.framework/Versions/3.13/lib/python3.13/site-packages/scrapy/pipelines/files.py:627:media_failed\n",
      "]\n",
      "NoneType: None\n",
      "2025-03-02 22:34:51 [scrapy.pipelines.media] ERROR: [Failure instance: Traceback: <class 'scrapy.pipelines.files.FileException'>: \n",
      "/Library/Frameworks/Python.framework/Versions/3.13/lib/python3.13/site-packages/twisted/internet/defer.py:1088:_runCallbacks\n",
      "/Library/Frameworks/Python.framework/Versions/3.13/lib/python3.13/site-packages/scrapy/pipelines/files.py:627:media_failed\n",
      "]\n",
      "NoneType: None\n",
      "2025-03-02 22:34:51 [scrapy.pipelines.media] ERROR: [Failure instance: Traceback: <class 'scrapy.pipelines.files.FileException'>: \n",
      "/Library/Frameworks/Python.framework/Versions/3.13/lib/python3.13/site-packages/twisted/internet/defer.py:1088:_runCallbacks\n",
      "/Library/Frameworks/Python.framework/Versions/3.13/lib/python3.13/site-packages/scrapy/pipelines/files.py:627:media_failed\n",
      "]\n",
      "NoneType: None\n",
      "2025-03-02 22:34:51 [scrapy.pipelines.media] ERROR: [Failure instance: Traceback: <class 'scrapy.pipelines.files.FileException'>: \n",
      "/Library/Frameworks/Python.framework/Versions/3.13/lib/python3.13/site-packages/twisted/internet/defer.py:1088:_runCallbacks\n",
      "/Library/Frameworks/Python.framework/Versions/3.13/lib/python3.13/site-packages/scrapy/pipelines/files.py:627:media_failed\n",
      "]\n",
      "NoneType: None\n",
      "2025-03-02 22:34:51 [scrapy.pipelines.media] ERROR: [Failure instance: Traceback: <class 'scrapy.pipelines.files.FileException'>: \n",
      "/Library/Frameworks/Python.framework/Versions/3.13/lib/python3.13/site-packages/twisted/internet/defer.py:1088:_runCallbacks\n",
      "/Library/Frameworks/Python.framework/Versions/3.13/lib/python3.13/site-packages/scrapy/pipelines/files.py:627:media_failed\n",
      "]\n",
      "NoneType: None\n",
      "2025-03-02 22:34:51 [scrapy.core.engine] DEBUG: Crawled (200) <GET https://en.wikipedia.org/wiki/Despicable_Me_4> (referer: https://en.wikipedia.org/wiki/List_of_highest-grossing_films)\n",
      "2025-03-02 22:34:51 [urllib3.connectionpool] DEBUG: Starting new HTTPS connection (1): upload.wikimedia.org:443\n"
     ]
    },
    {
     "name": "stdout",
     "output_type": "stream",
     "text": [
      "saved in images/The_Transformers:_The_Movie/The_Transformers:_The_Movie.jpg\n",
      "erroe: \n"
     ]
    },
    {
     "name": "stderr",
     "output_type": "stream",
     "text": [
      "2025-03-02 22:34:51 [urllib3.connectionpool] DEBUG: https://upload.wikimedia.org:443 \"GET /wikipedia/en/thumb/a/a4/Transformers_One_Official_Poster.jpg/220px-Transformers_One_Official_Poster.jpg HTTP/1.1\" 200 39656\n",
      "2025-03-02 22:34:51 [scrapy.core.scraper] DEBUG: Scraped from <200 https://en.wikipedia.org/wiki/Transformers_One>\n",
      "{'box_office': 129400000.0,\n",
      " 'countries': ['United States'],\n",
      " 'directors': ['Josh Cooley'],\n",
      " 'image_urls': ['https://upload.wikimedia.org/wikipedia/en/thumb/a/a4/Transformers_One_Official_Poster.jpg/220px-Transformers_One_Official_Poster.jpg'],\n",
      " 'images': [],\n",
      " 'title': 'Transformers One',\n",
      " 'year': 2024}\n",
      "2025-03-02 22:34:51 [scrapy.core.scraper] DEBUG: Scraped from <200 https://en.wikipedia.org/wiki/The_Transformers:_The_Movie>\n",
      "{'box_office': 2600000.0,\n",
      " 'countries': ['United States', 'Japan'],\n",
      " 'directors': ['Nelson Shin'],\n",
      " 'image_urls': ['https://upload.wikimedia.org/wikipedia/en/thumb/9/91/Transformers-movieposter-west.jpg/220px-Transformers-movieposter-west.jpg'],\n",
      " 'images': [],\n",
      " 'title': 'The Transformers: The Movie',\n",
      " 'year': 1986}\n",
      "2025-03-02 22:34:51 [urllib3.connectionpool] DEBUG: Starting new HTTPS connection (1): upload.wikimedia.org:443\n"
     ]
    },
    {
     "name": "stdout",
     "output_type": "stream",
     "text": [
      "saved in images/Transformers_One/Transformers_One.jpg\n",
      "erroe: \n"
     ]
    },
    {
     "name": "stderr",
     "output_type": "stream",
     "text": [
      "2025-03-02 22:34:52 [urllib3.connectionpool] DEBUG: https://upload.wikimedia.org:443 \"GET /wikipedia/en/thumb/5/5e/Pirates_of_the_Caribbean_-_On_Stranger_Tides.png/220px-Pirates_of_the_Caribbean_-_On_Stranger_Tides.png HTTP/1.1\" 200 148147\n",
      "2025-03-02 22:34:52 [urllib3.connectionpool] DEBUG: Starting new HTTPS connection (1): upload.wikimedia.org:443\n"
     ]
    },
    {
     "name": "stdout",
     "output_type": "stream",
     "text": [
      "saved in images/Pirates_of_the_Caribbean:/Pirates_of_the_Caribbean:.png\n",
      "erroe: \n"
     ]
    },
    {
     "name": "stderr",
     "output_type": "stream",
     "text": [
      "2025-03-02 22:34:52 [urllib3.connectionpool] DEBUG: https://upload.wikimedia.org:443 \"GET /wikipedia/en/thumb/8/89/Pirates_of_the_Caribbean_-_The_Curse_of_the_Black_Pearl.png/220px-Pirates_of_the_Caribbean_-_The_Curse_of_the_Black_Pearl.png HTTP/1.1\" 200 166262\n",
      "2025-03-02 22:34:52 [urllib3.connectionpool] DEBUG: Starting new HTTPS connection (1): upload.wikimedia.org:443\n"
     ]
    },
    {
     "name": "stdout",
     "output_type": "stream",
     "text": [
      "saved in images/Pirates_of_the_Caribbean:/Pirates_of_the_Caribbean:.png\n",
      "erroe: \n"
     ]
    },
    {
     "name": "stderr",
     "output_type": "stream",
     "text": [
      "2025-03-02 22:34:53 [urllib3.connectionpool] DEBUG: https://upload.wikimedia.org:443 \"GET /wikipedia/en/thumb/1/1c/Transformers-_Rise_of_the_Beasts.jpg/220px-Transformers-_Rise_of_the_Beasts.jpg HTTP/1.1\" 200 27640\n",
      "2025-03-02 22:34:53 [urllib3.connectionpool] DEBUG: Starting new HTTPS connection (1): upload.wikimedia.org:443\n"
     ]
    },
    {
     "name": "stdout",
     "output_type": "stream",
     "text": [
      "saved in images/Transformers:_Rise_of_the_Beasts/Transformers:_Rise_of_the_Beasts.jpg\n",
      "erroe: \n"
     ]
    },
    {
     "name": "stderr",
     "output_type": "stream",
     "text": [
      "2025-03-02 22:34:53 [urllib3.connectionpool] DEBUG: https://upload.wikimedia.org:443 \"GET /wikipedia/en/f/ff/MI_%E2%80%93_Fallout.jpg HTTP/1.1\" 200 116747\n",
      "2025-03-02 22:34:53 [urllib3.connectionpool] DEBUG: Starting new HTTPS connection (1): upload.wikimedia.org:443\n"
     ]
    },
    {
     "name": "stdout",
     "output_type": "stream",
     "text": [
      "saved in images/Mission:_Impossible_–/Mission:_Impossible_–.jpg\n",
      "erroe: \n"
     ]
    },
    {
     "name": "stderr",
     "output_type": "stream",
     "text": [
      "2025-03-02 22:34:54 [urllib3.connectionpool] DEBUG: https://upload.wikimedia.org:443 \"GET /wikipedia/en/2/21/Pirates_of_the_Caribbean%2C_Dead_Men_Tell_No_Tales.jpg HTTP/1.1\" 200 132967\n",
      "2025-03-02 22:34:54 [scrapy.core.scraper] DEBUG: Scraped from <200 https://en.wikipedia.org/wiki/Pirates_of_the_Caribbean:_On_Stranger_Tides>\n",
      "{'box_office': 1046000000.0,\n",
      " 'countries': ['United States'],\n",
      " 'directors': ['Rob Marshall'],\n",
      " 'image_urls': ['https://upload.wikimedia.org/wikipedia/en/thumb/5/5e/Pirates_of_the_Caribbean_-_On_Stranger_Tides.png/220px-Pirates_of_the_Caribbean_-_On_Stranger_Tides.png'],\n",
      " 'images': [],\n",
      " 'title': 'Pirates of the Caribbean:',\n",
      " 'year': 2011}\n",
      "2025-03-02 22:34:54 [scrapy.core.scraper] DEBUG: Scraped from <200 https://en.wikipedia.org/wiki/Pirates_of_the_Caribbean:_The_Curse_of_the_Black_Pearl>\n",
      "{'box_office': 654300000.0,\n",
      " 'countries': ['United States'],\n",
      " 'directors': ['Gore Verbinski'],\n",
      " 'image_urls': ['https://upload.wikimedia.org/wikipedia/en/thumb/8/89/Pirates_of_the_Caribbean_-_The_Curse_of_the_Black_Pearl.png/220px-Pirates_of_the_Caribbean_-_The_Curse_of_the_Black_Pearl.png'],\n",
      " 'images': [],\n",
      " 'title': 'Pirates of the Caribbean:',\n",
      " 'year': 2003}\n",
      "2025-03-02 22:34:54 [scrapy.core.scraper] DEBUG: Scraped from <200 https://en.wikipedia.org/wiki/Transformers:_Rise_of_the_Beasts>\n",
      "{'box_office': 441400000.0,\n",
      " 'countries': ['United States'],\n",
      " 'directors': ['Steven Caple Jr.'],\n",
      " 'image_urls': ['https://upload.wikimedia.org/wikipedia/en/thumb/1/1c/Transformers-_Rise_of_the_Beasts.jpg/220px-Transformers-_Rise_of_the_Beasts.jpg'],\n",
      " 'images': [],\n",
      " 'title': 'Transformers: Rise of the Beasts',\n",
      " 'year': 2023}\n",
      "2025-03-02 22:34:54 [scrapy.core.scraper] DEBUG: Scraped from <200 https://en.wikipedia.org/wiki/Mission:_Impossible_%E2%80%93_Fallout>\n",
      "{'box_office': 791700000.0,\n",
      " 'countries': ['United States'],\n",
      " 'directors': ['Christopher McQuarrie'],\n",
      " 'image_urls': ['https://upload.wikimedia.org/wikipedia/en/f/ff/MI_%E2%80%93_Fallout.jpg'],\n",
      " 'images': [],\n",
      " 'title': 'Mission: Impossible –',\n",
      " 'year': 2018}\n",
      "2025-03-02 22:34:54 [scrapy.core.scraper] DEBUG: Scraped from <200 https://en.wikipedia.org/wiki/Pirates_of_the_Caribbean:_Dead_Men_Tell_No_Tales>\n",
      "{'box_office': 795900000.0,\n",
      " 'countries': ['United States'],\n",
      " 'directors': ['Joachim Rønning', 'Espen Sandberg'],\n",
      " 'image_urls': ['https://upload.wikimedia.org/wikipedia/en/2/21/Pirates_of_the_Caribbean%2C_Dead_Men_Tell_No_Tales.jpg'],\n",
      " 'images': [],\n",
      " 'title': 'Pirates of the Caribbean:',\n",
      " 'year': 2017}\n",
      "2025-03-02 22:34:54 [scrapy.pipelines.media] ERROR: [Failure instance: Traceback: <class 'scrapy.pipelines.files.FileException'>: \n",
      "/Library/Frameworks/Python.framework/Versions/3.13/lib/python3.13/site-packages/twisted/internet/defer.py:1088:_runCallbacks\n",
      "/Library/Frameworks/Python.framework/Versions/3.13/lib/python3.13/site-packages/scrapy/pipelines/files.py:627:media_failed\n",
      "]\n",
      "NoneType: None\n",
      "2025-03-02 22:34:54 [scrapy.pipelines.media] ERROR: [Failure instance: Traceback: <class 'scrapy.pipelines.files.FileException'>: \n",
      "/Library/Frameworks/Python.framework/Versions/3.13/lib/python3.13/site-packages/twisted/internet/defer.py:1088:_runCallbacks\n",
      "/Library/Frameworks/Python.framework/Versions/3.13/lib/python3.13/site-packages/scrapy/pipelines/files.py:627:media_failed\n",
      "]\n",
      "NoneType: None\n",
      "2025-03-02 22:34:54 [scrapy.pipelines.media] ERROR: [Failure instance: Traceback: <class 'scrapy.pipelines.files.FileException'>: \n",
      "/Library/Frameworks/Python.framework/Versions/3.13/lib/python3.13/site-packages/twisted/internet/defer.py:1088:_runCallbacks\n",
      "/Library/Frameworks/Python.framework/Versions/3.13/lib/python3.13/site-packages/scrapy/pipelines/files.py:627:media_failed\n",
      "]\n",
      "NoneType: None\n",
      "2025-03-02 22:34:54 [scrapy.pipelines.media] ERROR: [Failure instance: Traceback: <class 'scrapy.pipelines.files.FileException'>: \n",
      "/Library/Frameworks/Python.framework/Versions/3.13/lib/python3.13/site-packages/twisted/internet/defer.py:1088:_runCallbacks\n",
      "/Library/Frameworks/Python.framework/Versions/3.13/lib/python3.13/site-packages/scrapy/pipelines/files.py:627:media_failed\n",
      "]\n",
      "NoneType: None\n",
      "2025-03-02 22:34:54 [scrapy.pipelines.media] ERROR: [Failure instance: Traceback: <class 'scrapy.pipelines.files.FileException'>: \n",
      "/Library/Frameworks/Python.framework/Versions/3.13/lib/python3.13/site-packages/twisted/internet/defer.py:1088:_runCallbacks\n",
      "/Library/Frameworks/Python.framework/Versions/3.13/lib/python3.13/site-packages/scrapy/pipelines/files.py:627:media_failed\n",
      "]\n",
      "NoneType: None\n",
      "2025-03-02 22:34:54 [scrapy.pipelines.media] ERROR: [Failure instance: Traceback: <class 'scrapy.pipelines.files.FileException'>: \n",
      "/Library/Frameworks/Python.framework/Versions/3.13/lib/python3.13/site-packages/twisted/internet/defer.py:1088:_runCallbacks\n",
      "/Library/Frameworks/Python.framework/Versions/3.13/lib/python3.13/site-packages/scrapy/pipelines/files.py:627:media_failed\n",
      "]\n",
      "NoneType: None\n",
      "2025-03-02 22:34:54 [scrapy.pipelines.media] ERROR: [Failure instance: Traceback: <class 'scrapy.pipelines.files.FileException'>: \n",
      "/Library/Frameworks/Python.framework/Versions/3.13/lib/python3.13/site-packages/twisted/internet/defer.py:1088:_runCallbacks\n",
      "/Library/Frameworks/Python.framework/Versions/3.13/lib/python3.13/site-packages/scrapy/pipelines/files.py:627:media_failed\n",
      "]\n",
      "NoneType: None\n",
      "2025-03-02 22:34:54 [scrapy.pipelines.media] ERROR: [Failure instance: Traceback: <class 'scrapy.pipelines.files.FileException'>: \n",
      "/Library/Frameworks/Python.framework/Versions/3.13/lib/python3.13/site-packages/twisted/internet/defer.py:1088:_runCallbacks\n",
      "/Library/Frameworks/Python.framework/Versions/3.13/lib/python3.13/site-packages/scrapy/pipelines/files.py:627:media_failed\n",
      "]\n",
      "NoneType: None\n",
      "2025-03-02 22:34:54 [urllib3.connectionpool] DEBUG: Starting new HTTPS connection (1): upload.wikimedia.org:443\n"
     ]
    },
    {
     "name": "stdout",
     "output_type": "stream",
     "text": [
      "saved in images/Pirates_of_the_Caribbean:/Pirates_of_the_Caribbean:.jpg\n",
      "erroe: \n"
     ]
    },
    {
     "name": "stderr",
     "output_type": "stream",
     "text": [
      "2025-03-02 22:34:54 [urllib3.connectionpool] DEBUG: https://upload.wikimedia.org:443 \"GET /wikipedia/en/thumb/6/66/Transformers07.jpg/220px-Transformers07.jpg HTTP/1.1\" 200 21150\n",
      "2025-03-02 22:34:54 [urllib3.connectionpool] DEBUG: Starting new HTTPS connection (1): upload.wikimedia.org:443\n"
     ]
    },
    {
     "name": "stdout",
     "output_type": "stream",
     "text": [
      "saved in images/Transformers/Transformers.jpg\n",
      "erroe: \n"
     ]
    },
    {
     "name": "stderr",
     "output_type": "stream",
     "text": [
      "2025-03-02 22:34:55 [urllib3.connectionpool] DEBUG: https://upload.wikimedia.org:443 \"GET /wikipedia/en/2/26/Transformers_The_Last_Knight_poster.jpg HTTP/1.1\" 200 128976\n",
      "2025-03-02 22:34:55 [urllib3.connectionpool] DEBUG: Starting new HTTPS connection (1): upload.wikimedia.org:443\n"
     ]
    },
    {
     "name": "stdout",
     "output_type": "stream",
     "text": [
      "saved in images/Transformers:_The_Last_Knight/Transformers:_The_Last_Knight.jpg\n",
      "erroe: \n"
     ]
    },
    {
     "name": "stderr",
     "output_type": "stream",
     "text": [
      "2025-03-02 22:34:55 [urllib3.connectionpool] DEBUG: https://upload.wikimedia.org:443 \"GET /wikipedia/en/thumb/c/cb/TF2SteelPoster.jpg/220px-TF2SteelPoster.jpg HTTP/1.1\" 200 24443\n",
      "2025-03-02 22:34:55 [urllib3.connectionpool] DEBUG: Starting new HTTPS connection (1): upload.wikimedia.org:443\n"
     ]
    },
    {
     "name": "stdout",
     "output_type": "stream",
     "text": [
      "saved in images/Transformers:_Revenge_of_the_Fallen/Transformers:_Revenge_of_the_Fallen.jpg\n",
      "erroe: \n"
     ]
    },
    {
     "name": "stderr",
     "output_type": "stream",
     "text": [
      "2025-03-02 22:34:56 [urllib3.connectionpool] DEBUG: https://upload.wikimedia.org:443 \"GET /wikipedia/en/thumb/b/bf/Transformers_dark_of_the_moon_ver5.jpg/220px-Transformers_dark_of_the_moon_ver5.jpg HTTP/1.1\" 200 29528\n",
      "2025-03-02 22:34:56 [urllib3.connectionpool] DEBUG: Starting new HTTPS connection (1): upload.wikimedia.org:443\n"
     ]
    },
    {
     "name": "stdout",
     "output_type": "stream",
     "text": [
      "saved in images/Transformers:_Dark_of_the_Moon/Transformers:_Dark_of_the_Moon.jpg\n",
      "erroe: \n"
     ]
    },
    {
     "name": "stderr",
     "output_type": "stream",
     "text": [
      "2025-03-02 22:34:56 [urllib3.connectionpool] DEBUG: https://upload.wikimedia.org:443 \"GET /wikipedia/en/1/19/Minions_%282015_film%29.jpg HTTP/1.1\" 200 50129\n",
      "2025-03-02 22:34:56 [urllib3.connectionpool] DEBUG: Starting new HTTPS connection (1): upload.wikimedia.org:443\n"
     ]
    },
    {
     "name": "stdout",
     "output_type": "stream",
     "text": [
      "saved in images/Minions/Minions.jpg\n",
      "erroe: \n"
     ]
    },
    {
     "name": "stderr",
     "output_type": "stream",
     "text": [
      "2025-03-02 22:34:57 [urllib3.connectionpool] DEBUG: https://upload.wikimedia.org:443 \"GET /wikipedia/en/thumb/4/45/Minions_The_Rise_of_Gru_poster.jpg/220px-Minions_The_Rise_of_Gru_poster.jpg HTTP/1.1\" 200 34161\n",
      "2025-03-02 22:34:57 [urllib3.connectionpool] DEBUG: Starting new HTTPS connection (1): upload.wikimedia.org:443\n"
     ]
    },
    {
     "name": "stdout",
     "output_type": "stream",
     "text": [
      "saved in images/Minions:_The_Rise_of_Gru/Minions:_The_Rise_of_Gru.jpg\n",
      "erroe: \n"
     ]
    },
    {
     "name": "stderr",
     "output_type": "stream",
     "text": [
      "2025-03-02 22:34:57 [urllib3.connectionpool] DEBUG: https://upload.wikimedia.org:443 \"GET /wikipedia/en/thumb/c/c0/Despicable_Me_%282010_animated_feature_film%29.jpg/220px-Despicable_Me_%282010_animated_feature_film%29.jpg HTTP/1.1\" 403 2184\n",
      "2025-03-02 22:34:57 [urllib3.connectionpool] DEBUG: Starting new HTTPS connection (1): upload.wikimedia.org:443\n"
     ]
    },
    {
     "name": "stdout",
     "output_type": "stream",
     "text": [
      "error: 403\n"
     ]
    },
    {
     "name": "stderr",
     "output_type": "stream",
     "text": [
      "2025-03-02 22:34:57 [urllib3.connectionpool] DEBUG: https://upload.wikimedia.org:443 \"GET /wikipedia/en/2/29/Despicable_Me_2_poster.jpg HTTP/1.1\" 200 175438\n"
     ]
    },
    {
     "name": "stdout",
     "output_type": "stream",
     "text": [
      "saved in images/Despicable_Me_2/Despicable_Me_2.jpg\n",
      "erroe: \n"
     ]
    },
    {
     "name": "stderr",
     "output_type": "stream",
     "text": [
      "2025-03-02 22:34:58 [scrapy.pipelines.media] ERROR: [Failure instance: Traceback: <class 'scrapy.pipelines.files.FileException'>: \n",
      "/Library/Frameworks/Python.framework/Versions/3.13/lib/python3.13/site-packages/twisted/internet/defer.py:1088:_runCallbacks\n",
      "/Library/Frameworks/Python.framework/Versions/3.13/lib/python3.13/site-packages/scrapy/pipelines/files.py:627:media_failed\n",
      "]\n",
      "NoneType: None\n",
      "2025-03-02 22:34:58 [scrapy.core.scraper] DEBUG: Scraped from <200 https://en.wikipedia.org/wiki/Transformers_(film)>\n",
      "{'box_office': 709700000.0,\n",
      " 'countries': ['United States'],\n",
      " 'directors': ['Michael Bay'],\n",
      " 'image_urls': ['https://upload.wikimedia.org/wikipedia/en/thumb/6/66/Transformers07.jpg/220px-Transformers07.jpg'],\n",
      " 'images': [],\n",
      " 'title': 'Transformers',\n",
      " 'year': 2007}\n",
      "2025-03-02 22:34:58 [scrapy.core.scraper] DEBUG: Scraped from <200 https://en.wikipedia.org/wiki/Transformers:_The_Last_Knight>\n",
      "{'box_office': 605400000.0,\n",
      " 'countries': ['United States'],\n",
      " 'directors': ['Michael Bay'],\n",
      " 'image_urls': ['https://upload.wikimedia.org/wikipedia/en/2/26/Transformers_The_Last_Knight_poster.jpg'],\n",
      " 'images': [],\n",
      " 'title': 'Transformers: The Last Knight',\n",
      " 'year': 2017}\n",
      "2025-03-02 22:34:58 [scrapy.core.scraper] DEBUG: Scraped from <200 https://en.wikipedia.org/wiki/Transformers:_Revenge_of_the_Fallen>\n",
      "{'box_office': 836500000.0,\n",
      " 'countries': ['United States'],\n",
      " 'directors': ['Michael Bay'],\n",
      " 'image_urls': ['https://upload.wikimedia.org/wikipedia/en/thumb/c/cb/TF2SteelPoster.jpg/220px-TF2SteelPoster.jpg'],\n",
      " 'images': [],\n",
      " 'title': 'Transformers: Revenge of the Fallen',\n",
      " 'year': 2009}\n",
      "2025-03-02 22:34:58 [scrapy.core.scraper] DEBUG: Scraped from <200 https://en.wikipedia.org/wiki/Transformers:_Dark_of_the_Moon>\n",
      "{'box_office': 1124000000.0,\n",
      " 'countries': ['United States'],\n",
      " 'directors': ['Michael Bay'],\n",
      " 'image_urls': ['https://upload.wikimedia.org/wikipedia/en/thumb/b/bf/Transformers_dark_of_the_moon_ver5.jpg/220px-Transformers_dark_of_the_moon_ver5.jpg'],\n",
      " 'images': [],\n",
      " 'title': 'Transformers: Dark of the Moon',\n",
      " 'year': 2011}\n",
      "2025-03-02 22:34:58 [scrapy.core.scraper] DEBUG: Scraped from <200 https://en.wikipedia.org/wiki/Minions_(film)>\n",
      "{'box_office': 1159000000.0,\n",
      " 'countries': ['United States'],\n",
      " 'directors': ['Pierre Coffin', 'Kyle Balda'],\n",
      " 'image_urls': ['https://upload.wikimedia.org/wikipedia/en/1/19/Minions_%282015_film%29.jpg'],\n",
      " 'images': [],\n",
      " 'title': 'Minions',\n",
      " 'year': 2015}\n",
      "2025-03-02 22:34:58 [scrapy.core.scraper] DEBUG: Scraped from <200 https://en.wikipedia.org/wiki/Minions:_The_Rise_of_Gru>\n",
      "{'box_office': 940200000.0,\n",
      " 'countries': ['United States'],\n",
      " 'directors': ['Kyle Balda'],\n",
      " 'image_urls': ['https://upload.wikimedia.org/wikipedia/en/thumb/4/45/Minions_The_Rise_of_Gru_poster.jpg/220px-Minions_The_Rise_of_Gru_poster.jpg'],\n",
      " 'images': [],\n",
      " 'title': 'Minions: The Rise of Gru',\n",
      " 'year': 2022}\n",
      "2025-03-02 22:34:58 [scrapy.core.scraper] DEBUG: Scraped from <200 https://en.wikipedia.org/wiki/Despicable_Me_(film)>\n",
      "{'box_office': 543200000.0,\n",
      " 'countries': ['United States'],\n",
      " 'directors': ['Chris Renaud', 'Pierre Coffin'],\n",
      " 'image_urls': ['https://upload.wikimedia.org/wikipedia/en/thumb/c/c0/Despicable_Me_%282010_animated_feature_film%29.jpg/220px-Despicable_Me_%282010_animated_feature_film%29.jpg'],\n",
      " 'images': [],\n",
      " 'title': 'Despicable Me',\n",
      " 'year': 2010}\n",
      "2025-03-02 22:34:58 [scrapy.core.scraper] DEBUG: Scraped from <200 https://en.wikipedia.org/wiki/Despicable_Me_2>\n",
      "{'box_office': 971000000.0,\n",
      " 'countries': ['United States'],\n",
      " 'directors': ['Chris Renaud', 'Pierre Coffin'],\n",
      " 'image_urls': ['https://upload.wikimedia.org/wikipedia/en/2/29/Despicable_Me_2_poster.jpg'],\n",
      " 'images': [],\n",
      " 'title': 'Despicable Me 2',\n",
      " 'year': 2013}\n",
      "2025-03-02 22:34:58 [urllib3.connectionpool] DEBUG: Starting new HTTPS connection (1): upload.wikimedia.org:443\n",
      "2025-03-02 22:34:58 [urllib3.connectionpool] DEBUG: https://upload.wikimedia.org:443 \"GET /wikipedia/en/thumb/e/ed/Despicable_Me_4_Theatrical_Release_Poster.jpeg/220px-Despicable_Me_4_Theatrical_Release_Poster.jpeg HTTP/1.1\" 200 27291\n",
      "2025-03-02 22:34:58 [scrapy.core.engine] DEBUG: Crawled (200) <GET https://en.wikipedia.org/wiki/The_Hobbit:_The_Desolation_of_Smaug> (referer: https://en.wikipedia.org/wiki/List_of_highest-grossing_films)\n",
      "2025-03-02 22:34:58 [scrapy.core.engine] DEBUG: Crawled (200) <GET https://en.wikipedia.org/wiki/Despicable_Me_3> (referer: https://en.wikipedia.org/wiki/List_of_highest-grossing_films)\n",
      "2025-03-02 22:34:58 [scrapy.core.scraper] DEBUG: Scraped from <200 https://en.wikipedia.org/wiki/Despicable_Me_4>\n",
      "{'box_office': 970.9,\n",
      " 'countries': ['United States'],\n",
      " 'directors': ['Chris Renaud'],\n",
      " 'image_urls': ['https://upload.wikimedia.org/wikipedia/en/thumb/e/ed/Despicable_Me_4_Theatrical_Release_Poster.jpeg/220px-Despicable_Me_4_Theatrical_Release_Poster.jpeg'],\n",
      " 'images': [],\n",
      " 'title': 'Despicable Me 4',\n",
      " 'year': 2024}\n",
      "2025-03-02 22:34:58 [scrapy.core.engine] DEBUG: Crawled (200) <GET https://en.wikipedia.org/wiki/The_Lord_of_the_Rings:_The_War_of_the_Rohirrim> (referer: https://en.wikipedia.org/wiki/List_of_highest-grossing_films)\n",
      "2025-03-02 22:34:58 [scrapy.core.engine] DEBUG: Crawled (200) <GET https://en.wikipedia.org/wiki/The_Hobbit:_An_Unexpected_Journey> (referer: https://en.wikipedia.org/wiki/List_of_highest-grossing_films)\n",
      "2025-03-02 22:34:58 [scrapy.core.engine] DEBUG: Crawled (200) <GET https://en.wikipedia.org/wiki/The_Lord_of_the_Rings:_The_Fellowship_of_the_Ring> (referer: https://en.wikipedia.org/wiki/List_of_highest-grossing_films)\n",
      "2025-03-02 22:34:58 [scrapy.core.engine] DEBUG: Crawled (200) <GET https://en.wikipedia.org/wiki/The_Hobbit_(film_series)> (referer: https://en.wikipedia.org/wiki/List_of_highest-grossing_films)\n",
      "2025-03-02 22:34:58 [scrapy.core.engine] DEBUG: Crawled (200) <GET https://en.wikipedia.org/wiki/The_Lord_of_the_Rings_(1978_film)> (referer: https://en.wikipedia.org/wiki/List_of_highest-grossing_films)\n",
      "2025-03-02 22:34:58 [scrapy.core.engine] DEBUG: Crawled (200) <GET https://en.wikipedia.org/wiki/The_Hobbit:_The_Battle_of_the_Five_Armies> (referer: https://en.wikipedia.org/wiki/List_of_highest-grossing_films)\n",
      "2025-03-02 22:34:58 [scrapy.pipelines.media] ERROR: [Failure instance: Traceback: <class 'scrapy.pipelines.files.FileException'>: \n",
      "/Library/Frameworks/Python.framework/Versions/3.13/lib/python3.13/site-packages/twisted/internet/defer.py:1088:_runCallbacks\n",
      "/Library/Frameworks/Python.framework/Versions/3.13/lib/python3.13/site-packages/scrapy/pipelines/files.py:627:media_failed\n",
      "]\n",
      "NoneType: None\n",
      "2025-03-02 22:34:58 [urllib3.connectionpool] DEBUG: Starting new HTTPS connection (1): upload.wikimedia.org:443\n"
     ]
    },
    {
     "name": "stdout",
     "output_type": "stream",
     "text": [
      "saved in images/Despicable_Me_4/Despicable_Me_4.jpeg\n",
      "erroe: \n"
     ]
    },
    {
     "name": "stderr",
     "output_type": "stream",
     "text": [
      "2025-03-02 22:34:59 [urllib3.connectionpool] DEBUG: https://upload.wikimedia.org:443 \"GET /wikipedia/en/4/4f/The_Hobbit_-_The_Desolation_of_Smaug_theatrical_poster.jpg HTTP/1.1\" 200 121804\n",
      "2025-03-02 22:34:59 [scrapy.core.engine] DEBUG: Crawled (200) <GET https://en.wikipedia.org/wiki/The_Lost_World:_Jurassic_Park> (referer: https://en.wikipedia.org/wiki/List_of_highest-grossing_films)\n",
      "2025-03-02 22:34:59 [scrapy.core.engine] DEBUG: Crawled (200) <GET https://en.wikipedia.org/wiki/Jurassic_World> (referer: https://en.wikipedia.org/wiki/List_of_highest-grossing_films)\n",
      "2025-03-02 22:34:59 [scrapy.core.engine] DEBUG: Crawled (200) <GET https://en.wikipedia.org/wiki/Batman:_Return_of_the_Caped_Crusaders> (referer: https://en.wikipedia.org/wiki/List_of_highest-grossing_films)\n",
      "2025-03-02 22:34:59 [scrapy.core.engine] DEBUG: Crawled (200) <GET https://en.wikipedia.org/wiki/Batman_(1966_film)> (referer: https://en.wikipedia.org/wiki/List_of_highest-grossing_films)\n",
      "2025-03-02 22:34:59 [scrapy.core.engine] DEBUG: Crawled (200) <GET https://en.wikipedia.org/wiki/Jurassic_Park_III> (referer: https://en.wikipedia.org/wiki/List_of_highest-grossing_films)\n",
      "2025-03-02 22:34:59 [scrapy.core.scraper] DEBUG: Scraped from <200 https://en.wikipedia.org/wiki/The_Hobbit:_The_Desolation_of_Smaug>\n",
      "{'box_office': 959000000.0,\n",
      " 'countries': ['New Zealand', 'United States'],\n",
      " 'directors': ['Peter Jackson'],\n",
      " 'image_urls': ['https://upload.wikimedia.org/wikipedia/en/4/4f/The_Hobbit_-_The_Desolation_of_Smaug_theatrical_poster.jpg'],\n",
      " 'images': [],\n",
      " 'title': 'The Hobbit:',\n",
      " 'year': 2013}\n",
      "2025-03-02 22:34:59 [scrapy.core.engine] DEBUG: Crawled (200) <GET https://en.wikipedia.org/wiki/Jurassic_World_Dominion> (referer: https://en.wikipedia.org/wiki/List_of_highest-grossing_films)\n",
      "2025-03-02 22:34:59 [scrapy.core.engine] DEBUG: Crawled (200) <GET https://en.wikipedia.org/wiki/The_Lord_of_the_Rings_(film_series)> (referer: https://en.wikipedia.org/wiki/List_of_highest-grossing_films)\n",
      "2025-03-02 22:34:59 [scrapy.core.engine] DEBUG: Crawled (200) <GET https://en.wikipedia.org/wiki/Jurassic_World:_Fallen_Kingdom> (referer: https://en.wikipedia.org/wiki/List_of_highest-grossing_films)\n"
     ]
    },
    {
     "name": "stdout",
     "output_type": "stream",
     "text": [
      "saved in images/The_Hobbit:/The_Hobbit:.jpg\n",
      "erroe: \n"
     ]
    },
    {
     "name": "stderr",
     "output_type": "stream",
     "text": [
      "2025-03-02 22:34:59 [scrapy.pipelines.media] ERROR: [Failure instance: Traceback: <class 'scrapy.pipelines.files.FileException'>: \n",
      "/Library/Frameworks/Python.framework/Versions/3.13/lib/python3.13/site-packages/twisted/internet/defer.py:1088:_runCallbacks\n",
      "/Library/Frameworks/Python.framework/Versions/3.13/lib/python3.13/site-packages/scrapy/pipelines/files.py:627:media_failed\n",
      "]\n",
      "NoneType: None\n",
      "2025-03-02 22:34:59 [urllib3.connectionpool] DEBUG: Starting new HTTPS connection (1): upload.wikimedia.org:443\n",
      "2025-03-02 22:34:59 [urllib3.connectionpool] DEBUG: https://upload.wikimedia.org:443 \"GET /wikipedia/en/thumb/8/80/Despicable_Me_3_theatrical_release_poster.jpg/220px-Despicable_Me_3_theatrical_release_poster.jpg HTTP/1.1\" 200 25987\n",
      "2025-03-02 22:34:59 [scrapy.pipelines.media] ERROR: [Failure instance: Traceback: <class 'scrapy.pipelines.files.FileException'>: \n",
      "/Library/Frameworks/Python.framework/Versions/3.13/lib/python3.13/site-packages/twisted/internet/defer.py:1088:_runCallbacks\n",
      "/Library/Frameworks/Python.framework/Versions/3.13/lib/python3.13/site-packages/scrapy/pipelines/files.py:627:media_failed\n",
      "]\n",
      "NoneType: None\n",
      "2025-03-02 22:34:59 [scrapy.pipelines.media] ERROR: [Failure instance: Traceback: <class 'scrapy.pipelines.files.FileException'>: \n",
      "/Library/Frameworks/Python.framework/Versions/3.13/lib/python3.13/site-packages/twisted/internet/defer.py:1088:_runCallbacks\n",
      "/Library/Frameworks/Python.framework/Versions/3.13/lib/python3.13/site-packages/scrapy/pipelines/files.py:627:media_failed\n",
      "]\n",
      "NoneType: None\n",
      "2025-03-02 22:34:59 [scrapy.pipelines.media] ERROR: [Failure instance: Traceback: <class 'scrapy.pipelines.files.FileException'>: \n",
      "/Library/Frameworks/Python.framework/Versions/3.13/lib/python3.13/site-packages/twisted/internet/defer.py:1088:_runCallbacks\n",
      "/Library/Frameworks/Python.framework/Versions/3.13/lib/python3.13/site-packages/scrapy/pipelines/files.py:627:media_failed\n",
      "]\n",
      "NoneType: None\n",
      "2025-03-02 22:34:59 [scrapy.pipelines.media] ERROR: [Failure instance: Traceback: <class 'scrapy.pipelines.files.FileException'>: \n",
      "/Library/Frameworks/Python.framework/Versions/3.13/lib/python3.13/site-packages/twisted/internet/defer.py:1088:_runCallbacks\n",
      "/Library/Frameworks/Python.framework/Versions/3.13/lib/python3.13/site-packages/scrapy/pipelines/files.py:627:media_failed\n",
      "]\n",
      "NoneType: None\n",
      "2025-03-02 22:34:59 [scrapy.pipelines.media] ERROR: [Failure instance: Traceback: <class 'scrapy.pipelines.files.FileException'>: \n",
      "/Library/Frameworks/Python.framework/Versions/3.13/lib/python3.13/site-packages/twisted/internet/defer.py:1088:_runCallbacks\n",
      "/Library/Frameworks/Python.framework/Versions/3.13/lib/python3.13/site-packages/scrapy/pipelines/files.py:627:media_failed\n",
      "]\n",
      "NoneType: None\n",
      "2025-03-02 22:34:59 [urllib3.connectionpool] DEBUG: Starting new HTTPS connection (1): upload.wikimedia.org:443\n"
     ]
    },
    {
     "name": "stdout",
     "output_type": "stream",
     "text": [
      "saved in images/Despicable_Me_3/Despicable_Me_3.jpg\n",
      "erroe: \n"
     ]
    },
    {
     "name": "stderr",
     "output_type": "stream",
     "text": [
      "2025-03-02 22:35:00 [urllib3.connectionpool] DEBUG: https://upload.wikimedia.org:443 \"GET /wikipedia/en/thumb/4/40/The_Lord_of_the_Rings_%281978%29.jpg/220px-The_Lord_of_the_Rings_%281978%29.jpg HTTP/1.1\" 200 24129\n",
      "2025-03-02 22:35:00 [scrapy.pipelines.media] ERROR: [Failure instance: Traceback: <class 'scrapy.pipelines.files.FileException'>: \n",
      "/Library/Frameworks/Python.framework/Versions/3.13/lib/python3.13/site-packages/twisted/internet/defer.py:1088:_runCallbacks\n",
      "/Library/Frameworks/Python.framework/Versions/3.13/lib/python3.13/site-packages/scrapy/pipelines/files.py:627:media_failed\n",
      "]\n",
      "NoneType: None\n",
      "2025-03-02 22:35:00 [scrapy.core.engine] DEBUG: Crawled (200) <GET https://en.wikipedia.org/wiki/Batman_and_Harley_Quinn> (referer: https://en.wikipedia.org/wiki/List_of_highest-grossing_films)\n",
      "2025-03-02 22:35:00 [scrapy.core.engine] DEBUG: Crawled (200) <GET https://en.wikipedia.org/wiki/Batman:_The_Killing_Joke_(film)> (referer: https://en.wikipedia.org/wiki/List_of_highest-grossing_films)\n",
      "2025-03-02 22:35:00 [scrapy.core.engine] DEBUG: Crawled (200) <GET https://en.wikipedia.org/wiki/Catwoman_(film)> (referer: https://en.wikipedia.org/wiki/List_of_highest-grossing_films)\n",
      "2025-03-02 22:35:00 [scrapy.core.scraper] DEBUG: Scraped from <200 https://en.wikipedia.org/wiki/Despicable_Me_3>\n",
      "{'box_office': 1.035,\n",
      " 'countries': ['United States'],\n",
      " 'directors': ['Pierre Coffin', 'Kyle Balda'],\n",
      " 'image_urls': ['https://upload.wikimedia.org/wikipedia/en/thumb/8/80/Despicable_Me_3_theatrical_release_poster.jpg/220px-Despicable_Me_3_theatrical_release_poster.jpg'],\n",
      " 'images': [],\n",
      " 'title': 'Despicable Me 3',\n",
      " 'year': 2017}\n",
      "2025-03-02 22:35:00 [urllib3.connectionpool] DEBUG: Starting new HTTPS connection (1): upload.wikimedia.org:443\n"
     ]
    },
    {
     "name": "stdout",
     "output_type": "stream",
     "text": [
      "saved in images/The_Lord_of_the_Rings/The_Lord_of_the_Rings.jpg\n",
      "erroe: \n"
     ]
    },
    {
     "name": "stderr",
     "output_type": "stream",
     "text": [
      "2025-03-02 22:35:00 [urllib3.connectionpool] DEBUG: https://upload.wikimedia.org:443 \"GET /wikipedia/en/thumb/5/5d/LOTR_The_War_of_the_Rohirrim_poster.jpg/220px-LOTR_The_War_of_the_Rohirrim_poster.jpg HTTP/1.1\" 200 29505\n",
      "2025-03-02 22:35:00 [urllib3.connectionpool] DEBUG: Starting new HTTPS connection (1): upload.wikimedia.org:443\n"
     ]
    },
    {
     "name": "stdout",
     "output_type": "stream",
     "text": [
      "saved in images/The_Lord_of_the_Rings:/The_Lord_of_the_Rings:.jpg\n",
      "erroe: \n"
     ]
    },
    {
     "name": "stderr",
     "output_type": "stream",
     "text": [
      "2025-03-02 22:35:00 [urllib3.connectionpool] DEBUG: https://upload.wikimedia.org:443 \"GET /wikipedia/en/b/b3/The_Hobbit-_An_Unexpected_Journey.jpeg HTTP/1.1\" 200 133867\n",
      "2025-03-02 22:35:01 [urllib3.connectionpool] DEBUG: Starting new HTTPS connection (1): upload.wikimedia.org:443\n"
     ]
    },
    {
     "name": "stdout",
     "output_type": "stream",
     "text": [
      "saved in images/The_Hobbit:_An_Unexpected_Journey/The_Hobbit:_An_Unexpected_Journey.jpeg\n",
      "erroe: \n"
     ]
    },
    {
     "name": "stderr",
     "output_type": "stream",
     "text": [
      "2025-03-02 22:35:01 [urllib3.connectionpool] DEBUG: https://upload.wikimedia.org:443 \"GET /wikipedia/en/f/fb/Lord_Rings_Fellowship_Ring.jpg HTTP/1.1\" 200 90931\n",
      "2025-03-02 22:35:01 [urllib3.connectionpool] DEBUG: Starting new HTTPS connection (1): upload.wikimedia.org:443\n"
     ]
    },
    {
     "name": "stdout",
     "output_type": "stream",
     "text": [
      "saved in images/The_Lord_of_the_Rings:/The_Lord_of_the_Rings:.jpg\n",
      "erroe: \n"
     ]
    },
    {
     "name": "stderr",
     "output_type": "stream",
     "text": [
      "2025-03-02 22:35:01 [urllib3.connectionpool] DEBUG: https://upload.wikimedia.org:443 \"GET /wikipedia/en/thumb/a/a9/The_Hobbit_trilogy_dvd_cover.jpg/220px-The_Hobbit_trilogy_dvd_cover.jpg HTTP/1.1\" 200 22772\n",
      "2025-03-02 22:35:01 [scrapy.core.scraper] DEBUG: Scraped from <200 https://en.wikipedia.org/wiki/The_Lord_of_the_Rings:_The_War_of_the_Rohirrim>\n",
      "{'box_office': 20500000.0,\n",
      " 'countries': ['New Zealand', 'Japan', 'United States'],\n",
      " 'directors': ['Kenji Kamiyama'],\n",
      " 'image_urls': ['https://upload.wikimedia.org/wikipedia/en/thumb/5/5d/LOTR_The_War_of_the_Rohirrim_poster.jpg/220px-LOTR_The_War_of_the_Rohirrim_poster.jpg'],\n",
      " 'images': [],\n",
      " 'title': 'The Lord of the Rings:',\n",
      " 'year': 2024}\n",
      "2025-03-02 22:35:01 [scrapy.core.scraper] DEBUG: Scraped from <200 https://en.wikipedia.org/wiki/The_Hobbit:_An_Unexpected_Journey>\n",
      "{'box_office': 1016999999.9999999,\n",
      " 'countries': ['New Zealand', 'United States'],\n",
      " 'directors': ['Peter Jackson'],\n",
      " 'image_urls': ['https://upload.wikimedia.org/wikipedia/en/b/b3/The_Hobbit-_An_Unexpected_Journey.jpeg'],\n",
      " 'images': [],\n",
      " 'title': 'The Hobbit: An Unexpected Journey',\n",
      " 'year': 2012}\n",
      "2025-03-02 22:35:01 [scrapy.core.scraper] DEBUG: Scraped from <200 https://en.wikipedia.org/wiki/The_Lord_of_the_Rings:_The_Fellowship_of_the_Ring>\n",
      "{'box_office': 887400000.0,\n",
      " 'countries': ['New Zealand', 'United States'],\n",
      " 'directors': ['Peter Jackson'],\n",
      " 'image_urls': ['https://upload.wikimedia.org/wikipedia/en/f/fb/Lord_Rings_Fellowship_Ring.jpg'],\n",
      " 'images': [],\n",
      " 'title': 'The Lord of the Rings:',\n",
      " 'year': 2001}\n",
      "2025-03-02 22:35:01 [scrapy.core.scraper] DEBUG: Scraped from <200 https://en.wikipedia.org/wiki/The_Hobbit_(film_series)>\n",
      "{'box_office': 2938000000.0,\n",
      " 'countries': ['New Zealand', 'United States'],\n",
      " 'directors': ['Peter Jackson'],\n",
      " 'image_urls': ['https://upload.wikimedia.org/wikipedia/en/thumb/a/a9/The_Hobbit_trilogy_dvd_cover.jpg/220px-The_Hobbit_trilogy_dvd_cover.jpg'],\n",
      " 'images': [],\n",
      " 'title': 'The Hobbit',\n",
      " 'year': 2012}\n",
      "2025-03-02 22:35:01 [scrapy.core.scraper] DEBUG: Scraped from <200 https://en.wikipedia.org/wiki/The_Lord_of_the_Rings_(1978_film)>\n",
      "{'box_office': 32600000.0,\n",
      " 'countries': ['United Kingdom', 'United States'],\n",
      " 'directors': ['Ralph Bakshi'],\n",
      " 'image_urls': ['https://upload.wikimedia.org/wikipedia/en/thumb/4/40/The_Lord_of_the_Rings_%281978%29.jpg/220px-The_Lord_of_the_Rings_%281978%29.jpg'],\n",
      " 'images': [],\n",
      " 'title': 'The Lord of the Rings',\n",
      " 'year': 1978}\n",
      "2025-03-02 22:35:01 [urllib3.connectionpool] DEBUG: Starting new HTTPS connection (1): upload.wikimedia.org:443\n"
     ]
    },
    {
     "name": "stdout",
     "output_type": "stream",
     "text": [
      "saved in images/The_Hobbit/The_Hobbit.jpg\n",
      "erroe: \n"
     ]
    },
    {
     "name": "stderr",
     "output_type": "stream",
     "text": [
      "2025-03-02 22:35:02 [urllib3.connectionpool] DEBUG: https://upload.wikimedia.org:443 \"GET /wikipedia/en/thumb/e/e7/The_Hobbit_-_The_Battle_of_the_Five_Armies.png/220px-The_Hobbit_-_The_Battle_of_the_Five_Armies.png HTTP/1.1\" 403 2184\n",
      "2025-03-02 22:35:02 [scrapy.core.engine] DEBUG: Crawled (200) <GET https://en.wikipedia.org/wiki/Batman:_Mask_of_the_Phantasm> (referer: https://en.wikipedia.org/wiki/List_of_highest-grossing_films)\n",
      "2025-03-02 22:35:02 [scrapy.core.engine] DEBUG: Crawled (200) <GET https://en.wikipedia.org/wiki/The_Lego_Batman_Movie> (referer: https://en.wikipedia.org/wiki/List_of_highest-grossing_films)\n",
      "2025-03-02 22:35:02 [scrapy.core.scraper] DEBUG: Scraped from <200 https://en.wikipedia.org/wiki/The_Hobbit:_The_Battle_of_the_Five_Armies>\n",
      "{'box_office': 962200000.0,\n",
      " 'countries': ['New Zealand', 'United States'],\n",
      " 'directors': ['Peter Jackson'],\n",
      " 'image_urls': ['https://upload.wikimedia.org/wikipedia/en/thumb/e/e7/The_Hobbit_-_The_Battle_of_the_Five_Armies.png/220px-The_Hobbit_-_The_Battle_of_the_Five_Armies.png'],\n",
      " 'images': [],\n",
      " 'title': 'The Hobbit:',\n",
      " 'year': 2014}\n",
      "2025-03-02 22:35:02 [scrapy.pipelines.media] ERROR: [Failure instance: Traceback: <class 'scrapy.pipelines.files.FileException'>: \n",
      "/Library/Frameworks/Python.framework/Versions/3.13/lib/python3.13/site-packages/twisted/internet/defer.py:1088:_runCallbacks\n",
      "/Library/Frameworks/Python.framework/Versions/3.13/lib/python3.13/site-packages/scrapy/pipelines/files.py:627:media_failed\n",
      "]\n",
      "NoneType: None\n",
      "2025-03-02 22:35:02 [scrapy.pipelines.media] ERROR: [Failure instance: Traceback: <class 'scrapy.pipelines.files.FileException'>: \n",
      "/Library/Frameworks/Python.framework/Versions/3.13/lib/python3.13/site-packages/twisted/internet/defer.py:1088:_runCallbacks\n",
      "/Library/Frameworks/Python.framework/Versions/3.13/lib/python3.13/site-packages/scrapy/pipelines/files.py:627:media_failed\n",
      "]\n",
      "NoneType: None\n",
      "2025-03-02 22:35:02 [scrapy.pipelines.media] ERROR: [Failure instance: Traceback: <class 'scrapy.pipelines.files.FileException'>: \n",
      "/Library/Frameworks/Python.framework/Versions/3.13/lib/python3.13/site-packages/twisted/internet/defer.py:1088:_runCallbacks\n",
      "/Library/Frameworks/Python.framework/Versions/3.13/lib/python3.13/site-packages/scrapy/pipelines/files.py:627:media_failed\n",
      "]\n",
      "NoneType: None\n",
      "2025-03-02 22:35:02 [urllib3.connectionpool] DEBUG: Starting new HTTPS connection (1): upload.wikimedia.org:443\n"
     ]
    },
    {
     "name": "stdout",
     "output_type": "stream",
     "text": [
      "error: 403\n"
     ]
    },
    {
     "name": "stderr",
     "output_type": "stream",
     "text": [
      "2025-03-02 22:35:02 [urllib3.connectionpool] DEBUG: https://upload.wikimedia.org:443 \"GET /wikipedia/en/thumb/c/cb/Batman-_Return_of_the_Caped_Crusaders.jpeg/220px-Batman-_Return_of_the_Caped_Crusaders.jpeg HTTP/1.1\" 200 32629\n",
      "2025-03-02 22:35:02 [scrapy.pipelines.media] ERROR: [Failure instance: Traceback: <class 'scrapy.pipelines.files.FileException'>: \n",
      "/Library/Frameworks/Python.framework/Versions/3.13/lib/python3.13/site-packages/twisted/internet/defer.py:1088:_runCallbacks\n",
      "/Library/Frameworks/Python.framework/Versions/3.13/lib/python3.13/site-packages/scrapy/pipelines/files.py:627:media_failed\n",
      "]\n",
      "NoneType: None\n",
      "2025-03-02 22:35:02 [scrapy.pipelines.media] ERROR: [Failure instance: Traceback: <class 'scrapy.pipelines.files.FileException'>: \n",
      "/Library/Frameworks/Python.framework/Versions/3.13/lib/python3.13/site-packages/twisted/internet/defer.py:1088:_runCallbacks\n",
      "/Library/Frameworks/Python.framework/Versions/3.13/lib/python3.13/site-packages/scrapy/pipelines/files.py:627:media_failed\n",
      "]\n",
      "NoneType: None\n",
      "2025-03-02 22:35:02 [scrapy.pipelines.media] ERROR: [Failure instance: Traceback: <class 'scrapy.pipelines.files.FileException'>: \n",
      "/Library/Frameworks/Python.framework/Versions/3.13/lib/python3.13/site-packages/twisted/internet/defer.py:1088:_runCallbacks\n",
      "/Library/Frameworks/Python.framework/Versions/3.13/lib/python3.13/site-packages/scrapy/pipelines/files.py:627:media_failed\n",
      "]\n",
      "NoneType: None\n",
      "2025-03-02 22:35:02 [scrapy.core.scraper] ERROR: Spider error processing <GET https://en.wikipedia.org/wiki/The_Lord_of_the_Rings_(film_series)> (referer: https://en.wikipedia.org/wiki/List_of_highest-grossing_films)\n",
      "Traceback (most recent call last):\n",
      "  File \"/Library/Frameworks/Python.framework/Versions/3.13/lib/python3.13/site-packages/scrapy/utils/defer.py\", line 327, in iter_errback\n",
      "    yield next(it)\n",
      "          ~~~~^^^^\n",
      "  File \"/Library/Frameworks/Python.framework/Versions/3.13/lib/python3.13/site-packages/scrapy/utils/python.py\", line 368, in __next__\n",
      "    return next(self.data)\n",
      "  File \"/Library/Frameworks/Python.framework/Versions/3.13/lib/python3.13/site-packages/scrapy/utils/python.py\", line 368, in __next__\n",
      "    return next(self.data)\n",
      "  File \"/Library/Frameworks/Python.framework/Versions/3.13/lib/python3.13/site-packages/scrapy/core/spidermw.py\", line 106, in process_sync\n",
      "    yield from iterable\n",
      "  File \"/Library/Frameworks/Python.framework/Versions/3.13/lib/python3.13/site-packages/scrapy/spidermiddlewares/referer.py\", line 379, in <genexpr>\n",
      "    return (self._set_referer(r, response) for r in result)\n",
      "                                                    ^^^^^^\n",
      "  File \"/Library/Frameworks/Python.framework/Versions/3.13/lib/python3.13/site-packages/scrapy/core/spidermw.py\", line 106, in process_sync\n",
      "    yield from iterable\n",
      "  File \"/Library/Frameworks/Python.framework/Versions/3.13/lib/python3.13/site-packages/scrapy/spidermiddlewares/urllength.py\", line 57, in <genexpr>\n",
      "    return (r for r in result if self._filter(r, spider))\n",
      "                       ^^^^^^\n",
      "  File \"/Library/Frameworks/Python.framework/Versions/3.13/lib/python3.13/site-packages/scrapy/core/spidermw.py\", line 106, in process_sync\n",
      "    yield from iterable\n",
      "  File \"/Library/Frameworks/Python.framework/Versions/3.13/lib/python3.13/site-packages/scrapy/spidermiddlewares/depth.py\", line 54, in <genexpr>\n",
      "    return (r for r in result if self._filter(r, response, spider))\n",
      "                       ^^^^^^\n",
      "  File \"/Library/Frameworks/Python.framework/Versions/3.13/lib/python3.13/site-packages/scrapy/core/spidermw.py\", line 106, in process_sync\n",
      "    yield from iterable\n",
      "  File \"/Users/fllarpy/projects/DWV/pop-films/wikipedia_scaper/wikipedia_scaper/spiders/movies_spider.py\", line 36, in parse_movie\n",
      "    year = int(infobox.xpath('.//th[div[contains(text(), \"Release date\")]]/following-sibling::td//li/text()').get().split()[-1])\n",
      "               ^^^^^^^^^^^^^^^^^^^^^^^^^^^^^^^^^^^^^^^^^^^^^^^^^^^^^^^^^^^^^^^^^^^^^^^^^^^^^^^^^^^^^^^^^^^^^^^^^^^^^^^^^^\n",
      "AttributeError: 'NoneType' object has no attribute 'split'\n",
      "2025-03-02 22:35:02 [scrapy.pipelines.media] ERROR: [Failure instance: Traceback: <class 'scrapy.pipelines.files.FileException'>: \n",
      "/Library/Frameworks/Python.framework/Versions/3.13/lib/python3.13/site-packages/twisted/internet/defer.py:1088:_runCallbacks\n",
      "/Library/Frameworks/Python.framework/Versions/3.13/lib/python3.13/site-packages/scrapy/pipelines/files.py:627:media_failed\n",
      "]\n",
      "NoneType: None\n",
      "2025-03-02 22:35:02 [scrapy.core.engine] DEBUG: Crawled (200) <GET https://en.wikipedia.org/wiki/Batman_Returns> (referer: https://en.wikipedia.org/wiki/List_of_highest-grossing_films)\n",
      "2025-03-02 22:35:02 [scrapy.core.engine] DEBUG: Crawled (200) <GET https://en.wikipedia.org/wiki/Batman_%26_Robin_(film)> (referer: https://en.wikipedia.org/wiki/List_of_highest-grossing_films)\n",
      "2025-03-02 22:35:02 [urllib3.connectionpool] DEBUG: Starting new HTTPS connection (1): upload.wikimedia.org:443\n"
     ]
    },
    {
     "name": "stdout",
     "output_type": "stream",
     "text": [
      "saved in images/Batman:_/Batman:_.jpeg\n",
      "erroe: \n"
     ]
    },
    {
     "name": "stderr",
     "output_type": "stream",
     "text": [
      "2025-03-02 22:35:03 [urllib3.connectionpool] DEBUG: https://upload.wikimedia.org:443 \"GET /wikipedia/en/thumb/c/cc/The_Lost_World_%E2%80%93_Jurassic_Park_poster.jpg/220px-The_Lost_World_%E2%80%93_Jurassic_Park_poster.jpg HTTP/1.1\" 200 25939\n",
      "2025-03-02 22:35:03 [urllib3.connectionpool] DEBUG: Starting new HTTPS connection (1): upload.wikimedia.org:443\n"
     ]
    },
    {
     "name": "stdout",
     "output_type": "stream",
     "text": [
      "saved in images/The_Lost_World:_Jurassic_Park/The_Lost_World:_Jurassic_Park.jpg\n",
      "erroe: \n"
     ]
    },
    {
     "name": "stderr",
     "output_type": "stream",
     "text": [
      "2025-03-02 22:35:03 [urllib3.connectionpool] DEBUG: https://upload.wikimedia.org:443 \"GET /wikipedia/en/thumb/6/6e/Jurassic_World_poster.jpg/220px-Jurassic_World_poster.jpg HTTP/1.1\" 200 22629\n",
      "2025-03-02 22:35:03 [scrapy.core.scraper] DEBUG: Scraped from <200 https://en.wikipedia.org/wiki/The_Lost_World:_Jurassic_Park>\n",
      "{'box_office': 618600000.0,\n",
      " 'countries': ['United States'],\n",
      " 'directors': ['Steven Spielberg'],\n",
      " 'image_urls': ['https://upload.wikimedia.org/wikipedia/en/thumb/c/cc/The_Lost_World_%E2%80%93_Jurassic_Park_poster.jpg/220px-The_Lost_World_%E2%80%93_Jurassic_Park_poster.jpg'],\n",
      " 'images': [],\n",
      " 'title': 'The Lost World: Jurassic Park',\n",
      " 'year': 1997}\n",
      "2025-03-02 22:35:03 [scrapy.core.scraper] DEBUG: Scraped from <200 https://en.wikipedia.org/wiki/Jurassic_World>\n",
      "{'box_office': 1671000000.0,\n",
      " 'countries': ['United States'],\n",
      " 'directors': ['Colin Trevorrow'],\n",
      " 'image_urls': ['https://upload.wikimedia.org/wikipedia/en/thumb/6/6e/Jurassic_World_poster.jpg/220px-Jurassic_World_poster.jpg'],\n",
      " 'images': [],\n",
      " 'title': 'Jurassic World',\n",
      " 'year': 2015}\n",
      "2025-03-02 22:35:03 [scrapy.core.scraper] DEBUG: Scraped from <200 https://en.wikipedia.org/wiki/Batman:_Return_of_the_Caped_Crusaders>\n",
      "{'box_office': 57343.0,\n",
      " 'countries': ['United States'],\n",
      " 'directors': [],\n",
      " 'image_urls': ['https://upload.wikimedia.org/wikipedia/en/thumb/c/cb/Batman-_Return_of_the_Caped_Crusaders.jpeg/220px-Batman-_Return_of_the_Caped_Crusaders.jpeg'],\n",
      " 'images': [],\n",
      " 'title': 'Batman: ',\n",
      " 'year': 2016}\n",
      "2025-03-02 22:35:03 [urllib3.connectionpool] DEBUG: Starting new HTTPS connection (1): upload.wikimedia.org:443\n"
     ]
    },
    {
     "name": "stdout",
     "output_type": "stream",
     "text": [
      "saved in images/Jurassic_World/Jurassic_World.jpg\n",
      "erroe: \n"
     ]
    },
    {
     "name": "stderr",
     "output_type": "stream",
     "text": [
      "2025-03-02 22:35:04 [urllib3.connectionpool] DEBUG: https://upload.wikimedia.org:443 \"GET /wikipedia/en/thumb/6/69/Batman1966Poster.jpg/220px-Batman1966Poster.jpg HTTP/1.1\" 200 33602\n",
      "2025-03-02 22:35:04 [urllib3.connectionpool] DEBUG: Starting new HTTPS connection (1): upload.wikimedia.org:443\n"
     ]
    },
    {
     "name": "stdout",
     "output_type": "stream",
     "text": [
      "saved in images/Batman/Batman.jpg\n",
      "erroe: \n"
     ]
    },
    {
     "name": "stderr",
     "output_type": "stream",
     "text": [
      "2025-03-02 22:35:04 [urllib3.connectionpool] DEBUG: https://upload.wikimedia.org:443 \"GET /wikipedia/en/thumb/6/6d/Jurassic_Park_III_poster.jpg/220px-Jurassic_Park_III_poster.jpg HTTP/1.1\" 403 2184\n",
      "2025-03-02 22:35:04 [urllib3.connectionpool] DEBUG: Starting new HTTPS connection (1): upload.wikimedia.org:443\n"
     ]
    },
    {
     "name": "stdout",
     "output_type": "stream",
     "text": [
      "error: 403\n"
     ]
    },
    {
     "name": "stderr",
     "output_type": "stream",
     "text": [
      "2025-03-02 22:35:04 [urllib3.connectionpool] DEBUG: https://upload.wikimedia.org:443 \"GET /wikipedia/en/thumb/c/ce/JurassicWorldDominion_Poster.jpeg/220px-JurassicWorldDominion_Poster.jpeg HTTP/1.1\" 200 26982\n",
      "2025-03-02 22:35:04 [urllib3.connectionpool] DEBUG: Starting new HTTPS connection (1): upload.wikimedia.org:443\n"
     ]
    },
    {
     "name": "stdout",
     "output_type": "stream",
     "text": [
      "saved in images/Jurassic_World_Dominion/Jurassic_World_Dominion.jpeg\n",
      "erroe: \n"
     ]
    },
    {
     "name": "stderr",
     "output_type": "stream",
     "text": [
      "2025-03-02 22:35:05 [urllib3.connectionpool] DEBUG: https://upload.wikimedia.org:443 \"GET /wikipedia/en/thumb/c/c6/Jurassic_World_Fallen_Kingdom.png/220px-Jurassic_World_Fallen_Kingdom.png HTTP/1.1\" 200 150511\n"
     ]
    },
    {
     "name": "stdout",
     "output_type": "stream",
     "text": [
      "saved in images/Jurassic_World:_Fallen_Kingdom/Jurassic_World:_Fallen_Kingdom.png\n",
      "erroe: \n"
     ]
    },
    {
     "name": "stderr",
     "output_type": "stream",
     "text": [
      "2025-03-02 22:35:05 [scrapy.core.engine] DEBUG: Crawled (200) <GET https://en.wikipedia.org/wiki/The_Batman_(film)> (referer: https://en.wikipedia.org/wiki/List_of_highest-grossing_films)\n",
      "2025-03-02 22:35:05 [scrapy.core.scraper] DEBUG: Scraped from <200 https://en.wikipedia.org/wiki/Batman_(1966_film)>\n",
      "{'box_office': 3900000.0,\n",
      " 'countries': ['United States'],\n",
      " 'directors': ['Leslie H. Martinson'],\n",
      " 'image_urls': ['https://upload.wikimedia.org/wikipedia/en/thumb/6/69/Batman1966Poster.jpg/220px-Batman1966Poster.jpg'],\n",
      " 'images': [],\n",
      " 'title': 'Batman',\n",
      " 'year': 1966}\n",
      "2025-03-02 22:35:05 [scrapy.core.scraper] DEBUG: Scraped from <200 https://en.wikipedia.org/wiki/Jurassic_Park_III>\n",
      "{'box_office': 368800000.0,\n",
      " 'countries': ['United States'],\n",
      " 'directors': ['Joe Johnston'],\n",
      " 'image_urls': ['https://upload.wikimedia.org/wikipedia/en/thumb/6/6d/Jurassic_Park_III_poster.jpg/220px-Jurassic_Park_III_poster.jpg'],\n",
      " 'images': [],\n",
      " 'title': 'Jurassic Park III',\n",
      " 'year': 2001}\n",
      "2025-03-02 22:35:05 [scrapy.core.scraper] DEBUG: Scraped from <200 https://en.wikipedia.org/wiki/Jurassic_World_Dominion>\n",
      "{'box_office': 1004000000.0,\n",
      " 'countries': ['United States'],\n",
      " 'directors': ['Colin Trevorrow'],\n",
      " 'image_urls': ['https://upload.wikimedia.org/wikipedia/en/thumb/c/ce/JurassicWorldDominion_Poster.jpeg/220px-JurassicWorldDominion_Poster.jpeg'],\n",
      " 'images': [],\n",
      " 'title': 'Jurassic World Dominion',\n",
      " 'year': 2022}\n",
      "2025-03-02 22:35:05 [scrapy.core.scraper] DEBUG: Scraped from <200 https://en.wikipedia.org/wiki/Jurassic_World:_Fallen_Kingdom>\n",
      "{'box_office': 1310000000.0,\n",
      " 'countries': ['China', 'United States'],\n",
      " 'directors': ['J. A. Bayona'],\n",
      " 'image_urls': ['https://upload.wikimedia.org/wikipedia/en/thumb/c/c6/Jurassic_World_Fallen_Kingdom.png/220px-Jurassic_World_Fallen_Kingdom.png'],\n",
      " 'images': [],\n",
      " 'title': 'Jurassic World: Fallen Kingdom',\n",
      " 'year': 2018}\n",
      "2025-03-02 22:35:05 [scrapy.pipelines.media] ERROR: [Failure instance: Traceback: <class 'scrapy.pipelines.files.FileException'>: \n",
      "/Library/Frameworks/Python.framework/Versions/3.13/lib/python3.13/site-packages/twisted/internet/defer.py:1088:_runCallbacks\n",
      "/Library/Frameworks/Python.framework/Versions/3.13/lib/python3.13/site-packages/scrapy/pipelines/files.py:627:media_failed\n",
      "]\n",
      "NoneType: None\n",
      "2025-03-02 22:35:05 [urllib3.connectionpool] DEBUG: Starting new HTTPS connection (1): upload.wikimedia.org:443\n",
      "2025-03-02 22:35:05 [urllib3.connectionpool] DEBUG: https://upload.wikimedia.org:443 \"GET /wikipedia/en/thumb/b/b9/Batman_and_Harley_Quinn_movie_poster.jpeg/220px-Batman_and_Harley_Quinn_movie_poster.jpeg HTTP/1.1\" 200 25671\n",
      "2025-03-02 22:35:05 [scrapy.pipelines.media] ERROR: [Failure instance: Traceback: <class 'scrapy.pipelines.files.FileException'>: \n",
      "/Library/Frameworks/Python.framework/Versions/3.13/lib/python3.13/site-packages/twisted/internet/defer.py:1088:_runCallbacks\n",
      "/Library/Frameworks/Python.framework/Versions/3.13/lib/python3.13/site-packages/scrapy/pipelines/files.py:627:media_failed\n",
      "]\n",
      "NoneType: None\n",
      "2025-03-02 22:35:05 [scrapy.pipelines.media] ERROR: [Failure instance: Traceback: <class 'scrapy.pipelines.files.FileException'>: \n",
      "/Library/Frameworks/Python.framework/Versions/3.13/lib/python3.13/site-packages/twisted/internet/defer.py:1088:_runCallbacks\n",
      "/Library/Frameworks/Python.framework/Versions/3.13/lib/python3.13/site-packages/scrapy/pipelines/files.py:627:media_failed\n",
      "]\n",
      "NoneType: None\n",
      "2025-03-02 22:35:05 [urllib3.connectionpool] DEBUG: Starting new HTTPS connection (1): upload.wikimedia.org:443\n"
     ]
    },
    {
     "name": "stdout",
     "output_type": "stream",
     "text": [
      "saved in images/Batman_and_Harley_Quinn/Batman_and_Harley_Quinn.jpeg\n",
      "erroe: \n"
     ]
    },
    {
     "name": "stderr",
     "output_type": "stream",
     "text": [
      "2025-03-02 22:35:06 [urllib3.connectionpool] DEBUG: https://upload.wikimedia.org:443 \"GET /wikipedia/en/thumb/0/04/Catwoman_poster.jpg/220px-Catwoman_poster.jpg HTTP/1.1\" 200 21934\n",
      "2025-03-02 22:35:06 [scrapy.core.scraper] DEBUG: Scraped from <200 https://en.wikipedia.org/wiki/Batman_and_Harley_Quinn>\n",
      "{'box_office': 6448.0,\n",
      " 'countries': ['United States'],\n",
      " 'directors': ['Sam Liu'],\n",
      " 'image_urls': ['https://upload.wikimedia.org/wikipedia/en/thumb/b/b9/Batman_and_Harley_Quinn_movie_poster.jpeg/220px-Batman_and_Harley_Quinn_movie_poster.jpeg'],\n",
      " 'images': [],\n",
      " 'title': 'Batman and Harley Quinn',\n",
      " 'year': 2017}\n",
      "2025-03-02 22:35:06 [urllib3.connectionpool] DEBUG: Starting new HTTPS connection (1): upload.wikimedia.org:443\n"
     ]
    },
    {
     "name": "stdout",
     "output_type": "stream",
     "text": [
      "saved in images/Catwoman/Catwoman.jpg\n",
      "erroe: \n"
     ]
    },
    {
     "name": "stderr",
     "output_type": "stream",
     "text": [
      "2025-03-02 22:35:06 [urllib3.connectionpool] DEBUG: https://upload.wikimedia.org:443 \"GET /wikipedia/en/thumb/1/11/Batman-The_Killing_Joke_%28film%29.jpg/220px-Batman-The_Killing_Joke_%28film%29.jpg HTTP/1.1\" 200 23850\n",
      "2025-03-02 22:35:06 [scrapy.core.scraper] DEBUG: Scraped from <200 https://en.wikipedia.org/wiki/Batman:_The_Killing_Joke_(film)>\n",
      "{'box_office': 4400000.0,\n",
      " 'countries': ['United States'],\n",
      " 'directors': ['Sam Liu'],\n",
      " 'image_urls': ['https://upload.wikimedia.org/wikipedia/en/thumb/1/11/Batman-The_Killing_Joke_%28film%29.jpg/220px-Batman-The_Killing_Joke_%28film%29.jpg'],\n",
      " 'images': [],\n",
      " 'title': 'Batman: The Killing Joke',\n",
      " 'year': 2016}\n",
      "2025-03-02 22:35:06 [scrapy.core.scraper] DEBUG: Scraped from <200 https://en.wikipedia.org/wiki/Catwoman_(film)>\n",
      "{'box_office': 82400000.0,\n",
      " 'countries': ['United States'],\n",
      " 'directors': ['Pitof'],\n",
      " 'image_urls': ['https://upload.wikimedia.org/wikipedia/en/thumb/0/04/Catwoman_poster.jpg/220px-Catwoman_poster.jpg'],\n",
      " 'images': [],\n",
      " 'title': 'Catwoman',\n",
      " 'year': 2004}\n",
      "2025-03-02 22:35:06 [scrapy.pipelines.media] ERROR: [Failure instance: Traceback: <class 'scrapy.pipelines.files.FileException'>: \n",
      "/Library/Frameworks/Python.framework/Versions/3.13/lib/python3.13/site-packages/twisted/internet/defer.py:1088:_runCallbacks\n",
      "/Library/Frameworks/Python.framework/Versions/3.13/lib/python3.13/site-packages/scrapy/pipelines/files.py:627:media_failed\n",
      "]\n",
      "NoneType: None\n",
      "2025-03-02 22:35:06 [scrapy.pipelines.media] ERROR: [Failure instance: Traceback: <class 'scrapy.pipelines.files.FileException'>: \n",
      "/Library/Frameworks/Python.framework/Versions/3.13/lib/python3.13/site-packages/twisted/internet/defer.py:1088:_runCallbacks\n",
      "/Library/Frameworks/Python.framework/Versions/3.13/lib/python3.13/site-packages/scrapy/pipelines/files.py:627:media_failed\n",
      "]\n",
      "NoneType: None\n",
      "2025-03-02 22:35:06 [urllib3.connectionpool] DEBUG: Starting new HTTPS connection (1): upload.wikimedia.org:443\n"
     ]
    },
    {
     "name": "stdout",
     "output_type": "stream",
     "text": [
      "saved in images/Batman:_The_Killing_Joke/Batman:_The_Killing_Joke.jpg\n",
      "erroe: \n"
     ]
    },
    {
     "name": "stderr",
     "output_type": "stream",
     "text": [
      "2025-03-02 22:35:06 [urllib3.connectionpool] DEBUG: https://upload.wikimedia.org:443 \"GET /wikipedia/en/thumb/e/ea/Batman_mask_of_the_phantasm_poster.jpg/220px-Batman_mask_of_the_phantasm_poster.jpg HTTP/1.1\" 200 23331\n",
      "2025-03-02 22:35:06 [urllib3.connectionpool] DEBUG: Starting new HTTPS connection (1): upload.wikimedia.org:443\n"
     ]
    },
    {
     "name": "stdout",
     "output_type": "stream",
     "text": [
      "saved in images/Batman:_Mask_of_the_Phantasm/Batman:_Mask_of_the_Phantasm.jpg\n",
      "erroe: \n"
     ]
    },
    {
     "name": "stderr",
     "output_type": "stream",
     "text": [
      "2025-03-02 22:35:07 [urllib3.connectionpool] DEBUG: https://upload.wikimedia.org:443 \"GET /wikipedia/en/6/61/The_Lego_Batman_Movie_PromotionalPoster.jpg HTTP/1.1\" 200 165396\n",
      "2025-03-02 22:35:07 [scrapy.pipelines.media] ERROR: [Failure instance: Traceback: <class 'scrapy.pipelines.files.FileException'>: \n",
      "/Library/Frameworks/Python.framework/Versions/3.13/lib/python3.13/site-packages/twisted/internet/defer.py:1088:_runCallbacks\n",
      "/Library/Frameworks/Python.framework/Versions/3.13/lib/python3.13/site-packages/scrapy/pipelines/files.py:627:media_failed\n",
      "]\n",
      "NoneType: None\n"
     ]
    },
    {
     "name": "stdout",
     "output_type": "stream",
     "text": [
      "saved in images/The_Lego_Batman_Movie/The_Lego_Batman_Movie.jpg\n",
      "erroe: \n"
     ]
    },
    {
     "name": "stderr",
     "output_type": "stream",
     "text": [
      "2025-03-02 22:35:07 [scrapy.pipelines.media] ERROR: [Failure instance: Traceback: <class 'scrapy.pipelines.files.FileException'>: \n",
      "/Library/Frameworks/Python.framework/Versions/3.13/lib/python3.13/site-packages/twisted/internet/defer.py:1088:_runCallbacks\n",
      "/Library/Frameworks/Python.framework/Versions/3.13/lib/python3.13/site-packages/scrapy/pipelines/files.py:627:media_failed\n",
      "]\n",
      "NoneType: None\n",
      "2025-03-02 22:35:07 [scrapy.core.scraper] DEBUG: Scraped from <200 https://en.wikipedia.org/wiki/Batman:_Mask_of_the_Phantasm>\n",
      "{'box_office': 5600000.0,\n",
      " 'countries': ['United States'],\n",
      " 'directors': ['Eric Radomski', 'Bruce Timm'],\n",
      " 'image_urls': ['https://upload.wikimedia.org/wikipedia/en/thumb/e/ea/Batman_mask_of_the_phantasm_poster.jpg/220px-Batman_mask_of_the_phantasm_poster.jpg'],\n",
      " 'images': [],\n",
      " 'title': 'Batman: Mask of the Phantasm',\n",
      " 'year': 1993}\n",
      "2025-03-02 22:35:07 [scrapy.core.scraper] DEBUG: Scraped from <200 https://en.wikipedia.org/wiki/The_Lego_Batman_Movie>\n",
      "{'box_office': 312200000.0,\n",
      " 'countries': ['Australia', 'Denmark', 'United States'],\n",
      " 'directors': ['Chris McKay'],\n",
      " 'image_urls': ['https://upload.wikimedia.org/wikipedia/en/6/61/The_Lego_Batman_Movie_PromotionalPoster.jpg'],\n",
      " 'images': [],\n",
      " 'title': 'The Lego Batman Movie',\n",
      " 'year': 2017}\n",
      "2025-03-02 22:35:07 [urllib3.connectionpool] DEBUG: Starting new HTTPS connection (1): upload.wikimedia.org:443\n",
      "2025-03-02 22:35:07 [urllib3.connectionpool] DEBUG: https://upload.wikimedia.org:443 \"GET /wikipedia/en/thumb/8/83/Batman_returns_poster2.jpg/220px-Batman_returns_poster2.jpg HTTP/1.1\" 200 18773\n",
      "2025-03-02 22:35:07 [urllib3.connectionpool] DEBUG: Starting new HTTPS connection (1): upload.wikimedia.org:443\n"
     ]
    },
    {
     "name": "stdout",
     "output_type": "stream",
     "text": [
      "saved in images/Batman_Returns/Batman_Returns.jpg\n",
      "erroe: \n"
     ]
    },
    {
     "name": "stderr",
     "output_type": "stream",
     "text": [
      "2025-03-02 22:35:08 [urllib3.connectionpool] DEBUG: https://upload.wikimedia.org:443 \"GET /wikipedia/en/3/37/Batman_%26_Robin_poster.jpg HTTP/1.1\" 200 119803\n"
     ]
    },
    {
     "name": "stdout",
     "output_type": "stream",
     "text": [
      "saved in images/Batman_&_Robin/Batman_&_Robin.jpg\n",
      "erroe: \n"
     ]
    },
    {
     "name": "stderr",
     "output_type": "stream",
     "text": [
      "2025-03-02 22:35:08 [scrapy.pipelines.media] ERROR: [Failure instance: Traceback: <class 'scrapy.pipelines.files.FileException'>: \n",
      "/Library/Frameworks/Python.framework/Versions/3.13/lib/python3.13/site-packages/twisted/internet/defer.py:1088:_runCallbacks\n",
      "/Library/Frameworks/Python.framework/Versions/3.13/lib/python3.13/site-packages/scrapy/pipelines/files.py:627:media_failed\n",
      "]\n",
      "NoneType: None\n",
      "2025-03-02 22:35:08 [scrapy.core.engine] DEBUG: Crawled (200) <GET https://en.wikipedia.org/wiki/Blue_Beetle_(film)> (referer: https://en.wikipedia.org/wiki/List_of_highest-grossing_films)\n",
      "2025-03-02 22:35:08 [scrapy.core.engine] DEBUG: Crawled (200) <GET https://en.wikipedia.org/wiki/Batman_Forever> (referer: https://en.wikipedia.org/wiki/List_of_highest-grossing_films)\n",
      "2025-03-02 22:35:08 [scrapy.core.engine] DEBUG: Crawled (200) <GET https://en.wikipedia.org/wiki/The_Dark_Knight_trilogy> (referer: https://en.wikipedia.org/wiki/List_of_highest-grossing_films)\n",
      "2025-03-02 22:35:08 [scrapy.core.engine] DEBUG: Crawled (200) <GET https://en.wikipedia.org/wiki/Batman_(1989_film)> (referer: https://en.wikipedia.org/wiki/List_of_highest-grossing_films)\n",
      "2025-03-02 22:35:08 [scrapy.core.engine] DEBUG: Crawled (200) <GET https://en.wikipedia.org/wiki/Joker:_Folie_%C3%A0_Deux> (referer: https://en.wikipedia.org/wiki/List_of_highest-grossing_films)\n",
      "2025-03-02 22:35:08 [scrapy.core.engine] DEBUG: Crawled (200) <GET https://en.wikipedia.org/wiki/Batman_Begins> (referer: https://en.wikipedia.org/wiki/List_of_highest-grossing_films)\n",
      "2025-03-02 22:35:08 [scrapy.core.scraper] DEBUG: Scraped from <200 https://en.wikipedia.org/wiki/Batman_Returns>\n",
      "{'box_office': 266.8,\n",
      " 'countries': ['United States'],\n",
      " 'directors': ['Tim Burton'],\n",
      " 'image_urls': ['https://upload.wikimedia.org/wikipedia/en/thumb/8/83/Batman_returns_poster2.jpg/220px-Batman_returns_poster2.jpg'],\n",
      " 'images': [],\n",
      " 'title': 'Batman Returns',\n",
      " 'year': 1992}\n",
      "2025-03-02 22:35:08 [scrapy.core.scraper] DEBUG: Scraped from <200 https://en.wikipedia.org/wiki/Batman_%26_Robin_(film)>\n",
      "{'box_office': 238000000.0,\n",
      " 'countries': ['United States'],\n",
      " 'directors': ['Joel Schumacher'],\n",
      " 'image_urls': ['https://upload.wikimedia.org/wikipedia/en/3/37/Batman_%26_Robin_poster.jpg'],\n",
      " 'images': [],\n",
      " 'title': 'Batman & Robin',\n",
      " 'year': 1997}\n",
      "2025-03-02 22:35:08 [urllib3.connectionpool] DEBUG: Starting new HTTPS connection (1): upload.wikimedia.org:443\n",
      "2025-03-02 22:35:08 [urllib3.connectionpool] DEBUG: https://upload.wikimedia.org:443 \"GET /wikipedia/en/thumb/f/ff/The_Batman_%28film%29_poster.jpg/220px-The_Batman_%28film%29_poster.jpg HTTP/1.1\" 200 20219\n",
      "2025-03-02 22:35:08 [scrapy.core.engine] DEBUG: Crawled (200) <GET https://en.wikipedia.org/wiki/The_Dark_Knight_Rises> (referer: https://en.wikipedia.org/wiki/List_of_highest-grossing_films)\n",
      "2025-03-02 22:35:08 [scrapy.core.engine] DEBUG: Crawled (200) <GET https://en.wikipedia.org/wiki/Joker_(2019_film)> (referer: https://en.wikipedia.org/wiki/List_of_highest-grossing_films)\n",
      "2025-03-02 22:35:08 [scrapy.core.scraper] DEBUG: Scraped from <200 https://en.wikipedia.org/wiki/The_Batman_(film)>\n",
      "{'box_office': 772.3,\n",
      " 'countries': ['United States'],\n",
      " 'directors': ['Matt Reeves'],\n",
      " 'image_urls': ['https://upload.wikimedia.org/wikipedia/en/thumb/f/ff/The_Batman_%28film%29_poster.jpg/220px-The_Batman_%28film%29_poster.jpg'],\n",
      " 'images': [],\n",
      " 'title': 'The Batman',\n",
      " 'year': 2022}\n",
      "2025-03-02 22:35:08 [scrapy.pipelines.media] ERROR: [Failure instance: Traceback: <class 'scrapy.pipelines.files.FileException'>: \n",
      "/Library/Frameworks/Python.framework/Versions/3.13/lib/python3.13/site-packages/twisted/internet/defer.py:1088:_runCallbacks\n",
      "/Library/Frameworks/Python.framework/Versions/3.13/lib/python3.13/site-packages/scrapy/pipelines/files.py:627:media_failed\n",
      "]\n",
      "NoneType: None\n",
      "2025-03-02 22:35:08 [scrapy.pipelines.media] ERROR: [Failure instance: Traceback: <class 'scrapy.pipelines.files.FileException'>: \n",
      "/Library/Frameworks/Python.framework/Versions/3.13/lib/python3.13/site-packages/twisted/internet/defer.py:1088:_runCallbacks\n",
      "/Library/Frameworks/Python.framework/Versions/3.13/lib/python3.13/site-packages/scrapy/pipelines/files.py:627:media_failed\n",
      "]\n",
      "NoneType: None\n",
      "2025-03-02 22:35:09 [scrapy.core.scraper] ERROR: Spider error processing <GET https://en.wikipedia.org/wiki/The_Dark_Knight_trilogy> (referer: https://en.wikipedia.org/wiki/List_of_highest-grossing_films)\n",
      "Traceback (most recent call last):\n",
      "  File \"/Library/Frameworks/Python.framework/Versions/3.13/lib/python3.13/site-packages/scrapy/utils/defer.py\", line 327, in iter_errback\n",
      "    yield next(it)\n",
      "          ~~~~^^^^\n",
      "  File \"/Library/Frameworks/Python.framework/Versions/3.13/lib/python3.13/site-packages/scrapy/utils/python.py\", line 368, in __next__\n",
      "    return next(self.data)\n",
      "  File \"/Library/Frameworks/Python.framework/Versions/3.13/lib/python3.13/site-packages/scrapy/utils/python.py\", line 368, in __next__\n",
      "    return next(self.data)\n",
      "  File \"/Library/Frameworks/Python.framework/Versions/3.13/lib/python3.13/site-packages/scrapy/core/spidermw.py\", line 106, in process_sync\n",
      "    yield from iterable\n",
      "  File \"/Library/Frameworks/Python.framework/Versions/3.13/lib/python3.13/site-packages/scrapy/spidermiddlewares/referer.py\", line 379, in <genexpr>\n",
      "    return (self._set_referer(r, response) for r in result)\n",
      "                                                    ^^^^^^\n",
      "  File \"/Library/Frameworks/Python.framework/Versions/3.13/lib/python3.13/site-packages/scrapy/core/spidermw.py\", line 106, in process_sync\n",
      "    yield from iterable\n",
      "  File \"/Library/Frameworks/Python.framework/Versions/3.13/lib/python3.13/site-packages/scrapy/spidermiddlewares/urllength.py\", line 57, in <genexpr>\n",
      "    return (r for r in result if self._filter(r, spider))\n",
      "                       ^^^^^^\n",
      "  File \"/Library/Frameworks/Python.framework/Versions/3.13/lib/python3.13/site-packages/scrapy/core/spidermw.py\", line 106, in process_sync\n",
      "    yield from iterable\n",
      "  File \"/Library/Frameworks/Python.framework/Versions/3.13/lib/python3.13/site-packages/scrapy/spidermiddlewares/depth.py\", line 54, in <genexpr>\n",
      "    return (r for r in result if self._filter(r, response, spider))\n",
      "                       ^^^^^^\n",
      "  File \"/Library/Frameworks/Python.framework/Versions/3.13/lib/python3.13/site-packages/scrapy/core/spidermw.py\", line 106, in process_sync\n",
      "    yield from iterable\n",
      "  File \"/Users/fllarpy/projects/DWV/pop-films/wikipedia_scaper/wikipedia_scaper/spiders/movies_spider.py\", line 36, in parse_movie\n",
      "    year = int(infobox.xpath('.//th[div[contains(text(), \"Release date\")]]/following-sibling::td//li/text()').get().split()[-1])\n",
      "               ^^^^^^^^^^^^^^^^^^^^^^^^^^^^^^^^^^^^^^^^^^^^^^^^^^^^^^^^^^^^^^^^^^^^^^^^^^^^^^^^^^^^^^^^^^^^^^^^^^^^^^^^^^\n",
      "AttributeError: 'NoneType' object has no attribute 'split'\n",
      "2025-03-02 22:35:09 [scrapy.pipelines.media] ERROR: [Failure instance: Traceback: <class 'scrapy.pipelines.files.FileException'>: \n",
      "/Library/Frameworks/Python.framework/Versions/3.13/lib/python3.13/site-packages/twisted/internet/defer.py:1088:_runCallbacks\n",
      "/Library/Frameworks/Python.framework/Versions/3.13/lib/python3.13/site-packages/scrapy/pipelines/files.py:627:media_failed\n",
      "]\n",
      "NoneType: None\n",
      "2025-03-02 22:35:09 [scrapy.pipelines.media] ERROR: [Failure instance: Traceback: <class 'scrapy.pipelines.files.FileException'>: \n",
      "/Library/Frameworks/Python.framework/Versions/3.13/lib/python3.13/site-packages/twisted/internet/defer.py:1088:_runCallbacks\n",
      "/Library/Frameworks/Python.framework/Versions/3.13/lib/python3.13/site-packages/scrapy/pipelines/files.py:627:media_failed\n",
      "]\n",
      "NoneType: None\n",
      "2025-03-02 22:35:09 [scrapy.pipelines.media] ERROR: [Failure instance: Traceback: <class 'scrapy.pipelines.files.FileException'>: \n",
      "/Library/Frameworks/Python.framework/Versions/3.13/lib/python3.13/site-packages/twisted/internet/defer.py:1088:_runCallbacks\n",
      "/Library/Frameworks/Python.framework/Versions/3.13/lib/python3.13/site-packages/scrapy/pipelines/files.py:627:media_failed\n",
      "]\n",
      "NoneType: None\n",
      "2025-03-02 22:35:09 [urllib3.connectionpool] DEBUG: Starting new HTTPS connection (1): upload.wikimedia.org:443\n"
     ]
    },
    {
     "name": "stdout",
     "output_type": "stream",
     "text": [
      "saved in images/The_Batman/The_Batman.jpg\n",
      "erroe: \n",
      "None\n"
     ]
    },
    {
     "name": "stderr",
     "output_type": "stream",
     "text": [
      "2025-03-02 22:35:09 [urllib3.connectionpool] DEBUG: https://upload.wikimedia.org:443 \"GET /wikipedia/en/thumb/6/68/Blue_Beetle_%28film%29_poster.jpg/220px-Blue_Beetle_%28film%29_poster.jpg HTTP/1.1\" 200 31109\n",
      "2025-03-02 22:35:09 [urllib3.connectionpool] DEBUG: Starting new HTTPS connection (1): upload.wikimedia.org:443\n"
     ]
    },
    {
     "name": "stdout",
     "output_type": "stream",
     "text": [
      "saved in images/Blue_Beetle/Blue_Beetle.jpg\n",
      "erroe: \n"
     ]
    },
    {
     "name": "stderr",
     "output_type": "stream",
     "text": [
      "2025-03-02 22:35:09 [urllib3.connectionpool] DEBUG: https://upload.wikimedia.org:443 \"GET /wikipedia/en/thumb/9/9d/Batman_Forever_poster.png/220px-Batman_Forever_poster.png HTTP/1.1\" 200 139081\n",
      "2025-03-02 22:35:09 [urllib3.connectionpool] DEBUG: Starting new HTTPS connection (1): upload.wikimedia.org:443\n"
     ]
    },
    {
     "name": "stdout",
     "output_type": "stream",
     "text": [
      "saved in images/Batman_Forever/Batman_Forever.png\n",
      "erroe: \n"
     ]
    },
    {
     "name": "stderr",
     "output_type": "stream",
     "text": [
      "2025-03-02 22:35:10 [urllib3.connectionpool] DEBUG: https://upload.wikimedia.org:443 \"GET /wikipedia/en/thumb/5/5a/Batman_%281989%29_theatrical_poster.jpg/220px-Batman_%281989%29_theatrical_poster.jpg HTTP/1.1\" 200 23716\n",
      "2025-03-02 22:35:10 [urllib3.connectionpool] DEBUG: Starting new HTTPS connection (1): upload.wikimedia.org:443\n"
     ]
    },
    {
     "name": "stdout",
     "output_type": "stream",
     "text": [
      "saved in images/Batman/Batman.jpg\n",
      "erroe: \n"
     ]
    },
    {
     "name": "stderr",
     "output_type": "stream",
     "text": [
      "2025-03-02 22:35:10 [urllib3.connectionpool] DEBUG: https://upload.wikimedia.org:443 \"GET /wikipedia/en/thumb/e/e8/Joker_-_Folie_%C3%A0_Deux_poster.jpg/220px-Joker_-_Folie_%C3%A0_Deux_poster.jpg HTTP/1.1\" 200 21114\n",
      "2025-03-02 22:35:10 [urllib3.connectionpool] DEBUG: Starting new HTTPS connection (1): upload.wikimedia.org:443\n"
     ]
    },
    {
     "name": "stdout",
     "output_type": "stream",
     "text": [
      "saved in images/Joker:_Folie_à_Deux/Joker:_Folie_à_Deux.jpg\n",
      "erroe: \n"
     ]
    },
    {
     "name": "stderr",
     "output_type": "stream",
     "text": [
      "2025-03-02 22:35:11 [urllib3.connectionpool] DEBUG: https://upload.wikimedia.org:443 \"GET /wikipedia/en/thumb/a/af/Batman_Begins_Poster.jpg/220px-Batman_Begins_Poster.jpg HTTP/1.1\" 200 26387\n",
      "2025-03-02 22:35:11 [scrapy.core.engine] DEBUG: Crawled (200) <GET https://en.wikipedia.org/wiki/Shazam!_Fury_of_the_Gods> (referer: https://en.wikipedia.org/wiki/List_of_highest-grossing_films)\n",
      "2025-03-02 22:35:11 [scrapy.core.scraper] DEBUG: Scraped from <200 https://en.wikipedia.org/wiki/Blue_Beetle_(film)>\n",
      "{'box_office': 130800000.00000001,\n",
      " 'countries': ['United States'],\n",
      " 'directors': ['Ángel Manuel Soto'],\n",
      " 'image_urls': ['https://upload.wikimedia.org/wikipedia/en/thumb/6/68/Blue_Beetle_%28film%29_poster.jpg/220px-Blue_Beetle_%28film%29_poster.jpg'],\n",
      " 'images': [],\n",
      " 'title': 'Blue Beetle',\n",
      " 'year': 2023}\n",
      "2025-03-02 22:35:11 [scrapy.core.scraper] DEBUG: Scraped from <200 https://en.wikipedia.org/wiki/Batman_Forever>\n",
      "{'box_office': 336600000.0,\n",
      " 'countries': ['United States'],\n",
      " 'directors': ['Joel Schumacher'],\n",
      " 'image_urls': ['https://upload.wikimedia.org/wikipedia/en/thumb/9/9d/Batman_Forever_poster.png/220px-Batman_Forever_poster.png'],\n",
      " 'images': [],\n",
      " 'title': 'Batman Forever',\n",
      " 'year': 1995}\n",
      "2025-03-02 22:35:11 [scrapy.core.scraper] DEBUG: Scraped from <200 https://en.wikipedia.org/wiki/Batman_(1989_film)>\n",
      "{'box_office': 411600000.0,\n",
      " 'countries': ['United States', 'United Kingdom'],\n",
      " 'directors': ['Tim Burton'],\n",
      " 'image_urls': ['https://upload.wikimedia.org/wikipedia/en/thumb/5/5a/Batman_%281989%29_theatrical_poster.jpg/220px-Batman_%281989%29_theatrical_poster.jpg'],\n",
      " 'images': [],\n",
      " 'title': 'Batman',\n",
      " 'year': 1989}\n",
      "2025-03-02 22:35:11 [scrapy.core.scraper] DEBUG: Scraped from <200 https://en.wikipedia.org/wiki/Joker:_Folie_%C3%A0_Deux>\n",
      "{'box_office': 207500000.0,\n",
      " 'countries': ['United States'],\n",
      " 'directors': ['Todd Phillips'],\n",
      " 'image_urls': ['https://upload.wikimedia.org/wikipedia/en/thumb/e/e8/Joker_-_Folie_%C3%A0_Deux_poster.jpg/220px-Joker_-_Folie_%C3%A0_Deux_poster.jpg'],\n",
      " 'images': [],\n",
      " 'title': 'Joker: Folie à Deux',\n",
      " 'year': 2024}\n",
      "2025-03-02 22:35:11 [scrapy.core.scraper] DEBUG: Scraped from <200 https://en.wikipedia.org/wiki/Batman_Begins>\n",
      "{'box_office': 373700000.0,\n",
      " 'countries': ['United States', 'United Kingdom'],\n",
      " 'directors': ['Christopher Nolan'],\n",
      " 'image_urls': ['https://upload.wikimedia.org/wikipedia/en/thumb/a/af/Batman_Begins_Poster.jpg/220px-Batman_Begins_Poster.jpg'],\n",
      " 'images': [],\n",
      " 'title': 'Batman Begins',\n",
      " 'year': 2005}\n",
      "2025-03-02 22:35:11 [scrapy.core.engine] DEBUG: Crawled (200) <GET https://en.wikipedia.org/wiki/Birds_of_Prey_(2020_film)> (referer: https://en.wikipedia.org/wiki/List_of_highest-grossing_films)\n",
      "2025-03-02 22:35:11 [scrapy.core.engine] DEBUG: Crawled (200) <GET https://en.wikipedia.org/wiki/Black_Adam_(film)> (referer: https://en.wikipedia.org/wiki/List_of_highest-grossing_films)\n",
      "2025-03-02 22:35:11 [scrapy.core.engine] DEBUG: Crawled (200) <GET https://en.wikipedia.org/wiki/Wonder_Woman_1984> (referer: https://en.wikipedia.org/wiki/List_of_highest-grossing_films)\n",
      "2025-03-02 22:35:11 [scrapy.core.engine] DEBUG: Crawled (200) <GET https://en.wikipedia.org/wiki/The_Suicide_Squad_(film)> (referer: https://en.wikipedia.org/wiki/List_of_highest-grossing_films)\n",
      "2025-03-02 22:35:11 [scrapy.core.engine] DEBUG: Crawled (200) <GET https://en.wikipedia.org/wiki/The_Flash_(film)> (referer: https://en.wikipedia.org/wiki/List_of_highest-grossing_films)\n",
      "2025-03-02 22:35:11 [scrapy.core.engine] DEBUG: Crawled (200) <GET https://en.wikipedia.org/wiki/Shazam!_(film)> (referer: https://en.wikipedia.org/wiki/List_of_highest-grossing_films)\n",
      "2025-03-02 22:35:11 [scrapy.core.engine] DEBUG: Crawled (200) <GET https://en.wikipedia.org/wiki/Aquaman_and_the_Lost_Kingdom> (referer: https://en.wikipedia.org/wiki/List_of_highest-grossing_films)\n",
      "2025-03-02 22:35:11 [scrapy.pipelines.media] ERROR: [Failure instance: Traceback: <class 'scrapy.pipelines.files.FileException'>: \n",
      "/Library/Frameworks/Python.framework/Versions/3.13/lib/python3.13/site-packages/twisted/internet/defer.py:1088:_runCallbacks\n",
      "/Library/Frameworks/Python.framework/Versions/3.13/lib/python3.13/site-packages/scrapy/pipelines/files.py:627:media_failed\n",
      "]\n",
      "NoneType: None\n",
      "2025-03-02 22:35:11 [scrapy.pipelines.media] ERROR: [Failure instance: Traceback: <class 'scrapy.pipelines.files.FileException'>: \n",
      "/Library/Frameworks/Python.framework/Versions/3.13/lib/python3.13/site-packages/twisted/internet/defer.py:1088:_runCallbacks\n",
      "/Library/Frameworks/Python.framework/Versions/3.13/lib/python3.13/site-packages/scrapy/pipelines/files.py:627:media_failed\n",
      "]\n",
      "NoneType: None\n",
      "2025-03-02 22:35:11 [urllib3.connectionpool] DEBUG: Starting new HTTPS connection (1): upload.wikimedia.org:443\n"
     ]
    },
    {
     "name": "stdout",
     "output_type": "stream",
     "text": [
      "saved in images/Batman_Begins/Batman_Begins.jpg\n",
      "erroe: \n"
     ]
    },
    {
     "name": "stderr",
     "output_type": "stream",
     "text": [
      "2025-03-02 22:35:11 [urllib3.connectionpool] DEBUG: https://upload.wikimedia.org:443 \"GET /wikipedia/en/8/83/Dark_knight_rises_poster.jpg HTTP/1.1\" 200 127329\n"
     ]
    },
    {
     "name": "stdout",
     "output_type": "stream",
     "text": [
      "saved in images/The_Dark_Knight_Rises/The_Dark_Knight_Rises.jpg\n",
      "erroe: \n"
     ]
    },
    {
     "name": "stderr",
     "output_type": "stream",
     "text": [
      "2025-03-02 22:35:11 [urllib3.connectionpool] DEBUG: Starting new HTTPS connection (1): upload.wikimedia.org:443\n",
      "2025-03-02 22:35:12 [urllib3.connectionpool] DEBUG: https://upload.wikimedia.org:443 \"GET /wikipedia/en/thumb/e/e1/Joker_%282019_film%29_poster.jpg/220px-Joker_%282019_film%29_poster.jpg HTTP/1.1\" 200 26373\n",
      "2025-03-02 22:35:12 [scrapy.core.engine] DEBUG: Crawled (200) <GET https://en.wikipedia.org/wiki/The_Fast_and_the_Furious:_Tokyo_Drift> (referer: https://en.wikipedia.org/wiki/List_of_highest-grossing_films)\n",
      "2025-03-02 22:35:12 [scrapy.core.engine] DEBUG: Crawled (200) <GET https://en.wikipedia.org/wiki/Hobbs_%26_Shaw> (referer: https://en.wikipedia.org/wiki/List_of_highest-grossing_films)\n",
      "2025-03-02 22:35:12 [scrapy.core.scraper] DEBUG: Scraped from <200 https://en.wikipedia.org/wiki/The_Dark_Knight_Rises>\n",
      "{'box_office': 1115000000.0,\n",
      " 'countries': ['United States', 'United Kingdom'],\n",
      " 'directors': ['Christopher Nolan'],\n",
      " 'image_urls': ['https://upload.wikimedia.org/wikipedia/en/8/83/Dark_knight_rises_poster.jpg'],\n",
      " 'images': [],\n",
      " 'title': 'The Dark Knight Rises',\n",
      " 'year': 2012}\n",
      "2025-03-02 22:35:12 [scrapy.core.scraper] DEBUG: Scraped from <200 https://en.wikipedia.org/wiki/Joker_(2019_film)>\n",
      "{'box_office': 1079000000.0,\n",
      " 'countries': ['United States'],\n",
      " 'directors': ['Todd Phillips'],\n",
      " 'image_urls': ['https://upload.wikimedia.org/wikipedia/en/thumb/e/e1/Joker_%282019_film%29_poster.jpg/220px-Joker_%282019_film%29_poster.jpg'],\n",
      " 'images': [],\n",
      " 'title': 'Joker',\n",
      " 'year': 2019}\n",
      "2025-03-02 22:35:12 [scrapy.core.engine] DEBUG: Crawled (200) <GET https://en.wikipedia.org/wiki/Justice_League_(film)> (referer: https://en.wikipedia.org/wiki/List_of_highest-grossing_films)\n",
      "2025-03-02 22:35:12 [scrapy.core.engine] DEBUG: Crawled (200) <GET https://en.wikipedia.org/wiki/Man_of_Steel_(film)> (referer: https://en.wikipedia.org/wiki/List_of_highest-grossing_films)\n",
      "2025-03-02 22:35:12 [scrapy.core.engine] DEBUG: Crawled (200) <GET https://en.wikipedia.org/wiki/Suicide_Squad_(2016_film)> (referer: https://en.wikipedia.org/wiki/List_of_highest-grossing_films)\n",
      "2025-03-02 22:35:12 [scrapy.core.engine] DEBUG: Crawled (200) <GET https://en.wikipedia.org/wiki/Aquaman_(film)> (referer: https://en.wikipedia.org/wiki/List_of_highest-grossing_films)\n",
      "2025-03-02 22:35:12 [scrapy.core.engine] DEBUG: Crawled (200) <GET https://en.wikipedia.org/wiki/Wonder_Woman_(2017_film)> (referer: https://en.wikipedia.org/wiki/List_of_highest-grossing_films)\n",
      "2025-03-02 22:35:12 [scrapy.core.engine] DEBUG: Crawled (200) <GET https://en.wikipedia.org/wiki/Batman_v_Superman:_Dawn_of_Justice> (referer: https://en.wikipedia.org/wiki/List_of_highest-grossing_films)\n",
      "2025-03-02 22:35:12 [scrapy.pipelines.media] ERROR: [Failure instance: Traceback: <class 'scrapy.pipelines.files.FileException'>: \n",
      "/Library/Frameworks/Python.framework/Versions/3.13/lib/python3.13/site-packages/twisted/internet/defer.py:1088:_runCallbacks\n",
      "/Library/Frameworks/Python.framework/Versions/3.13/lib/python3.13/site-packages/scrapy/pipelines/files.py:627:media_failed\n",
      "]\n",
      "NoneType: None\n",
      "2025-03-02 22:35:12 [urllib3.connectionpool] DEBUG: Starting new HTTPS connection (1): upload.wikimedia.org:443\n"
     ]
    },
    {
     "name": "stdout",
     "output_type": "stream",
     "text": [
      "saved in images/Joker/Joker.jpg\n",
      "erroe: \n"
     ]
    },
    {
     "name": "stderr",
     "output_type": "stream",
     "text": [
      "2025-03-02 22:35:12 [urllib3.connectionpool] DEBUG: https://upload.wikimedia.org:443 \"GET /wikipedia/en/thumb/f/fb/Shazam%21_Fury_of_the_Gods_%282023%29_Main_Poster.png/220px-Shazam%21_Fury_of_the_Gods_%282023%29_Main_Poster.png HTTP/1.1\" 200 142195\n",
      "2025-03-02 22:35:12 [scrapy.pipelines.media] ERROR: [Failure instance: Traceback: <class 'scrapy.pipelines.files.FileException'>: \n",
      "/Library/Frameworks/Python.framework/Versions/3.13/lib/python3.13/site-packages/twisted/internet/defer.py:1088:_runCallbacks\n",
      "/Library/Frameworks/Python.framework/Versions/3.13/lib/python3.13/site-packages/scrapy/pipelines/files.py:627:media_failed\n",
      "]\n",
      "NoneType: None\n",
      "2025-03-02 22:35:12 [scrapy.pipelines.media] ERROR: [Failure instance: Traceback: <class 'scrapy.pipelines.files.FileException'>: \n",
      "/Library/Frameworks/Python.framework/Versions/3.13/lib/python3.13/site-packages/twisted/internet/defer.py:1088:_runCallbacks\n",
      "/Library/Frameworks/Python.framework/Versions/3.13/lib/python3.13/site-packages/scrapy/pipelines/files.py:627:media_failed\n",
      "]\n",
      "NoneType: None\n"
     ]
    },
    {
     "name": "stdout",
     "output_type": "stream",
     "text": [
      "saved in images/Shazam!_Fury_of_the_Gods/Shazam!_Fury_of_the_Gods.png\n",
      "erroe: \n"
     ]
    },
    {
     "name": "stderr",
     "output_type": "stream",
     "text": [
      "2025-03-02 22:35:12 [scrapy.pipelines.media] ERROR: [Failure instance: Traceback: <class 'scrapy.pipelines.files.FileException'>: \n",
      "/Library/Frameworks/Python.framework/Versions/3.13/lib/python3.13/site-packages/twisted/internet/defer.py:1088:_runCallbacks\n",
      "/Library/Frameworks/Python.framework/Versions/3.13/lib/python3.13/site-packages/scrapy/pipelines/files.py:627:media_failed\n",
      "]\n",
      "NoneType: None\n",
      "2025-03-02 22:35:12 [scrapy.pipelines.media] ERROR: [Failure instance: Traceback: <class 'scrapy.pipelines.files.FileException'>: \n",
      "/Library/Frameworks/Python.framework/Versions/3.13/lib/python3.13/site-packages/twisted/internet/defer.py:1088:_runCallbacks\n",
      "/Library/Frameworks/Python.framework/Versions/3.13/lib/python3.13/site-packages/scrapy/pipelines/files.py:627:media_failed\n",
      "]\n",
      "NoneType: None\n",
      "2025-03-02 22:35:12 [scrapy.pipelines.media] ERROR: [Failure instance: Traceback: <class 'scrapy.pipelines.files.FileException'>: \n",
      "/Library/Frameworks/Python.framework/Versions/3.13/lib/python3.13/site-packages/twisted/internet/defer.py:1088:_runCallbacks\n",
      "/Library/Frameworks/Python.framework/Versions/3.13/lib/python3.13/site-packages/scrapy/pipelines/files.py:627:media_failed\n",
      "]\n",
      "NoneType: None\n",
      "2025-03-02 22:35:12 [scrapy.pipelines.media] ERROR: [Failure instance: Traceback: <class 'scrapy.pipelines.files.FileException'>: \n",
      "/Library/Frameworks/Python.framework/Versions/3.13/lib/python3.13/site-packages/twisted/internet/defer.py:1088:_runCallbacks\n",
      "/Library/Frameworks/Python.framework/Versions/3.13/lib/python3.13/site-packages/scrapy/pipelines/files.py:627:media_failed\n",
      "]\n",
      "NoneType: None\n",
      "2025-03-02 22:35:12 [scrapy.pipelines.media] ERROR: [Failure instance: Traceback: <class 'scrapy.pipelines.files.FileException'>: \n",
      "/Library/Frameworks/Python.framework/Versions/3.13/lib/python3.13/site-packages/twisted/internet/defer.py:1088:_runCallbacks\n",
      "/Library/Frameworks/Python.framework/Versions/3.13/lib/python3.13/site-packages/scrapy/pipelines/files.py:627:media_failed\n",
      "]\n",
      "NoneType: None\n",
      "2025-03-02 22:35:12 [scrapy.core.engine] DEBUG: Crawled (200) <GET https://en.wikipedia.org/wiki/The_Fast_and_the_Furious_(2001_film)> (referer: https://en.wikipedia.org/wiki/List_of_highest-grossing_films)\n",
      "2025-03-02 22:35:12 [scrapy.core.scraper] DEBUG: Scraped from <200 https://en.wikipedia.org/wiki/Shazam!_Fury_of_the_Gods>\n",
      "{'box_office': 134100000.0,\n",
      " 'countries': ['United States'],\n",
      " 'directors': ['David F. Sandberg'],\n",
      " 'image_urls': ['https://upload.wikimedia.org/wikipedia/en/thumb/f/fb/Shazam%21_Fury_of_the_Gods_%282023%29_Main_Poster.png/220px-Shazam%21_Fury_of_the_Gods_%282023%29_Main_Poster.png'],\n",
      " 'images': [],\n",
      " 'title': 'Shazam! Fury of the Gods',\n",
      " 'year': 2023}\n",
      "2025-03-02 22:35:12 [urllib3.connectionpool] DEBUG: Starting new HTTPS connection (1): upload.wikimedia.org:443\n",
      "2025-03-02 22:35:13 [urllib3.connectionpool] DEBUG: https://upload.wikimedia.org:443 \"GET /wikipedia/en/1/1c/Birds_of_Prey_%282020_film%29_poster.jpg HTTP/1.1\" 200 60319\n",
      "2025-03-02 22:35:13 [urllib3.connectionpool] DEBUG: Starting new HTTPS connection (1): upload.wikimedia.org:443\n"
     ]
    },
    {
     "name": "stdout",
     "output_type": "stream",
     "text": [
      "saved in images/Birds_of_Prey_(and_the_Fantabulous_Emancipation_of_One_Harley_Quinn)/Birds_of_Prey_(and_the_Fantabulous_Emancipation_of_One_Harley_Quinn).jpg\n",
      "erroe: \n"
     ]
    },
    {
     "name": "stderr",
     "output_type": "stream",
     "text": [
      "2025-03-02 22:35:13 [urllib3.connectionpool] DEBUG: https://upload.wikimedia.org:443 \"GET /wikipedia/en/thumb/a/a9/Black_Adam_%28film%29_poster.jpg/220px-Black_Adam_%28film%29_poster.jpg HTTP/1.1\" 200 29029\n",
      "2025-03-02 22:35:13 [urllib3.connectionpool] DEBUG: Starting new HTTPS connection (1): upload.wikimedia.org:443\n"
     ]
    },
    {
     "name": "stdout",
     "output_type": "stream",
     "text": [
      "saved in images/Black_Adam/Black_Adam.jpg\n",
      "erroe: \n"
     ]
    },
    {
     "name": "stderr",
     "output_type": "stream",
     "text": [
      "2025-03-02 22:35:14 [urllib3.connectionpool] DEBUG: https://upload.wikimedia.org:443 \"GET /wikipedia/en/thumb/4/4f/Wonder_Woman_1984_poster.png/220px-Wonder_Woman_1984_poster.png HTTP/1.1\" 200 153146\n",
      "2025-03-02 22:35:14 [urllib3.connectionpool] DEBUG: Starting new HTTPS connection (1): upload.wikimedia.org:443\n"
     ]
    },
    {
     "name": "stdout",
     "output_type": "stream",
     "text": [
      "saved in images/Wonder_Woman_1984/Wonder_Woman_1984.png\n",
      "erroe: \n"
     ]
    },
    {
     "name": "stderr",
     "output_type": "stream",
     "text": [
      "2025-03-02 22:35:14 [urllib3.connectionpool] DEBUG: https://upload.wikimedia.org:443 \"GET /wikipedia/en/0/06/The_Suicide_Squad_%28film%29_poster.jpg HTTP/1.1\" 200 140440\n",
      "2025-03-02 22:35:14 [urllib3.connectionpool] DEBUG: Starting new HTTPS connection (1): upload.wikimedia.org:443\n"
     ]
    },
    {
     "name": "stdout",
     "output_type": "stream",
     "text": [
      "saved in images/The_Suicide_Squad/The_Suicide_Squad.jpg\n",
      "erroe: \n"
     ]
    },
    {
     "name": "stderr",
     "output_type": "stream",
     "text": [
      "2025-03-02 22:35:15 [urllib3.connectionpool] DEBUG: https://upload.wikimedia.org:443 \"GET /wikipedia/en/thumb/e/ed/The_Flash_%28film%29_poster.jpg/220px-The_Flash_%28film%29_poster.jpg HTTP/1.1\" 200 21335\n",
      "2025-03-02 22:35:15 [urllib3.connectionpool] DEBUG: Starting new HTTPS connection (1): upload.wikimedia.org:443\n"
     ]
    },
    {
     "name": "stdout",
     "output_type": "stream",
     "text": [
      "saved in images/The_Flash/The_Flash.jpg\n",
      "erroe: \n"
     ]
    },
    {
     "name": "stderr",
     "output_type": "stream",
     "text": [
      "2025-03-02 22:35:15 [urllib3.connectionpool] DEBUG: https://upload.wikimedia.org:443 \"GET /wikipedia/en/thumb/c/c2/Shazam%21_%28film%29_poster.jpg/220px-Shazam%21_%28film%29_poster.jpg HTTP/1.1\" 200 23102\n",
      "2025-03-02 22:35:15 [urllib3.connectionpool] DEBUG: Starting new HTTPS connection (1): upload.wikimedia.org:443\n"
     ]
    },
    {
     "name": "stdout",
     "output_type": "stream",
     "text": [
      "saved in images/Shazam!/Shazam!.jpg\n",
      "erroe: \n"
     ]
    },
    {
     "name": "stderr",
     "output_type": "stream",
     "text": [
      "2025-03-02 22:35:16 [urllib3.connectionpool] DEBUG: https://upload.wikimedia.org:443 \"GET /wikipedia/en/thumb/4/4a/Aquaman_and_the_Lost_Kingdom_poster.jpg/220px-Aquaman_and_the_Lost_Kingdom_poster.jpg HTTP/1.1\" 200 28530\n",
      "2025-03-02 22:35:16 [scrapy.core.scraper] DEBUG: Scraped from <200 https://en.wikipedia.org/wiki/Birds_of_Prey_(2020_film)>\n",
      "{'box_office': 205500000.0,\n",
      " 'countries': ['United States'],\n",
      " 'directors': ['Cathy Yan'],\n",
      " 'image_urls': ['https://upload.wikimedia.org/wikipedia/en/1/1c/Birds_of_Prey_%282020_film%29_poster.jpg'],\n",
      " 'images': [],\n",
      " 'title': 'Birds of Prey (and the Fantabulous Emancipation of One Harley '\n",
      "          'Quinn)',\n",
      " 'year': 2020}\n",
      "2025-03-02 22:35:16 [scrapy.core.scraper] DEBUG: Scraped from <200 https://en.wikipedia.org/wiki/Black_Adam_(film)>\n",
      "{'box_office': 393500000.0,\n",
      " 'countries': ['United States'],\n",
      " 'directors': ['Jaume Collet-Serra'],\n",
      " 'image_urls': ['https://upload.wikimedia.org/wikipedia/en/thumb/a/a9/Black_Adam_%28film%29_poster.jpg/220px-Black_Adam_%28film%29_poster.jpg'],\n",
      " 'images': [],\n",
      " 'title': 'Black Adam',\n",
      " 'year': 2022}\n",
      "2025-03-02 22:35:16 [scrapy.core.scraper] DEBUG: Scraped from <200 https://en.wikipedia.org/wiki/Wonder_Woman_1984>\n",
      "{'box_office': 169600000.0,\n",
      " 'countries': ['United States'],\n",
      " 'directors': ['Patty Jenkins'],\n",
      " 'image_urls': ['https://upload.wikimedia.org/wikipedia/en/thumb/4/4f/Wonder_Woman_1984_poster.png/220px-Wonder_Woman_1984_poster.png'],\n",
      " 'images': [],\n",
      " 'title': 'Wonder Woman 1984',\n",
      " 'year': 2020}\n",
      "2025-03-02 22:35:16 [scrapy.core.scraper] DEBUG: Scraped from <200 https://en.wikipedia.org/wiki/The_Suicide_Squad_(film)>\n",
      "{'box_office': 169000000.0,\n",
      " 'countries': ['United States'],\n",
      " 'directors': ['James Gunn'],\n",
      " 'image_urls': ['https://upload.wikimedia.org/wikipedia/en/0/06/The_Suicide_Squad_%28film%29_poster.jpg'],\n",
      " 'images': [],\n",
      " 'title': 'The Suicide Squad',\n",
      " 'year': 2021}\n",
      "2025-03-02 22:35:16 [scrapy.core.scraper] DEBUG: Scraped from <200 https://en.wikipedia.org/wiki/The_Flash_(film)>\n",
      "{'box_office': 271400000.0,\n",
      " 'countries': ['United States'],\n",
      " 'directors': ['Andy Muschietti'],\n",
      " 'image_urls': ['https://upload.wikimedia.org/wikipedia/en/thumb/e/ed/The_Flash_%28film%29_poster.jpg/220px-The_Flash_%28film%29_poster.jpg'],\n",
      " 'images': [],\n",
      " 'title': 'The Flash',\n",
      " 'year': 2023}\n",
      "2025-03-02 22:35:16 [scrapy.core.scraper] DEBUG: Scraped from <200 https://en.wikipedia.org/wiki/Shazam!_(film)>\n",
      "{'box_office': 367800000.0,\n",
      " 'countries': ['United States'],\n",
      " 'directors': ['David F. Sandberg'],\n",
      " 'image_urls': ['https://upload.wikimedia.org/wikipedia/en/thumb/c/c2/Shazam%21_%28film%29_poster.jpg/220px-Shazam%21_%28film%29_poster.jpg'],\n",
      " 'images': [],\n",
      " 'title': 'Shazam!',\n",
      " 'year': 2019}\n",
      "2025-03-02 22:35:16 [scrapy.core.scraper] DEBUG: Scraped from <200 https://en.wikipedia.org/wiki/Aquaman_and_the_Lost_Kingdom>\n",
      "{'box_office': 439400000.0,\n",
      " 'countries': ['United States'],\n",
      " 'directors': ['James Wan'],\n",
      " 'image_urls': ['https://upload.wikimedia.org/wikipedia/en/thumb/4/4a/Aquaman_and_the_Lost_Kingdom_poster.jpg/220px-Aquaman_and_the_Lost_Kingdom_poster.jpg'],\n",
      " 'images': [],\n",
      " 'title': 'Aquaman and the Lost Kingdom',\n",
      " 'year': 2023}\n",
      "2025-03-02 22:35:16 [scrapy.pipelines.media] ERROR: [Failure instance: Traceback: <class 'scrapy.pipelines.files.FileException'>: \n",
      "/Library/Frameworks/Python.framework/Versions/3.13/lib/python3.13/site-packages/twisted/internet/defer.py:1088:_runCallbacks\n",
      "/Library/Frameworks/Python.framework/Versions/3.13/lib/python3.13/site-packages/scrapy/pipelines/files.py:627:media_failed\n",
      "]\n",
      "NoneType: None\n",
      "2025-03-02 22:35:16 [scrapy.pipelines.media] ERROR: [Failure instance: Traceback: <class 'scrapy.pipelines.files.FileException'>: \n",
      "/Library/Frameworks/Python.framework/Versions/3.13/lib/python3.13/site-packages/twisted/internet/defer.py:1088:_runCallbacks\n",
      "/Library/Frameworks/Python.framework/Versions/3.13/lib/python3.13/site-packages/scrapy/pipelines/files.py:627:media_failed\n",
      "]\n",
      "NoneType: None\n",
      "2025-03-02 22:35:16 [urllib3.connectionpool] DEBUG: Starting new HTTPS connection (1): upload.wikimedia.org:443\n"
     ]
    },
    {
     "name": "stdout",
     "output_type": "stream",
     "text": [
      "saved in images/Aquaman_and_the_Lost_Kingdom/Aquaman_and_the_Lost_Kingdom.jpg\n",
      "erroe: \n"
     ]
    },
    {
     "name": "stderr",
     "output_type": "stream",
     "text": [
      "2025-03-02 22:35:16 [urllib3.connectionpool] DEBUG: https://upload.wikimedia.org:443 \"GET /wikipedia/en/thumb/0/00/Fast_%26_Furious_Presents_Hobbs_%26_Shaw_-_theatrical_poster.jpg/220px-Fast_%26_Furious_Presents_Hobbs_%26_Shaw_-_theatrical_poster.jpg HTTP/1.1\" 200 28362\n",
      "2025-03-02 22:35:16 [scrapy.pipelines.media] ERROR: [Failure instance: Traceback: <class 'scrapy.pipelines.files.FileException'>: \n",
      "/Library/Frameworks/Python.framework/Versions/3.13/lib/python3.13/site-packages/twisted/internet/defer.py:1088:_runCallbacks\n",
      "/Library/Frameworks/Python.framework/Versions/3.13/lib/python3.13/site-packages/scrapy/pipelines/files.py:627:media_failed\n",
      "]\n",
      "NoneType: None\n",
      "2025-03-02 22:35:16 [scrapy.pipelines.media] ERROR: [Failure instance: Traceback: <class 'scrapy.pipelines.files.FileException'>: \n",
      "/Library/Frameworks/Python.framework/Versions/3.13/lib/python3.13/site-packages/twisted/internet/defer.py:1088:_runCallbacks\n",
      "/Library/Frameworks/Python.framework/Versions/3.13/lib/python3.13/site-packages/scrapy/pipelines/files.py:627:media_failed\n",
      "]\n",
      "NoneType: None\n",
      "2025-03-02 22:35:16 [scrapy.pipelines.media] ERROR: [Failure instance: Traceback: <class 'scrapy.pipelines.files.FileException'>: \n",
      "/Library/Frameworks/Python.framework/Versions/3.13/lib/python3.13/site-packages/twisted/internet/defer.py:1088:_runCallbacks\n",
      "/Library/Frameworks/Python.framework/Versions/3.13/lib/python3.13/site-packages/scrapy/pipelines/files.py:627:media_failed\n",
      "]\n",
      "NoneType: None\n",
      "2025-03-02 22:35:16 [scrapy.pipelines.media] ERROR: [Failure instance: Traceback: <class 'scrapy.pipelines.files.FileException'>: \n",
      "/Library/Frameworks/Python.framework/Versions/3.13/lib/python3.13/site-packages/twisted/internet/defer.py:1088:_runCallbacks\n",
      "/Library/Frameworks/Python.framework/Versions/3.13/lib/python3.13/site-packages/scrapy/pipelines/files.py:627:media_failed\n",
      "]\n",
      "NoneType: None\n",
      "2025-03-02 22:35:16 [scrapy.pipelines.media] ERROR: [Failure instance: Traceback: <class 'scrapy.pipelines.files.FileException'>: \n",
      "/Library/Frameworks/Python.framework/Versions/3.13/lib/python3.13/site-packages/twisted/internet/defer.py:1088:_runCallbacks\n",
      "/Library/Frameworks/Python.framework/Versions/3.13/lib/python3.13/site-packages/scrapy/pipelines/files.py:627:media_failed\n",
      "]\n",
      "NoneType: None\n",
      "2025-03-02 22:35:16 [scrapy.pipelines.media] ERROR: [Failure instance: Traceback: <class 'scrapy.pipelines.files.FileException'>: \n",
      "/Library/Frameworks/Python.framework/Versions/3.13/lib/python3.13/site-packages/twisted/internet/defer.py:1088:_runCallbacks\n",
      "/Library/Frameworks/Python.framework/Versions/3.13/lib/python3.13/site-packages/scrapy/pipelines/files.py:627:media_failed\n",
      "]\n",
      "NoneType: None\n",
      "2025-03-02 22:35:16 [urllib3.connectionpool] DEBUG: Starting new HTTPS connection (1): upload.wikimedia.org:443\n"
     ]
    },
    {
     "name": "stdout",
     "output_type": "stream",
     "text": [
      "saved in images/Fast_&_Furious_Presents:/Fast_&_Furious_Presents:.jpg\n",
      "erroe: \n"
     ]
    },
    {
     "name": "stderr",
     "output_type": "stream",
     "text": [
      "2025-03-02 22:35:16 [urllib3.connectionpool] DEBUG: https://upload.wikimedia.org:443 \"GET /wikipedia/en/thumb/4/4f/Poster_-_Fast_and_Furious_Tokyo_Drift.jpg/220px-Poster_-_Fast_and_Furious_Tokyo_Drift.jpg HTTP/1.1\" 200 27799\n",
      "2025-03-02 22:35:16 [scrapy.core.scraper] DEBUG: Scraped from <200 https://en.wikipedia.org/wiki/The_Fast_and_the_Furious:_Tokyo_Drift>\n",
      "{'box_office': 159000000.0,\n",
      " 'countries': ['Germany', 'United States'],\n",
      " 'directors': ['Justin Lin'],\n",
      " 'image_urls': ['https://upload.wikimedia.org/wikipedia/en/thumb/4/4f/Poster_-_Fast_and_Furious_Tokyo_Drift.jpg/220px-Poster_-_Fast_and_Furious_Tokyo_Drift.jpg'],\n",
      " 'images': [],\n",
      " 'title': 'The Fast and the Furious: Tokyo Drift',\n",
      " 'year': 2006}\n",
      "2025-03-02 22:35:16 [scrapy.core.scraper] DEBUG: Scraped from <200 https://en.wikipedia.org/wiki/Hobbs_%26_Shaw>\n",
      "{'box_office': 760700000.0,\n",
      " 'countries': ['Japan', 'United States'],\n",
      " 'directors': ['David Leitch'],\n",
      " 'image_urls': ['https://upload.wikimedia.org/wikipedia/en/thumb/0/00/Fast_%26_Furious_Presents_Hobbs_%26_Shaw_-_theatrical_poster.jpg/220px-Fast_%26_Furious_Presents_Hobbs_%26_Shaw_-_theatrical_poster.jpg'],\n",
      " 'images': [],\n",
      " 'title': 'Fast & Furious Presents:',\n",
      " 'year': 2019}\n",
      "2025-03-02 22:35:16 [urllib3.connectionpool] DEBUG: Starting new HTTPS connection (1): upload.wikimedia.org:443\n"
     ]
    },
    {
     "name": "stdout",
     "output_type": "stream",
     "text": [
      "saved in images/The_Fast_and_the_Furious:_Tokyo_Drift/The_Fast_and_the_Furious:_Tokyo_Drift.jpg\n",
      "erroe: \n"
     ]
    },
    {
     "name": "stderr",
     "output_type": "stream",
     "text": [
      "2025-03-02 22:35:17 [urllib3.connectionpool] DEBUG: https://upload.wikimedia.org:443 \"GET /wikipedia/en/6/6b/Justice_League_%28film%29_poster.jpg HTTP/1.1\" 200 135619\n",
      "2025-03-02 22:35:17 [urllib3.connectionpool] DEBUG: Starting new HTTPS connection (1): upload.wikimedia.org:443\n"
     ]
    },
    {
     "name": "stdout",
     "output_type": "stream",
     "text": [
      "saved in images/Justice_League/Justice_League.jpg\n",
      "erroe: \n"
     ]
    },
    {
     "name": "stderr",
     "output_type": "stream",
     "text": [
      "2025-03-02 22:35:17 [urllib3.connectionpool] DEBUG: https://upload.wikimedia.org:443 \"GET /wikipedia/en/thumb/5/50/Man_of_Steel_%28film%29_poster.jpg/220px-Man_of_Steel_%28film%29_poster.jpg HTTP/1.1\" 200 22935\n",
      "2025-03-02 22:35:17 [urllib3.connectionpool] DEBUG: Starting new HTTPS connection (1): upload.wikimedia.org:443\n"
     ]
    },
    {
     "name": "stdout",
     "output_type": "stream",
     "text": [
      "saved in images/Man_of_Steel/Man_of_Steel.jpg\n",
      "erroe: \n"
     ]
    },
    {
     "name": "stderr",
     "output_type": "stream",
     "text": [
      "2025-03-02 22:35:18 [urllib3.connectionpool] DEBUG: https://upload.wikimedia.org:443 \"GET /wikipedia/en/thumb/5/5c/Suicide_Squad_%282016_film%29_poster.png/220px-Suicide_Squad_%282016_film%29_poster.png HTTP/1.1\" 200 177802\n",
      "2025-03-02 22:35:18 [urllib3.connectionpool] DEBUG: Starting new HTTPS connection (1): upload.wikimedia.org:443\n"
     ]
    },
    {
     "name": "stdout",
     "output_type": "stream",
     "text": [
      "saved in images/Suicide_Squad/Suicide_Squad.png\n",
      "erroe: \n"
     ]
    },
    {
     "name": "stderr",
     "output_type": "stream",
     "text": [
      "2025-03-02 22:35:18 [urllib3.connectionpool] DEBUG: https://upload.wikimedia.org:443 \"GET /wikipedia/en/e/ed/Aquaman_%28film%29_poster.jpg HTTP/1.1\" 200 126909\n"
     ]
    },
    {
     "name": "stdout",
     "output_type": "stream",
     "text": [
      "saved in images/Aquaman/Aquaman.jpg\n",
      "erroe: \n"
     ]
    },
    {
     "name": "stderr",
     "output_type": "stream",
     "text": [
      "2025-03-02 22:35:19 [urllib3.connectionpool] DEBUG: Starting new HTTPS connection (1): upload.wikimedia.org:443\n",
      "2025-03-02 22:35:19 [urllib3.connectionpool] DEBUG: https://upload.wikimedia.org:443 \"GET /wikipedia/en/b/b0/Wonder_Woman_%282017_film%29_poster.jpg HTTP/1.1\" 200 243053\n"
     ]
    },
    {
     "name": "stdout",
     "output_type": "stream",
     "text": [
      "saved in images/Wonder_Woman/Wonder_Woman.jpg\n",
      "erroe: \n"
     ]
    },
    {
     "name": "stderr",
     "output_type": "stream",
     "text": [
      "2025-03-02 22:35:19 [urllib3.connectionpool] DEBUG: Starting new HTTPS connection (1): upload.wikimedia.org:443\n",
      "2025-03-02 22:35:20 [urllib3.connectionpool] DEBUG: https://upload.wikimedia.org:443 \"GET /wikipedia/en/thumb/3/31/Batman_v_Superman_Dawn_of_Justice_poster.jpg/220px-Batman_v_Superman_Dawn_of_Justice_poster.jpg HTTP/1.1\" 200 20728\n",
      "2025-03-02 22:35:20 [scrapy.pipelines.media] ERROR: [Failure instance: Traceback: <class 'scrapy.pipelines.files.FileException'>: \n",
      "/Library/Frameworks/Python.framework/Versions/3.13/lib/python3.13/site-packages/twisted/internet/defer.py:1088:_runCallbacks\n",
      "/Library/Frameworks/Python.framework/Versions/3.13/lib/python3.13/site-packages/scrapy/pipelines/files.py:627:media_failed\n",
      "]\n",
      "NoneType: None\n",
      "2025-03-02 22:35:20 [scrapy.core.scraper] DEBUG: Scraped from <200 https://en.wikipedia.org/wiki/Justice_League_(film)>\n",
      "{'box_office': 661300000.0,\n",
      " 'countries': ['United States'],\n",
      " 'directors': ['Zack Snyder'],\n",
      " 'image_urls': ['https://upload.wikimedia.org/wikipedia/en/6/6b/Justice_League_%28film%29_poster.jpg'],\n",
      " 'images': [],\n",
      " 'title': 'Justice League',\n",
      " 'year': 2017}\n",
      "2025-03-02 22:35:20 [scrapy.core.scraper] DEBUG: Scraped from <200 https://en.wikipedia.org/wiki/Man_of_Steel_(film)>\n",
      "{'box_office': 670000000.0,\n",
      " 'countries': ['United States', 'Canada', 'United Kingdom'],\n",
      " 'directors': ['Zack Snyder'],\n",
      " 'image_urls': ['https://upload.wikimedia.org/wikipedia/en/thumb/5/50/Man_of_Steel_%28film%29_poster.jpg/220px-Man_of_Steel_%28film%29_poster.jpg'],\n",
      " 'images': [],\n",
      " 'title': 'Man of Steel',\n",
      " 'year': 2013}\n",
      "2025-03-02 22:35:20 [scrapy.core.scraper] DEBUG: Scraped from <200 https://en.wikipedia.org/wiki/Suicide_Squad_(2016_film)>\n",
      "{'box_office': 749200000.0,\n",
      " 'countries': ['United States'],\n",
      " 'directors': ['David Ayer'],\n",
      " 'image_urls': ['https://upload.wikimedia.org/wikipedia/en/thumb/5/5c/Suicide_Squad_%282016_film%29_poster.png/220px-Suicide_Squad_%282016_film%29_poster.png'],\n",
      " 'images': [],\n",
      " 'title': 'Suicide Squad',\n",
      " 'year': 2016}\n",
      "2025-03-02 22:35:20 [scrapy.core.scraper] DEBUG: Scraped from <200 https://en.wikipedia.org/wiki/Aquaman_(film)>\n",
      "{'box_office': 1152000000.0,\n",
      " 'countries': ['United States'],\n",
      " 'directors': ['James Wan'],\n",
      " 'image_urls': ['https://upload.wikimedia.org/wikipedia/en/e/ed/Aquaman_%28film%29_poster.jpg'],\n",
      " 'images': [],\n",
      " 'title': 'Aquaman',\n",
      " 'year': 2018}\n",
      "2025-03-02 22:35:20 [scrapy.core.scraper] DEBUG: Scraped from <200 https://en.wikipedia.org/wiki/Wonder_Woman_(2017_film)>\n",
      "{'box_office': 824.0,\n",
      " 'countries': ['United States', 'China', 'Hong Kong'],\n",
      " 'directors': ['Patty Jenkins'],\n",
      " 'image_urls': ['https://upload.wikimedia.org/wikipedia/en/b/b0/Wonder_Woman_%282017_film%29_poster.jpg'],\n",
      " 'images': [],\n",
      " 'title': 'Wonder Woman',\n",
      " 'year': 2017}\n",
      "2025-03-02 22:35:20 [scrapy.core.scraper] DEBUG: Scraped from <200 https://en.wikipedia.org/wiki/Batman_v_Superman:_Dawn_of_Justice>\n",
      "{'box_office': 874400000.0,\n",
      " 'countries': ['United States'],\n",
      " 'directors': ['Zack Snyder'],\n",
      " 'image_urls': ['https://upload.wikimedia.org/wikipedia/en/thumb/3/31/Batman_v_Superman_Dawn_of_Justice_poster.jpg/220px-Batman_v_Superman_Dawn_of_Justice_poster.jpg'],\n",
      " 'images': [],\n",
      " 'title': 'Batman v Superman: Dawn of Justice',\n",
      " 'year': 2016}\n",
      "2025-03-02 22:35:20 [urllib3.connectionpool] DEBUG: Starting new HTTPS connection (1): upload.wikimedia.org:443\n"
     ]
    },
    {
     "name": "stdout",
     "output_type": "stream",
     "text": [
      "saved in images/Batman_v_Superman:_Dawn_of_Justice/Batman_v_Superman:_Dawn_of_Justice.jpg\n",
      "erroe: \n"
     ]
    },
    {
     "name": "stderr",
     "output_type": "stream",
     "text": [
      "2025-03-02 22:35:20 [urllib3.connectionpool] DEBUG: https://upload.wikimedia.org:443 \"GET /wikipedia/en/thumb/5/54/Fast_and_the_furious_poster.jpg/220px-Fast_and_the_furious_poster.jpg HTTP/1.1\" 200 22539\n",
      "2025-03-02 22:35:20 [scrapy.core.scraper] DEBUG: Scraped from <200 https://en.wikipedia.org/wiki/The_Fast_and_the_Furious_(2001_film)>\n",
      "{'box_office': 207300000.0,\n",
      " 'countries': ['United States', 'Germany'],\n",
      " 'directors': ['Rob Cohen'],\n",
      " 'image_urls': ['https://upload.wikimedia.org/wikipedia/en/thumb/5/54/Fast_and_the_furious_poster.jpg/220px-Fast_and_the_furious_poster.jpg'],\n",
      " 'images': [],\n",
      " 'title': 'The Fast and the Furious',\n",
      " 'year': 2001}\n"
     ]
    },
    {
     "name": "stdout",
     "output_type": "stream",
     "text": [
      "saved in images/The_Fast_and_the_Furious/The_Fast_and_the_Furious.jpg\n",
      "erroe: \n"
     ]
    },
    {
     "name": "stderr",
     "output_type": "stream",
     "text": [
      "2025-03-02 22:35:20 [scrapy.core.engine] DEBUG: Crawled (200) <GET https://en.wikipedia.org/wiki/Fast_%26_Furious_(2009_film)> (referer: https://en.wikipedia.org/wiki/List_of_highest-grossing_films)\n",
      "2025-03-02 22:35:20 [scrapy.core.engine] DEBUG: Crawled (200) <GET https://en.wikipedia.org/wiki/The_Fate_of_the_Furious> (referer: https://en.wikipedia.org/wiki/List_of_highest-grossing_films)\n",
      "2025-03-02 22:35:20 [scrapy.core.engine] DEBUG: Crawled (200) <GET https://en.wikipedia.org/wiki/Fast_%26_Furious_6> (referer: https://en.wikipedia.org/wiki/List_of_highest-grossing_films)\n",
      "2025-03-02 22:35:20 [scrapy.core.engine] DEBUG: Crawled (200) <GET https://en.wikipedia.org/wiki/2_Fast_2_Furious> (referer: https://en.wikipedia.org/wiki/List_of_highest-grossing_films)\n",
      "2025-03-02 22:35:20 [scrapy.core.engine] DEBUG: Crawled (200) <GET https://en.wikipedia.org/wiki/Furious_7> (referer: https://en.wikipedia.org/wiki/List_of_highest-grossing_films)\n",
      "2025-03-02 22:35:20 [scrapy.core.engine] DEBUG: Crawled (200) <GET https://en.wikipedia.org/wiki/F9_(film)> (referer: https://en.wikipedia.org/wiki/List_of_highest-grossing_films)\n",
      "2025-03-02 22:35:20 [scrapy.core.engine] DEBUG: Crawled (200) <GET https://en.wikipedia.org/wiki/Fast_Five> (referer: https://en.wikipedia.org/wiki/List_of_highest-grossing_films)\n",
      "2025-03-02 22:35:20 [scrapy.core.engine] DEBUG: Crawled (200) <GET https://en.wikipedia.org/wiki/Fast_X> (referer: https://en.wikipedia.org/wiki/List_of_highest-grossing_films)\n",
      "2025-03-02 22:35:20 [scrapy.pipelines.media] ERROR: [Failure instance: Traceback: <class 'scrapy.pipelines.files.FileException'>: \n",
      "/Library/Frameworks/Python.framework/Versions/3.13/lib/python3.13/site-packages/twisted/internet/defer.py:1088:_runCallbacks\n",
      "/Library/Frameworks/Python.framework/Versions/3.13/lib/python3.13/site-packages/scrapy/pipelines/files.py:627:media_failed\n",
      "]\n",
      "NoneType: None\n",
      "2025-03-02 22:35:20 [urllib3.connectionpool] DEBUG: Starting new HTTPS connection (1): upload.wikimedia.org:443\n",
      "2025-03-02 22:35:21 [urllib3.connectionpool] DEBUG: https://upload.wikimedia.org:443 \"GET /wikipedia/en/thumb/8/8f/Fast_and_Furious_Poster.jpg/220px-Fast_and_Furious_Poster.jpg HTTP/1.1\" 200 28927\n",
      "2025-03-02 22:35:21 [scrapy.core.engine] DEBUG: Crawled (200) <GET https://en.wikipedia.org/wiki/The_Wolverine_(film)> (referer: https://en.wikipedia.org/wiki/List_of_highest-grossing_films)\n",
      "2025-03-02 22:35:21 [scrapy.core.engine] DEBUG: Crawled (200) <GET https://en.wikipedia.org/wiki/Wolverine_(film_series)> (referer: https://en.wikipedia.org/wiki/List_of_highest-grossing_films)\n",
      "2025-03-02 22:35:21 [scrapy.core.engine] DEBUG: Crawled (200) <GET https://en.wikipedia.org/wiki/The_New_Mutants_(film)> (referer: https://en.wikipedia.org/wiki/List_of_highest-grossing_films)\n",
      "2025-03-02 22:35:21 [scrapy.core.engine] DEBUG: Crawled (200) <GET https://en.wikipedia.org/wiki/X-Men_Origins:_Wolverine> (referer: https://en.wikipedia.org/wiki/List_of_highest-grossing_films)\n",
      "2025-03-02 22:35:21 [scrapy.core.scraper] DEBUG: Scraped from <200 https://en.wikipedia.org/wiki/Fast_%26_Furious_(2009_film)>\n",
      "{'box_office': 360400000.0,\n",
      " 'countries': ['United States', 'Japan'],\n",
      " 'directors': ['Justin Lin'],\n",
      " 'image_urls': ['https://upload.wikimedia.org/wikipedia/en/thumb/8/8f/Fast_and_Furious_Poster.jpg/220px-Fast_and_Furious_Poster.jpg'],\n",
      " 'images': [],\n",
      " 'title': 'Fast & Furious',\n",
      " 'year': 2009}\n",
      "2025-03-02 22:35:21 [scrapy.core.engine] DEBUG: Crawled (200) <GET https://en.wikipedia.org/wiki/Logan_(film)> (referer: https://en.wikipedia.org/wiki/List_of_highest-grossing_films)\n",
      "2025-03-02 22:35:21 [scrapy.core.engine] DEBUG: Crawled (200) <GET https://en.wikipedia.org/wiki/Deadpool_(film_series)> (referer: https://en.wikipedia.org/wiki/List_of_highest-grossing_films)\n",
      "2025-03-02 22:35:21 [scrapy.core.engine] DEBUG: Crawled (200) <GET https://en.wikipedia.org/wiki/Deadpool_2> (referer: https://en.wikipedia.org/wiki/List_of_highest-grossing_films)\n",
      "2025-03-02 22:35:21 [scrapy.core.engine] DEBUG: Crawled (200) <GET https://en.wikipedia.org/wiki/Deadpool_(film)> (referer: https://en.wikipedia.org/wiki/List_of_highest-grossing_films)\n",
      "2025-03-02 22:35:21 [scrapy.pipelines.media] ERROR: [Failure instance: Traceback: <class 'scrapy.pipelines.files.FileException'>: \n",
      "/Library/Frameworks/Python.framework/Versions/3.13/lib/python3.13/site-packages/twisted/internet/defer.py:1088:_runCallbacks\n",
      "/Library/Frameworks/Python.framework/Versions/3.13/lib/python3.13/site-packages/scrapy/pipelines/files.py:627:media_failed\n",
      "]\n",
      "NoneType: None\n",
      "2025-03-02 22:35:21 [scrapy.pipelines.media] ERROR: [Failure instance: Traceback: <class 'scrapy.pipelines.files.FileException'>: \n",
      "/Library/Frameworks/Python.framework/Versions/3.13/lib/python3.13/site-packages/twisted/internet/defer.py:1088:_runCallbacks\n",
      "/Library/Frameworks/Python.framework/Versions/3.13/lib/python3.13/site-packages/scrapy/pipelines/files.py:627:media_failed\n",
      "]\n",
      "NoneType: None\n",
      "2025-03-02 22:35:21 [scrapy.pipelines.media] ERROR: [Failure instance: Traceback: <class 'scrapy.pipelines.files.FileException'>: \n",
      "/Library/Frameworks/Python.framework/Versions/3.13/lib/python3.13/site-packages/twisted/internet/defer.py:1088:_runCallbacks\n",
      "/Library/Frameworks/Python.framework/Versions/3.13/lib/python3.13/site-packages/scrapy/pipelines/files.py:627:media_failed\n",
      "]\n",
      "NoneType: None\n",
      "2025-03-02 22:35:21 [urllib3.connectionpool] DEBUG: Starting new HTTPS connection (1): upload.wikimedia.org:443\n"
     ]
    },
    {
     "name": "stdout",
     "output_type": "stream",
     "text": [
      "saved in images/Fast_&_Furious/Fast_&_Furious.jpg\n",
      "erroe: \n"
     ]
    },
    {
     "name": "stderr",
     "output_type": "stream",
     "text": [
      "2025-03-02 22:35:21 [urllib3.connectionpool] DEBUG: https://upload.wikimedia.org:443 \"GET /wikipedia/en/thumb/9/9d/Two_fast_two_furious_ver5.jpg/220px-Two_fast_two_furious_ver5.jpg HTTP/1.1\" 403 2184\n",
      "2025-03-02 22:35:21 [scrapy.pipelines.media] ERROR: [Failure instance: Traceback: <class 'scrapy.pipelines.files.FileException'>: \n",
      "/Library/Frameworks/Python.framework/Versions/3.13/lib/python3.13/site-packages/twisted/internet/defer.py:1088:_runCallbacks\n",
      "/Library/Frameworks/Python.framework/Versions/3.13/lib/python3.13/site-packages/scrapy/pipelines/files.py:627:media_failed\n",
      "]\n",
      "NoneType: None\n",
      "2025-03-02 22:35:21 [scrapy.pipelines.media] ERROR: [Failure instance: Traceback: <class 'scrapy.pipelines.files.FileException'>: \n",
      "/Library/Frameworks/Python.framework/Versions/3.13/lib/python3.13/site-packages/twisted/internet/defer.py:1088:_runCallbacks\n",
      "/Library/Frameworks/Python.framework/Versions/3.13/lib/python3.13/site-packages/scrapy/pipelines/files.py:627:media_failed\n",
      "]\n",
      "NoneType: None\n",
      "2025-03-02 22:35:21 [scrapy.pipelines.media] ERROR: [Failure instance: Traceback: <class 'scrapy.pipelines.files.FileException'>: \n",
      "/Library/Frameworks/Python.framework/Versions/3.13/lib/python3.13/site-packages/twisted/internet/defer.py:1088:_runCallbacks\n",
      "/Library/Frameworks/Python.framework/Versions/3.13/lib/python3.13/site-packages/scrapy/pipelines/files.py:627:media_failed\n",
      "]\n",
      "NoneType: None\n",
      "2025-03-02 22:35:21 [scrapy.pipelines.media] ERROR: [Failure instance: Traceback: <class 'scrapy.pipelines.files.FileException'>: \n",
      "/Library/Frameworks/Python.framework/Versions/3.13/lib/python3.13/site-packages/twisted/internet/defer.py:1088:_runCallbacks\n",
      "/Library/Frameworks/Python.framework/Versions/3.13/lib/python3.13/site-packages/scrapy/pipelines/files.py:627:media_failed\n",
      "]\n",
      "NoneType: None\n",
      "2025-03-02 22:35:21 [scrapy.core.engine] DEBUG: Crawled (200) <GET https://en.wikipedia.org/wiki/X2_(film)> (referer: https://en.wikipedia.org/wiki/List_of_highest-grossing_films)\n",
      "2025-03-02 22:35:21 [urllib3.connectionpool] DEBUG: Starting new HTTPS connection (1): upload.wikimedia.org:443\n"
     ]
    },
    {
     "name": "stdout",
     "output_type": "stream",
     "text": [
      "error: 403\n"
     ]
    },
    {
     "name": "stderr",
     "output_type": "stream",
     "text": [
      "2025-03-02 22:35:22 [urllib3.connectionpool] DEBUG: https://upload.wikimedia.org:443 \"GET /wikipedia/en/thumb/2/2d/The_Fate_of_The_Furious_Theatrical_Poster.jpg/220px-The_Fate_of_The_Furious_Theatrical_Poster.jpg HTTP/1.1\" 200 24618\n",
      "2025-03-02 22:35:22 [urllib3.connectionpool] DEBUG: Starting new HTTPS connection (1): upload.wikimedia.org:443\n"
     ]
    },
    {
     "name": "stdout",
     "output_type": "stream",
     "text": [
      "saved in images/The_Fate_of_the_Furious/The_Fate_of_the_Furious.jpg\n",
      "erroe: \n"
     ]
    },
    {
     "name": "stderr",
     "output_type": "stream",
     "text": [
      "2025-03-02 22:35:22 [urllib3.connectionpool] DEBUG: https://upload.wikimedia.org:443 \"GET /wikipedia/en/thumb/3/30/Fast_%26_Furious_6_film_poster.jpg/220px-Fast_%26_Furious_6_film_poster.jpg HTTP/1.1\" 200 23186\n",
      "2025-03-02 22:35:22 [scrapy.core.scraper] DEBUG: Scraped from <200 https://en.wikipedia.org/wiki/The_Fate_of_the_Furious>\n",
      "{'box_office': 1236000000.0,\n",
      " 'countries': ['United States', 'China'],\n",
      " 'directors': ['F. Gary Gray'],\n",
      " 'image_urls': ['https://upload.wikimedia.org/wikipedia/en/thumb/2/2d/The_Fate_of_The_Furious_Theatrical_Poster.jpg/220px-The_Fate_of_The_Furious_Theatrical_Poster.jpg'],\n",
      " 'images': [],\n",
      " 'title': 'The Fate of the Furious',\n",
      " 'year': 2017}\n",
      "2025-03-02 22:35:22 [scrapy.core.scraper] DEBUG: Scraped from <200 https://en.wikipedia.org/wiki/Fast_%26_Furious_6>\n",
      "{'box_office': 788700000.0,\n",
      " 'countries': ['Japan', 'United States', 'Spain'],\n",
      " 'directors': ['Justin Lin'],\n",
      " 'image_urls': ['https://upload.wikimedia.org/wikipedia/en/thumb/3/30/Fast_%26_Furious_6_film_poster.jpg/220px-Fast_%26_Furious_6_film_poster.jpg'],\n",
      " 'images': [],\n",
      " 'title': 'Fast & Furious 6',\n",
      " 'year': 2013}\n",
      "2025-03-02 22:35:22 [scrapy.core.scraper] DEBUG: Scraped from <200 https://en.wikipedia.org/wiki/2_Fast_2_Furious>\n",
      "{'box_office': 236400000.0,\n",
      " 'countries': ['Germany', 'United States'],\n",
      " 'directors': ['John Singleton'],\n",
      " 'image_urls': ['https://upload.wikimedia.org/wikipedia/en/thumb/9/9d/Two_fast_two_furious_ver5.jpg/220px-Two_fast_two_furious_ver5.jpg'],\n",
      " 'images': [],\n",
      " 'title': '2 Fast 2 Furious',\n",
      " 'year': 2003}\n",
      "2025-03-02 22:35:22 [urllib3.connectionpool] DEBUG: Starting new HTTPS connection (1): upload.wikimedia.org:443\n"
     ]
    },
    {
     "name": "stdout",
     "output_type": "stream",
     "text": [
      "saved in images/Fast_&_Furious_6/Fast_&_Furious_6.jpg\n",
      "erroe: \n"
     ]
    },
    {
     "name": "stderr",
     "output_type": "stream",
     "text": [
      "2025-03-02 22:35:22 [urllib3.connectionpool] DEBUG: https://upload.wikimedia.org:443 \"GET /wikipedia/en/thumb/b/b8/Furious_7_poster.jpg/220px-Furious_7_poster.jpg HTTP/1.1\" 200 23421\n",
      "2025-03-02 22:35:22 [urllib3.connectionpool] DEBUG: Starting new HTTPS connection (1): upload.wikimedia.org:443\n"
     ]
    },
    {
     "name": "stdout",
     "output_type": "stream",
     "text": [
      "saved in images/Furious_7/Furious_7.jpg\n",
      "erroe: \n"
     ]
    },
    {
     "name": "stderr",
     "output_type": "stream",
     "text": [
      "2025-03-02 22:35:23 [urllib3.connectionpool] DEBUG: https://upload.wikimedia.org:443 \"GET /wikipedia/en/thumb/2/2b/F9_film_poster.jpg/220px-F9_film_poster.jpg HTTP/1.1\" 200 31344\n",
      "2025-03-02 22:35:23 [urllib3.connectionpool] DEBUG: Starting new HTTPS connection (1): upload.wikimedia.org:443\n"
     ]
    },
    {
     "name": "stdout",
     "output_type": "stream",
     "text": [
      "saved in images/F9/F9.jpg\n",
      "erroe: \n"
     ]
    },
    {
     "name": "stderr",
     "output_type": "stream",
     "text": [
      "2025-03-02 22:35:23 [urllib3.connectionpool] DEBUG: https://upload.wikimedia.org:443 \"GET /wikipedia/en/thumb/0/0c/Fast_Five_poster.jpg/220px-Fast_Five_poster.jpg HTTP/1.1\" 200 18694\n",
      "2025-03-02 22:35:23 [urllib3.connectionpool] DEBUG: Starting new HTTPS connection (1): upload.wikimedia.org:443\n"
     ]
    },
    {
     "name": "stdout",
     "output_type": "stream",
     "text": [
      "saved in images/Fast_Five/Fast_Five.jpg\n",
      "erroe: \n"
     ]
    },
    {
     "name": "stderr",
     "output_type": "stream",
     "text": [
      "2025-03-02 22:35:24 [urllib3.connectionpool] DEBUG: https://upload.wikimedia.org:443 \"GET /wikipedia/en/f/f2/Fast_X_poster.jpg HTTP/1.1\" 200 120501\n",
      "2025-03-02 22:35:24 [scrapy.core.engine] DEBUG: Crawled (200) <GET https://en.wikipedia.org/wiki/Dark_Phoenix_(film)> (referer: https://en.wikipedia.org/wiki/List_of_highest-grossing_films)\n",
      "2025-03-02 22:35:24 [scrapy.core.engine] DEBUG: Crawled (200) <GET https://en.wikipedia.org/wiki/X-Men:_First_Class> (referer: https://en.wikipedia.org/wiki/List_of_highest-grossing_films)\n",
      "2025-03-02 22:35:24 [scrapy.core.engine] DEBUG: Crawled (200) <GET https://en.wikipedia.org/wiki/X-Men_(film)> (referer: https://en.wikipedia.org/wiki/List_of_highest-grossing_films)\n",
      "2025-03-02 22:35:24 [scrapy.core.scraper] DEBUG: Scraped from <200 https://en.wikipedia.org/wiki/Furious_7>\n",
      "{'box_office': 1515000000.0,\n",
      " 'countries': ['United States', 'China'],\n",
      " 'directors': ['James Wan'],\n",
      " 'image_urls': ['https://upload.wikimedia.org/wikipedia/en/thumb/b/b8/Furious_7_poster.jpg/220px-Furious_7_poster.jpg'],\n",
      " 'images': [],\n",
      " 'title': 'Furious 7',\n",
      " 'year': 2015}\n",
      "2025-03-02 22:35:24 [scrapy.core.scraper] DEBUG: Scraped from <200 https://en.wikipedia.org/wiki/F9_(film)>\n",
      "{'box_office': 726200000.0,\n",
      " 'countries': ['United States', 'Thailand', 'Canada'],\n",
      " 'directors': ['Justin Lin'],\n",
      " 'image_urls': ['https://upload.wikimedia.org/wikipedia/en/thumb/2/2b/F9_film_poster.jpg/220px-F9_film_poster.jpg'],\n",
      " 'images': [],\n",
      " 'title': 'F9',\n",
      " 'year': 2021}\n",
      "2025-03-02 22:35:24 [scrapy.core.scraper] DEBUG: Scraped from <200 https://en.wikipedia.org/wiki/Fast_Five>\n",
      "{'box_office': 626100000.0,\n",
      " 'countries': ['Brazil', 'United States'],\n",
      " 'directors': ['Justin Lin'],\n",
      " 'image_urls': ['https://upload.wikimedia.org/wikipedia/en/thumb/0/0c/Fast_Five_poster.jpg/220px-Fast_Five_poster.jpg'],\n",
      " 'images': [],\n",
      " 'title': 'Fast Five',\n",
      " 'year': 2011}\n",
      "2025-03-02 22:35:24 [scrapy.core.scraper] DEBUG: Scraped from <200 https://en.wikipedia.org/wiki/Fast_X>\n",
      "{'box_office': 714400000.0,\n",
      " 'countries': ['United States'],\n",
      " 'directors': ['Louis Leterrier'],\n",
      " 'image_urls': ['https://upload.wikimedia.org/wikipedia/en/f/f2/Fast_X_poster.jpg'],\n",
      " 'images': [],\n",
      " 'title': 'Fast X',\n",
      " 'year': 2023}\n"
     ]
    },
    {
     "name": "stdout",
     "output_type": "stream",
     "text": [
      "saved in images/Fast_X/Fast_X.jpg\n",
      "erroe: \n",
      "None\n"
     ]
    },
    {
     "name": "stderr",
     "output_type": "stream",
     "text": [
      "2025-03-02 22:35:24 [scrapy.core.engine] DEBUG: Crawled (200) <GET https://en.wikipedia.org/wiki/X-Men:_Days_of_Future_Past> (referer: https://en.wikipedia.org/wiki/List_of_highest-grossing_films)\n",
      "2025-03-02 22:35:24 [scrapy.core.engine] DEBUG: Crawled (200) <GET https://en.wikipedia.org/wiki/X-Men:_Apocalypse> (referer: https://en.wikipedia.org/wiki/List_of_highest-grossing_films)\n",
      "2025-03-02 22:35:24 [scrapy.core.engine] DEBUG: Crawled (200) <GET https://en.wikipedia.org/wiki/X-Men:_The_Last_Stand> (referer: https://en.wikipedia.org/wiki/List_of_highest-grossing_films)\n",
      "2025-03-02 22:35:24 [scrapy.core.engine] DEBUG: Crawled (200) <GET https://en.wikipedia.org/wiki/Casino_Royale_(1967_film)> (referer: https://en.wikipedia.org/wiki/List_of_highest-grossing_films)\n",
      "2025-03-02 22:35:24 [scrapy.pipelines.media] ERROR: [Failure instance: Traceback: <class 'scrapy.pipelines.files.FileException'>: \n",
      "/Library/Frameworks/Python.framework/Versions/3.13/lib/python3.13/site-packages/twisted/internet/defer.py:1088:_runCallbacks\n",
      "/Library/Frameworks/Python.framework/Versions/3.13/lib/python3.13/site-packages/scrapy/pipelines/files.py:627:media_failed\n",
      "]\n",
      "NoneType: None\n",
      "2025-03-02 22:35:24 [scrapy.core.scraper] ERROR: Spider error processing <GET https://en.wikipedia.org/wiki/Wolverine_(film_series)> (referer: https://en.wikipedia.org/wiki/List_of_highest-grossing_films)\n",
      "Traceback (most recent call last):\n",
      "  File \"/Library/Frameworks/Python.framework/Versions/3.13/lib/python3.13/site-packages/scrapy/utils/defer.py\", line 327, in iter_errback\n",
      "    yield next(it)\n",
      "          ~~~~^^^^\n",
      "  File \"/Library/Frameworks/Python.framework/Versions/3.13/lib/python3.13/site-packages/scrapy/utils/python.py\", line 368, in __next__\n",
      "    return next(self.data)\n",
      "  File \"/Library/Frameworks/Python.framework/Versions/3.13/lib/python3.13/site-packages/scrapy/utils/python.py\", line 368, in __next__\n",
      "    return next(self.data)\n",
      "  File \"/Library/Frameworks/Python.framework/Versions/3.13/lib/python3.13/site-packages/scrapy/core/spidermw.py\", line 106, in process_sync\n",
      "    yield from iterable\n",
      "  File \"/Library/Frameworks/Python.framework/Versions/3.13/lib/python3.13/site-packages/scrapy/spidermiddlewares/referer.py\", line 379, in <genexpr>\n",
      "    return (self._set_referer(r, response) for r in result)\n",
      "                                                    ^^^^^^\n",
      "  File \"/Library/Frameworks/Python.framework/Versions/3.13/lib/python3.13/site-packages/scrapy/core/spidermw.py\", line 106, in process_sync\n",
      "    yield from iterable\n",
      "  File \"/Library/Frameworks/Python.framework/Versions/3.13/lib/python3.13/site-packages/scrapy/spidermiddlewares/urllength.py\", line 57, in <genexpr>\n",
      "    return (r for r in result if self._filter(r, spider))\n",
      "                       ^^^^^^\n",
      "  File \"/Library/Frameworks/Python.framework/Versions/3.13/lib/python3.13/site-packages/scrapy/core/spidermw.py\", line 106, in process_sync\n",
      "    yield from iterable\n",
      "  File \"/Library/Frameworks/Python.framework/Versions/3.13/lib/python3.13/site-packages/scrapy/spidermiddlewares/depth.py\", line 54, in <genexpr>\n",
      "    return (r for r in result if self._filter(r, response, spider))\n",
      "                       ^^^^^^\n",
      "  File \"/Library/Frameworks/Python.framework/Versions/3.13/lib/python3.13/site-packages/scrapy/core/spidermw.py\", line 106, in process_sync\n",
      "    yield from iterable\n",
      "  File \"/Users/fllarpy/projects/DWV/pop-films/wikipedia_scaper/wikipedia_scaper/spiders/movies_spider.py\", line 36, in parse_movie\n",
      "    year = int(infobox.xpath('.//th[div[contains(text(), \"Release date\")]]/following-sibling::td//li/text()').get().split()[-1])\n",
      "               ^^^^^^^^^^^^^^^^^^^^^^^^^^^^^^^^^^^^^^^^^^^^^^^^^^^^^^^^^^^^^^^^^^^^^^^^^^^^^^^^^^^^^^^^^^^^^^^^^^^^^^^^^^\n",
      "AttributeError: 'NoneType' object has no attribute 'split'\n",
      "2025-03-02 22:35:24 [scrapy.pipelines.media] ERROR: [Failure instance: Traceback: <class 'scrapy.pipelines.files.FileException'>: \n",
      "/Library/Frameworks/Python.framework/Versions/3.13/lib/python3.13/site-packages/twisted/internet/defer.py:1088:_runCallbacks\n",
      "/Library/Frameworks/Python.framework/Versions/3.13/lib/python3.13/site-packages/scrapy/pipelines/files.py:627:media_failed\n",
      "]\n",
      "NoneType: None\n",
      "2025-03-02 22:35:24 [scrapy.pipelines.media] ERROR: [Failure instance: Traceback: <class 'scrapy.pipelines.files.FileException'>: \n",
      "/Library/Frameworks/Python.framework/Versions/3.13/lib/python3.13/site-packages/twisted/internet/defer.py:1088:_runCallbacks\n",
      "/Library/Frameworks/Python.framework/Versions/3.13/lib/python3.13/site-packages/scrapy/pipelines/files.py:627:media_failed\n",
      "]\n",
      "NoneType: None\n",
      "2025-03-02 22:35:24 [scrapy.pipelines.media] ERROR: [Failure instance: Traceback: <class 'scrapy.pipelines.files.FileException'>: \n",
      "/Library/Frameworks/Python.framework/Versions/3.13/lib/python3.13/site-packages/twisted/internet/defer.py:1088:_runCallbacks\n",
      "/Library/Frameworks/Python.framework/Versions/3.13/lib/python3.13/site-packages/scrapy/pipelines/files.py:627:media_failed\n",
      "]\n",
      "NoneType: None\n",
      "2025-03-02 22:35:24 [scrapy.core.scraper] ERROR: Spider error processing <GET https://en.wikipedia.org/wiki/Deadpool_(film_series)> (referer: https://en.wikipedia.org/wiki/List_of_highest-grossing_films)\n",
      "Traceback (most recent call last):\n",
      "  File \"/Library/Frameworks/Python.framework/Versions/3.13/lib/python3.13/site-packages/scrapy/utils/defer.py\", line 327, in iter_errback\n",
      "    yield next(it)\n",
      "          ~~~~^^^^\n",
      "  File \"/Library/Frameworks/Python.framework/Versions/3.13/lib/python3.13/site-packages/scrapy/utils/python.py\", line 368, in __next__\n",
      "    return next(self.data)\n",
      "  File \"/Library/Frameworks/Python.framework/Versions/3.13/lib/python3.13/site-packages/scrapy/utils/python.py\", line 368, in __next__\n",
      "    return next(self.data)\n",
      "  File \"/Library/Frameworks/Python.framework/Versions/3.13/lib/python3.13/site-packages/scrapy/core/spidermw.py\", line 106, in process_sync\n",
      "    yield from iterable\n",
      "  File \"/Library/Frameworks/Python.framework/Versions/3.13/lib/python3.13/site-packages/scrapy/spidermiddlewares/referer.py\", line 379, in <genexpr>\n",
      "    return (self._set_referer(r, response) for r in result)\n",
      "                                                    ^^^^^^\n",
      "  File \"/Library/Frameworks/Python.framework/Versions/3.13/lib/python3.13/site-packages/scrapy/core/spidermw.py\", line 106, in process_sync\n",
      "    yield from iterable\n",
      "  File \"/Library/Frameworks/Python.framework/Versions/3.13/lib/python3.13/site-packages/scrapy/spidermiddlewares/urllength.py\", line 57, in <genexpr>\n",
      "    return (r for r in result if self._filter(r, spider))\n",
      "                       ^^^^^^\n",
      "  File \"/Library/Frameworks/Python.framework/Versions/3.13/lib/python3.13/site-packages/scrapy/core/spidermw.py\", line 106, in process_sync\n",
      "    yield from iterable\n",
      "  File \"/Library/Frameworks/Python.framework/Versions/3.13/lib/python3.13/site-packages/scrapy/spidermiddlewares/depth.py\", line 54, in <genexpr>\n",
      "    return (r for r in result if self._filter(r, response, spider))\n",
      "                       ^^^^^^\n",
      "  File \"/Library/Frameworks/Python.framework/Versions/3.13/lib/python3.13/site-packages/scrapy/core/spidermw.py\", line 106, in process_sync\n",
      "    yield from iterable\n",
      "  File \"/Users/fllarpy/projects/DWV/pop-films/wikipedia_scaper/wikipedia_scaper/spiders/movies_spider.py\", line 36, in parse_movie\n",
      "    year = int(infobox.xpath('.//th[div[contains(text(), \"Release date\")]]/following-sibling::td//li/text()').get().split()[-1])\n",
      "               ^^^^^^^^^^^^^^^^^^^^^^^^^^^^^^^^^^^^^^^^^^^^^^^^^^^^^^^^^^^^^^^^^^^^^^^^^^^^^^^^^^^^^^^^^^^^^^^^^^^^^^^^^^\n",
      "AttributeError: 'NoneType' object has no attribute 'split'\n",
      "2025-03-02 22:35:24 [scrapy.pipelines.media] ERROR: [Failure instance: Traceback: <class 'scrapy.pipelines.files.FileException'>: \n",
      "/Library/Frameworks/Python.framework/Versions/3.13/lib/python3.13/site-packages/twisted/internet/defer.py:1088:_runCallbacks\n",
      "/Library/Frameworks/Python.framework/Versions/3.13/lib/python3.13/site-packages/scrapy/pipelines/files.py:627:media_failed\n",
      "]\n",
      "NoneType: None\n",
      "2025-03-02 22:35:24 [scrapy.pipelines.media] ERROR: [Failure instance: Traceback: <class 'scrapy.pipelines.files.FileException'>: \n",
      "/Library/Frameworks/Python.framework/Versions/3.13/lib/python3.13/site-packages/twisted/internet/defer.py:1088:_runCallbacks\n",
      "/Library/Frameworks/Python.framework/Versions/3.13/lib/python3.13/site-packages/scrapy/pipelines/files.py:627:media_failed\n",
      "]\n",
      "NoneType: None\n",
      "2025-03-02 22:35:24 [urllib3.connectionpool] DEBUG: Starting new HTTPS connection (1): upload.wikimedia.org:443\n",
      "2025-03-02 22:35:24 [urllib3.connectionpool] DEBUG: https://upload.wikimedia.org:443 \"GET /wikipedia/en/thumb/7/74/The_Wolverine_posterUS.jpg/220px-The_Wolverine_posterUS.jpg HTTP/1.1\" 200 27975\n",
      "2025-03-02 22:35:24 [urllib3.connectionpool] DEBUG: Starting new HTTPS connection (1): upload.wikimedia.org:443\n"
     ]
    },
    {
     "name": "stdout",
     "output_type": "stream",
     "text": [
      "saved in images/The_Wolverine/The_Wolverine.jpg\n",
      "erroe: \n"
     ]
    },
    {
     "name": "stderr",
     "output_type": "stream",
     "text": [
      "2025-03-02 22:35:25 [urllib3.connectionpool] DEBUG: https://upload.wikimedia.org:443 \"GET /wikipedia/en/thumb/1/1a/TheNewMutantsPoster.jpeg/220px-TheNewMutantsPoster.jpeg HTTP/1.1\" 200 25845\n",
      "2025-03-02 22:35:25 [urllib3.connectionpool] DEBUG: Starting new HTTPS connection (1): upload.wikimedia.org:443\n"
     ]
    },
    {
     "name": "stdout",
     "output_type": "stream",
     "text": [
      "saved in images/The_New_Mutants/The_New_Mutants.jpeg\n",
      "erroe: \n"
     ]
    },
    {
     "name": "stderr",
     "output_type": "stream",
     "text": [
      "2025-03-02 22:35:25 [urllib3.connectionpool] DEBUG: https://upload.wikimedia.org:443 \"GET /wikipedia/en/0/08/X-Men_Origins_Wolverine_theatrical_poster.jpg HTTP/1.1\" 200 105215\n",
      "2025-03-02 22:35:25 [urllib3.connectionpool] DEBUG: Starting new HTTPS connection (1): upload.wikimedia.org:443\n"
     ]
    },
    {
     "name": "stdout",
     "output_type": "stream",
     "text": [
      "saved in images/X-Men_Origins:_Wolverine/X-Men_Origins:_Wolverine.jpg\n",
      "erroe: \n"
     ]
    },
    {
     "name": "stderr",
     "output_type": "stream",
     "text": [
      "2025-03-02 22:35:26 [urllib3.connectionpool] DEBUG: https://upload.wikimedia.org:443 \"GET /wikipedia/en/3/37/Logan_2017_poster.jpg HTTP/1.1\" 200 100512\n"
     ]
    },
    {
     "name": "stdout",
     "output_type": "stream",
     "text": [
      "saved in images/Logan/Logan.jpg\n",
      "erroe: \n"
     ]
    },
    {
     "name": "stderr",
     "output_type": "stream",
     "text": [
      "2025-03-02 22:35:26 [urllib3.connectionpool] DEBUG: Starting new HTTPS connection (1): upload.wikimedia.org:443\n",
      "2025-03-02 22:35:26 [urllib3.connectionpool] DEBUG: https://upload.wikimedia.org:443 \"GET /wikipedia/en/c/cf/Deadpool_2_poster.jpg HTTP/1.1\" 200 146819\n",
      "2025-03-02 22:35:26 [urllib3.connectionpool] DEBUG: Starting new HTTPS connection (1): upload.wikimedia.org:443\n"
     ]
    },
    {
     "name": "stdout",
     "output_type": "stream",
     "text": [
      "saved in images/Deadpool_2/Deadpool_2.jpg\n",
      "erroe: \n"
     ]
    },
    {
     "name": "stderr",
     "output_type": "stream",
     "text": [
      "2025-03-02 22:35:27 [urllib3.connectionpool] DEBUG: https://upload.wikimedia.org:443 \"GET /wikipedia/en/thumb/2/23/Deadpool_%282016_poster%29.png/220px-Deadpool_%282016_poster%29.png HTTP/1.1\" 200 103756\n",
      "2025-03-02 22:35:27 [scrapy.pipelines.media] ERROR: [Failure instance: Traceback: <class 'scrapy.pipelines.files.FileException'>: \n",
      "/Library/Frameworks/Python.framework/Versions/3.13/lib/python3.13/site-packages/twisted/internet/defer.py:1088:_runCallbacks\n",
      "/Library/Frameworks/Python.framework/Versions/3.13/lib/python3.13/site-packages/scrapy/pipelines/files.py:627:media_failed\n",
      "]\n",
      "NoneType: None\n",
      "2025-03-02 22:35:27 [scrapy.core.engine] DEBUG: Crawled (200) <GET https://en.wikipedia.org/wiki/Licence_to_Kill> (referer: https://en.wikipedia.org/wiki/List_of_highest-grossing_films)\n",
      "2025-03-02 22:35:27 [scrapy.core.engine] DEBUG: Crawled (200) <GET https://en.wikipedia.org/wiki/On_Her_Majesty%27s_Secret_Service_(film)> (referer: https://en.wikipedia.org/wiki/List_of_highest-grossing_films)\n",
      "2025-03-02 22:35:27 [scrapy.core.engine] DEBUG: Crawled (200) <GET https://en.wikipedia.org/wiki/The_Living_Daylights> (referer: https://en.wikipedia.org/wiki/List_of_highest-grossing_films)\n",
      "2025-03-02 22:35:27 [scrapy.core.engine] DEBUG: Crawled (200) <GET https://en.wikipedia.org/wiki/Never_Say_Never_Again> (referer: https://en.wikipedia.org/wiki/List_of_highest-grossing_films)\n",
      "2025-03-02 22:35:27 [scrapy.core.scraper] DEBUG: Scraped from <200 https://en.wikipedia.org/wiki/The_Wolverine_(film)>\n",
      "{'box_office': 414800000.0,\n",
      " 'countries': ['United States', 'United Kingdom'],\n",
      " 'directors': ['James Mangold'],\n",
      " 'image_urls': ['https://upload.wikimedia.org/wikipedia/en/thumb/7/74/The_Wolverine_posterUS.jpg/220px-The_Wolverine_posterUS.jpg'],\n",
      " 'images': [],\n",
      " 'title': 'The Wolverine',\n",
      " 'year': 2013}\n",
      "2025-03-02 22:35:27 [scrapy.core.scraper] DEBUG: Scraped from <200 https://en.wikipedia.org/wiki/The_New_Mutants_(film)>\n",
      "{'box_office': 49200000.0,\n",
      " 'countries': ['United States'],\n",
      " 'directors': ['Josh Boone'],\n",
      " 'image_urls': ['https://upload.wikimedia.org/wikipedia/en/thumb/1/1a/TheNewMutantsPoster.jpeg/220px-TheNewMutantsPoster.jpeg'],\n",
      " 'images': [],\n",
      " 'title': 'The New Mutants',\n",
      " 'year': 2020}\n",
      "2025-03-02 22:35:27 [scrapy.core.scraper] DEBUG: Scraped from <200 https://en.wikipedia.org/wiki/X-Men_Origins:_Wolverine>\n",
      "{'box_office': 373000000.0,\n",
      " 'countries': ['United States'],\n",
      " 'directors': ['Gavin Hood'],\n",
      " 'image_urls': ['https://upload.wikimedia.org/wikipedia/en/0/08/X-Men_Origins_Wolverine_theatrical_poster.jpg'],\n",
      " 'images': [],\n",
      " 'title': 'X-Men Origins: Wolverine',\n",
      " 'year': 2009}\n",
      "2025-03-02 22:35:27 [scrapy.core.scraper] DEBUG: Scraped from <200 https://en.wikipedia.org/wiki/Logan_(film)>\n",
      "{'box_office': 619200000.0,\n",
      " 'countries': ['United States'],\n",
      " 'directors': ['James Mangold'],\n",
      " 'image_urls': ['https://upload.wikimedia.org/wikipedia/en/3/37/Logan_2017_poster.jpg'],\n",
      " 'images': [],\n",
      " 'title': 'Logan',\n",
      " 'year': 2017}\n",
      "2025-03-02 22:35:27 [scrapy.core.scraper] DEBUG: Scraped from <200 https://en.wikipedia.org/wiki/Deadpool_2>\n",
      "{'box_office': 785900000.0,\n",
      " 'countries': ['United States'],\n",
      " 'directors': ['David Leitch'],\n",
      " 'image_urls': ['https://upload.wikimedia.org/wikipedia/en/c/cf/Deadpool_2_poster.jpg'],\n",
      " 'images': [],\n",
      " 'title': 'Deadpool 2',\n",
      " 'year': 2018}\n",
      "2025-03-02 22:35:27 [scrapy.core.scraper] DEBUG: Scraped from <200 https://en.wikipedia.org/wiki/Deadpool_(film)>\n",
      "{'box_office': 782000000.0,\n",
      " 'countries': ['United States'],\n",
      " 'directors': ['Tim Miller'],\n",
      " 'image_urls': ['https://upload.wikimedia.org/wikipedia/en/thumb/2/23/Deadpool_%282016_poster%29.png/220px-Deadpool_%282016_poster%29.png'],\n",
      " 'images': [],\n",
      " 'title': 'Deadpool',\n",
      " 'year': 2016}\n",
      "2025-03-02 22:35:27 [urllib3.connectionpool] DEBUG: Starting new HTTPS connection (1): upload.wikimedia.org:443\n"
     ]
    },
    {
     "name": "stdout",
     "output_type": "stream",
     "text": [
      "saved in images/Deadpool/Deadpool.png\n",
      "erroe: \n"
     ]
    },
    {
     "name": "stderr",
     "output_type": "stream",
     "text": [
      "2025-03-02 22:35:27 [urllib3.connectionpool] DEBUG: https://upload.wikimedia.org:443 \"GET /wikipedia/en/thumb/3/3e/X2_poster.jpg/220px-X2_poster.jpg HTTP/1.1\" 200 28588\n",
      "2025-03-02 22:35:27 [scrapy.core.scraper] DEBUG: Scraped from <200 https://en.wikipedia.org/wiki/X2_(film)>\n",
      "{'box_office': 407.7,\n",
      " 'countries': ['United States'],\n",
      " 'directors': ['Bryan Singer'],\n",
      " 'image_urls': ['https://upload.wikimedia.org/wikipedia/en/thumb/3/3e/X2_poster.jpg/220px-X2_poster.jpg'],\n",
      " 'images': [],\n",
      " 'title': 'X2',\n",
      " 'year': 2003}\n",
      "2025-03-02 22:35:27 [scrapy.pipelines.media] ERROR: [Failure instance: Traceback: <class 'scrapy.pipelines.files.FileException'>: \n",
      "/Library/Frameworks/Python.framework/Versions/3.13/lib/python3.13/site-packages/twisted/internet/defer.py:1088:_runCallbacks\n",
      "/Library/Frameworks/Python.framework/Versions/3.13/lib/python3.13/site-packages/scrapy/pipelines/files.py:627:media_failed\n",
      "]\n",
      "NoneType: None\n",
      "2025-03-02 22:35:27 [scrapy.pipelines.media] ERROR: [Failure instance: Traceback: <class 'scrapy.pipelines.files.FileException'>: \n",
      "/Library/Frameworks/Python.framework/Versions/3.13/lib/python3.13/site-packages/twisted/internet/defer.py:1088:_runCallbacks\n",
      "/Library/Frameworks/Python.framework/Versions/3.13/lib/python3.13/site-packages/scrapy/pipelines/files.py:627:media_failed\n",
      "]\n",
      "NoneType: None\n",
      "2025-03-02 22:35:27 [scrapy.pipelines.media] ERROR: [Failure instance: Traceback: <class 'scrapy.pipelines.files.FileException'>: \n",
      "/Library/Frameworks/Python.framework/Versions/3.13/lib/python3.13/site-packages/twisted/internet/defer.py:1088:_runCallbacks\n",
      "/Library/Frameworks/Python.framework/Versions/3.13/lib/python3.13/site-packages/scrapy/pipelines/files.py:627:media_failed\n",
      "]\n",
      "NoneType: None\n",
      "2025-03-02 22:35:27 [urllib3.connectionpool] DEBUG: Starting new HTTPS connection (1): upload.wikimedia.org:443\n"
     ]
    },
    {
     "name": "stdout",
     "output_type": "stream",
     "text": [
      "saved in images/X2/X2.jpg\n",
      "erroe: \n"
     ]
    },
    {
     "name": "stderr",
     "output_type": "stream",
     "text": [
      "2025-03-02 22:35:28 [urllib3.connectionpool] DEBUG: https://upload.wikimedia.org:443 \"GET /wikipedia/en/thumb/8/81/X-MenfilmPoster.jpg/220px-X-MenfilmPoster.jpg HTTP/1.1\" 200 24413\n",
      "2025-03-02 22:35:28 [scrapy.pipelines.media] ERROR: [Failure instance: Traceback: <class 'scrapy.pipelines.files.FileException'>: \n",
      "/Library/Frameworks/Python.framework/Versions/3.13/lib/python3.13/site-packages/twisted/internet/defer.py:1088:_runCallbacks\n",
      "/Library/Frameworks/Python.framework/Versions/3.13/lib/python3.13/site-packages/scrapy/pipelines/files.py:627:media_failed\n",
      "]\n",
      "NoneType: None\n",
      "2025-03-02 22:35:28 [scrapy.pipelines.media] ERROR: [Failure instance: Traceback: <class 'scrapy.pipelines.files.FileException'>: \n",
      "/Library/Frameworks/Python.framework/Versions/3.13/lib/python3.13/site-packages/twisted/internet/defer.py:1088:_runCallbacks\n",
      "/Library/Frameworks/Python.framework/Versions/3.13/lib/python3.13/site-packages/scrapy/pipelines/files.py:627:media_failed\n",
      "]\n",
      "NoneType: None\n",
      "2025-03-02 22:35:28 [scrapy.pipelines.media] ERROR: [Failure instance: Traceback: <class 'scrapy.pipelines.files.FileException'>: \n",
      "/Library/Frameworks/Python.framework/Versions/3.13/lib/python3.13/site-packages/twisted/internet/defer.py:1088:_runCallbacks\n",
      "/Library/Frameworks/Python.framework/Versions/3.13/lib/python3.13/site-packages/scrapy/pipelines/files.py:627:media_failed\n",
      "]\n",
      "NoneType: None\n",
      "2025-03-02 22:35:28 [scrapy.pipelines.media] ERROR: [Failure instance: Traceback: <class 'scrapy.pipelines.files.FileException'>: \n",
      "/Library/Frameworks/Python.framework/Versions/3.13/lib/python3.13/site-packages/twisted/internet/defer.py:1088:_runCallbacks\n",
      "/Library/Frameworks/Python.framework/Versions/3.13/lib/python3.13/site-packages/scrapy/pipelines/files.py:627:media_failed\n",
      "]\n",
      "NoneType: None\n",
      "2025-03-02 22:35:28 [urllib3.connectionpool] DEBUG: Starting new HTTPS connection (1): upload.wikimedia.org:443\n"
     ]
    },
    {
     "name": "stdout",
     "output_type": "stream",
     "text": [
      "saved in images/X-Men/X-Men.jpg\n",
      "erroe: \n"
     ]
    },
    {
     "name": "stderr",
     "output_type": "stream",
     "text": [
      "2025-03-02 22:35:28 [urllib3.connectionpool] DEBUG: https://upload.wikimedia.org:443 \"GET /wikipedia/en/3/3c/Casino_Royale_%281967_film_poster%29.jpg HTTP/1.1\" 200 56845\n",
      "2025-03-02 22:35:28 [urllib3.connectionpool] DEBUG: Starting new HTTPS connection (1): upload.wikimedia.org:443\n"
     ]
    },
    {
     "name": "stdout",
     "output_type": "stream",
     "text": [
      "saved in images/Casino_Royale/Casino_Royale.jpg\n",
      "erroe: \n"
     ]
    },
    {
     "name": "stderr",
     "output_type": "stream",
     "text": [
      "2025-03-02 22:35:29 [urllib3.connectionpool] DEBUG: https://upload.wikimedia.org:443 \"GET /wikipedia/en/thumb/9/9e/Dark_Phoenix_%28film%29.png/220px-Dark_Phoenix_%28film%29.png HTTP/1.1\" 200 158583\n"
     ]
    },
    {
     "name": "stdout",
     "output_type": "stream",
     "text": [
      "saved in images/Dark_Phoenix/Dark_Phoenix.png\n",
      "erroe: \n"
     ]
    },
    {
     "name": "stderr",
     "output_type": "stream",
     "text": [
      "2025-03-02 22:35:29 [urllib3.connectionpool] DEBUG: Starting new HTTPS connection (1): upload.wikimedia.org:443\n",
      "2025-03-02 22:35:29 [urllib3.connectionpool] DEBUG: https://upload.wikimedia.org:443 \"GET /wikipedia/en/thumb/5/55/X-MenFirstClassMoviePoster.jpg/220px-X-MenFirstClassMoviePoster.jpg HTTP/1.1\" 200 25470\n",
      "2025-03-02 22:35:29 [scrapy.core.scraper] DEBUG: Scraped from <200 https://en.wikipedia.org/wiki/Dark_Phoenix_(film)>\n",
      "{'box_office': 252400000.0,\n",
      " 'countries': ['United States'],\n",
      " 'directors': ['Simon Kinberg'],\n",
      " 'image_urls': ['https://upload.wikimedia.org/wikipedia/en/thumb/9/9e/Dark_Phoenix_%28film%29.png/220px-Dark_Phoenix_%28film%29.png'],\n",
      " 'images': [],\n",
      " 'title': 'Dark Phoenix',\n",
      " 'year': 2019}\n",
      "2025-03-02 22:35:29 [scrapy.core.scraper] DEBUG: Scraped from <200 https://en.wikipedia.org/wiki/X-Men:_First_Class>\n",
      "{'box_office': 353000000.0,\n",
      " 'countries': ['United States', 'United Kingdom'],\n",
      " 'directors': ['Matthew Vaughn'],\n",
      " 'image_urls': ['https://upload.wikimedia.org/wikipedia/en/thumb/5/55/X-MenFirstClassMoviePoster.jpg/220px-X-MenFirstClassMoviePoster.jpg'],\n",
      " 'images': [],\n",
      " 'title': 'X-Men: First Class',\n",
      " 'year': 2011}\n",
      "2025-03-02 22:35:29 [scrapy.core.scraper] DEBUG: Scraped from <200 https://en.wikipedia.org/wiki/X-Men_(film)>\n",
      "{'box_office': 296.3,\n",
      " 'countries': ['United States'],\n",
      " 'directors': ['Bryan Singer'],\n",
      " 'image_urls': ['https://upload.wikimedia.org/wikipedia/en/thumb/8/81/X-MenfilmPoster.jpg/220px-X-MenfilmPoster.jpg'],\n",
      " 'images': [],\n",
      " 'title': 'X-Men',\n",
      " 'year': 2000}\n",
      "2025-03-02 22:35:29 [urllib3.connectionpool] DEBUG: Starting new HTTPS connection (1): upload.wikimedia.org:443\n"
     ]
    },
    {
     "name": "stdout",
     "output_type": "stream",
     "text": [
      "saved in images/X-Men:_First_Class/X-Men:_First_Class.jpg\n",
      "erroe: \n"
     ]
    },
    {
     "name": "stderr",
     "output_type": "stream",
     "text": [
      "2025-03-02 22:35:30 [urllib3.connectionpool] DEBUG: https://upload.wikimedia.org:443 \"GET /wikipedia/en/thumb/0/0c/X-Men_Days_of_Future_Past_poster.jpg/220px-X-Men_Days_of_Future_Past_poster.jpg HTTP/1.1\" 200 29822\n",
      "2025-03-02 22:35:30 [urllib3.connectionpool] DEBUG: Starting new HTTPS connection (1): upload.wikimedia.org:443\n"
     ]
    },
    {
     "name": "stdout",
     "output_type": "stream",
     "text": [
      "saved in images/X-Men:_Days_of_Future_Past/X-Men:_Days_of_Future_Past.jpg\n",
      "erroe: \n"
     ]
    },
    {
     "name": "stderr",
     "output_type": "stream",
     "text": [
      "2025-03-02 22:35:30 [urllib3.connectionpool] DEBUG: https://upload.wikimedia.org:443 \"GET /wikipedia/en/thumb/0/04/X-Men_-_Apocalypse.jpg/220px-X-Men_-_Apocalypse.jpg HTTP/1.1\" 200 33391\n",
      "2025-03-02 22:35:30 [urllib3.connectionpool] DEBUG: Starting new HTTPS connection (1): upload.wikimedia.org:443\n"
     ]
    },
    {
     "name": "stdout",
     "output_type": "stream",
     "text": [
      "saved in images/X-Men:_Apocalypse/X-Men:_Apocalypse.jpg\n",
      "erroe: \n"
     ]
    },
    {
     "name": "stderr",
     "output_type": "stream",
     "text": [
      "2025-03-02 22:35:30 [urllib3.connectionpool] DEBUG: https://upload.wikimedia.org:443 \"GET /wikipedia/en/5/5b/X-Men_The_Last_Stand_theatrical_poster.jpg HTTP/1.1\" 200 64223\n",
      "2025-03-02 22:35:31 [scrapy.core.scraper] DEBUG: Scraped from <200 https://en.wikipedia.org/wiki/X-Men:_Days_of_Future_Past>\n",
      "{'box_office': 746000000.0,\n",
      " 'countries': ['United States', 'United Kingdom'],\n",
      " 'directors': ['Bryan Singer'],\n",
      " 'image_urls': ['https://upload.wikimedia.org/wikipedia/en/thumb/0/0c/X-Men_Days_of_Future_Past_poster.jpg/220px-X-Men_Days_of_Future_Past_poster.jpg'],\n",
      " 'images': [],\n",
      " 'title': 'X-Men: Days of Future Past',\n",
      " 'year': 2014}\n",
      "2025-03-02 22:35:31 [scrapy.core.scraper] DEBUG: Scraped from <200 https://en.wikipedia.org/wiki/X-Men:_Apocalypse>\n",
      "{'box_office': 543900000.0,\n",
      " 'countries': ['United States'],\n",
      " 'directors': ['Bryan Singer'],\n",
      " 'image_urls': ['https://upload.wikimedia.org/wikipedia/en/thumb/0/04/X-Men_-_Apocalypse.jpg/220px-X-Men_-_Apocalypse.jpg'],\n",
      " 'images': [],\n",
      " 'title': 'X-Men: Apocalypse',\n",
      " 'year': 2016}\n",
      "2025-03-02 22:35:31 [scrapy.core.scraper] DEBUG: Scraped from <200 https://en.wikipedia.org/wiki/X-Men:_The_Last_Stand>\n",
      "{'box_office': 460.4,\n",
      " 'countries': ['United States', 'United Kingdom'],\n",
      " 'directors': ['Brett Ratner'],\n",
      " 'image_urls': ['https://upload.wikimedia.org/wikipedia/en/5/5b/X-Men_The_Last_Stand_theatrical_poster.jpg'],\n",
      " 'images': [],\n",
      " 'title': 'X-Men: The Last Stand',\n",
      " 'year': 2006}\n",
      "2025-03-02 22:35:31 [scrapy.core.scraper] DEBUG: Scraped from <200 https://en.wikipedia.org/wiki/Casino_Royale_(1967_film)>\n",
      "{'box_office': 41700000.0,\n",
      " 'countries': ['United Kingdom', 'United States'],\n",
      " 'directors': ['John Huston',\n",
      "               'Ken Hughes',\n",
      "               'Val Guest',\n",
      "               'Robert Parrish',\n",
      "               'Joe McGrath'],\n",
      " 'image_urls': ['https://upload.wikimedia.org/wikipedia/en/3/3c/Casino_Royale_%281967_film_poster%29.jpg'],\n",
      " 'images': [],\n",
      " 'title': 'Casino Royale',\n",
      " 'year': 1967}\n"
     ]
    },
    {
     "name": "stdout",
     "output_type": "stream",
     "text": [
      "saved in images/X-Men:_The_Last_Stand/X-Men:_The_Last_Stand.jpg\n",
      "erroe: \n"
     ]
    },
    {
     "name": "stderr",
     "output_type": "stream",
     "text": [
      "2025-03-02 22:35:31 [scrapy.pipelines.media] ERROR: [Failure instance: Traceback: <class 'scrapy.pipelines.files.FileException'>: \n",
      "/Library/Frameworks/Python.framework/Versions/3.13/lib/python3.13/site-packages/twisted/internet/defer.py:1088:_runCallbacks\n",
      "/Library/Frameworks/Python.framework/Versions/3.13/lib/python3.13/site-packages/scrapy/pipelines/files.py:627:media_failed\n",
      "]\n",
      "NoneType: None\n",
      "2025-03-02 22:35:31 [scrapy.pipelines.media] ERROR: [Failure instance: Traceback: <class 'scrapy.pipelines.files.FileException'>: \n",
      "/Library/Frameworks/Python.framework/Versions/3.13/lib/python3.13/site-packages/twisted/internet/defer.py:1088:_runCallbacks\n",
      "/Library/Frameworks/Python.framework/Versions/3.13/lib/python3.13/site-packages/scrapy/pipelines/files.py:627:media_failed\n",
      "]\n",
      "NoneType: None\n",
      "2025-03-02 22:35:31 [scrapy.pipelines.media] ERROR: [Failure instance: Traceback: <class 'scrapy.pipelines.files.FileException'>: \n",
      "/Library/Frameworks/Python.framework/Versions/3.13/lib/python3.13/site-packages/twisted/internet/defer.py:1088:_runCallbacks\n",
      "/Library/Frameworks/Python.framework/Versions/3.13/lib/python3.13/site-packages/scrapy/pipelines/files.py:627:media_failed\n",
      "]\n",
      "NoneType: None\n",
      "2025-03-02 22:35:31 [urllib3.connectionpool] DEBUG: Starting new HTTPS connection (1): upload.wikimedia.org:443\n",
      "2025-03-02 22:35:31 [urllib3.connectionpool] DEBUG: https://upload.wikimedia.org:443 \"GET /wikipedia/en/thumb/a/ae/The_Living_Daylights_-_UK_cinema_poster.jpg/220px-The_Living_Daylights_-_UK_cinema_poster.jpg HTTP/1.1\" 200 17727\n",
      "2025-03-02 22:35:31 [scrapy.pipelines.media] ERROR: [Failure instance: Traceback: <class 'scrapy.pipelines.files.FileException'>: \n",
      "/Library/Frameworks/Python.framework/Versions/3.13/lib/python3.13/site-packages/twisted/internet/defer.py:1088:_runCallbacks\n",
      "/Library/Frameworks/Python.framework/Versions/3.13/lib/python3.13/site-packages/scrapy/pipelines/files.py:627:media_failed\n",
      "]\n",
      "NoneType: None\n",
      "2025-03-02 22:35:31 [scrapy.core.engine] DEBUG: Crawled (200) <GET https://en.wikipedia.org/wiki/You_Only_Live_Twice_(film)> (referer: https://en.wikipedia.org/wiki/List_of_highest-grossing_films)\n",
      "2025-03-02 22:35:31 [scrapy.core.engine] DEBUG: Crawled (200) <GET https://en.wikipedia.org/wiki/Live_and_Let_Die_(film)> (referer: https://en.wikipedia.org/wiki/List_of_highest-grossing_films)\n",
      "2025-03-02 22:35:31 [scrapy.core.engine] DEBUG: Crawled (200) <GET https://en.wikipedia.org/wiki/A_View_to_a_Kill> (referer: https://en.wikipedia.org/wiki/List_of_highest-grossing_films)\n",
      "2025-03-02 22:35:31 [scrapy.core.engine] DEBUG: Crawled (200) <GET https://en.wikipedia.org/wiki/Thunderball_(film)> (referer: https://en.wikipedia.org/wiki/List_of_highest-grossing_films)\n",
      "2025-03-02 22:35:31 [scrapy.core.engine] DEBUG: Crawled (200) <GET https://en.wikipedia.org/wiki/The_Man_with_the_Golden_Gun_(film)> (referer: https://en.wikipedia.org/wiki/List_of_highest-grossing_films)\n",
      "2025-03-02 22:35:31 [scrapy.core.engine] DEBUG: Crawled (200) <GET https://en.wikipedia.org/wiki/Octopussy> (referer: https://en.wikipedia.org/wiki/List_of_highest-grossing_films)\n",
      "2025-03-02 22:35:31 [urllib3.connectionpool] DEBUG: Starting new HTTPS connection (1): upload.wikimedia.org:443\n"
     ]
    },
    {
     "name": "stdout",
     "output_type": "stream",
     "text": [
      "saved in images/The_Living_Daylights/The_Living_Daylights.jpg\n",
      "erroe: \n"
     ]
    },
    {
     "name": "stderr",
     "output_type": "stream",
     "text": [
      "2025-03-02 22:35:31 [urllib3.connectionpool] DEBUG: https://upload.wikimedia.org:443 \"GET /wikipedia/en/thumb/c/c2/Licence_to_Kill_-_UK_cinema_poster.jpg/220px-Licence_to_Kill_-_UK_cinema_poster.jpg HTTP/1.1\" 200 12787\n",
      "2025-03-02 22:35:31 [urllib3.connectionpool] DEBUG: Starting new HTTPS connection (1): upload.wikimedia.org:443\n"
     ]
    },
    {
     "name": "stdout",
     "output_type": "stream",
     "text": [
      "saved in images/Licence_to_Kill/Licence_to_Kill.jpg\n",
      "erroe: \n"
     ]
    },
    {
     "name": "stderr",
     "output_type": "stream",
     "text": [
      "2025-03-02 22:35:32 [urllib3.connectionpool] DEBUG: https://upload.wikimedia.org:443 \"GET /wikipedia/en/thumb/f/f3/On_Her_Majesty%27s_Secret_Service_-_UK_cinema_poster.jpg/220px-On_Her_Majesty%27s_Secret_Service_-_UK_cinema_poster.jpg HTTP/1.1\" 403 2184\n",
      "2025-03-02 22:35:32 [scrapy.core.scraper] DEBUG: Scraped from <200 https://en.wikipedia.org/wiki/Licence_to_Kill>\n",
      "{'box_office': 156100000.0,\n",
      " 'countries': ['United Kingdom', 'United States'],\n",
      " 'directors': ['John Glen'],\n",
      " 'image_urls': ['https://upload.wikimedia.org/wikipedia/en/thumb/c/c2/Licence_to_Kill_-_UK_cinema_poster.jpg/220px-Licence_to_Kill_-_UK_cinema_poster.jpg'],\n",
      " 'images': [],\n",
      " 'title': 'Licence to Kill',\n",
      " 'year': 1989}\n",
      "2025-03-02 22:35:32 [scrapy.core.scraper] DEBUG: Scraped from <200 https://en.wikipedia.org/wiki/On_Her_Majesty%27s_Secret_Service_(film)>\n",
      "{'box_office': 82000000.0,\n",
      " 'countries': ['United Kingdom', 'United States'],\n",
      " 'directors': ['Peter R. Hunt'],\n",
      " 'image_urls': ['https://upload.wikimedia.org/wikipedia/en/thumb/f/f3/On_Her_Majesty%27s_Secret_Service_-_UK_cinema_poster.jpg/220px-On_Her_Majesty%27s_Secret_Service_-_UK_cinema_poster.jpg'],\n",
      " 'images': [],\n",
      " 'title': \"On Her Majesty's Secret Service\",\n",
      " 'year': 1969}\n",
      "2025-03-02 22:35:32 [scrapy.core.scraper] DEBUG: Scraped from <200 https://en.wikipedia.org/wiki/The_Living_Daylights>\n",
      "{'box_office': 191200000.0,\n",
      " 'countries': ['United Kingdom', 'United States'],\n",
      " 'directors': ['John Glen'],\n",
      " 'image_urls': ['https://upload.wikimedia.org/wikipedia/en/thumb/a/ae/The_Living_Daylights_-_UK_cinema_poster.jpg/220px-The_Living_Daylights_-_UK_cinema_poster.jpg'],\n",
      " 'images': [],\n",
      " 'title': 'The Living Daylights',\n",
      " 'year': 1987}\n",
      "2025-03-02 22:35:32 [urllib3.connectionpool] DEBUG: Starting new HTTPS connection (1): upload.wikimedia.org:443\n"
     ]
    },
    {
     "name": "stdout",
     "output_type": "stream",
     "text": [
      "error: 403\n"
     ]
    },
    {
     "name": "stderr",
     "output_type": "stream",
     "text": [
      "2025-03-02 22:35:32 [urllib3.connectionpool] DEBUG: https://upload.wikimedia.org:443 \"GET /wikipedia/en/thumb/6/6c/Never_Say_Never_Again_%E2%80%93_UK_cinema_poster.jpg/220px-Never_Say_Never_Again_%E2%80%93_UK_cinema_poster.jpg HTTP/1.1\" 200 17986\n",
      "2025-03-02 22:35:32 [scrapy.core.engine] DEBUG: Crawled (200) <GET https://en.wikipedia.org/wiki/Dr._No_(film)> (referer: https://en.wikipedia.org/wiki/List_of_highest-grossing_films)\n",
      "2025-03-02 22:35:32 [scrapy.core.engine] DEBUG: Crawled (200) <GET https://en.wikipedia.org/wiki/The_Spy_Who_Loved_Me_(film)> (referer: https://en.wikipedia.org/wiki/List_of_highest-grossing_films)\n",
      "2025-03-02 22:35:32 [scrapy.core.scraper] DEBUG: Scraped from <200 https://en.wikipedia.org/wiki/Never_Say_Never_Again>\n",
      "{'box_office': 160000000.0,\n",
      " 'countries': ['United States', 'United Kingdom', 'West Germany'],\n",
      " 'directors': ['Irvin Kershner'],\n",
      " 'image_urls': ['https://upload.wikimedia.org/wikipedia/en/thumb/6/6c/Never_Say_Never_Again_%E2%80%93_UK_cinema_poster.jpg/220px-Never_Say_Never_Again_%E2%80%93_UK_cinema_poster.jpg'],\n",
      " 'images': [],\n",
      " 'title': 'Never Say Never Again',\n",
      " 'year': 1983}\n",
      "2025-03-02 22:35:32 [scrapy.pipelines.media] ERROR: [Failure instance: Traceback: <class 'scrapy.pipelines.files.FileException'>: \n",
      "/Library/Frameworks/Python.framework/Versions/3.13/lib/python3.13/site-packages/twisted/internet/defer.py:1088:_runCallbacks\n",
      "/Library/Frameworks/Python.framework/Versions/3.13/lib/python3.13/site-packages/scrapy/pipelines/files.py:627:media_failed\n",
      "]\n",
      "NoneType: None\n",
      "2025-03-02 22:35:32 [scrapy.pipelines.media] ERROR: [Failure instance: Traceback: <class 'scrapy.pipelines.files.FileException'>: \n",
      "/Library/Frameworks/Python.framework/Versions/3.13/lib/python3.13/site-packages/twisted/internet/defer.py:1088:_runCallbacks\n",
      "/Library/Frameworks/Python.framework/Versions/3.13/lib/python3.13/site-packages/scrapy/pipelines/files.py:627:media_failed\n",
      "]\n",
      "NoneType: None\n",
      "2025-03-02 22:35:32 [urllib3.connectionpool] DEBUG: Starting new HTTPS connection (1): upload.wikimedia.org:443\n"
     ]
    },
    {
     "name": "stdout",
     "output_type": "stream",
     "text": [
      "saved in images/Never_Say_Never_Again/Never_Say_Never_Again.jpg\n",
      "erroe: \n"
     ]
    },
    {
     "name": "stderr",
     "output_type": "stream",
     "text": [
      "2025-03-02 22:35:32 [urllib3.connectionpool] DEBUG: https://upload.wikimedia.org:443 \"GET /wikipedia/en/thumb/3/36/Live_and_Let_Die-_UK_cinema_poster.jpg/220px-Live_and_Let_Die-_UK_cinema_poster.jpg HTTP/1.1\" 403 2184\n",
      "2025-03-02 22:35:32 [scrapy.pipelines.media] ERROR: [Failure instance: Traceback: <class 'scrapy.pipelines.files.FileException'>: \n",
      "/Library/Frameworks/Python.framework/Versions/3.13/lib/python3.13/site-packages/twisted/internet/defer.py:1088:_runCallbacks\n",
      "/Library/Frameworks/Python.framework/Versions/3.13/lib/python3.13/site-packages/scrapy/pipelines/files.py:627:media_failed\n",
      "]\n",
      "NoneType: None\n",
      "2025-03-02 22:35:32 [urllib3.connectionpool] DEBUG: Starting new HTTPS connection (1): upload.wikimedia.org:443\n"
     ]
    },
    {
     "name": "stdout",
     "output_type": "stream",
     "text": [
      "error: 403\n"
     ]
    },
    {
     "name": "stderr",
     "output_type": "stream",
     "text": [
      "2025-03-02 22:35:33 [urllib3.connectionpool] DEBUG: https://upload.wikimedia.org:443 \"GET /wikipedia/en/thumb/0/03/A_View_to_a_Kill_-_UK_cinema_poster.jpg/220px-A_View_to_a_Kill_-_UK_cinema_poster.jpg HTTP/1.1\" 200 13465\n",
      "2025-03-02 22:35:33 [scrapy.pipelines.media] ERROR: [Failure instance: Traceback: <class 'scrapy.pipelines.files.FileException'>: \n",
      "/Library/Frameworks/Python.framework/Versions/3.13/lib/python3.13/site-packages/twisted/internet/defer.py:1088:_runCallbacks\n",
      "/Library/Frameworks/Python.framework/Versions/3.13/lib/python3.13/site-packages/scrapy/pipelines/files.py:627:media_failed\n",
      "]\n",
      "NoneType: None\n",
      "2025-03-02 22:35:33 [urllib3.connectionpool] DEBUG: Starting new HTTPS connection (1): upload.wikimedia.org:443\n"
     ]
    },
    {
     "name": "stdout",
     "output_type": "stream",
     "text": [
      "saved in images/A_View_to_a_Kill/A_View_to_a_Kill.jpg\n",
      "erroe: \n"
     ]
    },
    {
     "name": "stderr",
     "output_type": "stream",
     "text": [
      "2025-03-02 22:35:33 [urllib3.connectionpool] DEBUG: https://upload.wikimedia.org:443 \"GET /wikipedia/en/thumb/1/1f/Thunderball_-_UK_cinema_poster.jpg/220px-Thunderball_-_UK_cinema_poster.jpg HTTP/1.1\" 200 19080\n",
      "2025-03-02 22:35:33 [scrapy.pipelines.media] ERROR: [Failure instance: Traceback: <class 'scrapy.pipelines.files.FileException'>: \n",
      "/Library/Frameworks/Python.framework/Versions/3.13/lib/python3.13/site-packages/twisted/internet/defer.py:1088:_runCallbacks\n",
      "/Library/Frameworks/Python.framework/Versions/3.13/lib/python3.13/site-packages/scrapy/pipelines/files.py:627:media_failed\n",
      "]\n",
      "NoneType: None\n",
      "2025-03-02 22:35:33 [scrapy.pipelines.media] ERROR: [Failure instance: Traceback: <class 'scrapy.pipelines.files.FileException'>: \n",
      "/Library/Frameworks/Python.framework/Versions/3.13/lib/python3.13/site-packages/twisted/internet/defer.py:1088:_runCallbacks\n",
      "/Library/Frameworks/Python.framework/Versions/3.13/lib/python3.13/site-packages/scrapy/pipelines/files.py:627:media_failed\n",
      "]\n",
      "NoneType: None\n",
      "2025-03-02 22:35:33 [urllib3.connectionpool] DEBUG: Starting new HTTPS connection (1): upload.wikimedia.org:443\n"
     ]
    },
    {
     "name": "stdout",
     "output_type": "stream",
     "text": [
      "saved in images/Thunderball/Thunderball.jpg\n",
      "erroe: \n"
     ]
    },
    {
     "name": "stderr",
     "output_type": "stream",
     "text": [
      "2025-03-02 22:35:33 [urllib3.connectionpool] DEBUG: https://upload.wikimedia.org:443 \"GET /wikipedia/en/thumb/b/b2/Octopussy_-_UK_cinema_poster.jpg/220px-Octopussy_-_UK_cinema_poster.jpg HTTP/1.1\" 200 14899\n",
      "2025-03-02 22:35:33 [scrapy.core.engine] DEBUG: Crawled (200) <GET https://en.wikipedia.org/wiki/Tomorrow_Never_Dies> (referer: https://en.wikipedia.org/wiki/List_of_highest-grossing_films)\n",
      "2025-03-02 22:35:33 [scrapy.core.engine] DEBUG: Crawled (200) <GET https://en.wikipedia.org/wiki/Die_Another_Day> (referer: https://en.wikipedia.org/wiki/List_of_highest-grossing_films)\n",
      "2025-03-02 22:35:33 [scrapy.core.engine] DEBUG: Crawled (200) <GET https://en.wikipedia.org/wiki/The_World_Is_Not_Enough> (referer: https://en.wikipedia.org/wiki/List_of_highest-grossing_films)\n",
      "2025-03-02 22:35:33 [urllib3.connectionpool] DEBUG: Starting new HTTPS connection (1): upload.wikimedia.org:443\n"
     ]
    },
    {
     "name": "stdout",
     "output_type": "stream",
     "text": [
      "saved in images/Octopussy/Octopussy.jpg\n",
      "erroe: \n"
     ]
    },
    {
     "name": "stderr",
     "output_type": "stream",
     "text": [
      "2025-03-02 22:35:34 [urllib3.connectionpool] DEBUG: https://upload.wikimedia.org:443 \"GET /wikipedia/en/thumb/3/32/You_Only_Live_Twice_-_UK_cinema_poster.jpg/220px-You_Only_Live_Twice_-_UK_cinema_poster.jpg HTTP/1.1\" 403 2184\n",
      "2025-03-02 22:35:34 [scrapy.core.scraper] DEBUG: Scraped from <200 https://en.wikipedia.org/wiki/You_Only_Live_Twice_(film)>\n",
      "{'box_office': 111600000.0,\n",
      " 'countries': ['United Kingdom', 'United States'],\n",
      " 'directors': ['Lewis Gilbert'],\n",
      " 'image_urls': ['https://upload.wikimedia.org/wikipedia/en/thumb/3/32/You_Only_Live_Twice_-_UK_cinema_poster.jpg/220px-You_Only_Live_Twice_-_UK_cinema_poster.jpg'],\n",
      " 'images': [],\n",
      " 'title': 'You Only Live Twice',\n",
      " 'year': 1967}\n",
      "2025-03-02 22:35:34 [scrapy.core.scraper] DEBUG: Scraped from <200 https://en.wikipedia.org/wiki/Live_and_Let_Die_(film)>\n",
      "{'box_office': 161800000.0,\n",
      " 'countries': ['United Kingdom', '', 'United States'],\n",
      " 'directors': ['Guy Hamilton'],\n",
      " 'image_urls': ['https://upload.wikimedia.org/wikipedia/en/thumb/3/36/Live_and_Let_Die-_UK_cinema_poster.jpg/220px-Live_and_Let_Die-_UK_cinema_poster.jpg'],\n",
      " 'images': [],\n",
      " 'title': 'Live and Let Die',\n",
      " 'year': 1973}\n",
      "2025-03-02 22:35:34 [scrapy.core.scraper] DEBUG: Scraped from <200 https://en.wikipedia.org/wiki/A_View_to_a_Kill>\n",
      "{'box_office': 152400000.0,\n",
      " 'countries': ['United Kingdom', 'United States'],\n",
      " 'directors': ['John Glen'],\n",
      " 'image_urls': ['https://upload.wikimedia.org/wikipedia/en/thumb/0/03/A_View_to_a_Kill_-_UK_cinema_poster.jpg/220px-A_View_to_a_Kill_-_UK_cinema_poster.jpg'],\n",
      " 'images': [],\n",
      " 'title': 'A View to a Kill',\n",
      " 'year': 1985}\n",
      "2025-03-02 22:35:34 [scrapy.core.scraper] DEBUG: Scraped from <200 https://en.wikipedia.org/wiki/Thunderball_(film)>\n",
      "{'box_office': 141200000.0,\n",
      " 'countries': ['United Kingdom', 'United States'],\n",
      " 'directors': ['Terence Young'],\n",
      " 'image_urls': ['https://upload.wikimedia.org/wikipedia/en/thumb/1/1f/Thunderball_-_UK_cinema_poster.jpg/220px-Thunderball_-_UK_cinema_poster.jpg'],\n",
      " 'images': [],\n",
      " 'title': 'Thunderball',\n",
      " 'year': 1965}\n",
      "2025-03-02 22:35:34 [urllib3.connectionpool] DEBUG: Starting new HTTPS connection (1): upload.wikimedia.org:443\n"
     ]
    },
    {
     "name": "stdout",
     "output_type": "stream",
     "text": [
      "error: 403\n"
     ]
    },
    {
     "name": "stderr",
     "output_type": "stream",
     "text": [
      "2025-03-02 22:35:34 [urllib3.connectionpool] DEBUG: https://upload.wikimedia.org:443 \"GET /wikipedia/en/thumb/0/0c/The_Man_with_the_Golden_Gun_-_UK_cinema_poster.jpg/220px-The_Man_with_the_Golden_Gun_-_UK_cinema_poster.jpg HTTP/1.1\" 200 17835\n",
      "2025-03-02 22:35:34 [scrapy.core.scraper] DEBUG: Scraped from <200 https://en.wikipedia.org/wiki/The_Man_with_the_Golden_Gun_(film)>\n",
      "{'box_office': 97600000.0,\n",
      " 'countries': ['United Kingdom', 'United States'],\n",
      " 'directors': ['Guy Hamilton'],\n",
      " 'image_urls': ['https://upload.wikimedia.org/wikipedia/en/thumb/0/0c/The_Man_with_the_Golden_Gun_-_UK_cinema_poster.jpg/220px-The_Man_with_the_Golden_Gun_-_UK_cinema_poster.jpg'],\n",
      " 'images': [],\n",
      " 'title': 'The Man with the Golden Gun',\n",
      " 'year': 1974}\n",
      "2025-03-02 22:35:34 [scrapy.core.scraper] DEBUG: Scraped from <200 https://en.wikipedia.org/wiki/Octopussy>\n",
      "{'box_office': 187500000.0,\n",
      " 'countries': ['United Kingdom', 'United States'],\n",
      " 'directors': ['John Glen'],\n",
      " 'image_urls': ['https://upload.wikimedia.org/wikipedia/en/thumb/b/b2/Octopussy_-_UK_cinema_poster.jpg/220px-Octopussy_-_UK_cinema_poster.jpg'],\n",
      " 'images': [],\n",
      " 'title': 'Octopussy',\n",
      " 'year': 1983}\n",
      "2025-03-02 22:35:34 [scrapy.core.engine] DEBUG: Crawled (200) <GET https://en.wikipedia.org/wiki/GoldenEye> (referer: https://en.wikipedia.org/wiki/List_of_highest-grossing_films)\n",
      "2025-03-02 22:35:34 [scrapy.core.engine] DEBUG: Crawled (200) <GET https://en.wikipedia.org/wiki/No_Time_to_Die> (referer: https://en.wikipedia.org/wiki/List_of_highest-grossing_films)\n",
      "2025-03-02 22:35:34 [scrapy.core.engine] DEBUG: Crawled (200) <GET https://en.wikipedia.org/wiki/Quantum_of_Solace> (referer: https://en.wikipedia.org/wiki/List_of_highest-grossing_films)\n",
      "2025-03-02 22:35:34 [scrapy.core.engine] DEBUG: Crawled (200) <GET https://en.wikipedia.org/wiki/Casino_Royale_(2006_film)> (referer: https://en.wikipedia.org/wiki/List_of_highest-grossing_films)\n",
      "2025-03-02 22:35:34 [scrapy.core.engine] DEBUG: Crawled (200) <GET https://en.wikipedia.org/wiki/For_Your_Eyes_Only_(film)> (referer: https://en.wikipedia.org/wiki/List_of_highest-grossing_films)\n",
      "2025-03-02 22:35:34 [scrapy.extensions.logstats] INFO: Crawled 146 pages (at 146 pages/min), scraped 129 items (at 129 items/min)\n",
      "2025-03-02 22:35:34 [scrapy.pipelines.media] ERROR: [Failure instance: Traceback: <class 'scrapy.pipelines.files.FileException'>: \n",
      "/Library/Frameworks/Python.framework/Versions/3.13/lib/python3.13/site-packages/twisted/internet/defer.py:1088:_runCallbacks\n",
      "/Library/Frameworks/Python.framework/Versions/3.13/lib/python3.13/site-packages/scrapy/pipelines/files.py:627:media_failed\n",
      "]\n",
      "NoneType: None\n",
      "2025-03-02 22:35:34 [scrapy.pipelines.media] ERROR: [Failure instance: Traceback: <class 'scrapy.pipelines.files.FileException'>: \n",
      "/Library/Frameworks/Python.framework/Versions/3.13/lib/python3.13/site-packages/twisted/internet/defer.py:1088:_runCallbacks\n",
      "/Library/Frameworks/Python.framework/Versions/3.13/lib/python3.13/site-packages/scrapy/pipelines/files.py:627:media_failed\n",
      "]\n",
      "NoneType: None\n",
      "2025-03-02 22:35:34 [urllib3.connectionpool] DEBUG: Starting new HTTPS connection (1): upload.wikimedia.org:443\n"
     ]
    },
    {
     "name": "stdout",
     "output_type": "stream",
     "text": [
      "saved in images/The_Man_with_the_Golden_Gun/The_Man_with_the_Golden_Gun.jpg\n",
      "erroe: \n"
     ]
    },
    {
     "name": "stderr",
     "output_type": "stream",
     "text": [
      "2025-03-02 22:35:35 [urllib3.connectionpool] DEBUG: https://upload.wikimedia.org:443 \"GET /wikipedia/en/thumb/d/d7/The_Spy_Who_Loved_Me_%28UK_cinema_poster%29.jpg/220px-The_Spy_Who_Loved_Me_%28UK_cinema_poster%29.jpg HTTP/1.1\" 403 2184\n",
      "2025-03-02 22:35:35 [urllib3.connectionpool] DEBUG: Starting new HTTPS connection (1): upload.wikimedia.org:443\n"
     ]
    },
    {
     "name": "stdout",
     "output_type": "stream",
     "text": [
      "error: 403\n"
     ]
    },
    {
     "name": "stderr",
     "output_type": "stream",
     "text": [
      "2025-03-02 22:35:35 [urllib3.connectionpool] DEBUG: https://upload.wikimedia.org:443 \"GET /wikipedia/en/thumb/4/43/Dr._No_-_UK_cinema_poster.jpg/220px-Dr._No_-_UK_cinema_poster.jpg HTTP/1.1\" 200 20467\n",
      "2025-03-02 22:35:35 [scrapy.core.scraper] DEBUG: Scraped from <200 https://en.wikipedia.org/wiki/Dr._No_(film)>\n",
      "{'box_office': 59500000.0,\n",
      " 'countries': ['United Kingdom'],\n",
      " 'directors': ['Terence Young'],\n",
      " 'image_urls': ['https://upload.wikimedia.org/wikipedia/en/thumb/4/43/Dr._No_-_UK_cinema_poster.jpg/220px-Dr._No_-_UK_cinema_poster.jpg'],\n",
      " 'images': [],\n",
      " 'title': 'Dr. No',\n",
      " 'year': 1962}\n",
      "2025-03-02 22:35:35 [scrapy.core.scraper] DEBUG: Scraped from <200 https://en.wikipedia.org/wiki/The_Spy_Who_Loved_Me_(film)>\n",
      "{'box_office': 185400000.0,\n",
      " 'countries': ['United Kingdom', 'United States'],\n",
      " 'directors': ['Lewis Gilbert'],\n",
      " 'image_urls': ['https://upload.wikimedia.org/wikipedia/en/thumb/d/d7/The_Spy_Who_Loved_Me_%28UK_cinema_poster%29.jpg/220px-The_Spy_Who_Loved_Me_%28UK_cinema_poster%29.jpg'],\n",
      " 'images': [],\n",
      " 'title': 'The Spy Who Loved Me',\n",
      " 'year': 1977}\n",
      "2025-03-02 22:35:35 [scrapy.pipelines.media] ERROR: [Failure instance: Traceback: <class 'scrapy.pipelines.files.FileException'>: \n",
      "/Library/Frameworks/Python.framework/Versions/3.13/lib/python3.13/site-packages/twisted/internet/defer.py:1088:_runCallbacks\n",
      "/Library/Frameworks/Python.framework/Versions/3.13/lib/python3.13/site-packages/scrapy/pipelines/files.py:627:media_failed\n",
      "]\n",
      "NoneType: None\n",
      "2025-03-02 22:35:35 [urllib3.connectionpool] DEBUG: Starting new HTTPS connection (1): upload.wikimedia.org:443\n"
     ]
    },
    {
     "name": "stdout",
     "output_type": "stream",
     "text": [
      "saved in images/Dr._No/Dr._No.jpg\n",
      "erroe: \n"
     ]
    },
    {
     "name": "stderr",
     "output_type": "stream",
     "text": [
      "2025-03-02 22:35:35 [urllib3.connectionpool] DEBUG: https://upload.wikimedia.org:443 \"GET /wikipedia/en/thumb/b/b3/Tomorrow_Never_Dies_%28UK_cinema_poster%29.jpg/220px-Tomorrow_Never_Dies_%28UK_cinema_poster%29.jpg HTTP/1.1\" 200 18496\n",
      "2025-03-02 22:35:35 [scrapy.pipelines.media] ERROR: [Failure instance: Traceback: <class 'scrapy.pipelines.files.FileException'>: \n",
      "/Library/Frameworks/Python.framework/Versions/3.13/lib/python3.13/site-packages/twisted/internet/defer.py:1088:_runCallbacks\n",
      "/Library/Frameworks/Python.framework/Versions/3.13/lib/python3.13/site-packages/scrapy/pipelines/files.py:627:media_failed\n",
      "]\n",
      "NoneType: None\n",
      "2025-03-02 22:35:35 [urllib3.connectionpool] DEBUG: Starting new HTTPS connection (1): upload.wikimedia.org:443\n"
     ]
    },
    {
     "name": "stdout",
     "output_type": "stream",
     "text": [
      "saved in images/Tomorrow_Never_Dies/Tomorrow_Never_Dies.jpg\n",
      "erroe: \n"
     ]
    },
    {
     "name": "stderr",
     "output_type": "stream",
     "text": [
      "2025-03-02 22:35:36 [urllib3.connectionpool] DEBUG: https://upload.wikimedia.org:443 \"GET /wikipedia/en/thumb/3/3d/Die_another_Day_-_UK_cinema_poster.jpg/220px-Die_another_Day_-_UK_cinema_poster.jpg HTTP/1.1\" 200 19366\n",
      "2025-03-02 22:35:36 [scrapy.pipelines.media] ERROR: [Failure instance: Traceback: <class 'scrapy.pipelines.files.FileException'>: \n",
      "/Library/Frameworks/Python.framework/Versions/3.13/lib/python3.13/site-packages/twisted/internet/defer.py:1088:_runCallbacks\n",
      "/Library/Frameworks/Python.framework/Versions/3.13/lib/python3.13/site-packages/scrapy/pipelines/files.py:627:media_failed\n",
      "]\n",
      "NoneType: None\n",
      "2025-03-02 22:35:36 [urllib3.connectionpool] DEBUG: Starting new HTTPS connection (1): upload.wikimedia.org:443\n"
     ]
    },
    {
     "name": "stdout",
     "output_type": "stream",
     "text": [
      "saved in images/Die_Another_Day/Die_Another_Day.jpg\n",
      "erroe: \n"
     ]
    },
    {
     "name": "stderr",
     "output_type": "stream",
     "text": [
      "2025-03-02 22:35:36 [urllib3.connectionpool] DEBUG: https://upload.wikimedia.org:443 \"GET /wikipedia/en/thumb/0/0c/The_World_Is_Not_Enough_%28UK_cinema_poster%29.jpg/220px-The_World_Is_Not_Enough_%28UK_cinema_poster%29.jpg HTTP/1.1\" 200 17333\n",
      "2025-03-02 22:35:36 [scrapy.core.engine] DEBUG: Crawled (200) <GET https://en.wikipedia.org/wiki/Skyfall> (referer: https://en.wikipedia.org/wiki/List_of_highest-grossing_films)\n",
      "2025-03-02 22:35:36 [scrapy.core.engine] DEBUG: Crawled (200) <GET https://en.wikipedia.org/wiki/Fantastic_Beasts:_The_Secrets_of_Dumbledore> (referer: https://en.wikipedia.org/wiki/List_of_highest-grossing_films)\n",
      "2025-03-02 22:35:36 [scrapy.core.engine] DEBUG: Crawled (200) <GET https://en.wikipedia.org/wiki/Spectre_(2015_film)> (referer: https://en.wikipedia.org/wiki/List_of_highest-grossing_films)\n",
      "2025-03-02 22:35:36 [scrapy.core.engine] DEBUG: Crawled (200) <GET https://en.wikipedia.org/wiki/Fantastic_Beasts_and_Where_to_Find_Them_(film)> (referer: https://en.wikipedia.org/wiki/List_of_highest-grossing_films)\n",
      "2025-03-02 22:35:36 [scrapy.core.engine] DEBUG: Crawled (200) <GET https://en.wikipedia.org/wiki/Harry_Potter_and_the_Chamber_of_Secrets_(film)> (referer: https://en.wikipedia.org/wiki/List_of_highest-grossing_films)\n",
      "2025-03-02 22:35:36 [scrapy.core.engine] DEBUG: Crawled (200) <GET https://en.wikipedia.org/wiki/Fantastic_Beasts_(film_series)> (referer: https://en.wikipedia.org/wiki/List_of_highest-grossing_films)\n",
      "2025-03-02 22:35:36 [scrapy.core.engine] DEBUG: Crawled (200) <GET https://en.wikipedia.org/wiki/Fantastic_Beasts:_The_Crimes_of_Grindelwald> (referer: https://en.wikipedia.org/wiki/List_of_highest-grossing_films)\n",
      "2025-03-02 22:35:36 [scrapy.core.engine] DEBUG: Crawled (200) <GET https://en.wikipedia.org/wiki/Harry_Potter_and_the_Prisoner_of_Azkaban_(film)> (referer: https://en.wikipedia.org/wiki/List_of_highest-grossing_films)\n",
      "2025-03-02 22:35:36 [scrapy.core.scraper] DEBUG: Scraped from <200 https://en.wikipedia.org/wiki/Tomorrow_Never_Dies>\n",
      "{'box_office': 339500000.0,\n",
      " 'countries': ['United Kingdom', 'United States'],\n",
      " 'directors': ['Roger Spottiswoode'],\n",
      " 'image_urls': ['https://upload.wikimedia.org/wikipedia/en/thumb/b/b3/Tomorrow_Never_Dies_%28UK_cinema_poster%29.jpg/220px-Tomorrow_Never_Dies_%28UK_cinema_poster%29.jpg'],\n",
      " 'images': [],\n",
      " 'title': 'Tomorrow Never Dies',\n",
      " 'year': 1997}\n",
      "2025-03-02 22:35:36 [scrapy.core.scraper] DEBUG: Scraped from <200 https://en.wikipedia.org/wiki/Die_Another_Day>\n",
      "{'box_office': 432000000.0,\n",
      " 'countries': ['United Kingdom', 'United States'],\n",
      " 'directors': ['Lee Tamahori'],\n",
      " 'image_urls': ['https://upload.wikimedia.org/wikipedia/en/thumb/3/3d/Die_another_Day_-_UK_cinema_poster.jpg/220px-Die_another_Day_-_UK_cinema_poster.jpg'],\n",
      " 'images': [],\n",
      " 'title': 'Die Another Day',\n",
      " 'year': 2002}\n",
      "2025-03-02 22:35:36 [scrapy.core.scraper] DEBUG: Scraped from <200 https://en.wikipedia.org/wiki/The_World_Is_Not_Enough>\n",
      "{'box_office': 361700000.0,\n",
      " 'countries': ['United Kingdom', '', 'United States'],\n",
      " 'directors': ['Michael Apted'],\n",
      " 'image_urls': ['https://upload.wikimedia.org/wikipedia/en/thumb/0/0c/The_World_Is_Not_Enough_%28UK_cinema_poster%29.jpg/220px-The_World_Is_Not_Enough_%28UK_cinema_poster%29.jpg'],\n",
      " 'images': [],\n",
      " 'title': 'The World Is Not Enough',\n",
      " 'year': 1999}\n",
      "2025-03-02 22:35:36 [scrapy.pipelines.media] ERROR: [Failure instance: Traceback: <class 'scrapy.pipelines.files.FileException'>: \n",
      "/Library/Frameworks/Python.framework/Versions/3.13/lib/python3.13/site-packages/twisted/internet/defer.py:1088:_runCallbacks\n",
      "/Library/Frameworks/Python.framework/Versions/3.13/lib/python3.13/site-packages/scrapy/pipelines/files.py:627:media_failed\n",
      "]\n",
      "NoneType: None\n",
      "2025-03-02 22:35:36 [scrapy.pipelines.media] ERROR: [Failure instance: Traceback: <class 'scrapy.pipelines.files.FileException'>: \n",
      "/Library/Frameworks/Python.framework/Versions/3.13/lib/python3.13/site-packages/twisted/internet/defer.py:1088:_runCallbacks\n",
      "/Library/Frameworks/Python.framework/Versions/3.13/lib/python3.13/site-packages/scrapy/pipelines/files.py:627:media_failed\n",
      "]\n",
      "NoneType: None\n",
      "2025-03-02 22:35:36 [scrapy.pipelines.media] ERROR: [Failure instance: Traceback: <class 'scrapy.pipelines.files.FileException'>: \n",
      "/Library/Frameworks/Python.framework/Versions/3.13/lib/python3.13/site-packages/twisted/internet/defer.py:1088:_runCallbacks\n",
      "/Library/Frameworks/Python.framework/Versions/3.13/lib/python3.13/site-packages/scrapy/pipelines/files.py:627:media_failed\n",
      "]\n",
      "NoneType: None\n",
      "2025-03-02 22:35:36 [scrapy.pipelines.media] ERROR: [Failure instance: Traceback: <class 'scrapy.pipelines.files.FileException'>: \n",
      "/Library/Frameworks/Python.framework/Versions/3.13/lib/python3.13/site-packages/twisted/internet/defer.py:1088:_runCallbacks\n",
      "/Library/Frameworks/Python.framework/Versions/3.13/lib/python3.13/site-packages/scrapy/pipelines/files.py:627:media_failed\n",
      "]\n",
      "NoneType: None\n",
      "2025-03-02 22:35:36 [scrapy.pipelines.media] ERROR: [Failure instance: Traceback: <class 'scrapy.pipelines.files.FileException'>: \n",
      "/Library/Frameworks/Python.framework/Versions/3.13/lib/python3.13/site-packages/twisted/internet/defer.py:1088:_runCallbacks\n",
      "/Library/Frameworks/Python.framework/Versions/3.13/lib/python3.13/site-packages/scrapy/pipelines/files.py:627:media_failed\n",
      "]\n",
      "NoneType: None\n",
      "2025-03-02 22:35:36 [urllib3.connectionpool] DEBUG: Starting new HTTPS connection (1): upload.wikimedia.org:443\n"
     ]
    },
    {
     "name": "stdout",
     "output_type": "stream",
     "text": [
      "saved in images/The_World_Is_Not_Enough/The_World_Is_Not_Enough.jpg\n",
      "erroe: \n"
     ]
    },
    {
     "name": "stderr",
     "output_type": "stream",
     "text": [
      "2025-03-02 22:35:36 [urllib3.connectionpool] DEBUG: https://upload.wikimedia.org:443 \"GET /wikipedia/en/thumb/c/cd/For_Your_Eyes_Only_-_UK_cinema_poster.jpg/220px-For_Your_Eyes_Only_-_UK_cinema_poster.jpg HTTP/1.1\" 403 2184\n",
      "2025-03-02 22:35:36 [urllib3.connectionpool] DEBUG: Starting new HTTPS connection (1): upload.wikimedia.org:443\n"
     ]
    },
    {
     "name": "stdout",
     "output_type": "stream",
     "text": [
      "error: 403\n"
     ]
    },
    {
     "name": "stderr",
     "output_type": "stream",
     "text": [
      "2025-03-02 22:35:37 [urllib3.connectionpool] DEBUG: https://upload.wikimedia.org:443 \"GET /wikipedia/en/thumb/2/24/GoldenEye_-_UK_cinema_poster.jpg/220px-GoldenEye_-_UK_cinema_poster.jpg HTTP/1.1\" 200 13638\n",
      "2025-03-02 22:35:37 [urllib3.connectionpool] DEBUG: Starting new HTTPS connection (1): upload.wikimedia.org:443\n"
     ]
    },
    {
     "name": "stdout",
     "output_type": "stream",
     "text": [
      "saved in images/GoldenEye/GoldenEye.jpg\n",
      "erroe: \n"
     ]
    },
    {
     "name": "stderr",
     "output_type": "stream",
     "text": [
      "2025-03-02 22:35:37 [urllib3.connectionpool] DEBUG: https://upload.wikimedia.org:443 \"GET /wikipedia/en/thumb/f/fe/No_Time_to_Die_poster.jpg/220px-No_Time_to_Die_poster.jpg HTTP/1.1\" 200 10678\n",
      "2025-03-02 22:35:37 [urllib3.connectionpool] DEBUG: Starting new HTTPS connection (1): upload.wikimedia.org:443\n"
     ]
    },
    {
     "name": "stdout",
     "output_type": "stream",
     "text": [
      "saved in images/No_Time_to_Die/No_Time_to_Die.jpg\n",
      "erroe: \n"
     ]
    },
    {
     "name": "stderr",
     "output_type": "stream",
     "text": [
      "2025-03-02 22:35:37 [urllib3.connectionpool] DEBUG: https://upload.wikimedia.org:443 \"GET /wikipedia/en/thumb/2/2d/Quantum_of_Solace_-_UK_cinema_poster.jpg/220px-Quantum_of_Solace_-_UK_cinema_poster.jpg HTTP/1.1\" 200 15071\n",
      "2025-03-02 22:35:37 [urllib3.connectionpool] DEBUG: Starting new HTTPS connection (1): upload.wikimedia.org:443\n"
     ]
    },
    {
     "name": "stdout",
     "output_type": "stream",
     "text": [
      "saved in images/Quantum_of_Solace/Quantum_of_Solace.jpg\n",
      "erroe: \n"
     ]
    },
    {
     "name": "stderr",
     "output_type": "stream",
     "text": [
      "2025-03-02 22:35:38 [urllib3.connectionpool] DEBUG: https://upload.wikimedia.org:443 \"GET /wikipedia/en/thumb/8/82/Casino_Royale_%282006_film_poster%29.jpg/220px-Casino_Royale_%282006_film_poster%29.jpg HTTP/1.1\" 200 10354\n",
      "2025-03-02 22:35:38 [scrapy.core.scraper] DEBUG: Scraped from <200 https://en.wikipedia.org/wiki/GoldenEye>\n",
      "{'box_office': 356400000.0,\n",
      " 'countries': ['United Kingdom', 'United States'],\n",
      " 'directors': ['Martin Campbell'],\n",
      " 'image_urls': ['https://upload.wikimedia.org/wikipedia/en/thumb/2/24/GoldenEye_-_UK_cinema_poster.jpg/220px-GoldenEye_-_UK_cinema_poster.jpg'],\n",
      " 'images': [],\n",
      " 'title': 'GoldenEye',\n",
      " 'year': 1995}\n",
      "2025-03-02 22:35:38 [scrapy.core.scraper] DEBUG: Scraped from <200 https://en.wikipedia.org/wiki/No_Time_to_Die>\n",
      "{'box_office': 774200000.0,\n",
      " 'countries': ['United Kingdom', 'United States'],\n",
      " 'directors': ['Cary Joji Fukunaga'],\n",
      " 'image_urls': ['https://upload.wikimedia.org/wikipedia/en/thumb/f/fe/No_Time_to_Die_poster.jpg/220px-No_Time_to_Die_poster.jpg'],\n",
      " 'images': [],\n",
      " 'title': 'No Time to Die',\n",
      " 'year': 2021}\n",
      "2025-03-02 22:35:38 [scrapy.core.scraper] DEBUG: Scraped from <200 https://en.wikipedia.org/wiki/Quantum_of_Solace>\n",
      "{'box_office': 589600000.0,\n",
      " 'countries': ['United Kingdom', 'United States'],\n",
      " 'directors': ['Marc Forster'],\n",
      " 'image_urls': ['https://upload.wikimedia.org/wikipedia/en/thumb/2/2d/Quantum_of_Solace_-_UK_cinema_poster.jpg/220px-Quantum_of_Solace_-_UK_cinema_poster.jpg'],\n",
      " 'images': [],\n",
      " 'title': 'Quantum of Solace',\n",
      " 'year': 2008}\n",
      "2025-03-02 22:35:38 [scrapy.core.scraper] DEBUG: Scraped from <200 https://en.wikipedia.org/wiki/Casino_Royale_(2006_film)>\n",
      "{'box_office': 616000000.0,\n",
      " 'countries': ['United Kingdom', 'United States', 'Czech Republic', 'Germany'],\n",
      " 'directors': ['Martin Campbell'],\n",
      " 'image_urls': ['https://upload.wikimedia.org/wikipedia/en/thumb/8/82/Casino_Royale_%282006_film_poster%29.jpg/220px-Casino_Royale_%282006_film_poster%29.jpg'],\n",
      " 'images': [],\n",
      " 'title': 'Casino Royale',\n",
      " 'year': 2006}\n",
      "2025-03-02 22:35:38 [scrapy.core.scraper] DEBUG: Scraped from <200 https://en.wikipedia.org/wiki/For_Your_Eyes_Only_(film)>\n",
      "{'box_office': 195300000.0,\n",
      " 'countries': ['United Kingdom', 'United States'],\n",
      " 'directors': ['John Glen'],\n",
      " 'image_urls': ['https://upload.wikimedia.org/wikipedia/en/thumb/c/cd/For_Your_Eyes_Only_-_UK_cinema_poster.jpg/220px-For_Your_Eyes_Only_-_UK_cinema_poster.jpg'],\n",
      " 'images': [],\n",
      " 'title': 'For Your Eyes Only',\n",
      " 'year': 1981}\n",
      "2025-03-02 22:35:38 [scrapy.core.engine] DEBUG: Crawled (200) <GET https://en.wikipedia.org/wiki/Star_Wars:_The_Clone_Wars_(film)> (referer: https://en.wikipedia.org/wiki/List_of_highest-grossing_films)\n",
      "2025-03-02 22:35:38 [scrapy.core.engine] DEBUG: Crawled (200) <GET https://en.wikipedia.org/wiki/Harry_Potter_and_the_Deathly_Hallows_%E2%80%93_Part_1> (referer: https://en.wikipedia.org/wiki/List_of_highest-grossing_films)\n",
      "2025-03-02 22:35:38 [scrapy.core.engine] DEBUG: Crawled (200) <GET https://en.wikipedia.org/wiki/Harry_Potter_(film_series)> (referer: https://en.wikipedia.org/wiki/List_of_highest-grossing_films)\n",
      "2025-03-02 22:35:38 [scrapy.core.engine] DEBUG: Crawled (200) <GET https://en.wikipedia.org/wiki/Rogue_One> (referer: https://en.wikipedia.org/wiki/List_of_highest-grossing_films)\n",
      "2025-03-02 22:35:38 [scrapy.core.engine] DEBUG: Crawled (200) <GET https://en.wikipedia.org/wiki/Solo:_A_Star_Wars_Story> (referer: https://en.wikipedia.org/wiki/List_of_highest-grossing_films)\n",
      "2025-03-02 22:35:38 [scrapy.core.engine] DEBUG: Crawled (200) <GET https://en.wikipedia.org/wiki/Star_Wars:_Episode_II_%E2%80%93_Attack_of_the_Clones> (referer: https://en.wikipedia.org/wiki/List_of_highest-grossing_films)\n",
      "2025-03-02 22:35:38 [scrapy.core.engine] DEBUG: Crawled (200) <GET https://en.wikipedia.org/wiki/Harry_Potter_and_the_Half-Blood_Prince_(film)> (referer: https://en.wikipedia.org/wiki/List_of_highest-grossing_films)\n",
      "2025-03-02 22:35:38 [scrapy.core.engine] DEBUG: Crawled (200) <GET https://en.wikipedia.org/wiki/Harry_Potter_and_the_Order_of_the_Phoenix_(film)> (referer: https://en.wikipedia.org/wiki/List_of_highest-grossing_films)\n",
      "2025-03-02 22:35:38 [scrapy.pipelines.media] ERROR: [Failure instance: Traceback: <class 'scrapy.pipelines.files.FileException'>: \n",
      "/Library/Frameworks/Python.framework/Versions/3.13/lib/python3.13/site-packages/twisted/internet/defer.py:1088:_runCallbacks\n",
      "/Library/Frameworks/Python.framework/Versions/3.13/lib/python3.13/site-packages/scrapy/pipelines/files.py:627:media_failed\n",
      "]\n",
      "NoneType: None\n",
      "2025-03-02 22:35:38 [scrapy.pipelines.media] ERROR: [Failure instance: Traceback: <class 'scrapy.pipelines.files.FileException'>: \n",
      "/Library/Frameworks/Python.framework/Versions/3.13/lib/python3.13/site-packages/twisted/internet/defer.py:1088:_runCallbacks\n",
      "/Library/Frameworks/Python.framework/Versions/3.13/lib/python3.13/site-packages/scrapy/pipelines/files.py:627:media_failed\n",
      "]\n",
      "NoneType: None\n",
      "2025-03-02 22:35:38 [scrapy.pipelines.media] ERROR: [Failure instance: Traceback: <class 'scrapy.pipelines.files.FileException'>: \n",
      "/Library/Frameworks/Python.framework/Versions/3.13/lib/python3.13/site-packages/twisted/internet/defer.py:1088:_runCallbacks\n",
      "/Library/Frameworks/Python.framework/Versions/3.13/lib/python3.13/site-packages/scrapy/pipelines/files.py:627:media_failed\n",
      "]\n",
      "NoneType: None\n",
      "2025-03-02 22:35:38 [scrapy.pipelines.media] ERROR: [Failure instance: Traceback: <class 'scrapy.pipelines.files.FileException'>: \n",
      "/Library/Frameworks/Python.framework/Versions/3.13/lib/python3.13/site-packages/twisted/internet/defer.py:1088:_runCallbacks\n",
      "/Library/Frameworks/Python.framework/Versions/3.13/lib/python3.13/site-packages/scrapy/pipelines/files.py:627:media_failed\n",
      "]\n",
      "NoneType: None\n",
      "2025-03-02 22:35:38 [scrapy.pipelines.media] ERROR: [Failure instance: Traceback: <class 'scrapy.pipelines.files.FileException'>: \n",
      "/Library/Frameworks/Python.framework/Versions/3.13/lib/python3.13/site-packages/twisted/internet/defer.py:1088:_runCallbacks\n",
      "/Library/Frameworks/Python.framework/Versions/3.13/lib/python3.13/site-packages/scrapy/pipelines/files.py:627:media_failed\n",
      "]\n",
      "NoneType: None\n",
      "2025-03-02 22:35:38 [scrapy.core.scraper] ERROR: Spider error processing <GET https://en.wikipedia.org/wiki/Fantastic_Beasts_(film_series)> (referer: https://en.wikipedia.org/wiki/List_of_highest-grossing_films)\n",
      "Traceback (most recent call last):\n",
      "  File \"/Library/Frameworks/Python.framework/Versions/3.13/lib/python3.13/site-packages/scrapy/utils/defer.py\", line 327, in iter_errback\n",
      "    yield next(it)\n",
      "          ~~~~^^^^\n",
      "  File \"/Library/Frameworks/Python.framework/Versions/3.13/lib/python3.13/site-packages/scrapy/utils/python.py\", line 368, in __next__\n",
      "    return next(self.data)\n",
      "  File \"/Library/Frameworks/Python.framework/Versions/3.13/lib/python3.13/site-packages/scrapy/utils/python.py\", line 368, in __next__\n",
      "    return next(self.data)\n",
      "  File \"/Library/Frameworks/Python.framework/Versions/3.13/lib/python3.13/site-packages/scrapy/core/spidermw.py\", line 106, in process_sync\n",
      "    yield from iterable\n",
      "  File \"/Library/Frameworks/Python.framework/Versions/3.13/lib/python3.13/site-packages/scrapy/spidermiddlewares/referer.py\", line 379, in <genexpr>\n",
      "    return (self._set_referer(r, response) for r in result)\n",
      "                                                    ^^^^^^\n",
      "  File \"/Library/Frameworks/Python.framework/Versions/3.13/lib/python3.13/site-packages/scrapy/core/spidermw.py\", line 106, in process_sync\n",
      "    yield from iterable\n",
      "  File \"/Library/Frameworks/Python.framework/Versions/3.13/lib/python3.13/site-packages/scrapy/spidermiddlewares/urllength.py\", line 57, in <genexpr>\n",
      "    return (r for r in result if self._filter(r, spider))\n",
      "                       ^^^^^^\n",
      "  File \"/Library/Frameworks/Python.framework/Versions/3.13/lib/python3.13/site-packages/scrapy/core/spidermw.py\", line 106, in process_sync\n",
      "    yield from iterable\n",
      "  File \"/Library/Frameworks/Python.framework/Versions/3.13/lib/python3.13/site-packages/scrapy/spidermiddlewares/depth.py\", line 54, in <genexpr>\n",
      "    return (r for r in result if self._filter(r, response, spider))\n",
      "                       ^^^^^^\n",
      "  File \"/Library/Frameworks/Python.framework/Versions/3.13/lib/python3.13/site-packages/scrapy/core/spidermw.py\", line 106, in process_sync\n",
      "    yield from iterable\n",
      "  File \"/Users/fllarpy/projects/DWV/pop-films/wikipedia_scaper/wikipedia_scaper/spiders/movies_spider.py\", line 36, in parse_movie\n",
      "    year = int(infobox.xpath('.//th[div[contains(text(), \"Release date\")]]/following-sibling::td//li/text()').get().split()[-1])\n",
      "               ^^^^^^^^^^^^^^^^^^^^^^^^^^^^^^^^^^^^^^^^^^^^^^^^^^^^^^^^^^^^^^^^^^^^^^^^^^^^^^^^^^^^^^^^^^^^^^^^^^^^^^^^^^\n",
      "AttributeError: 'NoneType' object has no attribute 'split'\n",
      "2025-03-02 22:35:38 [scrapy.pipelines.media] ERROR: [Failure instance: Traceback: <class 'scrapy.pipelines.files.FileException'>: \n",
      "/Library/Frameworks/Python.framework/Versions/3.13/lib/python3.13/site-packages/twisted/internet/defer.py:1088:_runCallbacks\n",
      "/Library/Frameworks/Python.framework/Versions/3.13/lib/python3.13/site-packages/scrapy/pipelines/files.py:627:media_failed\n",
      "]\n",
      "NoneType: None\n",
      "2025-03-02 22:35:38 [scrapy.pipelines.media] ERROR: [Failure instance: Traceback: <class 'scrapy.pipelines.files.FileException'>: \n",
      "/Library/Frameworks/Python.framework/Versions/3.13/lib/python3.13/site-packages/twisted/internet/defer.py:1088:_runCallbacks\n",
      "/Library/Frameworks/Python.framework/Versions/3.13/lib/python3.13/site-packages/scrapy/pipelines/files.py:627:media_failed\n",
      "]\n",
      "NoneType: None\n",
      "2025-03-02 22:35:38 [urllib3.connectionpool] DEBUG: Starting new HTTPS connection (1): upload.wikimedia.org:443\n"
     ]
    },
    {
     "name": "stdout",
     "output_type": "stream",
     "text": [
      "saved in images/Casino_Royale/Casino_Royale.jpg\n",
      "erroe: \n"
     ]
    },
    {
     "name": "stderr",
     "output_type": "stream",
     "text": [
      "2025-03-02 22:35:38 [urllib3.connectionpool] DEBUG: https://upload.wikimedia.org:443 \"GET /wikipedia/en/thumb/a/a7/Skyfall_poster.jpg/220px-Skyfall_poster.jpg HTTP/1.1\" 200 15476\n",
      "2025-03-02 22:35:38 [urllib3.connectionpool] DEBUG: Starting new HTTPS connection (1): upload.wikimedia.org:443\n"
     ]
    },
    {
     "name": "stdout",
     "output_type": "stream",
     "text": [
      "saved in images/Skyfall/Skyfall.jpg\n",
      "erroe: \n"
     ]
    },
    {
     "name": "stderr",
     "output_type": "stream",
     "text": [
      "2025-03-02 22:35:39 [urllib3.connectionpool] DEBUG: https://upload.wikimedia.org:443 \"GET /wikipedia/en/thumb/3/34/Fantastic_Beasts-_The_Secrets_of_Dumbledore.png/220px-Fantastic_Beasts-_The_Secrets_of_Dumbledore.png HTTP/1.1\" 200 140124\n",
      "2025-03-02 22:35:39 [urllib3.connectionpool] DEBUG: Starting new HTTPS connection (1): upload.wikimedia.org:443\n"
     ]
    },
    {
     "name": "stdout",
     "output_type": "stream",
     "text": [
      "saved in images/Fantastic_Beasts:/Fantastic_Beasts:.png\n",
      "erroe: \n"
     ]
    },
    {
     "name": "stderr",
     "output_type": "stream",
     "text": [
      "2025-03-02 22:35:39 [urllib3.connectionpool] DEBUG: https://upload.wikimedia.org:443 \"GET /wikipedia/en/thumb/b/b9/Spectre_2015_poster.jpg/220px-Spectre_2015_poster.jpg HTTP/1.1\" 200 9576\n",
      "2025-03-02 22:35:39 [urllib3.connectionpool] DEBUG: Starting new HTTPS connection (1): upload.wikimedia.org:443\n"
     ]
    },
    {
     "name": "stdout",
     "output_type": "stream",
     "text": [
      "saved in images/Spectre/Spectre.jpg\n",
      "erroe: \n"
     ]
    },
    {
     "name": "stderr",
     "output_type": "stream",
     "text": [
      "2025-03-02 22:35:40 [urllib3.connectionpool] DEBUG: https://upload.wikimedia.org:443 \"GET /wikipedia/en/thumb/0/0b/FBAWTFT-poster.jpg/220px-FBAWTFT-poster.jpg HTTP/1.1\" 200 25899\n",
      "2025-03-02 22:35:40 [urllib3.connectionpool] DEBUG: Starting new HTTPS connection (1): upload.wikimedia.org:443\n"
     ]
    },
    {
     "name": "stdout",
     "output_type": "stream",
     "text": [
      "saved in images/Fantastic_Beasts_and_Where_to_Find_Them/Fantastic_Beasts_and_Where_to_Find_Them.jpg\n",
      "erroe: \n"
     ]
    },
    {
     "name": "stderr",
     "output_type": "stream",
     "text": [
      "2025-03-02 22:35:40 [urllib3.connectionpool] DEBUG: https://upload.wikimedia.org:443 \"GET /wikipedia/en/thumb/c/c0/Harry_Potter_and_the_Chamber_of_Secrets_movie.jpg/220px-Harry_Potter_and_the_Chamber_of_Secrets_movie.jpg HTTP/1.1\" 200 18816\n",
      "2025-03-02 22:35:40 [urllib3.connectionpool] DEBUG: Starting new HTTPS connection (1): upload.wikimedia.org:443\n"
     ]
    },
    {
     "name": "stdout",
     "output_type": "stream",
     "text": [
      "saved in images/Harry_Potter_/Harry_Potter_.jpg\n",
      "erroe: \n"
     ]
    },
    {
     "name": "stderr",
     "output_type": "stream",
     "text": [
      "2025-03-02 22:35:40 [urllib3.connectionpool] DEBUG: https://upload.wikimedia.org:443 \"GET /wikipedia/en/thumb/3/3c/Fantastic_Beasts_-_The_Crimes_of_Grindelwald_Poster.png/220px-Fantastic_Beasts_-_The_Crimes_of_Grindelwald_Poster.png HTTP/1.1\" 200 142035\n"
     ]
    },
    {
     "name": "stdout",
     "output_type": "stream",
     "text": [
      "saved in images/Fantastic_Beasts:/Fantastic_Beasts:.png\n",
      "erroe: \n"
     ]
    },
    {
     "name": "stderr",
     "output_type": "stream",
     "text": [
      "2025-03-02 22:35:41 [urllib3.connectionpool] DEBUG: Starting new HTTPS connection (1): upload.wikimedia.org:443\n",
      "2025-03-02 22:35:41 [urllib3.connectionpool] DEBUG: https://upload.wikimedia.org:443 \"GET /wikipedia/en/thumb/b/bc/Prisoner_of_azkaban_UK_poster.jpg/220px-Prisoner_of_azkaban_UK_poster.jpg HTTP/1.1\" 200 17929\n",
      "2025-03-02 22:35:41 [scrapy.core.scraper] DEBUG: Scraped from <200 https://en.wikipedia.org/wiki/Skyfall>\n",
      "{'box_office': 1109000000.0,\n",
      " 'countries': ['United Kingdom', 'United States'],\n",
      " 'directors': ['Sam Mendes'],\n",
      " 'image_urls': ['https://upload.wikimedia.org/wikipedia/en/thumb/a/a7/Skyfall_poster.jpg/220px-Skyfall_poster.jpg'],\n",
      " 'images': [],\n",
      " 'title': 'Skyfall',\n",
      " 'year': 2012}\n",
      "2025-03-02 22:35:41 [scrapy.core.scraper] DEBUG: Scraped from <200 https://en.wikipedia.org/wiki/Fantastic_Beasts:_The_Secrets_of_Dumbledore>\n",
      "{'box_office': 407200000.0,\n",
      " 'countries': ['United Kingdom', 'United States'],\n",
      " 'directors': ['David Yates'],\n",
      " 'image_urls': ['https://upload.wikimedia.org/wikipedia/en/thumb/3/34/Fantastic_Beasts-_The_Secrets_of_Dumbledore.png/220px-Fantastic_Beasts-_The_Secrets_of_Dumbledore.png'],\n",
      " 'images': [],\n",
      " 'title': 'Fantastic Beasts:',\n",
      " 'year': 2022}\n",
      "2025-03-02 22:35:41 [scrapy.core.scraper] DEBUG: Scraped from <200 https://en.wikipedia.org/wiki/Spectre_(2015_film)>\n",
      "{'box_office': 880700000.0,\n",
      " 'countries': ['United Kingdom', 'United States'],\n",
      " 'directors': ['Sam Mendes'],\n",
      " 'image_urls': ['https://upload.wikimedia.org/wikipedia/en/thumb/b/b9/Spectre_2015_poster.jpg/220px-Spectre_2015_poster.jpg'],\n",
      " 'images': [],\n",
      " 'title': 'Spectre',\n",
      " 'year': 2015}\n",
      "2025-03-02 22:35:41 [scrapy.core.scraper] DEBUG: Scraped from <200 https://en.wikipedia.org/wiki/Fantastic_Beasts_and_Where_to_Find_Them_(film)>\n",
      "{'box_office': 814000000.0,\n",
      " 'countries': ['United Kingdom', 'United States'],\n",
      " 'directors': ['David Yates'],\n",
      " 'image_urls': ['https://upload.wikimedia.org/wikipedia/en/thumb/0/0b/FBAWTFT-poster.jpg/220px-FBAWTFT-poster.jpg'],\n",
      " 'images': [],\n",
      " 'title': 'Fantastic Beasts and Where to Find Them',\n",
      " 'year': 2016}\n",
      "2025-03-02 22:35:41 [scrapy.core.scraper] DEBUG: Scraped from <200 https://en.wikipedia.org/wiki/Harry_Potter_and_the_Chamber_of_Secrets_(film)>\n",
      "{'box_office': 882500000.0,\n",
      " 'countries': ['United Kingdom', 'United States'],\n",
      " 'directors': ['Chris Columbus'],\n",
      " 'image_urls': ['https://upload.wikimedia.org/wikipedia/en/thumb/c/c0/Harry_Potter_and_the_Chamber_of_Secrets_movie.jpg/220px-Harry_Potter_and_the_Chamber_of_Secrets_movie.jpg'],\n",
      " 'images': [],\n",
      " 'title': 'Harry Potter ',\n",
      " 'year': 2002}\n",
      "2025-03-02 22:35:41 [scrapy.core.scraper] DEBUG: Scraped from <200 https://en.wikipedia.org/wiki/Fantastic_Beasts:_The_Crimes_of_Grindelwald>\n",
      "{'box_office': 654900000.0,\n",
      " 'countries': ['United Kingdom', 'United States'],\n",
      " 'directors': ['David Yates'],\n",
      " 'image_urls': ['https://upload.wikimedia.org/wikipedia/en/thumb/3/3c/Fantastic_Beasts_-_The_Crimes_of_Grindelwald_Poster.png/220px-Fantastic_Beasts_-_The_Crimes_of_Grindelwald_Poster.png'],\n",
      " 'images': [],\n",
      " 'title': 'Fantastic Beasts:',\n",
      " 'year': 2018}\n",
      "2025-03-02 22:35:41 [scrapy.core.scraper] DEBUG: Scraped from <200 https://en.wikipedia.org/wiki/Harry_Potter_and_the_Prisoner_of_Azkaban_(film)>\n",
      "{'box_office': 808500000.0,\n",
      " 'countries': ['United Kingdom', 'United States'],\n",
      " 'directors': ['Alfonso Cuarón'],\n",
      " 'image_urls': ['https://upload.wikimedia.org/wikipedia/en/thumb/b/bc/Prisoner_of_azkaban_UK_poster.jpg/220px-Prisoner_of_azkaban_UK_poster.jpg'],\n",
      " 'images': [],\n",
      " 'title': 'Harry Potter and the Prisoner of Azkaban',\n",
      " 'year': 2004}\n",
      "2025-03-02 22:35:41 [scrapy.pipelines.media] ERROR: [Failure instance: Traceback: <class 'scrapy.pipelines.files.FileException'>: \n",
      "/Library/Frameworks/Python.framework/Versions/3.13/lib/python3.13/site-packages/twisted/internet/defer.py:1088:_runCallbacks\n",
      "/Library/Frameworks/Python.framework/Versions/3.13/lib/python3.13/site-packages/scrapy/pipelines/files.py:627:media_failed\n",
      "]\n",
      "NoneType: None\n",
      "2025-03-02 22:35:41 [scrapy.pipelines.media] ERROR: [Failure instance: Traceback: <class 'scrapy.pipelines.files.FileException'>: \n",
      "/Library/Frameworks/Python.framework/Versions/3.13/lib/python3.13/site-packages/twisted/internet/defer.py:1088:_runCallbacks\n",
      "/Library/Frameworks/Python.framework/Versions/3.13/lib/python3.13/site-packages/scrapy/pipelines/files.py:627:media_failed\n",
      "]\n",
      "NoneType: None\n",
      "2025-03-02 22:35:41 [scrapy.core.scraper] ERROR: Spider error processing <GET https://en.wikipedia.org/wiki/Harry_Potter_(film_series)> (referer: https://en.wikipedia.org/wiki/List_of_highest-grossing_films)\n",
      "Traceback (most recent call last):\n",
      "  File \"/Library/Frameworks/Python.framework/Versions/3.13/lib/python3.13/site-packages/scrapy/utils/defer.py\", line 327, in iter_errback\n",
      "    yield next(it)\n",
      "          ~~~~^^^^\n",
      "  File \"/Library/Frameworks/Python.framework/Versions/3.13/lib/python3.13/site-packages/scrapy/utils/python.py\", line 368, in __next__\n",
      "    return next(self.data)\n",
      "  File \"/Library/Frameworks/Python.framework/Versions/3.13/lib/python3.13/site-packages/scrapy/utils/python.py\", line 368, in __next__\n",
      "    return next(self.data)\n",
      "  File \"/Library/Frameworks/Python.framework/Versions/3.13/lib/python3.13/site-packages/scrapy/core/spidermw.py\", line 106, in process_sync\n",
      "    yield from iterable\n",
      "  File \"/Library/Frameworks/Python.framework/Versions/3.13/lib/python3.13/site-packages/scrapy/spidermiddlewares/referer.py\", line 379, in <genexpr>\n",
      "    return (self._set_referer(r, response) for r in result)\n",
      "                                                    ^^^^^^\n",
      "  File \"/Library/Frameworks/Python.framework/Versions/3.13/lib/python3.13/site-packages/scrapy/core/spidermw.py\", line 106, in process_sync\n",
      "    yield from iterable\n",
      "  File \"/Library/Frameworks/Python.framework/Versions/3.13/lib/python3.13/site-packages/scrapy/spidermiddlewares/urllength.py\", line 57, in <genexpr>\n",
      "    return (r for r in result if self._filter(r, spider))\n",
      "                       ^^^^^^\n",
      "  File \"/Library/Frameworks/Python.framework/Versions/3.13/lib/python3.13/site-packages/scrapy/core/spidermw.py\", line 106, in process_sync\n",
      "    yield from iterable\n",
      "  File \"/Library/Frameworks/Python.framework/Versions/3.13/lib/python3.13/site-packages/scrapy/spidermiddlewares/depth.py\", line 54, in <genexpr>\n",
      "    return (r for r in result if self._filter(r, response, spider))\n",
      "                       ^^^^^^\n",
      "  File \"/Library/Frameworks/Python.framework/Versions/3.13/lib/python3.13/site-packages/scrapy/core/spidermw.py\", line 106, in process_sync\n",
      "    yield from iterable\n",
      "  File \"/Users/fllarpy/projects/DWV/pop-films/wikipedia_scaper/wikipedia_scaper/spiders/movies_spider.py\", line 36, in parse_movie\n",
      "    year = int(infobox.xpath('.//th[div[contains(text(), \"Release date\")]]/following-sibling::td//li/text()').get().split()[-1])\n",
      "               ^^^^^^^^^^^^^^^^^^^^^^^^^^^^^^^^^^^^^^^^^^^^^^^^^^^^^^^^^^^^^^^^^^^^^^^^^^^^^^^^^^^^^^^^^^^^^^^^^^^^^^^^^^\n",
      "AttributeError: 'NoneType' object has no attribute 'split'\n",
      "2025-03-02 22:35:41 [scrapy.pipelines.media] ERROR: [Failure instance: Traceback: <class 'scrapy.pipelines.files.FileException'>: \n",
      "/Library/Frameworks/Python.framework/Versions/3.13/lib/python3.13/site-packages/twisted/internet/defer.py:1088:_runCallbacks\n",
      "/Library/Frameworks/Python.framework/Versions/3.13/lib/python3.13/site-packages/scrapy/pipelines/files.py:627:media_failed\n",
      "]\n",
      "NoneType: None\n",
      "2025-03-02 22:35:41 [scrapy.pipelines.media] ERROR: [Failure instance: Traceback: <class 'scrapy.pipelines.files.FileException'>: \n",
      "/Library/Frameworks/Python.framework/Versions/3.13/lib/python3.13/site-packages/twisted/internet/defer.py:1088:_runCallbacks\n",
      "/Library/Frameworks/Python.framework/Versions/3.13/lib/python3.13/site-packages/scrapy/pipelines/files.py:627:media_failed\n",
      "]\n",
      "NoneType: None\n",
      "2025-03-02 22:35:41 [scrapy.pipelines.media] ERROR: [Failure instance: Traceback: <class 'scrapy.pipelines.files.FileException'>: \n",
      "/Library/Frameworks/Python.framework/Versions/3.13/lib/python3.13/site-packages/twisted/internet/defer.py:1088:_runCallbacks\n",
      "/Library/Frameworks/Python.framework/Versions/3.13/lib/python3.13/site-packages/scrapy/pipelines/files.py:627:media_failed\n",
      "]\n",
      "NoneType: None\n",
      "2025-03-02 22:35:41 [scrapy.pipelines.media] ERROR: [Failure instance: Traceback: <class 'scrapy.pipelines.files.FileException'>: \n",
      "/Library/Frameworks/Python.framework/Versions/3.13/lib/python3.13/site-packages/twisted/internet/defer.py:1088:_runCallbacks\n",
      "/Library/Frameworks/Python.framework/Versions/3.13/lib/python3.13/site-packages/scrapy/pipelines/files.py:627:media_failed\n",
      "]\n",
      "NoneType: None\n",
      "2025-03-02 22:35:41 [scrapy.pipelines.media] ERROR: [Failure instance: Traceback: <class 'scrapy.pipelines.files.FileException'>: \n",
      "/Library/Frameworks/Python.framework/Versions/3.13/lib/python3.13/site-packages/twisted/internet/defer.py:1088:_runCallbacks\n",
      "/Library/Frameworks/Python.framework/Versions/3.13/lib/python3.13/site-packages/scrapy/pipelines/files.py:627:media_failed\n",
      "]\n",
      "NoneType: None\n",
      "2025-03-02 22:35:41 [urllib3.connectionpool] DEBUG: Starting new HTTPS connection (1): upload.wikimedia.org:443\n"
     ]
    },
    {
     "name": "stdout",
     "output_type": "stream",
     "text": [
      "saved in images/Harry_Potter_and_the_Prisoner_of_Azkaban/Harry_Potter_and_the_Prisoner_of_Azkaban.jpg\n",
      "erroe: \n"
     ]
    },
    {
     "name": "stderr",
     "output_type": "stream",
     "text": [
      "2025-03-02 22:35:42 [urllib3.connectionpool] DEBUG: https://upload.wikimedia.org:443 \"GET /wikipedia/en/thumb/7/72/Star_wars_the_clone_wars.jpg/220px-Star_wars_the_clone_wars.jpg HTTP/1.1\" 200 36118\n",
      "2025-03-02 22:35:42 [urllib3.connectionpool] DEBUG: Starting new HTTPS connection (1): upload.wikimedia.org:443\n"
     ]
    },
    {
     "name": "stdout",
     "output_type": "stream",
     "text": [
      "saved in images/Star_Wars:_The_Clone_Wars/Star_Wars:_The_Clone_Wars.jpg\n",
      "erroe: \n"
     ]
    },
    {
     "name": "stderr",
     "output_type": "stream",
     "text": [
      "2025-03-02 22:35:42 [urllib3.connectionpool] DEBUG: https://upload.wikimedia.org:443 \"GET /wikipedia/en/thumb/2/2d/Harry_Potter_and_the_Deathly_Hallows_%E2%80%93_Part_1.jpg/220px-Harry_Potter_and_the_Deathly_Hallows_%E2%80%93_Part_1.jpg HTTP/1.1\" 200 16769\n",
      "2025-03-02 22:35:42 [urllib3.connectionpool] DEBUG: Starting new HTTPS connection (1): upload.wikimedia.org:443\n"
     ]
    },
    {
     "name": "stdout",
     "output_type": "stream",
     "text": [
      "saved in images/Harry_Potter_/Harry_Potter_.jpg\n",
      "erroe: \n"
     ]
    },
    {
     "name": "stderr",
     "output_type": "stream",
     "text": [
      "2025-03-02 22:35:42 [urllib3.connectionpool] DEBUG: https://upload.wikimedia.org:443 \"GET /wikipedia/en/thumb/d/d4/Rogue_One%2C_A_Star_Wars_Story_poster.png/220px-Rogue_One%2C_A_Star_Wars_Story_poster.png HTTP/1.1\" 200 131518\n",
      "2025-03-02 22:35:42 [urllib3.connectionpool] DEBUG: Starting new HTTPS connection (1): upload.wikimedia.org:443\n"
     ]
    },
    {
     "name": "stdout",
     "output_type": "stream",
     "text": [
      "saved in images/Rogue_One:_A_Star_Wars_Story/Rogue_One:_A_Star_Wars_Story.png\n",
      "erroe: \n"
     ]
    },
    {
     "name": "stderr",
     "output_type": "stream",
     "text": [
      "2025-03-02 22:35:43 [urllib3.connectionpool] DEBUG: https://upload.wikimedia.org:443 \"GET /wikipedia/en/5/54/Solo_A_Star_Wars_Story_poster.jpg HTTP/1.1\" 200 141034\n",
      "2025-03-02 22:35:43 [urllib3.connectionpool] DEBUG: Starting new HTTPS connection (1): upload.wikimedia.org:443\n"
     ]
    },
    {
     "name": "stdout",
     "output_type": "stream",
     "text": [
      "saved in images/Solo:_A_Star_Wars_Story/Solo:_A_Star_Wars_Story.jpg\n",
      "erroe: \n"
     ]
    },
    {
     "name": "stderr",
     "output_type": "stream",
     "text": [
      "2025-03-02 22:35:43 [urllib3.connectionpool] DEBUG: https://upload.wikimedia.org:443 \"GET /wikipedia/en/thumb/3/32/Star_Wars_-_Episode_II_Attack_of_the_Clones_%28movie_poster%29.jpg/220px-Star_Wars_-_Episode_II_Attack_of_the_Clones_%28movie_poster%29.jpg HTTP/1.1\" 200 30011\n",
      "2025-03-02 22:35:43 [urllib3.connectionpool] DEBUG: Starting new HTTPS connection (1): upload.wikimedia.org:443\n"
     ]
    },
    {
     "name": "stdout",
     "output_type": "stream",
     "text": [
      "saved in images/Star_Wars:_Episode_II_–_Attack_of_the_Clones/Star_Wars:_Episode_II_–_Attack_of_the_Clones.jpg\n",
      "erroe: \n"
     ]
    },
    {
     "name": "stderr",
     "output_type": "stream",
     "text": [
      "2025-03-02 22:35:44 [urllib3.connectionpool] DEBUG: https://upload.wikimedia.org:443 \"GET /wikipedia/en/thumb/3/3f/Harry_Potter_and_the_Half-Blood_Prince_poster.jpg/220px-Harry_Potter_and_the_Half-Blood_Prince_poster.jpg HTTP/1.1\" 200 21114\n",
      "2025-03-02 22:35:44 [urllib3.connectionpool] DEBUG: Starting new HTTPS connection (1): upload.wikimedia.org:443\n"
     ]
    },
    {
     "name": "stdout",
     "output_type": "stream",
     "text": [
      "saved in images/Harry_Potter_/Harry_Potter_.jpg\n",
      "erroe: \n"
     ]
    },
    {
     "name": "stderr",
     "output_type": "stream",
     "text": [
      "2025-03-02 22:35:44 [urllib3.connectionpool] DEBUG: https://upload.wikimedia.org:443 \"GET /wikipedia/en/thumb/e/e7/Harry_Potter_and_the_Order_of_the_Phoenix_poster.jpg/220px-Harry_Potter_and_the_Order_of_the_Phoenix_poster.jpg HTTP/1.1\" 200 16219\n",
      "2025-03-02 22:35:44 [scrapy.core.scraper] DEBUG: Scraped from <200 https://en.wikipedia.org/wiki/Star_Wars:_The_Clone_Wars_(film)>\n",
      "{'box_office': 68500000.0,\n",
      " 'countries': ['United States'],\n",
      " 'directors': ['Dave Filoni'],\n",
      " 'image_urls': ['https://upload.wikimedia.org/wikipedia/en/thumb/7/72/Star_wars_the_clone_wars.jpg/220px-Star_wars_the_clone_wars.jpg'],\n",
      " 'images': [],\n",
      " 'title': 'Star Wars: The Clone Wars',\n",
      " 'year': 2008}\n",
      "2025-03-02 22:35:44 [scrapy.core.scraper] DEBUG: Scraped from <200 https://en.wikipedia.org/wiki/Harry_Potter_and_the_Deathly_Hallows_%E2%80%93_Part_1>\n",
      "{'box_office': 960900000.0,\n",
      " 'countries': ['United Kingdom', 'United States'],\n",
      " 'directors': ['David Yates'],\n",
      " 'image_urls': ['https://upload.wikimedia.org/wikipedia/en/thumb/2/2d/Harry_Potter_and_the_Deathly_Hallows_%E2%80%93_Part_1.jpg/220px-Harry_Potter_and_the_Deathly_Hallows_%E2%80%93_Part_1.jpg'],\n",
      " 'images': [],\n",
      " 'title': 'Harry Potter ',\n",
      " 'year': 2010}\n",
      "2025-03-02 22:35:44 [scrapy.core.scraper] DEBUG: Scraped from <200 https://en.wikipedia.org/wiki/Rogue_One>\n",
      "{'box_office': 1059000000.0,\n",
      " 'countries': ['United States'],\n",
      " 'directors': ['Gareth Edwards'],\n",
      " 'image_urls': ['https://upload.wikimedia.org/wikipedia/en/thumb/d/d4/Rogue_One%2C_A_Star_Wars_Story_poster.png/220px-Rogue_One%2C_A_Star_Wars_Story_poster.png'],\n",
      " 'images': [],\n",
      " 'title': 'Rogue One: A Star Wars Story',\n",
      " 'year': 2016}\n",
      "2025-03-02 22:35:44 [scrapy.core.scraper] DEBUG: Scraped from <200 https://en.wikipedia.org/wiki/Solo:_A_Star_Wars_Story>\n",
      "{'box_office': 393200000.0,\n",
      " 'countries': ['United States'],\n",
      " 'directors': ['Ron Howard'],\n",
      " 'image_urls': ['https://upload.wikimedia.org/wikipedia/en/5/54/Solo_A_Star_Wars_Story_poster.jpg'],\n",
      " 'images': [],\n",
      " 'title': 'Solo: A Star Wars Story',\n",
      " 'year': 2018}\n",
      "2025-03-02 22:35:44 [scrapy.core.scraper] DEBUG: Scraped from <200 https://en.wikipedia.org/wiki/Star_Wars:_Episode_II_%E2%80%93_Attack_of_the_Clones>\n",
      "{'box_office': 653800000.0,\n",
      " 'countries': ['United States'],\n",
      " 'directors': ['George Lucas'],\n",
      " 'image_urls': ['https://upload.wikimedia.org/wikipedia/en/thumb/3/32/Star_Wars_-_Episode_II_Attack_of_the_Clones_%28movie_poster%29.jpg/220px-Star_Wars_-_Episode_II_Attack_of_the_Clones_%28movie_poster%29.jpg'],\n",
      " 'images': [],\n",
      " 'title': 'Star Wars: Episode II – Attack of the Clones',\n",
      " 'year': 2002}\n",
      "2025-03-02 22:35:44 [scrapy.core.scraper] DEBUG: Scraped from <200 https://en.wikipedia.org/wiki/Harry_Potter_and_the_Half-Blood_Prince_(film)>\n",
      "{'box_office': 941100000.0,\n",
      " 'countries': ['United Kingdom', 'United States'],\n",
      " 'directors': ['David Yates'],\n",
      " 'image_urls': ['https://upload.wikimedia.org/wikipedia/en/thumb/3/3f/Harry_Potter_and_the_Half-Blood_Prince_poster.jpg/220px-Harry_Potter_and_the_Half-Blood_Prince_poster.jpg'],\n",
      " 'images': [],\n",
      " 'title': 'Harry Potter ',\n",
      " 'year': 2009}\n",
      "2025-03-02 22:35:44 [scrapy.core.scraper] DEBUG: Scraped from <200 https://en.wikipedia.org/wiki/Harry_Potter_and_the_Order_of_the_Phoenix_(film)>\n",
      "{'box_office': 942200000.0,\n",
      " 'countries': ['United Kingdom', 'United States'],\n",
      " 'directors': ['David Yates'],\n",
      " 'image_urls': ['https://upload.wikimedia.org/wikipedia/en/thumb/e/e7/Harry_Potter_and_the_Order_of_the_Phoenix_poster.jpg/220px-Harry_Potter_and_the_Order_of_the_Phoenix_poster.jpg'],\n",
      " 'images': [],\n",
      " 'title': 'Harry Potter and the Order of the Phoenix',\n",
      " 'year': 2007}\n"
     ]
    },
    {
     "name": "stdout",
     "output_type": "stream",
     "text": [
      "saved in images/Harry_Potter_and_the_Order_of_the_Phoenix/Harry_Potter_and_the_Order_of_the_Phoenix.jpg\n",
      "erroe: \n"
     ]
    },
    {
     "name": "stderr",
     "output_type": "stream",
     "text": [
      "2025-03-02 22:35:44 [scrapy.core.engine] DEBUG: Crawled (200) <GET https://en.wikipedia.org/wiki/Kraven_the_Hunter_(film)> (referer: https://en.wikipedia.org/wiki/List_of_highest-grossing_films)\n",
      "2025-03-02 22:35:44 [scrapy.core.engine] DEBUG: Crawled (200) <GET https://en.wikipedia.org/wiki/Star_Wars:_Episode_III_%E2%80%93_Revenge_of_the_Sith> (referer: https://en.wikipedia.org/wiki/List_of_highest-grossing_films)\n",
      "2025-03-02 22:35:44 [scrapy.core.engine] DEBUG: Crawled (200) <GET https://en.wikipedia.org/wiki/Spider-Man:_Across_the_Spider-Verse> (referer: https://en.wikipedia.org/wiki/List_of_highest-grossing_films)\n",
      "2025-03-02 22:35:44 [scrapy.core.engine] DEBUG: Crawled (200) <GET https://en.wikipedia.org/wiki/Spider-Man:_Into_the_Spider-Verse> (referer: https://en.wikipedia.org/wiki/List_of_highest-grossing_films)\n",
      "2025-03-02 22:35:44 [scrapy.core.engine] DEBUG: Crawled (200) <GET https://en.wikipedia.org/wiki/Star_Wars:_The_Rise_of_Skywalker> (referer: https://en.wikipedia.org/wiki/List_of_highest-grossing_films)\n",
      "2025-03-02 22:35:44 [scrapy.core.engine] DEBUG: Crawled (200) <GET https://en.wikipedia.org/wiki/The_Amazing_Spider-Man_2> (referer: https://en.wikipedia.org/wiki/List_of_highest-grossing_films)\n",
      "2025-03-02 22:35:44 [scrapy.core.engine] DEBUG: Crawled (200) <GET https://en.wikipedia.org/wiki/Madame_Web_(film)> (referer: https://en.wikipedia.org/wiki/List_of_highest-grossing_films)\n",
      "2025-03-02 22:35:44 [scrapy.core.engine] DEBUG: Crawled (200) <GET https://en.wikipedia.org/wiki/Venom:_The_Last_Dance> (referer: https://en.wikipedia.org/wiki/List_of_highest-grossing_films)\n",
      "2025-03-02 22:35:44 [scrapy.pipelines.media] ERROR: [Failure instance: Traceback: <class 'scrapy.pipelines.files.FileException'>: \n",
      "/Library/Frameworks/Python.framework/Versions/3.13/lib/python3.13/site-packages/twisted/internet/defer.py:1088:_runCallbacks\n",
      "/Library/Frameworks/Python.framework/Versions/3.13/lib/python3.13/site-packages/scrapy/pipelines/files.py:627:media_failed\n",
      "]\n",
      "NoneType: None\n",
      "2025-03-02 22:35:44 [urllib3.connectionpool] DEBUG: Starting new HTTPS connection (1): upload.wikimedia.org:443\n",
      "2025-03-02 22:35:45 [urllib3.connectionpool] DEBUG: https://upload.wikimedia.org:443 \"GET /wikipedia/en/thumb/e/ec/Kraven_the_Hunter_%28film%29_poster.jpg/220px-Kraven_the_Hunter_%28film%29_poster.jpg HTTP/1.1\" 200 28615\n",
      "2025-03-02 22:35:45 [scrapy.core.engine] DEBUG: Crawled (200) <GET https://en.wikipedia.org/wiki/Venom:_Let_There_Be_Carnage> (referer: https://en.wikipedia.org/wiki/List_of_highest-grossing_films)\n",
      "2025-03-02 22:35:45 [scrapy.core.engine] DEBUG: Crawled (200) <GET https://en.wikipedia.org/wiki/The_Amazing_Spider-Man_(film)> (referer: https://en.wikipedia.org/wiki/List_of_highest-grossing_films)\n",
      "2025-03-02 22:35:45 [scrapy.core.engine] DEBUG: Crawled (200) <GET https://en.wikipedia.org/wiki/Morbius_(film)> (referer: https://en.wikipedia.org/wiki/List_of_highest-grossing_films)\n",
      "2025-03-02 22:35:45 [scrapy.core.engine] DEBUG: Crawled (200) <GET https://en.wikipedia.org/wiki/Venom_(2018_film)> (referer: https://en.wikipedia.org/wiki/List_of_highest-grossing_films)\n",
      "2025-03-02 22:35:45 [scrapy.core.scraper] DEBUG: Scraped from <200 https://en.wikipedia.org/wiki/Kraven_the_Hunter_(film)>\n",
      "{'box_office': 62000000.0,\n",
      " 'countries': ['United States'],\n",
      " 'directors': ['J. C. Chandor'],\n",
      " 'image_urls': ['https://upload.wikimedia.org/wikipedia/en/thumb/e/ec/Kraven_the_Hunter_%28film%29_poster.jpg/220px-Kraven_the_Hunter_%28film%29_poster.jpg'],\n",
      " 'images': [],\n",
      " 'title': 'Kraven the Hunter',\n",
      " 'year': 2024}\n",
      "2025-03-02 22:35:45 [scrapy.core.engine] DEBUG: Crawled (200) <GET https://en.wikipedia.org/wiki/Spider-Man_2> (referer: https://en.wikipedia.org/wiki/List_of_highest-grossing_films)\n",
      "2025-03-02 22:35:45 [scrapy.core.engine] DEBUG: Crawled (200) <GET https://en.wikipedia.org/wiki/Spider-Man_(2002_film)> (referer: https://en.wikipedia.org/wiki/List_of_highest-grossing_films)\n",
      "2025-03-02 22:35:45 [scrapy.core.engine] DEBUG: Crawled (200) <GET https://en.wikipedia.org/wiki/Spider-Man_3> (referer: https://en.wikipedia.org/wiki/List_of_highest-grossing_films)\n",
      "2025-03-02 22:35:45 [scrapy.core.engine] DEBUG: Crawled (200) <GET https://en.wikipedia.org/wiki/The_Marvels> (referer: https://en.wikipedia.org/wiki/List_of_highest-grossing_films)\n",
      "2025-03-02 22:35:45 [scrapy.pipelines.media] ERROR: [Failure instance: Traceback: <class 'scrapy.pipelines.files.FileException'>: \n",
      "/Library/Frameworks/Python.framework/Versions/3.13/lib/python3.13/site-packages/twisted/internet/defer.py:1088:_runCallbacks\n",
      "/Library/Frameworks/Python.framework/Versions/3.13/lib/python3.13/site-packages/scrapy/pipelines/files.py:627:media_failed\n",
      "]\n",
      "NoneType: None\n",
      "2025-03-02 22:35:45 [scrapy.pipelines.media] ERROR: [Failure instance: Traceback: <class 'scrapy.pipelines.files.FileException'>: \n",
      "/Library/Frameworks/Python.framework/Versions/3.13/lib/python3.13/site-packages/twisted/internet/defer.py:1088:_runCallbacks\n",
      "/Library/Frameworks/Python.framework/Versions/3.13/lib/python3.13/site-packages/scrapy/pipelines/files.py:627:media_failed\n",
      "]\n",
      "NoneType: None\n",
      "2025-03-02 22:35:45 [scrapy.pipelines.media] ERROR: [Failure instance: Traceback: <class 'scrapy.pipelines.files.FileException'>: \n",
      "/Library/Frameworks/Python.framework/Versions/3.13/lib/python3.13/site-packages/twisted/internet/defer.py:1088:_runCallbacks\n",
      "/Library/Frameworks/Python.framework/Versions/3.13/lib/python3.13/site-packages/scrapy/pipelines/files.py:627:media_failed\n",
      "]\n",
      "NoneType: None\n",
      "2025-03-02 22:35:45 [scrapy.pipelines.media] ERROR: [Failure instance: Traceback: <class 'scrapy.pipelines.files.FileException'>: \n",
      "/Library/Frameworks/Python.framework/Versions/3.13/lib/python3.13/site-packages/twisted/internet/defer.py:1088:_runCallbacks\n",
      "/Library/Frameworks/Python.framework/Versions/3.13/lib/python3.13/site-packages/scrapy/pipelines/files.py:627:media_failed\n",
      "]\n",
      "NoneType: None\n",
      "2025-03-02 22:35:45 [scrapy.pipelines.media] ERROR: [Failure instance: Traceback: <class 'scrapy.pipelines.files.FileException'>: \n",
      "/Library/Frameworks/Python.framework/Versions/3.13/lib/python3.13/site-packages/twisted/internet/defer.py:1088:_runCallbacks\n",
      "/Library/Frameworks/Python.framework/Versions/3.13/lib/python3.13/site-packages/scrapy/pipelines/files.py:627:media_failed\n",
      "]\n",
      "NoneType: None\n",
      "2025-03-02 22:35:45 [scrapy.pipelines.media] ERROR: [Failure instance: Traceback: <class 'scrapy.pipelines.files.FileException'>: \n",
      "/Library/Frameworks/Python.framework/Versions/3.13/lib/python3.13/site-packages/twisted/internet/defer.py:1088:_runCallbacks\n",
      "/Library/Frameworks/Python.framework/Versions/3.13/lib/python3.13/site-packages/scrapy/pipelines/files.py:627:media_failed\n",
      "]\n",
      "NoneType: None\n",
      "2025-03-02 22:35:45 [scrapy.pipelines.media] ERROR: [Failure instance: Traceback: <class 'scrapy.pipelines.files.FileException'>: \n",
      "/Library/Frameworks/Python.framework/Versions/3.13/lib/python3.13/site-packages/twisted/internet/defer.py:1088:_runCallbacks\n",
      "/Library/Frameworks/Python.framework/Versions/3.13/lib/python3.13/site-packages/scrapy/pipelines/files.py:627:media_failed\n",
      "]\n",
      "NoneType: None\n",
      "2025-03-02 22:35:45 [urllib3.connectionpool] DEBUG: Starting new HTTPS connection (1): upload.wikimedia.org:443\n"
     ]
    },
    {
     "name": "stdout",
     "output_type": "stream",
     "text": [
      "saved in images/Kraven_the_Hunter/Kraven_the_Hunter.jpg\n",
      "erroe: \n"
     ]
    },
    {
     "name": "stderr",
     "output_type": "stream",
     "text": [
      "2025-03-02 22:35:45 [urllib3.connectionpool] DEBUG: https://upload.wikimedia.org:443 \"GET /wikipedia/en/thumb/a/a3/Venom_The_Last_Dance_Poster.jpg/220px-Venom_The_Last_Dance_Poster.jpg HTTP/1.1\" 200 31374\n",
      "2025-03-02 22:35:45 [urllib3.connectionpool] DEBUG: Starting new HTTPS connection (1): upload.wikimedia.org:443\n"
     ]
    },
    {
     "name": "stdout",
     "output_type": "stream",
     "text": [
      "saved in images/Venom:_The_Last_Dance/Venom:_The_Last_Dance.jpg\n",
      "erroe: \n"
     ]
    },
    {
     "name": "stderr",
     "output_type": "stream",
     "text": [
      "2025-03-02 22:35:46 [urllib3.connectionpool] DEBUG: https://upload.wikimedia.org:443 \"GET /wikipedia/en/thumb/9/93/Star_Wars_Episode_III_Revenge_of_the_Sith_poster.jpg/220px-Star_Wars_Episode_III_Revenge_of_the_Sith_poster.jpg HTTP/1.1\" 200 25836\n",
      "2025-03-02 22:35:46 [urllib3.connectionpool] DEBUG: Starting new HTTPS connection (1): upload.wikimedia.org:443\n"
     ]
    },
    {
     "name": "stdout",
     "output_type": "stream",
     "text": [
      "saved in images/Star_Wars:_Episode_III_–/Star_Wars:_Episode_III_–.jpg\n",
      "erroe: \n"
     ]
    },
    {
     "name": "stderr",
     "output_type": "stream",
     "text": [
      "2025-03-02 22:35:46 [urllib3.connectionpool] DEBUG: https://upload.wikimedia.org:443 \"GET /wikipedia/en/thumb/b/b4/Spider-Man-_Across_the_Spider-Verse_poster.jpg/220px-Spider-Man-_Across_the_Spider-Verse_poster.jpg HTTP/1.1\" 200 38644\n",
      "2025-03-02 22:35:46 [urllib3.connectionpool] DEBUG: Starting new HTTPS connection (1): upload.wikimedia.org:443\n"
     ]
    },
    {
     "name": "stdout",
     "output_type": "stream",
     "text": [
      "saved in images/Spider-Man:_Across_the_/Spider-Man:_Across_the_.jpg\n",
      "erroe: \n"
     ]
    },
    {
     "name": "stderr",
     "output_type": "stream",
     "text": [
      "2025-03-02 22:35:46 [urllib3.connectionpool] DEBUG: https://upload.wikimedia.org:443 \"GET /wikipedia/en/thumb/f/fa/Spider-Man_Into_the_Spider-Verse_poster.png/220px-Spider-Man_Into_the_Spider-Verse_poster.png HTTP/1.1\" 200 128004\n"
     ]
    },
    {
     "name": "stdout",
     "output_type": "stream",
     "text": [
      "saved in images/Spider-Man:_Into_the_Spider-Verse/Spider-Man:_Into_the_Spider-Verse.png\n",
      "erroe: \n"
     ]
    },
    {
     "name": "stderr",
     "output_type": "stream",
     "text": [
      "2025-03-02 22:35:47 [urllib3.connectionpool] DEBUG: Starting new HTTPS connection (1): upload.wikimedia.org:443\n",
      "2025-03-02 22:35:47 [urllib3.connectionpool] DEBUG: https://upload.wikimedia.org:443 \"GET /wikipedia/en/a/af/Star_Wars_The_Rise_of_Skywalker_poster.jpg HTTP/1.1\" 200 46358\n",
      "2025-03-02 22:35:47 [urllib3.connectionpool] DEBUG: Starting new HTTPS connection (1): upload.wikimedia.org:443\n"
     ]
    },
    {
     "name": "stdout",
     "output_type": "stream",
     "text": [
      "saved in images/Star_Wars:_The_Rise_of_Skywalker/Star_Wars:_The_Rise_of_Skywalker.jpg\n",
      "erroe: \n"
     ]
    },
    {
     "name": "stderr",
     "output_type": "stream",
     "text": [
      "2025-03-02 22:35:48 [urllib3.connectionpool] DEBUG: https://upload.wikimedia.org:443 \"GET /wikipedia/en/thumb/2/24/The_Amazing_Spider-Man_2_poster.jpg/220px-The_Amazing_Spider-Man_2_poster.jpg HTTP/1.1\" 200 34018\n",
      "2025-03-02 22:35:48 [urllib3.connectionpool] DEBUG: Starting new HTTPS connection (1): upload.wikimedia.org:443\n"
     ]
    },
    {
     "name": "stdout",
     "output_type": "stream",
     "text": [
      "saved in images/The_Amazing_Spider-Man_2/The_Amazing_Spider-Man_2.jpg\n",
      "erroe: \n"
     ]
    },
    {
     "name": "stderr",
     "output_type": "stream",
     "text": [
      "2025-03-02 22:35:48 [urllib3.connectionpool] DEBUG: https://upload.wikimedia.org:443 \"GET /wikipedia/en/thumb/f/f0/Madame_Web_%28film%29_poster.jpg/220px-Madame_Web_%28film%29_poster.jpg HTTP/1.1\" 200 34560\n",
      "2025-03-02 22:35:48 [scrapy.core.scraper] DEBUG: Scraped from <200 https://en.wikipedia.org/wiki/Star_Wars:_Episode_III_%E2%80%93_Revenge_of_the_Sith>\n",
      "{'box_office': 868400000.0,\n",
      " 'countries': ['United States'],\n",
      " 'directors': ['George Lucas'],\n",
      " 'image_urls': ['https://upload.wikimedia.org/wikipedia/en/thumb/9/93/Star_Wars_Episode_III_Revenge_of_the_Sith_poster.jpg/220px-Star_Wars_Episode_III_Revenge_of_the_Sith_poster.jpg'],\n",
      " 'images': [],\n",
      " 'title': 'Star Wars: Episode III –',\n",
      " 'year': 2005}\n",
      "2025-03-02 22:35:48 [scrapy.core.scraper] DEBUG: Scraped from <200 https://en.wikipedia.org/wiki/Spider-Man:_Across_the_Spider-Verse>\n",
      "{'box_office': 690.8,\n",
      " 'countries': ['United States'],\n",
      " 'directors': ['Joaquim Dos Santos', 'Kemp Powers'],\n",
      " 'image_urls': ['https://upload.wikimedia.org/wikipedia/en/thumb/b/b4/Spider-Man-_Across_the_Spider-Verse_poster.jpg/220px-Spider-Man-_Across_the_Spider-Verse_poster.jpg'],\n",
      " 'images': [],\n",
      " 'title': 'Spider-Man: Across the ',\n",
      " 'year': 2023}\n",
      "2025-03-02 22:35:48 [scrapy.core.scraper] DEBUG: Scraped from <200 https://en.wikipedia.org/wiki/Spider-Man:_Into_the_Spider-Verse>\n",
      "{'box_office': 394000000.0,\n",
      " 'countries': ['United States'],\n",
      " 'directors': ['Bob Persichetti', 'Peter Ramsey', 'Rodney Rothman'],\n",
      " 'image_urls': ['https://upload.wikimedia.org/wikipedia/en/thumb/f/fa/Spider-Man_Into_the_Spider-Verse_poster.png/220px-Spider-Man_Into_the_Spider-Verse_poster.png'],\n",
      " 'images': [],\n",
      " 'title': 'Spider-Man: Into the Spider-Verse',\n",
      " 'year': 2018}\n",
      "2025-03-02 22:35:48 [scrapy.core.scraper] DEBUG: Scraped from <200 https://en.wikipedia.org/wiki/Star_Wars:_The_Rise_of_Skywalker>\n",
      "{'box_office': 1077000000.0,\n",
      " 'countries': ['United States'],\n",
      " 'directors': ['J. J. Abrams'],\n",
      " 'image_urls': ['https://upload.wikimedia.org/wikipedia/en/a/af/Star_Wars_The_Rise_of_Skywalker_poster.jpg'],\n",
      " 'images': [],\n",
      " 'title': 'Star Wars: The Rise of Skywalker',\n",
      " 'year': 2019}\n",
      "2025-03-02 22:35:48 [scrapy.core.scraper] DEBUG: Scraped from <200 https://en.wikipedia.org/wiki/The_Amazing_Spider-Man_2>\n",
      "{'box_office': 716900000.0,\n",
      " 'countries': ['United States'],\n",
      " 'directors': ['Marc Webb'],\n",
      " 'image_urls': ['https://upload.wikimedia.org/wikipedia/en/thumb/2/24/The_Amazing_Spider-Man_2_poster.jpg/220px-The_Amazing_Spider-Man_2_poster.jpg'],\n",
      " 'images': [],\n",
      " 'title': 'The Amazing Spider-Man 2',\n",
      " 'year': 2014}\n",
      "2025-03-02 22:35:48 [scrapy.core.scraper] DEBUG: Scraped from <200 https://en.wikipedia.org/wiki/Madame_Web_(film)>\n",
      "{'box_office': 100500000.0,\n",
      " 'countries': ['United States'],\n",
      " 'directors': ['S. J. Clarkson'],\n",
      " 'image_urls': ['https://upload.wikimedia.org/wikipedia/en/thumb/f/f0/Madame_Web_%28film%29_poster.jpg/220px-Madame_Web_%28film%29_poster.jpg'],\n",
      " 'images': [],\n",
      " 'title': 'Madame Web',\n",
      " 'year': 2024}\n",
      "2025-03-02 22:35:48 [scrapy.core.scraper] DEBUG: Scraped from <200 https://en.wikipedia.org/wiki/Venom:_The_Last_Dance>\n",
      "{'box_office': 479000000.0,\n",
      " 'countries': ['United States'],\n",
      " 'directors': ['Kelly Marcel'],\n",
      " 'image_urls': ['https://upload.wikimedia.org/wikipedia/en/thumb/a/a3/Venom_The_Last_Dance_Poster.jpg/220px-Venom_The_Last_Dance_Poster.jpg'],\n",
      " 'images': [],\n",
      " 'title': 'Venom: The Last Dance',\n",
      " 'year': 2024}\n",
      "2025-03-02 22:35:48 [scrapy.core.engine] DEBUG: Crawled (200) <GET https://en.wikipedia.org/wiki/Ant-Man_and_the_Wasp:_Quantumania> (referer: https://en.wikipedia.org/wiki/List_of_highest-grossing_films)\n",
      "2025-03-02 22:35:48 [scrapy.core.engine] DEBUG: Crawled (200) <GET https://en.wikipedia.org/wiki/Captain_America:_Brave_New_World> (referer: https://en.wikipedia.org/wiki/List_of_highest-grossing_films)\n",
      "2025-03-02 22:35:48 [scrapy.core.engine] DEBUG: Crawled (200) <GET https://en.wikipedia.org/wiki/Deadpool_%26_Wolverine> (referer: https://en.wikipedia.org/wiki/List_of_highest-grossing_films)\n",
      "2025-03-02 22:35:48 [scrapy.core.engine] DEBUG: Crawled (200) <GET https://en.wikipedia.org/wiki/Guardians_of_the_Galaxy_Vol._3> (referer: https://en.wikipedia.org/wiki/List_of_highest-grossing_films)\n",
      "2025-03-02 22:35:48 [scrapy.core.engine] DEBUG: Crawled (200) <GET https://en.wikipedia.org/wiki/Eternals_(film)> (referer: https://en.wikipedia.org/wiki/List_of_highest-grossing_films)\n",
      "2025-03-02 22:35:48 [scrapy.core.engine] DEBUG: Crawled (200) <GET https://en.wikipedia.org/wiki/Thor:_Love_and_Thunder> (referer: https://en.wikipedia.org/wiki/List_of_highest-grossing_films)\n",
      "2025-03-02 22:35:48 [scrapy.core.engine] DEBUG: Crawled (200) <GET https://en.wikipedia.org/wiki/Black_Widow_(2021_film)> (referer: https://en.wikipedia.org/wiki/List_of_highest-grossing_films)\n",
      "2025-03-02 22:35:48 [scrapy.core.engine] DEBUG: Crawled (200) <GET https://en.wikipedia.org/wiki/Shang-Chi_and_the_Legend_of_the_Ten_Rings> (referer: https://en.wikipedia.org/wiki/List_of_highest-grossing_films)\n",
      "2025-03-02 22:35:48 [scrapy.pipelines.media] ERROR: [Failure instance: Traceback: <class 'scrapy.pipelines.files.FileException'>: \n",
      "/Library/Frameworks/Python.framework/Versions/3.13/lib/python3.13/site-packages/twisted/internet/defer.py:1088:_runCallbacks\n",
      "/Library/Frameworks/Python.framework/Versions/3.13/lib/python3.13/site-packages/scrapy/pipelines/files.py:627:media_failed\n",
      "]\n",
      "NoneType: None\n",
      "2025-03-02 22:35:48 [scrapy.pipelines.media] ERROR: [Failure instance: Traceback: <class 'scrapy.pipelines.files.FileException'>: \n",
      "/Library/Frameworks/Python.framework/Versions/3.13/lib/python3.13/site-packages/twisted/internet/defer.py:1088:_runCallbacks\n",
      "/Library/Frameworks/Python.framework/Versions/3.13/lib/python3.13/site-packages/scrapy/pipelines/files.py:627:media_failed\n",
      "]\n",
      "NoneType: None\n",
      "2025-03-02 22:35:48 [scrapy.pipelines.media] ERROR: [Failure instance: Traceback: <class 'scrapy.pipelines.files.FileException'>: \n",
      "/Library/Frameworks/Python.framework/Versions/3.13/lib/python3.13/site-packages/twisted/internet/defer.py:1088:_runCallbacks\n",
      "/Library/Frameworks/Python.framework/Versions/3.13/lib/python3.13/site-packages/scrapy/pipelines/files.py:627:media_failed\n",
      "]\n",
      "NoneType: None\n",
      "2025-03-02 22:35:48 [scrapy.pipelines.media] ERROR: [Failure instance: Traceback: <class 'scrapy.pipelines.files.FileException'>: \n",
      "/Library/Frameworks/Python.framework/Versions/3.13/lib/python3.13/site-packages/twisted/internet/defer.py:1088:_runCallbacks\n",
      "/Library/Frameworks/Python.framework/Versions/3.13/lib/python3.13/site-packages/scrapy/pipelines/files.py:627:media_failed\n",
      "]\n",
      "NoneType: None\n",
      "2025-03-02 22:35:48 [scrapy.pipelines.media] ERROR: [Failure instance: Traceback: <class 'scrapy.pipelines.files.FileException'>: \n",
      "/Library/Frameworks/Python.framework/Versions/3.13/lib/python3.13/site-packages/twisted/internet/defer.py:1088:_runCallbacks\n",
      "/Library/Frameworks/Python.framework/Versions/3.13/lib/python3.13/site-packages/scrapy/pipelines/files.py:627:media_failed\n",
      "]\n",
      "NoneType: None\n",
      "2025-03-02 22:35:48 [scrapy.pipelines.media] ERROR: [Failure instance: Traceback: <class 'scrapy.pipelines.files.FileException'>: \n",
      "/Library/Frameworks/Python.framework/Versions/3.13/lib/python3.13/site-packages/twisted/internet/defer.py:1088:_runCallbacks\n",
      "/Library/Frameworks/Python.framework/Versions/3.13/lib/python3.13/site-packages/scrapy/pipelines/files.py:627:media_failed\n",
      "]\n",
      "NoneType: None\n"
     ]
    },
    {
     "name": "stdout",
     "output_type": "stream",
     "text": [
      "saved in images/Madame_Web/Madame_Web.jpg\n",
      "erroe: \n"
     ]
    },
    {
     "name": "stderr",
     "output_type": "stream",
     "text": [
      "2025-03-02 22:35:48 [scrapy.pipelines.media] ERROR: [Failure instance: Traceback: <class 'scrapy.pipelines.files.FileException'>: \n",
      "/Library/Frameworks/Python.framework/Versions/3.13/lib/python3.13/site-packages/twisted/internet/defer.py:1088:_runCallbacks\n",
      "/Library/Frameworks/Python.framework/Versions/3.13/lib/python3.13/site-packages/scrapy/pipelines/files.py:627:media_failed\n",
      "]\n",
      "NoneType: None\n",
      "2025-03-02 22:35:48 [scrapy.pipelines.media] ERROR: [Failure instance: Traceback: <class 'scrapy.pipelines.files.FileException'>: \n",
      "/Library/Frameworks/Python.framework/Versions/3.13/lib/python3.13/site-packages/twisted/internet/defer.py:1088:_runCallbacks\n",
      "/Library/Frameworks/Python.framework/Versions/3.13/lib/python3.13/site-packages/scrapy/pipelines/files.py:627:media_failed\n",
      "]\n",
      "NoneType: None\n",
      "2025-03-02 22:35:48 [urllib3.connectionpool] DEBUG: Starting new HTTPS connection (1): upload.wikimedia.org:443\n",
      "2025-03-02 22:35:48 [urllib3.connectionpool] DEBUG: https://upload.wikimedia.org:443 \"GET /wikipedia/en/thumb/a/a7/Venom_Let_There_Be_Carnage_poster.jpg/220px-Venom_Let_There_Be_Carnage_poster.jpg HTTP/1.1\" 403 2184\n",
      "2025-03-02 22:35:48 [urllib3.connectionpool] DEBUG: Starting new HTTPS connection (1): upload.wikimedia.org:443\n"
     ]
    },
    {
     "name": "stdout",
     "output_type": "stream",
     "text": [
      "error: 403\n"
     ]
    },
    {
     "name": "stderr",
     "output_type": "stream",
     "text": [
      "2025-03-02 22:35:49 [urllib3.connectionpool] DEBUG: https://upload.wikimedia.org:443 \"GET /wikipedia/en/thumb/e/e0/The_Amazing_Spider-Man_%28film%29_poster.jpg/220px-The_Amazing_Spider-Man_%28film%29_poster.jpg HTTP/1.1\" 403 2184\n",
      "2025-03-02 22:35:49 [urllib3.connectionpool] DEBUG: Starting new HTTPS connection (1): upload.wikimedia.org:443\n"
     ]
    },
    {
     "name": "stdout",
     "output_type": "stream",
     "text": [
      "error: 403\n"
     ]
    },
    {
     "name": "stderr",
     "output_type": "stream",
     "text": [
      "2025-03-02 22:35:49 [urllib3.connectionpool] DEBUG: https://upload.wikimedia.org:443 \"GET /wikipedia/en/thumb/2/2f/Morbius_%28film%29_poster.jpg/220px-Morbius_%28film%29_poster.jpg HTTP/1.1\" 200 17968\n",
      "2025-03-02 22:35:49 [urllib3.connectionpool] DEBUG: Starting new HTTPS connection (1): upload.wikimedia.org:443\n"
     ]
    },
    {
     "name": "stdout",
     "output_type": "stream",
     "text": [
      "saved in images/Morbius/Morbius.jpg\n",
      "erroe: \n"
     ]
    },
    {
     "name": "stderr",
     "output_type": "stream",
     "text": [
      "2025-03-02 22:35:49 [urllib3.connectionpool] DEBUG: https://upload.wikimedia.org:443 \"GET /wikipedia/en/thumb/1/10/Venom_%282018_film%29_poster.png/220px-Venom_%282018_film%29_poster.png HTTP/1.1\" 200 139706\n",
      "2025-03-02 22:35:50 [urllib3.connectionpool] DEBUG: Starting new HTTPS connection (1): upload.wikimedia.org:443\n"
     ]
    },
    {
     "name": "stdout",
     "output_type": "stream",
     "text": [
      "saved in images/Venom/Venom.png\n",
      "erroe: \n"
     ]
    },
    {
     "name": "stderr",
     "output_type": "stream",
     "text": [
      "2025-03-02 22:35:50 [urllib3.connectionpool] DEBUG: https://upload.wikimedia.org:443 \"GET /wikipedia/en/thumb/4/4e/Spider-Man_2_poster.jpg/220px-Spider-Man_2_poster.jpg HTTP/1.1\" 200 30665\n",
      "2025-03-02 22:35:50 [urllib3.connectionpool] DEBUG: Starting new HTTPS connection (1): upload.wikimedia.org:443\n"
     ]
    },
    {
     "name": "stdout",
     "output_type": "stream",
     "text": [
      "saved in images/Spider-Man_2/Spider-Man_2.jpg\n",
      "erroe: \n"
     ]
    },
    {
     "name": "stderr",
     "output_type": "stream",
     "text": [
      "2025-03-02 22:35:50 [urllib3.connectionpool] DEBUG: https://upload.wikimedia.org:443 \"GET /wikipedia/en/thumb/6/6c/Spider-Man_%282002_film%29_poster.jpg/220px-Spider-Man_%282002_film%29_poster.jpg HTTP/1.1\" 200 31793\n",
      "2025-03-02 22:35:50 [urllib3.connectionpool] DEBUG: Starting new HTTPS connection (1): upload.wikimedia.org:443\n"
     ]
    },
    {
     "name": "stdout",
     "output_type": "stream",
     "text": [
      "saved in images/Spider-Man/Spider-Man.jpg\n",
      "erroe: \n"
     ]
    },
    {
     "name": "stderr",
     "output_type": "stream",
     "text": [
      "2025-03-02 22:35:51 [urllib3.connectionpool] DEBUG: https://upload.wikimedia.org:443 \"GET /wikipedia/en/thumb/7/7a/Spider-Man_3%2C_International_Poster.jpg/220px-Spider-Man_3%2C_International_Poster.jpg HTTP/1.1\" 200 27920\n",
      "2025-03-02 22:35:51 [scrapy.core.scraper] DEBUG: Scraped from <200 https://en.wikipedia.org/wiki/Venom:_Let_There_Be_Carnage>\n",
      "{'box_office': 506800000.0,\n",
      " 'countries': ['United States'],\n",
      " 'directors': ['Andy Serkis'],\n",
      " 'image_urls': ['https://upload.wikimedia.org/wikipedia/en/thumb/a/a7/Venom_Let_There_Be_Carnage_poster.jpg/220px-Venom_Let_There_Be_Carnage_poster.jpg'],\n",
      " 'images': [],\n",
      " 'title': 'Venom: Let There Be Carnage',\n",
      " 'year': 2021}\n",
      "2025-03-02 22:35:51 [urllib3.connectionpool] DEBUG: Starting new HTTPS connection (1): upload.wikimedia.org:443\n"
     ]
    },
    {
     "name": "stdout",
     "output_type": "stream",
     "text": [
      "saved in images/Spider-Man_3/Spider-Man_3.jpg\n",
      "erroe: \n"
     ]
    },
    {
     "name": "stderr",
     "output_type": "stream",
     "text": [
      "2025-03-02 22:35:51 [urllib3.connectionpool] DEBUG: https://upload.wikimedia.org:443 \"GET /wikipedia/en/thumb/7/7a/The_Marvels_poster.jpg/220px-The_Marvels_poster.jpg HTTP/1.1\" 200 31308\n",
      "2025-03-02 22:35:51 [scrapy.core.scraper] DEBUG: Scraped from <200 https://en.wikipedia.org/wiki/The_Amazing_Spider-Man_(film)>\n",
      "{'box_office': 758700000.0,\n",
      " 'countries': ['United States'],\n",
      " 'directors': ['Marc Webb'],\n",
      " 'image_urls': ['https://upload.wikimedia.org/wikipedia/en/thumb/e/e0/The_Amazing_Spider-Man_%28film%29_poster.jpg/220px-The_Amazing_Spider-Man_%28film%29_poster.jpg'],\n",
      " 'images': [],\n",
      " 'title': 'The Amazing Spider-Man',\n",
      " 'year': 2012}\n",
      "2025-03-02 22:35:51 [scrapy.core.scraper] DEBUG: Scraped from <200 https://en.wikipedia.org/wiki/Morbius_(film)>\n",
      "{'box_office': 167500000.0,\n",
      " 'countries': ['United States'],\n",
      " 'directors': ['Daniel Espinosa'],\n",
      " 'image_urls': ['https://upload.wikimedia.org/wikipedia/en/thumb/2/2f/Morbius_%28film%29_poster.jpg/220px-Morbius_%28film%29_poster.jpg'],\n",
      " 'images': [],\n",
      " 'title': 'Morbius',\n",
      " 'year': 2022}\n",
      "2025-03-02 22:35:51 [scrapy.core.scraper] DEBUG: Scraped from <200 https://en.wikipedia.org/wiki/Venom_(2018_film)>\n",
      "{'box_office': 856100000.0,\n",
      " 'countries': ['United States', 'China'],\n",
      " 'directors': ['Ruben Fleischer'],\n",
      " 'image_urls': ['https://upload.wikimedia.org/wikipedia/en/thumb/1/10/Venom_%282018_film%29_poster.png/220px-Venom_%282018_film%29_poster.png'],\n",
      " 'images': [],\n",
      " 'title': 'Venom',\n",
      " 'year': 2018}\n",
      "2025-03-02 22:35:51 [scrapy.core.scraper] DEBUG: Scraped from <200 https://en.wikipedia.org/wiki/Spider-Man_2>\n",
      "{'box_office': 795900000.0,\n",
      " 'countries': ['United States'],\n",
      " 'directors': ['Sam Raimi'],\n",
      " 'image_urls': ['https://upload.wikimedia.org/wikipedia/en/thumb/4/4e/Spider-Man_2_poster.jpg/220px-Spider-Man_2_poster.jpg'],\n",
      " 'images': [],\n",
      " 'title': 'Spider-Man 2',\n",
      " 'year': 2004}\n",
      "2025-03-02 22:35:51 [scrapy.core.scraper] DEBUG: Scraped from <200 https://en.wikipedia.org/wiki/Spider-Man_(2002_film)>\n",
      "{'box_office': 825800000.0,\n",
      " 'countries': ['United States'],\n",
      " 'directors': ['Sam Raimi'],\n",
      " 'image_urls': ['https://upload.wikimedia.org/wikipedia/en/thumb/6/6c/Spider-Man_%282002_film%29_poster.jpg/220px-Spider-Man_%282002_film%29_poster.jpg'],\n",
      " 'images': [],\n",
      " 'title': 'Spider-Man',\n",
      " 'year': 2002}\n",
      "2025-03-02 22:35:51 [scrapy.core.scraper] DEBUG: Scraped from <200 https://en.wikipedia.org/wiki/Spider-Man_3>\n",
      "{'box_office': 891600000.0,\n",
      " 'countries': ['United States'],\n",
      " 'directors': ['Sam Raimi'],\n",
      " 'image_urls': ['https://upload.wikimedia.org/wikipedia/en/thumb/7/7a/Spider-Man_3%2C_International_Poster.jpg/220px-Spider-Man_3%2C_International_Poster.jpg'],\n",
      " 'images': [],\n",
      " 'title': 'Spider-Man 3',\n",
      " 'year': 2007}\n",
      "2025-03-02 22:35:51 [scrapy.core.scraper] DEBUG: Scraped from <200 https://en.wikipedia.org/wiki/The_Marvels>\n",
      "{'box_office': 206100000.0,\n",
      " 'countries': ['United States'],\n",
      " 'directors': ['Nia DaCosta'],\n",
      " 'image_urls': ['https://upload.wikimedia.org/wikipedia/en/thumb/7/7a/The_Marvels_poster.jpg/220px-The_Marvels_poster.jpg'],\n",
      " 'images': [],\n",
      " 'title': 'The Marvels',\n",
      " 'year': 2023}\n",
      "2025-03-02 22:35:51 [scrapy.pipelines.media] ERROR: [Failure instance: Traceback: <class 'scrapy.pipelines.files.FileException'>: \n",
      "/Library/Frameworks/Python.framework/Versions/3.13/lib/python3.13/site-packages/twisted/internet/defer.py:1088:_runCallbacks\n",
      "/Library/Frameworks/Python.framework/Versions/3.13/lib/python3.13/site-packages/scrapy/pipelines/files.py:627:media_failed\n",
      "]\n",
      "NoneType: None\n",
      "2025-03-02 22:35:51 [scrapy.pipelines.media] ERROR: [Failure instance: Traceback: <class 'scrapy.pipelines.files.FileException'>: \n",
      "/Library/Frameworks/Python.framework/Versions/3.13/lib/python3.13/site-packages/twisted/internet/defer.py:1088:_runCallbacks\n",
      "/Library/Frameworks/Python.framework/Versions/3.13/lib/python3.13/site-packages/scrapy/pipelines/files.py:627:media_failed\n",
      "]\n",
      "NoneType: None\n",
      "2025-03-02 22:35:51 [scrapy.pipelines.media] ERROR: [Failure instance: Traceback: <class 'scrapy.pipelines.files.FileException'>: \n",
      "/Library/Frameworks/Python.framework/Versions/3.13/lib/python3.13/site-packages/twisted/internet/defer.py:1088:_runCallbacks\n",
      "/Library/Frameworks/Python.framework/Versions/3.13/lib/python3.13/site-packages/scrapy/pipelines/files.py:627:media_failed\n",
      "]\n",
      "NoneType: None\n",
      "2025-03-02 22:35:51 [scrapy.pipelines.media] ERROR: [Failure instance: Traceback: <class 'scrapy.pipelines.files.FileException'>: \n",
      "/Library/Frameworks/Python.framework/Versions/3.13/lib/python3.13/site-packages/twisted/internet/defer.py:1088:_runCallbacks\n",
      "/Library/Frameworks/Python.framework/Versions/3.13/lib/python3.13/site-packages/scrapy/pipelines/files.py:627:media_failed\n",
      "]\n",
      "NoneType: None\n",
      "2025-03-02 22:35:51 [scrapy.pipelines.media] ERROR: [Failure instance: Traceback: <class 'scrapy.pipelines.files.FileException'>: \n",
      "/Library/Frameworks/Python.framework/Versions/3.13/lib/python3.13/site-packages/twisted/internet/defer.py:1088:_runCallbacks\n",
      "/Library/Frameworks/Python.framework/Versions/3.13/lib/python3.13/site-packages/scrapy/pipelines/files.py:627:media_failed\n",
      "]\n",
      "NoneType: None\n",
      "2025-03-02 22:35:51 [scrapy.pipelines.media] ERROR: [Failure instance: Traceback: <class 'scrapy.pipelines.files.FileException'>: \n",
      "/Library/Frameworks/Python.framework/Versions/3.13/lib/python3.13/site-packages/twisted/internet/defer.py:1088:_runCallbacks\n",
      "/Library/Frameworks/Python.framework/Versions/3.13/lib/python3.13/site-packages/scrapy/pipelines/files.py:627:media_failed\n",
      "]\n",
      "NoneType: None\n",
      "2025-03-02 22:35:51 [scrapy.pipelines.media] ERROR: [Failure instance: Traceback: <class 'scrapy.pipelines.files.FileException'>: \n",
      "/Library/Frameworks/Python.framework/Versions/3.13/lib/python3.13/site-packages/twisted/internet/defer.py:1088:_runCallbacks\n",
      "/Library/Frameworks/Python.framework/Versions/3.13/lib/python3.13/site-packages/scrapy/pipelines/files.py:627:media_failed\n",
      "]\n",
      "NoneType: None\n",
      "2025-03-02 22:35:51 [scrapy.pipelines.media] ERROR: [Failure instance: Traceback: <class 'scrapy.pipelines.files.FileException'>: \n",
      "/Library/Frameworks/Python.framework/Versions/3.13/lib/python3.13/site-packages/twisted/internet/defer.py:1088:_runCallbacks\n",
      "/Library/Frameworks/Python.framework/Versions/3.13/lib/python3.13/site-packages/scrapy/pipelines/files.py:627:media_failed\n",
      "]\n",
      "NoneType: None\n",
      "2025-03-02 22:35:51 [urllib3.connectionpool] DEBUG: Starting new HTTPS connection (1): upload.wikimedia.org:443\n"
     ]
    },
    {
     "name": "stdout",
     "output_type": "stream",
     "text": [
      "saved in images/The_Marvels/The_Marvels.jpg\n",
      "erroe: \n"
     ]
    },
    {
     "name": "stderr",
     "output_type": "stream",
     "text": [
      "2025-03-02 22:35:52 [urllib3.connectionpool] DEBUG: https://upload.wikimedia.org:443 \"GET /wikipedia/en/thumb/3/30/Ant-Man_and_the_Wasp_Quantumania_poster.jpg/220px-Ant-Man_and_the_Wasp_Quantumania_poster.jpg HTTP/1.1\" 200 39285\n",
      "2025-03-02 22:35:52 [urllib3.connectionpool] DEBUG: Starting new HTTPS connection (1): upload.wikimedia.org:443\n"
     ]
    },
    {
     "name": "stdout",
     "output_type": "stream",
     "text": [
      "saved in images/Ant-Man_and_the_Wasp:_Quantumania/Ant-Man_and_the_Wasp:_Quantumania.jpg\n",
      "erroe: \n"
     ]
    },
    {
     "name": "stderr",
     "output_type": "stream",
     "text": [
      "2025-03-02 22:35:52 [urllib3.connectionpool] DEBUG: https://upload.wikimedia.org:443 \"GET /wikipedia/en/thumb/a/a4/Captain_America_Brave_New_World_poster.jpg/220px-Captain_America_Brave_New_World_poster.jpg HTTP/1.1\" 200 36804\n",
      "2025-03-02 22:35:52 [urllib3.connectionpool] DEBUG: Starting new HTTPS connection (1): upload.wikimedia.org:443\n"
     ]
    },
    {
     "name": "stdout",
     "output_type": "stream",
     "text": [
      "saved in images/Captain_America:_Brave_New_World/Captain_America:_Brave_New_World.jpg\n",
      "erroe: \n"
     ]
    },
    {
     "name": "stderr",
     "output_type": "stream",
     "text": [
      "2025-03-02 22:35:53 [urllib3.connectionpool] DEBUG: https://upload.wikimedia.org:443 \"GET /wikipedia/en/thumb/4/4c/Deadpool_%26_Wolverine_poster.jpg/220px-Deadpool_%26_Wolverine_poster.jpg HTTP/1.1\" 200 33185\n",
      "2025-03-02 22:35:53 [urllib3.connectionpool] DEBUG: Starting new HTTPS connection (1): upload.wikimedia.org:443\n"
     ]
    },
    {
     "name": "stdout",
     "output_type": "stream",
     "text": [
      "saved in images/Deadpool_&_Wolverine/Deadpool_&_Wolverine.jpg\n",
      "erroe: \n"
     ]
    },
    {
     "name": "stderr",
     "output_type": "stream",
     "text": [
      "2025-03-02 22:35:53 [urllib3.connectionpool] DEBUG: https://upload.wikimedia.org:443 \"GET /wikipedia/en/thumb/7/74/Guardians_of_the_Galaxy_Vol._3_poster.jpg/220px-Guardians_of_the_Galaxy_Vol._3_poster.jpg HTTP/1.1\" 200 32725\n",
      "2025-03-02 22:35:53 [urllib3.connectionpool] DEBUG: Starting new HTTPS connection (1): upload.wikimedia.org:443\n"
     ]
    },
    {
     "name": "stdout",
     "output_type": "stream",
     "text": [
      "saved in images/Guardians_of_the_Galaxy_Vol._3/Guardians_of_the_Galaxy_Vol._3.jpg\n",
      "erroe: \n"
     ]
    },
    {
     "name": "stderr",
     "output_type": "stream",
     "text": [
      "2025-03-02 22:35:53 [urllib3.connectionpool] DEBUG: https://upload.wikimedia.org:443 \"GET /wikipedia/en/thumb/9/9b/Eternals_%28film%29_poster.jpeg/220px-Eternals_%28film%29_poster.jpeg HTTP/1.1\" 200 14769\n",
      "2025-03-02 22:35:53 [urllib3.connectionpool] DEBUG: Starting new HTTPS connection (1): upload.wikimedia.org:443\n"
     ]
    },
    {
     "name": "stdout",
     "output_type": "stream",
     "text": [
      "saved in images/Eternals/Eternals.jpeg\n",
      "erroe: \n"
     ]
    },
    {
     "name": "stderr",
     "output_type": "stream",
     "text": [
      "2025-03-02 22:35:54 [urllib3.connectionpool] DEBUG: https://upload.wikimedia.org:443 \"GET /wikipedia/en/thumb/8/88/Thor_Love_and_Thunder_poster.jpeg/220px-Thor_Love_and_Thunder_poster.jpeg HTTP/1.1\" 200 35794\n",
      "2025-03-02 22:35:54 [scrapy.core.scraper] DEBUG: Scraped from <200 https://en.wikipedia.org/wiki/Ant-Man_and_the_Wasp:_Quantumania>\n",
      "{'box_office': 476100000.0,\n",
      " 'countries': ['United States'],\n",
      " 'directors': ['Peyton Reed'],\n",
      " 'image_urls': ['https://upload.wikimedia.org/wikipedia/en/thumb/3/30/Ant-Man_and_the_Wasp_Quantumania_poster.jpg/220px-Ant-Man_and_the_Wasp_Quantumania_poster.jpg'],\n",
      " 'images': [],\n",
      " 'title': 'Ant-Man and the Wasp: Quantumania',\n",
      " 'year': 2023}\n",
      "2025-03-02 22:35:54 [urllib3.connectionpool] DEBUG: Starting new HTTPS connection (1): upload.wikimedia.org:443\n"
     ]
    },
    {
     "name": "stdout",
     "output_type": "stream",
     "text": [
      "saved in images/Thor:_Love_and_Thunder/Thor:_Love_and_Thunder.jpeg\n",
      "erroe: \n"
     ]
    },
    {
     "name": "stderr",
     "output_type": "stream",
     "text": [
      "2025-03-02 22:35:54 [urllib3.connectionpool] DEBUG: https://upload.wikimedia.org:443 \"GET /wikipedia/en/thumb/e/e9/Black_Widow_%282021_film%29_poster.jpg/220px-Black_Widow_%282021_film%29_poster.jpg HTTP/1.1\" 200 39337\n",
      "2025-03-02 22:35:54 [scrapy.core.scraper] DEBUG: Scraped from <200 https://en.wikipedia.org/wiki/Captain_America:_Brave_New_World>\n",
      "{'box_office': 341700000.0,\n",
      " 'countries': ['United States'],\n",
      " 'directors': ['Julius Onah'],\n",
      " 'image_urls': ['https://upload.wikimedia.org/wikipedia/en/thumb/a/a4/Captain_America_Brave_New_World_poster.jpg/220px-Captain_America_Brave_New_World_poster.jpg'],\n",
      " 'images': [],\n",
      " 'title': 'Captain America: Brave New World',\n",
      " 'year': 2025}\n",
      "2025-03-02 22:35:54 [urllib3.connectionpool] DEBUG: Starting new HTTPS connection (1): upload.wikimedia.org:443\n"
     ]
    },
    {
     "name": "stdout",
     "output_type": "stream",
     "text": [
      "saved in images/Black_Widow/Black_Widow.jpg\n",
      "erroe: \n"
     ]
    },
    {
     "name": "stderr",
     "output_type": "stream",
     "text": [
      "2025-03-02 22:35:55 [urllib3.connectionpool] DEBUG: https://upload.wikimedia.org:443 \"GET /wikipedia/en/thumb/7/74/Shang-Chi_and_the_Legend_of_the_Ten_Rings_poster.jpeg/220px-Shang-Chi_and_the_Legend_of_the_Ten_Rings_poster.jpeg HTTP/1.1\" 200 32213\n",
      "2025-03-02 22:35:55 [scrapy.core.scraper] DEBUG: Scraped from <200 https://en.wikipedia.org/wiki/Deadpool_%26_Wolverine>\n",
      "{'box_office': 1338000000.0,\n",
      " 'countries': ['United States'],\n",
      " 'directors': ['Shawn Levy'],\n",
      " 'image_urls': ['https://upload.wikimedia.org/wikipedia/en/thumb/4/4c/Deadpool_%26_Wolverine_poster.jpg/220px-Deadpool_%26_Wolverine_poster.jpg'],\n",
      " 'images': [],\n",
      " 'title': 'Deadpool & Wolverine',\n",
      " 'year': 2024}\n",
      "2025-03-02 22:35:55 [scrapy.core.scraper] DEBUG: Scraped from <200 https://en.wikipedia.org/wiki/Guardians_of_the_Galaxy_Vol._3>\n",
      "{'box_office': 845600000.0,\n",
      " 'countries': ['United States'],\n",
      " 'directors': ['James Gunn'],\n",
      " 'image_urls': ['https://upload.wikimedia.org/wikipedia/en/thumb/7/74/Guardians_of_the_Galaxy_Vol._3_poster.jpg/220px-Guardians_of_the_Galaxy_Vol._3_poster.jpg'],\n",
      " 'images': [],\n",
      " 'title': 'Guardians of the Galaxy Vol. 3',\n",
      " 'year': 2023}\n",
      "2025-03-02 22:35:55 [scrapy.core.scraper] DEBUG: Scraped from <200 https://en.wikipedia.org/wiki/Eternals_(film)>\n",
      "{'box_office': 402100000.0,\n",
      " 'countries': ['United States'],\n",
      " 'directors': ['Chloé Zhao'],\n",
      " 'image_urls': ['https://upload.wikimedia.org/wikipedia/en/thumb/9/9b/Eternals_%28film%29_poster.jpeg/220px-Eternals_%28film%29_poster.jpeg'],\n",
      " 'images': [],\n",
      " 'title': 'Eternals',\n",
      " 'year': 2021}\n",
      "2025-03-02 22:35:55 [scrapy.core.scraper] DEBUG: Scraped from <200 https://en.wikipedia.org/wiki/Thor:_Love_and_Thunder>\n",
      "{'box_office': 760900000.0,\n",
      " 'countries': ['United States'],\n",
      " 'directors': ['Taika Waititi'],\n",
      " 'image_urls': ['https://upload.wikimedia.org/wikipedia/en/thumb/8/88/Thor_Love_and_Thunder_poster.jpeg/220px-Thor_Love_and_Thunder_poster.jpeg'],\n",
      " 'images': [],\n",
      " 'title': 'Thor: Love and Thunder',\n",
      " 'year': 2022}\n",
      "2025-03-02 22:35:55 [scrapy.core.scraper] DEBUG: Scraped from <200 https://en.wikipedia.org/wiki/Black_Widow_(2021_film)>\n",
      "{'box_office': 379800000.0,\n",
      " 'countries': ['United States'],\n",
      " 'directors': ['Cate Shortland'],\n",
      " 'image_urls': ['https://upload.wikimedia.org/wikipedia/en/thumb/e/e9/Black_Widow_%282021_film%29_poster.jpg/220px-Black_Widow_%282021_film%29_poster.jpg'],\n",
      " 'images': [],\n",
      " 'title': 'Black Widow',\n",
      " 'year': 2021}\n",
      "2025-03-02 22:35:55 [scrapy.core.scraper] DEBUG: Scraped from <200 https://en.wikipedia.org/wiki/Shang-Chi_and_the_Legend_of_the_Ten_Rings>\n",
      "{'box_office': 432200000.0,\n",
      " 'countries': ['United States'],\n",
      " 'directors': ['Destin Daniel Cretton'],\n",
      " 'image_urls': ['https://upload.wikimedia.org/wikipedia/en/thumb/7/74/Shang-Chi_and_the_Legend_of_the_Ten_Rings_poster.jpeg/220px-Shang-Chi_and_the_Legend_of_the_Ten_Rings_poster.jpeg'],\n",
      " 'images': [],\n",
      " 'title': 'Shang-Chi and the Legend',\n",
      " 'year': 2021}\n"
     ]
    },
    {
     "name": "stdout",
     "output_type": "stream",
     "text": [
      "saved in images/Shang-Chi_and_the_Legend/Shang-Chi_and_the_Legend.jpeg\n",
      "erroe: \n"
     ]
    },
    {
     "name": "stderr",
     "output_type": "stream",
     "text": [
      "2025-03-02 22:35:55 [scrapy.core.engine] DEBUG: Crawled (200) <GET https://en.wikipedia.org/wiki/Black_Panther:_Wakanda_Forever> (referer: https://en.wikipedia.org/wiki/List_of_highest-grossing_films)\n",
      "2025-03-02 22:35:55 [scrapy.core.engine] DEBUG: Crawled (200) <GET https://en.wikipedia.org/wiki/Doctor_Strange_in_the_Multiverse_of_Madness> (referer: https://en.wikipedia.org/wiki/List_of_highest-grossing_films)\n",
      "2025-03-02 22:35:55 [scrapy.core.engine] DEBUG: Crawled (200) <GET https://en.wikipedia.org/wiki/Iron_Man_(2008_film)> (referer: https://en.wikipedia.org/wiki/List_of_highest-grossing_films)\n",
      "2025-03-02 22:35:55 [scrapy.core.engine] DEBUG: Crawled (200) <GET https://en.wikipedia.org/wiki/Iron_Man_2> (referer: https://en.wikipedia.org/wiki/List_of_highest-grossing_films)\n",
      "2025-03-02 22:35:55 [scrapy.core.engine] DEBUG: Crawled (200) <GET https://en.wikipedia.org/wiki/Thor_(film)> (referer: https://en.wikipedia.org/wiki/List_of_highest-grossing_films)\n",
      "2025-03-02 22:35:55 [scrapy.core.engine] DEBUG: Crawled (200) <GET https://en.wikipedia.org/wiki/Captain_America:_The_First_Avenger> (referer: https://en.wikipedia.org/wiki/List_of_highest-grossing_films)\n",
      "2025-03-02 22:35:55 [scrapy.core.engine] DEBUG: Crawled (200) <GET https://en.wikipedia.org/wiki/Ant-Man_(film)> (referer: https://en.wikipedia.org/wiki/List_of_highest-grossing_films)\n",
      "2025-03-02 22:35:55 [scrapy.pipelines.media] ERROR: [Failure instance: Traceback: <class 'scrapy.pipelines.files.FileException'>: \n",
      "/Library/Frameworks/Python.framework/Versions/3.13/lib/python3.13/site-packages/twisted/internet/defer.py:1088:_runCallbacks\n",
      "/Library/Frameworks/Python.framework/Versions/3.13/lib/python3.13/site-packages/scrapy/pipelines/files.py:627:media_failed\n",
      "]\n",
      "NoneType: None\n",
      "2025-03-02 22:35:55 [scrapy.core.engine] DEBUG: Crawled (200) <GET https://en.wikipedia.org/wiki/The_Incredible_Hulk_(film)> (referer: https://en.wikipedia.org/wiki/List_of_highest-grossing_films)\n",
      "2025-03-02 22:35:55 [urllib3.connectionpool] DEBUG: Starting new HTTPS connection (1): upload.wikimedia.org:443\n",
      "2025-03-02 22:35:55 [urllib3.connectionpool] DEBUG: https://upload.wikimedia.org:443 \"GET /wikipedia/en/thumb/3/3b/Black_Panther_Wakanda_Forever_poster.jpg/220px-Black_Panther_Wakanda_Forever_poster.jpg HTTP/1.1\" 200 29412\n",
      "2025-03-02 22:35:55 [scrapy.core.engine] DEBUG: Crawled (200) <GET https://en.wikipedia.org/wiki/Thor:_The_Dark_World> (referer: https://en.wikipedia.org/wiki/List_of_highest-grossing_films)\n",
      "2025-03-02 22:35:55 [scrapy.core.engine] DEBUG: Crawled (200) <GET https://en.wikipedia.org/wiki/Captain_America:_The_Winter_Soldier> (referer: https://en.wikipedia.org/wiki/List_of_highest-grossing_films)\n",
      "2025-03-02 22:35:55 [scrapy.core.engine] DEBUG: Crawled (200) <GET https://en.wikipedia.org/wiki/Iron_Man_3> (referer: https://en.wikipedia.org/wiki/List_of_highest-grossing_films)\n",
      "2025-03-02 22:35:55 [scrapy.core.engine] DEBUG: Crawled (200) <GET https://en.wikipedia.org/wiki/Ant-Man_and_the_Wasp> (referer: https://en.wikipedia.org/wiki/List_of_highest-grossing_films)\n",
      "2025-03-02 22:35:55 [scrapy.core.scraper] DEBUG: Scraped from <200 https://en.wikipedia.org/wiki/Black_Panther:_Wakanda_Forever>\n",
      "{'box_office': 859200000.0,\n",
      " 'countries': ['United States'],\n",
      " 'directors': ['Ryan Coogler'],\n",
      " 'image_urls': ['https://upload.wikimedia.org/wikipedia/en/thumb/3/3b/Black_Panther_Wakanda_Forever_poster.jpg/220px-Black_Panther_Wakanda_Forever_poster.jpg'],\n",
      " 'images': [],\n",
      " 'title': 'Black Panther: Wakanda Forever',\n",
      " 'year': 2022}\n",
      "2025-03-02 22:35:55 [scrapy.core.engine] DEBUG: Crawled (200) <GET https://en.wikipedia.org/wiki/Guardians_of_the_Galaxy_(film)> (referer: https://en.wikipedia.org/wiki/List_of_highest-grossing_films)\n",
      "2025-03-02 22:35:55 [scrapy.core.engine] DEBUG: Crawled (200) <GET https://en.wikipedia.org/wiki/Doctor_Strange_(2016_film)> (referer: https://en.wikipedia.org/wiki/List_of_highest-grossing_films)\n",
      "2025-03-02 22:35:55 [scrapy.core.engine] DEBUG: Crawled (200) <GET https://en.wikipedia.org/wiki/Avengers:_Age_of_Ultron> (referer: https://en.wikipedia.org/wiki/List_of_highest-grossing_films)\n",
      "2025-03-02 22:35:56 [scrapy.pipelines.media] ERROR: [Failure instance: Traceback: <class 'scrapy.pipelines.files.FileException'>: \n",
      "/Library/Frameworks/Python.framework/Versions/3.13/lib/python3.13/site-packages/twisted/internet/defer.py:1088:_runCallbacks\n",
      "/Library/Frameworks/Python.framework/Versions/3.13/lib/python3.13/site-packages/scrapy/pipelines/files.py:627:media_failed\n",
      "]\n",
      "NoneType: None\n",
      "2025-03-02 22:35:56 [scrapy.pipelines.media] ERROR: [Failure instance: Traceback: <class 'scrapy.pipelines.files.FileException'>: \n",
      "/Library/Frameworks/Python.framework/Versions/3.13/lib/python3.13/site-packages/twisted/internet/defer.py:1088:_runCallbacks\n",
      "/Library/Frameworks/Python.framework/Versions/3.13/lib/python3.13/site-packages/scrapy/pipelines/files.py:627:media_failed\n",
      "]\n",
      "NoneType: None\n",
      "2025-03-02 22:35:56 [scrapy.pipelines.media] ERROR: [Failure instance: Traceback: <class 'scrapy.pipelines.files.FileException'>: \n",
      "/Library/Frameworks/Python.framework/Versions/3.13/lib/python3.13/site-packages/twisted/internet/defer.py:1088:_runCallbacks\n",
      "/Library/Frameworks/Python.framework/Versions/3.13/lib/python3.13/site-packages/scrapy/pipelines/files.py:627:media_failed\n",
      "]\n",
      "NoneType: None\n",
      "2025-03-02 22:35:56 [scrapy.pipelines.media] ERROR: [Failure instance: Traceback: <class 'scrapy.pipelines.files.FileException'>: \n",
      "/Library/Frameworks/Python.framework/Versions/3.13/lib/python3.13/site-packages/twisted/internet/defer.py:1088:_runCallbacks\n",
      "/Library/Frameworks/Python.framework/Versions/3.13/lib/python3.13/site-packages/scrapy/pipelines/files.py:627:media_failed\n",
      "]\n",
      "NoneType: None\n",
      "2025-03-02 22:35:56 [scrapy.pipelines.media] ERROR: [Failure instance: Traceback: <class 'scrapy.pipelines.files.FileException'>: \n",
      "/Library/Frameworks/Python.framework/Versions/3.13/lib/python3.13/site-packages/twisted/internet/defer.py:1088:_runCallbacks\n",
      "/Library/Frameworks/Python.framework/Versions/3.13/lib/python3.13/site-packages/scrapy/pipelines/files.py:627:media_failed\n",
      "]\n",
      "NoneType: None\n",
      "2025-03-02 22:35:56 [scrapy.pipelines.media] ERROR: [Failure instance: Traceback: <class 'scrapy.pipelines.files.FileException'>: \n",
      "/Library/Frameworks/Python.framework/Versions/3.13/lib/python3.13/site-packages/twisted/internet/defer.py:1088:_runCallbacks\n",
      "/Library/Frameworks/Python.framework/Versions/3.13/lib/python3.13/site-packages/scrapy/pipelines/files.py:627:media_failed\n",
      "]\n",
      "NoneType: None\n"
     ]
    },
    {
     "name": "stdout",
     "output_type": "stream",
     "text": [
      "saved in images/Black_Panther:_Wakanda_Forever/Black_Panther:_Wakanda_Forever.jpg\n",
      "erroe: \n"
     ]
    },
    {
     "name": "stderr",
     "output_type": "stream",
     "text": [
      "2025-03-02 22:35:56 [scrapy.pipelines.media] ERROR: [Failure instance: Traceback: <class 'scrapy.pipelines.files.FileException'>: \n",
      "/Library/Frameworks/Python.framework/Versions/3.13/lib/python3.13/site-packages/twisted/internet/defer.py:1088:_runCallbacks\n",
      "/Library/Frameworks/Python.framework/Versions/3.13/lib/python3.13/site-packages/scrapy/pipelines/files.py:627:media_failed\n",
      "]\n",
      "NoneType: None\n",
      "2025-03-02 22:35:56 [urllib3.connectionpool] DEBUG: Starting new HTTPS connection (1): upload.wikimedia.org:443\n",
      "2025-03-02 22:35:56 [urllib3.connectionpool] DEBUG: https://upload.wikimedia.org:443 \"GET /wikipedia/en/thumb/1/17/Doctor_Strange_in_the_Multiverse_of_Madness_poster.jpg/220px-Doctor_Strange_in_the_Multiverse_of_Madness_poster.jpg HTTP/1.1\" 200 31987\n",
      "2025-03-02 22:35:56 [urllib3.connectionpool] DEBUG: Starting new HTTPS connection (1): upload.wikimedia.org:443\n"
     ]
    },
    {
     "name": "stdout",
     "output_type": "stream",
     "text": [
      "saved in images/Doctor_Strange_in_the/Doctor_Strange_in_the.jpg\n",
      "erroe: \n"
     ]
    },
    {
     "name": "stderr",
     "output_type": "stream",
     "text": [
      "2025-03-02 22:35:56 [urllib3.connectionpool] DEBUG: https://upload.wikimedia.org:443 \"GET /wikipedia/en/0/02/Iron_Man_%282008_film%29_poster.jpg HTTP/1.1\" 200 96107\n",
      "2025-03-02 22:35:56 [urllib3.connectionpool] DEBUG: Starting new HTTPS connection (1): upload.wikimedia.org:443\n"
     ]
    },
    {
     "name": "stdout",
     "output_type": "stream",
     "text": [
      "saved in images/Iron_Man/Iron_Man.jpg\n",
      "erroe: \n"
     ]
    },
    {
     "name": "stderr",
     "output_type": "stream",
     "text": [
      "2025-03-02 22:35:57 [urllib3.connectionpool] DEBUG: https://upload.wikimedia.org:443 \"GET /wikipedia/en/e/ed/Iron_Man_2_poster.jpg HTTP/1.1\" 200 115693\n",
      "2025-03-02 22:35:57 [urllib3.connectionpool] DEBUG: Starting new HTTPS connection (1): upload.wikimedia.org:443\n"
     ]
    },
    {
     "name": "stdout",
     "output_type": "stream",
     "text": [
      "saved in images/Iron_Man_2/Iron_Man_2.jpg\n",
      "erroe: \n"
     ]
    },
    {
     "name": "stderr",
     "output_type": "stream",
     "text": [
      "2025-03-02 22:35:57 [urllib3.connectionpool] DEBUG: https://upload.wikimedia.org:443 \"GET /wikipedia/en/9/95/Thor_%28film%29_poster.jpg HTTP/1.1\" 200 100307\n"
     ]
    },
    {
     "name": "stdout",
     "output_type": "stream",
     "text": [
      "saved in images/Thor/Thor.jpg\n",
      "erroe: \n"
     ]
    },
    {
     "name": "stderr",
     "output_type": "stream",
     "text": [
      "2025-03-02 22:35:58 [urllib3.connectionpool] DEBUG: Starting new HTTPS connection (1): upload.wikimedia.org:443\n",
      "2025-03-02 22:35:58 [urllib3.connectionpool] DEBUG: https://upload.wikimedia.org:443 \"GET /wikipedia/en/3/37/Captain_America_The_First_Avenger_poster.jpg HTTP/1.1\" 200 125773\n"
     ]
    },
    {
     "name": "stdout",
     "output_type": "stream",
     "text": [
      "saved in images/Captain_America:_/Captain_America:_.jpg\n",
      "erroe: \n"
     ]
    },
    {
     "name": "stderr",
     "output_type": "stream",
     "text": [
      "2025-03-02 22:35:58 [urllib3.connectionpool] DEBUG: Starting new HTTPS connection (1): upload.wikimedia.org:443\n",
      "2025-03-02 22:35:59 [urllib3.connectionpool] DEBUG: https://upload.wikimedia.org:443 \"GET /wikipedia/en/1/12/Ant-Man_%28film%29_poster.jpg HTTP/1.1\" 200 115230\n",
      "2025-03-02 22:35:59 [urllib3.connectionpool] DEBUG: Starting new HTTPS connection (1): upload.wikimedia.org:443\n"
     ]
    },
    {
     "name": "stdout",
     "output_type": "stream",
     "text": [
      "saved in images/Ant-Man/Ant-Man.jpg\n",
      "erroe: \n"
     ]
    },
    {
     "name": "stderr",
     "output_type": "stream",
     "text": [
      "2025-03-02 22:35:59 [urllib3.connectionpool] DEBUG: https://upload.wikimedia.org:443 \"GET /wikipedia/en/f/f0/The_Incredible_Hulk_%28film%29_poster.jpg HTTP/1.1\" 200 87133\n",
      "2025-03-02 22:35:59 [scrapy.core.scraper] DEBUG: Scraped from <200 https://en.wikipedia.org/wiki/Doctor_Strange_in_the_Multiverse_of_Madness>\n",
      "{'box_office': 955800000.0,\n",
      " 'countries': ['United States'],\n",
      " 'directors': ['Sam Raimi'],\n",
      " 'image_urls': ['https://upload.wikimedia.org/wikipedia/en/thumb/1/17/Doctor_Strange_in_the_Multiverse_of_Madness_poster.jpg/220px-Doctor_Strange_in_the_Multiverse_of_Madness_poster.jpg'],\n",
      " 'images': [],\n",
      " 'title': 'Doctor Strange in the',\n",
      " 'year': 2022}\n",
      "2025-03-02 22:35:59 [scrapy.core.scraper] DEBUG: Scraped from <200 https://en.wikipedia.org/wiki/Iron_Man_(2008_film)>\n",
      "{'box_office': 585800000.0,\n",
      " 'countries': ['United States'],\n",
      " 'directors': ['Jon Favreau'],\n",
      " 'image_urls': ['https://upload.wikimedia.org/wikipedia/en/0/02/Iron_Man_%282008_film%29_poster.jpg'],\n",
      " 'images': [],\n",
      " 'title': 'Iron Man',\n",
      " 'year': 2008}\n",
      "2025-03-02 22:35:59 [scrapy.core.scraper] DEBUG: Scraped from <200 https://en.wikipedia.org/wiki/Iron_Man_2>\n",
      "{'box_office': 623900000.0,\n",
      " 'countries': ['United States'],\n",
      " 'directors': ['Jon Favreau'],\n",
      " 'image_urls': ['https://upload.wikimedia.org/wikipedia/en/e/ed/Iron_Man_2_poster.jpg'],\n",
      " 'images': [],\n",
      " 'title': 'Iron Man 2',\n",
      " 'year': 2010}\n",
      "2025-03-02 22:35:59 [scrapy.core.scraper] DEBUG: Scraped from <200 https://en.wikipedia.org/wiki/Thor_(film)>\n",
      "{'box_office': 449300000.0,\n",
      " 'countries': ['United States'],\n",
      " 'directors': ['Kenneth Branagh'],\n",
      " 'image_urls': ['https://upload.wikimedia.org/wikipedia/en/9/95/Thor_%28film%29_poster.jpg'],\n",
      " 'images': [],\n",
      " 'title': 'Thor',\n",
      " 'year': 2011}\n",
      "2025-03-02 22:35:59 [scrapy.core.scraper] DEBUG: Scraped from <200 https://en.wikipedia.org/wiki/Captain_America:_The_First_Avenger>\n",
      "{'box_office': 370600000.0,\n",
      " 'countries': ['United States'],\n",
      " 'directors': ['Joe Johnston'],\n",
      " 'image_urls': ['https://upload.wikimedia.org/wikipedia/en/3/37/Captain_America_The_First_Avenger_poster.jpg'],\n",
      " 'images': [],\n",
      " 'title': 'Captain America: ',\n",
      " 'year': 2011}\n",
      "2025-03-02 22:35:59 [scrapy.core.scraper] DEBUG: Scraped from <200 https://en.wikipedia.org/wiki/Ant-Man_(film)>\n",
      "{'box_office': 519299999.99999994,\n",
      " 'countries': ['United States'],\n",
      " 'directors': ['Peyton Reed'],\n",
      " 'image_urls': ['https://upload.wikimedia.org/wikipedia/en/1/12/Ant-Man_%28film%29_poster.jpg'],\n",
      " 'images': [],\n",
      " 'title': 'Ant-Man',\n",
      " 'year': 2015}\n",
      "2025-03-02 22:35:59 [scrapy.core.scraper] DEBUG: Scraped from <200 https://en.wikipedia.org/wiki/The_Incredible_Hulk_(film)>\n",
      "{'box_office': 265500000.0,\n",
      " 'countries': ['United States'],\n",
      " 'directors': ['Louis Leterrier'],\n",
      " 'image_urls': ['https://upload.wikimedia.org/wikipedia/en/f/f0/The_Incredible_Hulk_%28film%29_poster.jpg'],\n",
      " 'images': [],\n",
      " 'title': 'The Incredible Hulk',\n",
      " 'year': 2008}\n",
      "2025-03-02 22:35:59 [scrapy.core.engine] DEBUG: Crawled (200) <GET https://en.wikipedia.org/wiki/Thor:_Ragnarok> (referer: https://en.wikipedia.org/wiki/List_of_highest-grossing_films)\n",
      "2025-03-02 22:35:59 [scrapy.core.engine] DEBUG: Crawled (200) <GET https://en.wikipedia.org/wiki/Spider-Man:_Homecoming> (referer: https://en.wikipedia.org/wiki/List_of_highest-grossing_films)\n",
      "2025-03-02 22:35:59 [scrapy.core.engine] DEBUG: Crawled (200) <GET https://en.wikipedia.org/wiki/Spider-Man:_Far_From_Home> (referer: https://en.wikipedia.org/wiki/List_of_highest-grossing_films)\n",
      "2025-03-02 22:35:59 [scrapy.core.engine] DEBUG: Crawled (200) <GET https://en.wikipedia.org/wiki/Captain_Marvel_(film)> (referer: https://en.wikipedia.org/wiki/List_of_highest-grossing_films)\n",
      "2025-03-02 22:35:59 [scrapy.core.engine] DEBUG: Crawled (200) <GET https://en.wikipedia.org/wiki/Inside_Out_2> (referer: https://en.wikipedia.org/wiki/List_of_highest-grossing_films)\n",
      "2025-03-02 22:35:59 [scrapy.pipelines.media] ERROR: [Failure instance: Traceback: <class 'scrapy.pipelines.files.FileException'>: \n",
      "/Library/Frameworks/Python.framework/Versions/3.13/lib/python3.13/site-packages/twisted/internet/defer.py:1088:_runCallbacks\n",
      "/Library/Frameworks/Python.framework/Versions/3.13/lib/python3.13/site-packages/scrapy/pipelines/files.py:627:media_failed\n",
      "]\n",
      "NoneType: None\n",
      "2025-03-02 22:35:59 [scrapy.pipelines.media] ERROR: [Failure instance: Traceback: <class 'scrapy.pipelines.files.FileException'>: \n",
      "/Library/Frameworks/Python.framework/Versions/3.13/lib/python3.13/site-packages/twisted/internet/defer.py:1088:_runCallbacks\n",
      "/Library/Frameworks/Python.framework/Versions/3.13/lib/python3.13/site-packages/scrapy/pipelines/files.py:627:media_failed\n",
      "]\n",
      "NoneType: None\n",
      "2025-03-02 22:35:59 [scrapy.pipelines.media] ERROR: [Failure instance: Traceback: <class 'scrapy.pipelines.files.FileException'>: \n",
      "/Library/Frameworks/Python.framework/Versions/3.13/lib/python3.13/site-packages/twisted/internet/defer.py:1088:_runCallbacks\n",
      "/Library/Frameworks/Python.framework/Versions/3.13/lib/python3.13/site-packages/scrapy/pipelines/files.py:627:media_failed\n",
      "]\n",
      "NoneType: None\n"
     ]
    },
    {
     "name": "stdout",
     "output_type": "stream",
     "text": [
      "saved in images/The_Incredible_Hulk/The_Incredible_Hulk.jpg\n",
      "erroe: \n"
     ]
    },
    {
     "name": "stderr",
     "output_type": "stream",
     "text": [
      "2025-03-02 22:35:59 [scrapy.pipelines.media] ERROR: [Failure instance: Traceback: <class 'scrapy.pipelines.files.FileException'>: \n",
      "/Library/Frameworks/Python.framework/Versions/3.13/lib/python3.13/site-packages/twisted/internet/defer.py:1088:_runCallbacks\n",
      "/Library/Frameworks/Python.framework/Versions/3.13/lib/python3.13/site-packages/scrapy/pipelines/files.py:627:media_failed\n",
      "]\n",
      "NoneType: None\n",
      "2025-03-02 22:35:59 [scrapy.pipelines.media] ERROR: [Failure instance: Traceback: <class 'scrapy.pipelines.files.FileException'>: \n",
      "/Library/Frameworks/Python.framework/Versions/3.13/lib/python3.13/site-packages/twisted/internet/defer.py:1088:_runCallbacks\n",
      "/Library/Frameworks/Python.framework/Versions/3.13/lib/python3.13/site-packages/scrapy/pipelines/files.py:627:media_failed\n",
      "]\n",
      "NoneType: None\n",
      "2025-03-02 22:35:59 [scrapy.pipelines.media] ERROR: [Failure instance: Traceback: <class 'scrapy.pipelines.files.FileException'>: \n",
      "/Library/Frameworks/Python.framework/Versions/3.13/lib/python3.13/site-packages/twisted/internet/defer.py:1088:_runCallbacks\n",
      "/Library/Frameworks/Python.framework/Versions/3.13/lib/python3.13/site-packages/scrapy/pipelines/files.py:627:media_failed\n",
      "]\n",
      "NoneType: None\n",
      "2025-03-02 22:35:59 [scrapy.pipelines.media] ERROR: [Failure instance: Traceback: <class 'scrapy.pipelines.files.FileException'>: \n",
      "/Library/Frameworks/Python.framework/Versions/3.13/lib/python3.13/site-packages/twisted/internet/defer.py:1088:_runCallbacks\n",
      "/Library/Frameworks/Python.framework/Versions/3.13/lib/python3.13/site-packages/scrapy/pipelines/files.py:627:media_failed\n",
      "]\n",
      "NoneType: None\n",
      "2025-03-02 22:35:59 [scrapy.core.engine] DEBUG: Crawled (200) <GET https://en.wikipedia.org/wiki/Guardians_of_the_Galaxy_Vol._2> (referer: https://en.wikipedia.org/wiki/List_of_highest-grossing_films)\n",
      "2025-03-02 22:35:59 [scrapy.core.engine] DEBUG: Crawled (200) <GET https://en.wikipedia.org/wiki/Black_Panther_(film)> (referer: https://en.wikipedia.org/wiki/List_of_highest-grossing_films)\n",
      "2025-03-02 22:35:59 [scrapy.core.engine] DEBUG: Crawled (200) <GET https://en.wikipedia.org/wiki/Barbie_(film)> (referer: https://en.wikipedia.org/wiki/List_of_highest-grossing_films)\n",
      "2025-03-02 22:35:59 [urllib3.connectionpool] DEBUG: Starting new HTTPS connection (1): upload.wikimedia.org:443\n",
      "2025-03-02 22:36:00 [urllib3.connectionpool] DEBUG: https://upload.wikimedia.org:443 \"GET /wikipedia/en/7/7f/Thor_The_Dark_World_poster.jpg HTTP/1.1\" 200 115668\n",
      "2025-03-02 22:36:00 [urllib3.connectionpool] DEBUG: Starting new HTTPS connection (1): upload.wikimedia.org:443\n"
     ]
    },
    {
     "name": "stdout",
     "output_type": "stream",
     "text": [
      "saved in images/Thor:_The_Dark_World/Thor:_The_Dark_World.jpg\n",
      "erroe: \n"
     ]
    },
    {
     "name": "stderr",
     "output_type": "stream",
     "text": [
      "2025-03-02 22:36:00 [urllib3.connectionpool] DEBUG: https://upload.wikimedia.org:443 \"GET /wikipedia/en/9/9e/Captain_America_The_Winter_Soldier_poster.jpg HTTP/1.1\" 200 106736\n",
      "2025-03-02 22:36:00 [urllib3.connectionpool] DEBUG: Starting new HTTPS connection (1): upload.wikimedia.org:443\n"
     ]
    },
    {
     "name": "stdout",
     "output_type": "stream",
     "text": [
      "saved in images/Captain_America:_/Captain_America:_.jpg\n",
      "erroe: \n"
     ]
    },
    {
     "name": "stderr",
     "output_type": "stream",
     "text": [
      "2025-03-02 22:36:01 [urllib3.connectionpool] DEBUG: https://upload.wikimedia.org:443 \"GET /wikipedia/en/1/19/Iron_Man_3_poster.jpg HTTP/1.1\" 200 135982\n",
      "2025-03-02 22:36:01 [urllib3.connectionpool] DEBUG: Starting new HTTPS connection (1): upload.wikimedia.org:443\n"
     ]
    },
    {
     "name": "stdout",
     "output_type": "stream",
     "text": [
      "saved in images/Iron_Man_3/Iron_Man_3.jpg\n",
      "erroe: \n"
     ]
    },
    {
     "name": "stderr",
     "output_type": "stream",
     "text": [
      "2025-03-02 22:36:01 [urllib3.connectionpool] DEBUG: https://upload.wikimedia.org:443 \"GET /wikipedia/en/2/2c/Ant-Man_and_the_Wasp_poster.jpg HTTP/1.1\" 200 136258\n",
      "2025-03-02 22:36:01 [scrapy.core.scraper] DEBUG: Scraped from <200 https://en.wikipedia.org/wiki/Thor:_The_Dark_World>\n",
      "{'box_office': 644800000.0,\n",
      " 'countries': ['United States'],\n",
      " 'directors': ['Alan Taylor'],\n",
      " 'image_urls': ['https://upload.wikimedia.org/wikipedia/en/7/7f/Thor_The_Dark_World_poster.jpg'],\n",
      " 'images': [],\n",
      " 'title': 'Thor: The Dark World',\n",
      " 'year': 2013}\n",
      "2025-03-02 22:36:02 [urllib3.connectionpool] DEBUG: Starting new HTTPS connection (1): upload.wikimedia.org:443\n"
     ]
    },
    {
     "name": "stdout",
     "output_type": "stream",
     "text": [
      "saved in images/Ant-Man_and_the_Wasp/Ant-Man_and_the_Wasp.jpg\n",
      "erroe: \n"
     ]
    },
    {
     "name": "stderr",
     "output_type": "stream",
     "text": [
      "2025-03-02 22:36:02 [urllib3.connectionpool] DEBUG: https://upload.wikimedia.org:443 \"GET /wikipedia/en/3/33/Guardians_of_the_Galaxy_%28film%29_poster.jpg HTTP/1.1\" 200 147529\n",
      "2025-03-02 22:36:02 [urllib3.connectionpool] DEBUG: Starting new HTTPS connection (1): upload.wikimedia.org:443\n"
     ]
    },
    {
     "name": "stdout",
     "output_type": "stream",
     "text": [
      "saved in images/Guardians_of_the_Galaxy/Guardians_of_the_Galaxy.jpg\n",
      "erroe: \n"
     ]
    },
    {
     "name": "stderr",
     "output_type": "stream",
     "text": [
      "2025-03-02 22:36:02 [urllib3.connectionpool] DEBUG: https://upload.wikimedia.org:443 \"GET /wikipedia/en/a/a1/Doctor_Strange_%282016_film%29_poster.jpg HTTP/1.1\" 200 250856\n"
     ]
    },
    {
     "name": "stdout",
     "output_type": "stream",
     "text": [
      "saved in images/Doctor_Strange/Doctor_Strange.jpg\n",
      "erroe: \n"
     ]
    },
    {
     "name": "stderr",
     "output_type": "stream",
     "text": [
      "2025-03-02 22:36:03 [scrapy.core.scraper] DEBUG: Scraped from <200 https://en.wikipedia.org/wiki/Captain_America:_The_Winter_Soldier>\n",
      "{'box_office': 714400000.0,\n",
      " 'countries': ['United States'],\n",
      " 'directors': [],\n",
      " 'image_urls': ['https://upload.wikimedia.org/wikipedia/en/9/9e/Captain_America_The_Winter_Soldier_poster.jpg'],\n",
      " 'images': [],\n",
      " 'title': 'Captain America: ',\n",
      " 'year': 2014}\n",
      "2025-03-02 22:36:03 [urllib3.connectionpool] DEBUG: Starting new HTTPS connection (1): upload.wikimedia.org:443\n",
      "2025-03-02 22:36:03 [urllib3.connectionpool] DEBUG: https://upload.wikimedia.org:443 \"GET /wikipedia/en/f/ff/Avengers_Age_of_Ultron_poster.jpg HTTP/1.1\" 200 122933\n"
     ]
    },
    {
     "name": "stdout",
     "output_type": "stream",
     "text": [
      "saved in images/Avengers:_Age_of_Ultron/Avengers:_Age_of_Ultron.jpg\n",
      "erroe: \n"
     ]
    },
    {
     "name": "stderr",
     "output_type": "stream",
     "text": [
      "2025-03-02 22:36:03 [scrapy.core.scraper] DEBUG: Scraped from <200 https://en.wikipedia.org/wiki/Iron_Man_3>\n",
      "{'box_office': 1266000000.0,\n",
      " 'countries': ['United States'],\n",
      " 'directors': ['Shane Black'],\n",
      " 'image_urls': ['https://upload.wikimedia.org/wikipedia/en/1/19/Iron_Man_3_poster.jpg'],\n",
      " 'images': [],\n",
      " 'title': 'Iron Man 3',\n",
      " 'year': 2013}\n",
      "2025-03-02 22:36:03 [scrapy.core.scraper] DEBUG: Scraped from <200 https://en.wikipedia.org/wiki/Ant-Man_and_the_Wasp>\n",
      "{'box_office': 622700000.0,\n",
      " 'countries': ['United States'],\n",
      " 'directors': ['Peyton Reed'],\n",
      " 'image_urls': ['https://upload.wikimedia.org/wikipedia/en/2/2c/Ant-Man_and_the_Wasp_poster.jpg'],\n",
      " 'images': [],\n",
      " 'title': 'Ant-Man and the Wasp',\n",
      " 'year': 2018}\n",
      "2025-03-02 22:36:03 [scrapy.core.scraper] DEBUG: Scraped from <200 https://en.wikipedia.org/wiki/Guardians_of_the_Galaxy_(film)>\n",
      "{'box_office': 773400000.0,\n",
      " 'countries': ['United States'],\n",
      " 'directors': ['James Gunn'],\n",
      " 'image_urls': ['https://upload.wikimedia.org/wikipedia/en/3/33/Guardians_of_the_Galaxy_%28film%29_poster.jpg'],\n",
      " 'images': [],\n",
      " 'title': 'Guardians of the Galaxy',\n",
      " 'year': 2014}\n",
      "2025-03-02 22:36:03 [scrapy.core.scraper] DEBUG: Scraped from <200 https://en.wikipedia.org/wiki/Doctor_Strange_(2016_film)>\n",
      "{'box_office': 677800000.0,\n",
      " 'countries': ['United States'],\n",
      " 'directors': ['Scott Derrickson'],\n",
      " 'image_urls': ['https://upload.wikimedia.org/wikipedia/en/a/a1/Doctor_Strange_%282016_film%29_poster.jpg'],\n",
      " 'images': [],\n",
      " 'title': 'Doctor Strange',\n",
      " 'year': 2016}\n",
      "2025-03-02 22:36:03 [scrapy.core.scraper] DEBUG: Scraped from <200 https://en.wikipedia.org/wiki/Avengers:_Age_of_Ultron>\n",
      "{'box_office': 1405000000.0,\n",
      " 'countries': ['United States'],\n",
      " 'directors': ['Joss Whedon'],\n",
      " 'image_urls': ['https://upload.wikimedia.org/wikipedia/en/f/ff/Avengers_Age_of_Ultron_poster.jpg'],\n",
      " 'images': [],\n",
      " 'title': 'Avengers: Age of Ultron',\n",
      " 'year': 2015}\n",
      "2025-03-02 22:36:03 [scrapy.pipelines.media] ERROR: [Failure instance: Traceback: <class 'scrapy.pipelines.files.FileException'>: \n",
      "/Library/Frameworks/Python.framework/Versions/3.13/lib/python3.13/site-packages/twisted/internet/defer.py:1088:_runCallbacks\n",
      "/Library/Frameworks/Python.framework/Versions/3.13/lib/python3.13/site-packages/scrapy/pipelines/files.py:627:media_failed\n",
      "]\n",
      "NoneType: None\n",
      "2025-03-02 22:36:03 [scrapy.pipelines.media] ERROR: [Failure instance: Traceback: <class 'scrapy.pipelines.files.FileException'>: \n",
      "/Library/Frameworks/Python.framework/Versions/3.13/lib/python3.13/site-packages/twisted/internet/defer.py:1088:_runCallbacks\n",
      "/Library/Frameworks/Python.framework/Versions/3.13/lib/python3.13/site-packages/scrapy/pipelines/files.py:627:media_failed\n",
      "]\n",
      "NoneType: None\n",
      "2025-03-02 22:36:03 [scrapy.pipelines.media] ERROR: [Failure instance: Traceback: <class 'scrapy.pipelines.files.FileException'>: \n",
      "/Library/Frameworks/Python.framework/Versions/3.13/lib/python3.13/site-packages/twisted/internet/defer.py:1088:_runCallbacks\n",
      "/Library/Frameworks/Python.framework/Versions/3.13/lib/python3.13/site-packages/scrapy/pipelines/files.py:627:media_failed\n",
      "]\n",
      "NoneType: None\n",
      "2025-03-02 22:36:03 [scrapy.pipelines.media] ERROR: [Failure instance: Traceback: <class 'scrapy.pipelines.files.FileException'>: \n",
      "/Library/Frameworks/Python.framework/Versions/3.13/lib/python3.13/site-packages/twisted/internet/defer.py:1088:_runCallbacks\n",
      "/Library/Frameworks/Python.framework/Versions/3.13/lib/python3.13/site-packages/scrapy/pipelines/files.py:627:media_failed\n",
      "]\n",
      "NoneType: None\n",
      "2025-03-02 22:36:03 [scrapy.pipelines.media] ERROR: [Failure instance: Traceback: <class 'scrapy.pipelines.files.FileException'>: \n",
      "/Library/Frameworks/Python.framework/Versions/3.13/lib/python3.13/site-packages/twisted/internet/defer.py:1088:_runCallbacks\n",
      "/Library/Frameworks/Python.framework/Versions/3.13/lib/python3.13/site-packages/scrapy/pipelines/files.py:627:media_failed\n",
      "]\n",
      "NoneType: None\n",
      "2025-03-02 22:36:03 [urllib3.connectionpool] DEBUG: Starting new HTTPS connection (1): upload.wikimedia.org:443\n",
      "2025-03-02 22:36:04 [urllib3.connectionpool] DEBUG: https://upload.wikimedia.org:443 \"GET /wikipedia/en/7/7d/Thor_Ragnarok_poster.jpg HTTP/1.1\" 200 186204\n",
      "2025-03-02 22:36:04 [urllib3.connectionpool] DEBUG: Starting new HTTPS connection (1): upload.wikimedia.org:443\n"
     ]
    },
    {
     "name": "stdout",
     "output_type": "stream",
     "text": [
      "saved in images/Thor:_Ragnarok/Thor:_Ragnarok.jpg\n",
      "erroe: \n"
     ]
    },
    {
     "name": "stderr",
     "output_type": "stream",
     "text": [
      "2025-03-02 22:36:04 [urllib3.connectionpool] DEBUG: https://upload.wikimedia.org:443 \"GET /wikipedia/en/f/f9/Spider-Man_Homecoming_poster.jpg HTTP/1.1\" 200 141405\n",
      "2025-03-02 22:36:04 [urllib3.connectionpool] DEBUG: Starting new HTTPS connection (1): upload.wikimedia.org:443\n"
     ]
    },
    {
     "name": "stdout",
     "output_type": "stream",
     "text": [
      "saved in images/Spider-Man:_Homecoming/Spider-Man:_Homecoming.jpg\n",
      "erroe: \n"
     ]
    },
    {
     "name": "stderr",
     "output_type": "stream",
     "text": [
      "2025-03-02 22:36:05 [urllib3.connectionpool] DEBUG: https://upload.wikimedia.org:443 \"GET /wikipedia/en/b/bd/Spider-Man_Far_From_Home_poster.jpg HTTP/1.1\" 200 124348\n"
     ]
    },
    {
     "name": "stdout",
     "output_type": "stream",
     "text": [
      "saved in images/Spider-Man:_Far_From_Home/Spider-Man:_Far_From_Home.jpg\n",
      "erroe: \n"
     ]
    },
    {
     "name": "stderr",
     "output_type": "stream",
     "text": [
      "2025-03-02 22:36:05 [urllib3.connectionpool] DEBUG: Starting new HTTPS connection (1): upload.wikimedia.org:443\n",
      "2025-03-02 22:36:05 [urllib3.connectionpool] DEBUG: https://upload.wikimedia.org:443 \"GET /wikipedia/en/4/4e/Captain_Marvel_%28film%29_poster.jpg HTTP/1.1\" 200 138675\n",
      "2025-03-02 22:36:05 [urllib3.connectionpool] DEBUG: Starting new HTTPS connection (1): upload.wikimedia.org:443\n"
     ]
    },
    {
     "name": "stdout",
     "output_type": "stream",
     "text": [
      "saved in images/Captain_Marvel/Captain_Marvel.jpg\n",
      "erroe: \n"
     ]
    },
    {
     "name": "stderr",
     "output_type": "stream",
     "text": [
      "2025-03-02 22:36:06 [urllib3.connectionpool] DEBUG: https://upload.wikimedia.org:443 \"GET /wikipedia/en/thumb/f/f7/Inside_Out_2_poster.jpg/220px-Inside_Out_2_poster.jpg HTTP/1.1\" 200 34476\n",
      "2025-03-02 22:36:06 [scrapy.pipelines.media] ERROR: [Failure instance: Traceback: <class 'scrapy.pipelines.files.FileException'>: \n",
      "/Library/Frameworks/Python.framework/Versions/3.13/lib/python3.13/site-packages/twisted/internet/defer.py:1088:_runCallbacks\n",
      "/Library/Frameworks/Python.framework/Versions/3.13/lib/python3.13/site-packages/scrapy/pipelines/files.py:627:media_failed\n",
      "]\n",
      "NoneType: None\n",
      "2025-03-02 22:36:06 [scrapy.pipelines.media] ERROR: [Failure instance: Traceback: <class 'scrapy.pipelines.files.FileException'>: \n",
      "/Library/Frameworks/Python.framework/Versions/3.13/lib/python3.13/site-packages/twisted/internet/defer.py:1088:_runCallbacks\n",
      "/Library/Frameworks/Python.framework/Versions/3.13/lib/python3.13/site-packages/scrapy/pipelines/files.py:627:media_failed\n",
      "]\n",
      "NoneType: None\n",
      "2025-03-02 22:36:06 [scrapy.pipelines.media] ERROR: [Failure instance: Traceback: <class 'scrapy.pipelines.files.FileException'>: \n",
      "/Library/Frameworks/Python.framework/Versions/3.13/lib/python3.13/site-packages/twisted/internet/defer.py:1088:_runCallbacks\n",
      "/Library/Frameworks/Python.framework/Versions/3.13/lib/python3.13/site-packages/scrapy/pipelines/files.py:627:media_failed\n",
      "]\n",
      "NoneType: None\n",
      "2025-03-02 22:36:06 [scrapy.core.scraper] DEBUG: Scraped from <200 https://en.wikipedia.org/wiki/Thor:_Ragnarok>\n",
      "{'box_office': 855.0,\n",
      " 'countries': ['United States'],\n",
      " 'directors': ['Taika Waititi'],\n",
      " 'image_urls': ['https://upload.wikimedia.org/wikipedia/en/7/7d/Thor_Ragnarok_poster.jpg'],\n",
      " 'images': [],\n",
      " 'title': 'Thor: Ragnarok',\n",
      " 'year': 2017}\n",
      "2025-03-02 22:36:06 [scrapy.core.scraper] DEBUG: Scraped from <200 https://en.wikipedia.org/wiki/Spider-Man:_Homecoming>\n",
      "{'box_office': 880.9,\n",
      " 'countries': ['United States'],\n",
      " 'directors': ['Jon Watts'],\n",
      " 'image_urls': ['https://upload.wikimedia.org/wikipedia/en/f/f9/Spider-Man_Homecoming_poster.jpg'],\n",
      " 'images': [],\n",
      " 'title': 'Spider-Man: Homecoming',\n",
      " 'year': 2017}\n",
      "2025-03-02 22:36:06 [scrapy.core.scraper] DEBUG: Scraped from <200 https://en.wikipedia.org/wiki/Spider-Man:_Far_From_Home>\n",
      "{'box_office': 1133000000.0,\n",
      " 'countries': ['United States'],\n",
      " 'directors': ['Jon Watts'],\n",
      " 'image_urls': ['https://upload.wikimedia.org/wikipedia/en/b/bd/Spider-Man_Far_From_Home_poster.jpg'],\n",
      " 'images': [],\n",
      " 'title': 'Spider-Man: Far From Home',\n",
      " 'year': 2019}\n",
      "2025-03-02 22:36:06 [scrapy.core.scraper] DEBUG: Scraped from <200 https://en.wikipedia.org/wiki/Captain_Marvel_(film)>\n",
      "{'box_office': 1131000000.0,\n",
      " 'countries': ['United States'],\n",
      " 'directors': ['Anna Boden'],\n",
      " 'image_urls': ['https://upload.wikimedia.org/wikipedia/en/4/4e/Captain_Marvel_%28film%29_poster.jpg'],\n",
      " 'images': [],\n",
      " 'title': 'Captain Marvel',\n",
      " 'year': 2019}\n",
      "2025-03-02 22:36:06 [scrapy.core.scraper] DEBUG: Scraped from <200 https://en.wikipedia.org/wiki/Inside_Out_2>\n",
      "{'box_office': 1699000000.0,\n",
      " 'countries': ['United States'],\n",
      " 'directors': ['Kelsey Mann'],\n",
      " 'image_urls': ['https://upload.wikimedia.org/wikipedia/en/thumb/f/f7/Inside_Out_2_poster.jpg/220px-Inside_Out_2_poster.jpg'],\n",
      " 'images': [],\n",
      " 'title': 'Inside Out 2',\n",
      " 'year': 2024}\n",
      "2025-03-02 22:36:06 [urllib3.connectionpool] DEBUG: Starting new HTTPS connection (1): upload.wikimedia.org:443\n"
     ]
    },
    {
     "name": "stdout",
     "output_type": "stream",
     "text": [
      "saved in images/Inside_Out_2/Inside_Out_2.jpg\n",
      "erroe: \n"
     ]
    },
    {
     "name": "stderr",
     "output_type": "stream",
     "text": [
      "2025-03-02 22:36:06 [urllib3.connectionpool] DEBUG: https://upload.wikimedia.org:443 \"GET /wikipedia/en/thumb/3/32/Guardians_of_the_Galaxy_Vol._2_poster.jpg/220px-Guardians_of_the_Galaxy_Vol._2_poster.jpg HTTP/1.1\" 200 40325\n",
      "2025-03-02 22:36:06 [urllib3.connectionpool] DEBUG: Starting new HTTPS connection (1): upload.wikimedia.org:443\n"
     ]
    },
    {
     "name": "stdout",
     "output_type": "stream",
     "text": [
      "saved in images/Guardians_of_the_Galaxy_Vol._2/Guardians_of_the_Galaxy_Vol._2.jpg\n",
      "erroe: \n"
     ]
    },
    {
     "name": "stderr",
     "output_type": "stream",
     "text": [
      "2025-03-02 22:36:07 [urllib3.connectionpool] DEBUG: https://upload.wikimedia.org:443 \"GET /wikipedia/en/d/d6/Black_Panther_%28film%29_poster.jpg HTTP/1.1\" 200 171618\n",
      "2025-03-02 22:36:07 [urllib3.connectionpool] DEBUG: Starting new HTTPS connection (1): upload.wikimedia.org:443\n"
     ]
    },
    {
     "name": "stdout",
     "output_type": "stream",
     "text": [
      "saved in images/Black_Panther/Black_Panther.jpg\n",
      "erroe: \n"
     ]
    },
    {
     "name": "stderr",
     "output_type": "stream",
     "text": [
      "2025-03-02 22:36:07 [urllib3.connectionpool] DEBUG: https://upload.wikimedia.org:443 \"GET /wikipedia/en/0/0b/Barbie_2023_poster.jpg HTTP/1.1\" 200 88485\n",
      "2025-03-02 22:36:07 [scrapy.core.scraper] DEBUG: Scraped from <200 https://en.wikipedia.org/wiki/Guardians_of_the_Galaxy_Vol._2>\n",
      "{'box_office': 869000000.0,\n",
      " 'countries': ['United States'],\n",
      " 'directors': ['James Gunn'],\n",
      " 'image_urls': ['https://upload.wikimedia.org/wikipedia/en/thumb/3/32/Guardians_of_the_Galaxy_Vol._2_poster.jpg/220px-Guardians_of_the_Galaxy_Vol._2_poster.jpg'],\n",
      " 'images': [],\n",
      " 'title': 'Guardians of the Galaxy Vol. 2',\n",
      " 'year': 2017}\n",
      "2025-03-02 22:36:07 [scrapy.core.scraper] DEBUG: Scraped from <200 https://en.wikipedia.org/wiki/Black_Panther_(film)>\n",
      "{'box_office': 1350000000.0,\n",
      " 'countries': ['United States'],\n",
      " 'directors': ['Ryan Coogler'],\n",
      " 'image_urls': ['https://upload.wikimedia.org/wikipedia/en/d/d6/Black_Panther_%28film%29_poster.jpg'],\n",
      " 'images': [],\n",
      " 'title': 'Black Panther',\n",
      " 'year': 2018}\n",
      "2025-03-02 22:36:07 [scrapy.core.scraper] DEBUG: Scraped from <200 https://en.wikipedia.org/wiki/Barbie_(film)>\n",
      "{'box_office': 1446000000.0,\n",
      " 'countries': ['United States', 'United Kingdom'],\n",
      " 'directors': ['Greta Gerwig'],\n",
      " 'image_urls': ['https://upload.wikimedia.org/wikipedia/en/0/0b/Barbie_2023_poster.jpg'],\n",
      " 'images': [],\n",
      " 'title': 'Barbie',\n",
      " 'year': 2023}\n"
     ]
    },
    {
     "name": "stdout",
     "output_type": "stream",
     "text": [
      "saved in images/Barbie/Barbie.jpg\n",
      "erroe: \n"
     ]
    },
    {
     "name": "stderr",
     "output_type": "stream",
     "text": [
      "2025-03-02 22:36:08 [scrapy.core.engine] DEBUG: Crawled (200) <GET https://en.wikipedia.org/wiki/Demon_Slayer:_Mugen_Train> (referer: https://en.wikipedia.org/wiki/List_of_highest-grossing_films)\n",
      "2025-03-02 22:36:08 [scrapy.core.engine] DEBUG: Crawled (200) <GET https://en.wikipedia.org/wiki/Avengers:_Endgame> (referer: https://en.wikipedia.org/wiki/List_of_highest-grossing_films)\n",
      "2025-03-02 22:36:08 [scrapy.core.engine] DEBUG: Crawled (200) <GET https://en.wikipedia.org/wiki/Star_Wars:_The_Last_Jedi> (referer: https://en.wikipedia.org/wiki/List_of_highest-grossing_films)\n",
      "2025-03-02 22:36:08 [scrapy.core.engine] DEBUG: Crawled (200) <GET https://en.wikipedia.org/wiki/Captain_America:_Civil_War> (referer: https://en.wikipedia.org/wiki/List_of_highest-grossing_films)\n",
      "2025-03-02 22:36:08 [scrapy.core.engine] DEBUG: Crawled (200) <GET https://en.wikipedia.org/wiki/Spider-Man:_No_Way_Home> (referer: https://en.wikipedia.org/wiki/List_of_highest-grossing_films)\n",
      "2025-03-02 22:36:08 [scrapy.core.engine] DEBUG: Crawled (200) <GET https://en.wikipedia.org/wiki/Avatar:_The_Way_of_Water> (referer: https://en.wikipedia.org/wiki/List_of_highest-grossing_films)\n",
      "2025-03-02 22:36:08 [scrapy.pipelines.media] ERROR: [Failure instance: Traceback: <class 'scrapy.pipelines.files.FileException'>: \n",
      "/Library/Frameworks/Python.framework/Versions/3.13/lib/python3.13/site-packages/twisted/internet/defer.py:1088:_runCallbacks\n",
      "/Library/Frameworks/Python.framework/Versions/3.13/lib/python3.13/site-packages/scrapy/pipelines/files.py:627:media_failed\n",
      "]\n",
      "NoneType: None\n",
      "2025-03-02 22:36:08 [urllib3.connectionpool] DEBUG: Starting new HTTPS connection (1): upload.wikimedia.org:443\n",
      "2025-03-02 22:36:08 [urllib3.connectionpool] DEBUG: https://upload.wikimedia.org:443 \"GET /wikipedia/en/thumb/2/21/Kimetsu_no_Yaiba_Mugen_Ressha_Hen_Poster.jpg/220px-Kimetsu_no_Yaiba_Mugen_Ressha_Hen_Poster.jpg HTTP/1.1\" 200 34829\n",
      "2025-03-02 22:36:08 [scrapy.core.engine] DEBUG: Crawled (200) <GET https://en.wikipedia.org/wiki/Star_Wars:_The_Force_Awakens> (referer: https://en.wikipedia.org/wiki/List_of_highest-grossing_films)\n",
      "2025-03-02 22:36:08 [scrapy.core.engine] DEBUG: Crawled (200) <GET https://en.wikipedia.org/wiki/Transformers:_Age_of_Extinction> (referer: https://en.wikipedia.org/wiki/List_of_highest-grossing_films)\n",
      "2025-03-02 22:36:08 [scrapy.core.engine] DEBUG: Crawled (200) <GET https://en.wikipedia.org/wiki/Avengers:_Infinity_War> (referer: https://en.wikipedia.org/wiki/List_of_highest-grossing_films)\n",
      "2025-03-02 22:36:08 [scrapy.core.scraper] DEBUG: Scraped from <200 https://en.wikipedia.org/wiki/Demon_Slayer:_Mugen_Train>\n",
      "{'box_office': 507100000.0,\n",
      " 'countries': ['Japan'],\n",
      " 'directors': ['Haruo Sotozaki'],\n",
      " 'image_urls': ['https://upload.wikimedia.org/wikipedia/en/thumb/2/21/Kimetsu_no_Yaiba_Mugen_Ressha_Hen_Poster.jpg/220px-Kimetsu_no_Yaiba_Mugen_Ressha_Hen_Poster.jpg'],\n",
      " 'images': [],\n",
      " 'title': 'Demon Slayer: Kimetsu no Yaiba – The Movie: Mugen Train',\n",
      " 'year': 2020}\n",
      "2025-03-02 22:36:08 [scrapy.core.engine] DEBUG: Crawled (200) <GET https://en.wikipedia.org/wiki/Frozen_(2013_film)> (referer: https://en.wikipedia.org/wiki/List_of_highest-grossing_films)\n",
      "2025-03-02 22:36:08 [scrapy.core.engine] DEBUG: Crawled (200) <GET https://en.wikipedia.org/wiki/Toy_Story_3> (referer: https://en.wikipedia.org/wiki/List_of_highest-grossing_films)\n",
      "2025-03-02 22:36:08 [scrapy.core.engine] DEBUG: Crawled (200) <GET https://en.wikipedia.org/wiki/Harry_Potter_and_the_Deathly_Hallows_%E2%80%93_Part_2> (referer: https://en.wikipedia.org/wiki/List_of_highest-grossing_films)\n"
     ]
    },
    {
     "name": "stdout",
     "output_type": "stream",
     "text": [
      "saved in images/Demon_Slayer:_Kimetsu_no_Yaiba_–_The_Movie:_Mugen_Train/Demon_Slayer:_Kimetsu_no_Yaiba_–_The_Movie:_Mugen_Train.jpg\n",
      "erroe: \n"
     ]
    },
    {
     "name": "stderr",
     "output_type": "stream",
     "text": [
      "2025-03-02 22:36:08 [scrapy.core.engine] DEBUG: Crawled (200) <GET https://en.wikipedia.org/wiki/The_Avengers_(2012_film)> (referer: https://en.wikipedia.org/wiki/List_of_highest-grossing_films)\n",
      "2025-03-02 22:36:08 [scrapy.core.engine] DEBUG: Crawled (200) <GET https://en.wikipedia.org/wiki/Avatar_(2009_film)> (referer: https://en.wikipedia.org/wiki/List_of_highest-grossing_films)\n",
      "2025-03-02 22:36:08 [scrapy.pipelines.media] ERROR: [Failure instance: Traceback: <class 'scrapy.pipelines.files.FileException'>: \n",
      "/Library/Frameworks/Python.framework/Versions/3.13/lib/python3.13/site-packages/twisted/internet/defer.py:1088:_runCallbacks\n",
      "/Library/Frameworks/Python.framework/Versions/3.13/lib/python3.13/site-packages/scrapy/pipelines/files.py:627:media_failed\n",
      "]\n",
      "NoneType: None\n",
      "2025-03-02 22:36:09 [scrapy.pipelines.media] ERROR: [Failure instance: Traceback: <class 'scrapy.pipelines.files.FileException'>: \n",
      "/Library/Frameworks/Python.framework/Versions/3.13/lib/python3.13/site-packages/twisted/internet/defer.py:1088:_runCallbacks\n",
      "/Library/Frameworks/Python.framework/Versions/3.13/lib/python3.13/site-packages/scrapy/pipelines/files.py:627:media_failed\n",
      "]\n",
      "NoneType: None\n",
      "2025-03-02 22:36:09 [scrapy.pipelines.media] ERROR: [Failure instance: Traceback: <class 'scrapy.pipelines.files.FileException'>: \n",
      "/Library/Frameworks/Python.framework/Versions/3.13/lib/python3.13/site-packages/twisted/internet/defer.py:1088:_runCallbacks\n",
      "/Library/Frameworks/Python.framework/Versions/3.13/lib/python3.13/site-packages/scrapy/pipelines/files.py:627:media_failed\n",
      "]\n",
      "NoneType: None\n",
      "2025-03-02 22:36:09 [scrapy.pipelines.media] ERROR: [Failure instance: Traceback: <class 'scrapy.pipelines.files.FileException'>: \n",
      "/Library/Frameworks/Python.framework/Versions/3.13/lib/python3.13/site-packages/twisted/internet/defer.py:1088:_runCallbacks\n",
      "/Library/Frameworks/Python.framework/Versions/3.13/lib/python3.13/site-packages/scrapy/pipelines/files.py:627:media_failed\n",
      "]\n",
      "NoneType: None\n",
      "2025-03-02 22:36:09 [scrapy.pipelines.media] ERROR: [Failure instance: Traceback: <class 'scrapy.pipelines.files.FileException'>: \n",
      "/Library/Frameworks/Python.framework/Versions/3.13/lib/python3.13/site-packages/twisted/internet/defer.py:1088:_runCallbacks\n",
      "/Library/Frameworks/Python.framework/Versions/3.13/lib/python3.13/site-packages/scrapy/pipelines/files.py:627:media_failed\n",
      "]\n",
      "NoneType: None\n",
      "2025-03-02 22:36:09 [urllib3.connectionpool] DEBUG: Starting new HTTPS connection (1): upload.wikimedia.org:443\n",
      "2025-03-02 22:36:09 [urllib3.connectionpool] DEBUG: https://upload.wikimedia.org:443 \"GET /wikipedia/en/0/0d/Avengers_Endgame_poster.jpg HTTP/1.1\" 200 168987\n"
     ]
    },
    {
     "name": "stdout",
     "output_type": "stream",
     "text": [
      "saved in images/Avengers:_Endgame/Avengers:_Endgame.jpg\n",
      "erroe: \n"
     ]
    },
    {
     "name": "stderr",
     "output_type": "stream",
     "text": [
      "2025-03-02 22:36:09 [urllib3.connectionpool] DEBUG: Starting new HTTPS connection (1): upload.wikimedia.org:443\n",
      "2025-03-02 22:36:10 [urllib3.connectionpool] DEBUG: https://upload.wikimedia.org:443 \"GET /wikipedia/en/7/7f/Star_Wars_The_Last_Jedi.jpg HTTP/1.1\" 200 131786\n",
      "2025-03-02 22:36:10 [urllib3.connectionpool] DEBUG: Starting new HTTPS connection (1): upload.wikimedia.org:443\n"
     ]
    },
    {
     "name": "stdout",
     "output_type": "stream",
     "text": [
      "saved in images/Star_Wars:_The_Last_Jedi/Star_Wars:_The_Last_Jedi.jpg\n",
      "erroe: \n"
     ]
    },
    {
     "name": "stderr",
     "output_type": "stream",
     "text": [
      "2025-03-02 22:36:10 [urllib3.connectionpool] DEBUG: https://upload.wikimedia.org:443 \"GET /wikipedia/en/5/53/Captain_America_Civil_War_poster.jpg HTTP/1.1\" 200 115891\n",
      "2025-03-02 22:36:10 [urllib3.connectionpool] DEBUG: Starting new HTTPS connection (1): upload.wikimedia.org:443\n"
     ]
    },
    {
     "name": "stdout",
     "output_type": "stream",
     "text": [
      "saved in images/Captain_America:_Civil_War/Captain_America:_Civil_War.jpg\n",
      "erroe: \n"
     ]
    },
    {
     "name": "stderr",
     "output_type": "stream",
     "text": [
      "2025-03-02 22:36:11 [urllib3.connectionpool] DEBUG: https://upload.wikimedia.org:443 \"GET /wikipedia/en/thumb/0/00/Spider-Man_No_Way_Home_poster.jpg/220px-Spider-Man_No_Way_Home_poster.jpg HTTP/1.1\" 200 31613\n",
      "2025-03-02 22:36:11 [urllib3.connectionpool] DEBUG: Starting new HTTPS connection (1): upload.wikimedia.org:443\n"
     ]
    },
    {
     "name": "stdout",
     "output_type": "stream",
     "text": [
      "saved in images/Spider-Man:_No_Way_Home/Spider-Man:_No_Way_Home.jpg\n",
      "erroe: \n"
     ]
    },
    {
     "name": "stderr",
     "output_type": "stream",
     "text": [
      "2025-03-02 22:36:11 [urllib3.connectionpool] DEBUG: https://upload.wikimedia.org:443 \"GET /wikipedia/en/thumb/5/54/Avatar_The_Way_of_Water_poster.jpg/220px-Avatar_The_Way_of_Water_poster.jpg HTTP/1.1\" 200 25016\n",
      "2025-03-02 22:36:11 [scrapy.core.engine] DEBUG: Crawled (200) <GET https://en.wikipedia.org/wiki/Pirates_of_the_Caribbean:_At_World%27s_End> (referer: https://en.wikipedia.org/wiki/List_of_highest-grossing_films)\n",
      "2025-03-02 22:36:11 [scrapy.core.engine] DEBUG: Crawled (200) <GET https://en.wikipedia.org/wiki/Pirates_of_the_Caribbean:_Dead_Man%27s_Chest> (referer: https://en.wikipedia.org/wiki/List_of_highest-grossing_films)\n",
      "2025-03-02 22:36:11 [scrapy.core.engine] DEBUG: Crawled (200) <GET https://en.wikipedia.org/wiki/Shrek_2> (referer: https://en.wikipedia.org/wiki/List_of_highest-grossing_films)\n",
      "2025-03-02 22:36:11 [scrapy.core.scraper] DEBUG: Scraped from <200 https://en.wikipedia.org/wiki/Avengers:_Endgame>\n",
      "{'box_office': 2.799,\n",
      " 'countries': ['United States'],\n",
      " 'directors': [],\n",
      " 'image_urls': ['https://upload.wikimedia.org/wikipedia/en/0/0d/Avengers_Endgame_poster.jpg'],\n",
      " 'images': [],\n",
      " 'title': 'Avengers: Endgame',\n",
      " 'year': 2019}\n",
      "2025-03-02 22:36:11 [scrapy.core.scraper] DEBUG: Scraped from <200 https://en.wikipedia.org/wiki/Star_Wars:_The_Last_Jedi>\n",
      "{'box_office': 1.334,\n",
      " 'countries': ['United States'],\n",
      " 'directors': ['Rian Johnson'],\n",
      " 'image_urls': ['https://upload.wikimedia.org/wikipedia/en/7/7f/Star_Wars_The_Last_Jedi.jpg'],\n",
      " 'images': [],\n",
      " 'title': 'Star Wars: The Last Jedi',\n",
      " 'year': 2017}\n",
      "2025-03-02 22:36:11 [scrapy.core.scraper] DEBUG: Scraped from <200 https://en.wikipedia.org/wiki/Captain_America:_Civil_War>\n",
      "{'box_office': 1.155,\n",
      " 'countries': ['United States'],\n",
      " 'directors': [],\n",
      " 'image_urls': ['https://upload.wikimedia.org/wikipedia/en/5/53/Captain_America_Civil_War_poster.jpg'],\n",
      " 'images': [],\n",
      " 'title': 'Captain America: Civil War',\n",
      " 'year': 2016}\n",
      "2025-03-02 22:36:11 [scrapy.core.scraper] DEBUG: Scraped from <200 https://en.wikipedia.org/wiki/Spider-Man:_No_Way_Home>\n",
      "{'box_office': 1923000000.0,\n",
      " 'countries': ['United States'],\n",
      " 'directors': ['Jon Watts'],\n",
      " 'image_urls': ['https://upload.wikimedia.org/wikipedia/en/thumb/0/00/Spider-Man_No_Way_Home_poster.jpg/220px-Spider-Man_No_Way_Home_poster.jpg'],\n",
      " 'images': [],\n",
      " 'title': 'Spider-Man: No Way Home',\n",
      " 'year': 2021}\n",
      "2025-03-02 22:36:11 [scrapy.core.scraper] DEBUG: Scraped from <200 https://en.wikipedia.org/wiki/Avatar:_The_Way_of_Water>\n",
      "{'box_office': 2320000000.0,\n",
      " 'countries': ['United States'],\n",
      " 'directors': ['James Cameron'],\n",
      " 'image_urls': ['https://upload.wikimedia.org/wikipedia/en/thumb/5/54/Avatar_The_Way_of_Water_poster.jpg/220px-Avatar_The_Way_of_Water_poster.jpg'],\n",
      " 'images': [],\n",
      " 'title': 'Avatar: The Way of Water',\n",
      " 'year': 2022}\n",
      "2025-03-02 22:36:11 [scrapy.pipelines.media] ERROR: [Failure instance: Traceback: <class 'scrapy.pipelines.files.FileException'>: \n",
      "/Library/Frameworks/Python.framework/Versions/3.13/lib/python3.13/site-packages/twisted/internet/defer.py:1088:_runCallbacks\n",
      "/Library/Frameworks/Python.framework/Versions/3.13/lib/python3.13/site-packages/scrapy/pipelines/files.py:627:media_failed\n",
      "]\n",
      "NoneType: None\n",
      "2025-03-02 22:36:11 [scrapy.pipelines.media] ERROR: [Failure instance: Traceback: <class 'scrapy.pipelines.files.FileException'>: \n",
      "/Library/Frameworks/Python.framework/Versions/3.13/lib/python3.13/site-packages/twisted/internet/defer.py:1088:_runCallbacks\n",
      "/Library/Frameworks/Python.framework/Versions/3.13/lib/python3.13/site-packages/scrapy/pipelines/files.py:627:media_failed\n",
      "]\n",
      "NoneType: None\n",
      "2025-03-02 22:36:11 [scrapy.pipelines.media] ERROR: [Failure instance: Traceback: <class 'scrapy.pipelines.files.FileException'>: \n",
      "/Library/Frameworks/Python.framework/Versions/3.13/lib/python3.13/site-packages/twisted/internet/defer.py:1088:_runCallbacks\n",
      "/Library/Frameworks/Python.framework/Versions/3.13/lib/python3.13/site-packages/scrapy/pipelines/files.py:627:media_failed\n",
      "]\n",
      "NoneType: None\n",
      "2025-03-02 22:36:11 [scrapy.pipelines.media] ERROR: [Failure instance: Traceback: <class 'scrapy.pipelines.files.FileException'>: \n",
      "/Library/Frameworks/Python.framework/Versions/3.13/lib/python3.13/site-packages/twisted/internet/defer.py:1088:_runCallbacks\n",
      "/Library/Frameworks/Python.framework/Versions/3.13/lib/python3.13/site-packages/scrapy/pipelines/files.py:627:media_failed\n",
      "]\n",
      "NoneType: None\n",
      "2025-03-02 22:36:11 [scrapy.pipelines.media] ERROR: [Failure instance: Traceback: <class 'scrapy.pipelines.files.FileException'>: \n",
      "/Library/Frameworks/Python.framework/Versions/3.13/lib/python3.13/site-packages/twisted/internet/defer.py:1088:_runCallbacks\n",
      "/Library/Frameworks/Python.framework/Versions/3.13/lib/python3.13/site-packages/scrapy/pipelines/files.py:627:media_failed\n",
      "]\n",
      "NoneType: None\n",
      "2025-03-02 22:36:11 [scrapy.pipelines.media] ERROR: [Failure instance: Traceback: <class 'scrapy.pipelines.files.FileException'>: \n",
      "/Library/Frameworks/Python.framework/Versions/3.13/lib/python3.13/site-packages/twisted/internet/defer.py:1088:_runCallbacks\n",
      "/Library/Frameworks/Python.framework/Versions/3.13/lib/python3.13/site-packages/scrapy/pipelines/files.py:627:media_failed\n",
      "]\n",
      "NoneType: None\n",
      "2025-03-02 22:36:11 [scrapy.core.engine] DEBUG: Crawled (200) <GET https://en.wikipedia.org/wiki/The_Dark_Knight> (referer: https://en.wikipedia.org/wiki/List_of_highest-grossing_films)\n",
      "2025-03-02 22:36:11 [scrapy.core.engine] DEBUG: Crawled (200) <GET https://en.wikipedia.org/wiki/Harry_Potter_and_the_Philosopher%27s_Stone_(film)> (referer: https://en.wikipedia.org/wiki/List_of_highest-grossing_films)\n",
      "2025-03-02 22:36:11 [scrapy.core.engine] DEBUG: Crawled (200) <GET https://en.wikipedia.org/wiki/The_Lord_of_the_Rings:_The_Two_Towers> (referer: https://en.wikipedia.org/wiki/List_of_highest-grossing_films)\n",
      "2025-03-02 22:36:11 [scrapy.core.engine] DEBUG: Crawled (200) <GET https://en.wikipedia.org/wiki/Harry_Potter_and_the_Goblet_of_Fire_(film)> (referer: https://en.wikipedia.org/wiki/List_of_highest-grossing_films)\n",
      "2025-03-02 22:36:11 [scrapy.core.engine] DEBUG: Crawled (200) <GET https://en.wikipedia.org/wiki/The_Lord_of_the_Rings:_The_Return_of_the_King> (referer: https://en.wikipedia.org/wiki/List_of_highest-grossing_films)\n",
      "2025-03-02 22:36:11 [urllib3.connectionpool] DEBUG: Starting new HTTPS connection (1): upload.wikimedia.org:443\n"
     ]
    },
    {
     "name": "stdout",
     "output_type": "stream",
     "text": [
      "saved in images/Avatar:_The_Way_of_Water/Avatar:_The_Way_of_Water.jpg\n",
      "erroe: \n"
     ]
    },
    {
     "name": "stderr",
     "output_type": "stream",
     "text": [
      "2025-03-02 22:36:12 [urllib3.connectionpool] DEBUG: https://upload.wikimedia.org:443 \"GET /wikipedia/en/a/a2/Star_Wars_The_Force_Awakens_Theatrical_Poster.jpg HTTP/1.1\" 200 136703\n",
      "2025-03-02 22:36:12 [urllib3.connectionpool] DEBUG: Starting new HTTPS connection (1): upload.wikimedia.org:443\n"
     ]
    },
    {
     "name": "stdout",
     "output_type": "stream",
     "text": [
      "saved in images/Star_Wars:_The_Force_Awakens/Star_Wars:_The_Force_Awakens.jpg\n",
      "erroe: \n"
     ]
    },
    {
     "name": "stderr",
     "output_type": "stream",
     "text": [
      "2025-03-02 22:36:12 [urllib3.connectionpool] DEBUG: https://upload.wikimedia.org:443 \"GET /wikipedia/en/thumb/0/0f/Transformers_Age_of_Extinction_poster.jpg/220px-Transformers_Age_of_Extinction_poster.jpg HTTP/1.1\" 200 28514\n",
      "2025-03-02 22:36:12 [urllib3.connectionpool] DEBUG: Starting new HTTPS connection (1): upload.wikimedia.org:443\n"
     ]
    },
    {
     "name": "stdout",
     "output_type": "stream",
     "text": [
      "saved in images/Transformers:_Age_of_Extinction/Transformers:_Age_of_Extinction.jpg\n",
      "erroe: \n"
     ]
    },
    {
     "name": "stderr",
     "output_type": "stream",
     "text": [
      "2025-03-02 22:36:12 [urllib3.connectionpool] DEBUG: https://upload.wikimedia.org:443 \"GET /wikipedia/en/4/4d/Avengers_Infinity_War_poster.jpg HTTP/1.1\" 200 148837\n"
     ]
    },
    {
     "name": "stdout",
     "output_type": "stream",
     "text": [
      "saved in images/Avengers:_Infinity_War/Avengers:_Infinity_War.jpg\n",
      "erroe: \n"
     ]
    },
    {
     "name": "stderr",
     "output_type": "stream",
     "text": [
      "2025-03-02 22:36:13 [urllib3.connectionpool] DEBUG: Starting new HTTPS connection (1): upload.wikimedia.org:443\n",
      "2025-03-02 22:36:13 [urllib3.connectionpool] DEBUG: https://upload.wikimedia.org:443 \"GET /wikipedia/en/thumb/0/05/Frozen_%282013_film%29_poster.jpg/220px-Frozen_%282013_film%29_poster.jpg HTTP/1.1\" 200 32348\n",
      "2025-03-02 22:36:13 [urllib3.connectionpool] DEBUG: Starting new HTTPS connection (1): upload.wikimedia.org:443\n"
     ]
    },
    {
     "name": "stdout",
     "output_type": "stream",
     "text": [
      "saved in images/Frozen/Frozen.jpg\n",
      "erroe: \n"
     ]
    },
    {
     "name": "stderr",
     "output_type": "stream",
     "text": [
      "2025-03-02 22:36:13 [urllib3.connectionpool] DEBUG: https://upload.wikimedia.org:443 \"GET /wikipedia/en/6/69/Toy_Story_3_poster.jpg HTTP/1.1\" 200 170860\n",
      "2025-03-02 22:36:14 [urllib3.connectionpool] DEBUG: Starting new HTTPS connection (1): upload.wikimedia.org:443\n"
     ]
    },
    {
     "name": "stdout",
     "output_type": "stream",
     "text": [
      "saved in images/Toy_Story_3/Toy_Story_3.jpg\n",
      "erroe: \n"
     ]
    },
    {
     "name": "stderr",
     "output_type": "stream",
     "text": [
      "2025-03-02 22:36:14 [urllib3.connectionpool] DEBUG: https://upload.wikimedia.org:443 \"GET /wikipedia/en/d/df/Harry_Potter_and_the_Deathly_Hallows_%E2%80%93_Part_2.jpg HTTP/1.1\" 200 113121\n"
     ]
    },
    {
     "name": "stdout",
     "output_type": "stream",
     "text": [
      "saved in images/Harry_Potter_/Harry_Potter_.jpg\n",
      "erroe: \n"
     ]
    },
    {
     "name": "stderr",
     "output_type": "stream",
     "text": [
      "2025-03-02 22:36:14 [scrapy.pipelines.media] ERROR: [Failure instance: Traceback: <class 'scrapy.pipelines.files.FileException'>: \n",
      "/Library/Frameworks/Python.framework/Versions/3.13/lib/python3.13/site-packages/twisted/internet/defer.py:1088:_runCallbacks\n",
      "/Library/Frameworks/Python.framework/Versions/3.13/lib/python3.13/site-packages/scrapy/pipelines/files.py:627:media_failed\n",
      "]\n",
      "NoneType: None\n",
      "2025-03-02 22:36:14 [scrapy.pipelines.media] ERROR: [Failure instance: Traceback: <class 'scrapy.pipelines.files.FileException'>: \n",
      "/Library/Frameworks/Python.framework/Versions/3.13/lib/python3.13/site-packages/twisted/internet/defer.py:1088:_runCallbacks\n",
      "/Library/Frameworks/Python.framework/Versions/3.13/lib/python3.13/site-packages/scrapy/pipelines/files.py:627:media_failed\n",
      "]\n",
      "NoneType: None\n",
      "2025-03-02 22:36:14 [scrapy.core.scraper] DEBUG: Scraped from <200 https://en.wikipedia.org/wiki/Star_Wars:_The_Force_Awakens>\n",
      "{'box_office': 2.07,\n",
      " 'countries': ['United States'],\n",
      " 'directors': ['J. J. Abrams'],\n",
      " 'image_urls': ['https://upload.wikimedia.org/wikipedia/en/a/a2/Star_Wars_The_Force_Awakens_Theatrical_Poster.jpg'],\n",
      " 'images': [],\n",
      " 'title': 'Star Wars: The Force Awakens',\n",
      " 'year': 2015}\n",
      "2025-03-02 22:36:14 [scrapy.core.scraper] DEBUG: Scraped from <200 https://en.wikipedia.org/wiki/Transformers:_Age_of_Extinction>\n",
      "{'box_office': 1104000000.0,\n",
      " 'countries': ['United States'],\n",
      " 'directors': ['Michael Bay'],\n",
      " 'image_urls': ['https://upload.wikimedia.org/wikipedia/en/thumb/0/0f/Transformers_Age_of_Extinction_poster.jpg/220px-Transformers_Age_of_Extinction_poster.jpg'],\n",
      " 'images': [],\n",
      " 'title': 'Transformers: Age of Extinction',\n",
      " 'year': 2014}\n",
      "2025-03-02 22:36:14 [scrapy.core.scraper] DEBUG: Scraped from <200 https://en.wikipedia.org/wiki/Avengers:_Infinity_War>\n",
      "{'box_office': 2052000000.0,\n",
      " 'countries': ['United States'],\n",
      " 'directors': [],\n",
      " 'image_urls': ['https://upload.wikimedia.org/wikipedia/en/4/4d/Avengers_Infinity_War_poster.jpg'],\n",
      " 'images': [],\n",
      " 'title': 'Avengers: Infinity War',\n",
      " 'year': 2018}\n",
      "2025-03-02 22:36:14 [scrapy.core.scraper] DEBUG: Scraped from <200 https://en.wikipedia.org/wiki/Frozen_(2013_film)>\n",
      "{'box_office': 1280000000.0,\n",
      " 'countries': ['United States'],\n",
      " 'directors': ['Chris Buck', 'Jennifer Lee'],\n",
      " 'image_urls': ['https://upload.wikimedia.org/wikipedia/en/thumb/0/05/Frozen_%282013_film%29_poster.jpg/220px-Frozen_%282013_film%29_poster.jpg'],\n",
      " 'images': [],\n",
      " 'title': 'Frozen',\n",
      " 'year': 2013}\n",
      "2025-03-02 22:36:14 [scrapy.core.scraper] DEBUG: Scraped from <200 https://en.wikipedia.org/wiki/Toy_Story_3>\n",
      "{'box_office': 1067000000.0,\n",
      " 'countries': ['United States'],\n",
      " 'directors': ['Lee Unkrich'],\n",
      " 'image_urls': ['https://upload.wikimedia.org/wikipedia/en/6/69/Toy_Story_3_poster.jpg'],\n",
      " 'images': [],\n",
      " 'title': 'Toy Story 3',\n",
      " 'year': 2010}\n",
      "2025-03-02 22:36:14 [scrapy.core.scraper] DEBUG: Scraped from <200 https://en.wikipedia.org/wiki/Harry_Potter_and_the_Deathly_Hallows_%E2%80%93_Part_2>\n",
      "{'box_office': 1342000000.0,\n",
      " 'countries': ['United Kingdom', 'United States'],\n",
      " 'directors': ['David Yates'],\n",
      " 'image_urls': ['https://upload.wikimedia.org/wikipedia/en/d/df/Harry_Potter_and_the_Deathly_Hallows_%E2%80%93_Part_2.jpg'],\n",
      " 'images': [],\n",
      " 'title': 'Harry Potter ',\n",
      " 'year': 2011}\n",
      "2025-03-02 22:36:14 [urllib3.connectionpool] DEBUG: Starting new HTTPS connection (1): upload.wikimedia.org:443\n",
      "2025-03-02 22:36:15 [urllib3.connectionpool] DEBUG: https://upload.wikimedia.org:443 \"GET /wikipedia/en/8/8a/The_Avengers_%282012_film%29_poster.jpg HTTP/1.1\" 200 158994\n",
      "2025-03-02 22:36:15 [urllib3.connectionpool] DEBUG: Starting new HTTPS connection (1): upload.wikimedia.org:443\n"
     ]
    },
    {
     "name": "stdout",
     "output_type": "stream",
     "text": [
      "saved in images/The_Avengers/The_Avengers.jpg\n",
      "erroe: \n"
     ]
    },
    {
     "name": "stderr",
     "output_type": "stream",
     "text": [
      "2025-03-02 22:36:15 [urllib3.connectionpool] DEBUG: https://upload.wikimedia.org:443 \"GET /wikipedia/en/thumb/d/d6/Avatar_%282009_film%29_poster.jpg/220px-Avatar_%282009_film%29_poster.jpg HTTP/1.1\" 200 17051\n",
      "2025-03-02 22:36:15 [scrapy.core.scraper] DEBUG: Scraped from <200 https://en.wikipedia.org/wiki/The_Avengers_(2012_film)>\n",
      "{'box_office': 1521000000.0,\n",
      " 'countries': ['United States'],\n",
      " 'directors': ['Joss Whedon'],\n",
      " 'image_urls': ['https://upload.wikimedia.org/wikipedia/en/8/8a/The_Avengers_%282012_film%29_poster.jpg'],\n",
      " 'images': [],\n",
      " 'title': 'The Avengers',\n",
      " 'year': 2012}\n",
      "2025-03-02 22:36:15 [scrapy.core.scraper] DEBUG: Scraped from <200 https://en.wikipedia.org/wiki/Avatar_(2009_film)>\n",
      "{'box_office': 2923000000.0,\n",
      " 'countries': ['United Kingdom', 'United States'],\n",
      " 'directors': ['James Cameron'],\n",
      " 'image_urls': ['https://upload.wikimedia.org/wikipedia/en/thumb/d/d6/Avatar_%282009_film%29_poster.jpg/220px-Avatar_%282009_film%29_poster.jpg'],\n",
      " 'images': [],\n",
      " 'title': 'Avatar',\n",
      " 'year': 2009}\n",
      "2025-03-02 22:36:15 [scrapy.pipelines.media] ERROR: [Failure instance: Traceback: <class 'scrapy.pipelines.files.FileException'>: \n",
      "/Library/Frameworks/Python.framework/Versions/3.13/lib/python3.13/site-packages/twisted/internet/defer.py:1088:_runCallbacks\n",
      "/Library/Frameworks/Python.framework/Versions/3.13/lib/python3.13/site-packages/scrapy/pipelines/files.py:627:media_failed\n",
      "]\n",
      "NoneType: None\n",
      "2025-03-02 22:36:15 [scrapy.pipelines.media] ERROR: [Failure instance: Traceback: <class 'scrapy.pipelines.files.FileException'>: \n",
      "/Library/Frameworks/Python.framework/Versions/3.13/lib/python3.13/site-packages/twisted/internet/defer.py:1088:_runCallbacks\n",
      "/Library/Frameworks/Python.framework/Versions/3.13/lib/python3.13/site-packages/scrapy/pipelines/files.py:627:media_failed\n",
      "]\n",
      "NoneType: None\n",
      "2025-03-02 22:36:15 [scrapy.pipelines.media] ERROR: [Failure instance: Traceback: <class 'scrapy.pipelines.files.FileException'>: \n",
      "/Library/Frameworks/Python.framework/Versions/3.13/lib/python3.13/site-packages/twisted/internet/defer.py:1088:_runCallbacks\n",
      "/Library/Frameworks/Python.framework/Versions/3.13/lib/python3.13/site-packages/scrapy/pipelines/files.py:627:media_failed\n",
      "]\n",
      "NoneType: None\n",
      "2025-03-02 22:36:15 [urllib3.connectionpool] DEBUG: Starting new HTTPS connection (1): upload.wikimedia.org:443\n"
     ]
    },
    {
     "name": "stdout",
     "output_type": "stream",
     "text": [
      "saved in images/Avatar/Avatar.jpg\n",
      "erroe: \n"
     ]
    },
    {
     "name": "stderr",
     "output_type": "stream",
     "text": [
      "2025-03-02 22:36:16 [urllib3.connectionpool] DEBUG: https://upload.wikimedia.org:443 \"GET /wikipedia/en/thumb/5/5a/Pirates_AWE_Poster.jpg/220px-Pirates_AWE_Poster.jpg HTTP/1.1\" 200 23755\n",
      "2025-03-02 22:36:16 [urllib3.connectionpool] DEBUG: Starting new HTTPS connection (1): upload.wikimedia.org:443\n"
     ]
    },
    {
     "name": "stdout",
     "output_type": "stream",
     "text": [
      "saved in images/Pirates_of_the_Caribbean:/Pirates_of_the_Caribbean:.jpg\n",
      "erroe: \n"
     ]
    },
    {
     "name": "stderr",
     "output_type": "stream",
     "text": [
      "2025-03-02 22:36:16 [urllib3.connectionpool] DEBUG: https://upload.wikimedia.org:443 \"GET /wikipedia/en/thumb/2/2d/Pirates_of_the_caribbean_2_poster_b.jpg/220px-Pirates_of_the_caribbean_2_poster_b.jpg HTTP/1.1\" 200 36118\n",
      "2025-03-02 22:36:16 [urllib3.connectionpool] DEBUG: Starting new HTTPS connection (1): upload.wikimedia.org:443\n"
     ]
    },
    {
     "name": "stdout",
     "output_type": "stream",
     "text": [
      "saved in images/Pirates_of_the_Caribbean:_/Pirates_of_the_Caribbean:_.jpg\n",
      "erroe: \n"
     ]
    },
    {
     "name": "stderr",
     "output_type": "stream",
     "text": [
      "2025-03-02 22:36:17 [urllib3.connectionpool] DEBUG: https://upload.wikimedia.org:443 \"GET /wikipedia/en/b/b9/Shrek_2_poster.jpg HTTP/1.1\" 200 130879\n",
      "2025-03-02 22:36:17 [scrapy.pipelines.media] ERROR: [Failure instance: Traceback: <class 'scrapy.pipelines.files.FileException'>: \n",
      "/Library/Frameworks/Python.framework/Versions/3.13/lib/python3.13/site-packages/twisted/internet/defer.py:1088:_runCallbacks\n",
      "/Library/Frameworks/Python.framework/Versions/3.13/lib/python3.13/site-packages/scrapy/pipelines/files.py:627:media_failed\n",
      "]\n",
      "NoneType: None\n",
      "2025-03-02 22:36:17 [scrapy.pipelines.media] ERROR: [Failure instance: Traceback: <class 'scrapy.pipelines.files.FileException'>: \n",
      "/Library/Frameworks/Python.framework/Versions/3.13/lib/python3.13/site-packages/twisted/internet/defer.py:1088:_runCallbacks\n",
      "/Library/Frameworks/Python.framework/Versions/3.13/lib/python3.13/site-packages/scrapy/pipelines/files.py:627:media_failed\n",
      "]\n",
      "NoneType: None\n",
      "2025-03-02 22:36:17 [scrapy.pipelines.media] ERROR: [Failure instance: Traceback: <class 'scrapy.pipelines.files.FileException'>: \n",
      "/Library/Frameworks/Python.framework/Versions/3.13/lib/python3.13/site-packages/twisted/internet/defer.py:1088:_runCallbacks\n",
      "/Library/Frameworks/Python.framework/Versions/3.13/lib/python3.13/site-packages/scrapy/pipelines/files.py:627:media_failed\n",
      "]\n",
      "NoneType: None\n"
     ]
    },
    {
     "name": "stdout",
     "output_type": "stream",
     "text": [
      "saved in images/Shrek_2/Shrek_2.jpg\n",
      "erroe: \n"
     ]
    },
    {
     "name": "stderr",
     "output_type": "stream",
     "text": [
      "2025-03-02 22:36:17 [scrapy.pipelines.media] ERROR: [Failure instance: Traceback: <class 'scrapy.pipelines.files.FileException'>: \n",
      "/Library/Frameworks/Python.framework/Versions/3.13/lib/python3.13/site-packages/twisted/internet/defer.py:1088:_runCallbacks\n",
      "/Library/Frameworks/Python.framework/Versions/3.13/lib/python3.13/site-packages/scrapy/pipelines/files.py:627:media_failed\n",
      "]\n",
      "NoneType: None\n",
      "2025-03-02 22:36:17 [scrapy.pipelines.media] ERROR: [Failure instance: Traceback: <class 'scrapy.pipelines.files.FileException'>: \n",
      "/Library/Frameworks/Python.framework/Versions/3.13/lib/python3.13/site-packages/twisted/internet/defer.py:1088:_runCallbacks\n",
      "/Library/Frameworks/Python.framework/Versions/3.13/lib/python3.13/site-packages/scrapy/pipelines/files.py:627:media_failed\n",
      "]\n",
      "NoneType: None\n",
      "2025-03-02 22:36:17 [scrapy.core.scraper] DEBUG: Scraped from <200 https://en.wikipedia.org/wiki/Pirates_of_the_Caribbean:_At_World%27s_End>\n",
      "{'box_office': 963400000.0,\n",
      " 'countries': ['United States'],\n",
      " 'directors': ['Gore Verbinski'],\n",
      " 'image_urls': ['https://upload.wikimedia.org/wikipedia/en/thumb/5/5a/Pirates_AWE_Poster.jpg/220px-Pirates_AWE_Poster.jpg'],\n",
      " 'images': [],\n",
      " 'title': 'Pirates of the Caribbean:',\n",
      " 'year': 2007}\n",
      "2025-03-02 22:36:17 [scrapy.core.scraper] DEBUG: Scraped from <200 https://en.wikipedia.org/wiki/Pirates_of_the_Caribbean:_Dead_Man%27s_Chest>\n",
      "{'box_office': 1066000000.0,\n",
      " 'countries': ['United States'],\n",
      " 'directors': ['Gore Verbinski'],\n",
      " 'image_urls': ['https://upload.wikimedia.org/wikipedia/en/thumb/2/2d/Pirates_of_the_caribbean_2_poster_b.jpg/220px-Pirates_of_the_caribbean_2_poster_b.jpg'],\n",
      " 'images': [],\n",
      " 'title': 'Pirates of the Caribbean: ',\n",
      " 'year': 2006}\n",
      "2025-03-02 22:36:17 [scrapy.core.scraper] DEBUG: Scraped from <200 https://en.wikipedia.org/wiki/Shrek_2>\n",
      "{'box_office': 935500000.0,\n",
      " 'countries': ['United States'],\n",
      " 'directors': ['Andrew Adamson', 'Kelly Asbury', 'Conrad Vernon'],\n",
      " 'image_urls': ['https://upload.wikimedia.org/wikipedia/en/b/b9/Shrek_2_poster.jpg'],\n",
      " 'images': [],\n",
      " 'title': 'Shrek 2',\n",
      " 'year': 2004}\n",
      "2025-03-02 22:36:17 [urllib3.connectionpool] DEBUG: Starting new HTTPS connection (1): upload.wikimedia.org:443\n",
      "2025-03-02 22:36:17 [urllib3.connectionpool] DEBUG: https://upload.wikimedia.org:443 \"GET /wikipedia/en/1/1c/The_Dark_Knight_%282008_film%29.jpg HTTP/1.1\" 200 128582\n",
      "2025-03-02 22:36:17 [urllib3.connectionpool] DEBUG: Starting new HTTPS connection (1): upload.wikimedia.org:443\n"
     ]
    },
    {
     "name": "stdout",
     "output_type": "stream",
     "text": [
      "saved in images/The_Dark_Knight/The_Dark_Knight.jpg\n",
      "erroe: \n"
     ]
    },
    {
     "name": "stderr",
     "output_type": "stream",
     "text": [
      "2025-03-02 22:36:18 [urllib3.connectionpool] DEBUG: https://upload.wikimedia.org:443 \"GET /wikipedia/en/thumb/7/7a/Harry_Potter_and_the_Philosopher%27s_Stone_banner.jpg/220px-Harry_Potter_and_the_Philosopher%27s_Stone_banner.jpg HTTP/1.1\" 200 20426\n",
      "2025-03-02 22:36:18 [urllib3.connectionpool] DEBUG: Starting new HTTPS connection (1): upload.wikimedia.org:443\n"
     ]
    },
    {
     "name": "stdout",
     "output_type": "stream",
     "text": [
      "saved in images/Harry_Potter_/Harry_Potter_.jpg\n",
      "erroe: \n"
     ]
    },
    {
     "name": "stderr",
     "output_type": "stream",
     "text": [
      "2025-03-02 22:36:18 [urllib3.connectionpool] DEBUG: https://upload.wikimedia.org:443 \"GET /wikipedia/en/a/a1/Lord_Rings_Two_Towers.jpg HTTP/1.1\" 200 98939\n",
      "2025-03-02 22:36:18 [urllib3.connectionpool] DEBUG: Starting new HTTPS connection (1): upload.wikimedia.org:443\n"
     ]
    },
    {
     "name": "stdout",
     "output_type": "stream",
     "text": [
      "saved in images/The_Lord_of_the_Rings:/The_Lord_of_the_Rings:.jpg\n",
      "erroe: \n"
     ]
    },
    {
     "name": "stderr",
     "output_type": "stream",
     "text": [
      "2025-03-02 22:36:19 [urllib3.connectionpool] DEBUG: https://upload.wikimedia.org:443 \"GET /wikipedia/en/thumb/c/c9/Harry_Potter_and_the_Goblet_of_Fire_Poster.jpg/220px-Harry_Potter_and_the_Goblet_of_Fire_Poster.jpg HTTP/1.1\" 200 13822\n",
      "2025-03-02 22:36:19 [urllib3.connectionpool] DEBUG: Starting new HTTPS connection (1): upload.wikimedia.org:443\n"
     ]
    },
    {
     "name": "stdout",
     "output_type": "stream",
     "text": [
      "saved in images/Harry_Potter_/Harry_Potter_.jpg\n",
      "erroe: \n"
     ]
    },
    {
     "name": "stderr",
     "output_type": "stream",
     "text": [
      "2025-03-02 22:36:19 [urllib3.connectionpool] DEBUG: https://upload.wikimedia.org:443 \"GET /wikipedia/en/4/48/Lord_Rings_Return_King.jpg HTTP/1.1\" 200 103035\n",
      "2025-03-02 22:36:19 [scrapy.core.scraper] DEBUG: Scraped from <200 https://en.wikipedia.org/wiki/The_Dark_Knight>\n",
      "{'box_office': 1.006,\n",
      " 'countries': ['United States', 'United Kingdom'],\n",
      " 'directors': ['Christopher Nolan'],\n",
      " 'image_urls': ['https://upload.wikimedia.org/wikipedia/en/1/1c/The_Dark_Knight_%282008_film%29.jpg'],\n",
      " 'images': [],\n",
      " 'title': 'The Dark Knight',\n",
      " 'year': 2008}\n",
      "2025-03-02 22:36:19 [scrapy.core.scraper] DEBUG: Scraped from <200 https://en.wikipedia.org/wiki/Harry_Potter_and_the_Philosopher%27s_Stone_(film)>\n",
      "{'box_office': 1026000000.0,\n",
      " 'countries': ['United Kingdom', 'United States'],\n",
      " 'directors': ['Chris Columbus'],\n",
      " 'image_urls': ['https://upload.wikimedia.org/wikipedia/en/thumb/7/7a/Harry_Potter_and_the_Philosopher%27s_Stone_banner.jpg/220px-Harry_Potter_and_the_Philosopher%27s_Stone_banner.jpg'],\n",
      " 'images': [],\n",
      " 'title': 'Harry Potter ',\n",
      " 'year': 2001}\n",
      "2025-03-02 22:36:19 [scrapy.core.scraper] DEBUG: Scraped from <200 https://en.wikipedia.org/wiki/The_Lord_of_the_Rings:_The_Two_Towers>\n",
      "{'box_office': 951600000.0,\n",
      " 'countries': ['New Zealand', 'United States'],\n",
      " 'directors': ['Peter Jackson'],\n",
      " 'image_urls': ['https://upload.wikimedia.org/wikipedia/en/a/a1/Lord_Rings_Two_Towers.jpg'],\n",
      " 'images': [],\n",
      " 'title': 'The Lord of the Rings:',\n",
      " 'year': 2002}\n",
      "2025-03-02 22:36:19 [scrapy.core.scraper] DEBUG: Scraped from <200 https://en.wikipedia.org/wiki/Harry_Potter_and_the_Goblet_of_Fire_(film)>\n",
      "{'box_office': 897500000.0,\n",
      " 'countries': ['United Kingdom', 'United States'],\n",
      " 'directors': ['Mike Newell'],\n",
      " 'image_urls': ['https://upload.wikimedia.org/wikipedia/en/thumb/c/c9/Harry_Potter_and_the_Goblet_of_Fire_Poster.jpg/220px-Harry_Potter_and_the_Goblet_of_Fire_Poster.jpg'],\n",
      " 'images': [],\n",
      " 'title': 'Harry Potter ',\n",
      " 'year': 2005}\n",
      "2025-03-02 22:36:19 [scrapy.core.scraper] DEBUG: Scraped from <200 https://en.wikipedia.org/wiki/The_Lord_of_the_Rings:_The_Return_of_the_King>\n",
      "{'box_office': 1151000000.0,\n",
      " 'countries': ['New Zealand', 'Germany', 'United States'],\n",
      " 'directors': ['Peter Jackson'],\n",
      " 'image_urls': ['https://upload.wikimedia.org/wikipedia/en/4/48/Lord_Rings_Return_King.jpg'],\n",
      " 'images': [],\n",
      " 'title': 'The Lord of the Rings:',\n",
      " 'year': 2003}\n"
     ]
    },
    {
     "name": "stdout",
     "output_type": "stream",
     "text": [
      "saved in images/The_Lord_of_the_Rings:/The_Lord_of_the_Rings:.jpg\n",
      "erroe: \n"
     ]
    },
    {
     "name": "stderr",
     "output_type": "stream",
     "text": [
      "2025-03-02 22:36:19 [scrapy.core.engine] DEBUG: Crawled (200) <GET https://en.wikipedia.org/wiki/Mission:_Impossible_2> (referer: https://en.wikipedia.org/wiki/List_of_highest-grossing_films)\n",
      "2025-03-02 22:36:19 [scrapy.core.engine] DEBUG: Crawled (200) <GET https://en.wikipedia.org/wiki/Die_Hard_with_a_Vengeance> (referer: https://en.wikipedia.org/wiki/List_of_highest-grossing_films)\n",
      "2025-03-02 22:36:19 [scrapy.core.engine] DEBUG: Crawled (200) <GET https://en.wikipedia.org/wiki/Toy_Story> (referer: https://en.wikipedia.org/wiki/List_of_highest-grossing_films)\n",
      "2025-03-02 22:36:19 [scrapy.core.engine] DEBUG: Crawled (200) <GET https://en.wikipedia.org/wiki/The_Lion_King> (referer: https://en.wikipedia.org/wiki/List_of_highest-grossing_films)\n",
      "2025-03-02 22:36:19 [scrapy.pipelines.media] ERROR: [Failure instance: Traceback: <class 'scrapy.pipelines.files.FileException'>: \n",
      "/Library/Frameworks/Python.framework/Versions/3.13/lib/python3.13/site-packages/twisted/internet/defer.py:1088:_runCallbacks\n",
      "/Library/Frameworks/Python.framework/Versions/3.13/lib/python3.13/site-packages/scrapy/pipelines/files.py:627:media_failed\n",
      "]\n",
      "NoneType: None\n",
      "2025-03-02 22:36:19 [urllib3.connectionpool] DEBUG: Starting new HTTPS connection (1): upload.wikimedia.org:443\n",
      "2025-03-02 22:36:20 [urllib3.connectionpool] DEBUG: https://upload.wikimedia.org:443 \"GET /wikipedia/en/thumb/4/48/Mission_Impossible_II.jpg/220px-Mission_Impossible_II.jpg HTTP/1.1\" 403 2184\n",
      "2025-03-02 22:36:20 [scrapy.core.engine] DEBUG: Crawled (200) <GET https://en.wikipedia.org/wiki/Titanic_(1997_film)> (referer: https://en.wikipedia.org/wiki/List_of_highest-grossing_films)\n",
      "2025-03-02 22:36:20 [scrapy.core.engine] DEBUG: Crawled (200) <GET https://en.wikipedia.org/wiki/Armageddon_(1998_film)> (referer: https://en.wikipedia.org/wiki/List_of_highest-grossing_films)\n",
      "2025-03-02 22:36:20 [scrapy.core.engine] DEBUG: Crawled (200) <GET https://en.wikipedia.org/wiki/Independence_Day_(1996_film)> (referer: https://en.wikipedia.org/wiki/List_of_highest-grossing_films)\n",
      "2025-03-02 22:36:20 [scrapy.core.engine] DEBUG: Crawled (200) <GET https://en.wikipedia.org/wiki/Aladdin_(1992_Disney_film)> (referer: https://en.wikipedia.org/wiki/List_of_highest-grossing_films)\n",
      "2025-03-02 22:36:20 [scrapy.core.engine] DEBUG: Crawled (200) <GET https://en.wikipedia.org/wiki/Ghost_(1990_film)> (referer: https://en.wikipedia.org/wiki/List_of_highest-grossing_films)\n",
      "2025-03-02 22:36:20 [scrapy.core.engine] DEBUG: Crawled (200) <GET https://en.wikipedia.org/wiki/Star_Wars:_Episode_I_%E2%80%93_The_Phantom_Menace> (referer: https://en.wikipedia.org/wiki/List_of_highest-grossing_films)\n",
      "2025-03-02 22:36:20 [scrapy.core.scraper] DEBUG: Scraped from <200 https://en.wikipedia.org/wiki/Mission:_Impossible_2>\n",
      "{'box_office': 546300000.0,\n",
      " 'countries': ['United States', 'Germany'],\n",
      " 'directors': ['John Woo'],\n",
      " 'image_urls': ['https://upload.wikimedia.org/wikipedia/en/thumb/4/48/Mission_Impossible_II.jpg/220px-Mission_Impossible_II.jpg'],\n",
      " 'images': [],\n",
      " 'title': 'Mission: Impossible 2',\n",
      " 'year': 2000}\n",
      "2025-03-02 22:36:20 [scrapy.core.engine] DEBUG: Crawled (200) <GET https://en.wikipedia.org/wiki/Jurassic_Park_(film)> (referer: https://en.wikipedia.org/wiki/List_of_highest-grossing_films)\n",
      "2025-03-02 22:36:20 [scrapy.core.engine] DEBUG: Crawled (200) <GET https://en.wikipedia.org/wiki/Terminator_2:_Judgment_Day> (referer: https://en.wikipedia.org/wiki/List_of_highest-grossing_films)\n",
      "2025-03-02 22:36:20 [scrapy.pipelines.media] ERROR: [Failure instance: Traceback: <class 'scrapy.pipelines.files.FileException'>: \n",
      "/Library/Frameworks/Python.framework/Versions/3.13/lib/python3.13/site-packages/twisted/internet/defer.py:1088:_runCallbacks\n",
      "/Library/Frameworks/Python.framework/Versions/3.13/lib/python3.13/site-packages/scrapy/pipelines/files.py:627:media_failed\n",
      "]\n",
      "NoneType: None\n",
      "2025-03-02 22:36:20 [urllib3.connectionpool] DEBUG: Starting new HTTPS connection (1): upload.wikimedia.org:443\n"
     ]
    },
    {
     "name": "stdout",
     "output_type": "stream",
     "text": [
      "error: 403\n"
     ]
    },
    {
     "name": "stderr",
     "output_type": "stream",
     "text": [
      "2025-03-02 22:36:20 [urllib3.connectionpool] DEBUG: https://upload.wikimedia.org:443 \"GET /wikipedia/en/thumb/4/4c/Die_Hard_With_A_Vengance.jpg/220px-Die_Hard_With_A_Vengance.jpg HTTP/1.1\" 200 21748\n",
      "2025-03-02 22:36:20 [scrapy.pipelines.media] ERROR: [Failure instance: Traceback: <class 'scrapy.pipelines.files.FileException'>: \n",
      "/Library/Frameworks/Python.framework/Versions/3.13/lib/python3.13/site-packages/twisted/internet/defer.py:1088:_runCallbacks\n",
      "/Library/Frameworks/Python.framework/Versions/3.13/lib/python3.13/site-packages/scrapy/pipelines/files.py:627:media_failed\n",
      "]\n",
      "NoneType: None\n",
      "2025-03-02 22:36:20 [scrapy.pipelines.media] ERROR: [Failure instance: Traceback: <class 'scrapy.pipelines.files.FileException'>: \n",
      "/Library/Frameworks/Python.framework/Versions/3.13/lib/python3.13/site-packages/twisted/internet/defer.py:1088:_runCallbacks\n",
      "/Library/Frameworks/Python.framework/Versions/3.13/lib/python3.13/site-packages/scrapy/pipelines/files.py:627:media_failed\n",
      "]\n",
      "NoneType: None\n",
      "2025-03-02 22:36:20 [scrapy.core.engine] DEBUG: Crawled (200) <GET https://en.wikipedia.org/wiki/Fatal_Attraction> (referer: https://en.wikipedia.org/wiki/List_of_highest-grossing_films)\n",
      "2025-03-02 22:36:20 [scrapy.core.engine] DEBUG: Crawled (200) <GET https://en.wikipedia.org/wiki/Rain_Man> (referer: https://en.wikipedia.org/wiki/List_of_highest-grossing_films)\n",
      "2025-03-02 22:36:20 [scrapy.core.scraper] DEBUG: Scraped from <200 https://en.wikipedia.org/wiki/Die_Hard_with_a_Vengeance>\n",
      "{'box_office': 366100000.0,\n",
      " 'countries': ['United States'],\n",
      " 'directors': ['John McTiernan'],\n",
      " 'image_urls': ['https://upload.wikimedia.org/wikipedia/en/thumb/4/4c/Die_Hard_With_A_Vengance.jpg/220px-Die_Hard_With_A_Vengance.jpg'],\n",
      " 'images': [],\n",
      " 'title': 'Die Hard with a Vengeance',\n",
      " 'year': 1995}\n",
      "2025-03-02 22:36:20 [urllib3.connectionpool] DEBUG: Starting new HTTPS connection (1): upload.wikimedia.org:443\n"
     ]
    },
    {
     "name": "stdout",
     "output_type": "stream",
     "text": [
      "saved in images/Die_Hard_with_a_Vengeance/Die_Hard_with_a_Vengeance.jpg\n",
      "erroe: \n"
     ]
    },
    {
     "name": "stderr",
     "output_type": "stream",
     "text": [
      "2025-03-02 22:36:21 [urllib3.connectionpool] DEBUG: https://upload.wikimedia.org:443 \"GET /wikipedia/en/thumb/1/13/Toy_Story.jpg/220px-Toy_Story.jpg HTTP/1.1\" 200 29756\n",
      "2025-03-02 22:36:21 [urllib3.connectionpool] DEBUG: Starting new HTTPS connection (1): upload.wikimedia.org:443\n"
     ]
    },
    {
     "name": "stdout",
     "output_type": "stream",
     "text": [
      "saved in images/Toy_Story/Toy_Story.jpg\n",
      "erroe: \n"
     ]
    },
    {
     "name": "stderr",
     "output_type": "stream",
     "text": [
      "2025-03-02 22:36:21 [urllib3.connectionpool] DEBUG: https://upload.wikimedia.org:443 \"GET /wikipedia/en/thumb/3/3d/The_Lion_King_poster.jpg/220px-The_Lion_King_poster.jpg HTTP/1.1\" 200 19649\n",
      "2025-03-02 22:36:21 [scrapy.core.engine] DEBUG: Crawled (200) <GET https://en.wikipedia.org/wiki/Top_Gun> (referer: https://en.wikipedia.org/wiki/List_of_highest-grossing_films)\n",
      "2025-03-02 22:36:21 [scrapy.core.engine] DEBUG: Crawled (200) <GET https://en.wikipedia.org/wiki/Indiana_Jones_and_the_Last_Crusade> (referer: https://en.wikipedia.org/wiki/List_of_highest-grossing_films)\n",
      "2025-03-02 22:36:21 [scrapy.core.scraper] DEBUG: Scraped from <200 https://en.wikipedia.org/wiki/Toy_Story>\n",
      "{'box_office': 394400000.0,\n",
      " 'countries': ['United States'],\n",
      " 'directors': ['John Lasseter'],\n",
      " 'image_urls': ['https://upload.wikimedia.org/wikipedia/en/thumb/1/13/Toy_Story.jpg/220px-Toy_Story.jpg'],\n",
      " 'images': [],\n",
      " 'title': 'Toy Story',\n",
      " 'year': 1995}\n",
      "2025-03-02 22:36:21 [scrapy.core.scraper] DEBUG: Scraped from <200 https://en.wikipedia.org/wiki/The_Lion_King>\n",
      "{'box_office': 978800000.0,\n",
      " 'countries': ['United States'],\n",
      " 'directors': ['Roger Allers', 'Rob Minkoff'],\n",
      " 'image_urls': ['https://upload.wikimedia.org/wikipedia/en/thumb/3/3d/The_Lion_King_poster.jpg/220px-The_Lion_King_poster.jpg'],\n",
      " 'images': [],\n",
      " 'title': 'The Lion King',\n",
      " 'year': 1994}\n",
      "2025-03-02 22:36:21 [scrapy.core.engine] DEBUG: Crawled (200) <GET https://en.wikipedia.org/wiki/Back_to_the_Future> (referer: https://en.wikipedia.org/wiki/List_of_highest-grossing_films)\n",
      "2025-03-02 22:36:21 [scrapy.core.engine] DEBUG: Crawled (200) <GET https://en.wikipedia.org/wiki/Ghostbusters> (referer: https://en.wikipedia.org/wiki/List_of_highest-grossing_films)\n",
      "2025-03-02 22:36:21 [scrapy.core.engine] DEBUG: Crawled (200) <GET https://en.wikipedia.org/wiki/E.T._the_Extra-Terrestrial> (referer: https://en.wikipedia.org/wiki/List_of_highest-grossing_films)\n",
      "2025-03-02 22:36:21 [scrapy.core.engine] DEBUG: Crawled (200) <GET https://en.wikipedia.org/wiki/Return_of_the_Jedi> (referer: https://en.wikipedia.org/wiki/List_of_highest-grossing_films)\n",
      "2025-03-02 22:36:21 [scrapy.pipelines.media] ERROR: [Failure instance: Traceback: <class 'scrapy.pipelines.files.FileException'>: \n",
      "/Library/Frameworks/Python.framework/Versions/3.13/lib/python3.13/site-packages/twisted/internet/defer.py:1088:_runCallbacks\n",
      "/Library/Frameworks/Python.framework/Versions/3.13/lib/python3.13/site-packages/scrapy/pipelines/files.py:627:media_failed\n",
      "]\n",
      "NoneType: None\n",
      "2025-03-02 22:36:21 [scrapy.pipelines.media] ERROR: [Failure instance: Traceback: <class 'scrapy.pipelines.files.FileException'>: \n",
      "/Library/Frameworks/Python.framework/Versions/3.13/lib/python3.13/site-packages/twisted/internet/defer.py:1088:_runCallbacks\n",
      "/Library/Frameworks/Python.framework/Versions/3.13/lib/python3.13/site-packages/scrapy/pipelines/files.py:627:media_failed\n",
      "]\n",
      "NoneType: None\n",
      "2025-03-02 22:36:21 [scrapy.pipelines.media] ERROR: [Failure instance: Traceback: <class 'scrapy.pipelines.files.FileException'>: \n",
      "/Library/Frameworks/Python.framework/Versions/3.13/lib/python3.13/site-packages/twisted/internet/defer.py:1088:_runCallbacks\n",
      "/Library/Frameworks/Python.framework/Versions/3.13/lib/python3.13/site-packages/scrapy/pipelines/files.py:627:media_failed\n",
      "]\n",
      "NoneType: None\n",
      "2025-03-02 22:36:21 [scrapy.pipelines.media] ERROR: [Failure instance: Traceback: <class 'scrapy.pipelines.files.FileException'>: \n",
      "/Library/Frameworks/Python.framework/Versions/3.13/lib/python3.13/site-packages/twisted/internet/defer.py:1088:_runCallbacks\n",
      "/Library/Frameworks/Python.framework/Versions/3.13/lib/python3.13/site-packages/scrapy/pipelines/files.py:627:media_failed\n",
      "]\n",
      "NoneType: None\n",
      "2025-03-02 22:36:21 [scrapy.pipelines.media] ERROR: [Failure instance: Traceback: <class 'scrapy.pipelines.files.FileException'>: \n",
      "/Library/Frameworks/Python.framework/Versions/3.13/lib/python3.13/site-packages/twisted/internet/defer.py:1088:_runCallbacks\n",
      "/Library/Frameworks/Python.framework/Versions/3.13/lib/python3.13/site-packages/scrapy/pipelines/files.py:627:media_failed\n",
      "]\n",
      "NoneType: None\n",
      "2025-03-02 22:36:21 [urllib3.connectionpool] DEBUG: Starting new HTTPS connection (1): upload.wikimedia.org:443\n"
     ]
    },
    {
     "name": "stdout",
     "output_type": "stream",
     "text": [
      "saved in images/The_Lion_King/The_Lion_King.jpg\n",
      "erroe: \n",
      "erroe: ('Connection aborted.', ConnectionResetError(54, 'Connection reset by peer'))\n"
     ]
    },
    {
     "name": "stderr",
     "output_type": "stream",
     "text": [
      "2025-03-02 22:37:21 [scrapy.pipelines.media] ERROR: [Failure instance: Traceback: <class 'scrapy.pipelines.files.FileException'>: \n",
      "/Library/Frameworks/Python.framework/Versions/3.13/lib/python3.13/site-packages/twisted/internet/defer.py:1088:_runCallbacks\n",
      "/Library/Frameworks/Python.framework/Versions/3.13/lib/python3.13/site-packages/scrapy/pipelines/files.py:627:media_failed\n",
      "]\n",
      "NoneType: None\n",
      "2025-03-02 22:37:21 [scrapy.pipelines.media] ERROR: [Failure instance: Traceback: <class 'scrapy.pipelines.files.FileException'>: \n",
      "/Library/Frameworks/Python.framework/Versions/3.13/lib/python3.13/site-packages/twisted/internet/defer.py:1088:_runCallbacks\n",
      "/Library/Frameworks/Python.framework/Versions/3.13/lib/python3.13/site-packages/scrapy/pipelines/files.py:627:media_failed\n",
      "]\n",
      "NoneType: None\n",
      "2025-03-02 22:37:22 [scrapy.pipelines.media] ERROR: [Failure instance: Traceback: <class 'scrapy.pipelines.files.FileException'>: \n",
      "/Library/Frameworks/Python.framework/Versions/3.13/lib/python3.13/site-packages/twisted/internet/defer.py:1088:_runCallbacks\n",
      "/Library/Frameworks/Python.framework/Versions/3.13/lib/python3.13/site-packages/scrapy/pipelines/files.py:627:media_failed\n",
      "]\n",
      "NoneType: None\n",
      "2025-03-02 22:37:22 [scrapy.pipelines.media] ERROR: [Failure instance: Traceback: <class 'scrapy.pipelines.files.FileException'>: \n",
      "/Library/Frameworks/Python.framework/Versions/3.13/lib/python3.13/site-packages/twisted/internet/defer.py:1088:_runCallbacks\n",
      "/Library/Frameworks/Python.framework/Versions/3.13/lib/python3.13/site-packages/scrapy/pipelines/files.py:627:media_failed\n",
      "]\n",
      "NoneType: None\n",
      "2025-03-02 22:37:22 [scrapy.pipelines.media] ERROR: [Failure instance: Traceback: <class 'scrapy.pipelines.files.FileException'>: \n",
      "/Library/Frameworks/Python.framework/Versions/3.13/lib/python3.13/site-packages/twisted/internet/defer.py:1088:_runCallbacks\n",
      "/Library/Frameworks/Python.framework/Versions/3.13/lib/python3.13/site-packages/scrapy/pipelines/files.py:627:media_failed\n",
      "]\n",
      "NoneType: None\n",
      "2025-03-02 22:37:22 [urllib3.connectionpool] DEBUG: Starting new HTTPS connection (1): upload.wikimedia.org:443\n",
      "2025-03-02 22:37:22 [urllib3.connectionpool] DEBUG: https://upload.wikimedia.org:443 \"GET /wikipedia/en/1/18/Titanic_%281997_film%29_poster.png HTTP/1.1\" 200 44209\n",
      "2025-03-02 22:37:22 [urllib3.connectionpool] DEBUG: Starting new HTTPS connection (1): upload.wikimedia.org:443\n"
     ]
    },
    {
     "name": "stdout",
     "output_type": "stream",
     "text": [
      "saved in images/Titanic/Titanic.png\n",
      "erroe: \n"
     ]
    },
    {
     "name": "stderr",
     "output_type": "stream",
     "text": [
      "2025-03-02 22:37:22 [urllib3.connectionpool] DEBUG: https://upload.wikimedia.org:443 \"GET /wikipedia/en/thumb/f/fc/Armageddon-poster06.jpg/220px-Armageddon-poster06.jpg HTTP/1.1\" 200 22811\n",
      "2025-03-02 22:37:22 [urllib3.connectionpool] DEBUG: Starting new HTTPS connection (1): upload.wikimedia.org:443\n"
     ]
    },
    {
     "name": "stdout",
     "output_type": "stream",
     "text": [
      "saved in images/Armageddon/Armageddon.jpg\n",
      "erroe: \n"
     ]
    },
    {
     "name": "stderr",
     "output_type": "stream",
     "text": [
      "2025-03-02 22:37:23 [urllib3.connectionpool] DEBUG: https://upload.wikimedia.org:443 \"GET /wikipedia/en/thumb/b/bb/Independence_day_movieposter.jpg/220px-Independence_day_movieposter.jpg HTTP/1.1\" 200 21713\n",
      "2025-03-02 22:37:23 [urllib3.connectionpool] DEBUG: Starting new HTTPS connection (1): upload.wikimedia.org:443\n"
     ]
    },
    {
     "name": "stdout",
     "output_type": "stream",
     "text": [
      "saved in images/Independence_Day/Independence_Day.jpg\n",
      "erroe: \n"
     ]
    },
    {
     "name": "stderr",
     "output_type": "stream",
     "text": [
      "2025-03-02 22:37:23 [urllib3.connectionpool] DEBUG: https://upload.wikimedia.org:443 \"GET /wikipedia/en/thumb/b/bd/Aladdin_%281992_Disney_film%29_poster.jpg/220px-Aladdin_%281992_Disney_film%29_poster.jpg HTTP/1.1\" 200 18988\n",
      "2025-03-02 22:37:23 [scrapy.core.scraper] DEBUG: Scraped from <200 https://en.wikipedia.org/wiki/Titanic_(1997_film)>\n",
      "{'box_office': 2264000000.0,\n",
      " 'countries': ['United States'],\n",
      " 'directors': ['James Cameron'],\n",
      " 'image_urls': ['https://upload.wikimedia.org/wikipedia/en/1/18/Titanic_%281997_film%29_poster.png'],\n",
      " 'images': [],\n",
      " 'title': 'Titanic',\n",
      " 'year': 1997}\n",
      "2025-03-02 22:37:23 [scrapy.core.scraper] DEBUG: Scraped from <200 https://en.wikipedia.org/wiki/Armageddon_(1998_film)>\n",
      "{'box_office': 553700000.0,\n",
      " 'countries': ['United States'],\n",
      " 'directors': ['Michael Bay'],\n",
      " 'image_urls': ['https://upload.wikimedia.org/wikipedia/en/thumb/f/fc/Armageddon-poster06.jpg/220px-Armageddon-poster06.jpg'],\n",
      " 'images': [],\n",
      " 'title': 'Armageddon',\n",
      " 'year': 1998}\n",
      "2025-03-02 22:37:23 [scrapy.core.scraper] DEBUG: Scraped from <200 https://en.wikipedia.org/wiki/Independence_Day_(1996_film)>\n",
      "{'box_office': 817400000.0,\n",
      " 'countries': ['United States'],\n",
      " 'directors': ['Roland Emmerich'],\n",
      " 'image_urls': ['https://upload.wikimedia.org/wikipedia/en/thumb/b/bb/Independence_day_movieposter.jpg/220px-Independence_day_movieposter.jpg'],\n",
      " 'images': [],\n",
      " 'title': 'Independence Day',\n",
      " 'year': 1996}\n",
      "2025-03-02 22:37:23 [scrapy.core.scraper] DEBUG: Scraped from <200 https://en.wikipedia.org/wiki/Aladdin_(1992_Disney_film)>\n",
      "{'box_office': 504100000.0,\n",
      " 'countries': ['United States'],\n",
      " 'directors': ['John Musker', 'Ron Clements'],\n",
      " 'image_urls': ['https://upload.wikimedia.org/wikipedia/en/thumb/b/bd/Aladdin_%281992_Disney_film%29_poster.jpg/220px-Aladdin_%281992_Disney_film%29_poster.jpg'],\n",
      " 'images': [],\n",
      " 'title': 'Aladdin',\n",
      " 'year': 1992}\n",
      "2025-03-02 22:37:23 [scrapy.core.scraper] DEBUG: Scraped from <200 https://en.wikipedia.org/wiki/Ghost_(1990_film)>\n",
      "{'box_office': 505700000.0,\n",
      " 'countries': ['United States'],\n",
      " 'directors': ['Jerry Zucker'],\n",
      " 'image_urls': ['https://upload.wikimedia.org/wikipedia/en/thumb/4/41/Ghost_%281990_movie_poster%29.jpg/220px-Ghost_%281990_movie_poster%29.jpg'],\n",
      " 'images': [],\n",
      " 'title': 'Ghost',\n",
      " 'year': 1990}\n",
      "2025-03-02 22:37:23 [scrapy.extensions.logstats] INFO: Crawled 251 pages (at 105 pages/min), scraped 231 items (at 102 items/min)\n",
      "2025-03-02 22:37:23 [urllib3.connectionpool] DEBUG: Starting new HTTPS connection (1): upload.wikimedia.org:443\n"
     ]
    },
    {
     "name": "stdout",
     "output_type": "stream",
     "text": [
      "saved in images/Aladdin/Aladdin.jpg\n",
      "erroe: \n"
     ]
    },
    {
     "name": "stderr",
     "output_type": "stream",
     "text": [
      "2025-03-02 22:37:24 [urllib3.connectionpool] DEBUG: https://upload.wikimedia.org:443 \"GET /wikipedia/en/thumb/4/40/Star_Wars_Phantom_Menace_poster.jpg/220px-Star_Wars_Phantom_Menace_poster.jpg HTTP/1.1\" 200 20003\n",
      "2025-03-02 22:37:24 [urllib3.connectionpool] DEBUG: Starting new HTTPS connection (1): upload.wikimedia.org:443\n"
     ]
    },
    {
     "name": "stdout",
     "output_type": "stream",
     "text": [
      "saved in images/Star_Wars:_Episode_I_–/Star_Wars:_Episode_I_–.jpg\n",
      "erroe: \n"
     ]
    },
    {
     "name": "stderr",
     "output_type": "stream",
     "text": [
      "2025-03-02 22:37:24 [urllib3.connectionpool] DEBUG: https://upload.wikimedia.org:443 \"GET /wikipedia/en/e/e7/Jurassic_Park_poster.jpg HTTP/1.1\" 200 68739\n",
      "2025-03-02 22:37:24 [scrapy.core.scraper] DEBUG: Scraped from <200 https://en.wikipedia.org/wiki/Star_Wars:_Episode_I_%E2%80%93_The_Phantom_Menace>\n",
      "{'box_office': 1046999999.9999999,\n",
      " 'countries': ['United States'],\n",
      " 'directors': ['George Lucas'],\n",
      " 'image_urls': ['https://upload.wikimedia.org/wikipedia/en/thumb/4/40/Star_Wars_Phantom_Menace_poster.jpg/220px-Star_Wars_Phantom_Menace_poster.jpg'],\n",
      " 'images': [],\n",
      " 'title': 'Star Wars: Episode I –',\n",
      " 'year': 1999}\n",
      "2025-03-02 22:37:24 [scrapy.core.scraper] DEBUG: Scraped from <200 https://en.wikipedia.org/wiki/Jurassic_Park_(film)>\n",
      "{'box_office': 1058000000.0,\n",
      " 'countries': ['United States'],\n",
      " 'directors': ['Steven Spielberg'],\n",
      " 'image_urls': ['https://upload.wikimedia.org/wikipedia/en/e/e7/Jurassic_Park_poster.jpg'],\n",
      " 'images': [],\n",
      " 'title': 'Jurassic Park',\n",
      " 'year': 1993}\n",
      "2025-03-02 22:37:24 [urllib3.connectionpool] DEBUG: Starting new HTTPS connection (1): upload.wikimedia.org:443\n"
     ]
    },
    {
     "name": "stdout",
     "output_type": "stream",
     "text": [
      "saved in images/Jurassic_Park/Jurassic_Park.jpg\n",
      "erroe: \n"
     ]
    },
    {
     "name": "stderr",
     "output_type": "stream",
     "text": [
      "2025-03-02 22:37:25 [urllib3.connectionpool] DEBUG: https://upload.wikimedia.org:443 \"GET /wikipedia/en/thumb/8/85/Terminator2poster.jpg/220px-Terminator2poster.jpg HTTP/1.1\" 200 26394\n",
      "2025-03-02 22:37:25 [urllib3.connectionpool] DEBUG: Starting new HTTPS connection (1): upload.wikimedia.org:443\n"
     ]
    },
    {
     "name": "stdout",
     "output_type": "stream",
     "text": [
      "saved in images/Terminator_2:_Judgment_Day/Terminator_2:_Judgment_Day.jpg\n",
      "erroe: \n"
     ]
    },
    {
     "name": "stderr",
     "output_type": "stream",
     "text": [
      "2025-03-02 22:37:25 [urllib3.connectionpool] DEBUG: https://upload.wikimedia.org:443 \"GET /wikipedia/en/b/ba/Fatal_Attraction_poster.png HTTP/1.1\" 200 143032\n",
      "2025-03-02 22:37:25 [scrapy.core.scraper] DEBUG: Scraped from <200 https://en.wikipedia.org/wiki/Terminator_2:_Judgment_Day>\n",
      "{'box_office': 519.0,\n",
      " 'countries': ['United States'],\n",
      " 'directors': ['James Cameron'],\n",
      " 'image_urls': ['https://upload.wikimedia.org/wikipedia/en/thumb/8/85/Terminator2poster.jpg/220px-Terminator2poster.jpg'],\n",
      " 'images': [],\n",
      " 'title': 'Terminator 2: Judgment Day',\n",
      " 'year': 1991}\n",
      "2025-03-02 22:37:25 [urllib3.connectionpool] DEBUG: Starting new HTTPS connection (1): upload.wikimedia.org:443\n"
     ]
    },
    {
     "name": "stdout",
     "output_type": "stream",
     "text": [
      "saved in images/Fatal_Attraction/Fatal_Attraction.png\n",
      "erroe: \n"
     ]
    },
    {
     "name": "stderr",
     "output_type": "stream",
     "text": [
      "2025-03-02 22:37:25 [urllib3.connectionpool] DEBUG: https://upload.wikimedia.org:443 \"GET /wikipedia/en/b/b2/Rain_Man_poster.jpg HTTP/1.1\" 200 152350\n",
      "2025-03-02 22:37:26 [scrapy.core.scraper] DEBUG: Scraped from <200 https://en.wikipedia.org/wiki/Fatal_Attraction>\n",
      "{'box_office': 320100000.0,\n",
      " 'countries': ['United States'],\n",
      " 'directors': ['Adrian Lyne'],\n",
      " 'image_urls': ['https://upload.wikimedia.org/wikipedia/en/b/ba/Fatal_Attraction_poster.png'],\n",
      " 'images': [],\n",
      " 'title': 'Fatal Attraction',\n",
      " 'year': 1987}\n",
      "2025-03-02 22:37:26 [scrapy.core.scraper] DEBUG: Scraped from <200 https://en.wikipedia.org/wiki/Rain_Man>\n",
      "{'box_office': 354.8,\n",
      " 'countries': ['United States'],\n",
      " 'directors': ['Barry Levinson'],\n",
      " 'image_urls': ['https://upload.wikimedia.org/wikipedia/en/b/b2/Rain_Man_poster.jpg'],\n",
      " 'images': [],\n",
      " 'title': 'Rain Man',\n",
      " 'year': 1988}\n"
     ]
    },
    {
     "name": "stdout",
     "output_type": "stream",
     "text": [
      "saved in images/Rain_Man/Rain_Man.jpg\n",
      "erroe: \n"
     ]
    },
    {
     "name": "stderr",
     "output_type": "stream",
     "text": [
      "2025-03-02 22:37:26 [scrapy.pipelines.media] ERROR: [Failure instance: Traceback: <class 'scrapy.pipelines.files.FileException'>: \n",
      "/Library/Frameworks/Python.framework/Versions/3.13/lib/python3.13/site-packages/twisted/internet/defer.py:1088:_runCallbacks\n",
      "/Library/Frameworks/Python.framework/Versions/3.13/lib/python3.13/site-packages/scrapy/pipelines/files.py:627:media_failed\n",
      "]\n",
      "NoneType: None\n",
      "2025-03-02 22:37:26 [scrapy.pipelines.media] ERROR: [Failure instance: Traceback: <class 'scrapy.pipelines.files.FileException'>: \n",
      "/Library/Frameworks/Python.framework/Versions/3.13/lib/python3.13/site-packages/twisted/internet/defer.py:1088:_runCallbacks\n",
      "/Library/Frameworks/Python.framework/Versions/3.13/lib/python3.13/site-packages/scrapy/pipelines/files.py:627:media_failed\n",
      "]\n",
      "NoneType: None\n",
      "2025-03-02 22:37:26 [scrapy.pipelines.media] ERROR: [Failure instance: Traceback: <class 'scrapy.pipelines.files.FileException'>: \n",
      "/Library/Frameworks/Python.framework/Versions/3.13/lib/python3.13/site-packages/twisted/internet/defer.py:1088:_runCallbacks\n",
      "/Library/Frameworks/Python.framework/Versions/3.13/lib/python3.13/site-packages/scrapy/pipelines/files.py:627:media_failed\n",
      "]\n",
      "NoneType: None\n",
      "2025-03-02 22:37:26 [scrapy.pipelines.media] ERROR: [Failure instance: Traceback: <class 'scrapy.pipelines.files.FileException'>: \n",
      "/Library/Frameworks/Python.framework/Versions/3.13/lib/python3.13/site-packages/twisted/internet/defer.py:1088:_runCallbacks\n",
      "/Library/Frameworks/Python.framework/Versions/3.13/lib/python3.13/site-packages/scrapy/pipelines/files.py:627:media_failed\n",
      "]\n",
      "NoneType: None\n",
      "2025-03-02 22:37:26 [scrapy.pipelines.media] ERROR: [Failure instance: Traceback: <class 'scrapy.pipelines.files.FileException'>: \n",
      "/Library/Frameworks/Python.framework/Versions/3.13/lib/python3.13/site-packages/twisted/internet/defer.py:1088:_runCallbacks\n",
      "/Library/Frameworks/Python.framework/Versions/3.13/lib/python3.13/site-packages/scrapy/pipelines/files.py:627:media_failed\n",
      "]\n",
      "NoneType: None\n",
      "2025-03-02 22:37:26 [scrapy.pipelines.media] ERROR: [Failure instance: Traceback: <class 'scrapy.pipelines.files.FileException'>: \n",
      "/Library/Frameworks/Python.framework/Versions/3.13/lib/python3.13/site-packages/twisted/internet/defer.py:1088:_runCallbacks\n",
      "/Library/Frameworks/Python.framework/Versions/3.13/lib/python3.13/site-packages/scrapy/pipelines/files.py:627:media_failed\n",
      "]\n",
      "NoneType: None\n",
      "2025-03-02 22:37:26 [urllib3.connectionpool] DEBUG: Starting new HTTPS connection (1): upload.wikimedia.org:443\n",
      "2025-03-02 22:37:26 [urllib3.connectionpool] DEBUG: https://upload.wikimedia.org:443 \"GET /wikipedia/en/thumb/4/46/Top_Gun_Movie.jpg/220px-Top_Gun_Movie.jpg HTTP/1.1\" 200 23509\n",
      "2025-03-02 22:37:26 [urllib3.connectionpool] DEBUG: Starting new HTTPS connection (1): upload.wikimedia.org:443\n"
     ]
    },
    {
     "name": "stdout",
     "output_type": "stream",
     "text": [
      "saved in images/Top_Gun/Top_Gun.jpg\n",
      "erroe: \n"
     ]
    },
    {
     "name": "stderr",
     "output_type": "stream",
     "text": [
      "2025-03-02 22:37:27 [urllib3.connectionpool] DEBUG: https://upload.wikimedia.org:443 \"GET /wikipedia/en/thumb/8/8c/Indiana_Jones_and_the_Last_Crusade.png/220px-Indiana_Jones_and_the_Last_Crusade.png HTTP/1.1\" 200 167763\n",
      "2025-03-02 22:37:27 [urllib3.connectionpool] DEBUG: Starting new HTTPS connection (1): upload.wikimedia.org:443\n"
     ]
    },
    {
     "name": "stdout",
     "output_type": "stream",
     "text": [
      "saved in images/Indiana_Jones_and_the_Last_Crusade/Indiana_Jones_and_the_Last_Crusade.png\n",
      "erroe: \n"
     ]
    },
    {
     "name": "stderr",
     "output_type": "stream",
     "text": [
      "2025-03-02 22:37:27 [urllib3.connectionpool] DEBUG: https://upload.wikimedia.org:443 \"GET /wikipedia/en/thumb/d/d2/Back_to_the_Future.jpg/220px-Back_to_the_Future.jpg HTTP/1.1\" 200 26873\n",
      "2025-03-02 22:37:27 [urllib3.connectionpool] DEBUG: Starting new HTTPS connection (1): upload.wikimedia.org:443\n"
     ]
    },
    {
     "name": "stdout",
     "output_type": "stream",
     "text": [
      "saved in images/Back_to_the_Future/Back_to_the_Future.jpg\n",
      "erroe: \n"
     ]
    },
    {
     "name": "stderr",
     "output_type": "stream",
     "text": [
      "2025-03-02 22:37:28 [urllib3.connectionpool] DEBUG: https://upload.wikimedia.org:443 \"GET /wikipedia/en/thumb/2/2f/Ghostbusters_%281984%29_theatrical_poster.png/220px-Ghostbusters_%281984%29_theatrical_poster.png HTTP/1.1\" 200 130167\n"
     ]
    },
    {
     "name": "stdout",
     "output_type": "stream",
     "text": [
      "saved in images/Ghostbusters/Ghostbusters.png\n",
      "erroe: \n"
     ]
    },
    {
     "name": "stderr",
     "output_type": "stream",
     "text": [
      "2025-03-02 22:37:28 [urllib3.connectionpool] DEBUG: Starting new HTTPS connection (1): upload.wikimedia.org:443\n",
      "2025-03-02 22:37:28 [urllib3.connectionpool] DEBUG: https://upload.wikimedia.org:443 \"GET /wikipedia/en/thumb/6/66/E_t_the_extra_terrestrial_ver3.jpg/220px-E_t_the_extra_terrestrial_ver3.jpg HTTP/1.1\" 403 2184\n",
      "2025-03-02 22:37:28 [urllib3.connectionpool] DEBUG: Starting new HTTPS connection (1): upload.wikimedia.org:443\n"
     ]
    },
    {
     "name": "stdout",
     "output_type": "stream",
     "text": [
      "error: 403\n"
     ]
    },
    {
     "name": "stderr",
     "output_type": "stream",
     "text": [
      "2025-03-02 22:37:28 [urllib3.connectionpool] DEBUG: https://upload.wikimedia.org:443 \"GET /wikipedia/en/thumb/b/b2/ReturnOfTheJediPoster1983.jpg/220px-ReturnOfTheJediPoster1983.jpg HTTP/1.1\" 200 27927\n",
      "2025-03-02 22:37:28 [scrapy.core.scraper] DEBUG: Scraped from <200 https://en.wikipedia.org/wiki/Top_Gun>\n",
      "{'box_office': 357300000.0,\n",
      " 'countries': ['United States'],\n",
      " 'directors': ['Tony Scott'],\n",
      " 'image_urls': ['https://upload.wikimedia.org/wikipedia/en/thumb/4/46/Top_Gun_Movie.jpg/220px-Top_Gun_Movie.jpg'],\n",
      " 'images': [],\n",
      " 'title': 'Top Gun',\n",
      " 'year': 1986}\n",
      "2025-03-02 22:37:28 [scrapy.core.scraper] DEBUG: Scraped from <200 https://en.wikipedia.org/wiki/Indiana_Jones_and_the_Last_Crusade>\n",
      "{'box_office': 474200000.0,\n",
      " 'countries': ['United States'],\n",
      " 'directors': ['Steven Spielberg'],\n",
      " 'image_urls': ['https://upload.wikimedia.org/wikipedia/en/thumb/8/8c/Indiana_Jones_and_the_Last_Crusade.png/220px-Indiana_Jones_and_the_Last_Crusade.png'],\n",
      " 'images': [],\n",
      " 'title': 'Indiana Jones and the Last Crusade',\n",
      " 'year': 1989}\n",
      "2025-03-02 22:37:28 [scrapy.core.scraper] DEBUG: Scraped from <200 https://en.wikipedia.org/wiki/Back_to_the_Future>\n",
      "{'box_office': 388800000.0,\n",
      " 'countries': ['United States'],\n",
      " 'directors': ['Robert Zemeckis'],\n",
      " 'image_urls': ['https://upload.wikimedia.org/wikipedia/en/thumb/d/d2/Back_to_the_Future.jpg/220px-Back_to_the_Future.jpg'],\n",
      " 'images': [],\n",
      " 'title': 'Back to the Future',\n",
      " 'year': 1985}\n",
      "2025-03-02 22:37:28 [scrapy.core.scraper] DEBUG: Scraped from <200 https://en.wikipedia.org/wiki/Ghostbusters>\n",
      "{'box_office': 370000000.0,\n",
      " 'countries': ['United States'],\n",
      " 'directors': ['Ivan Reitman'],\n",
      " 'image_urls': ['https://upload.wikimedia.org/wikipedia/en/thumb/2/2f/Ghostbusters_%281984%29_theatrical_poster.png/220px-Ghostbusters_%281984%29_theatrical_poster.png'],\n",
      " 'images': [],\n",
      " 'title': 'Ghostbusters',\n",
      " 'year': 1984}\n",
      "2025-03-02 22:37:28 [scrapy.core.scraper] DEBUG: Scraped from <200 https://en.wikipedia.org/wiki/E.T._the_Extra-Terrestrial>\n",
      "{'box_office': 797300000.0,\n",
      " 'countries': ['United States'],\n",
      " 'directors': ['Steven Spielberg'],\n",
      " 'image_urls': ['https://upload.wikimedia.org/wikipedia/en/thumb/6/66/E_t_the_extra_terrestrial_ver3.jpg/220px-E_t_the_extra_terrestrial_ver3.jpg'],\n",
      " 'images': [],\n",
      " 'title': 'E.T. the Extra-Terrestrial',\n",
      " 'year': 1982}\n",
      "2025-03-02 22:37:28 [scrapy.core.scraper] DEBUG: Scraped from <200 https://en.wikipedia.org/wiki/Return_of_the_Jedi>\n",
      "{'box_office': 482000000.0,\n",
      " 'countries': ['United States'],\n",
      " 'directors': ['Richard Marquand'],\n",
      " 'image_urls': ['https://upload.wikimedia.org/wikipedia/en/thumb/b/b2/ReturnOfTheJediPoster1983.jpg/220px-ReturnOfTheJediPoster1983.jpg'],\n",
      " 'images': [],\n",
      " 'title': 'Return of the Jedi',\n",
      " 'year': 1983}\n"
     ]
    },
    {
     "name": "stdout",
     "output_type": "stream",
     "text": [
      "saved in images/Return_of_the_Jedi/Return_of_the_Jedi.jpg\n",
      "erroe: \n"
     ]
    },
    {
     "name": "stderr",
     "output_type": "stream",
     "text": [
      "2025-03-02 22:37:29 [scrapy.core.engine] DEBUG: Crawled (200) <GET https://en.wikipedia.org/wiki/Funny_Girl_(film)> (referer: https://en.wikipedia.org/wiki/List_of_highest-grossing_films)\n",
      "2025-03-02 22:37:29 [scrapy.core.engine] DEBUG: Crawled (200) <GET https://en.wikipedia.org/wiki/Hawaii_(1966_film)> (referer: https://en.wikipedia.org/wiki/List_of_highest-grossing_films)\n",
      "2025-03-02 22:37:29 [scrapy.core.engine] DEBUG: Crawled (200) <GET https://en.wikipedia.org/wiki/Who%27s_Afraid_of_Virginia_Woolf%3F_(film)> (referer: https://en.wikipedia.org/wiki/List_of_highest-grossing_films)\n",
      "2025-03-02 22:37:29 [scrapy.core.engine] DEBUG: Crawled (200) <GET https://en.wikipedia.org/wiki/The_Graduate> (referer: https://en.wikipedia.org/wiki/List_of_highest-grossing_films)\n",
      "2025-03-02 22:37:29 [scrapy.core.engine] DEBUG: Crawled (200) <GET https://en.wikipedia.org/wiki/The_Jungle_Book_(1967_film)> (referer: https://en.wikipedia.org/wiki/List_of_highest-grossing_films)\n",
      "2025-03-02 22:37:29 [scrapy.core.engine] DEBUG: Crawled (200) <GET https://en.wikipedia.org/wiki/The_Empire_Strikes_Back> (referer: https://en.wikipedia.org/wiki/List_of_highest-grossing_films)\n",
      "2025-03-02 22:37:29 [scrapy.core.engine] DEBUG: Crawled (200) <GET https://en.wikipedia.org/wiki/The_Bible:_In_the_Beginning> (referer: https://en.wikipedia.org/wiki/List_of_highest-grossing_films)\n",
      "2025-03-02 22:37:29 [scrapy.pipelines.media] ERROR: [Failure instance: Traceback: <class 'scrapy.pipelines.files.FileException'>: \n",
      "/Library/Frameworks/Python.framework/Versions/3.13/lib/python3.13/site-packages/twisted/internet/defer.py:1088:_runCallbacks\n",
      "/Library/Frameworks/Python.framework/Versions/3.13/lib/python3.13/site-packages/scrapy/pipelines/files.py:627:media_failed\n",
      "]\n",
      "NoneType: None\n",
      "2025-03-02 22:37:29 [urllib3.connectionpool] DEBUG: Starting new HTTPS connection (1): upload.wikimedia.org:443\n",
      "2025-03-02 22:37:29 [urllib3.connectionpool] DEBUG: https://upload.wikimedia.org:443 \"GET /wikipedia/en/8/88/FunnyGirlPoster.jpg HTTP/1.1\" 200 132763\n"
     ]
    },
    {
     "name": "stdout",
     "output_type": "stream",
     "text": [
      "saved in images/Funny_Girl/Funny_Girl.jpg\n",
      "erroe: \n",
      "Hawaii\n"
     ]
    },
    {
     "name": "stderr",
     "output_type": "stream",
     "text": [
      "2025-03-02 22:37:30 [scrapy.core.engine] DEBUG: Crawled (200) <GET https://en.wikipedia.org/wiki/Raiders_of_the_Lost_Ark> (referer: https://en.wikipedia.org/wiki/List_of_highest-grossing_films)\n",
      "2025-03-02 22:37:30 [scrapy.core.engine] DEBUG: Crawled (200) <GET https://en.wikipedia.org/wiki/Goldfinger_(film)> (referer: https://en.wikipedia.org/wiki/List_of_highest-grossing_films)\n",
      "2025-03-02 22:37:30 [scrapy.core.engine] DEBUG: Crawled (200) <GET https://en.wikipedia.org/wiki/My_Fair_Lady_(film)> (referer: https://en.wikipedia.org/wiki/List_of_highest-grossing_films)\n",
      "2025-03-02 22:37:30 [scrapy.core.engine] DEBUG: Crawled (200) <GET https://en.wikipedia.org/wiki/Mary_Poppins_(film)> (referer: https://en.wikipedia.org/wiki/List_of_highest-grossing_films)\n",
      "2025-03-02 22:37:30 [scrapy.core.engine] DEBUG: Crawled (200) <GET https://en.wikipedia.org/wiki/From_Russia_with_Love_(film)> (referer: https://en.wikipedia.org/wiki/List_of_highest-grossing_films)\n",
      "2025-03-02 22:37:30 [scrapy.core.engine] DEBUG: Crawled (200) <GET https://en.wikipedia.org/wiki/The_Sound_of_Music_(film)> (referer: https://en.wikipedia.org/wiki/List_of_highest-grossing_films)\n",
      "2025-03-02 22:37:30 [scrapy.core.engine] DEBUG: Crawled (200) <GET https://en.wikipedia.org/wiki/2001:_A_Space_Odyssey> (referer: https://en.wikipedia.org/wiki/List_of_highest-grossing_films)\n",
      "2025-03-02 22:37:30 [scrapy.core.scraper] DEBUG: Scraped from <200 https://en.wikipedia.org/wiki/Funny_Girl_(film)>\n",
      "{'box_office': 58500000.0,\n",
      " 'countries': ['United States'],\n",
      " 'directors': ['William Wyler'],\n",
      " 'image_urls': ['https://upload.wikimedia.org/wikipedia/en/8/88/FunnyGirlPoster.jpg'],\n",
      " 'images': [],\n",
      " 'title': 'Funny Girl',\n",
      " 'year': 1968}\n",
      "2025-03-02 22:37:30 [scrapy.core.engine] DEBUG: Crawled (200) <GET https://en.wikipedia.org/wiki/Cleopatra_(1963_film)> (referer: https://en.wikipedia.org/wiki/List_of_highest-grossing_films)\n",
      "2025-03-02 22:37:30 [scrapy.pipelines.media] ERROR: [Failure instance: Traceback: <class 'scrapy.pipelines.files.FileException'>: \n",
      "/Library/Frameworks/Python.framework/Versions/3.13/lib/python3.13/site-packages/twisted/internet/defer.py:1088:_runCallbacks\n",
      "/Library/Frameworks/Python.framework/Versions/3.13/lib/python3.13/site-packages/scrapy/pipelines/files.py:627:media_failed\n",
      "]\n",
      "NoneType: None\n",
      "2025-03-02 22:37:30 [scrapy.pipelines.media] ERROR: [Failure instance: Traceback: <class 'scrapy.pipelines.files.FileException'>: \n",
      "/Library/Frameworks/Python.framework/Versions/3.13/lib/python3.13/site-packages/twisted/internet/defer.py:1088:_runCallbacks\n",
      "/Library/Frameworks/Python.framework/Versions/3.13/lib/python3.13/site-packages/scrapy/pipelines/files.py:627:media_failed\n",
      "]\n",
      "NoneType: None\n",
      "2025-03-02 22:37:30 [scrapy.pipelines.media] ERROR: [Failure instance: Traceback: <class 'scrapy.pipelines.files.FileException'>: \n",
      "/Library/Frameworks/Python.framework/Versions/3.13/lib/python3.13/site-packages/twisted/internet/defer.py:1088:_runCallbacks\n",
      "/Library/Frameworks/Python.framework/Versions/3.13/lib/python3.13/site-packages/scrapy/pipelines/files.py:627:media_failed\n",
      "]\n",
      "NoneType: None\n",
      "2025-03-02 22:37:30 [scrapy.pipelines.media] ERROR: [Failure instance: Traceback: <class 'scrapy.pipelines.files.FileException'>: \n",
      "/Library/Frameworks/Python.framework/Versions/3.13/lib/python3.13/site-packages/twisted/internet/defer.py:1088:_runCallbacks\n",
      "/Library/Frameworks/Python.framework/Versions/3.13/lib/python3.13/site-packages/scrapy/pipelines/files.py:627:media_failed\n",
      "]\n",
      "NoneType: None\n",
      "2025-03-02 22:37:30 [scrapy.pipelines.media] ERROR: [Failure instance: Traceback: <class 'scrapy.pipelines.files.FileException'>: \n",
      "/Library/Frameworks/Python.framework/Versions/3.13/lib/python3.13/site-packages/twisted/internet/defer.py:1088:_runCallbacks\n",
      "/Library/Frameworks/Python.framework/Versions/3.13/lib/python3.13/site-packages/scrapy/pipelines/files.py:627:media_failed\n",
      "]\n",
      "NoneType: None\n",
      "2025-03-02 22:37:30 [scrapy.pipelines.media] ERROR: [Failure instance: Traceback: <class 'scrapy.pipelines.files.FileException'>: \n",
      "/Library/Frameworks/Python.framework/Versions/3.13/lib/python3.13/site-packages/twisted/internet/defer.py:1088:_runCallbacks\n",
      "/Library/Frameworks/Python.framework/Versions/3.13/lib/python3.13/site-packages/scrapy/pipelines/files.py:627:media_failed\n",
      "]\n",
      "NoneType: None\n",
      "2025-03-02 22:37:30 [urllib3.connectionpool] DEBUG: Starting new HTTPS connection (1): upload.wikimedia.org:443\n",
      "2025-03-02 22:37:30 [urllib3.connectionpool] DEBUG: https://upload.wikimedia.org:443 \"GET /wikipedia/en/thumb/0/07/Hawaii_%28film%29.jpg/220px-Hawaii_%28film%29.jpg HTTP/1.1\" 200 32646\n",
      "2025-03-02 22:37:30 [urllib3.connectionpool] DEBUG: Starting new HTTPS connection (1): upload.wikimedia.org:443\n"
     ]
    },
    {
     "name": "stdout",
     "output_type": "stream",
     "text": [
      "saved in images/Hawaii/Hawaii.jpg\n",
      "erroe: \n"
     ]
    },
    {
     "name": "stderr",
     "output_type": "stream",
     "text": [
      "2025-03-02 22:37:30 [urllib3.connectionpool] DEBUG: https://upload.wikimedia.org:443 \"GET /wikipedia/en/thumb/7/7c/Original_movie_poster_for_the_film_Who%27s_Afraid_of_Virginia_Woolf%3F.jpg/220px-Original_movie_poster_for_the_film_Who%27s_Afraid_of_Virginia_Woolf%3F.jpg HTTP/1.1\" 403 2184\n",
      "2025-03-02 22:37:30 [urllib3.connectionpool] DEBUG: Starting new HTTPS connection (1): upload.wikimedia.org:443\n"
     ]
    },
    {
     "name": "stdout",
     "output_type": "stream",
     "text": [
      "error: 403\n"
     ]
    },
    {
     "name": "stderr",
     "output_type": "stream",
     "text": [
      "2025-03-02 22:37:31 [urllib3.connectionpool] DEBUG: https://upload.wikimedia.org:443 \"GET /wikipedia/en/8/8b/Graduateposter67.jpg HTTP/1.1\" 200 91651\n",
      "2025-03-02 22:37:31 [urllib3.connectionpool] DEBUG: Starting new HTTPS connection (1): upload.wikimedia.org:443\n"
     ]
    },
    {
     "name": "stdout",
     "output_type": "stream",
     "text": [
      "saved in images/The_Graduate/The_Graduate.jpg\n",
      "erroe: \n"
     ]
    },
    {
     "name": "stderr",
     "output_type": "stream",
     "text": [
      "2025-03-02 22:37:31 [urllib3.connectionpool] DEBUG: https://upload.wikimedia.org:443 \"GET /wikipedia/en/thumb/1/1d/Thejunglebook_movieposter.jpg/220px-Thejunglebook_movieposter.jpg HTTP/1.1\" 200 32489\n",
      "2025-03-02 22:37:31 [scrapy.core.scraper] DEBUG: Scraped from <200 https://en.wikipedia.org/wiki/Hawaii_(1966_film)>\n",
      "{'box_office': 34500000.0,\n",
      " 'countries': ['United States'],\n",
      " 'directors': ['George Roy Hill'],\n",
      " 'image_urls': ['https://upload.wikimedia.org/wikipedia/en/thumb/0/07/Hawaii_%28film%29.jpg/220px-Hawaii_%28film%29.jpg'],\n",
      " 'images': [],\n",
      " 'title': 'Hawaii',\n",
      " 'year': 1966}\n",
      "2025-03-02 22:37:31 [scrapy.core.scraper] DEBUG: Scraped from <200 https://en.wikipedia.org/wiki/Who%27s_Afraid_of_Virginia_Woolf%3F_(film)>\n",
      "{'box_office': 33700000.0,\n",
      " 'countries': ['United States'],\n",
      " 'directors': ['Mike Nichols'],\n",
      " 'image_urls': ['https://upload.wikimedia.org/wikipedia/en/thumb/7/7c/Original_movie_poster_for_the_film_Who%27s_Afraid_of_Virginia_Woolf%3F.jpg/220px-Original_movie_poster_for_the_film_Who%27s_Afraid_of_Virginia_Woolf%3F.jpg'],\n",
      " 'images': [],\n",
      " 'title': \"Who's Afraid of Virginia Woolf?\",\n",
      " 'year': 1966}\n",
      "2025-03-02 22:37:31 [urllib3.connectionpool] DEBUG: Starting new HTTPS connection (1): upload.wikimedia.org:443\n"
     ]
    },
    {
     "name": "stdout",
     "output_type": "stream",
     "text": [
      "saved in images/The_Jungle_Book/The_Jungle_Book.jpg\n",
      "erroe: \n"
     ]
    },
    {
     "name": "stderr",
     "output_type": "stream",
     "text": [
      "2025-03-02 22:37:32 [urllib3.connectionpool] DEBUG: https://upload.wikimedia.org:443 \"GET /wikipedia/en/thumb/3/3f/The_Empire_Strikes_Back_%281980_film%29.jpg/220px-The_Empire_Strikes_Back_%281980_film%29.jpg HTTP/1.1\" 200 28901\n",
      "2025-03-02 22:37:32 [urllib3.connectionpool] DEBUG: Starting new HTTPS connection (1): upload.wikimedia.org:443\n"
     ]
    },
    {
     "name": "stdout",
     "output_type": "stream",
     "text": [
      "saved in images/The_Empire_Strikes_Back/The_Empire_Strikes_Back.jpg\n",
      "erroe: \n"
     ]
    },
    {
     "name": "stderr",
     "output_type": "stream",
     "text": [
      "2025-03-02 22:37:32 [urllib3.connectionpool] DEBUG: https://upload.wikimedia.org:443 \"GET /wikipedia/commons/thumb/9/93/The_Bible..._In_the_Beginning_theatrical_poster.jpg/220px-The_Bible..._In_the_Beginning_theatrical_poster.jpg HTTP/1.1\" 200 27286\n",
      "2025-03-02 22:37:32 [scrapy.core.engine] DEBUG: Crawled (200) <GET https://en.wikipedia.org/wiki/Lawrence_of_Arabia_(film)> (referer: https://en.wikipedia.org/wiki/List_of_highest-grossing_films)\n",
      "2025-03-02 22:37:32 [scrapy.core.engine] DEBUG: Crawled (200) <GET https://en.wikipedia.org/wiki/The_Longest_Day_(film)> (referer: https://en.wikipedia.org/wiki/List_of_highest-grossing_films)\n",
      "2025-03-02 22:37:32 [scrapy.core.engine] DEBUG: Crawled (200) <GET https://en.wikipedia.org/wiki/West_Side_Story_(1961_film)> (referer: https://en.wikipedia.org/wiki/List_of_highest-grossing_films)\n",
      "2025-03-02 22:37:32 [scrapy.core.engine] DEBUG: Crawled (200) <GET https://en.wikipedia.org/wiki/How_the_West_Was_Won_(film)> (referer: https://en.wikipedia.org/wiki/List_of_highest-grossing_films)\n",
      "2025-03-02 22:37:32 [scrapy.core.engine] DEBUG: Crawled (200) <GET https://en.wikipedia.org/wiki/Spartacus_(film)> (referer: https://en.wikipedia.org/wiki/List_of_highest-grossing_films)\n",
      "2025-03-02 22:37:32 [scrapy.core.engine] DEBUG: Crawled (200) <GET https://en.wikipedia.org/wiki/One_Hundred_and_One_Dalmatians> (referer: https://en.wikipedia.org/wiki/List_of_highest-grossing_films)\n",
      "2025-03-02 22:37:32 [scrapy.core.engine] DEBUG: Crawled (200) <GET https://en.wikipedia.org/wiki/Swiss_Family_Robinson_(1960_film)> (referer: https://en.wikipedia.org/wiki/List_of_highest-grossing_films)\n",
      "2025-03-02 22:37:32 [scrapy.core.scraper] DEBUG: Scraped from <200 https://en.wikipedia.org/wiki/The_Graduate>\n",
      "{'box_office': 104900000.0,\n",
      " 'countries': ['United States'],\n",
      " 'directors': ['Mike Nichols'],\n",
      " 'image_urls': ['https://upload.wikimedia.org/wikipedia/en/8/8b/Graduateposter67.jpg'],\n",
      " 'images': [],\n",
      " 'title': 'The Graduate',\n",
      " 'year': 1967}\n",
      "2025-03-02 22:37:32 [scrapy.core.scraper] DEBUG: Scraped from <200 https://en.wikipedia.org/wiki/The_Jungle_Book_(1967_film)>\n",
      "{'box_office': 378000000.0,\n",
      " 'countries': ['United States'],\n",
      " 'directors': ['Wolfgang Reitherman'],\n",
      " 'image_urls': ['https://upload.wikimedia.org/wikipedia/en/thumb/1/1d/Thejunglebook_movieposter.jpg/220px-Thejunglebook_movieposter.jpg'],\n",
      " 'images': [],\n",
      " 'title': 'The Jungle Book',\n",
      " 'year': 1967}\n",
      "2025-03-02 22:37:32 [scrapy.core.scraper] DEBUG: Scraped from <200 https://en.wikipedia.org/wiki/The_Empire_Strikes_Back>\n",
      "{'box_office': 538.0,\n",
      " 'countries': ['United States'],\n",
      " 'directors': ['Irvin Kershner'],\n",
      " 'image_urls': ['https://upload.wikimedia.org/wikipedia/en/thumb/3/3f/The_Empire_Strikes_Back_%281980_film%29.jpg/220px-The_Empire_Strikes_Back_%281980_film%29.jpg'],\n",
      " 'images': [],\n",
      " 'title': 'The Empire Strikes Back',\n",
      " 'year': 1980}\n",
      "2025-03-02 22:37:32 [scrapy.core.scraper] DEBUG: Scraped from <200 https://en.wikipedia.org/wiki/The_Bible:_In_the_Beginning>\n",
      "{'box_office': 34900000.0,\n",
      " 'countries': ['Italy', 'United States'],\n",
      " 'directors': ['John Huston'],\n",
      " 'image_urls': ['https://upload.wikimedia.org/wikipedia/commons/thumb/9/93/The_Bible..._In_the_Beginning_theatrical_poster.jpg/220px-The_Bible..._In_the_Beginning_theatrical_poster.jpg'],\n",
      " 'images': [],\n",
      " 'title': 'The Bible...In the Beginning',\n",
      " 'year': 1966}\n",
      "2025-03-02 22:37:32 [scrapy.pipelines.media] ERROR: [Failure instance: Traceback: <class 'scrapy.pipelines.files.FileException'>: \n",
      "/Library/Frameworks/Python.framework/Versions/3.13/lib/python3.13/site-packages/twisted/internet/defer.py:1088:_runCallbacks\n",
      "/Library/Frameworks/Python.framework/Versions/3.13/lib/python3.13/site-packages/scrapy/pipelines/files.py:627:media_failed\n",
      "]\n",
      "NoneType: None\n",
      "2025-03-02 22:37:32 [scrapy.pipelines.media] ERROR: [Failure instance: Traceback: <class 'scrapy.pipelines.files.FileException'>: \n",
      "/Library/Frameworks/Python.framework/Versions/3.13/lib/python3.13/site-packages/twisted/internet/defer.py:1088:_runCallbacks\n",
      "/Library/Frameworks/Python.framework/Versions/3.13/lib/python3.13/site-packages/scrapy/pipelines/files.py:627:media_failed\n",
      "]\n",
      "NoneType: None\n",
      "2025-03-02 22:37:32 [urllib3.connectionpool] DEBUG: Starting new HTTPS connection (1): upload.wikimedia.org:443\n"
     ]
    },
    {
     "name": "stdout",
     "output_type": "stream",
     "text": [
      "saved in images/The_Bible...In_the_Beginning/The_Bible...In_the_Beginning.jpg\n",
      "erroe: \n"
     ]
    },
    {
     "name": "stderr",
     "output_type": "stream",
     "text": [
      "2025-03-02 22:37:33 [urllib3.connectionpool] DEBUG: https://upload.wikimedia.org:443 \"GET /wikipedia/en/thumb/9/9a/Goldfinger_-_UK_cinema_poster.jpg/220px-Goldfinger_-_UK_cinema_poster.jpg HTTP/1.1\" 200 16002\n",
      "2025-03-02 22:37:33 [scrapy.pipelines.media] ERROR: [Failure instance: Traceback: <class 'scrapy.pipelines.files.FileException'>: \n",
      "/Library/Frameworks/Python.framework/Versions/3.13/lib/python3.13/site-packages/twisted/internet/defer.py:1088:_runCallbacks\n",
      "/Library/Frameworks/Python.framework/Versions/3.13/lib/python3.13/site-packages/scrapy/pipelines/files.py:627:media_failed\n",
      "]\n",
      "NoneType: None\n",
      "2025-03-02 22:37:33 [scrapy.pipelines.media] ERROR: [Failure instance: Traceback: <class 'scrapy.pipelines.files.FileException'>: \n",
      "/Library/Frameworks/Python.framework/Versions/3.13/lib/python3.13/site-packages/twisted/internet/defer.py:1088:_runCallbacks\n",
      "/Library/Frameworks/Python.framework/Versions/3.13/lib/python3.13/site-packages/scrapy/pipelines/files.py:627:media_failed\n",
      "]\n",
      "NoneType: None\n",
      "2025-03-02 22:37:33 [scrapy.pipelines.media] ERROR: [Failure instance: Traceback: <class 'scrapy.pipelines.files.FileException'>: \n",
      "/Library/Frameworks/Python.framework/Versions/3.13/lib/python3.13/site-packages/twisted/internet/defer.py:1088:_runCallbacks\n",
      "/Library/Frameworks/Python.framework/Versions/3.13/lib/python3.13/site-packages/scrapy/pipelines/files.py:627:media_failed\n",
      "]\n",
      "NoneType: None\n",
      "2025-03-02 22:37:33 [urllib3.connectionpool] DEBUG: Starting new HTTPS connection (1): upload.wikimedia.org:443\n"
     ]
    },
    {
     "name": "stdout",
     "output_type": "stream",
     "text": [
      "saved in images/Goldfinger/Goldfinger.jpg\n",
      "erroe: \n"
     ]
    },
    {
     "name": "stderr",
     "output_type": "stream",
     "text": [
      "2025-03-02 22:37:33 [urllib3.connectionpool] DEBUG: https://upload.wikimedia.org:443 \"GET /wikipedia/en/thumb/a/ad/From_Russia_with_Love_%E2%80%93_UK_cinema_poster.jpg/220px-From_Russia_with_Love_%E2%80%93_UK_cinema_poster.jpg HTTP/1.1\" 200 20190\n",
      "2025-03-02 22:37:33 [scrapy.pipelines.media] ERROR: [Failure instance: Traceback: <class 'scrapy.pipelines.files.FileException'>: \n",
      "/Library/Frameworks/Python.framework/Versions/3.13/lib/python3.13/site-packages/twisted/internet/defer.py:1088:_runCallbacks\n",
      "/Library/Frameworks/Python.framework/Versions/3.13/lib/python3.13/site-packages/scrapy/pipelines/files.py:627:media_failed\n",
      "]\n",
      "NoneType: None\n",
      "2025-03-02 22:37:33 [scrapy.pipelines.media] ERROR: [Failure instance: Traceback: <class 'scrapy.pipelines.files.FileException'>: \n",
      "/Library/Frameworks/Python.framework/Versions/3.13/lib/python3.13/site-packages/twisted/internet/defer.py:1088:_runCallbacks\n",
      "/Library/Frameworks/Python.framework/Versions/3.13/lib/python3.13/site-packages/scrapy/pipelines/files.py:627:media_failed\n",
      "]\n",
      "NoneType: None\n",
      "2025-03-02 22:37:33 [scrapy.pipelines.media] ERROR: [Failure instance: Traceback: <class 'scrapy.pipelines.files.FileException'>: \n",
      "/Library/Frameworks/Python.framework/Versions/3.13/lib/python3.13/site-packages/twisted/internet/defer.py:1088:_runCallbacks\n",
      "/Library/Frameworks/Python.framework/Versions/3.13/lib/python3.13/site-packages/scrapy/pipelines/files.py:627:media_failed\n",
      "]\n",
      "NoneType: None\n",
      "2025-03-02 22:37:33 [urllib3.connectionpool] DEBUG: Starting new HTTPS connection (1): upload.wikimedia.org:443\n"
     ]
    },
    {
     "name": "stdout",
     "output_type": "stream",
     "text": [
      "saved in images/From_Russia_with_Love/From_Russia_with_Love.jpg\n",
      "erroe: \n"
     ]
    },
    {
     "name": "stderr",
     "output_type": "stream",
     "text": [
      "2025-03-02 22:37:34 [urllib3.connectionpool] DEBUG: https://upload.wikimedia.org:443 \"GET /wikipedia/en/thumb/a/a6/Raiders_of_the_Lost_Ark_Theatrical_Poster.jpg/220px-Raiders_of_the_Lost_Ark_Theatrical_Poster.jpg HTTP/1.1\" 200 30953\n",
      "2025-03-02 22:37:34 [scrapy.core.scraper] DEBUG: Scraped from <200 https://en.wikipedia.org/wiki/Raiders_of_the_Lost_Ark>\n",
      "{'box_office': 389.9,\n",
      " 'countries': ['United States'],\n",
      " 'directors': ['Steven Spielberg'],\n",
      " 'image_urls': ['https://upload.wikimedia.org/wikipedia/en/thumb/a/a6/Raiders_of_the_Lost_Ark_Theatrical_Poster.jpg/220px-Raiders_of_the_Lost_Ark_Theatrical_Poster.jpg'],\n",
      " 'images': [],\n",
      " 'title': 'Raiders of the Lost Ark',\n",
      " 'year': 1981}\n",
      "2025-03-02 22:37:34 [scrapy.core.scraper] DEBUG: Scraped from <200 https://en.wikipedia.org/wiki/Goldfinger_(film)>\n",
      "{'box_office': 125000000.0,\n",
      " 'countries': ['United Kingdom', 'United States'],\n",
      " 'directors': ['Guy Hamilton'],\n",
      " 'image_urls': ['https://upload.wikimedia.org/wikipedia/en/thumb/9/9a/Goldfinger_-_UK_cinema_poster.jpg/220px-Goldfinger_-_UK_cinema_poster.jpg'],\n",
      " 'images': [],\n",
      " 'title': 'Goldfinger',\n",
      " 'year': 1964}\n",
      "2025-03-02 22:37:34 [urllib3.connectionpool] DEBUG: Starting new HTTPS connection (1): upload.wikimedia.org:443\n"
     ]
    },
    {
     "name": "stdout",
     "output_type": "stream",
     "text": [
      "saved in images/Raiders_of_the_Lost_Ark/Raiders_of_the_Lost_Ark.jpg\n",
      "erroe: \n"
     ]
    },
    {
     "name": "stderr",
     "output_type": "stream",
     "text": [
      "2025-03-02 22:37:34 [urllib3.connectionpool] DEBUG: https://upload.wikimedia.org:443 \"GET /wikipedia/en/thumb/d/d5/My_fair_lady_poster.jpg/220px-My_fair_lady_poster.jpg HTTP/1.1\" 403 2184\n",
      "2025-03-02 22:37:34 [urllib3.connectionpool] DEBUG: Starting new HTTPS connection (1): upload.wikimedia.org:443\n"
     ]
    },
    {
     "name": "stdout",
     "output_type": "stream",
     "text": [
      "error: 403\n"
     ]
    },
    {
     "name": "stderr",
     "output_type": "stream",
     "text": [
      "2025-03-02 22:37:34 [urllib3.connectionpool] DEBUG: https://upload.wikimedia.org:443 \"GET /wikipedia/en/thumb/7/78/Marypoppins.jpg/220px-Marypoppins.jpg HTTP/1.1\" 200 23721\n",
      "2025-03-02 22:37:34 [scrapy.core.scraper] DEBUG: Scraped from <200 https://en.wikipedia.org/wiki/My_Fair_Lady_(film)>\n",
      "{'box_office': 72700000.0,\n",
      " 'countries': ['United States'],\n",
      " 'directors': ['George Cukor'],\n",
      " 'image_urls': ['https://upload.wikimedia.org/wikipedia/en/thumb/d/d5/My_fair_lady_poster.jpg/220px-My_fair_lady_poster.jpg'],\n",
      " 'images': [],\n",
      " 'title': 'My Fair Lady',\n",
      " 'year': 1964}\n",
      "2025-03-02 22:37:34 [scrapy.core.scraper] DEBUG: Scraped from <200 https://en.wikipedia.org/wiki/Mary_Poppins_(film)>\n",
      "{'box_office': 103100000.0,\n",
      " 'countries': ['United States'],\n",
      " 'directors': ['Robert Stevenson'],\n",
      " 'image_urls': ['https://upload.wikimedia.org/wikipedia/en/thumb/7/78/Marypoppins.jpg/220px-Marypoppins.jpg'],\n",
      " 'images': [],\n",
      " 'title': 'Mary Poppins',\n",
      " 'year': 1964}\n",
      "2025-03-02 22:37:34 [scrapy.core.scraper] DEBUG: Scraped from <200 https://en.wikipedia.org/wiki/From_Russia_with_Love_(film)>\n",
      "{'box_office': 79000000.0,\n",
      " 'countries': ['United Kingdom', 'United States'],\n",
      " 'directors': ['Terence Young'],\n",
      " 'image_urls': ['https://upload.wikimedia.org/wikipedia/en/thumb/a/ad/From_Russia_with_Love_%E2%80%93_UK_cinema_poster.jpg/220px-From_Russia_with_Love_%E2%80%93_UK_cinema_poster.jpg'],\n",
      " 'images': [],\n",
      " 'title': 'From Russia with Love',\n",
      " 'year': 1963}\n",
      "2025-03-02 22:37:34 [urllib3.connectionpool] DEBUG: Starting new HTTPS connection (1): upload.wikimedia.org:443\n"
     ]
    },
    {
     "name": "stdout",
     "output_type": "stream",
     "text": [
      "saved in images/Mary_Poppins/Mary_Poppins.jpg\n",
      "erroe: \n"
     ]
    },
    {
     "name": "stderr",
     "output_type": "stream",
     "text": [
      "2025-03-02 22:37:35 [urllib3.connectionpool] DEBUG: https://upload.wikimedia.org:443 \"GET /wikipedia/en/c/c6/Sound_of_music.jpg HTTP/1.1\" 200 200566\n",
      "2025-03-02 22:37:35 [urllib3.connectionpool] DEBUG: Starting new HTTPS connection (1): upload.wikimedia.org:443\n"
     ]
    },
    {
     "name": "stdout",
     "output_type": "stream",
     "text": [
      "saved in images/The_Sound_of_Music/The_Sound_of_Music.jpg\n",
      "erroe: \n"
     ]
    },
    {
     "name": "stderr",
     "output_type": "stream",
     "text": [
      "2025-03-02 22:37:35 [urllib3.connectionpool] DEBUG: https://upload.wikimedia.org:443 \"GET /wikipedia/en/thumb/1/11/2001_A_Space_Odyssey_%281968%29.png/220px-2001_A_Space_Odyssey_%281968%29.png HTTP/1.1\" 200 112742\n",
      "2025-03-02 22:37:35 [urllib3.connectionpool] DEBUG: Starting new HTTPS connection (1): upload.wikimedia.org:443\n"
     ]
    },
    {
     "name": "stdout",
     "output_type": "stream",
     "text": [
      "saved in images/2001:_A_Space_Odyssey/2001:_A_Space_Odyssey.png\n",
      "erroe: \n"
     ]
    },
    {
     "name": "stderr",
     "output_type": "stream",
     "text": [
      "2025-03-02 22:37:36 [urllib3.connectionpool] DEBUG: https://upload.wikimedia.org:443 \"GET /wikipedia/commons/thumb/b/b1/Cleopatra_poster.jpg/220px-Cleopatra_poster.jpg HTTP/1.1\" 200 26068\n",
      "2025-03-02 22:37:36 [scrapy.core.engine] DEBUG: Crawled (200) <GET https://en.wikipedia.org/wiki/Psycho_(1960_film)> (referer: https://en.wikipedia.org/wiki/List_of_highest-grossing_films)\n",
      "2025-03-02 22:37:36 [scrapy.core.scraper] DEBUG: Scraped from <200 https://en.wikipedia.org/wiki/The_Sound_of_Music_(film)>\n",
      "{'box_office': 286200000.0,\n",
      " 'countries': ['United States'],\n",
      " 'directors': ['Robert Wise'],\n",
      " 'image_urls': ['https://upload.wikimedia.org/wikipedia/en/c/c6/Sound_of_music.jpg'],\n",
      " 'images': [],\n",
      " 'title': 'The Sound of Music',\n",
      " 'year': 1965}\n",
      "2025-03-02 22:37:36 [scrapy.core.scraper] DEBUG: Scraped from <200 https://en.wikipedia.org/wiki/2001:_A_Space_Odyssey>\n",
      "{'box_office': 146000000.0,\n",
      " 'countries': ['United Kingdom', 'United States'],\n",
      " 'directors': ['Stanley Kubrick'],\n",
      " 'image_urls': ['https://upload.wikimedia.org/wikipedia/en/thumb/1/11/2001_A_Space_Odyssey_%281968%29.png/220px-2001_A_Space_Odyssey_%281968%29.png'],\n",
      " 'images': [],\n",
      " 'title': '2001: A Space Odyssey',\n",
      " 'year': 1968}\n",
      "2025-03-02 22:37:36 [scrapy.core.scraper] DEBUG: Scraped from <200 https://en.wikipedia.org/wiki/Cleopatra_(1963_film)>\n",
      "{'box_office': 57800000.0,\n",
      " 'countries': ['United States'],\n",
      " 'directors': ['Joseph L. Mankiewicz'],\n",
      " 'image_urls': ['https://upload.wikimedia.org/wikipedia/commons/thumb/b/b1/Cleopatra_poster.jpg/220px-Cleopatra_poster.jpg'],\n",
      " 'images': [],\n",
      " 'title': 'Cleopatra',\n",
      " 'year': 1963}\n",
      "2025-03-02 22:37:36 [scrapy.extensions.logstats] INFO: Crawled 274 pages (at 23 pages/min), scraped 257 items (at 26 items/min)\n"
     ]
    },
    {
     "name": "stdout",
     "output_type": "stream",
     "text": [
      "saved in images/Cleopatra/Cleopatra.jpg\n",
      "erroe: \n"
     ]
    },
    {
     "name": "stderr",
     "output_type": "stream",
     "text": [
      "2025-03-02 22:37:36 [scrapy.pipelines.media] ERROR: [Failure instance: Traceback: <class 'scrapy.pipelines.files.FileException'>: \n",
      "/Library/Frameworks/Python.framework/Versions/3.13/lib/python3.13/site-packages/twisted/internet/defer.py:1088:_runCallbacks\n",
      "/Library/Frameworks/Python.framework/Versions/3.13/lib/python3.13/site-packages/scrapy/pipelines/files.py:627:media_failed\n",
      "]\n",
      "NoneType: None\n",
      "2025-03-02 22:37:36 [scrapy.pipelines.media] ERROR: [Failure instance: Traceback: <class 'scrapy.pipelines.files.FileException'>: \n",
      "/Library/Frameworks/Python.framework/Versions/3.13/lib/python3.13/site-packages/twisted/internet/defer.py:1088:_runCallbacks\n",
      "/Library/Frameworks/Python.framework/Versions/3.13/lib/python3.13/site-packages/scrapy/pipelines/files.py:627:media_failed\n",
      "]\n",
      "NoneType: None\n",
      "2025-03-02 22:37:36 [scrapy.pipelines.media] ERROR: [Failure instance: Traceback: <class 'scrapy.pipelines.files.FileException'>: \n",
      "/Library/Frameworks/Python.framework/Versions/3.13/lib/python3.13/site-packages/twisted/internet/defer.py:1088:_runCallbacks\n",
      "/Library/Frameworks/Python.framework/Versions/3.13/lib/python3.13/site-packages/scrapy/pipelines/files.py:627:media_failed\n",
      "]\n",
      "NoneType: None\n",
      "2025-03-02 22:37:36 [scrapy.pipelines.media] ERROR: [Failure instance: Traceback: <class 'scrapy.pipelines.files.FileException'>: \n",
      "/Library/Frameworks/Python.framework/Versions/3.13/lib/python3.13/site-packages/twisted/internet/defer.py:1088:_runCallbacks\n",
      "/Library/Frameworks/Python.framework/Versions/3.13/lib/python3.13/site-packages/scrapy/pipelines/files.py:627:media_failed\n",
      "]\n",
      "NoneType: None\n",
      "2025-03-02 22:37:36 [urllib3.connectionpool] DEBUG: Starting new HTTPS connection (1): upload.wikimedia.org:443\n",
      "2025-03-02 22:37:37 [urllib3.connectionpool] DEBUG: https://upload.wikimedia.org:443 \"GET /wikipedia/commons/thumb/8/88/Poster_-_How_the_West_Was_Won.jpg/220px-Poster_-_How_the_West_Was_Won.jpg HTTP/1.1\" 200 36426\n",
      "2025-03-02 22:37:37 [scrapy.pipelines.media] ERROR: [Failure instance: Traceback: <class 'scrapy.pipelines.files.FileException'>: \n",
      "/Library/Frameworks/Python.framework/Versions/3.13/lib/python3.13/site-packages/twisted/internet/defer.py:1088:_runCallbacks\n",
      "/Library/Frameworks/Python.framework/Versions/3.13/lib/python3.13/site-packages/scrapy/pipelines/files.py:627:media_failed\n",
      "]\n",
      "NoneType: None\n",
      "2025-03-02 22:37:37 [urllib3.connectionpool] DEBUG: Starting new HTTPS connection (1): upload.wikimedia.org:443\n"
     ]
    },
    {
     "name": "stdout",
     "output_type": "stream",
     "text": [
      "saved in images/How_the_West_Was_Won/How_the_West_Was_Won.jpg\n",
      "erroe: \n"
     ]
    },
    {
     "name": "stderr",
     "output_type": "stream",
     "text": [
      "2025-03-02 22:37:37 [urllib3.connectionpool] DEBUG: https://upload.wikimedia.org:443 \"GET /wikipedia/commons/thumb/c/ce/Spartacus_-_1960_-_poster.png/220px-Spartacus_-_1960_-_poster.png HTTP/1.1\" 200 151591\n",
      "2025-03-02 22:37:37 [scrapy.pipelines.media] ERROR: [Failure instance: Traceback: <class 'scrapy.pipelines.files.FileException'>: \n",
      "/Library/Frameworks/Python.framework/Versions/3.13/lib/python3.13/site-packages/twisted/internet/defer.py:1088:_runCallbacks\n",
      "/Library/Frameworks/Python.framework/Versions/3.13/lib/python3.13/site-packages/scrapy/pipelines/files.py:627:media_failed\n",
      "]\n",
      "NoneType: None\n",
      "2025-03-02 22:37:37 [scrapy.pipelines.media] ERROR: [Failure instance: Traceback: <class 'scrapy.pipelines.files.FileException'>: \n",
      "/Library/Frameworks/Python.framework/Versions/3.13/lib/python3.13/site-packages/twisted/internet/defer.py:1088:_runCallbacks\n",
      "/Library/Frameworks/Python.framework/Versions/3.13/lib/python3.13/site-packages/scrapy/pipelines/files.py:627:media_failed\n",
      "]\n",
      "NoneType: None\n",
      "2025-03-02 22:37:37 [urllib3.connectionpool] DEBUG: Starting new HTTPS connection (1): upload.wikimedia.org:443\n"
     ]
    },
    {
     "name": "stdout",
     "output_type": "stream",
     "text": [
      "saved in images/Spartacus/Spartacus.png\n",
      "erroe: \n"
     ]
    },
    {
     "name": "stderr",
     "output_type": "stream",
     "text": [
      "2025-03-02 22:37:38 [urllib3.connectionpool] DEBUG: https://upload.wikimedia.org:443 \"GET /wikipedia/commons/thumb/c/c5/Lawrence_of_arabia_ver3_xxlg.jpg/220px-Lawrence_of_arabia_ver3_xxlg.jpg HTTP/1.1\" 200 24889\n",
      "2025-03-02 22:37:38 [urllib3.connectionpool] DEBUG: Starting new HTTPS connection (1): upload.wikimedia.org:443\n"
     ]
    },
    {
     "name": "stdout",
     "output_type": "stream",
     "text": [
      "saved in images/Lawrence_of_Arabia/Lawrence_of_Arabia.jpg\n",
      "erroe: \n"
     ]
    },
    {
     "name": "stderr",
     "output_type": "stream",
     "text": [
      "2025-03-02 22:37:38 [urllib3.connectionpool] DEBUG: https://upload.wikimedia.org:443 \"GET /wikipedia/en/7/79/Original_movie_poster_for_the_film_The_Longest_Day.jpg HTTP/1.1\" 200 11292\n",
      "2025-03-02 22:37:38 [urllib3.connectionpool] DEBUG: Starting new HTTPS connection (1): upload.wikimedia.org:443\n"
     ]
    },
    {
     "name": "stdout",
     "output_type": "stream",
     "text": [
      "saved in images/The_Longest_Day/The_Longest_Day.jpg\n",
      "erroe: \n"
     ]
    },
    {
     "name": "stderr",
     "output_type": "stream",
     "text": [
      "2025-03-02 22:37:38 [urllib3.connectionpool] DEBUG: https://upload.wikimedia.org:443 \"GET /wikipedia/commons/thumb/0/0b/West_Side_Story_1961_film_poster.jpg/220px-West_Side_Story_1961_film_poster.jpg HTTP/1.1\" 200 28328\n",
      "2025-03-02 22:37:38 [scrapy.core.scraper] DEBUG: Scraped from <200 https://en.wikipedia.org/wiki/Lawrence_of_Arabia_(film)>\n",
      "{'box_office': 70000000.0,\n",
      " 'countries': ['United Kingdom', 'United States'],\n",
      " 'directors': ['David Lean'],\n",
      " 'image_urls': ['https://upload.wikimedia.org/wikipedia/commons/thumb/c/c5/Lawrence_of_arabia_ver3_xxlg.jpg/220px-Lawrence_of_arabia_ver3_xxlg.jpg'],\n",
      " 'images': [],\n",
      " 'title': 'Lawrence of Arabia',\n",
      " 'year': 1962}\n",
      "2025-03-02 22:37:38 [scrapy.core.scraper] DEBUG: Scraped from <200 https://en.wikipedia.org/wiki/The_Longest_Day_(film)>\n",
      "{'box_office': 50100000.0,\n",
      " 'countries': ['United States'],\n",
      " 'directors': ['Ken Annakin', 'Andrew Marton', 'Bernhard Wicki'],\n",
      " 'image_urls': ['https://upload.wikimedia.org/wikipedia/en/7/79/Original_movie_poster_for_the_film_The_Longest_Day.jpg'],\n",
      " 'images': [],\n",
      " 'title': 'The Longest Day',\n",
      " 'year': 1962}\n",
      "2025-03-02 22:37:38 [scrapy.core.scraper] DEBUG: Scraped from <200 https://en.wikipedia.org/wiki/West_Side_Story_(1961_film)>\n",
      "{'box_office': 44100000.0,\n",
      " 'countries': ['United States'],\n",
      " 'directors': ['Robert Wise', 'Jerome Robbins'],\n",
      " 'image_urls': ['https://upload.wikimedia.org/wikipedia/commons/thumb/0/0b/West_Side_Story_1961_film_poster.jpg/220px-West_Side_Story_1961_film_poster.jpg'],\n",
      " 'images': [],\n",
      " 'title': 'West Side Story',\n",
      " 'year': 1961}\n",
      "2025-03-02 22:37:38 [scrapy.core.scraper] DEBUG: Scraped from <200 https://en.wikipedia.org/wiki/How_the_West_Was_Won_(film)>\n",
      "{'box_office': 50000000.0,\n",
      " 'countries': ['United States'],\n",
      " 'directors': ['Henry Hathaway', 'John Ford', 'George Marshall'],\n",
      " 'image_urls': ['https://upload.wikimedia.org/wikipedia/commons/thumb/8/88/Poster_-_How_the_West_Was_Won.jpg/220px-Poster_-_How_the_West_Was_Won.jpg'],\n",
      " 'images': [],\n",
      " 'title': 'How the West Was Won',\n",
      " 'year': 1962}\n",
      "2025-03-02 22:37:38 [scrapy.core.scraper] DEBUG: Scraped from <200 https://en.wikipedia.org/wiki/Spartacus_(film)>\n",
      "{'box_office': 60000000.0,\n",
      " 'countries': ['United States'],\n",
      " 'directors': ['Stanley Kubrick'],\n",
      " 'image_urls': ['https://upload.wikimedia.org/wikipedia/commons/thumb/c/ce/Spartacus_-_1960_-_poster.png/220px-Spartacus_-_1960_-_poster.png'],\n",
      " 'images': [],\n",
      " 'title': 'Spartacus',\n",
      " 'year': 1960}\n",
      "2025-03-02 22:37:38 [urllib3.connectionpool] DEBUG: Starting new HTTPS connection (1): upload.wikimedia.org:443\n"
     ]
    },
    {
     "name": "stdout",
     "output_type": "stream",
     "text": [
      "saved in images/West_Side_Story/West_Side_Story.jpg\n",
      "erroe: \n"
     ]
    },
    {
     "name": "stderr",
     "output_type": "stream",
     "text": [
      "2025-03-02 22:37:39 [urllib3.connectionpool] DEBUG: https://upload.wikimedia.org:443 \"GET /wikipedia/en/thumb/c/cd/One_Hundred_and_One_Dalmatians_movie_poster.jpg/220px-One_Hundred_and_One_Dalmatians_movie_poster.jpg HTTP/1.1\" 200 34221\n",
      "2025-03-02 22:37:39 [urllib3.connectionpool] DEBUG: Starting new HTTPS connection (1): upload.wikimedia.org:443\n"
     ]
    },
    {
     "name": "stdout",
     "output_type": "stream",
     "text": [
      "saved in images/One_Hundred_and_One_Dalmatians/One_Hundred_and_One_Dalmatians.jpg\n",
      "erroe: \n"
     ]
    },
    {
     "name": "stderr",
     "output_type": "stream",
     "text": [
      "2025-03-02 22:37:39 [urllib3.connectionpool] DEBUG: https://upload.wikimedia.org:443 \"GET /wikipedia/en/thumb/a/aa/Swiss_family_robinson322.jpg/220px-Swiss_family_robinson322.jpg HTTP/1.1\" 403 2184\n",
      "2025-03-02 22:37:39 [scrapy.core.scraper] DEBUG: Scraped from <200 https://en.wikipedia.org/wiki/One_Hundred_and_One_Dalmatians>\n",
      "{'box_office': 303000000.0,\n",
      " 'countries': ['United States'],\n",
      " 'directors': ['Wolfgang Reitherman', 'Hamilton Luske', 'Clyde Geronimi'],\n",
      " 'image_urls': ['https://upload.wikimedia.org/wikipedia/en/thumb/c/cd/One_Hundred_and_One_Dalmatians_movie_poster.jpg/220px-One_Hundred_and_One_Dalmatians_movie_poster.jpg'],\n",
      " 'images': [],\n",
      " 'title': 'One Hundred and One Dalmatians',\n",
      " 'year': 1961}\n",
      "2025-03-02 22:37:39 [scrapy.core.scraper] DEBUG: Scraped from <200 https://en.wikipedia.org/wiki/Swiss_Family_Robinson_(1960_film)>\n",
      "{'box_office': 40000000.0,\n",
      " 'countries': ['United States'],\n",
      " 'directors': ['Ken Annakin'],\n",
      " 'image_urls': ['https://upload.wikimedia.org/wikipedia/en/thumb/a/aa/Swiss_family_robinson322.jpg/220px-Swiss_family_robinson322.jpg'],\n",
      " 'images': [],\n",
      " 'title': 'Swiss Family Robinson',\n",
      " 'year': 1960}\n",
      "2025-03-02 22:37:39 [scrapy.pipelines.media] ERROR: [Failure instance: Traceback: <class 'scrapy.pipelines.files.FileException'>: \n",
      "/Library/Frameworks/Python.framework/Versions/3.13/lib/python3.13/site-packages/twisted/internet/defer.py:1088:_runCallbacks\n",
      "/Library/Frameworks/Python.framework/Versions/3.13/lib/python3.13/site-packages/scrapy/pipelines/files.py:627:media_failed\n",
      "]\n",
      "NoneType: None\n",
      "2025-03-02 22:37:39 [urllib3.connectionpool] DEBUG: Starting new HTTPS connection (1): upload.wikimedia.org:443\n"
     ]
    },
    {
     "name": "stdout",
     "output_type": "stream",
     "text": [
      "error: 403\n"
     ]
    },
    {
     "name": "stderr",
     "output_type": "stream",
     "text": [
      "2025-03-02 22:37:39 [urllib3.connectionpool] DEBUG: https://upload.wikimedia.org:443 \"GET /wikipedia/commons/thumb/7/76/Psycho_%281960%29_theatrical_poster_%28retouched%29.jpg/220px-Psycho_%281960%29_theatrical_poster_%28retouched%29.jpg HTTP/1.1\" 200 35544\n",
      "2025-03-02 22:37:40 [scrapy.core.engine] DEBUG: Crawled (200) <GET https://en.wikipedia.org/wiki/Cinerama_Holiday> (referer: https://en.wikipedia.org/wiki/List_of_highest-grossing_films)\n",
      "2025-03-02 22:37:40 [scrapy.core.engine] DEBUG: Crawled (200) <GET https://en.wikipedia.org/wiki/South_Pacific_(1958_film)> (referer: https://en.wikipedia.org/wiki/List_of_highest-grossing_films)\n",
      "2025-03-02 22:37:40 [scrapy.core.engine] DEBUG: Crawled (200) <GET https://en.wikipedia.org/wiki/Mister_Roberts_(1955_film)> (referer: https://en.wikipedia.org/wiki/List_of_highest-grossing_films)\n",
      "2025-03-02 22:37:40 [scrapy.core.engine] DEBUG: Crawled (200) <GET https://en.wikipedia.org/wiki/20,000_Leagues_Under_the_Sea_(1954_film)> (referer: https://en.wikipedia.org/wiki/List_of_highest-grossing_films)\n",
      "2025-03-02 22:37:40 [scrapy.core.scraper] DEBUG: Scraped from <200 https://en.wikipedia.org/wiki/Psycho_(1960_film)>\n",
      "{'box_office': 50000000.0,\n",
      " 'countries': ['United States'],\n",
      " 'directors': ['Alfred Hitchcock'],\n",
      " 'image_urls': ['https://upload.wikimedia.org/wikipedia/commons/thumb/7/76/Psycho_%281960%29_theatrical_poster_%28retouched%29.jpg/220px-Psycho_%281960%29_theatrical_poster_%28retouched%29.jpg'],\n",
      " 'images': [],\n",
      " 'title': 'Psycho',\n",
      " 'year': 1960}\n",
      "2025-03-02 22:37:40 [scrapy.core.engine] DEBUG: Crawled (200) <GET https://en.wikipedia.org/wiki/Lady_and_the_Tramp> (referer: https://en.wikipedia.org/wiki/List_of_highest-grossing_films)\n",
      "2025-03-02 22:37:40 [scrapy.core.engine] DEBUG: Crawled (200) <GET https://en.wikipedia.org/wiki/The_Bridge_on_the_River_Kwai> (referer: https://en.wikipedia.org/wiki/List_of_highest-grossing_films)\n",
      "2025-03-02 22:37:40 [scrapy.core.engine] DEBUG: Crawled (200) <GET https://en.wikipedia.org/wiki/The_Ten_Commandments_(1956_film)> (referer: https://en.wikipedia.org/wiki/List_of_highest-grossing_films)\n",
      "2025-03-02 22:37:40 [scrapy.core.engine] DEBUG: Crawled (200) <GET https://en.wikipedia.org/wiki/Ben-Hur_(1959_film)> (referer: https://en.wikipedia.org/wiki/List_of_highest-grossing_films)\n"
     ]
    },
    {
     "name": "stdout",
     "output_type": "stream",
     "text": [
      "saved in images/Psycho/Psycho.jpg\n",
      "erroe: \n"
     ]
    },
    {
     "name": "stderr",
     "output_type": "stream",
     "text": [
      "2025-03-02 22:37:40 [scrapy.core.engine] DEBUG: Crawled (200) <GET https://en.wikipedia.org/wiki/This_Is_Cinerama> (referer: https://en.wikipedia.org/wiki/List_of_highest-grossing_films)\n",
      "2025-03-02 22:37:40 [scrapy.core.engine] DEBUG: Crawled (200) <GET https://en.wikipedia.org/wiki/Quo_Vadis_(1951_film)> (referer: https://en.wikipedia.org/wiki/List_of_highest-grossing_films)\n",
      "2025-03-02 22:37:40 [scrapy.pipelines.media] ERROR: [Failure instance: Traceback: <class 'scrapy.pipelines.files.FileException'>: \n",
      "/Library/Frameworks/Python.framework/Versions/3.13/lib/python3.13/site-packages/twisted/internet/defer.py:1088:_runCallbacks\n",
      "/Library/Frameworks/Python.framework/Versions/3.13/lib/python3.13/site-packages/scrapy/pipelines/files.py:627:media_failed\n",
      "]\n",
      "NoneType: None\n",
      "2025-03-02 22:37:40 [urllib3.connectionpool] DEBUG: Starting new HTTPS connection (1): upload.wikimedia.org:443\n",
      "2025-03-02 22:37:40 [urllib3.connectionpool] DEBUG: https://upload.wikimedia.org:443 \"GET /wikipedia/en/thumb/5/57/Poster_of_the_movie_South_Pacific.jpg/220px-Poster_of_the_movie_South_Pacific.jpg HTTP/1.1\" 403 2184\n",
      "2025-03-02 22:37:40 [scrapy.pipelines.media] ERROR: [Failure instance: Traceback: <class 'scrapy.pipelines.files.FileException'>: \n",
      "/Library/Frameworks/Python.framework/Versions/3.13/lib/python3.13/site-packages/twisted/internet/defer.py:1088:_runCallbacks\n",
      "/Library/Frameworks/Python.framework/Versions/3.13/lib/python3.13/site-packages/scrapy/pipelines/files.py:627:media_failed\n",
      "]\n",
      "NoneType: None\n",
      "2025-03-02 22:37:40 [urllib3.connectionpool] DEBUG: Starting new HTTPS connection (1): upload.wikimedia.org:443\n"
     ]
    },
    {
     "name": "stdout",
     "output_type": "stream",
     "text": [
      "error: 403\n"
     ]
    },
    {
     "name": "stderr",
     "output_type": "stream",
     "text": [
      "2025-03-02 22:37:40 [urllib3.connectionpool] DEBUG: https://upload.wikimedia.org:443 \"GET /wikipedia/commons/thumb/e/e8/Mister_Roberts_%281955_movie_poster%29.jpg/220px-Mister_Roberts_%281955_movie_poster%29.jpg HTTP/1.1\" 403 2184\n",
      "2025-03-02 22:37:40 [scrapy.core.engine] DEBUG: Crawled (200) <GET https://en.wikipedia.org/wiki/The_Greatest_Show_on_Earth_(film)> (referer: https://en.wikipedia.org/wiki/List_of_highest-grossing_films)\n",
      "2025-03-02 22:37:40 [scrapy.core.engine] DEBUG: Crawled (200) <GET https://en.wikipedia.org/wiki/The_Robe_(film)> (referer: https://en.wikipedia.org/wiki/List_of_highest-grossing_films)\n",
      "2025-03-02 22:37:40 [scrapy.core.engine] DEBUG: Crawled (200) <GET https://en.wikipedia.org/wiki/White_Christmas_(film)> (referer: https://en.wikipedia.org/wiki/List_of_highest-grossing_films)\n",
      "2025-03-02 22:37:40 [scrapy.core.engine] DEBUG: Crawled (200) <GET https://en.wikipedia.org/wiki/Rear_Window> (referer: https://en.wikipedia.org/wiki/List_of_highest-grossing_films)\n",
      "2025-03-02 22:37:40 [scrapy.core.engine] DEBUG: Crawled (200) <GET https://en.wikipedia.org/wiki/Peter_Pan_(1953_film)> (referer: https://en.wikipedia.org/wiki/List_of_highest-grossing_films)\n",
      "2025-03-02 22:37:40 [scrapy.core.engine] DEBUG: Crawled (200) <GET https://en.wikipedia.org/wiki/King_Solomon%27s_Mines_(1950_film)> (referer: https://en.wikipedia.org/wiki/List_of_highest-grossing_films)\n",
      "2025-03-02 22:37:40 [scrapy.core.scraper] DEBUG: Scraped from <200 https://en.wikipedia.org/wiki/South_Pacific_(1958_film)>\n",
      "{'box_office': 17500000.0,\n",
      " 'countries': ['United States'],\n",
      " 'directors': ['Joshua Logan'],\n",
      " 'image_urls': ['https://upload.wikimedia.org/wikipedia/en/thumb/5/57/Poster_of_the_movie_South_Pacific.jpg/220px-Poster_of_the_movie_South_Pacific.jpg'],\n",
      " 'images': [],\n",
      " 'title': 'South Pacific',\n",
      " 'year': 1958}\n",
      "2025-03-02 22:37:40 [scrapy.core.scraper] DEBUG: Scraped from <200 https://en.wikipedia.org/wiki/Mister_Roberts_(1955_film)>\n",
      "{'box_office': 21200000.0,\n",
      " 'countries': ['United States'],\n",
      " 'directors': ['John Ford'],\n",
      " 'image_urls': ['https://upload.wikimedia.org/wikipedia/commons/thumb/e/e8/Mister_Roberts_%281955_movie_poster%29.jpg/220px-Mister_Roberts_%281955_movie_poster%29.jpg'],\n",
      " 'images': [],\n",
      " 'title': 'Mister Roberts',\n",
      " 'year': 1955}\n",
      "2025-03-02 22:37:40 [scrapy.pipelines.media] ERROR: [Failure instance: Traceback: <class 'scrapy.pipelines.files.FileException'>: \n",
      "/Library/Frameworks/Python.framework/Versions/3.13/lib/python3.13/site-packages/twisted/internet/defer.py:1088:_runCallbacks\n",
      "/Library/Frameworks/Python.framework/Versions/3.13/lib/python3.13/site-packages/scrapy/pipelines/files.py:627:media_failed\n",
      "]\n",
      "NoneType: None\n",
      "2025-03-02 22:37:40 [urllib3.connectionpool] DEBUG: Starting new HTTPS connection (1): upload.wikimedia.org:443\n"
     ]
    },
    {
     "name": "stdout",
     "output_type": "stream",
     "text": [
      "error: 403\n"
     ]
    },
    {
     "name": "stderr",
     "output_type": "stream",
     "text": [
      "2025-03-02 22:37:41 [urllib3.connectionpool] DEBUG: https://upload.wikimedia.org:443 \"GET /wikipedia/en/thumb/b/b8/20000leaguesposter.jpg/220px-20000leaguesposter.jpg HTTP/1.1\" 403 2184\n",
      "2025-03-02 22:37:41 [scrapy.pipelines.media] ERROR: [Failure instance: Traceback: <class 'scrapy.pipelines.files.FileException'>: \n",
      "/Library/Frameworks/Python.framework/Versions/3.13/lib/python3.13/site-packages/twisted/internet/defer.py:1088:_runCallbacks\n",
      "/Library/Frameworks/Python.framework/Versions/3.13/lib/python3.13/site-packages/scrapy/pipelines/files.py:627:media_failed\n",
      "]\n",
      "NoneType: None\n"
     ]
    },
    {
     "name": "stdout",
     "output_type": "stream",
     "text": [
      "error: 403\n"
     ]
    },
    {
     "name": "stderr",
     "output_type": "stream",
     "text": [
      "2025-03-02 22:37:41 [scrapy.pipelines.media] ERROR: [Failure instance: Traceback: <class 'scrapy.pipelines.files.FileException'>: \n",
      "/Library/Frameworks/Python.framework/Versions/3.13/lib/python3.13/site-packages/twisted/internet/defer.py:1088:_runCallbacks\n",
      "/Library/Frameworks/Python.framework/Versions/3.13/lib/python3.13/site-packages/scrapy/pipelines/files.py:627:media_failed\n",
      "]\n",
      "NoneType: None\n",
      "2025-03-02 22:37:41 [scrapy.pipelines.media] ERROR: [Failure instance: Traceback: <class 'scrapy.pipelines.files.FileException'>: \n",
      "/Library/Frameworks/Python.framework/Versions/3.13/lib/python3.13/site-packages/twisted/internet/defer.py:1088:_runCallbacks\n",
      "/Library/Frameworks/Python.framework/Versions/3.13/lib/python3.13/site-packages/scrapy/pipelines/files.py:627:media_failed\n",
      "]\n",
      "NoneType: None\n",
      "2025-03-02 22:37:41 [scrapy.pipelines.media] ERROR: [Failure instance: Traceback: <class 'scrapy.pipelines.files.FileException'>: \n",
      "/Library/Frameworks/Python.framework/Versions/3.13/lib/python3.13/site-packages/twisted/internet/defer.py:1088:_runCallbacks\n",
      "/Library/Frameworks/Python.framework/Versions/3.13/lib/python3.13/site-packages/scrapy/pipelines/files.py:627:media_failed\n",
      "]\n",
      "NoneType: None\n",
      "2025-03-02 22:37:41 [scrapy.core.engine] DEBUG: Crawled (200) <GET https://en.wikipedia.org/wiki/Samson_and_Delilah_(1949_film)> (referer: https://en.wikipedia.org/wiki/List_of_highest-grossing_films)\n",
      "2025-03-02 22:37:41 [scrapy.core.engine] DEBUG: Crawled (200) <GET https://en.wikipedia.org/wiki/The_Snake_Pit> (referer: https://en.wikipedia.org/wiki/List_of_highest-grossing_films)\n",
      "2025-03-02 22:37:41 [scrapy.core.engine] DEBUG: Crawled (200) <GET https://en.wikipedia.org/wiki/Easter_Parade_(film)> (referer: https://en.wikipedia.org/wiki/List_of_highest-grossing_films)\n",
      "2025-03-02 22:37:41 [scrapy.core.engine] DEBUG: Crawled (200) <GET https://en.wikipedia.org/wiki/The_Red_Shoes_(1948_film)> (referer: https://en.wikipedia.org/wiki/List_of_highest-grossing_films)\n",
      "2025-03-02 22:37:41 [scrapy.core.engine] DEBUG: Crawled (200) <GET https://en.wikipedia.org/wiki/Duel_in_the_Sun_(film)> (referer: https://en.wikipedia.org/wiki/List_of_highest-grossing_films)\n",
      "2025-03-02 22:37:41 [scrapy.core.engine] DEBUG: Crawled (200) <GET https://en.wikipedia.org/wiki/Unconquered_(1947_film)> (referer: https://en.wikipedia.org/wiki/List_of_highest-grossing_films)\n",
      "2025-03-02 22:37:41 [scrapy.core.engine] DEBUG: Crawled (200) <GET https://en.wikipedia.org/wiki/Forever_Amber_(film)> (referer: https://en.wikipedia.org/wiki/List_of_highest-grossing_films)\n",
      "2025-03-02 22:37:41 [scrapy.core.scraper] DEBUG: Scraped from <200 https://en.wikipedia.org/wiki/20,000_Leagues_Under_the_Sea_(1954_film)>\n",
      "{'box_office': 28200000.0,\n",
      " 'countries': ['United States'],\n",
      " 'directors': ['Richard Fleischer'],\n",
      " 'image_urls': ['https://upload.wikimedia.org/wikipedia/en/thumb/b/b8/20000leaguesposter.jpg/220px-20000leaguesposter.jpg'],\n",
      " 'images': [],\n",
      " 'title': '20,000 Leagues Under the Sea',\n",
      " 'year': 1954}\n",
      "2025-03-02 22:37:41 [urllib3.connectionpool] DEBUG: Starting new HTTPS connection (1): upload.wikimedia.org:443\n",
      "2025-03-02 22:37:41 [urllib3.connectionpool] DEBUG: https://upload.wikimedia.org:443 \"GET /wikipedia/en/thumb/3/39/Lady-and-tramp-1955-poster.jpg/220px-Lady-and-tramp-1955-poster.jpg HTTP/1.1\" 403 2184\n",
      "2025-03-02 22:37:41 [scrapy.core.scraper] DEBUG: Scraped from <200 https://en.wikipedia.org/wiki/Lady_and_the_Tramp>\n",
      "{'box_office': 187000000.0,\n",
      " 'countries': ['United States'],\n",
      " 'directors': ['Hamilton Luske', 'Clyde Geronimi', 'Wilfred Jackson'],\n",
      " 'image_urls': ['https://upload.wikimedia.org/wikipedia/en/thumb/3/39/Lady-and-tramp-1955-poster.jpg/220px-Lady-and-tramp-1955-poster.jpg'],\n",
      " 'images': [],\n",
      " 'title': 'Lady and the Tramp',\n",
      " 'year': 1955}\n",
      "2025-03-02 22:37:41 [urllib3.connectionpool] DEBUG: Starting new HTTPS connection (1): upload.wikimedia.org:443\n"
     ]
    },
    {
     "name": "stdout",
     "output_type": "stream",
     "text": [
      "error: 403\n"
     ]
    },
    {
     "name": "stderr",
     "output_type": "stream",
     "text": [
      "2025-03-02 22:37:42 [urllib3.connectionpool] DEBUG: https://upload.wikimedia.org:443 \"GET /wikipedia/commons/thumb/d/d9/The_Bridge_on_the_River_Kwai_%281958_US_poster_-_Style_A%29.jpg/220px-The_Bridge_on_the_River_Kwai_%281958_US_poster_-_Style_A%29.jpg HTTP/1.1\" 200 39069\n",
      "2025-03-02 22:37:42 [urllib3.connectionpool] DEBUG: Starting new HTTPS connection (1): upload.wikimedia.org:443\n"
     ]
    },
    {
     "name": "stdout",
     "output_type": "stream",
     "text": [
      "saved in images/The_Bridge_on_the_River_Kwai/The_Bridge_on_the_River_Kwai.jpg\n",
      "erroe: \n"
     ]
    },
    {
     "name": "stderr",
     "output_type": "stream",
     "text": [
      "2025-03-02 22:37:42 [urllib3.connectionpool] DEBUG: https://upload.wikimedia.org:443 \"GET /wikipedia/commons/thumb/d/df/The_Ten_Commandments_%281956_film_poster%29.jpg/220px-The_Ten_Commandments_%281956_film_poster%29.jpg HTTP/1.1\" 200 32144\n",
      "2025-03-02 22:37:42 [urllib3.connectionpool] DEBUG: Starting new HTTPS connection (1): upload.wikimedia.org:443\n"
     ]
    },
    {
     "name": "stdout",
     "output_type": "stream",
     "text": [
      "saved in images/The_Ten_Commandments/The_Ten_Commandments.jpg\n",
      "erroe: \n"
     ]
    },
    {
     "name": "stderr",
     "output_type": "stream",
     "text": [
      "2025-03-02 22:37:43 [urllib3.connectionpool] DEBUG: https://upload.wikimedia.org:443 \"GET /wikipedia/commons/thumb/7/74/Ben_hur_1959_poster.jpg/220px-Ben_hur_1959_poster.jpg HTTP/1.1\" 200 27576\n",
      "2025-03-02 22:37:43 [scrapy.pipelines.media] ERROR: [Failure instance: Traceback: <class 'scrapy.pipelines.files.FileException'>: \n",
      "/Library/Frameworks/Python.framework/Versions/3.13/lib/python3.13/site-packages/twisted/internet/defer.py:1088:_runCallbacks\n",
      "/Library/Frameworks/Python.framework/Versions/3.13/lib/python3.13/site-packages/scrapy/pipelines/files.py:627:media_failed\n",
      "]\n",
      "NoneType: None\n",
      "2025-03-02 22:37:43 [urllib3.connectionpool] DEBUG: Starting new HTTPS connection (1): upload.wikimedia.org:443\n"
     ]
    },
    {
     "name": "stdout",
     "output_type": "stream",
     "text": [
      "saved in images/Ben-Hur/Ben-Hur.jpg\n",
      "erroe: \n"
     ]
    },
    {
     "name": "stderr",
     "output_type": "stream",
     "text": [
      "2025-03-02 22:37:43 [urllib3.connectionpool] DEBUG: https://upload.wikimedia.org:443 \"GET /wikipedia/en/thumb/a/ae/This_Is_Cinerama_FilmPoster.jpeg/220px-This_Is_Cinerama_FilmPoster.jpeg HTTP/1.1\" 403 2184\n",
      "2025-03-02 22:37:43 [scrapy.pipelines.media] ERROR: [Failure instance: Traceback: <class 'scrapy.pipelines.files.FileException'>: \n",
      "/Library/Frameworks/Python.framework/Versions/3.13/lib/python3.13/site-packages/twisted/internet/defer.py:1088:_runCallbacks\n",
      "/Library/Frameworks/Python.framework/Versions/3.13/lib/python3.13/site-packages/scrapy/pipelines/files.py:627:media_failed\n",
      "]\n",
      "NoneType: None\n",
      "2025-03-02 22:37:43 [urllib3.connectionpool] DEBUG: Starting new HTTPS connection (1): upload.wikimedia.org:443\n"
     ]
    },
    {
     "name": "stdout",
     "output_type": "stream",
     "text": [
      "error: 403\n"
     ]
    },
    {
     "name": "stderr",
     "output_type": "stream",
     "text": [
      "2025-03-02 22:37:43 [urllib3.connectionpool] DEBUG: https://upload.wikimedia.org:443 \"GET /wikipedia/commons/thumb/a/ad/Poster_-_Quo_Vadis_%281951%29_01.jpg/220px-Poster_-_Quo_Vadis_%281951%29_01.jpg HTTP/1.1\" 200 41198\n",
      "2025-03-02 22:37:43 [scrapy.core.engine] DEBUG: Crawled (200) <GET https://en.wikipedia.org/wiki/Cinderella_(1950_film)> (referer: https://en.wikipedia.org/wiki/List_of_highest-grossing_films)\n",
      "2025-03-02 22:37:43 [scrapy.core.scraper] DEBUG: Scraped from <200 https://en.wikipedia.org/wiki/The_Bridge_on_the_River_Kwai>\n",
      "{'box_office': 30600000.0,\n",
      " 'countries': ['United Kingdom', 'United States'],\n",
      " 'directors': ['David Lean'],\n",
      " 'image_urls': ['https://upload.wikimedia.org/wikipedia/commons/thumb/d/d9/The_Bridge_on_the_River_Kwai_%281958_US_poster_-_Style_A%29.jpg/220px-The_Bridge_on_the_River_Kwai_%281958_US_poster_-_Style_A%29.jpg'],\n",
      " 'images': [],\n",
      " 'title': 'The Bridge on the River Kwai',\n",
      " 'year': 1957}\n",
      "2025-03-02 22:37:43 [scrapy.core.scraper] DEBUG: Scraped from <200 https://en.wikipedia.org/wiki/The_Ten_Commandments_(1956_film)>\n",
      "{'box_office': 122700000.0,\n",
      " 'countries': ['United States'],\n",
      " 'directors': ['Cecil B. DeMille'],\n",
      " 'image_urls': ['https://upload.wikimedia.org/wikipedia/commons/thumb/d/df/The_Ten_Commandments_%281956_film_poster%29.jpg/220px-The_Ten_Commandments_%281956_film_poster%29.jpg'],\n",
      " 'images': [],\n",
      " 'title': 'The Ten Commandments',\n",
      " 'year': 1956}\n",
      "2025-03-02 22:37:43 [scrapy.core.scraper] DEBUG: Scraped from <200 https://en.wikipedia.org/wiki/Ben-Hur_(1959_film)>\n",
      "{'box_office': 146900000.0,\n",
      " 'countries': ['United States'],\n",
      " 'directors': ['William Wyler'],\n",
      " 'image_urls': ['https://upload.wikimedia.org/wikipedia/commons/thumb/7/74/Ben_hur_1959_poster.jpg/220px-Ben_hur_1959_poster.jpg'],\n",
      " 'images': [],\n",
      " 'title': 'Ben-Hur',\n",
      " 'year': 1959}\n",
      "2025-03-02 22:37:43 [scrapy.core.scraper] DEBUG: Scraped from <200 https://en.wikipedia.org/wiki/This_Is_Cinerama>\n",
      "{'box_office': 41600000.0,\n",
      " 'countries': ['United States'],\n",
      " 'directors': ['Mike Todd', 'Michael Todd, Jr.'],\n",
      " 'image_urls': ['https://upload.wikimedia.org/wikipedia/en/thumb/a/ae/This_Is_Cinerama_FilmPoster.jpeg/220px-This_Is_Cinerama_FilmPoster.jpeg'],\n",
      " 'images': [],\n",
      " 'title': 'This Is Cinerama',\n",
      " 'year': 1952}\n",
      "2025-03-02 22:37:43 [scrapy.core.scraper] DEBUG: Scraped from <200 https://en.wikipedia.org/wiki/Quo_Vadis_(1951_film)>\n",
      "{'box_office': 21000000.0,\n",
      " 'countries': ['United States'],\n",
      " 'directors': ['Mervyn LeRoy'],\n",
      " 'image_urls': ['https://upload.wikimedia.org/wikipedia/commons/thumb/a/ad/Poster_-_Quo_Vadis_%281951%29_01.jpg/220px-Poster_-_Quo_Vadis_%281951%29_01.jpg'],\n",
      " 'images': [],\n",
      " 'title': 'Quo Vadis',\n",
      " 'year': 1951}\n",
      "2025-03-02 22:37:43 [scrapy.pipelines.media] ERROR: [Failure instance: Traceback: <class 'scrapy.pipelines.files.FileException'>: \n",
      "/Library/Frameworks/Python.framework/Versions/3.13/lib/python3.13/site-packages/twisted/internet/defer.py:1088:_runCallbacks\n",
      "/Library/Frameworks/Python.framework/Versions/3.13/lib/python3.13/site-packages/scrapy/pipelines/files.py:627:media_failed\n",
      "]\n",
      "NoneType: None\n",
      "2025-03-02 22:37:43 [urllib3.connectionpool] DEBUG: Starting new HTTPS connection (1): upload.wikimedia.org:443\n"
     ]
    },
    {
     "name": "stdout",
     "output_type": "stream",
     "text": [
      "saved in images/Quo_Vadis/Quo_Vadis.jpg\n",
      "erroe: \n"
     ]
    },
    {
     "name": "stderr",
     "output_type": "stream",
     "text": [
      "2025-03-02 22:37:44 [urllib3.connectionpool] DEBUG: https://upload.wikimedia.org:443 \"GET /wikipedia/commons/thumb/7/7f/Cecil_B._DeMille%27s_Greatest_%21_The_Greatest_Show_on_Earth%2C_1952.jpg/220px-Cecil_B._DeMille%27s_Greatest_%21_The_Greatest_Show_on_Earth%2C_1952.jpg HTTP/1.1\" 200 33840\n",
      "2025-03-02 22:37:44 [scrapy.pipelines.media] ERROR: [Failure instance: Traceback: <class 'scrapy.pipelines.files.FileException'>: \n",
      "/Library/Frameworks/Python.framework/Versions/3.13/lib/python3.13/site-packages/twisted/internet/defer.py:1088:_runCallbacks\n",
      "/Library/Frameworks/Python.framework/Versions/3.13/lib/python3.13/site-packages/scrapy/pipelines/files.py:627:media_failed\n",
      "]\n",
      "NoneType: None\n",
      "2025-03-02 22:37:44 [urllib3.connectionpool] DEBUG: Starting new HTTPS connection (1): upload.wikimedia.org:443\n"
     ]
    },
    {
     "name": "stdout",
     "output_type": "stream",
     "text": [
      "saved in images/The_Greatest_Show_on_Earth/The_Greatest_Show_on_Earth.jpg\n",
      "erroe: \n"
     ]
    },
    {
     "name": "stderr",
     "output_type": "stream",
     "text": [
      "2025-03-02 22:37:44 [urllib3.connectionpool] DEBUG: https://upload.wikimedia.org:443 \"GET /wikipedia/en/thumb/d/d3/The_Robe_%281953_movie_poster%29.jpg/220px-The_Robe_%281953_movie_poster%29.jpg HTTP/1.1\" 403 2184\n",
      "2025-03-02 22:37:44 [scrapy.pipelines.media] ERROR: [Failure instance: Traceback: <class 'scrapy.pipelines.files.FileException'>: \n",
      "/Library/Frameworks/Python.framework/Versions/3.13/lib/python3.13/site-packages/twisted/internet/defer.py:1088:_runCallbacks\n",
      "/Library/Frameworks/Python.framework/Versions/3.13/lib/python3.13/site-packages/scrapy/pipelines/files.py:627:media_failed\n",
      "]\n",
      "NoneType: None\n",
      "2025-03-02 22:37:44 [urllib3.connectionpool] DEBUG: Starting new HTTPS connection (1): upload.wikimedia.org:443\n"
     ]
    },
    {
     "name": "stdout",
     "output_type": "stream",
     "text": [
      "error: 403\n"
     ]
    },
    {
     "name": "stderr",
     "output_type": "stream",
     "text": [
      "2025-03-02 22:37:44 [urllib3.connectionpool] DEBUG: https://upload.wikimedia.org:443 \"GET /wikipedia/en/thumb/6/67/White_Christmas_film.jpg/220px-White_Christmas_film.jpg HTTP/1.1\" 200 35547\n",
      "2025-03-02 22:37:44 [scrapy.pipelines.media] ERROR: [Failure instance: Traceback: <class 'scrapy.pipelines.files.FileException'>: \n",
      "/Library/Frameworks/Python.framework/Versions/3.13/lib/python3.13/site-packages/twisted/internet/defer.py:1088:_runCallbacks\n",
      "/Library/Frameworks/Python.framework/Versions/3.13/lib/python3.13/site-packages/scrapy/pipelines/files.py:627:media_failed\n",
      "]\n",
      "NoneType: None\n",
      "2025-03-02 22:37:44 [urllib3.connectionpool] DEBUG: Starting new HTTPS connection (1): upload.wikimedia.org:443\n"
     ]
    },
    {
     "name": "stdout",
     "output_type": "stream",
     "text": [
      "saved in images/White_Christmas/White_Christmas.jpg\n",
      "erroe: \n"
     ]
    },
    {
     "name": "stderr",
     "output_type": "stream",
     "text": [
      "2025-03-02 22:37:45 [urllib3.connectionpool] DEBUG: https://upload.wikimedia.org:443 \"GET /wikipedia/commons/thumb/3/38/Rear_Window_film_poster.jpg/220px-Rear_Window_film_poster.jpg HTTP/1.1\" 200 37328\n",
      "2025-03-02 22:37:45 [scrapy.pipelines.media] ERROR: [Failure instance: Traceback: <class 'scrapy.pipelines.files.FileException'>: \n",
      "/Library/Frameworks/Python.framework/Versions/3.13/lib/python3.13/site-packages/twisted/internet/defer.py:1088:_runCallbacks\n",
      "/Library/Frameworks/Python.framework/Versions/3.13/lib/python3.13/site-packages/scrapy/pipelines/files.py:627:media_failed\n",
      "]\n",
      "NoneType: None\n",
      "2025-03-02 22:37:45 [scrapy.pipelines.media] ERROR: [Failure instance: Traceback: <class 'scrapy.pipelines.files.FileException'>: \n",
      "/Library/Frameworks/Python.framework/Versions/3.13/lib/python3.13/site-packages/twisted/internet/defer.py:1088:_runCallbacks\n",
      "/Library/Frameworks/Python.framework/Versions/3.13/lib/python3.13/site-packages/scrapy/pipelines/files.py:627:media_failed\n",
      "]\n",
      "NoneType: None\n",
      "2025-03-02 22:37:45 [urllib3.connectionpool] DEBUG: Starting new HTTPS connection (1): upload.wikimedia.org:443\n"
     ]
    },
    {
     "name": "stdout",
     "output_type": "stream",
     "text": [
      "saved in images/Rear_Window_(1954_film)/Rear_Window_(1954_film).jpg\n",
      "erroe: \n"
     ]
    },
    {
     "name": "stderr",
     "output_type": "stream",
     "text": [
      "2025-03-02 22:37:45 [urllib3.connectionpool] DEBUG: https://upload.wikimedia.org:443 \"GET /wikipedia/en/thumb/9/92/Kingsolomonsmines1950.jpg/220px-Kingsolomonsmines1950.jpg HTTP/1.1\" 200 28393\n",
      "2025-03-02 22:37:45 [scrapy.core.engine] DEBUG: Crawled (200) <GET https://en.wikipedia.org/wiki/The_Bells_of_St._Mary%27s> (referer: https://en.wikipedia.org/wiki/List_of_highest-grossing_films)\n",
      "2025-03-02 22:37:45 [scrapy.core.engine] DEBUG: Crawled (200) <GET https://en.wikipedia.org/wiki/Mom_and_Dad_(1945_film)> (referer: https://en.wikipedia.org/wiki/List_of_highest-grossing_films)\n",
      "2025-03-02 22:37:45 [scrapy.core.engine] DEBUG: Crawled (200) <GET https://en.wikipedia.org/wiki/Going_My_Way> (referer: https://en.wikipedia.org/wiki/List_of_highest-grossing_films)\n",
      "2025-03-02 22:37:45 [scrapy.core.engine] DEBUG: Crawled (200) <GET https://en.wikipedia.org/wiki/The_Best_Years_of_Our_Lives> (referer: https://en.wikipedia.org/wiki/List_of_highest-grossing_films)\n",
      "2025-03-02 22:37:45 [scrapy.core.engine] DEBUG: Crawled (200) <GET https://en.wikipedia.org/wiki/This_Is_the_Army> (referer: https://en.wikipedia.org/wiki/List_of_highest-grossing_films)\n",
      "2025-03-02 22:37:45 [scrapy.core.engine] DEBUG: Crawled (200) <GET https://en.wikipedia.org/wiki/For_Whom_the_Bell_Tolls_(film)> (referer: https://en.wikipedia.org/wiki/List_of_highest-grossing_films)\n",
      "2025-03-02 22:37:45 [scrapy.core.engine] DEBUG: Crawled (200) <GET https://en.wikipedia.org/wiki/Mrs._Miniver> (referer: https://en.wikipedia.org/wiki/List_of_highest-grossing_films)\n",
      "2025-03-02 22:37:45 [scrapy.core.scraper] DEBUG: Scraped from <200 https://en.wikipedia.org/wiki/The_Greatest_Show_on_Earth_(film)>\n",
      "{'box_office': 36000000.0,\n",
      " 'countries': ['United States'],\n",
      " 'directors': ['Cecil B. DeMille'],\n",
      " 'image_urls': ['https://upload.wikimedia.org/wikipedia/commons/thumb/7/7f/Cecil_B._DeMille%27s_Greatest_%21_The_Greatest_Show_on_Earth%2C_1952.jpg/220px-Cecil_B._DeMille%27s_Greatest_%21_The_Greatest_Show_on_Earth%2C_1952.jpg'],\n",
      " 'images': [],\n",
      " 'title': 'The Greatest Show on Earth',\n",
      " 'year': 1952}\n",
      "2025-03-02 22:37:45 [scrapy.core.scraper] DEBUG: Scraped from <200 https://en.wikipedia.org/wiki/The_Robe_(film)>\n",
      "{'box_office': 36000000.0,\n",
      " 'countries': ['United States'],\n",
      " 'directors': ['Henry Koster'],\n",
      " 'image_urls': ['https://upload.wikimedia.org/wikipedia/en/thumb/d/d3/The_Robe_%281953_movie_poster%29.jpg/220px-The_Robe_%281953_movie_poster%29.jpg'],\n",
      " 'images': [],\n",
      " 'title': 'The Robe',\n",
      " 'year': 1953}\n",
      "2025-03-02 22:37:45 [scrapy.core.scraper] DEBUG: Scraped from <200 https://en.wikipedia.org/wiki/White_Christmas_(film)>\n",
      "{'box_office': 30000000.0,\n",
      " 'countries': ['United States'],\n",
      " 'directors': ['Michael Curtiz'],\n",
      " 'image_urls': ['https://upload.wikimedia.org/wikipedia/en/thumb/6/67/White_Christmas_film.jpg/220px-White_Christmas_film.jpg'],\n",
      " 'images': [],\n",
      " 'title': 'White Christmas',\n",
      " 'year': 1954}\n",
      "2025-03-02 22:37:45 [scrapy.core.scraper] DEBUG: Scraped from <200 https://en.wikipedia.org/wiki/Rear_Window>\n",
      "{'box_office': 37900000.0,\n",
      " 'countries': ['United States'],\n",
      " 'directors': ['Alfred Hitchcock'],\n",
      " 'image_urls': ['https://upload.wikimedia.org/wikipedia/commons/thumb/3/38/Rear_Window_film_poster.jpg/220px-Rear_Window_film_poster.jpg'],\n",
      " 'images': [],\n",
      " 'title': 'Rear Window (1954 film)',\n",
      " 'year': 1954}\n",
      "2025-03-02 22:37:45 [urllib3.connectionpool] DEBUG: Starting new HTTPS connection (1): upload.wikimedia.org:443\n"
     ]
    },
    {
     "name": "stdout",
     "output_type": "stream",
     "text": [
      "saved in images/King_Solomon's_Mines/King_Solomon's_Mines.jpg\n",
      "erroe: \n"
     ]
    },
    {
     "name": "stderr",
     "output_type": "stream",
     "text": [
      "2025-03-02 22:37:46 [urllib3.connectionpool] DEBUG: https://upload.wikimedia.org:443 \"GET /wikipedia/en/thumb/4/46/PeterpanRKO.jpg/220px-PeterpanRKO.jpg HTTP/1.1\" 200 31388\n",
      "2025-03-02 22:37:46 [scrapy.core.scraper] DEBUG: Scraped from <200 https://en.wikipedia.org/wiki/Peter_Pan_(1953_film)>\n",
      "{'box_office': 87400000.0,\n",
      " 'countries': ['United States'],\n",
      " 'directors': ['Hamilton Luske', 'Clyde Geronimi', 'Wilfred Jackson'],\n",
      " 'image_urls': ['https://upload.wikimedia.org/wikipedia/en/thumb/4/46/PeterpanRKO.jpg/220px-PeterpanRKO.jpg'],\n",
      " 'images': [],\n",
      " 'title': 'Peter Pan',\n",
      " 'year': 1953}\n",
      "2025-03-02 22:37:46 [scrapy.core.scraper] DEBUG: Scraped from <200 https://en.wikipedia.org/wiki/King_Solomon%27s_Mines_(1950_film)>\n",
      "{'box_office': 15100000.0,\n",
      " 'countries': ['United States'],\n",
      " 'directors': ['Compton Bennett', 'Andrew Marton'],\n",
      " 'image_urls': ['https://upload.wikimedia.org/wikipedia/en/thumb/9/92/Kingsolomonsmines1950.jpg/220px-Kingsolomonsmines1950.jpg'],\n",
      " 'images': [],\n",
      " 'title': \"King Solomon's Mines\",\n",
      " 'year': 1950}\n",
      "2025-03-02 22:37:46 [scrapy.pipelines.media] ERROR: [Failure instance: Traceback: <class 'scrapy.pipelines.files.FileException'>: \n",
      "/Library/Frameworks/Python.framework/Versions/3.13/lib/python3.13/site-packages/twisted/internet/defer.py:1088:_runCallbacks\n",
      "/Library/Frameworks/Python.framework/Versions/3.13/lib/python3.13/site-packages/scrapy/pipelines/files.py:627:media_failed\n",
      "]\n",
      "NoneType: None\n",
      "2025-03-02 22:37:46 [urllib3.connectionpool] DEBUG: Starting new HTTPS connection (1): upload.wikimedia.org:443\n"
     ]
    },
    {
     "name": "stdout",
     "output_type": "stream",
     "text": [
      "saved in images/Peter_Pan/Peter_Pan.jpg\n",
      "erroe: \n"
     ]
    },
    {
     "name": "stderr",
     "output_type": "stream",
     "text": [
      "2025-03-02 22:37:46 [urllib3.connectionpool] DEBUG: https://upload.wikimedia.org:443 \"GET /wikipedia/commons/thumb/d/df/Samson_and_Delilah_1949_poster.jpg/220px-Samson_and_Delilah_1949_poster.jpg HTTP/1.1\" 200 36522\n",
      "2025-03-02 22:37:46 [scrapy.pipelines.media] ERROR: [Failure instance: Traceback: <class 'scrapy.pipelines.files.FileException'>: \n",
      "/Library/Frameworks/Python.framework/Versions/3.13/lib/python3.13/site-packages/twisted/internet/defer.py:1088:_runCallbacks\n",
      "/Library/Frameworks/Python.framework/Versions/3.13/lib/python3.13/site-packages/scrapy/pipelines/files.py:627:media_failed\n",
      "]\n",
      "NoneType: None\n",
      "2025-03-02 22:37:46 [urllib3.connectionpool] DEBUG: Starting new HTTPS connection (1): upload.wikimedia.org:443\n"
     ]
    },
    {
     "name": "stdout",
     "output_type": "stream",
     "text": [
      "saved in images/Samson_and_Delilah/Samson_and_Delilah.jpg\n",
      "erroe: \n"
     ]
    },
    {
     "name": "stderr",
     "output_type": "stream",
     "text": [
      "2025-03-02 22:37:46 [urllib3.connectionpool] DEBUG: https://upload.wikimedia.org:443 \"GET /wikipedia/en/thumb/2/2a/Snakepit1948_62862n.jpg/220px-Snakepit1948_62862n.jpg HTTP/1.1\" 403 2184\n",
      "2025-03-02 22:37:46 [scrapy.pipelines.media] ERROR: [Failure instance: Traceback: <class 'scrapy.pipelines.files.FileException'>: \n",
      "/Library/Frameworks/Python.framework/Versions/3.13/lib/python3.13/site-packages/twisted/internet/defer.py:1088:_runCallbacks\n",
      "/Library/Frameworks/Python.framework/Versions/3.13/lib/python3.13/site-packages/scrapy/pipelines/files.py:627:media_failed\n",
      "]\n",
      "NoneType: None\n",
      "2025-03-02 22:37:46 [urllib3.connectionpool] DEBUG: Starting new HTTPS connection (1): upload.wikimedia.org:443\n"
     ]
    },
    {
     "name": "stdout",
     "output_type": "stream",
     "text": [
      "error: 403\n"
     ]
    },
    {
     "name": "stderr",
     "output_type": "stream",
     "text": [
      "2025-03-02 22:37:47 [urllib3.connectionpool] DEBUG: https://upload.wikimedia.org:443 \"GET /wikipedia/commons/thumb/c/ca/Easter_Parade.jpg/220px-Easter_Parade.jpg HTTP/1.1\" 200 30659\n",
      "2025-03-02 22:37:47 [scrapy.pipelines.media] ERROR: [Failure instance: Traceback: <class 'scrapy.pipelines.files.FileException'>: \n",
      "/Library/Frameworks/Python.framework/Versions/3.13/lib/python3.13/site-packages/twisted/internet/defer.py:1088:_runCallbacks\n",
      "/Library/Frameworks/Python.framework/Versions/3.13/lib/python3.13/site-packages/scrapy/pipelines/files.py:627:media_failed\n",
      "]\n",
      "NoneType: None\n",
      "2025-03-02 22:37:47 [urllib3.connectionpool] DEBUG: Starting new HTTPS connection (1): upload.wikimedia.org:443\n"
     ]
    },
    {
     "name": "stdout",
     "output_type": "stream",
     "text": [
      "saved in images/Easter_Parade/Easter_Parade.jpg\n",
      "erroe: \n"
     ]
    },
    {
     "name": "stderr",
     "output_type": "stream",
     "text": [
      "2025-03-02 22:37:47 [urllib3.connectionpool] DEBUG: https://upload.wikimedia.org:443 \"GET /wikipedia/en/thumb/b/b4/The_Red_Shoes_%281948_movie_poster%29.jpg/220px-The_Red_Shoes_%281948_movie_poster%29.jpg HTTP/1.1\" 200 32360\n",
      "2025-03-02 22:37:47 [scrapy.pipelines.media] ERROR: [Failure instance: Traceback: <class 'scrapy.pipelines.files.FileException'>: \n",
      "/Library/Frameworks/Python.framework/Versions/3.13/lib/python3.13/site-packages/twisted/internet/defer.py:1088:_runCallbacks\n",
      "/Library/Frameworks/Python.framework/Versions/3.13/lib/python3.13/site-packages/scrapy/pipelines/files.py:627:media_failed\n",
      "]\n",
      "NoneType: None\n",
      "2025-03-02 22:37:47 [urllib3.connectionpool] DEBUG: Starting new HTTPS connection (1): upload.wikimedia.org:443\n"
     ]
    },
    {
     "name": "stdout",
     "output_type": "stream",
     "text": [
      "saved in images/The_Red_Shoes/The_Red_Shoes.jpg\n",
      "erroe: \n"
     ]
    },
    {
     "name": "stderr",
     "output_type": "stream",
     "text": [
      "2025-03-02 22:37:47 [urllib3.connectionpool] DEBUG: https://upload.wikimedia.org:443 \"GET /wikipedia/commons/thumb/a/a8/Duel_in_the_Sun_one-sheet_%281946%29.jpg/220px-Duel_in_the_Sun_one-sheet_%281946%29.jpg HTTP/1.1\" 403 2184\n",
      "2025-03-02 22:37:47 [scrapy.pipelines.media] ERROR: [Failure instance: Traceback: <class 'scrapy.pipelines.files.FileException'>: \n",
      "/Library/Frameworks/Python.framework/Versions/3.13/lib/python3.13/site-packages/twisted/internet/defer.py:1088:_runCallbacks\n",
      "/Library/Frameworks/Python.framework/Versions/3.13/lib/python3.13/site-packages/scrapy/pipelines/files.py:627:media_failed\n",
      "]\n",
      "NoneType: None\n",
      "2025-03-02 22:37:47 [urllib3.connectionpool] DEBUG: Starting new HTTPS connection (1): upload.wikimedia.org:443\n"
     ]
    },
    {
     "name": "stdout",
     "output_type": "stream",
     "text": [
      "error: 403\n"
     ]
    },
    {
     "name": "stderr",
     "output_type": "stream",
     "text": [
      "2025-03-02 22:37:48 [urllib3.connectionpool] DEBUG: https://upload.wikimedia.org:443 \"GET /wikipedia/en/thumb/9/9f/Unconqueredposter.jpg/220px-Unconqueredposter.jpg HTTP/1.1\" 403 2184\n",
      "2025-03-02 22:37:48 [scrapy.pipelines.media] ERROR: [Failure instance: Traceback: <class 'scrapy.pipelines.files.FileException'>: \n",
      "/Library/Frameworks/Python.framework/Versions/3.13/lib/python3.13/site-packages/twisted/internet/defer.py:1088:_runCallbacks\n",
      "/Library/Frameworks/Python.framework/Versions/3.13/lib/python3.13/site-packages/scrapy/pipelines/files.py:627:media_failed\n",
      "]\n",
      "NoneType: None\n",
      "2025-03-02 22:37:48 [urllib3.connectionpool] DEBUG: Starting new HTTPS connection (1): upload.wikimedia.org:443\n"
     ]
    },
    {
     "name": "stdout",
     "output_type": "stream",
     "text": [
      "error: 403\n"
     ]
    },
    {
     "name": "stderr",
     "output_type": "stream",
     "text": [
      "2025-03-02 22:37:48 [urllib3.connectionpool] DEBUG: https://upload.wikimedia.org:443 \"GET /wikipedia/en/thumb/a/aa/Foreveramberposter.jpg/220px-Foreveramberposter.jpg HTTP/1.1\" 403 2184\n",
      "2025-03-02 22:37:48 [scrapy.core.engine] DEBUG: Crawled (200) <GET https://en.wikipedia.org/wiki/Song_of_the_South> (referer: https://en.wikipedia.org/wiki/List_of_highest-grossing_films)\n",
      "2025-03-02 22:37:48 [scrapy.core.scraper] DEBUG: Scraped from <200 https://en.wikipedia.org/wiki/Samson_and_Delilah_(1949_film)>\n",
      "{'box_office': 25600000.0,\n",
      " 'countries': ['United States'],\n",
      " 'directors': ['Cecil B. DeMille'],\n",
      " 'image_urls': ['https://upload.wikimedia.org/wikipedia/commons/thumb/d/df/Samson_and_Delilah_1949_poster.jpg/220px-Samson_and_Delilah_1949_poster.jpg'],\n",
      " 'images': [],\n",
      " 'title': 'Samson and Delilah',\n",
      " 'year': 1949}\n",
      "2025-03-02 22:37:48 [scrapy.core.scraper] DEBUG: Scraped from <200 https://en.wikipedia.org/wiki/The_Snake_Pit>\n",
      "{'box_office': 10000000.0,\n",
      " 'countries': ['United States'],\n",
      " 'directors': ['Anatole Litvak'],\n",
      " 'image_urls': ['https://upload.wikimedia.org/wikipedia/en/thumb/2/2a/Snakepit1948_62862n.jpg/220px-Snakepit1948_62862n.jpg'],\n",
      " 'images': [],\n",
      " 'title': 'The Snake Pit',\n",
      " 'year': 1948}\n",
      "2025-03-02 22:37:48 [scrapy.core.scraper] DEBUG: Scraped from <200 https://en.wikipedia.org/wiki/Easter_Parade_(film)>\n",
      "{'box_office': 6800000.0,\n",
      " 'countries': ['United States'],\n",
      " 'directors': ['Charles Walters'],\n",
      " 'image_urls': ['https://upload.wikimedia.org/wikipedia/commons/thumb/c/ca/Easter_Parade.jpg/220px-Easter_Parade.jpg'],\n",
      " 'images': [],\n",
      " 'title': 'Easter Parade',\n",
      " 'year': 1948}\n",
      "2025-03-02 22:37:48 [scrapy.core.scraper] DEBUG: Scraped from <200 https://en.wikipedia.org/wiki/The_Red_Shoes_(1948_film)>\n",
      "{'box_office': 5000000.0,\n",
      " 'countries': ['United Kingdom'],\n",
      " 'directors': ['Michael Powell', 'Emeric Pressburger'],\n",
      " 'image_urls': ['https://upload.wikimedia.org/wikipedia/en/thumb/b/b4/The_Red_Shoes_%281948_movie_poster%29.jpg/220px-The_Red_Shoes_%281948_movie_poster%29.jpg'],\n",
      " 'images': [],\n",
      " 'title': 'The Red Shoes',\n",
      " 'year': 1948}\n",
      "2025-03-02 22:37:48 [scrapy.core.scraper] DEBUG: Scraped from <200 https://en.wikipedia.org/wiki/Duel_in_the_Sun_(film)>\n",
      "{'box_office': 20400000.0,\n",
      " 'countries': ['United States'],\n",
      " 'directors': ['King Vidor'],\n",
      " 'image_urls': ['https://upload.wikimedia.org/wikipedia/commons/thumb/a/a8/Duel_in_the_Sun_one-sheet_%281946%29.jpg/220px-Duel_in_the_Sun_one-sheet_%281946%29.jpg'],\n",
      " 'images': [],\n",
      " 'title': 'Duel in the Sun',\n",
      " 'year': 1946}\n",
      "2025-03-02 22:37:48 [scrapy.core.scraper] DEBUG: Scraped from <200 https://en.wikipedia.org/wiki/Unconquered_(1947_film)>\n",
      "{'box_office': 6665592.0,\n",
      " 'countries': ['United States'],\n",
      " 'directors': ['Cecil B. DeMille'],\n",
      " 'image_urls': ['https://upload.wikimedia.org/wikipedia/en/thumb/9/9f/Unconqueredposter.jpg/220px-Unconqueredposter.jpg'],\n",
      " 'images': [],\n",
      " 'title': 'Unconquered',\n",
      " 'year': 1947}\n",
      "2025-03-02 22:37:48 [scrapy.core.scraper] DEBUG: Scraped from <200 https://en.wikipedia.org/wiki/Forever_Amber_(film)>\n",
      "{'box_office': 5000000.0,\n",
      " 'countries': ['United States'],\n",
      " 'directors': ['Otto Preminger'],\n",
      " 'image_urls': ['https://upload.wikimedia.org/wikipedia/en/thumb/a/aa/Foreveramberposter.jpg/220px-Foreveramberposter.jpg'],\n",
      " 'images': [],\n",
      " 'title': 'Forever Amber',\n",
      " 'year': 1947}\n",
      "2025-03-02 22:37:48 [scrapy.pipelines.media] ERROR: [Failure instance: Traceback: <class 'scrapy.pipelines.files.FileException'>: \n",
      "/Library/Frameworks/Python.framework/Versions/3.13/lib/python3.13/site-packages/twisted/internet/defer.py:1088:_runCallbacks\n",
      "/Library/Frameworks/Python.framework/Versions/3.13/lib/python3.13/site-packages/scrapy/pipelines/files.py:627:media_failed\n",
      "]\n",
      "NoneType: None\n",
      "2025-03-02 22:37:48 [urllib3.connectionpool] DEBUG: Starting new HTTPS connection (1): upload.wikimedia.org:443\n"
     ]
    },
    {
     "name": "stdout",
     "output_type": "stream",
     "text": [
      "error: 403\n"
     ]
    },
    {
     "name": "stderr",
     "output_type": "stream",
     "text": [
      "2025-03-02 22:37:48 [urllib3.connectionpool] DEBUG: https://upload.wikimedia.org:443 \"GET /wikipedia/commons/thumb/1/1d/1950_is_the_Cinderella_year.jpg/220px-1950_is_the_Cinderella_year.jpg HTTP/1.1\" 403 2184\n",
      "2025-03-02 22:37:48 [scrapy.pipelines.media] ERROR: [Failure instance: Traceback: <class 'scrapy.pipelines.files.FileException'>: \n",
      "/Library/Frameworks/Python.framework/Versions/3.13/lib/python3.13/site-packages/twisted/internet/defer.py:1088:_runCallbacks\n",
      "/Library/Frameworks/Python.framework/Versions/3.13/lib/python3.13/site-packages/scrapy/pipelines/files.py:627:media_failed\n",
      "]\n",
      "NoneType: None\n",
      "2025-03-02 22:37:48 [urllib3.connectionpool] DEBUG: Starting new HTTPS connection (1): upload.wikimedia.org:443\n"
     ]
    },
    {
     "name": "stdout",
     "output_type": "stream",
     "text": [
      "error: 403\n"
     ]
    },
    {
     "name": "stderr",
     "output_type": "stream",
     "text": [
      "2025-03-02 22:37:49 [urllib3.connectionpool] DEBUG: https://upload.wikimedia.org:443 \"GET /wikipedia/en/thumb/6/66/Bells_st_marys.jpg/220px-Bells_st_marys.jpg HTTP/1.1\" 403 2184\n",
      "2025-03-02 22:37:49 [scrapy.pipelines.media] ERROR: [Failure instance: Traceback: <class 'scrapy.pipelines.files.FileException'>: \n",
      "/Library/Frameworks/Python.framework/Versions/3.13/lib/python3.13/site-packages/twisted/internet/defer.py:1088:_runCallbacks\n",
      "/Library/Frameworks/Python.framework/Versions/3.13/lib/python3.13/site-packages/scrapy/pipelines/files.py:627:media_failed\n",
      "]\n",
      "NoneType: None\n",
      "2025-03-02 22:37:49 [urllib3.connectionpool] DEBUG: Starting new HTTPS connection (1): upload.wikimedia.org:443\n"
     ]
    },
    {
     "name": "stdout",
     "output_type": "stream",
     "text": [
      "error: 403\n"
     ]
    },
    {
     "name": "stderr",
     "output_type": "stream",
     "text": [
      "2025-03-02 22:37:49 [urllib3.connectionpool] DEBUG: https://upload.wikimedia.org:443 \"GET /wikipedia/commons/thumb/5/5e/Mom_and_Dad_%281947_roadshow_poster%29.jpg/220px-Mom_and_Dad_%281947_roadshow_poster%29.jpg HTTP/1.1\" 403 2184\n",
      "2025-03-02 22:37:49 [scrapy.pipelines.media] ERROR: [Failure instance: Traceback: <class 'scrapy.pipelines.files.FileException'>: \n",
      "/Library/Frameworks/Python.framework/Versions/3.13/lib/python3.13/site-packages/twisted/internet/defer.py:1088:_runCallbacks\n",
      "/Library/Frameworks/Python.framework/Versions/3.13/lib/python3.13/site-packages/scrapy/pipelines/files.py:627:media_failed\n",
      "]\n",
      "NoneType: None\n",
      "2025-03-02 22:37:49 [scrapy.pipelines.media] ERROR: [Failure instance: Traceback: <class 'scrapy.pipelines.files.FileException'>: \n",
      "/Library/Frameworks/Python.framework/Versions/3.13/lib/python3.13/site-packages/twisted/internet/defer.py:1088:_runCallbacks\n",
      "/Library/Frameworks/Python.framework/Versions/3.13/lib/python3.13/site-packages/scrapy/pipelines/files.py:627:media_failed\n",
      "]\n",
      "NoneType: None\n",
      "2025-03-02 22:37:49 [urllib3.connectionpool] DEBUG: Starting new HTTPS connection (1): upload.wikimedia.org:443\n"
     ]
    },
    {
     "name": "stdout",
     "output_type": "stream",
     "text": [
      "error: 403\n"
     ]
    },
    {
     "name": "stderr",
     "output_type": "stream",
     "text": [
      "2025-03-02 22:37:49 [urllib3.connectionpool] DEBUG: https://upload.wikimedia.org:443 \"GET /wikipedia/commons/thumb/7/7d/The_Best_Years_of_Our_Lives_%281946_poster%29.jpg/220px-The_Best_Years_of_Our_Lives_%281946_poster%29.jpg HTTP/1.1\" 200 35967\n",
      "2025-03-02 22:37:49 [scrapy.pipelines.media] ERROR: [Failure instance: Traceback: <class 'scrapy.pipelines.files.FileException'>: \n",
      "/Library/Frameworks/Python.framework/Versions/3.13/lib/python3.13/site-packages/twisted/internet/defer.py:1088:_runCallbacks\n",
      "/Library/Frameworks/Python.framework/Versions/3.13/lib/python3.13/site-packages/scrapy/pipelines/files.py:627:media_failed\n",
      "]\n",
      "NoneType: None\n",
      "2025-03-02 22:37:49 [urllib3.connectionpool] DEBUG: Starting new HTTPS connection (1): upload.wikimedia.org:443\n"
     ]
    },
    {
     "name": "stdout",
     "output_type": "stream",
     "text": [
      "saved in images/The_Best_Years_of_Our_Lives/The_Best_Years_of_Our_Lives.jpg\n",
      "erroe: \n"
     ]
    },
    {
     "name": "stderr",
     "output_type": "stream",
     "text": [
      "2025-03-02 22:37:50 [urllib3.connectionpool] DEBUG: https://upload.wikimedia.org:443 \"GET /wikipedia/en/thumb/3/3d/Titapos.jpg/220px-Titapos.jpg HTTP/1.1\" 403 2184\n",
      "2025-03-02 22:37:50 [scrapy.pipelines.media] ERROR: [Failure instance: Traceback: <class 'scrapy.pipelines.files.FileException'>: \n",
      "/Library/Frameworks/Python.framework/Versions/3.13/lib/python3.13/site-packages/twisted/internet/defer.py:1088:_runCallbacks\n",
      "/Library/Frameworks/Python.framework/Versions/3.13/lib/python3.13/site-packages/scrapy/pipelines/files.py:627:media_failed\n",
      "]\n",
      "NoneType: None\n",
      "2025-03-02 22:37:50 [scrapy.pipelines.media] ERROR: [Failure instance: Traceback: <class 'scrapy.pipelines.files.FileException'>: \n",
      "/Library/Frameworks/Python.framework/Versions/3.13/lib/python3.13/site-packages/twisted/internet/defer.py:1088:_runCallbacks\n",
      "/Library/Frameworks/Python.framework/Versions/3.13/lib/python3.13/site-packages/scrapy/pipelines/files.py:627:media_failed\n",
      "]\n",
      "NoneType: None\n",
      "2025-03-02 22:37:50 [urllib3.connectionpool] DEBUG: Starting new HTTPS connection (1): upload.wikimedia.org:443\n"
     ]
    },
    {
     "name": "stdout",
     "output_type": "stream",
     "text": [
      "error: 403\n"
     ]
    },
    {
     "name": "stderr",
     "output_type": "stream",
     "text": [
      "2025-03-02 22:37:50 [urllib3.connectionpool] DEBUG: https://upload.wikimedia.org:443 \"GET /wikipedia/commons/thumb/4/47/Mrs._Miniver_%281942_poster_-_Style_C%29.jpg/220px-Mrs._Miniver_%281942_poster_-_Style_C%29.jpg HTTP/1.1\" 200 38247\n",
      "2025-03-02 22:37:50 [scrapy.core.engine] DEBUG: Crawled (200) <GET https://en.wikipedia.org/wiki/Boom_Town_(film)> (referer: https://en.wikipedia.org/wiki/List_of_highest-grossing_films)\n",
      "2025-03-02 22:37:50 [scrapy.core.engine] DEBUG: Crawled (200) <GET https://en.wikipedia.org/wiki/You_Can%27t_Take_It_with_You_(film)> (referer: https://en.wikipedia.org/wiki/List_of_highest-grossing_films)\n",
      "2025-03-02 22:37:50 [scrapy.core.engine] DEBUG: Crawled (200) <GET https://en.wikipedia.org/wiki/Sergeant_York_(film)> (referer: https://en.wikipedia.org/wiki/List_of_highest-grossing_films)\n",
      "2025-03-02 22:37:50 [scrapy.core.engine] DEBUG: Crawled (200) <GET https://en.wikipedia.org/wiki/San_Francisco_(1936_film)> (referer: https://en.wikipedia.org/wiki/List_of_highest-grossing_films)\n",
      "2025-03-02 22:37:50 [scrapy.core.scraper] DEBUG: Scraped from <200 https://en.wikipedia.org/wiki/Cinderella_(1950_film)>\n",
      "{'box_office': 182000000.0,\n",
      " 'countries': ['United States'],\n",
      " 'directors': ['Wilfred Jackson', 'Hamilton Luske', 'Clyde Geronimi'],\n",
      " 'image_urls': ['https://upload.wikimedia.org/wikipedia/commons/thumb/1/1d/1950_is_the_Cinderella_year.jpg/220px-1950_is_the_Cinderella_year.jpg'],\n",
      " 'images': [],\n",
      " 'title': 'Cinderella',\n",
      " 'year': 1950}\n",
      "2025-03-02 22:37:50 [scrapy.core.scraper] DEBUG: Scraped from <200 https://en.wikipedia.org/wiki/The_Bells_of_St._Mary%27s>\n",
      "{'box_office': 21300000.0,\n",
      " 'countries': ['United States'],\n",
      " 'directors': ['Leo McCarey'],\n",
      " 'image_urls': ['https://upload.wikimedia.org/wikipedia/en/thumb/6/66/Bells_st_marys.jpg/220px-Bells_st_marys.jpg'],\n",
      " 'images': [],\n",
      " 'title': \"The Bells of St. Mary's\",\n",
      " 'year': 1945}\n",
      "2025-03-02 22:37:50 [scrapy.core.scraper] DEBUG: Scraped from <200 https://en.wikipedia.org/wiki/Mom_and_Dad_(1945_film)>\n",
      "{'box_office': 40000000.0,\n",
      " 'countries': ['United States'],\n",
      " 'directors': ['William Beaudine'],\n",
      " 'image_urls': ['https://upload.wikimedia.org/wikipedia/commons/thumb/5/5e/Mom_and_Dad_%281947_roadshow_poster%29.jpg/220px-Mom_and_Dad_%281947_roadshow_poster%29.jpg'],\n",
      " 'images': [],\n",
      " 'title': 'Mom and Dad',\n",
      " 'year': 1945}\n",
      "2025-03-02 22:37:50 [urllib3.connectionpool] DEBUG: Starting new HTTPS connection (1): upload.wikimedia.org:443\n"
     ]
    },
    {
     "name": "stdout",
     "output_type": "stream",
     "text": [
      "saved in images/Mrs._Miniver/Mrs._Miniver.jpg\n",
      "erroe: \n"
     ]
    },
    {
     "name": "stderr",
     "output_type": "stream",
     "text": [
      "2025-03-02 22:37:50 [urllib3.connectionpool] DEBUG: https://upload.wikimedia.org:443 \"GET /wikipedia/commons/thumb/d/df/Going_My_Way_%281944_poster%29.jpg/220px-Going_My_Way_%281944_poster%29.jpg HTTP/1.1\" 403 2184\n",
      "2025-03-02 22:37:50 [scrapy.core.scraper] DEBUG: Scraped from <200 https://en.wikipedia.org/wiki/Going_My_Way>\n",
      "{'box_office': 6500000.0,\n",
      " 'countries': ['United States'],\n",
      " 'directors': ['Leo McCarey'],\n",
      " 'image_urls': ['https://upload.wikimedia.org/wikipedia/commons/thumb/d/df/Going_My_Way_%281944_poster%29.jpg/220px-Going_My_Way_%281944_poster%29.jpg'],\n",
      " 'images': [],\n",
      " 'title': 'Going My Way',\n",
      " 'year': 1944}\n",
      "2025-03-02 22:37:50 [scrapy.core.scraper] DEBUG: Scraped from <200 https://en.wikipedia.org/wiki/The_Best_Years_of_Our_Lives>\n",
      "{'box_office': 23700000.0,\n",
      " 'countries': ['United States'],\n",
      " 'directors': ['William Wyler'],\n",
      " 'image_urls': ['https://upload.wikimedia.org/wikipedia/commons/thumb/7/7d/The_Best_Years_of_Our_Lives_%281946_poster%29.jpg/220px-The_Best_Years_of_Our_Lives_%281946_poster%29.jpg'],\n",
      " 'images': [],\n",
      " 'title': 'The Best Years of Our Lives',\n",
      " 'year': 1946}\n",
      "2025-03-02 22:37:50 [scrapy.core.scraper] DEBUG: Scraped from <200 https://en.wikipedia.org/wiki/This_Is_the_Army>\n",
      "{'box_office': 10445000.0,\n",
      " 'countries': ['United States'],\n",
      " 'directors': ['Michael Curtiz'],\n",
      " 'image_urls': ['https://upload.wikimedia.org/wikipedia/en/thumb/3/3d/Titapos.jpg/220px-Titapos.jpg'],\n",
      " 'images': [],\n",
      " 'title': 'This Is the Army',\n",
      " 'year': 1943}\n",
      "2025-03-02 22:37:50 [urllib3.connectionpool] DEBUG: Starting new HTTPS connection (1): upload.wikimedia.org:443\n"
     ]
    },
    {
     "name": "stdout",
     "output_type": "stream",
     "text": [
      "error: 403\n"
     ]
    },
    {
     "name": "stderr",
     "output_type": "stream",
     "text": [
      "2025-03-02 22:37:51 [urllib3.connectionpool] DEBUG: https://upload.wikimedia.org:443 \"GET /wikipedia/en/thumb/3/33/For_whom_movieposter.jpg/220px-For_whom_movieposter.jpg HTTP/1.1\" 403 2184\n",
      "2025-03-02 22:37:51 [scrapy.core.scraper] DEBUG: Scraped from <200 https://en.wikipedia.org/wiki/For_Whom_the_Bell_Tolls_(film)>\n",
      "{'box_office': 17800000.0,\n",
      " 'countries': ['United States'],\n",
      " 'directors': ['Sam Wood'],\n",
      " 'image_urls': ['https://upload.wikimedia.org/wikipedia/en/thumb/3/33/For_whom_movieposter.jpg/220px-For_whom_movieposter.jpg'],\n",
      " 'images': [],\n",
      " 'title': 'For Whom the Bell Tolls',\n",
      " 'year': 1943}\n",
      "2025-03-02 22:37:51 [scrapy.core.scraper] DEBUG: Scraped from <200 https://en.wikipedia.org/wiki/Mrs._Miniver>\n",
      "{'box_office': 8900000.0,\n",
      " 'countries': ['United States'],\n",
      " 'directors': ['William Wyler'],\n",
      " 'image_urls': ['https://upload.wikimedia.org/wikipedia/commons/thumb/4/47/Mrs._Miniver_%281942_poster_-_Style_C%29.jpg/220px-Mrs._Miniver_%281942_poster_-_Style_C%29.jpg'],\n",
      " 'images': [],\n",
      " 'title': 'Mrs. Miniver',\n",
      " 'year': 1942}\n",
      "2025-03-02 22:37:51 [scrapy.core.engine] DEBUG: Crawled (200) <GET https://en.wikipedia.org/wiki/Bambi> (referer: https://en.wikipedia.org/wiki/List_of_highest-grossing_films)\n",
      "2025-03-02 22:37:51 [scrapy.core.engine] DEBUG: Crawled (200) <GET https://en.wikipedia.org/wiki/Snow_White_and_the_Seven_Dwarfs_(1937_film)> (referer: https://en.wikipedia.org/wiki/List_of_highest-grossing_films)\n",
      "2025-03-02 22:37:51 [scrapy.core.engine] DEBUG: Crawled (200) <GET https://en.wikipedia.org/wiki/Gone_with_the_Wind_(film)> (referer: https://en.wikipedia.org/wiki/List_of_highest-grossing_films)\n",
      "2025-03-02 22:37:51 [scrapy.core.engine] DEBUG: Crawled (200) <GET https://en.wikipedia.org/wiki/Pinocchio_(1940_film)> (referer: https://en.wikipedia.org/wiki/List_of_highest-grossing_films)\n",
      "2025-03-02 22:37:51 [scrapy.pipelines.media] ERROR: [Failure instance: Traceback: <class 'scrapy.pipelines.files.FileException'>: \n",
      "/Library/Frameworks/Python.framework/Versions/3.13/lib/python3.13/site-packages/twisted/internet/defer.py:1088:_runCallbacks\n",
      "/Library/Frameworks/Python.framework/Versions/3.13/lib/python3.13/site-packages/scrapy/pipelines/files.py:627:media_failed\n",
      "]\n",
      "NoneType: None\n",
      "2025-03-02 22:37:51 [urllib3.connectionpool] DEBUG: Starting new HTTPS connection (1): upload.wikimedia.org:443\n"
     ]
    },
    {
     "name": "stdout",
     "output_type": "stream",
     "text": [
      "error: 403\n"
     ]
    },
    {
     "name": "stderr",
     "output_type": "stream",
     "text": [
      "2025-03-02 22:37:51 [urllib3.connectionpool] DEBUG: https://upload.wikimedia.org:443 \"GET /wikipedia/en/thumb/b/be/Song_of_south_poster.jpg/220px-Song_of_south_poster.jpg HTTP/1.1\" 403 2184\n",
      "2025-03-02 22:37:51 [scrapy.pipelines.media] ERROR: [Failure instance: Traceback: <class 'scrapy.pipelines.files.FileException'>: \n",
      "/Library/Frameworks/Python.framework/Versions/3.13/lib/python3.13/site-packages/twisted/internet/defer.py:1088:_runCallbacks\n",
      "/Library/Frameworks/Python.framework/Versions/3.13/lib/python3.13/site-packages/scrapy/pipelines/files.py:627:media_failed\n",
      "]\n",
      "NoneType: None\n",
      "2025-03-02 22:37:51 [urllib3.connectionpool] DEBUG: Starting new HTTPS connection (1): upload.wikimedia.org:443\n"
     ]
    },
    {
     "name": "stdout",
     "output_type": "stream",
     "text": [
      "error: 403\n"
     ]
    },
    {
     "name": "stderr",
     "output_type": "stream",
     "text": [
      "2025-03-02 22:37:51 [urllib3.connectionpool] DEBUG: https://upload.wikimedia.org:443 \"GET /wikipedia/en/thumb/3/3c/Boom_Town_poster.jpg/220px-Boom_Town_poster.jpg HTTP/1.1\" 403 2184\n",
      "2025-03-02 22:37:51 [scrapy.pipelines.media] ERROR: [Failure instance: Traceback: <class 'scrapy.pipelines.files.FileException'>: \n",
      "/Library/Frameworks/Python.framework/Versions/3.13/lib/python3.13/site-packages/twisted/internet/defer.py:1088:_runCallbacks\n",
      "/Library/Frameworks/Python.framework/Versions/3.13/lib/python3.13/site-packages/scrapy/pipelines/files.py:627:media_failed\n",
      "]\n",
      "NoneType: None\n",
      "2025-03-02 22:37:51 [urllib3.connectionpool] DEBUG: Starting new HTTPS connection (1): upload.wikimedia.org:443\n"
     ]
    },
    {
     "name": "stdout",
     "output_type": "stream",
     "text": [
      "error: 403\n"
     ]
    },
    {
     "name": "stderr",
     "output_type": "stream",
     "text": [
      "2025-03-02 22:37:52 [urllib3.connectionpool] DEBUG: https://upload.wikimedia.org:443 \"GET /wikipedia/commons/thumb/d/d1/You_Can%27t_Take_it_With_You_film_poster.jpg/220px-You_Can%27t_Take_it_With_You_film_poster.jpg HTTP/1.1\" 403 2184\n",
      "2025-03-02 22:37:52 [scrapy.pipelines.media] ERROR: [Failure instance: Traceback: <class 'scrapy.pipelines.files.FileException'>: \n",
      "/Library/Frameworks/Python.framework/Versions/3.13/lib/python3.13/site-packages/twisted/internet/defer.py:1088:_runCallbacks\n",
      "/Library/Frameworks/Python.framework/Versions/3.13/lib/python3.13/site-packages/scrapy/pipelines/files.py:627:media_failed\n",
      "]\n",
      "NoneType: None\n",
      "2025-03-02 22:37:52 [urllib3.connectionpool] DEBUG: Starting new HTTPS connection (1): upload.wikimedia.org:443\n"
     ]
    },
    {
     "name": "stdout",
     "output_type": "stream",
     "text": [
      "error: 403\n"
     ]
    },
    {
     "name": "stderr",
     "output_type": "stream",
     "text": [
      "2025-03-02 22:37:52 [urllib3.connectionpool] DEBUG: https://upload.wikimedia.org:443 \"GET /wikipedia/commons/thumb/5/56/Sergeant_York_%281941_poster%29.jpg/220px-Sergeant_York_%281941_poster%29.jpg HTTP/1.1\" 403 2184\n",
      "2025-03-02 22:37:52 [scrapy.pipelines.media] ERROR: [Failure instance: Traceback: <class 'scrapy.pipelines.files.FileException'>: \n",
      "/Library/Frameworks/Python.framework/Versions/3.13/lib/python3.13/site-packages/twisted/internet/defer.py:1088:_runCallbacks\n",
      "/Library/Frameworks/Python.framework/Versions/3.13/lib/python3.13/site-packages/scrapy/pipelines/files.py:627:media_failed\n",
      "]\n",
      "NoneType: None\n",
      "2025-03-02 22:37:52 [urllib3.connectionpool] DEBUG: Starting new HTTPS connection (1): upload.wikimedia.org:443\n"
     ]
    },
    {
     "name": "stdout",
     "output_type": "stream",
     "text": [
      "error: 403\n"
     ]
    },
    {
     "name": "stderr",
     "output_type": "stream",
     "text": [
      "2025-03-02 22:37:52 [urllib3.connectionpool] DEBUG: https://upload.wikimedia.org:443 \"GET /wikipedia/en/thumb/d/de/San_Francisco_%28film%29_poster.jpg/220px-San_Francisco_%28film%29_poster.jpg HTTP/1.1\" 403 2184\n",
      "2025-03-02 22:37:52 [scrapy.core.engine] DEBUG: Crawled (200) <GET https://en.wikipedia.org/wiki/She_Done_Him_Wrong> (referer: https://en.wikipedia.org/wiki/List_of_highest-grossing_films)\n",
      "2025-03-02 22:37:52 [scrapy.core.engine] DEBUG: Crawled (200) <GET https://en.wikipedia.org/wiki/Cavalcade_(1933_film)> (referer: https://en.wikipedia.org/wiki/List_of_highest-grossing_films)\n",
      "2025-03-02 22:37:52 [scrapy.core.engine] DEBUG: Crawled (200) <GET https://en.wikipedia.org/wiki/The_Merry_Widow_(1934_film)> (referer: https://en.wikipedia.org/wiki/List_of_highest-grossing_films)\n",
      "2025-03-02 22:37:52 [scrapy.core.engine] DEBUG: Crawled (200) <GET https://en.wikipedia.org/wiki/The_Sign_of_the_Cross_(1932_film)> (referer: https://en.wikipedia.org/wiki/List_of_highest-grossing_films)\n",
      "2025-03-02 22:37:52 [scrapy.core.engine] DEBUG: Crawled (200) <GET https://en.wikipedia.org/wiki/It_Happened_One_Night> (referer: https://en.wikipedia.org/wiki/List_of_highest-grossing_films)\n",
      "2025-03-02 22:37:52 [scrapy.core.engine] DEBUG: Crawled (200) <GET https://en.wikipedia.org/wiki/Mutiny_on_the_Bounty_(1935_film)> (referer: https://en.wikipedia.org/wiki/List_of_highest-grossing_films)\n",
      "2025-03-02 22:37:52 [scrapy.core.engine] DEBUG: Crawled (200) <GET https://en.wikipedia.org/wiki/I%27m_No_Angel> (referer: https://en.wikipedia.org/wiki/List_of_highest-grossing_films)\n",
      "2025-03-02 22:37:52 [scrapy.core.scraper] DEBUG: Scraped from <200 https://en.wikipedia.org/wiki/Song_of_the_South>\n",
      "{'box_office': 65000000.0,\n",
      " 'countries': ['United States'],\n",
      " 'directors': ['Wilfred Jackson'],\n",
      " 'image_urls': ['https://upload.wikimedia.org/wikipedia/en/thumb/b/be/Song_of_south_poster.jpg/220px-Song_of_south_poster.jpg'],\n",
      " 'images': [],\n",
      " 'title': 'Song of the South',\n",
      " 'year': 1946}\n",
      "2025-03-02 22:37:52 [scrapy.core.scraper] DEBUG: Scraped from <200 https://en.wikipedia.org/wiki/Boom_Town_(film)>\n",
      "{'box_office': 5000000.0,\n",
      " 'countries': ['United States'],\n",
      " 'directors': ['Jack Conway'],\n",
      " 'image_urls': ['https://upload.wikimedia.org/wikipedia/en/thumb/3/3c/Boom_Town_poster.jpg/220px-Boom_Town_poster.jpg'],\n",
      " 'images': [],\n",
      " 'title': 'Boom Town',\n",
      " 'year': 1940}\n",
      "2025-03-02 22:37:52 [scrapy.core.scraper] DEBUG: Scraped from <200 https://en.wikipedia.org/wiki/You_Can%27t_Take_It_with_You_(film)>\n",
      "{'box_office': None,\n",
      " 'countries': ['United States'],\n",
      " 'directors': ['Frank Capra'],\n",
      " 'image_urls': ['https://upload.wikimedia.org/wikipedia/commons/thumb/d/d1/You_Can%27t_Take_it_With_You_film_poster.jpg/220px-You_Can%27t_Take_it_With_You_film_poster.jpg'],\n",
      " 'images': [],\n",
      " 'title': \"You Can't Take It with You\",\n",
      " 'year': 1938}\n",
      "2025-03-02 22:37:52 [scrapy.core.scraper] DEBUG: Scraped from <200 https://en.wikipedia.org/wiki/Sergeant_York_(film)>\n",
      "{'box_office': 8300000.000000001,\n",
      " 'countries': ['United States'],\n",
      " 'directors': ['Howard Hawks'],\n",
      " 'image_urls': ['https://upload.wikimedia.org/wikipedia/commons/thumb/5/56/Sergeant_York_%281941_poster%29.jpg/220px-Sergeant_York_%281941_poster%29.jpg'],\n",
      " 'images': [],\n",
      " 'title': 'Sergeant York',\n",
      " 'year': 1941}\n",
      "2025-03-02 22:37:52 [scrapy.core.scraper] DEBUG: Scraped from <200 https://en.wikipedia.org/wiki/San_Francisco_(1936_film)>\n",
      "{'box_office': 5300000.0,\n",
      " 'countries': ['United States'],\n",
      " 'directors': ['W. S. Van Dyke'],\n",
      " 'image_urls': ['https://upload.wikimedia.org/wikipedia/en/thumb/d/de/San_Francisco_%28film%29_poster.jpg/220px-San_Francisco_%28film%29_poster.jpg'],\n",
      " 'images': [],\n",
      " 'title': 'San Francisco',\n",
      " 'year': 1936}\n",
      "2025-03-02 22:37:52 [scrapy.core.engine] DEBUG: Crawled (200) <GET https://en.wikipedia.org/wiki/King_Kong_(1933_film)> (referer: https://en.wikipedia.org/wiki/List_of_highest-grossing_films)\n",
      "2025-03-02 22:37:52 [scrapy.pipelines.media] ERROR: [Failure instance: Traceback: <class 'scrapy.pipelines.files.FileException'>: \n",
      "/Library/Frameworks/Python.framework/Versions/3.13/lib/python3.13/site-packages/twisted/internet/defer.py:1088:_runCallbacks\n",
      "/Library/Frameworks/Python.framework/Versions/3.13/lib/python3.13/site-packages/scrapy/pipelines/files.py:627:media_failed\n",
      "]\n",
      "NoneType: None\n",
      "2025-03-02 22:37:52 [scrapy.pipelines.media] ERROR: [Failure instance: Traceback: <class 'scrapy.pipelines.files.FileException'>: \n",
      "/Library/Frameworks/Python.framework/Versions/3.13/lib/python3.13/site-packages/twisted/internet/defer.py:1088:_runCallbacks\n",
      "/Library/Frameworks/Python.framework/Versions/3.13/lib/python3.13/site-packages/scrapy/pipelines/files.py:627:media_failed\n",
      "]\n",
      "NoneType: None\n",
      "2025-03-02 22:37:52 [scrapy.pipelines.media] ERROR: [Failure instance: Traceback: <class 'scrapy.pipelines.files.FileException'>: \n",
      "/Library/Frameworks/Python.framework/Versions/3.13/lib/python3.13/site-packages/twisted/internet/defer.py:1088:_runCallbacks\n",
      "/Library/Frameworks/Python.framework/Versions/3.13/lib/python3.13/site-packages/scrapy/pipelines/files.py:627:media_failed\n",
      "]\n",
      "NoneType: None\n",
      "2025-03-02 22:37:52 [scrapy.pipelines.media] ERROR: [Failure instance: Traceback: <class 'scrapy.pipelines.files.FileException'>: \n",
      "/Library/Frameworks/Python.framework/Versions/3.13/lib/python3.13/site-packages/twisted/internet/defer.py:1088:_runCallbacks\n",
      "/Library/Frameworks/Python.framework/Versions/3.13/lib/python3.13/site-packages/scrapy/pipelines/files.py:627:media_failed\n",
      "]\n",
      "NoneType: None\n",
      "2025-03-02 22:37:52 [urllib3.connectionpool] DEBUG: Starting new HTTPS connection (1): upload.wikimedia.org:443\n"
     ]
    },
    {
     "name": "stdout",
     "output_type": "stream",
     "text": [
      "error: 403\n"
     ]
    },
    {
     "name": "stderr",
     "output_type": "stream",
     "text": [
      "2025-03-02 22:37:53 [urllib3.connectionpool] DEBUG: https://upload.wikimedia.org:443 \"GET /wikipedia/en/thumb/8/88/Walt_Disney%27s_Bambi_poster.jpg/220px-Walt_Disney%27s_Bambi_poster.jpg HTTP/1.1\" 200 29442\n",
      "2025-03-02 22:37:53 [urllib3.connectionpool] DEBUG: Starting new HTTPS connection (1): upload.wikimedia.org:443\n"
     ]
    },
    {
     "name": "stdout",
     "output_type": "stream",
     "text": [
      "saved in images/Bambi/Bambi.jpg\n",
      "erroe: \n"
     ]
    },
    {
     "name": "stderr",
     "output_type": "stream",
     "text": [
      "2025-03-02 22:37:53 [urllib3.connectionpool] DEBUG: https://upload.wikimedia.org:443 \"GET /wikipedia/en/thumb/4/49/Snow_White_1937_poster.png/220px-Snow_White_1937_poster.png HTTP/1.1\" 200 134557\n"
     ]
    },
    {
     "name": "stdout",
     "output_type": "stream",
     "text": [
      "saved in images/Snow_White_and_the_Seven_Dwarfs/Snow_White_and_the_Seven_Dwarfs.png\n",
      "erroe: \n"
     ]
    },
    {
     "name": "stderr",
     "output_type": "stream",
     "text": [
      "2025-03-02 22:37:53 [urllib3.connectionpool] DEBUG: Starting new HTTPS connection (1): upload.wikimedia.org:443\n",
      "2025-03-02 22:37:54 [urllib3.connectionpool] DEBUG: https://upload.wikimedia.org:443 \"GET /wikipedia/commons/thumb/2/27/Poster_-_Gone_With_the_Wind_01.jpg/220px-Poster_-_Gone_With_the_Wind_01.jpg HTTP/1.1\" 200 36998\n",
      "2025-03-02 22:37:54 [urllib3.connectionpool] DEBUG: Starting new HTTPS connection (1): upload.wikimedia.org:443\n"
     ]
    },
    {
     "name": "stdout",
     "output_type": "stream",
     "text": [
      "saved in images/Gone_with_the_Wind/Gone_with_the_Wind.jpg\n",
      "erroe: \n"
     ]
    },
    {
     "name": "stderr",
     "output_type": "stream",
     "text": [
      "2025-03-02 22:37:54 [urllib3.connectionpool] DEBUG: https://upload.wikimedia.org:443 \"GET /wikipedia/en/thumb/b/ba/Pinocchio-1940-poster.jpg/220px-Pinocchio-1940-poster.jpg HTTP/1.1\" 403 2184\n",
      "2025-03-02 22:37:54 [scrapy.core.engine] DEBUG: Crawled (200) <GET https://en.wikipedia.org/wiki/City_Lights> (referer: https://en.wikipedia.org/wiki/List_of_highest-grossing_films)\n",
      "2025-03-02 22:37:54 [scrapy.core.engine] DEBUG: Crawled (200) <GET https://en.wikipedia.org/wiki/Frankenstein_(1931_film)> (referer: https://en.wikipedia.org/wiki/List_of_highest-grossing_films)\n",
      "2025-03-02 22:37:54 [scrapy.core.engine] DEBUG: Crawled (200) <GET https://en.wikipedia.org/wiki/All_Quiet_on_the_Western_Front_(1930_film)> (referer: https://en.wikipedia.org/wiki/List_of_highest-grossing_films)\n",
      "2025-03-02 22:37:54 [scrapy.core.engine] DEBUG: Crawled (200) <GET https://en.wikipedia.org/wiki/Wings_(1927_film)> (referer: https://en.wikipedia.org/wiki/List_of_highest-grossing_films)\n",
      "2025-03-02 22:37:54 [scrapy.core.engine] DEBUG: Crawled (200) <GET https://en.wikipedia.org/wiki/Sunny_Side_Up_(1929_film)> (referer: https://en.wikipedia.org/wiki/List_of_highest-grossing_films)\n",
      "2025-03-02 22:37:54 [scrapy.core.engine] DEBUG: Crawled (200) <GET https://en.wikipedia.org/wiki/The_Broadway_Melody> (referer: https://en.wikipedia.org/wiki/List_of_highest-grossing_films)\n",
      "2025-03-02 22:37:54 [scrapy.core.engine] DEBUG: Crawled (200) <GET https://en.wikipedia.org/wiki/The_Singing_Fool> (referer: https://en.wikipedia.org/wiki/List_of_highest-grossing_films)\n",
      "2025-03-02 22:37:54 [scrapy.core.engine] DEBUG: Crawled (200) <GET https://en.wikipedia.org/wiki/For_Heaven%27s_Sake_(1926_film)> (referer: https://en.wikipedia.org/wiki/List_of_highest-grossing_films)\n",
      "2025-03-02 22:37:54 [scrapy.core.scraper] DEBUG: Scraped from <200 https://en.wikipedia.org/wiki/Bambi>\n",
      "{'box_office': 267399999.99999997,\n",
      " 'countries': ['United States'],\n",
      " 'directors': ['James Algar'],\n",
      " 'image_urls': ['https://upload.wikimedia.org/wikipedia/en/thumb/8/88/Walt_Disney%27s_Bambi_poster.jpg/220px-Walt_Disney%27s_Bambi_poster.jpg'],\n",
      " 'images': [],\n",
      " 'title': 'Bambi',\n",
      " 'year': 1942}\n",
      "2025-03-02 22:37:54 [scrapy.core.scraper] DEBUG: Scraped from <200 https://en.wikipedia.org/wiki/Snow_White_and_the_Seven_Dwarfs_(1937_film)>\n",
      "{'box_office': 418000000.0,\n",
      " 'countries': ['United States'],\n",
      " 'directors': ['Perce Pearce',\n",
      "               'Larry Morey',\n",
      "               'Wilfred Jackson',\n",
      "               'Ben Sharpsteen'],\n",
      " 'image_urls': ['https://upload.wikimedia.org/wikipedia/en/thumb/4/49/Snow_White_1937_poster.png/220px-Snow_White_1937_poster.png'],\n",
      " 'images': [],\n",
      " 'title': 'Snow White and the Seven Dwarfs',\n",
      " 'year': 1937}\n",
      "2025-03-02 22:37:54 [scrapy.core.scraper] DEBUG: Scraped from <200 https://en.wikipedia.org/wiki/Gone_with_the_Wind_(film)>\n",
      "{'box_office': 390000000.0,\n",
      " 'countries': ['United States'],\n",
      " 'directors': ['Victor Fleming'],\n",
      " 'image_urls': ['https://upload.wikimedia.org/wikipedia/commons/thumb/2/27/Poster_-_Gone_With_the_Wind_01.jpg/220px-Poster_-_Gone_With_the_Wind_01.jpg'],\n",
      " 'images': [],\n",
      " 'title': 'Gone with the Wind',\n",
      " 'year': 1939}\n",
      "2025-03-02 22:37:54 [scrapy.core.scraper] DEBUG: Scraped from <200 https://en.wikipedia.org/wiki/Pinocchio_(1940_film)>\n",
      "{'box_office': 164000000.0,\n",
      " 'countries': ['United States'],\n",
      " 'directors': ['Ben Sharpsteen',\n",
      "               'Hamilton Luske',\n",
      "               'Norman Ferguson',\n",
      "               'Jack Kinney',\n",
      "               'Wilfred Jackson',\n",
      "               'T. Hee'],\n",
      " 'image_urls': ['https://upload.wikimedia.org/wikipedia/en/thumb/b/ba/Pinocchio-1940-poster.jpg/220px-Pinocchio-1940-poster.jpg'],\n",
      " 'images': [],\n",
      " 'title': 'Pinocchio',\n",
      " 'year': 1940}\n",
      "2025-03-02 22:37:54 [scrapy.pipelines.media] ERROR: [Failure instance: Traceback: <class 'scrapy.pipelines.files.FileException'>: \n",
      "/Library/Frameworks/Python.framework/Versions/3.13/lib/python3.13/site-packages/twisted/internet/defer.py:1088:_runCallbacks\n",
      "/Library/Frameworks/Python.framework/Versions/3.13/lib/python3.13/site-packages/scrapy/pipelines/files.py:627:media_failed\n",
      "]\n",
      "NoneType: None\n",
      "2025-03-02 22:37:54 [urllib3.connectionpool] DEBUG: Starting new HTTPS connection (1): upload.wikimedia.org:443\n"
     ]
    },
    {
     "name": "stdout",
     "output_type": "stream",
     "text": [
      "error: 403\n"
     ]
    },
    {
     "name": "stderr",
     "output_type": "stream",
     "text": [
      "2025-03-02 22:37:54 [urllib3.connectionpool] DEBUG: https://upload.wikimedia.org:443 \"GET /wikipedia/commons/thumb/c/c8/She_Done_Him_Wrong_%281933_poster%29.jpg/220px-She_Done_Him_Wrong_%281933_poster%29.jpg HTTP/1.1\" 200 32843\n",
      "2025-03-02 22:37:54 [scrapy.pipelines.media] ERROR: [Failure instance: Traceback: <class 'scrapy.pipelines.files.FileException'>: \n",
      "/Library/Frameworks/Python.framework/Versions/3.13/lib/python3.13/site-packages/twisted/internet/defer.py:1088:_runCallbacks\n",
      "/Library/Frameworks/Python.framework/Versions/3.13/lib/python3.13/site-packages/scrapy/pipelines/files.py:627:media_failed\n",
      "]\n",
      "NoneType: None\n",
      "2025-03-02 22:37:54 [urllib3.connectionpool] DEBUG: Starting new HTTPS connection (1): upload.wikimedia.org:443\n"
     ]
    },
    {
     "name": "stdout",
     "output_type": "stream",
     "text": [
      "saved in images/She_Done_Him_Wrong/She_Done_Him_Wrong.jpg\n",
      "erroe: \n"
     ]
    },
    {
     "name": "stderr",
     "output_type": "stream",
     "text": [
      "2025-03-02 22:37:55 [urllib3.connectionpool] DEBUG: https://upload.wikimedia.org:443 \"GET /wikipedia/en/thumb/3/3f/Cavalcade_film_poster.jpg/220px-Cavalcade_film_poster.jpg HTTP/1.1\" 403 2184\n",
      "2025-03-02 22:37:55 [scrapy.pipelines.media] ERROR: [Failure instance: Traceback: <class 'scrapy.pipelines.files.FileException'>: \n",
      "/Library/Frameworks/Python.framework/Versions/3.13/lib/python3.13/site-packages/twisted/internet/defer.py:1088:_runCallbacks\n",
      "/Library/Frameworks/Python.framework/Versions/3.13/lib/python3.13/site-packages/scrapy/pipelines/files.py:627:media_failed\n",
      "]\n",
      "NoneType: None\n",
      "2025-03-02 22:37:55 [urllib3.connectionpool] DEBUG: Starting new HTTPS connection (1): upload.wikimedia.org:443\n"
     ]
    },
    {
     "name": "stdout",
     "output_type": "stream",
     "text": [
      "error: 403\n"
     ]
    },
    {
     "name": "stderr",
     "output_type": "stream",
     "text": [
      "2025-03-02 22:37:55 [urllib3.connectionpool] DEBUG: https://upload.wikimedia.org:443 \"GET /wikipedia/commons/thumb/8/88/The_Merry_Widow_%281934%29_poster.jpg/220px-The_Merry_Widow_%281934%29_poster.jpg HTTP/1.1\" 403 2184\n",
      "2025-03-02 22:37:55 [scrapy.pipelines.media] ERROR: [Failure instance: Traceback: <class 'scrapy.pipelines.files.FileException'>: \n",
      "/Library/Frameworks/Python.framework/Versions/3.13/lib/python3.13/site-packages/twisted/internet/defer.py:1088:_runCallbacks\n",
      "/Library/Frameworks/Python.framework/Versions/3.13/lib/python3.13/site-packages/scrapy/pipelines/files.py:627:media_failed\n",
      "]\n",
      "NoneType: None\n",
      "2025-03-02 22:37:55 [urllib3.connectionpool] DEBUG: Starting new HTTPS connection (1): upload.wikimedia.org:443\n"
     ]
    },
    {
     "name": "stdout",
     "output_type": "stream",
     "text": [
      "error: 403\n"
     ]
    },
    {
     "name": "stderr",
     "output_type": "stream",
     "text": [
      "2025-03-02 22:37:55 [urllib3.connectionpool] DEBUG: https://upload.wikimedia.org:443 \"GET /wikipedia/en/thumb/4/49/The_sign_of_cross.jpg/220px-The_sign_of_cross.jpg HTTP/1.1\" 403 2184\n",
      "2025-03-02 22:37:55 [scrapy.pipelines.media] ERROR: [Failure instance: Traceback: <class 'scrapy.pipelines.files.FileException'>: \n",
      "/Library/Frameworks/Python.framework/Versions/3.13/lib/python3.13/site-packages/twisted/internet/defer.py:1088:_runCallbacks\n",
      "/Library/Frameworks/Python.framework/Versions/3.13/lib/python3.13/site-packages/scrapy/pipelines/files.py:627:media_failed\n",
      "]\n",
      "NoneType: None\n",
      "2025-03-02 22:37:55 [urllib3.connectionpool] DEBUG: Starting new HTTPS connection (1): upload.wikimedia.org:443\n"
     ]
    },
    {
     "name": "stdout",
     "output_type": "stream",
     "text": [
      "error: 403\n"
     ]
    },
    {
     "name": "stderr",
     "output_type": "stream",
     "text": [
      "2025-03-02 22:37:56 [urllib3.connectionpool] DEBUG: https://upload.wikimedia.org:443 \"GET /wikipedia/commons/thumb/d/dc/It-happened-one-night-poster.jpg/220px-It-happened-one-night-poster.jpg HTTP/1.1\" 200 33776\n",
      "2025-03-02 22:37:56 [scrapy.pipelines.media] ERROR: [Failure instance: Traceback: <class 'scrapy.pipelines.files.FileException'>: \n",
      "/Library/Frameworks/Python.framework/Versions/3.13/lib/python3.13/site-packages/twisted/internet/defer.py:1088:_runCallbacks\n",
      "/Library/Frameworks/Python.framework/Versions/3.13/lib/python3.13/site-packages/scrapy/pipelines/files.py:627:media_failed\n",
      "]\n",
      "NoneType: None\n",
      "2025-03-02 22:37:56 [urllib3.connectionpool] DEBUG: Starting new HTTPS connection (1): upload.wikimedia.org:443\n"
     ]
    },
    {
     "name": "stdout",
     "output_type": "stream",
     "text": [
      "saved in images/It_Happened_One_Night/It_Happened_One_Night.jpg\n",
      "erroe: \n"
     ]
    },
    {
     "name": "stderr",
     "output_type": "stream",
     "text": [
      "2025-03-02 22:37:56 [urllib3.connectionpool] DEBUG: https://upload.wikimedia.org:443 \"GET /wikipedia/commons/thumb/b/b8/Mutiny_on_the_Bounty_poster.jpg/220px-Mutiny_on_the_Bounty_poster.jpg HTTP/1.1\" 200 35725\n",
      "2025-03-02 22:37:56 [scrapy.pipelines.media] ERROR: [Failure instance: Traceback: <class 'scrapy.pipelines.files.FileException'>: \n",
      "/Library/Frameworks/Python.framework/Versions/3.13/lib/python3.13/site-packages/twisted/internet/defer.py:1088:_runCallbacks\n",
      "/Library/Frameworks/Python.framework/Versions/3.13/lib/python3.13/site-packages/scrapy/pipelines/files.py:627:media_failed\n",
      "]\n",
      "NoneType: None\n",
      "2025-03-02 22:37:56 [urllib3.connectionpool] DEBUG: Starting new HTTPS connection (1): upload.wikimedia.org:443\n"
     ]
    },
    {
     "name": "stdout",
     "output_type": "stream",
     "text": [
      "saved in images/Mutiny_on_the_Bounty/Mutiny_on_the_Bounty.jpg\n",
      "erroe: \n"
     ]
    },
    {
     "name": "stderr",
     "output_type": "stream",
     "text": [
      "2025-03-02 22:37:56 [urllib3.connectionpool] DEBUG: https://upload.wikimedia.org:443 \"GET /wikipedia/commons/thumb/8/8a/I%27m_No_Angel_%281933%29_poster.jpg/220px-I%27m_No_Angel_%281933%29_poster.jpg HTTP/1.1\" 403 2184\n",
      "2025-03-02 22:37:56 [scrapy.pipelines.media] ERROR: [Failure instance: Traceback: <class 'scrapy.pipelines.files.FileException'>: \n",
      "/Library/Frameworks/Python.framework/Versions/3.13/lib/python3.13/site-packages/twisted/internet/defer.py:1088:_runCallbacks\n",
      "/Library/Frameworks/Python.framework/Versions/3.13/lib/python3.13/site-packages/scrapy/pipelines/files.py:627:media_failed\n",
      "]\n",
      "NoneType: None\n",
      "2025-03-02 22:37:56 [scrapy.core.engine] DEBUG: Crawled (200) <GET https://en.wikipedia.org/wiki/Ben-Hur_(1925_film)> (referer: https://en.wikipedia.org/wiki/List_of_highest-grossing_films)\n",
      "2025-03-02 22:37:56 [scrapy.core.engine] DEBUG: Crawled (200) <GET https://en.wikipedia.org/wiki/The_Big_Parade> (referer: https://en.wikipedia.org/wiki/List_of_highest-grossing_films)\n",
      "2025-03-02 22:37:56 [scrapy.core.engine] DEBUG: Crawled (200) <GET https://en.wikipedia.org/wiki/The_Sea_Hawk_(1924_film)> (referer: https://en.wikipedia.org/wiki/List_of_highest-grossing_films)\n",
      "2025-03-02 22:37:56 [scrapy.core.engine] DEBUG: Crawled (200) <GET https://en.wikipedia.org/wiki/The_Covered_Wagon> (referer: https://en.wikipedia.org/wiki/List_of_highest-grossing_films)\n",
      "2025-03-02 22:37:56 [scrapy.core.engine] DEBUG: Crawled (200) <GET https://en.wikipedia.org/wiki/Douglas_Fairbanks_in_Robin_Hood> (referer: https://en.wikipedia.org/wiki/List_of_highest-grossing_films)\n",
      "2025-03-02 22:37:56 [scrapy.core.engine] DEBUG: Crawled (200) <GET https://en.wikipedia.org/wiki/Way_Down_East> (referer: https://en.wikipedia.org/wiki/List_of_highest-grossing_films)\n",
      "2025-03-02 22:37:56 [scrapy.core.engine] DEBUG: Crawled (200) <GET https://en.wikipedia.org/wiki/The_Miracle_Man_(1919_film)> (referer: https://en.wikipedia.org/wiki/List_of_highest-grossing_films)\n",
      "2025-03-02 22:37:56 [scrapy.core.engine] DEBUG: Crawled (200) <GET https://en.wikipedia.org/wiki/The_Four_Horsemen_of_the_Apocalypse_(film)> (referer: https://en.wikipedia.org/wiki/List_of_highest-grossing_films)\n",
      "2025-03-02 22:37:56 [scrapy.core.scraper] DEBUG: Scraped from <200 https://en.wikipedia.org/wiki/She_Done_Him_Wrong>\n",
      "{'box_office': 2200000.0,\n",
      " 'countries': ['United States'],\n",
      " 'directors': ['Lowell Sherman'],\n",
      " 'image_urls': ['https://upload.wikimedia.org/wikipedia/commons/thumb/c/c8/She_Done_Him_Wrong_%281933_poster%29.jpg/220px-She_Done_Him_Wrong_%281933_poster%29.jpg'],\n",
      " 'images': [],\n",
      " 'title': 'She Done Him Wrong',\n",
      " 'year': 1933}\n",
      "2025-03-02 22:37:56 [scrapy.core.scraper] DEBUG: Scraped from <200 https://en.wikipedia.org/wiki/Cavalcade_(1933_film)>\n",
      "{'box_office': 1004000.0,\n",
      " 'countries': ['United States'],\n",
      " 'directors': ['Frank Lloyd'],\n",
      " 'image_urls': ['https://upload.wikimedia.org/wikipedia/en/thumb/3/3f/Cavalcade_film_poster.jpg/220px-Cavalcade_film_poster.jpg'],\n",
      " 'images': [],\n",
      " 'title': 'Cavalcade',\n",
      " 'year': 1933}\n",
      "2025-03-02 22:37:56 [scrapy.core.scraper] DEBUG: Scraped from <200 https://en.wikipedia.org/wiki/The_Merry_Widow_(1934_film)>\n",
      "{'box_office': 2800000.0,\n",
      " 'countries': ['United States'],\n",
      " 'directors': ['Ernst Lubitsch'],\n",
      " 'image_urls': ['https://upload.wikimedia.org/wikipedia/commons/thumb/8/88/The_Merry_Widow_%281934%29_poster.jpg/220px-The_Merry_Widow_%281934%29_poster.jpg'],\n",
      " 'images': [],\n",
      " 'title': 'The Merry Widow',\n",
      " 'year': 1934}\n",
      "2025-03-02 22:37:56 [scrapy.core.scraper] DEBUG: Scraped from <200 https://en.wikipedia.org/wiki/The_Sign_of_the_Cross_(1932_film)>\n",
      "{'box_office': 2738993.0,\n",
      " 'countries': ['United States'],\n",
      " 'directors': ['Cecil B. DeMille'],\n",
      " 'image_urls': ['https://upload.wikimedia.org/wikipedia/en/thumb/4/49/The_sign_of_cross.jpg/220px-The_sign_of_cross.jpg'],\n",
      " 'images': [],\n",
      " 'title': 'The Sign of the Cross',\n",
      " 'year': 1932}\n",
      "2025-03-02 22:37:56 [scrapy.core.scraper] DEBUG: Scraped from <200 https://en.wikipedia.org/wiki/It_Happened_One_Night>\n",
      "{'box_office': 2500000.0,\n",
      " 'countries': ['United States'],\n",
      " 'directors': ['Frank Capra'],\n",
      " 'image_urls': ['https://upload.wikimedia.org/wikipedia/commons/thumb/d/dc/It-happened-one-night-poster.jpg/220px-It-happened-one-night-poster.jpg'],\n",
      " 'images': [],\n",
      " 'title': 'It Happened One Night',\n",
      " 'year': 1934}\n",
      "2025-03-02 22:37:56 [scrapy.core.scraper] DEBUG: Scraped from <200 https://en.wikipedia.org/wiki/Mutiny_on_the_Bounty_(1935_film)>\n",
      "{'box_office': 4460000.0,\n",
      " 'countries': ['United States'],\n",
      " 'directors': ['Frank Lloyd'],\n",
      " 'image_urls': ['https://upload.wikimedia.org/wikipedia/commons/thumb/b/b8/Mutiny_on_the_Bounty_poster.jpg/220px-Mutiny_on_the_Bounty_poster.jpg'],\n",
      " 'images': [],\n",
      " 'title': 'Mutiny on the Bounty',\n",
      " 'year': 1935}\n",
      "2025-03-02 22:37:56 [scrapy.core.scraper] DEBUG: Scraped from <200 https://en.wikipedia.org/wiki/I%27m_No_Angel>\n",
      "{'box_office': 2250000.0,\n",
      " 'countries': ['United States'],\n",
      " 'directors': ['Wesley Ruggles'],\n",
      " 'image_urls': ['https://upload.wikimedia.org/wikipedia/commons/thumb/8/8a/I%27m_No_Angel_%281933%29_poster.jpg/220px-I%27m_No_Angel_%281933%29_poster.jpg'],\n",
      " 'images': [],\n",
      " 'title': \"I'm No Angel\",\n",
      " 'year': 1933}\n",
      "2025-03-02 22:37:56 [urllib3.connectionpool] DEBUG: Starting new HTTPS connection (1): upload.wikimedia.org:443\n"
     ]
    },
    {
     "name": "stdout",
     "output_type": "stream",
     "text": [
      "error: 403\n"
     ]
    },
    {
     "name": "stderr",
     "output_type": "stream",
     "text": [
      "2025-03-02 22:37:57 [urllib3.connectionpool] DEBUG: https://upload.wikimedia.org:443 \"GET /wikipedia/commons/thumb/f/f3/Kingkongposter.jpg/220px-Kingkongposter.jpg HTTP/1.1\" 200 38539\n",
      "2025-03-02 22:37:57 [scrapy.core.scraper] DEBUG: Scraped from <200 https://en.wikipedia.org/wiki/King_Kong_(1933_film)>\n",
      "{'box_office': 10001781.0,\n",
      " 'countries': ['United States'],\n",
      " 'directors': ['Merian C. Cooper', 'Ernest B. Schoedsack'],\n",
      " 'image_urls': ['https://upload.wikimedia.org/wikipedia/commons/thumb/f/f3/Kingkongposter.jpg/220px-Kingkongposter.jpg'],\n",
      " 'images': [],\n",
      " 'title': 'King Kong',\n",
      " 'year': 1933}\n",
      "2025-03-02 22:37:57 [scrapy.pipelines.media] ERROR: [Failure instance: Traceback: <class 'scrapy.pipelines.files.FileException'>: \n",
      "/Library/Frameworks/Python.framework/Versions/3.13/lib/python3.13/site-packages/twisted/internet/defer.py:1088:_runCallbacks\n",
      "/Library/Frameworks/Python.framework/Versions/3.13/lib/python3.13/site-packages/scrapy/pipelines/files.py:627:media_failed\n",
      "]\n",
      "NoneType: None\n",
      "2025-03-02 22:37:57 [urllib3.connectionpool] DEBUG: Starting new HTTPS connection (1): upload.wikimedia.org:443\n"
     ]
    },
    {
     "name": "stdout",
     "output_type": "stream",
     "text": [
      "saved in images/King_Kong/King_Kong.jpg\n",
      "erroe: \n"
     ]
    },
    {
     "name": "stderr",
     "output_type": "stream",
     "text": [
      "2025-03-02 22:37:57 [urllib3.connectionpool] DEBUG: https://upload.wikimedia.org:443 \"GET /wikipedia/commons/thumb/0/09/City_Lights_%281931_theatrical_poster_-_retouched%29.jpg/220px-City_Lights_%281931_theatrical_poster_-_retouched%29.jpg HTTP/1.1\" 200 34078\n",
      "2025-03-02 22:37:57 [scrapy.pipelines.media] ERROR: [Failure instance: Traceback: <class 'scrapy.pipelines.files.FileException'>: \n",
      "/Library/Frameworks/Python.framework/Versions/3.13/lib/python3.13/site-packages/twisted/internet/defer.py:1088:_runCallbacks\n",
      "/Library/Frameworks/Python.framework/Versions/3.13/lib/python3.13/site-packages/scrapy/pipelines/files.py:627:media_failed\n",
      "]\n",
      "NoneType: None\n",
      "2025-03-02 22:37:57 [urllib3.connectionpool] DEBUG: Starting new HTTPS connection (1): upload.wikimedia.org:443\n"
     ]
    },
    {
     "name": "stdout",
     "output_type": "stream",
     "text": [
      "saved in images/City_Lights/City_Lights.jpg\n",
      "erroe: \n"
     ]
    },
    {
     "name": "stderr",
     "output_type": "stream",
     "text": [
      "2025-03-02 22:37:58 [urllib3.connectionpool] DEBUG: https://upload.wikimedia.org:443 \"GET /wikipedia/commons/thumb/9/92/Frankenstein_poster_1931.jpg/220px-Frankenstein_poster_1931.jpg HTTP/1.1\" 200 32596\n",
      "2025-03-02 22:37:58 [scrapy.pipelines.media] ERROR: [Failure instance: Traceback: <class 'scrapy.pipelines.files.FileException'>: \n",
      "/Library/Frameworks/Python.framework/Versions/3.13/lib/python3.13/site-packages/twisted/internet/defer.py:1088:_runCallbacks\n",
      "/Library/Frameworks/Python.framework/Versions/3.13/lib/python3.13/site-packages/scrapy/pipelines/files.py:627:media_failed\n",
      "]\n",
      "NoneType: None\n",
      "2025-03-02 22:37:58 [urllib3.connectionpool] DEBUG: Starting new HTTPS connection (1): upload.wikimedia.org:443\n"
     ]
    },
    {
     "name": "stdout",
     "output_type": "stream",
     "text": [
      "saved in images/Frankenstein/Frankenstein.jpg\n",
      "erroe: \n"
     ]
    },
    {
     "name": "stderr",
     "output_type": "stream",
     "text": [
      "2025-03-02 22:37:58 [urllib3.connectionpool] DEBUG: https://upload.wikimedia.org:443 \"GET /wikipedia/commons/thumb/6/6c/All_Quiet_on_the_Western_Front_%281930_film%29_poster.jpg/220px-All_Quiet_on_the_Western_Front_%281930_film%29_poster.jpg HTTP/1.1\" 200 26433\n",
      "2025-03-02 22:37:58 [scrapy.pipelines.media] ERROR: [Failure instance: Traceback: <class 'scrapy.pipelines.files.FileException'>: \n",
      "/Library/Frameworks/Python.framework/Versions/3.13/lib/python3.13/site-packages/twisted/internet/defer.py:1088:_runCallbacks\n",
      "/Library/Frameworks/Python.framework/Versions/3.13/lib/python3.13/site-packages/scrapy/pipelines/files.py:627:media_failed\n",
      "]\n",
      "NoneType: None\n",
      "2025-03-02 22:37:58 [urllib3.connectionpool] DEBUG: Starting new HTTPS connection (1): upload.wikimedia.org:443\n"
     ]
    },
    {
     "name": "stdout",
     "output_type": "stream",
     "text": [
      "saved in images/All_Quiet_on_the_Western_Front/All_Quiet_on_the_Western_Front.jpg\n",
      "erroe: \n"
     ]
    },
    {
     "name": "stderr",
     "output_type": "stream",
     "text": [
      "2025-03-02 22:37:58 [urllib3.connectionpool] DEBUG: https://upload.wikimedia.org:443 \"GET /wikipedia/commons/thumb/b/b3/Wings_%281927%29_poster.jpg/220px-Wings_%281927%29_poster.jpg HTTP/1.1\" 403 2184\n",
      "2025-03-02 22:37:58 [scrapy.pipelines.media] ERROR: [Failure instance: Traceback: <class 'scrapy.pipelines.files.FileException'>: \n",
      "/Library/Frameworks/Python.framework/Versions/3.13/lib/python3.13/site-packages/twisted/internet/defer.py:1088:_runCallbacks\n",
      "/Library/Frameworks/Python.framework/Versions/3.13/lib/python3.13/site-packages/scrapy/pipelines/files.py:627:media_failed\n",
      "]\n",
      "NoneType: None\n",
      "2025-03-02 22:37:58 [urllib3.connectionpool] DEBUG: Starting new HTTPS connection (1): upload.wikimedia.org:443\n"
     ]
    },
    {
     "name": "stdout",
     "output_type": "stream",
     "text": [
      "error: 403\n"
     ]
    },
    {
     "name": "stderr",
     "output_type": "stream",
     "text": [
      "2025-03-02 22:37:59 [urllib3.connectionpool] DEBUG: https://upload.wikimedia.org:443 \"GET /wikipedia/commons/thumb/a/a6/Sunny_Side_Up_%281929_film%29.jpg/220px-Sunny_Side_Up_%281929_film%29.jpg HTTP/1.1\" 403 2184\n",
      "2025-03-02 22:37:59 [scrapy.pipelines.media] ERROR: [Failure instance: Traceback: <class 'scrapy.pipelines.files.FileException'>: \n",
      "/Library/Frameworks/Python.framework/Versions/3.13/lib/python3.13/site-packages/twisted/internet/defer.py:1088:_runCallbacks\n",
      "/Library/Frameworks/Python.framework/Versions/3.13/lib/python3.13/site-packages/scrapy/pipelines/files.py:627:media_failed\n",
      "]\n",
      "NoneType: None\n",
      "2025-03-02 22:37:59 [urllib3.connectionpool] DEBUG: Starting new HTTPS connection (1): upload.wikimedia.org:443\n"
     ]
    },
    {
     "name": "stdout",
     "output_type": "stream",
     "text": [
      "error: 403\n"
     ]
    },
    {
     "name": "stderr",
     "output_type": "stream",
     "text": [
      "2025-03-02 22:37:59 [urllib3.connectionpool] DEBUG: https://upload.wikimedia.org:443 \"GET /wikipedia/commons/thumb/f/f0/Broadway_Melody_poster.jpg/220px-Broadway_Melody_poster.jpg HTTP/1.1\" 403 2184\n",
      "2025-03-02 22:37:59 [scrapy.pipelines.media] ERROR: [Failure instance: Traceback: <class 'scrapy.pipelines.files.FileException'>: \n",
      "/Library/Frameworks/Python.framework/Versions/3.13/lib/python3.13/site-packages/twisted/internet/defer.py:1088:_runCallbacks\n",
      "/Library/Frameworks/Python.framework/Versions/3.13/lib/python3.13/site-packages/scrapy/pipelines/files.py:627:media_failed\n",
      "]\n",
      "NoneType: None\n",
      "2025-03-02 22:37:59 [urllib3.connectionpool] DEBUG: Starting new HTTPS connection (1): upload.wikimedia.org:443\n"
     ]
    },
    {
     "name": "stdout",
     "output_type": "stream",
     "text": [
      "error: 403\n"
     ]
    },
    {
     "name": "stderr",
     "output_type": "stream",
     "text": [
      "2025-03-02 22:37:59 [urllib3.connectionpool] DEBUG: https://upload.wikimedia.org:443 \"GET /wikipedia/commons/thumb/2/23/The_Singing_Fool_%281928%29_Poster.jpg/220px-The_Singing_Fool_%281928%29_Poster.jpg HTTP/1.1\" 403 2184\n",
      "2025-03-02 22:37:59 [scrapy.pipelines.media] ERROR: [Failure instance: Traceback: <class 'scrapy.pipelines.files.FileException'>: \n",
      "/Library/Frameworks/Python.framework/Versions/3.13/lib/python3.13/site-packages/twisted/internet/defer.py:1088:_runCallbacks\n",
      "/Library/Frameworks/Python.framework/Versions/3.13/lib/python3.13/site-packages/scrapy/pipelines/files.py:627:media_failed\n",
      "]\n",
      "NoneType: None\n",
      "2025-03-02 22:37:59 [urllib3.connectionpool] DEBUG: Starting new HTTPS connection (1): upload.wikimedia.org:443\n"
     ]
    },
    {
     "name": "stdout",
     "output_type": "stream",
     "text": [
      "error: 403\n"
     ]
    },
    {
     "name": "stderr",
     "output_type": "stream",
     "text": [
      "2025-03-02 22:38:00 [urllib3.connectionpool] DEBUG: https://upload.wikimedia.org:443 \"GET /wikipedia/commons/thumb/4/4e/For_Heaven%27s_Sake_ad_in_Motion_Picture_News_%28March_6%2C_1926_to_April_24%2C_1926%29_%28page_436_crop%29.jpg/220px-For_Heaven%27s_Sake_ad_in_Motion_Picture_News_%28March_6%2C_1926_to_April_24%2C_1926%29_%28page_436_crop%29.jpg HTTP/1.1\" 403 2184\n",
      "2025-03-02 22:38:00 [scrapy.core.engine] DEBUG: Crawled (200) <GET https://en.wikipedia.org/wiki/Mickey_(1918_film)> (referer: https://en.wikipedia.org/wiki/List_of_highest-grossing_films)\n",
      "2025-03-02 22:38:00 [scrapy.core.engine] DEBUG: Crawled (200) <GET https://en.wikipedia.org/wiki/Cleopatra_(1917_film)> (referer: https://en.wikipedia.org/wiki/List_of_highest-grossing_films)\n",
      "2025-03-02 22:38:00 [scrapy.core.engine] DEBUG: Crawled (200) <GET https://en.wikipedia.org/wiki/Intolerance_(film)> (referer: https://en.wikipedia.org/wiki/List_of_highest-grossing_films)\n",
      "2025-03-02 22:38:00 [scrapy.core.scraper] DEBUG: Scraped from <200 https://en.wikipedia.org/wiki/City_Lights>\n",
      "{'box_office': 4250000.0,\n",
      " 'countries': ['United States'],\n",
      " 'directors': ['Charlie Chaplin'],\n",
      " 'image_urls': ['https://upload.wikimedia.org/wikipedia/commons/thumb/0/09/City_Lights_%281931_theatrical_poster_-_retouched%29.jpg/220px-City_Lights_%281931_theatrical_poster_-_retouched%29.jpg'],\n",
      " 'images': [],\n",
      " 'title': 'City Lights',\n",
      " 'year': 1931}\n",
      "2025-03-02 22:38:00 [scrapy.core.scraper] DEBUG: Scraped from <200 https://en.wikipedia.org/wiki/Frankenstein_(1931_film)>\n",
      "{'box_office': 12000000.0,\n",
      " 'countries': ['United States'],\n",
      " 'directors': ['James Whale'],\n",
      " 'image_urls': ['https://upload.wikimedia.org/wikipedia/commons/thumb/9/92/Frankenstein_poster_1931.jpg/220px-Frankenstein_poster_1931.jpg'],\n",
      " 'images': [],\n",
      " 'title': 'Frankenstein',\n",
      " 'year': 1931}\n",
      "2025-03-02 22:38:00 [scrapy.core.scraper] DEBUG: Scraped from <200 https://en.wikipedia.org/wiki/All_Quiet_on_the_Western_Front_(1930_film)>\n",
      "{'box_office': 3000000.0,\n",
      " 'countries': ['United States'],\n",
      " 'directors': ['Lewis Milestone'],\n",
      " 'image_urls': ['https://upload.wikimedia.org/wikipedia/commons/thumb/6/6c/All_Quiet_on_the_Western_Front_%281930_film%29_poster.jpg/220px-All_Quiet_on_the_Western_Front_%281930_film%29_poster.jpg'],\n",
      " 'images': [],\n",
      " 'title': 'All Quiet on the Western Front',\n",
      " 'year': 1930}\n",
      "2025-03-02 22:38:00 [scrapy.core.scraper] DEBUG: Scraped from <200 https://en.wikipedia.org/wiki/Wings_(1927_film)>\n",
      "{'box_office': 3800000.0,\n",
      " 'countries': ['United States'],\n",
      " 'directors': ['William A. Wellman'],\n",
      " 'image_urls': ['https://upload.wikimedia.org/wikipedia/commons/thumb/b/b3/Wings_%281927%29_poster.jpg/220px-Wings_%281927%29_poster.jpg'],\n",
      " 'images': [],\n",
      " 'title': 'Wings',\n",
      " 'year': 1927}\n",
      "2025-03-02 22:38:00 [scrapy.core.scraper] DEBUG: Scraped from <200 https://en.wikipedia.org/wiki/Sunny_Side_Up_(1929_film)>\n",
      "{'box_office': 2190000.0,\n",
      " 'countries': ['United States'],\n",
      " 'directors': ['David Butler'],\n",
      " 'image_urls': ['https://upload.wikimedia.org/wikipedia/commons/thumb/a/a6/Sunny_Side_Up_%281929_film%29.jpg/220px-Sunny_Side_Up_%281929_film%29.jpg'],\n",
      " 'images': [],\n",
      " 'title': 'Sunny Side Up',\n",
      " 'year': 1929}\n",
      "2025-03-02 22:38:00 [scrapy.core.scraper] DEBUG: Scraped from <200 https://en.wikipedia.org/wiki/The_Broadway_Melody>\n",
      "{'box_office': 4400000.0,\n",
      " 'countries': ['United States'],\n",
      " 'directors': ['Harry Beaumont'],\n",
      " 'image_urls': ['https://upload.wikimedia.org/wikipedia/commons/thumb/f/f0/Broadway_Melody_poster.jpg/220px-Broadway_Melody_poster.jpg'],\n",
      " 'images': [],\n",
      " 'title': 'The Broadway Melody',\n",
      " 'year': 1929}\n",
      "2025-03-02 22:38:00 [scrapy.core.scraper] DEBUG: Scraped from <200 https://en.wikipedia.org/wiki/The_Singing_Fool>\n",
      "{'box_office': 5916000.0,\n",
      " 'countries': ['United States'],\n",
      " 'directors': ['Lloyd Bacon'],\n",
      " 'image_urls': ['https://upload.wikimedia.org/wikipedia/commons/thumb/2/23/The_Singing_Fool_%281928%29_Poster.jpg/220px-The_Singing_Fool_%281928%29_Poster.jpg'],\n",
      " 'images': [],\n",
      " 'title': 'The Singing Fool',\n",
      " 'year': 1928}\n",
      "2025-03-02 22:38:00 [scrapy.core.scraper] DEBUG: Scraped from <200 https://en.wikipedia.org/wiki/For_Heaven%27s_Sake_(1926_film)>\n",
      "{'box_office': 2600000.0,\n",
      " 'countries': ['United States'],\n",
      " 'directors': ['Sam Taylor'],\n",
      " 'image_urls': ['https://upload.wikimedia.org/wikipedia/commons/thumb/4/4e/For_Heaven%27s_Sake_ad_in_Motion_Picture_News_%28March_6%2C_1926_to_April_24%2C_1926%29_%28page_436_crop%29.jpg/220px-For_Heaven%27s_Sake_ad_in_Motion_Picture_News_%28March_6%2C_1926_to_April_24%2C_1926%29_%28page_436_crop%29.jpg'],\n",
      " 'images': [],\n",
      " 'title': \"For Heaven's Sake\",\n",
      " 'year': 1926}\n",
      "2025-03-02 22:38:00 [scrapy.pipelines.media] ERROR: [Failure instance: Traceback: <class 'scrapy.pipelines.files.FileException'>: \n",
      "/Library/Frameworks/Python.framework/Versions/3.13/lib/python3.13/site-packages/twisted/internet/defer.py:1088:_runCallbacks\n",
      "/Library/Frameworks/Python.framework/Versions/3.13/lib/python3.13/site-packages/scrapy/pipelines/files.py:627:media_failed\n",
      "]\n",
      "NoneType: None\n",
      "2025-03-02 22:38:00 [urllib3.connectionpool] DEBUG: Starting new HTTPS connection (1): upload.wikimedia.org:443\n"
     ]
    },
    {
     "name": "stdout",
     "output_type": "stream",
     "text": [
      "error: 403\n"
     ]
    },
    {
     "name": "stderr",
     "output_type": "stream",
     "text": [
      "2025-03-02 22:38:00 [urllib3.connectionpool] DEBUG: https://upload.wikimedia.org:443 \"GET /wikipedia/commons/thumb/6/63/Ben-Hur-1925.jpg/220px-Ben-Hur-1925.jpg HTTP/1.1\" 200 34160\n",
      "2025-03-02 22:38:00 [scrapy.pipelines.media] ERROR: [Failure instance: Traceback: <class 'scrapy.pipelines.files.FileException'>: \n",
      "/Library/Frameworks/Python.framework/Versions/3.13/lib/python3.13/site-packages/twisted/internet/defer.py:1088:_runCallbacks\n",
      "/Library/Frameworks/Python.framework/Versions/3.13/lib/python3.13/site-packages/scrapy/pipelines/files.py:627:media_failed\n",
      "]\n",
      "NoneType: None\n",
      "2025-03-02 22:38:00 [scrapy.pipelines.media] ERROR: [Failure instance: Traceback: <class 'scrapy.pipelines.files.FileException'>: \n",
      "/Library/Frameworks/Python.framework/Versions/3.13/lib/python3.13/site-packages/twisted/internet/defer.py:1088:_runCallbacks\n",
      "/Library/Frameworks/Python.framework/Versions/3.13/lib/python3.13/site-packages/scrapy/pipelines/files.py:627:media_failed\n",
      "]\n",
      "NoneType: None\n",
      "2025-03-02 22:38:00 [scrapy.pipelines.media] ERROR: [Failure instance: Traceback: <class 'scrapy.pipelines.files.FileException'>: \n",
      "/Library/Frameworks/Python.framework/Versions/3.13/lib/python3.13/site-packages/twisted/internet/defer.py:1088:_runCallbacks\n",
      "/Library/Frameworks/Python.framework/Versions/3.13/lib/python3.13/site-packages/scrapy/pipelines/files.py:627:media_failed\n",
      "]\n",
      "NoneType: None\n",
      "2025-03-02 22:38:00 [scrapy.pipelines.media] ERROR: [Failure instance: Traceback: <class 'scrapy.pipelines.files.FileException'>: \n",
      "/Library/Frameworks/Python.framework/Versions/3.13/lib/python3.13/site-packages/twisted/internet/defer.py:1088:_runCallbacks\n",
      "/Library/Frameworks/Python.framework/Versions/3.13/lib/python3.13/site-packages/scrapy/pipelines/files.py:627:media_failed\n",
      "]\n",
      "NoneType: None\n",
      "2025-03-02 22:38:00 [urllib3.connectionpool] DEBUG: Starting new HTTPS connection (1): upload.wikimedia.org:443\n"
     ]
    },
    {
     "name": "stdout",
     "output_type": "stream",
     "text": [
      "saved in images/Ben-Hur:_A_Tale_of_the_Christ/Ben-Hur:_A_Tale_of_the_Christ.jpg\n",
      "erroe: \n"
     ]
    },
    {
     "name": "stderr",
     "output_type": "stream",
     "text": [
      "2025-03-02 22:38:00 [urllib3.connectionpool] DEBUG: https://upload.wikimedia.org:443 \"GET /wikipedia/commons/thumb/4/44/Douglas_Fairbanks_Robin_Hood_1922_film_poster.jpg/220px-Douglas_Fairbanks_Robin_Hood_1922_film_poster.jpg HTTP/1.1\" 200 38637\n",
      "2025-03-02 22:38:00 [scrapy.pipelines.media] ERROR: [Failure instance: Traceback: <class 'scrapy.pipelines.files.FileException'>: \n",
      "/Library/Frameworks/Python.framework/Versions/3.13/lib/python3.13/site-packages/twisted/internet/defer.py:1088:_runCallbacks\n",
      "/Library/Frameworks/Python.framework/Versions/3.13/lib/python3.13/site-packages/scrapy/pipelines/files.py:627:media_failed\n",
      "]\n",
      "NoneType: None\n",
      "2025-03-02 22:38:00 [urllib3.connectionpool] DEBUG: Starting new HTTPS connection (1): upload.wikimedia.org:443\n"
     ]
    },
    {
     "name": "stdout",
     "output_type": "stream",
     "text": [
      "saved in images/Douglas_Fairbanks_in_Robin_Hood/Douglas_Fairbanks_in_Robin_Hood.jpg\n",
      "erroe: \n"
     ]
    },
    {
     "name": "stderr",
     "output_type": "stream",
     "text": [
      "2025-03-02 22:38:01 [urllib3.connectionpool] DEBUG: https://upload.wikimedia.org:443 \"GET /wikipedia/commons/thumb/f/f1/Waydowneast1.jpg/220px-Waydowneast1.jpg HTTP/1.1\" 403 2184\n",
      "2025-03-02 22:38:01 [scrapy.pipelines.media] ERROR: [Failure instance: Traceback: <class 'scrapy.pipelines.files.FileException'>: \n",
      "/Library/Frameworks/Python.framework/Versions/3.13/lib/python3.13/site-packages/twisted/internet/defer.py:1088:_runCallbacks\n",
      "/Library/Frameworks/Python.framework/Versions/3.13/lib/python3.13/site-packages/scrapy/pipelines/files.py:627:media_failed\n",
      "]\n",
      "NoneType: None\n",
      "2025-03-02 22:38:01 [urllib3.connectionpool] DEBUG: Starting new HTTPS connection (1): upload.wikimedia.org:443\n"
     ]
    },
    {
     "name": "stdout",
     "output_type": "stream",
     "text": [
      "error: 403\n"
     ]
    },
    {
     "name": "stderr",
     "output_type": "stream",
     "text": [
      "2025-03-02 22:38:01 [urllib3.connectionpool] DEBUG: https://upload.wikimedia.org:443 \"GET /wikipedia/commons/thumb/e/e4/Miracle_Man_poster.jpg/220px-Miracle_Man_poster.jpg HTTP/1.1\" 403 2184\n",
      "2025-03-02 22:38:01 [scrapy.pipelines.media] ERROR: [Failure instance: Traceback: <class 'scrapy.pipelines.files.FileException'>: \n",
      "/Library/Frameworks/Python.framework/Versions/3.13/lib/python3.13/site-packages/twisted/internet/defer.py:1088:_runCallbacks\n",
      "/Library/Frameworks/Python.framework/Versions/3.13/lib/python3.13/site-packages/scrapy/pipelines/files.py:627:media_failed\n",
      "]\n",
      "NoneType: None\n",
      "2025-03-02 22:38:01 [scrapy.core.scraper] DEBUG: Scraped from <200 https://en.wikipedia.org/wiki/Ben-Hur_(1925_film)>\n",
      "{'box_office': 10700000.0,\n",
      " 'countries': ['United States'],\n",
      " 'directors': ['Fred Niblo', 'Charles Brabin'],\n",
      " 'image_urls': ['https://upload.wikimedia.org/wikipedia/commons/thumb/6/63/Ben-Hur-1925.jpg/220px-Ben-Hur-1925.jpg'],\n",
      " 'images': [],\n",
      " 'title': 'Ben-Hur: A Tale of the Christ',\n",
      " 'year': 1925}\n",
      "2025-03-02 22:38:01 [urllib3.connectionpool] DEBUG: Starting new HTTPS connection (1): upload.wikimedia.org:443\n"
     ]
    },
    {
     "name": "stdout",
     "output_type": "stream",
     "text": [
      "error: 403\n"
     ]
    },
    {
     "name": "stderr",
     "output_type": "stream",
     "text": [
      "2025-03-02 22:38:01 [urllib3.connectionpool] DEBUG: https://upload.wikimedia.org:443 \"GET /wikipedia/commons/thumb/2/28/The_Big_Parade_%281925%29_poster.jpg/220px-The_Big_Parade_%281925%29_poster.jpg HTTP/1.1\" 403 2184\n",
      "2025-03-02 22:38:01 [urllib3.connectionpool] DEBUG: Starting new HTTPS connection (1): upload.wikimedia.org:443\n"
     ]
    },
    {
     "name": "stdout",
     "output_type": "stream",
     "text": [
      "error: 403\n"
     ]
    },
    {
     "name": "stderr",
     "output_type": "stream",
     "text": [
      "2025-03-02 22:38:02 [urllib3.connectionpool] DEBUG: https://upload.wikimedia.org:443 \"GET /wikipedia/commons/thumb/1/1a/The_Sea_Hawk_-_1924_theatrical_poster.jpg/220px-The_Sea_Hawk_-_1924_theatrical_poster.jpg HTTP/1.1\" 403 2184\n",
      "2025-03-02 22:38:02 [urllib3.connectionpool] DEBUG: Starting new HTTPS connection (1): upload.wikimedia.org:443\n"
     ]
    },
    {
     "name": "stdout",
     "output_type": "stream",
     "text": [
      "error: 403\n"
     ]
    },
    {
     "name": "stderr",
     "output_type": "stream",
     "text": [
      "2025-03-02 22:38:02 [urllib3.connectionpool] DEBUG: https://upload.wikimedia.org:443 \"GET /wikipedia/commons/thumb/a/a5/The_Covered_Wagon_poster.jpg/220px-The_Covered_Wagon_poster.jpg HTTP/1.1\" 403 2184\n",
      "2025-03-02 22:38:02 [scrapy.core.scraper] DEBUG: Scraped from <200 https://en.wikipedia.org/wiki/The_Big_Parade>\n",
      "{'box_office': 18000000.0,\n",
      " 'countries': ['United States'],\n",
      " 'directors': ['King Vidor'],\n",
      " 'image_urls': ['https://upload.wikimedia.org/wikipedia/commons/thumb/2/28/The_Big_Parade_%281925%29_poster.jpg/220px-The_Big_Parade_%281925%29_poster.jpg'],\n",
      " 'images': [],\n",
      " 'title': 'The Big Parade',\n",
      " 'year': 1925}\n",
      "2025-03-02 22:38:02 [scrapy.core.scraper] DEBUG: Scraped from <200 https://en.wikipedia.org/wiki/The_Sea_Hawk_(1924_film)>\n",
      "{'box_office': 2000000.0,\n",
      " 'countries': ['United States'],\n",
      " 'directors': ['Frank Lloyd'],\n",
      " 'image_urls': ['https://upload.wikimedia.org/wikipedia/commons/thumb/1/1a/The_Sea_Hawk_-_1924_theatrical_poster.jpg/220px-The_Sea_Hawk_-_1924_theatrical_poster.jpg'],\n",
      " 'images': [],\n",
      " 'title': 'The Sea Hawk',\n",
      " 'year': 1924}\n",
      "2025-03-02 22:38:02 [scrapy.core.scraper] DEBUG: Scraped from <200 https://en.wikipedia.org/wiki/The_Covered_Wagon>\n",
      "{'box_office': 4000000.0,\n",
      " 'countries': ['United States'],\n",
      " 'directors': ['James Cruze'],\n",
      " 'image_urls': ['https://upload.wikimedia.org/wikipedia/commons/thumb/a/a5/The_Covered_Wagon_poster.jpg/220px-The_Covered_Wagon_poster.jpg'],\n",
      " 'images': [],\n",
      " 'title': 'The Covered Wagon',\n",
      " 'year': 1923}\n",
      "2025-03-02 22:38:02 [scrapy.core.scraper] DEBUG: Scraped from <200 https://en.wikipedia.org/wiki/Douglas_Fairbanks_in_Robin_Hood>\n",
      "{'box_office': 2500000.0,\n",
      " 'countries': ['United States'],\n",
      " 'directors': ['Allan Dwan'],\n",
      " 'image_urls': ['https://upload.wikimedia.org/wikipedia/commons/thumb/4/44/Douglas_Fairbanks_Robin_Hood_1922_film_poster.jpg/220px-Douglas_Fairbanks_Robin_Hood_1922_film_poster.jpg'],\n",
      " 'images': [],\n",
      " 'title': 'Douglas Fairbanks in Robin Hood',\n",
      " 'year': 1922}\n",
      "2025-03-02 22:38:02 [scrapy.core.scraper] DEBUG: Scraped from <200 https://en.wikipedia.org/wiki/Way_Down_East>\n",
      "{'box_office': 7500000.0,\n",
      " 'countries': ['United States'],\n",
      " 'directors': ['D. W. Griffith'],\n",
      " 'image_urls': ['https://upload.wikimedia.org/wikipedia/commons/thumb/f/f1/Waydowneast1.jpg/220px-Waydowneast1.jpg'],\n",
      " 'images': [],\n",
      " 'title': 'Way Down East',\n",
      " 'year': 1920}\n",
      "2025-03-02 22:38:02 [scrapy.core.scraper] DEBUG: Scraped from <200 https://en.wikipedia.org/wiki/The_Miracle_Man_(1919_film)>\n",
      "{'box_office': 1000000.0,\n",
      " 'countries': ['United States'],\n",
      " 'directors': ['George Loane Tucker'],\n",
      " 'image_urls': ['https://upload.wikimedia.org/wikipedia/commons/thumb/e/e4/Miracle_Man_poster.jpg/220px-Miracle_Man_poster.jpg'],\n",
      " 'images': [],\n",
      " 'title': 'The Miracle Man',\n",
      " 'year': 1919}\n",
      "2025-03-02 22:38:02 [urllib3.connectionpool] DEBUG: Starting new HTTPS connection (1): upload.wikimedia.org:443\n"
     ]
    },
    {
     "name": "stdout",
     "output_type": "stream",
     "text": [
      "error: 403\n"
     ]
    },
    {
     "name": "stderr",
     "output_type": "stream",
     "text": [
      "2025-03-02 22:38:02 [urllib3.connectionpool] DEBUG: https://upload.wikimedia.org:443 \"GET /wikipedia/commons/thumb/2/27/Four_Horsemen_of_the_Apocalypse_Poster.jpg/220px-Four_Horsemen_of_the_Apocalypse_Poster.jpg HTTP/1.1\" 403 2184\n",
      "2025-03-02 22:38:02 [scrapy.core.scraper] DEBUG: Scraped from <200 https://en.wikipedia.org/wiki/The_Four_Horsemen_of_the_Apocalypse_(film)>\n",
      "{'box_office': 9200000.0,\n",
      " 'countries': [],\n",
      " 'directors': ['Rex Ingram'],\n",
      " 'image_urls': ['https://upload.wikimedia.org/wikipedia/commons/thumb/2/27/Four_Horsemen_of_the_Apocalypse_Poster.jpg/220px-Four_Horsemen_of_the_Apocalypse_Poster.jpg'],\n",
      " 'images': [],\n",
      " 'title': 'The Four Horsemen of the Apocalypse',\n",
      " 'year': 1921}\n",
      "2025-03-02 22:38:02 [scrapy.pipelines.media] ERROR: [Failure instance: Traceback: <class 'scrapy.pipelines.files.FileException'>: \n",
      "/Library/Frameworks/Python.framework/Versions/3.13/lib/python3.13/site-packages/twisted/internet/defer.py:1088:_runCallbacks\n",
      "/Library/Frameworks/Python.framework/Versions/3.13/lib/python3.13/site-packages/scrapy/pipelines/files.py:627:media_failed\n",
      "]\n",
      "NoneType: None\n",
      "2025-03-02 22:38:02 [urllib3.connectionpool] DEBUG: Starting new HTTPS connection (1): upload.wikimedia.org:443\n"
     ]
    },
    {
     "name": "stdout",
     "output_type": "stream",
     "text": [
      "error: 403\n"
     ]
    },
    {
     "name": "stderr",
     "output_type": "stream",
     "text": [
      "2025-03-02 22:38:03 [urllib3.connectionpool] DEBUG: https://upload.wikimedia.org:443 \"GET /wikipedia/commons/thumb/e/e2/Mickey_Poster.jpg/220px-Mickey_Poster.jpg HTTP/1.1\" 403 2184\n",
      "2025-03-02 22:38:03 [scrapy.pipelines.media] ERROR: [Failure instance: Traceback: <class 'scrapy.pipelines.files.FileException'>: \n",
      "/Library/Frameworks/Python.framework/Versions/3.13/lib/python3.13/site-packages/twisted/internet/defer.py:1088:_runCallbacks\n",
      "/Library/Frameworks/Python.framework/Versions/3.13/lib/python3.13/site-packages/scrapy/pipelines/files.py:627:media_failed\n",
      "]\n",
      "NoneType: None\n",
      "2025-03-02 22:38:03 [urllib3.connectionpool] DEBUG: Starting new HTTPS connection (1): upload.wikimedia.org:443\n"
     ]
    },
    {
     "name": "stdout",
     "output_type": "stream",
     "text": [
      "error: 403\n"
     ]
    },
    {
     "name": "stderr",
     "output_type": "stream",
     "text": [
      "2025-03-02 22:38:03 [urllib3.connectionpool] DEBUG: https://upload.wikimedia.org:443 \"GET /wikipedia/commons/thumb/c/cc/Cleopatra1917.jpg/220px-Cleopatra1917.jpg HTTP/1.1\" 200 38353\n",
      "2025-03-02 22:38:03 [scrapy.pipelines.media] ERROR: [Failure instance: Traceback: <class 'scrapy.pipelines.files.FileException'>: \n",
      "/Library/Frameworks/Python.framework/Versions/3.13/lib/python3.13/site-packages/twisted/internet/defer.py:1088:_runCallbacks\n",
      "/Library/Frameworks/Python.framework/Versions/3.13/lib/python3.13/site-packages/scrapy/pipelines/files.py:627:media_failed\n",
      "]\n",
      "NoneType: None\n",
      "2025-03-02 22:38:03 [scrapy.core.scraper] DEBUG: Scraped from <200 https://en.wikipedia.org/wiki/Mickey_(1918_film)>\n",
      "{'box_office': 16450000.0,\n",
      " 'countries': ['United States'],\n",
      " 'directors': ['F. Richard Jones'],\n",
      " 'image_urls': ['https://upload.wikimedia.org/wikipedia/commons/thumb/e/e2/Mickey_Poster.jpg/220px-Mickey_Poster.jpg'],\n",
      " 'images': [],\n",
      " 'title': 'Mickey',\n",
      " 'year': 1918}\n",
      "2025-03-02 22:38:03 [scrapy.core.scraper] DEBUG: Scraped from <200 https://en.wikipedia.org/wiki/Cleopatra_(1917_film)>\n",
      "{'box_office': 1000000.0,\n",
      " 'countries': ['United States'],\n",
      " 'directors': ['J. Gordon Edwards'],\n",
      " 'image_urls': ['https://upload.wikimedia.org/wikipedia/commons/thumb/c/cc/Cleopatra1917.jpg/220px-Cleopatra1917.jpg'],\n",
      " 'images': [],\n",
      " 'title': 'Cleopatra',\n",
      " 'year': 1917}\n",
      "2025-03-02 22:38:03 [urllib3.connectionpool] DEBUG: Starting new HTTPS connection (1): upload.wikimedia.org:443\n"
     ]
    },
    {
     "name": "stdout",
     "output_type": "stream",
     "text": [
      "saved in images/Cleopatra/Cleopatra.jpg\n",
      "erroe: \n"
     ]
    },
    {
     "name": "stderr",
     "output_type": "stream",
     "text": [
      "2025-03-02 22:38:03 [urllib3.connectionpool] DEBUG: https://upload.wikimedia.org:443 \"GET /wikipedia/commons/thumb/8/88/Intolerance_%28film%29.jpg/220px-Intolerance_%28film%29.jpg HTTP/1.1\" 403 2184\n",
      "2025-03-02 22:38:03 [scrapy.core.scraper] DEBUG: Scraped from <200 https://en.wikipedia.org/wiki/Intolerance_(film)>\n",
      "{'box_office': 1750000.0,\n",
      " 'countries': ['United States'],\n",
      " 'directors': ['D. W. Griffith'],\n",
      " 'image_urls': ['https://upload.wikimedia.org/wikipedia/commons/thumb/8/88/Intolerance_%28film%29.jpg/220px-Intolerance_%28film%29.jpg'],\n",
      " 'images': [],\n",
      " 'title': 'Intolerance',\n",
      " 'year': 1916}\n",
      "2025-03-02 22:38:03 [scrapy.core.engine] INFO: Closing spider (finished)\n",
      "2025-03-02 22:38:03 [scrapy.extensions.feedexport] INFO: Stored json feed (331 items) in: movies_spider.json\n",
      "2025-03-02 22:38:03 [scrapy.statscollectors] INFO: Dumping Scrapy stats:\n",
      "{'downloader/exception_count': 331,\n",
      " 'downloader/exception_type_count/scrapy.exceptions.IgnoreRequest': 331,\n",
      " 'downloader/request_bytes': 162163,\n",
      " 'downloader/request_count': 341,\n",
      " 'downloader/request_method_count/GET': 341,\n",
      " 'downloader/response_bytes': 29110774,\n",
      " 'downloader/response_count': 341,\n",
      " 'downloader/response_status_count/200': 341,\n",
      " 'dupefilter/filtered': 105,\n",
      " 'elapsed_time_seconds': 209.327427,\n",
      " 'feedexport/success_count/FileFeedStorage': 1,\n",
      " 'finish_reason': 'finished',\n",
      " 'finish_time': datetime.datetime(2025, 3, 2, 19, 38, 3, 868017, tzinfo=datetime.timezone.utc),\n",
      " 'httpcompression/response_bytes': 161297787,\n",
      " 'httpcompression/response_count': 341,\n",
      " 'item_scraped_count': 331,\n",
      " 'items_per_minute': None,\n",
      " 'log_count/DEBUG': 1340,\n",
      " 'log_count/ERROR': 338,\n",
      " 'log_count/INFO': 14,\n",
      " 'memusage/max': 345636864,\n",
      " 'memusage/startup': 77561856,\n",
      " 'offsite/domains': 1,\n",
      " 'offsite/filtered': 331,\n",
      " 'request_depth_max': 1,\n",
      " 'response_received_count': 341,\n",
      " 'responses_per_minute': None,\n",
      " 'robotstxt/request_count': 1,\n",
      " 'robotstxt/response_count': 1,\n",
      " 'robotstxt/response_status_count/200': 1,\n",
      " 'scheduler/dequeued': 340,\n",
      " 'scheduler/dequeued/memory': 340,\n",
      " 'scheduler/enqueued': 340,\n",
      " 'scheduler/enqueued/memory': 340,\n",
      " 'spider_exceptions/AttributeError': 7,\n",
      " 'start_time': datetime.datetime(2025, 3, 2, 19, 34, 34, 540590, tzinfo=datetime.timezone.utc)}\n",
      "2025-03-02 22:38:03 [scrapy.core.engine] INFO: Spider closed (finished)\n"
     ]
    },
    {
     "name": "stdout",
     "output_type": "stream",
     "text": [
      "error: 403\n"
     ]
    }
   ],
   "source": [
    "clear_database()\n",
    "create_tables()\n",
    "run_scrapy()"
   ]
  },
  {
   "cell_type": "code",
   "execution_count": 6,
   "metadata": {},
   "outputs": [
    {
     "name": "stdout",
     "output_type": "stream",
     "text": [
      "2025-03-02 22:38:04,210 INFO sqlalchemy.engine.Engine BEGIN (implicit)\n",
      "2025-03-02 22:38:04,219 INFO sqlalchemy.engine.Engine INSERT INTO films (title, release_year, director, box_office, country, image_url) SELECT p0::VARCHAR, p1::INTEGER, p2::VARCHAR, p3::FLOAT, p4::VARCHAR, p5::VARCHAR FROM (VALUES (%(title__0)s, %(release_year__0)s, %(director__0)s, %(box_office__0)s, % ... 40207 characters truncated ... _sen(p0, p1, p2, p3, p4, p5, sen_counter) ORDER BY sen_counter RETURNING films.id, films.id AS id__1\n",
      "2025-03-02 22:38:04,219 INFO sqlalchemy.engine.Engine [generated in 0.00053s (insertmanyvalues) 1/1 (ordered)] {'title__0': 'The Birth of a Nation', 'box_office__0': 50000000.0, 'director__0': 'D. W. Griffith', 'image_url__0': 'https://upload.wikimedia.org/wikipedia/commons/thumb/6/61/Birth_of_a_Nation_theatrical_poster.jpg/220px-Birth_of_a_Nation_theatrical_poster.jpg', 'release_year__0': 1915, 'country__0': 'United States', 'title__1': 'The Sting', 'box_office__1': 257000000.0, 'director__1': 'George Roy Hill', 'image_url__1': 'https://upload.wikimedia.org/wikipedia/commons/thumb/a/aa/The_Sting_%281973_alt_poster%29.jpeg/220px-The_Sting_%281973_alt_poster%29.jpeg', 'release_year__1': 1973, 'country__1': 'United States', 'title__2': 'The Towering Inferno', 'box_office__2': 203300000.0, 'director__2': 'John Guillermin, Irwin Allen', 'image_url__2': 'https://upload.wikimedia.org/wikipedia/en/thumb/5/5c/Towering_inferno_movie_poster.jpg/220px-Towering_inferno_movie_poster.jpg', 'release_year__2': 1974, 'country__2': 'United States', 'title__3': 'Rocky II', 'box_office__3': 200100000.0, 'director__3': 'Sylvester Stallone', 'image_url__3': 'https://upload.wikimedia.org/wikipedia/en/thumb/b/bc/Rocky_ii_poster.jpg/220px-Rocky_ii_poster.jpg', 'release_year__3': 1979, 'country__3': 'United States', 'title__4': 'Grease', 'box_office__4': 396300000.0, 'director__4': 'Randal Kleiser', 'image_url__4': 'https://upload.wikimedia.org/wikipedia/en/thumb/e/e2/Grease_ver2.jpg/220px-Grease_ver2.jpg', 'release_year__4': 1978, 'country__4': 'United States', 'title__5': 'Moonraker', 'box_office__5': 210300000.0, 'director__5': 'Lewis Gilbert', 'image_url__5': 'https://upload.wikimedia.org/wikipedia/en/thumb/6/66/Moonraker_%28UK_cinema_poster%29.jpg/220px-Moonraker_%28UK_cinema_poster%29.jpg', 'release_year__5': 1979, 'country__5': 'United Kingdom, United States, France', 'title__6': 'Jaws', 'box_office__6': 476500000.0, 'director__6': 'Steven Spielberg', 'image_url__6': 'https://upload.wikimedia.org/wikipedia/commons/thumb/4/40/Jaws_movie_poster.jpg/220px-Jaws_movie_poster.jpg', 'release_year__6': 1975, 'country__6': 'United States', 'title__7': 'Rocky', 'box_office__7': 225000000.0, 'director__7': 'John G. Avildsen', 'image_url__7': 'https://upload.wikimedia.org/wikipedia/en/thumb/1/18/Rocky_poster.jpg/220px-Rocky_poster.jpg', 'release_year__7': 1976, 'country__7': 'United States', 'title__8': 'The Exorcist', 'box_office__8': 441300000.0 ... 1886 parameters truncated ... 'release_year__322': 1924, 'country__322': 'United States', 'title__323': 'The Covered Wagon', 'box_office__323': 4000000.0, 'director__323': 'James Cruze', 'image_url__323': 'https://upload.wikimedia.org/wikipedia/commons/thumb/a/a5/The_Covered_Wagon_poster.jpg/220px-The_Covered_Wagon_poster.jpg', 'release_year__323': 1923, 'country__323': 'United States', 'title__324': 'Douglas Fairbanks in Robin Hood', 'box_office__324': 2500000.0, 'director__324': 'Allan Dwan', 'image_url__324': 'https://upload.wikimedia.org/wikipedia/commons/thumb/4/44/Douglas_Fairbanks_Robin_Hood_1922_film_poster.jpg/220px-Douglas_Fairbanks_Robin_Hood_1922_film_poster.jpg', 'release_year__324': 1922, 'country__324': 'United States', 'title__325': 'Way Down East', 'box_office__325': 7500000.0, 'director__325': 'D. W. Griffith', 'image_url__325': 'https://upload.wikimedia.org/wikipedia/commons/thumb/f/f1/Waydowneast1.jpg/220px-Waydowneast1.jpg', 'release_year__325': 1920, 'country__325': 'United States', 'title__326': 'The Miracle Man', 'box_office__326': 1000000.0, 'director__326': 'George Loane Tucker', 'image_url__326': 'https://upload.wikimedia.org/wikipedia/commons/thumb/e/e4/Miracle_Man_poster.jpg/220px-Miracle_Man_poster.jpg', 'release_year__326': 1919, 'country__326': 'United States', 'title__327': 'The Four Horsemen of the Apocalypse', 'box_office__327': 9200000.0, 'director__327': 'Rex Ingram', 'image_url__327': 'https://upload.wikimedia.org/wikipedia/commons/thumb/2/27/Four_Horsemen_of_the_Apocalypse_Poster.jpg/220px-Four_Horsemen_of_the_Apocalypse_Poster.jpg', 'release_year__327': 1921, 'country__327': '', 'title__328': 'Mickey', 'box_office__328': 16450000.0, 'director__328': 'F. Richard Jones', 'image_url__328': 'https://upload.wikimedia.org/wikipedia/commons/thumb/e/e2/Mickey_Poster.jpg/220px-Mickey_Poster.jpg', 'release_year__328': 1918, 'country__328': 'United States', 'title__329': 'Cleopatra', 'box_office__329': 1000000.0, 'director__329': 'J. Gordon Edwards', 'image_url__329': 'https://upload.wikimedia.org/wikipedia/commons/thumb/c/cc/Cleopatra1917.jpg/220px-Cleopatra1917.jpg', 'release_year__329': 1917, 'country__329': 'United States', 'title__330': 'Intolerance', 'box_office__330': 1750000.0, 'director__330': 'D. W. Griffith', 'image_url__330': 'https://upload.wikimedia.org/wikipedia/commons/thumb/8/88/Intolerance_%28film%29.jpg/220px-Intolerance_%28film%29.jpg', 'release_year__330': 1916, 'country__330': 'United States'}\n",
      "2025-03-02 22:38:04,242 INFO sqlalchemy.engine.Engine COMMIT\n",
      "2025-03-02 22:38:04,243 INFO sqlalchemy.engine.Engine BEGIN (implicit)\n",
      "2025-03-02 22:38:04,244 INFO sqlalchemy.engine.Engine SELECT films.id, films.title, films.release_year, films.director, films.box_office, films.country, films.image_url \n",
      "FROM films\n",
      "2025-03-02 22:38:04,244 INFO sqlalchemy.engine.Engine [generated in 0.00023s] {}\n",
      "Title: The Birth of a Nation, Year: 1915, Director: D. W. Griffith, URL: https://upload.wikimedia.org/wikipedia/commons/thumb/6/61/Birth_of_a_Nation_theatrical_poster.jpg/220px-Birth_of_a_Nation_theatrical_poster.jpg\n",
      "Title: The Sting, Year: 1973, Director: George Roy Hill, URL: https://upload.wikimedia.org/wikipedia/commons/thumb/a/aa/The_Sting_%281973_alt_poster%29.jpeg/220px-The_Sting_%281973_alt_poster%29.jpeg\n",
      "Title: The Towering Inferno, Year: 1974, Director: John Guillermin, Irwin Allen, URL: https://upload.wikimedia.org/wikipedia/en/thumb/5/5c/Towering_inferno_movie_poster.jpg/220px-Towering_inferno_movie_poster.jpg\n",
      "Title: Rocky II, Year: 1979, Director: Sylvester Stallone, URL: https://upload.wikimedia.org/wikipedia/en/thumb/b/bc/Rocky_ii_poster.jpg/220px-Rocky_ii_poster.jpg\n",
      "Title: Grease, Year: 1978, Director: Randal Kleiser, URL: https://upload.wikimedia.org/wikipedia/en/thumb/e/e2/Grease_ver2.jpg/220px-Grease_ver2.jpg\n",
      "Title: Moonraker, Year: 1979, Director: Lewis Gilbert, URL: https://upload.wikimedia.org/wikipedia/en/thumb/6/66/Moonraker_%28UK_cinema_poster%29.jpg/220px-Moonraker_%28UK_cinema_poster%29.jpg\n",
      "Title: Jaws, Year: 1975, Director: Steven Spielberg, URL: https://upload.wikimedia.org/wikipedia/commons/thumb/4/40/Jaws_movie_poster.jpg/220px-Jaws_movie_poster.jpg\n",
      "Title: Rocky, Year: 1976, Director: John G. Avildsen, URL: https://upload.wikimedia.org/wikipedia/en/thumb/1/18/Rocky_poster.jpg/220px-Rocky_poster.jpg\n",
      "Title: The Exorcist, Year: 1973, Director: William Friedkin, URL: https://upload.wikimedia.org/wikipedia/en/thumb/7/7b/Exorcist_ver2.jpg/220px-Exorcist_ver2.jpg\n",
      "Title: Star Wars, Year: 1977, Director: George Lucas, URL: https://upload.wikimedia.org/wikipedia/en/thumb/8/87/StarWarsMoviePoster1977.jpg/220px-StarWarsMoviePoster1977.jpg\n",
      "Title: Diamonds Are Forever, Year: 1971, Director: Guy Hamilton, URL: https://upload.wikimedia.org/wikipedia/en/thumb/7/77/Diamonds_Are_Forever_-_UK_cinema_poster.jpg/220px-Diamonds_Are_Forever_-_UK_cinema_poster.jpg\n",
      "Title: The French Connection, Year: 1971, Director: William Friedkin, URL: https://upload.wikimedia.org/wikipedia/en/thumb/b/b8/TheFrenchConnection.jpg/220px-TheFrenchConnection.jpg\n",
      "Title: Fiddler on the Roof, Year: 1971, Director: Norman Jewison, URL: https://upload.wikimedia.org/wikipedia/en/thumb/5/5e/Fiddler_on_the_roof.jpg/220px-Fiddler_on_the_roof.jpg\n",
      "Title: Love Story, Year: 1970, Director: Arthur Hiller, URL: https://upload.wikimedia.org/wikipedia/en/thumb/b/b7/Love_Story_%281970_film%29.jpg/220px-Love_Story_%281970_film%29.jpg\n",
      "Title: Butch Cassidy and the Sundance Kid, Year: 1969, Director: George Roy Hill, URL: https://upload.wikimedia.org/wikipedia/en/thumb/f/fd/Butch_sundance_poster.jpg/220px-Butch_sundance_poster.jpg\n",
      "Title: The Godfather, Year: 1972, Director: Francis Ford Coppola, URL: https://upload.wikimedia.org/wikipedia/en/1/1c/Godfather_ver1.jpg\n",
      "Title: The Twilight Saga:, Year: 2012, Director: Bill Condon, URL: https://upload.wikimedia.org/wikipedia/en/4/49/The_Twilight_Saga_Breaking_Dawn_Part_2_poster.jpg\n",
      "Title: The Twilight Saga:, Year: 2009, Director: Chris Weitz, URL: https://upload.wikimedia.org/wikipedia/en/9/93/The_Twilight_Saga-_New_Moon_poster.JPG\n",
      "Title: Twilight, Year: 2008, Director: Catherine Hardwicke, URL: https://upload.wikimedia.org/wikipedia/en/thumb/b/b6/Twilight_%282008_film%29_poster.jpg/220px-Twilight_%282008_film%29_poster.jpg\n",
      "Title: Mufasa: The Lion King, Year: 2024, Director: Barry Jenkins, URL: https://upload.wikimedia.org/wikipedia/en/thumb/0/0b/Mufasa_The_Lion_King_Movie_2024.jpeg/220px-Mufasa_The_Lion_King_Movie_2024.jpeg\n",
      "Title: The Lion King, Year: 2019, Director: Jon Favreau, URL: https://upload.wikimedia.org/wikipedia/en/9/9d/Disney_The_Lion_King_2019.jpg\n",
      "Title: The Twilight Saga: Eclipse, Year: 2010, Director: David Slade, URL: https://upload.wikimedia.org/wikipedia/en/thumb/d/d7/Eclipse_Theatrical_One-Sheet.jpg/220px-Eclipse_Theatrical_One-Sheet.jpg\n",
      "Title: The Twilight Saga:, Year: 2011, Director: Bill Condon, URL: https://upload.wikimedia.org/wikipedia/en/thumb/c/c2/Breaking_Dawn_Part_1_Poster.jpg/220px-Breaking_Dawn_Part_1_Poster.jpg\n",
      "Title: Puss in Boots: The Last Wish, Year: 2022, Director: Joel Crawford, URL: https://upload.wikimedia.org/wikipedia/en/thumb/7/78/Puss_in_Boots_The_Last_Wish_poster.jpg/220px-Puss_in_Boots_The_Last_Wish_poster.jpg\n",
      "Title: Puss in Boots, Year: 2011, Director: Chris Miller, URL: https://upload.wikimedia.org/wikipedia/en/thumb/2/2a/Puss_in_Boots_%282011_animated_feature_film%29.jpg/220px-Puss_in_Boots_%282011_animated_feature_film%29.jpg\n",
      "Title: Mission: Impossible III, Year: 2006, Director: J. J. Abrams, URL: https://upload.wikimedia.org/wikipedia/en/thumb/b/bc/Mission_Impossible_III.jpg/220px-Mission_Impossible_III.jpg\n",
      "Title: Shrek Forever After, Year: 2010, Director: Mike Mitchell, URL: https://upload.wikimedia.org/wikipedia/en/thumb/7/70/Shrek_Forever_After_%282010_animated_feature_film%29.jpg/220px-Shrek_Forever_After_%282010_animated_feature_film%29.jpg\n",
      "Title: Mission: Impossible, Year: 1996, Director: Brian De Palma, URL: https://upload.wikimedia.org/wikipedia/en/thumb/e/e1/MissionImpossiblePoster.jpg/220px-MissionImpossiblePoster.jpg\n",
      "Title: Shrek the Third, Year: 2007, Director: Chris Miller, URL: https://upload.wikimedia.org/wikipedia/en/2/22/Shrek_the_Third_%282007_animated_feature_film%29.jpg\n",
      "Title: Mission: Impossible – , Year: 2015, Director: Christopher McQuarrie, URL: https://upload.wikimedia.org/wikipedia/en/f/fb/Mission_Impossible_Rogue_Nation_poster.jpg\n",
      "Title: Shrek, Year: 2001, Director: Andrew Adamson, Vicky Jenson, URL: https://upload.wikimedia.org/wikipedia/en/7/7b/Shrek_%282001_animated_feature_film%29.jpg\n",
      "Title: Mission: Impossible –, Year: 2011, Director: Brad Bird, URL: https://upload.wikimedia.org/wikipedia/en/b/b5/Mission_impossible_ghost_protocol.jpg\n",
      "Title: Mission: Impossible – Dead Reckoning Part One, Year: 2023, Director: Christopher McQuarrie, URL: https://upload.wikimedia.org/wikipedia/en/thumb/e/ed/Mission-_Impossible_%E2%80%93_Dead_Reckoning_Part_One_poster.jpg/220px-Mission-_Impossible_%E2%80%93_Dead_Reckoning_Part_One_poster.jpg\n",
      "Title: Bumblebee, Year: 2018, Director: Travis Knight, URL: https://upload.wikimedia.org/wikipedia/en/thumb/7/77/Bumblebee_%28film%29_poster.png/220px-Bumblebee_%28film%29_poster.png\n",
      "Title: Transformers One, Year: 2024, Director: Josh Cooley, URL: https://upload.wikimedia.org/wikipedia/en/thumb/a/a4/Transformers_One_Official_Poster.jpg/220px-Transformers_One_Official_Poster.jpg\n",
      "Title: The Transformers: The Movie, Year: 1986, Director: Nelson Shin, URL: https://upload.wikimedia.org/wikipedia/en/thumb/9/91/Transformers-movieposter-west.jpg/220px-Transformers-movieposter-west.jpg\n",
      "Title: Pirates of the Caribbean:, Year: 2011, Director: Rob Marshall, URL: https://upload.wikimedia.org/wikipedia/en/thumb/5/5e/Pirates_of_the_Caribbean_-_On_Stranger_Tides.png/220px-Pirates_of_the_Caribbean_-_On_Stranger_Tides.png\n",
      "Title: Iron Man, Year: 2008, Director: Jon Favreau, URL: https://upload.wikimedia.org/wikipedia/en/0/02/Iron_Man_%282008_film%29_poster.jpg\n",
      "Title: Pirates of the Caribbean:, Year: 2003, Director: Gore Verbinski, URL: https://upload.wikimedia.org/wikipedia/en/thumb/8/89/Pirates_of_the_Caribbean_-_The_Curse_of_the_Black_Pearl.png/220px-Pirates_of_the_Caribbean_-_The_Curse_of_the_Black_Pearl.png\n",
      "Title: Transformers: Rise of the Beasts, Year: 2023, Director: Steven Caple Jr., URL: https://upload.wikimedia.org/wikipedia/en/thumb/1/1c/Transformers-_Rise_of_the_Beasts.jpg/220px-Transformers-_Rise_of_the_Beasts.jpg\n",
      "Title: Mission: Impossible –, Year: 2018, Director: Christopher McQuarrie, URL: https://upload.wikimedia.org/wikipedia/en/f/ff/MI_%E2%80%93_Fallout.jpg\n",
      "Title: Pirates of the Caribbean:, Year: 2017, Director: Joachim Rønning, Espen Sandberg, URL: https://upload.wikimedia.org/wikipedia/en/2/21/Pirates_of_the_Caribbean%2C_Dead_Men_Tell_No_Tales.jpg\n",
      "Title: Transformers, Year: 2007, Director: Michael Bay, URL: https://upload.wikimedia.org/wikipedia/en/thumb/6/66/Transformers07.jpg/220px-Transformers07.jpg\n",
      "Title: Transformers: The Last Knight, Year: 2017, Director: Michael Bay, URL: https://upload.wikimedia.org/wikipedia/en/2/26/Transformers_The_Last_Knight_poster.jpg\n",
      "Title: Transformers: Revenge of the Fallen, Year: 2009, Director: Michael Bay, URL: https://upload.wikimedia.org/wikipedia/en/thumb/c/cb/TF2SteelPoster.jpg/220px-TF2SteelPoster.jpg\n",
      "Title: Transformers: Dark of the Moon, Year: 2011, Director: Michael Bay, URL: https://upload.wikimedia.org/wikipedia/en/thumb/b/bf/Transformers_dark_of_the_moon_ver5.jpg/220px-Transformers_dark_of_the_moon_ver5.jpg\n",
      "Title: Minions, Year: 2015, Director: Pierre Coffin, Kyle Balda, URL: https://upload.wikimedia.org/wikipedia/en/1/19/Minions_%282015_film%29.jpg\n",
      "Title: Minions: The Rise of Gru, Year: 2022, Director: Kyle Balda, URL: https://upload.wikimedia.org/wikipedia/en/thumb/4/45/Minions_The_Rise_of_Gru_poster.jpg/220px-Minions_The_Rise_of_Gru_poster.jpg\n",
      "Title: Despicable Me, Year: 2010, Director: Chris Renaud, Pierre Coffin, URL: https://upload.wikimedia.org/wikipedia/en/thumb/c/c0/Despicable_Me_%282010_animated_feature_film%29.jpg/220px-Despicable_Me_%282010_animated_feature_film%29.jpg\n",
      "Title: Despicable Me 2, Year: 2013, Director: Chris Renaud, Pierre Coffin, URL: https://upload.wikimedia.org/wikipedia/en/2/29/Despicable_Me_2_poster.jpg\n",
      "Title: Despicable Me 4, Year: 2024, Director: Chris Renaud, URL: https://upload.wikimedia.org/wikipedia/en/thumb/e/ed/Despicable_Me_4_Theatrical_Release_Poster.jpeg/220px-Despicable_Me_4_Theatrical_Release_Poster.jpeg\n",
      "Title: The Hobbit:, Year: 2013, Director: Peter Jackson, URL: https://upload.wikimedia.org/wikipedia/en/4/4f/The_Hobbit_-_The_Desolation_of_Smaug_theatrical_poster.jpg\n",
      "Title: Despicable Me 3, Year: 2017, Director: Pierre Coffin, Kyle Balda, URL: https://upload.wikimedia.org/wikipedia/en/thumb/8/80/Despicable_Me_3_theatrical_release_poster.jpg/220px-Despicable_Me_3_theatrical_release_poster.jpg\n",
      "Title: The Lord of the Rings:, Year: 2024, Director: Kenji Kamiyama, URL: https://upload.wikimedia.org/wikipedia/en/thumb/5/5d/LOTR_The_War_of_the_Rohirrim_poster.jpg/220px-LOTR_The_War_of_the_Rohirrim_poster.jpg\n",
      "Title: The Hobbit: An Unexpected Journey, Year: 2012, Director: Peter Jackson, URL: https://upload.wikimedia.org/wikipedia/en/b/b3/The_Hobbit-_An_Unexpected_Journey.jpeg\n",
      "Title: The Lord of the Rings:, Year: 2001, Director: Peter Jackson, URL: https://upload.wikimedia.org/wikipedia/en/f/fb/Lord_Rings_Fellowship_Ring.jpg\n",
      "Title: The Hobbit, Year: 2012, Director: Peter Jackson, URL: https://upload.wikimedia.org/wikipedia/en/thumb/a/a9/The_Hobbit_trilogy_dvd_cover.jpg/220px-The_Hobbit_trilogy_dvd_cover.jpg\n",
      "Title: The Lord of the Rings, Year: 1978, Director: Ralph Bakshi, URL: https://upload.wikimedia.org/wikipedia/en/thumb/4/40/The_Lord_of_the_Rings_%281978%29.jpg/220px-The_Lord_of_the_Rings_%281978%29.jpg\n",
      "Title: The Hobbit:, Year: 2014, Director: Peter Jackson, URL: https://upload.wikimedia.org/wikipedia/en/thumb/e/e7/The_Hobbit_-_The_Battle_of_the_Five_Armies.png/220px-The_Hobbit_-_The_Battle_of_the_Five_Armies.png\n",
      "Title: The Lost World: Jurassic Park, Year: 1997, Director: Steven Spielberg, URL: https://upload.wikimedia.org/wikipedia/en/thumb/c/cc/The_Lost_World_%E2%80%93_Jurassic_Park_poster.jpg/220px-The_Lost_World_%E2%80%93_Jurassic_Park_poster.jpg\n",
      "Title: Jurassic World, Year: 2015, Director: Colin Trevorrow, URL: https://upload.wikimedia.org/wikipedia/en/thumb/6/6e/Jurassic_World_poster.jpg/220px-Jurassic_World_poster.jpg\n",
      "Title: Batman: , Year: 2016, Director: , URL: https://upload.wikimedia.org/wikipedia/en/thumb/c/cb/Batman-_Return_of_the_Caped_Crusaders.jpeg/220px-Batman-_Return_of_the_Caped_Crusaders.jpeg\n",
      "Title: Batman, Year: 1966, Director: Leslie H. Martinson, URL: https://upload.wikimedia.org/wikipedia/en/thumb/6/69/Batman1966Poster.jpg/220px-Batman1966Poster.jpg\n",
      "Title: Jurassic Park III, Year: 2001, Director: Joe Johnston, URL: https://upload.wikimedia.org/wikipedia/en/thumb/6/6d/Jurassic_Park_III_poster.jpg/220px-Jurassic_Park_III_poster.jpg\n",
      "Title: Jurassic World Dominion, Year: 2022, Director: Colin Trevorrow, URL: https://upload.wikimedia.org/wikipedia/en/thumb/c/ce/JurassicWorldDominion_Poster.jpeg/220px-JurassicWorldDominion_Poster.jpeg\n",
      "Title: Jurassic World: Fallen Kingdom, Year: 2018, Director: J. A. Bayona, URL: https://upload.wikimedia.org/wikipedia/en/thumb/c/c6/Jurassic_World_Fallen_Kingdom.png/220px-Jurassic_World_Fallen_Kingdom.png\n",
      "Title: Batman and Harley Quinn, Year: 2017, Director: Sam Liu, URL: https://upload.wikimedia.org/wikipedia/en/thumb/b/b9/Batman_and_Harley_Quinn_movie_poster.jpeg/220px-Batman_and_Harley_Quinn_movie_poster.jpeg\n",
      "Title: Batman: The Killing Joke, Year: 2016, Director: Sam Liu, URL: https://upload.wikimedia.org/wikipedia/en/thumb/1/11/Batman-The_Killing_Joke_%28film%29.jpg/220px-Batman-The_Killing_Joke_%28film%29.jpg\n",
      "Title: Catwoman, Year: 2004, Director: Pitof, URL: https://upload.wikimedia.org/wikipedia/en/thumb/0/04/Catwoman_poster.jpg/220px-Catwoman_poster.jpg\n",
      "Title: Batman: Mask of the Phantasm, Year: 1993, Director: Eric Radomski, Bruce Timm, URL: https://upload.wikimedia.org/wikipedia/en/thumb/e/ea/Batman_mask_of_the_phantasm_poster.jpg/220px-Batman_mask_of_the_phantasm_poster.jpg\n",
      "Title: The Lego Batman Movie, Year: 2017, Director: Chris McKay, URL: https://upload.wikimedia.org/wikipedia/en/6/61/The_Lego_Batman_Movie_PromotionalPoster.jpg\n",
      "Title: Batman Returns, Year: 1992, Director: Tim Burton, URL: https://upload.wikimedia.org/wikipedia/en/thumb/8/83/Batman_returns_poster2.jpg/220px-Batman_returns_poster2.jpg\n",
      "Title: Batman & Robin, Year: 1997, Director: Joel Schumacher, URL: https://upload.wikimedia.org/wikipedia/en/3/37/Batman_%26_Robin_poster.jpg\n",
      "Title: The Batman, Year: 2022, Director: Matt Reeves, URL: https://upload.wikimedia.org/wikipedia/en/thumb/f/ff/The_Batman_%28film%29_poster.jpg/220px-The_Batman_%28film%29_poster.jpg\n",
      "Title: Blue Beetle, Year: 2023, Director: Ángel Manuel Soto, URL: https://upload.wikimedia.org/wikipedia/en/thumb/6/68/Blue_Beetle_%28film%29_poster.jpg/220px-Blue_Beetle_%28film%29_poster.jpg\n",
      "Title: Batman Forever, Year: 1995, Director: Joel Schumacher, URL: https://upload.wikimedia.org/wikipedia/en/thumb/9/9d/Batman_Forever_poster.png/220px-Batman_Forever_poster.png\n",
      "Title: Batman, Year: 1989, Director: Tim Burton, URL: https://upload.wikimedia.org/wikipedia/en/thumb/5/5a/Batman_%281989%29_theatrical_poster.jpg/220px-Batman_%281989%29_theatrical_poster.jpg\n",
      "Title: Joker: Folie à Deux, Year: 2024, Director: Todd Phillips, URL: https://upload.wikimedia.org/wikipedia/en/thumb/e/e8/Joker_-_Folie_%C3%A0_Deux_poster.jpg/220px-Joker_-_Folie_%C3%A0_Deux_poster.jpg\n",
      "Title: Batman Begins, Year: 2005, Director: Christopher Nolan, URL: https://upload.wikimedia.org/wikipedia/en/thumb/a/af/Batman_Begins_Poster.jpg/220px-Batman_Begins_Poster.jpg\n",
      "Title: The Dark Knight Rises, Year: 2012, Director: Christopher Nolan, URL: https://upload.wikimedia.org/wikipedia/en/8/83/Dark_knight_rises_poster.jpg\n",
      "Title: Joker, Year: 2019, Director: Todd Phillips, URL: https://upload.wikimedia.org/wikipedia/en/thumb/e/e1/Joker_%282019_film%29_poster.jpg/220px-Joker_%282019_film%29_poster.jpg\n",
      "Title: Shazam! Fury of the Gods, Year: 2023, Director: David F. Sandberg, URL: https://upload.wikimedia.org/wikipedia/en/thumb/f/fb/Shazam%21_Fury_of_the_Gods_%282023%29_Main_Poster.png/220px-Shazam%21_Fury_of_the_Gods_%282023%29_Main_Poster.png\n",
      "Title: Birds of Prey (and the Fantabulous Emancipation of One Harley Quinn), Year: 2020, Director: Cathy Yan, URL: https://upload.wikimedia.org/wikipedia/en/1/1c/Birds_of_Prey_%282020_film%29_poster.jpg\n",
      "Title: Black Adam, Year: 2022, Director: Jaume Collet-Serra, URL: https://upload.wikimedia.org/wikipedia/en/thumb/a/a9/Black_Adam_%28film%29_poster.jpg/220px-Black_Adam_%28film%29_poster.jpg\n",
      "Title: Wonder Woman 1984, Year: 2020, Director: Patty Jenkins, URL: https://upload.wikimedia.org/wikipedia/en/thumb/4/4f/Wonder_Woman_1984_poster.png/220px-Wonder_Woman_1984_poster.png\n",
      "Title: The Suicide Squad, Year: 2021, Director: James Gunn, URL: https://upload.wikimedia.org/wikipedia/en/0/06/The_Suicide_Squad_%28film%29_poster.jpg\n",
      "Title: The Flash, Year: 2023, Director: Andy Muschietti, URL: https://upload.wikimedia.org/wikipedia/en/thumb/e/ed/The_Flash_%28film%29_poster.jpg/220px-The_Flash_%28film%29_poster.jpg\n",
      "Title: Shazam!, Year: 2019, Director: David F. Sandberg, URL: https://upload.wikimedia.org/wikipedia/en/thumb/c/c2/Shazam%21_%28film%29_poster.jpg/220px-Shazam%21_%28film%29_poster.jpg\n",
      "Title: Aquaman and the Lost Kingdom, Year: 2023, Director: James Wan, URL: https://upload.wikimedia.org/wikipedia/en/thumb/4/4a/Aquaman_and_the_Lost_Kingdom_poster.jpg/220px-Aquaman_and_the_Lost_Kingdom_poster.jpg\n",
      "Title: The Fast and the Furious: Tokyo Drift, Year: 2006, Director: Justin Lin, URL: https://upload.wikimedia.org/wikipedia/en/thumb/4/4f/Poster_-_Fast_and_Furious_Tokyo_Drift.jpg/220px-Poster_-_Fast_and_Furious_Tokyo_Drift.jpg\n",
      "Title: Fast & Furious Presents:, Year: 2019, Director: David Leitch, URL: https://upload.wikimedia.org/wikipedia/en/thumb/0/00/Fast_%26_Furious_Presents_Hobbs_%26_Shaw_-_theatrical_poster.jpg/220px-Fast_%26_Furious_Presents_Hobbs_%26_Shaw_-_theatrical_poster.jpg\n",
      "Title: Justice League, Year: 2017, Director: Zack Snyder, URL: https://upload.wikimedia.org/wikipedia/en/6/6b/Justice_League_%28film%29_poster.jpg\n",
      "Title: Man of Steel, Year: 2013, Director: Zack Snyder, URL: https://upload.wikimedia.org/wikipedia/en/thumb/5/50/Man_of_Steel_%28film%29_poster.jpg/220px-Man_of_Steel_%28film%29_poster.jpg\n",
      "Title: Suicide Squad, Year: 2016, Director: David Ayer, URL: https://upload.wikimedia.org/wikipedia/en/thumb/5/5c/Suicide_Squad_%282016_film%29_poster.png/220px-Suicide_Squad_%282016_film%29_poster.png\n",
      "Title: Aquaman, Year: 2018, Director: James Wan, URL: https://upload.wikimedia.org/wikipedia/en/e/ed/Aquaman_%28film%29_poster.jpg\n",
      "Title: Wonder Woman, Year: 2017, Director: Patty Jenkins, URL: https://upload.wikimedia.org/wikipedia/en/b/b0/Wonder_Woman_%282017_film%29_poster.jpg\n",
      "Title: Batman v Superman: Dawn of Justice, Year: 2016, Director: Zack Snyder, URL: https://upload.wikimedia.org/wikipedia/en/thumb/3/31/Batman_v_Superman_Dawn_of_Justice_poster.jpg/220px-Batman_v_Superman_Dawn_of_Justice_poster.jpg\n",
      "Title: The Fast and the Furious, Year: 2001, Director: Rob Cohen, URL: https://upload.wikimedia.org/wikipedia/en/thumb/5/54/Fast_and_the_furious_poster.jpg/220px-Fast_and_the_furious_poster.jpg\n",
      "Title: Fast & Furious, Year: 2009, Director: Justin Lin, URL: https://upload.wikimedia.org/wikipedia/en/thumb/8/8f/Fast_and_Furious_Poster.jpg/220px-Fast_and_Furious_Poster.jpg\n",
      "Title: The Fate of the Furious, Year: 2017, Director: F. Gary Gray, URL: https://upload.wikimedia.org/wikipedia/en/thumb/2/2d/The_Fate_of_The_Furious_Theatrical_Poster.jpg/220px-The_Fate_of_The_Furious_Theatrical_Poster.jpg\n",
      "Title: Fast & Furious 6, Year: 2013, Director: Justin Lin, URL: https://upload.wikimedia.org/wikipedia/en/thumb/3/30/Fast_%26_Furious_6_film_poster.jpg/220px-Fast_%26_Furious_6_film_poster.jpg\n",
      "Title: 2 Fast 2 Furious, Year: 2003, Director: John Singleton, URL: https://upload.wikimedia.org/wikipedia/en/thumb/9/9d/Two_fast_two_furious_ver5.jpg/220px-Two_fast_two_furious_ver5.jpg\n",
      "Title: Furious 7, Year: 2015, Director: James Wan, URL: https://upload.wikimedia.org/wikipedia/en/thumb/b/b8/Furious_7_poster.jpg/220px-Furious_7_poster.jpg\n",
      "Title: F9, Year: 2021, Director: Justin Lin, URL: https://upload.wikimedia.org/wikipedia/en/thumb/2/2b/F9_film_poster.jpg/220px-F9_film_poster.jpg\n",
      "Title: Fast Five, Year: 2011, Director: Justin Lin, URL: https://upload.wikimedia.org/wikipedia/en/thumb/0/0c/Fast_Five_poster.jpg/220px-Fast_Five_poster.jpg\n",
      "Title: Fast X, Year: 2023, Director: Louis Leterrier, URL: https://upload.wikimedia.org/wikipedia/en/f/f2/Fast_X_poster.jpg\n",
      "Title: The Wolverine, Year: 2013, Director: James Mangold, URL: https://upload.wikimedia.org/wikipedia/en/thumb/7/74/The_Wolverine_posterUS.jpg/220px-The_Wolverine_posterUS.jpg\n",
      "Title: The New Mutants, Year: 2020, Director: Josh Boone, URL: https://upload.wikimedia.org/wikipedia/en/thumb/1/1a/TheNewMutantsPoster.jpeg/220px-TheNewMutantsPoster.jpeg\n",
      "Title: X-Men Origins: Wolverine, Year: 2009, Director: Gavin Hood, URL: https://upload.wikimedia.org/wikipedia/en/0/08/X-Men_Origins_Wolverine_theatrical_poster.jpg\n",
      "Title: Logan, Year: 2017, Director: James Mangold, URL: https://upload.wikimedia.org/wikipedia/en/3/37/Logan_2017_poster.jpg\n",
      "Title: Deadpool 2, Year: 2018, Director: David Leitch, URL: https://upload.wikimedia.org/wikipedia/en/c/cf/Deadpool_2_poster.jpg\n",
      "Title: Deadpool, Year: 2016, Director: Tim Miller, URL: https://upload.wikimedia.org/wikipedia/en/thumb/2/23/Deadpool_%282016_poster%29.png/220px-Deadpool_%282016_poster%29.png\n",
      "Title: X2, Year: 2003, Director: Bryan Singer, URL: https://upload.wikimedia.org/wikipedia/en/thumb/3/3e/X2_poster.jpg/220px-X2_poster.jpg\n",
      "Title: Dark Phoenix, Year: 2019, Director: Simon Kinberg, URL: https://upload.wikimedia.org/wikipedia/en/thumb/9/9e/Dark_Phoenix_%28film%29.png/220px-Dark_Phoenix_%28film%29.png\n",
      "Title: X-Men: First Class, Year: 2011, Director: Matthew Vaughn, URL: https://upload.wikimedia.org/wikipedia/en/thumb/5/55/X-MenFirstClassMoviePoster.jpg/220px-X-MenFirstClassMoviePoster.jpg\n",
      "Title: X-Men, Year: 2000, Director: Bryan Singer, URL: https://upload.wikimedia.org/wikipedia/en/thumb/8/81/X-MenfilmPoster.jpg/220px-X-MenfilmPoster.jpg\n",
      "Title: X-Men: Days of Future Past, Year: 2014, Director: Bryan Singer, URL: https://upload.wikimedia.org/wikipedia/en/thumb/0/0c/X-Men_Days_of_Future_Past_poster.jpg/220px-X-Men_Days_of_Future_Past_poster.jpg\n",
      "Title: X-Men: Apocalypse, Year: 2016, Director: Bryan Singer, URL: https://upload.wikimedia.org/wikipedia/en/thumb/0/04/X-Men_-_Apocalypse.jpg/220px-X-Men_-_Apocalypse.jpg\n",
      "Title: X-Men: The Last Stand, Year: 2006, Director: Brett Ratner, URL: https://upload.wikimedia.org/wikipedia/en/5/5b/X-Men_The_Last_Stand_theatrical_poster.jpg\n",
      "Title: Casino Royale, Year: 1967, Director: John Huston, Ken Hughes, Val Guest, Robert Parrish, Joe McGrath, URL: https://upload.wikimedia.org/wikipedia/en/3/3c/Casino_Royale_%281967_film_poster%29.jpg\n",
      "Title: Licence to Kill, Year: 1989, Director: John Glen, URL: https://upload.wikimedia.org/wikipedia/en/thumb/c/c2/Licence_to_Kill_-_UK_cinema_poster.jpg/220px-Licence_to_Kill_-_UK_cinema_poster.jpg\n",
      "Title: On Her Majesty's Secret Service, Year: 1969, Director: Peter R. Hunt, URL: https://upload.wikimedia.org/wikipedia/en/thumb/f/f3/On_Her_Majesty%27s_Secret_Service_-_UK_cinema_poster.jpg/220px-On_Her_Majesty%27s_Secret_Service_-_UK_cinema_poster.jpg\n",
      "Title: The Living Daylights, Year: 1987, Director: John Glen, URL: https://upload.wikimedia.org/wikipedia/en/thumb/a/ae/The_Living_Daylights_-_UK_cinema_poster.jpg/220px-The_Living_Daylights_-_UK_cinema_poster.jpg\n",
      "Title: Never Say Never Again, Year: 1983, Director: Irvin Kershner, URL: https://upload.wikimedia.org/wikipedia/en/thumb/6/6c/Never_Say_Never_Again_%E2%80%93_UK_cinema_poster.jpg/220px-Never_Say_Never_Again_%E2%80%93_UK_cinema_poster.jpg\n",
      "Title: You Only Live Twice, Year: 1967, Director: Lewis Gilbert, URL: https://upload.wikimedia.org/wikipedia/en/thumb/3/32/You_Only_Live_Twice_-_UK_cinema_poster.jpg/220px-You_Only_Live_Twice_-_UK_cinema_poster.jpg\n",
      "Title: Live and Let Die, Year: 1973, Director: Guy Hamilton, URL: https://upload.wikimedia.org/wikipedia/en/thumb/3/36/Live_and_Let_Die-_UK_cinema_poster.jpg/220px-Live_and_Let_Die-_UK_cinema_poster.jpg\n",
      "Title: A View to a Kill, Year: 1985, Director: John Glen, URL: https://upload.wikimedia.org/wikipedia/en/thumb/0/03/A_View_to_a_Kill_-_UK_cinema_poster.jpg/220px-A_View_to_a_Kill_-_UK_cinema_poster.jpg\n",
      "Title: Thunderball, Year: 1965, Director: Terence Young, URL: https://upload.wikimedia.org/wikipedia/en/thumb/1/1f/Thunderball_-_UK_cinema_poster.jpg/220px-Thunderball_-_UK_cinema_poster.jpg\n",
      "Title: The Man with the Golden Gun, Year: 1974, Director: Guy Hamilton, URL: https://upload.wikimedia.org/wikipedia/en/thumb/0/0c/The_Man_with_the_Golden_Gun_-_UK_cinema_poster.jpg/220px-The_Man_with_the_Golden_Gun_-_UK_cinema_poster.jpg\n",
      "Title: Octopussy, Year: 1983, Director: John Glen, URL: https://upload.wikimedia.org/wikipedia/en/thumb/b/b2/Octopussy_-_UK_cinema_poster.jpg/220px-Octopussy_-_UK_cinema_poster.jpg\n",
      "Title: Dr. No, Year: 1962, Director: Terence Young, URL: https://upload.wikimedia.org/wikipedia/en/thumb/4/43/Dr._No_-_UK_cinema_poster.jpg/220px-Dr._No_-_UK_cinema_poster.jpg\n",
      "Title: The Spy Who Loved Me, Year: 1977, Director: Lewis Gilbert, URL: https://upload.wikimedia.org/wikipedia/en/thumb/d/d7/The_Spy_Who_Loved_Me_%28UK_cinema_poster%29.jpg/220px-The_Spy_Who_Loved_Me_%28UK_cinema_poster%29.jpg\n",
      "Title: Tomorrow Never Dies, Year: 1997, Director: Roger Spottiswoode, URL: https://upload.wikimedia.org/wikipedia/en/thumb/b/b3/Tomorrow_Never_Dies_%28UK_cinema_poster%29.jpg/220px-Tomorrow_Never_Dies_%28UK_cinema_poster%29.jpg\n",
      "Title: Die Another Day, Year: 2002, Director: Lee Tamahori, URL: https://upload.wikimedia.org/wikipedia/en/thumb/3/3d/Die_another_Day_-_UK_cinema_poster.jpg/220px-Die_another_Day_-_UK_cinema_poster.jpg\n",
      "Title: The World Is Not Enough, Year: 1999, Director: Michael Apted, URL: https://upload.wikimedia.org/wikipedia/en/thumb/0/0c/The_World_Is_Not_Enough_%28UK_cinema_poster%29.jpg/220px-The_World_Is_Not_Enough_%28UK_cinema_poster%29.jpg\n",
      "Title: GoldenEye, Year: 1995, Director: Martin Campbell, URL: https://upload.wikimedia.org/wikipedia/en/thumb/2/24/GoldenEye_-_UK_cinema_poster.jpg/220px-GoldenEye_-_UK_cinema_poster.jpg\n",
      "Title: No Time to Die, Year: 2021, Director: Cary Joji Fukunaga, URL: https://upload.wikimedia.org/wikipedia/en/thumb/f/fe/No_Time_to_Die_poster.jpg/220px-No_Time_to_Die_poster.jpg\n",
      "Title: Quantum of Solace, Year: 2008, Director: Marc Forster, URL: https://upload.wikimedia.org/wikipedia/en/thumb/2/2d/Quantum_of_Solace_-_UK_cinema_poster.jpg/220px-Quantum_of_Solace_-_UK_cinema_poster.jpg\n",
      "Title: Casino Royale, Year: 2006, Director: Martin Campbell, URL: https://upload.wikimedia.org/wikipedia/en/thumb/8/82/Casino_Royale_%282006_film_poster%29.jpg/220px-Casino_Royale_%282006_film_poster%29.jpg\n",
      "Title: For Your Eyes Only, Year: 1981, Director: John Glen, URL: https://upload.wikimedia.org/wikipedia/en/thumb/c/cd/For_Your_Eyes_Only_-_UK_cinema_poster.jpg/220px-For_Your_Eyes_Only_-_UK_cinema_poster.jpg\n",
      "Title: Skyfall, Year: 2012, Director: Sam Mendes, URL: https://upload.wikimedia.org/wikipedia/en/thumb/a/a7/Skyfall_poster.jpg/220px-Skyfall_poster.jpg\n",
      "Title: Fantastic Beasts:, Year: 2022, Director: David Yates, URL: https://upload.wikimedia.org/wikipedia/en/thumb/3/34/Fantastic_Beasts-_The_Secrets_of_Dumbledore.png/220px-Fantastic_Beasts-_The_Secrets_of_Dumbledore.png\n",
      "Title: Spectre, Year: 2015, Director: Sam Mendes, URL: https://upload.wikimedia.org/wikipedia/en/thumb/b/b9/Spectre_2015_poster.jpg/220px-Spectre_2015_poster.jpg\n",
      "Title: Fantastic Beasts and Where to Find Them, Year: 2016, Director: David Yates, URL: https://upload.wikimedia.org/wikipedia/en/thumb/0/0b/FBAWTFT-poster.jpg/220px-FBAWTFT-poster.jpg\n",
      "Title: Harry Potter , Year: 2002, Director: Chris Columbus, URL: https://upload.wikimedia.org/wikipedia/en/thumb/c/c0/Harry_Potter_and_the_Chamber_of_Secrets_movie.jpg/220px-Harry_Potter_and_the_Chamber_of_Secrets_movie.jpg\n",
      "Title: Fantastic Beasts:, Year: 2018, Director: David Yates, URL: https://upload.wikimedia.org/wikipedia/en/thumb/3/3c/Fantastic_Beasts_-_The_Crimes_of_Grindelwald_Poster.png/220px-Fantastic_Beasts_-_The_Crimes_of_Grindelwald_Poster.png\n",
      "Title: Harry Potter and the Prisoner of Azkaban, Year: 2004, Director: Alfonso Cuarón, URL: https://upload.wikimedia.org/wikipedia/en/thumb/b/bc/Prisoner_of_azkaban_UK_poster.jpg/220px-Prisoner_of_azkaban_UK_poster.jpg\n",
      "Title: Star Wars: The Clone Wars, Year: 2008, Director: Dave Filoni, URL: https://upload.wikimedia.org/wikipedia/en/thumb/7/72/Star_wars_the_clone_wars.jpg/220px-Star_wars_the_clone_wars.jpg\n",
      "Title: Harry Potter , Year: 2010, Director: David Yates, URL: https://upload.wikimedia.org/wikipedia/en/thumb/2/2d/Harry_Potter_and_the_Deathly_Hallows_%E2%80%93_Part_1.jpg/220px-Harry_Potter_and_the_Deathly_Hallows_%E2%80%93_Part_1.jpg\n",
      "Title: Rogue One: A Star Wars Story, Year: 2016, Director: Gareth Edwards, URL: https://upload.wikimedia.org/wikipedia/en/thumb/d/d4/Rogue_One%2C_A_Star_Wars_Story_poster.png/220px-Rogue_One%2C_A_Star_Wars_Story_poster.png\n",
      "Title: Solo: A Star Wars Story, Year: 2018, Director: Ron Howard, URL: https://upload.wikimedia.org/wikipedia/en/5/54/Solo_A_Star_Wars_Story_poster.jpg\n",
      "Title: Star Wars: Episode II – Attack of the Clones, Year: 2002, Director: George Lucas, URL: https://upload.wikimedia.org/wikipedia/en/thumb/3/32/Star_Wars_-_Episode_II_Attack_of_the_Clones_%28movie_poster%29.jpg/220px-Star_Wars_-_Episode_II_Attack_of_the_Clones_%28movie_poster%29.jpg\n",
      "Title: Harry Potter , Year: 2009, Director: David Yates, URL: https://upload.wikimedia.org/wikipedia/en/thumb/3/3f/Harry_Potter_and_the_Half-Blood_Prince_poster.jpg/220px-Harry_Potter_and_the_Half-Blood_Prince_poster.jpg\n",
      "Title: Harry Potter and the Order of the Phoenix, Year: 2007, Director: David Yates, URL: https://upload.wikimedia.org/wikipedia/en/thumb/e/e7/Harry_Potter_and_the_Order_of_the_Phoenix_poster.jpg/220px-Harry_Potter_and_the_Order_of_the_Phoenix_poster.jpg\n",
      "Title: Kraven the Hunter, Year: 2024, Director: J. C. Chandor, URL: https://upload.wikimedia.org/wikipedia/en/thumb/e/ec/Kraven_the_Hunter_%28film%29_poster.jpg/220px-Kraven_the_Hunter_%28film%29_poster.jpg\n",
      "Title: Star Wars: Episode III –, Year: 2005, Director: George Lucas, URL: https://upload.wikimedia.org/wikipedia/en/thumb/9/93/Star_Wars_Episode_III_Revenge_of_the_Sith_poster.jpg/220px-Star_Wars_Episode_III_Revenge_of_the_Sith_poster.jpg\n",
      "Title: Spider-Man: Across the , Year: 2023, Director: Joaquim Dos Santos, Kemp Powers, URL: https://upload.wikimedia.org/wikipedia/en/thumb/b/b4/Spider-Man-_Across_the_Spider-Verse_poster.jpg/220px-Spider-Man-_Across_the_Spider-Verse_poster.jpg\n",
      "Title: Spider-Man: Into the Spider-Verse, Year: 2018, Director: Bob Persichetti, Peter Ramsey, Rodney Rothman, URL: https://upload.wikimedia.org/wikipedia/en/thumb/f/fa/Spider-Man_Into_the_Spider-Verse_poster.png/220px-Spider-Man_Into_the_Spider-Verse_poster.png\n",
      "Title: Star Wars: The Rise of Skywalker, Year: 2019, Director: J. J. Abrams, URL: https://upload.wikimedia.org/wikipedia/en/a/af/Star_Wars_The_Rise_of_Skywalker_poster.jpg\n",
      "Title: The Amazing Spider-Man 2, Year: 2014, Director: Marc Webb, URL: https://upload.wikimedia.org/wikipedia/en/thumb/2/24/The_Amazing_Spider-Man_2_poster.jpg/220px-The_Amazing_Spider-Man_2_poster.jpg\n",
      "Title: Madame Web, Year: 2024, Director: S. J. Clarkson, URL: https://upload.wikimedia.org/wikipedia/en/thumb/f/f0/Madame_Web_%28film%29_poster.jpg/220px-Madame_Web_%28film%29_poster.jpg\n",
      "Title: Venom: The Last Dance, Year: 2024, Director: Kelly Marcel, URL: https://upload.wikimedia.org/wikipedia/en/thumb/a/a3/Venom_The_Last_Dance_Poster.jpg/220px-Venom_The_Last_Dance_Poster.jpg\n",
      "Title: Venom: Let There Be Carnage, Year: 2021, Director: Andy Serkis, URL: https://upload.wikimedia.org/wikipedia/en/thumb/a/a7/Venom_Let_There_Be_Carnage_poster.jpg/220px-Venom_Let_There_Be_Carnage_poster.jpg\n",
      "Title: The Amazing Spider-Man, Year: 2012, Director: Marc Webb, URL: https://upload.wikimedia.org/wikipedia/en/thumb/e/e0/The_Amazing_Spider-Man_%28film%29_poster.jpg/220px-The_Amazing_Spider-Man_%28film%29_poster.jpg\n",
      "Title: Morbius, Year: 2022, Director: Daniel Espinosa, URL: https://upload.wikimedia.org/wikipedia/en/thumb/2/2f/Morbius_%28film%29_poster.jpg/220px-Morbius_%28film%29_poster.jpg\n",
      "Title: Venom, Year: 2018, Director: Ruben Fleischer, URL: https://upload.wikimedia.org/wikipedia/en/thumb/1/10/Venom_%282018_film%29_poster.png/220px-Venom_%282018_film%29_poster.png\n",
      "Title: Spider-Man 2, Year: 2004, Director: Sam Raimi, URL: https://upload.wikimedia.org/wikipedia/en/thumb/4/4e/Spider-Man_2_poster.jpg/220px-Spider-Man_2_poster.jpg\n",
      "Title: Spider-Man, Year: 2002, Director: Sam Raimi, URL: https://upload.wikimedia.org/wikipedia/en/thumb/6/6c/Spider-Man_%282002_film%29_poster.jpg/220px-Spider-Man_%282002_film%29_poster.jpg\n",
      "Title: Spider-Man 3, Year: 2007, Director: Sam Raimi, URL: https://upload.wikimedia.org/wikipedia/en/thumb/7/7a/Spider-Man_3%2C_International_Poster.jpg/220px-Spider-Man_3%2C_International_Poster.jpg\n",
      "Title: The Marvels, Year: 2023, Director: Nia DaCosta, URL: https://upload.wikimedia.org/wikipedia/en/thumb/7/7a/The_Marvels_poster.jpg/220px-The_Marvels_poster.jpg\n",
      "Title: Ant-Man and the Wasp: Quantumania, Year: 2023, Director: Peyton Reed, URL: https://upload.wikimedia.org/wikipedia/en/thumb/3/30/Ant-Man_and_the_Wasp_Quantumania_poster.jpg/220px-Ant-Man_and_the_Wasp_Quantumania_poster.jpg\n",
      "Title: Captain America: Brave New World, Year: 2025, Director: Julius Onah, URL: https://upload.wikimedia.org/wikipedia/en/thumb/a/a4/Captain_America_Brave_New_World_poster.jpg/220px-Captain_America_Brave_New_World_poster.jpg\n",
      "Title: Deadpool & Wolverine, Year: 2024, Director: Shawn Levy, URL: https://upload.wikimedia.org/wikipedia/en/thumb/4/4c/Deadpool_%26_Wolverine_poster.jpg/220px-Deadpool_%26_Wolverine_poster.jpg\n",
      "Title: Guardians of the Galaxy Vol. 3, Year: 2023, Director: James Gunn, URL: https://upload.wikimedia.org/wikipedia/en/thumb/7/74/Guardians_of_the_Galaxy_Vol._3_poster.jpg/220px-Guardians_of_the_Galaxy_Vol._3_poster.jpg\n",
      "Title: Eternals, Year: 2021, Director: Chloé Zhao, URL: https://upload.wikimedia.org/wikipedia/en/thumb/9/9b/Eternals_%28film%29_poster.jpeg/220px-Eternals_%28film%29_poster.jpeg\n",
      "Title: Thor: Love and Thunder, Year: 2022, Director: Taika Waititi, URL: https://upload.wikimedia.org/wikipedia/en/thumb/8/88/Thor_Love_and_Thunder_poster.jpeg/220px-Thor_Love_and_Thunder_poster.jpeg\n",
      "Title: Black Widow, Year: 2021, Director: Cate Shortland, URL: https://upload.wikimedia.org/wikipedia/en/thumb/e/e9/Black_Widow_%282021_film%29_poster.jpg/220px-Black_Widow_%282021_film%29_poster.jpg\n",
      "Title: Shang-Chi and the Legend, Year: 2021, Director: Destin Daniel Cretton, URL: https://upload.wikimedia.org/wikipedia/en/thumb/7/74/Shang-Chi_and_the_Legend_of_the_Ten_Rings_poster.jpeg/220px-Shang-Chi_and_the_Legend_of_the_Ten_Rings_poster.jpeg\n",
      "Title: Black Panther: Wakanda Forever, Year: 2022, Director: Ryan Coogler, URL: https://upload.wikimedia.org/wikipedia/en/thumb/3/3b/Black_Panther_Wakanda_Forever_poster.jpg/220px-Black_Panther_Wakanda_Forever_poster.jpg\n",
      "Title: Doctor Strange in the, Year: 2022, Director: Sam Raimi, URL: https://upload.wikimedia.org/wikipedia/en/thumb/1/17/Doctor_Strange_in_the_Multiverse_of_Madness_poster.jpg/220px-Doctor_Strange_in_the_Multiverse_of_Madness_poster.jpg\n",
      "Title: Iron Man 2, Year: 2010, Director: Jon Favreau, URL: https://upload.wikimedia.org/wikipedia/en/e/ed/Iron_Man_2_poster.jpg\n",
      "Title: Thor, Year: 2011, Director: Kenneth Branagh, URL: https://upload.wikimedia.org/wikipedia/en/9/95/Thor_%28film%29_poster.jpg\n",
      "Title: Captain America: , Year: 2011, Director: Joe Johnston, URL: https://upload.wikimedia.org/wikipedia/en/3/37/Captain_America_The_First_Avenger_poster.jpg\n",
      "Title: Ant-Man, Year: 2015, Director: Peyton Reed, URL: https://upload.wikimedia.org/wikipedia/en/1/12/Ant-Man_%28film%29_poster.jpg\n",
      "Title: The Incredible Hulk, Year: 2008, Director: Louis Leterrier, URL: https://upload.wikimedia.org/wikipedia/en/f/f0/The_Incredible_Hulk_%28film%29_poster.jpg\n",
      "Title: Thor: The Dark World, Year: 2013, Director: Alan Taylor, URL: https://upload.wikimedia.org/wikipedia/en/7/7f/Thor_The_Dark_World_poster.jpg\n",
      "Title: Captain America: , Year: 2014, Director: , URL: https://upload.wikimedia.org/wikipedia/en/9/9e/Captain_America_The_Winter_Soldier_poster.jpg\n",
      "Title: Iron Man 3, Year: 2013, Director: Shane Black, URL: https://upload.wikimedia.org/wikipedia/en/1/19/Iron_Man_3_poster.jpg\n",
      "Title: Ant-Man and the Wasp, Year: 2018, Director: Peyton Reed, URL: https://upload.wikimedia.org/wikipedia/en/2/2c/Ant-Man_and_the_Wasp_poster.jpg\n",
      "Title: Guardians of the Galaxy, Year: 2014, Director: James Gunn, URL: https://upload.wikimedia.org/wikipedia/en/3/33/Guardians_of_the_Galaxy_%28film%29_poster.jpg\n",
      "Title: Doctor Strange, Year: 2016, Director: Scott Derrickson, URL: https://upload.wikimedia.org/wikipedia/en/a/a1/Doctor_Strange_%282016_film%29_poster.jpg\n",
      "Title: Avengers: Age of Ultron, Year: 2015, Director: Joss Whedon, URL: https://upload.wikimedia.org/wikipedia/en/f/ff/Avengers_Age_of_Ultron_poster.jpg\n",
      "Title: Thor: Ragnarok, Year: 2017, Director: Taika Waititi, URL: https://upload.wikimedia.org/wikipedia/en/7/7d/Thor_Ragnarok_poster.jpg\n",
      "Title: Spider-Man: Homecoming, Year: 2017, Director: Jon Watts, URL: https://upload.wikimedia.org/wikipedia/en/f/f9/Spider-Man_Homecoming_poster.jpg\n",
      "Title: Spider-Man: Far From Home, Year: 2019, Director: Jon Watts, URL: https://upload.wikimedia.org/wikipedia/en/b/bd/Spider-Man_Far_From_Home_poster.jpg\n",
      "Title: Captain Marvel, Year: 2019, Director: Anna Boden, URL: https://upload.wikimedia.org/wikipedia/en/4/4e/Captain_Marvel_%28film%29_poster.jpg\n",
      "Title: Inside Out 2, Year: 2024, Director: Kelsey Mann, URL: https://upload.wikimedia.org/wikipedia/en/thumb/f/f7/Inside_Out_2_poster.jpg/220px-Inside_Out_2_poster.jpg\n",
      "Title: Guardians of the Galaxy Vol. 2, Year: 2017, Director: James Gunn, URL: https://upload.wikimedia.org/wikipedia/en/thumb/3/32/Guardians_of_the_Galaxy_Vol._2_poster.jpg/220px-Guardians_of_the_Galaxy_Vol._2_poster.jpg\n",
      "Title: Black Panther, Year: 2018, Director: Ryan Coogler, URL: https://upload.wikimedia.org/wikipedia/en/d/d6/Black_Panther_%28film%29_poster.jpg\n",
      "Title: Barbie, Year: 2023, Director: Greta Gerwig, URL: https://upload.wikimedia.org/wikipedia/en/0/0b/Barbie_2023_poster.jpg\n",
      "Title: Demon Slayer: Kimetsu no Yaiba – The Movie: Mugen Train, Year: 2020, Director: Haruo Sotozaki, URL: https://upload.wikimedia.org/wikipedia/en/thumb/2/21/Kimetsu_no_Yaiba_Mugen_Ressha_Hen_Poster.jpg/220px-Kimetsu_no_Yaiba_Mugen_Ressha_Hen_Poster.jpg\n",
      "Title: Avengers: Endgame, Year: 2019, Director: , URL: https://upload.wikimedia.org/wikipedia/en/0/0d/Avengers_Endgame_poster.jpg\n",
      "Title: Star Wars: The Last Jedi, Year: 2017, Director: Rian Johnson, URL: https://upload.wikimedia.org/wikipedia/en/7/7f/Star_Wars_The_Last_Jedi.jpg\n",
      "Title: Captain America: Civil War, Year: 2016, Director: , URL: https://upload.wikimedia.org/wikipedia/en/5/53/Captain_America_Civil_War_poster.jpg\n",
      "Title: Spider-Man: No Way Home, Year: 2021, Director: Jon Watts, URL: https://upload.wikimedia.org/wikipedia/en/thumb/0/00/Spider-Man_No_Way_Home_poster.jpg/220px-Spider-Man_No_Way_Home_poster.jpg\n",
      "Title: Avatar: The Way of Water, Year: 2022, Director: James Cameron, URL: https://upload.wikimedia.org/wikipedia/en/thumb/5/54/Avatar_The_Way_of_Water_poster.jpg/220px-Avatar_The_Way_of_Water_poster.jpg\n",
      "Title: Star Wars: The Force Awakens, Year: 2015, Director: J. J. Abrams, URL: https://upload.wikimedia.org/wikipedia/en/a/a2/Star_Wars_The_Force_Awakens_Theatrical_Poster.jpg\n",
      "Title: Transformers: Age of Extinction, Year: 2014, Director: Michael Bay, URL: https://upload.wikimedia.org/wikipedia/en/thumb/0/0f/Transformers_Age_of_Extinction_poster.jpg/220px-Transformers_Age_of_Extinction_poster.jpg\n",
      "Title: Avengers: Infinity War, Year: 2018, Director: , URL: https://upload.wikimedia.org/wikipedia/en/4/4d/Avengers_Infinity_War_poster.jpg\n",
      "Title: Frozen, Year: 2013, Director: Chris Buck, Jennifer Lee, URL: https://upload.wikimedia.org/wikipedia/en/thumb/0/05/Frozen_%282013_film%29_poster.jpg/220px-Frozen_%282013_film%29_poster.jpg\n",
      "Title: Toy Story 3, Year: 2010, Director: Lee Unkrich, URL: https://upload.wikimedia.org/wikipedia/en/6/69/Toy_Story_3_poster.jpg\n",
      "Title: Harry Potter , Year: 2011, Director: David Yates, URL: https://upload.wikimedia.org/wikipedia/en/d/df/Harry_Potter_and_the_Deathly_Hallows_%E2%80%93_Part_2.jpg\n",
      "Title: The Avengers, Year: 2012, Director: Joss Whedon, URL: https://upload.wikimedia.org/wikipedia/en/8/8a/The_Avengers_%282012_film%29_poster.jpg\n",
      "Title: Avatar, Year: 2009, Director: James Cameron, URL: https://upload.wikimedia.org/wikipedia/en/thumb/d/d6/Avatar_%282009_film%29_poster.jpg/220px-Avatar_%282009_film%29_poster.jpg\n",
      "Title: Pirates of the Caribbean:, Year: 2007, Director: Gore Verbinski, URL: https://upload.wikimedia.org/wikipedia/en/thumb/5/5a/Pirates_AWE_Poster.jpg/220px-Pirates_AWE_Poster.jpg\n",
      "Title: Pirates of the Caribbean: , Year: 2006, Director: Gore Verbinski, URL: https://upload.wikimedia.org/wikipedia/en/thumb/2/2d/Pirates_of_the_caribbean_2_poster_b.jpg/220px-Pirates_of_the_caribbean_2_poster_b.jpg\n",
      "Title: Shrek 2, Year: 2004, Director: Andrew Adamson, Kelly Asbury, Conrad Vernon, URL: https://upload.wikimedia.org/wikipedia/en/b/b9/Shrek_2_poster.jpg\n",
      "Title: The Dark Knight, Year: 2008, Director: Christopher Nolan, URL: https://upload.wikimedia.org/wikipedia/en/1/1c/The_Dark_Knight_%282008_film%29.jpg\n",
      "Title: Harry Potter , Year: 2001, Director: Chris Columbus, URL: https://upload.wikimedia.org/wikipedia/en/thumb/7/7a/Harry_Potter_and_the_Philosopher%27s_Stone_banner.jpg/220px-Harry_Potter_and_the_Philosopher%27s_Stone_banner.jpg\n",
      "Title: The Lord of the Rings:, Year: 2002, Director: Peter Jackson, URL: https://upload.wikimedia.org/wikipedia/en/a/a1/Lord_Rings_Two_Towers.jpg\n",
      "Title: Harry Potter , Year: 2005, Director: Mike Newell, URL: https://upload.wikimedia.org/wikipedia/en/thumb/c/c9/Harry_Potter_and_the_Goblet_of_Fire_Poster.jpg/220px-Harry_Potter_and_the_Goblet_of_Fire_Poster.jpg\n",
      "Title: The Lord of the Rings:, Year: 2003, Director: Peter Jackson, URL: https://upload.wikimedia.org/wikipedia/en/4/48/Lord_Rings_Return_King.jpg\n",
      "Title: Mission: Impossible 2, Year: 2000, Director: John Woo, URL: https://upload.wikimedia.org/wikipedia/en/thumb/4/48/Mission_Impossible_II.jpg/220px-Mission_Impossible_II.jpg\n",
      "Title: Die Hard with a Vengeance, Year: 1995, Director: John McTiernan, URL: https://upload.wikimedia.org/wikipedia/en/thumb/4/4c/Die_Hard_With_A_Vengance.jpg/220px-Die_Hard_With_A_Vengance.jpg\n",
      "Title: Toy Story, Year: 1995, Director: John Lasseter, URL: https://upload.wikimedia.org/wikipedia/en/thumb/1/13/Toy_Story.jpg/220px-Toy_Story.jpg\n",
      "Title: The Lion King, Year: 1994, Director: Roger Allers, Rob Minkoff, URL: https://upload.wikimedia.org/wikipedia/en/thumb/3/3d/The_Lion_King_poster.jpg/220px-The_Lion_King_poster.jpg\n",
      "Title: Titanic, Year: 1997, Director: James Cameron, URL: https://upload.wikimedia.org/wikipedia/en/1/18/Titanic_%281997_film%29_poster.png\n",
      "Title: Armageddon, Year: 1998, Director: Michael Bay, URL: https://upload.wikimedia.org/wikipedia/en/thumb/f/fc/Armageddon-poster06.jpg/220px-Armageddon-poster06.jpg\n",
      "Title: Independence Day, Year: 1996, Director: Roland Emmerich, URL: https://upload.wikimedia.org/wikipedia/en/thumb/b/bb/Independence_day_movieposter.jpg/220px-Independence_day_movieposter.jpg\n",
      "Title: Aladdin, Year: 1992, Director: John Musker, Ron Clements, URL: https://upload.wikimedia.org/wikipedia/en/thumb/b/bd/Aladdin_%281992_Disney_film%29_poster.jpg/220px-Aladdin_%281992_Disney_film%29_poster.jpg\n",
      "Title: Ghost, Year: 1990, Director: Jerry Zucker, URL: https://upload.wikimedia.org/wikipedia/en/thumb/4/41/Ghost_%281990_movie_poster%29.jpg/220px-Ghost_%281990_movie_poster%29.jpg\n",
      "Title: Star Wars: Episode I –, Year: 1999, Director: George Lucas, URL: https://upload.wikimedia.org/wikipedia/en/thumb/4/40/Star_Wars_Phantom_Menace_poster.jpg/220px-Star_Wars_Phantom_Menace_poster.jpg\n",
      "Title: Jurassic Park, Year: 1993, Director: Steven Spielberg, URL: https://upload.wikimedia.org/wikipedia/en/e/e7/Jurassic_Park_poster.jpg\n",
      "Title: Terminator 2: Judgment Day, Year: 1991, Director: James Cameron, URL: https://upload.wikimedia.org/wikipedia/en/thumb/8/85/Terminator2poster.jpg/220px-Terminator2poster.jpg\n",
      "Title: Fatal Attraction, Year: 1987, Director: Adrian Lyne, URL: https://upload.wikimedia.org/wikipedia/en/b/ba/Fatal_Attraction_poster.png\n",
      "Title: Rain Man, Year: 1988, Director: Barry Levinson, URL: https://upload.wikimedia.org/wikipedia/en/b/b2/Rain_Man_poster.jpg\n",
      "Title: Top Gun, Year: 1986, Director: Tony Scott, URL: https://upload.wikimedia.org/wikipedia/en/thumb/4/46/Top_Gun_Movie.jpg/220px-Top_Gun_Movie.jpg\n",
      "Title: Indiana Jones and the Last Crusade, Year: 1989, Director: Steven Spielberg, URL: https://upload.wikimedia.org/wikipedia/en/thumb/8/8c/Indiana_Jones_and_the_Last_Crusade.png/220px-Indiana_Jones_and_the_Last_Crusade.png\n",
      "Title: Back to the Future, Year: 1985, Director: Robert Zemeckis, URL: https://upload.wikimedia.org/wikipedia/en/thumb/d/d2/Back_to_the_Future.jpg/220px-Back_to_the_Future.jpg\n",
      "Title: Ghostbusters, Year: 1984, Director: Ivan Reitman, URL: https://upload.wikimedia.org/wikipedia/en/thumb/2/2f/Ghostbusters_%281984%29_theatrical_poster.png/220px-Ghostbusters_%281984%29_theatrical_poster.png\n",
      "Title: E.T. the Extra-Terrestrial, Year: 1982, Director: Steven Spielberg, URL: https://upload.wikimedia.org/wikipedia/en/thumb/6/66/E_t_the_extra_terrestrial_ver3.jpg/220px-E_t_the_extra_terrestrial_ver3.jpg\n",
      "Title: Return of the Jedi, Year: 1983, Director: Richard Marquand, URL: https://upload.wikimedia.org/wikipedia/en/thumb/b/b2/ReturnOfTheJediPoster1983.jpg/220px-ReturnOfTheJediPoster1983.jpg\n",
      "Title: Funny Girl, Year: 1968, Director: William Wyler, URL: https://upload.wikimedia.org/wikipedia/en/8/88/FunnyGirlPoster.jpg\n",
      "Title: Hawaii, Year: 1966, Director: George Roy Hill, URL: https://upload.wikimedia.org/wikipedia/en/thumb/0/07/Hawaii_%28film%29.jpg/220px-Hawaii_%28film%29.jpg\n",
      "Title: Who's Afraid of Virginia Woolf?, Year: 1966, Director: Mike Nichols, URL: https://upload.wikimedia.org/wikipedia/en/thumb/7/7c/Original_movie_poster_for_the_film_Who%27s_Afraid_of_Virginia_Woolf%3F.jpg/220px-Original_movie_poster_for_the_film_Who%27s_Afraid_of_Virginia_Woolf%3F.jpg\n",
      "Title: The Graduate, Year: 1967, Director: Mike Nichols, URL: https://upload.wikimedia.org/wikipedia/en/8/8b/Graduateposter67.jpg\n",
      "Title: The Jungle Book, Year: 1967, Director: Wolfgang Reitherman, URL: https://upload.wikimedia.org/wikipedia/en/thumb/1/1d/Thejunglebook_movieposter.jpg/220px-Thejunglebook_movieposter.jpg\n",
      "Title: The Empire Strikes Back, Year: 1980, Director: Irvin Kershner, URL: https://upload.wikimedia.org/wikipedia/en/thumb/3/3f/The_Empire_Strikes_Back_%281980_film%29.jpg/220px-The_Empire_Strikes_Back_%281980_film%29.jpg\n",
      "Title: The Bible...In the Beginning, Year: 1966, Director: John Huston, URL: https://upload.wikimedia.org/wikipedia/commons/thumb/9/93/The_Bible..._In_the_Beginning_theatrical_poster.jpg/220px-The_Bible..._In_the_Beginning_theatrical_poster.jpg\n",
      "Title: Raiders of the Lost Ark, Year: 1981, Director: Steven Spielberg, URL: https://upload.wikimedia.org/wikipedia/en/thumb/a/a6/Raiders_of_the_Lost_Ark_Theatrical_Poster.jpg/220px-Raiders_of_the_Lost_Ark_Theatrical_Poster.jpg\n",
      "Title: Goldfinger, Year: 1964, Director: Guy Hamilton, URL: https://upload.wikimedia.org/wikipedia/en/thumb/9/9a/Goldfinger_-_UK_cinema_poster.jpg/220px-Goldfinger_-_UK_cinema_poster.jpg\n",
      "Title: My Fair Lady, Year: 1964, Director: George Cukor, URL: https://upload.wikimedia.org/wikipedia/en/thumb/d/d5/My_fair_lady_poster.jpg/220px-My_fair_lady_poster.jpg\n",
      "Title: Mary Poppins, Year: 1964, Director: Robert Stevenson, URL: https://upload.wikimedia.org/wikipedia/en/thumb/7/78/Marypoppins.jpg/220px-Marypoppins.jpg\n",
      "Title: From Russia with Love, Year: 1963, Director: Terence Young, URL: https://upload.wikimedia.org/wikipedia/en/thumb/a/ad/From_Russia_with_Love_%E2%80%93_UK_cinema_poster.jpg/220px-From_Russia_with_Love_%E2%80%93_UK_cinema_poster.jpg\n",
      "Title: The Sound of Music, Year: 1965, Director: Robert Wise, URL: https://upload.wikimedia.org/wikipedia/en/c/c6/Sound_of_music.jpg\n",
      "Title: 2001: A Space Odyssey, Year: 1968, Director: Stanley Kubrick, URL: https://upload.wikimedia.org/wikipedia/en/thumb/1/11/2001_A_Space_Odyssey_%281968%29.png/220px-2001_A_Space_Odyssey_%281968%29.png\n",
      "Title: Cleopatra, Year: 1963, Director: Joseph L. Mankiewicz, URL: https://upload.wikimedia.org/wikipedia/commons/thumb/b/b1/Cleopatra_poster.jpg/220px-Cleopatra_poster.jpg\n",
      "Title: Lawrence of Arabia, Year: 1962, Director: David Lean, URL: https://upload.wikimedia.org/wikipedia/commons/thumb/c/c5/Lawrence_of_arabia_ver3_xxlg.jpg/220px-Lawrence_of_arabia_ver3_xxlg.jpg\n",
      "Title: The Longest Day, Year: 1962, Director: Ken Annakin, Andrew Marton, Bernhard Wicki, URL: https://upload.wikimedia.org/wikipedia/en/7/79/Original_movie_poster_for_the_film_The_Longest_Day.jpg\n",
      "Title: West Side Story, Year: 1961, Director: Robert Wise, Jerome Robbins, URL: https://upload.wikimedia.org/wikipedia/commons/thumb/0/0b/West_Side_Story_1961_film_poster.jpg/220px-West_Side_Story_1961_film_poster.jpg\n",
      "Title: How the West Was Won, Year: 1962, Director: Henry Hathaway, John Ford, George Marshall, URL: https://upload.wikimedia.org/wikipedia/commons/thumb/8/88/Poster_-_How_the_West_Was_Won.jpg/220px-Poster_-_How_the_West_Was_Won.jpg\n",
      "Title: Spartacus, Year: 1960, Director: Stanley Kubrick, URL: https://upload.wikimedia.org/wikipedia/commons/thumb/c/ce/Spartacus_-_1960_-_poster.png/220px-Spartacus_-_1960_-_poster.png\n",
      "Title: One Hundred and One Dalmatians, Year: 1961, Director: Wolfgang Reitherman, Hamilton Luske, Clyde Geronimi, URL: https://upload.wikimedia.org/wikipedia/en/thumb/c/cd/One_Hundred_and_One_Dalmatians_movie_poster.jpg/220px-One_Hundred_and_One_Dalmatians_movie_poster.jpg\n",
      "Title: Swiss Family Robinson, Year: 1960, Director: Ken Annakin, URL: https://upload.wikimedia.org/wikipedia/en/thumb/a/aa/Swiss_family_robinson322.jpg/220px-Swiss_family_robinson322.jpg\n",
      "Title: Psycho, Year: 1960, Director: Alfred Hitchcock, URL: https://upload.wikimedia.org/wikipedia/commons/thumb/7/76/Psycho_%281960%29_theatrical_poster_%28retouched%29.jpg/220px-Psycho_%281960%29_theatrical_poster_%28retouched%29.jpg\n",
      "Title: South Pacific, Year: 1958, Director: Joshua Logan, URL: https://upload.wikimedia.org/wikipedia/en/thumb/5/57/Poster_of_the_movie_South_Pacific.jpg/220px-Poster_of_the_movie_South_Pacific.jpg\n",
      "Title: Mister Roberts, Year: 1955, Director: John Ford, URL: https://upload.wikimedia.org/wikipedia/commons/thumb/e/e8/Mister_Roberts_%281955_movie_poster%29.jpg/220px-Mister_Roberts_%281955_movie_poster%29.jpg\n",
      "Title: 20,000 Leagues Under the Sea, Year: 1954, Director: Richard Fleischer, URL: https://upload.wikimedia.org/wikipedia/en/thumb/b/b8/20000leaguesposter.jpg/220px-20000leaguesposter.jpg\n",
      "Title: Lady and the Tramp, Year: 1955, Director: Hamilton Luske, Clyde Geronimi, Wilfred Jackson, URL: https://upload.wikimedia.org/wikipedia/en/thumb/3/39/Lady-and-tramp-1955-poster.jpg/220px-Lady-and-tramp-1955-poster.jpg\n",
      "Title: The Bridge on the River Kwai, Year: 1957, Director: David Lean, URL: https://upload.wikimedia.org/wikipedia/commons/thumb/d/d9/The_Bridge_on_the_River_Kwai_%281958_US_poster_-_Style_A%29.jpg/220px-The_Bridge_on_the_River_Kwai_%281958_US_poster_-_Style_A%29.jpg\n",
      "Title: The Ten Commandments, Year: 1956, Director: Cecil B. DeMille, URL: https://upload.wikimedia.org/wikipedia/commons/thumb/d/df/The_Ten_Commandments_%281956_film_poster%29.jpg/220px-The_Ten_Commandments_%281956_film_poster%29.jpg\n",
      "Title: Ben-Hur, Year: 1959, Director: William Wyler, URL: https://upload.wikimedia.org/wikipedia/commons/thumb/7/74/Ben_hur_1959_poster.jpg/220px-Ben_hur_1959_poster.jpg\n",
      "Title: This Is Cinerama, Year: 1952, Director: Mike Todd, Michael Todd, Jr., URL: https://upload.wikimedia.org/wikipedia/en/thumb/a/ae/This_Is_Cinerama_FilmPoster.jpeg/220px-This_Is_Cinerama_FilmPoster.jpeg\n",
      "Title: Quo Vadis, Year: 1951, Director: Mervyn LeRoy, URL: https://upload.wikimedia.org/wikipedia/commons/thumb/a/ad/Poster_-_Quo_Vadis_%281951%29_01.jpg/220px-Poster_-_Quo_Vadis_%281951%29_01.jpg\n",
      "Title: The Greatest Show on Earth, Year: 1952, Director: Cecil B. DeMille, URL: https://upload.wikimedia.org/wikipedia/commons/thumb/7/7f/Cecil_B._DeMille%27s_Greatest_%21_The_Greatest_Show_on_Earth%2C_1952.jpg/220px-Cecil_B._DeMille%27s_Greatest_%21_The_Greatest_Show_on_Earth%2C_1952.jpg\n",
      "Title: The Robe, Year: 1953, Director: Henry Koster, URL: https://upload.wikimedia.org/wikipedia/en/thumb/d/d3/The_Robe_%281953_movie_poster%29.jpg/220px-The_Robe_%281953_movie_poster%29.jpg\n",
      "Title: White Christmas, Year: 1954, Director: Michael Curtiz, URL: https://upload.wikimedia.org/wikipedia/en/thumb/6/67/White_Christmas_film.jpg/220px-White_Christmas_film.jpg\n",
      "Title: Rear Window (1954 film), Year: 1954, Director: Alfred Hitchcock, URL: https://upload.wikimedia.org/wikipedia/commons/thumb/3/38/Rear_Window_film_poster.jpg/220px-Rear_Window_film_poster.jpg\n",
      "Title: Peter Pan, Year: 1953, Director: Hamilton Luske, Clyde Geronimi, Wilfred Jackson, URL: https://upload.wikimedia.org/wikipedia/en/thumb/4/46/PeterpanRKO.jpg/220px-PeterpanRKO.jpg\n",
      "Title: King Solomon's Mines, Year: 1950, Director: Compton Bennett, Andrew Marton, URL: https://upload.wikimedia.org/wikipedia/en/thumb/9/92/Kingsolomonsmines1950.jpg/220px-Kingsolomonsmines1950.jpg\n",
      "Title: Samson and Delilah, Year: 1949, Director: Cecil B. DeMille, URL: https://upload.wikimedia.org/wikipedia/commons/thumb/d/df/Samson_and_Delilah_1949_poster.jpg/220px-Samson_and_Delilah_1949_poster.jpg\n",
      "Title: The Snake Pit, Year: 1948, Director: Anatole Litvak, URL: https://upload.wikimedia.org/wikipedia/en/thumb/2/2a/Snakepit1948_62862n.jpg/220px-Snakepit1948_62862n.jpg\n",
      "Title: Easter Parade, Year: 1948, Director: Charles Walters, URL: https://upload.wikimedia.org/wikipedia/commons/thumb/c/ca/Easter_Parade.jpg/220px-Easter_Parade.jpg\n",
      "Title: The Red Shoes, Year: 1948, Director: Michael Powell, Emeric Pressburger, URL: https://upload.wikimedia.org/wikipedia/en/thumb/b/b4/The_Red_Shoes_%281948_movie_poster%29.jpg/220px-The_Red_Shoes_%281948_movie_poster%29.jpg\n",
      "Title: Duel in the Sun, Year: 1946, Director: King Vidor, URL: https://upload.wikimedia.org/wikipedia/commons/thumb/a/a8/Duel_in_the_Sun_one-sheet_%281946%29.jpg/220px-Duel_in_the_Sun_one-sheet_%281946%29.jpg\n",
      "Title: Unconquered, Year: 1947, Director: Cecil B. DeMille, URL: https://upload.wikimedia.org/wikipedia/en/thumb/9/9f/Unconqueredposter.jpg/220px-Unconqueredposter.jpg\n",
      "Title: Forever Amber, Year: 1947, Director: Otto Preminger, URL: https://upload.wikimedia.org/wikipedia/en/thumb/a/aa/Foreveramberposter.jpg/220px-Foreveramberposter.jpg\n",
      "Title: Cinderella, Year: 1950, Director: Wilfred Jackson, Hamilton Luske, Clyde Geronimi, URL: https://upload.wikimedia.org/wikipedia/commons/thumb/1/1d/1950_is_the_Cinderella_year.jpg/220px-1950_is_the_Cinderella_year.jpg\n",
      "Title: The Bells of St. Mary's, Year: 1945, Director: Leo McCarey, URL: https://upload.wikimedia.org/wikipedia/en/thumb/6/66/Bells_st_marys.jpg/220px-Bells_st_marys.jpg\n",
      "Title: Mom and Dad, Year: 1945, Director: William Beaudine, URL: https://upload.wikimedia.org/wikipedia/commons/thumb/5/5e/Mom_and_Dad_%281947_roadshow_poster%29.jpg/220px-Mom_and_Dad_%281947_roadshow_poster%29.jpg\n",
      "Title: Going My Way, Year: 1944, Director: Leo McCarey, URL: https://upload.wikimedia.org/wikipedia/commons/thumb/d/df/Going_My_Way_%281944_poster%29.jpg/220px-Going_My_Way_%281944_poster%29.jpg\n",
      "Title: The Best Years of Our Lives, Year: 1946, Director: William Wyler, URL: https://upload.wikimedia.org/wikipedia/commons/thumb/7/7d/The_Best_Years_of_Our_Lives_%281946_poster%29.jpg/220px-The_Best_Years_of_Our_Lives_%281946_poster%29.jpg\n",
      "Title: This Is the Army, Year: 1943, Director: Michael Curtiz, URL: https://upload.wikimedia.org/wikipedia/en/thumb/3/3d/Titapos.jpg/220px-Titapos.jpg\n",
      "Title: For Whom the Bell Tolls, Year: 1943, Director: Sam Wood, URL: https://upload.wikimedia.org/wikipedia/en/thumb/3/33/For_whom_movieposter.jpg/220px-For_whom_movieposter.jpg\n",
      "Title: Mrs. Miniver, Year: 1942, Director: William Wyler, URL: https://upload.wikimedia.org/wikipedia/commons/thumb/4/47/Mrs._Miniver_%281942_poster_-_Style_C%29.jpg/220px-Mrs._Miniver_%281942_poster_-_Style_C%29.jpg\n",
      "Title: Song of the South, Year: 1946, Director: Wilfred Jackson, URL: https://upload.wikimedia.org/wikipedia/en/thumb/b/be/Song_of_south_poster.jpg/220px-Song_of_south_poster.jpg\n",
      "Title: Boom Town, Year: 1940, Director: Jack Conway, URL: https://upload.wikimedia.org/wikipedia/en/thumb/3/3c/Boom_Town_poster.jpg/220px-Boom_Town_poster.jpg\n",
      "Title: You Can't Take It with You, Year: 1938, Director: Frank Capra, URL: https://upload.wikimedia.org/wikipedia/commons/thumb/d/d1/You_Can%27t_Take_it_With_You_film_poster.jpg/220px-You_Can%27t_Take_it_With_You_film_poster.jpg\n",
      "Title: Sergeant York, Year: 1941, Director: Howard Hawks, URL: https://upload.wikimedia.org/wikipedia/commons/thumb/5/56/Sergeant_York_%281941_poster%29.jpg/220px-Sergeant_York_%281941_poster%29.jpg\n",
      "Title: San Francisco, Year: 1936, Director: W. S. Van Dyke, URL: https://upload.wikimedia.org/wikipedia/en/thumb/d/de/San_Francisco_%28film%29_poster.jpg/220px-San_Francisco_%28film%29_poster.jpg\n",
      "Title: Bambi, Year: 1942, Director: James Algar, URL: https://upload.wikimedia.org/wikipedia/en/thumb/8/88/Walt_Disney%27s_Bambi_poster.jpg/220px-Walt_Disney%27s_Bambi_poster.jpg\n",
      "Title: Snow White and the Seven Dwarfs, Year: 1937, Director: Perce Pearce, Larry Morey, Wilfred Jackson, Ben Sharpsteen, URL: https://upload.wikimedia.org/wikipedia/en/thumb/4/49/Snow_White_1937_poster.png/220px-Snow_White_1937_poster.png\n",
      "Title: Gone with the Wind, Year: 1939, Director: Victor Fleming, URL: https://upload.wikimedia.org/wikipedia/commons/thumb/2/27/Poster_-_Gone_With_the_Wind_01.jpg/220px-Poster_-_Gone_With_the_Wind_01.jpg\n",
      "Title: Pinocchio, Year: 1940, Director: Ben Sharpsteen, Hamilton Luske, Norman Ferguson, Jack Kinney, Wilfred Jackson, T. Hee, URL: https://upload.wikimedia.org/wikipedia/en/thumb/b/ba/Pinocchio-1940-poster.jpg/220px-Pinocchio-1940-poster.jpg\n",
      "Title: She Done Him Wrong, Year: 1933, Director: Lowell Sherman, URL: https://upload.wikimedia.org/wikipedia/commons/thumb/c/c8/She_Done_Him_Wrong_%281933_poster%29.jpg/220px-She_Done_Him_Wrong_%281933_poster%29.jpg\n",
      "Title: Cavalcade, Year: 1933, Director: Frank Lloyd, URL: https://upload.wikimedia.org/wikipedia/en/thumb/3/3f/Cavalcade_film_poster.jpg/220px-Cavalcade_film_poster.jpg\n",
      "Title: The Merry Widow, Year: 1934, Director: Ernst Lubitsch, URL: https://upload.wikimedia.org/wikipedia/commons/thumb/8/88/The_Merry_Widow_%281934%29_poster.jpg/220px-The_Merry_Widow_%281934%29_poster.jpg\n",
      "Title: The Sign of the Cross, Year: 1932, Director: Cecil B. DeMille, URL: https://upload.wikimedia.org/wikipedia/en/thumb/4/49/The_sign_of_cross.jpg/220px-The_sign_of_cross.jpg\n",
      "Title: It Happened One Night, Year: 1934, Director: Frank Capra, URL: https://upload.wikimedia.org/wikipedia/commons/thumb/d/dc/It-happened-one-night-poster.jpg/220px-It-happened-one-night-poster.jpg\n",
      "Title: Mutiny on the Bounty, Year: 1935, Director: Frank Lloyd, URL: https://upload.wikimedia.org/wikipedia/commons/thumb/b/b8/Mutiny_on_the_Bounty_poster.jpg/220px-Mutiny_on_the_Bounty_poster.jpg\n",
      "Title: I'm No Angel, Year: 1933, Director: Wesley Ruggles, URL: https://upload.wikimedia.org/wikipedia/commons/thumb/8/8a/I%27m_No_Angel_%281933%29_poster.jpg/220px-I%27m_No_Angel_%281933%29_poster.jpg\n",
      "Title: King Kong, Year: 1933, Director: Merian C. Cooper, Ernest B. Schoedsack, URL: https://upload.wikimedia.org/wikipedia/commons/thumb/f/f3/Kingkongposter.jpg/220px-Kingkongposter.jpg\n",
      "Title: City Lights, Year: 1931, Director: Charlie Chaplin, URL: https://upload.wikimedia.org/wikipedia/commons/thumb/0/09/City_Lights_%281931_theatrical_poster_-_retouched%29.jpg/220px-City_Lights_%281931_theatrical_poster_-_retouched%29.jpg\n",
      "Title: Frankenstein, Year: 1931, Director: James Whale, URL: https://upload.wikimedia.org/wikipedia/commons/thumb/9/92/Frankenstein_poster_1931.jpg/220px-Frankenstein_poster_1931.jpg\n",
      "Title: All Quiet on the Western Front, Year: 1930, Director: Lewis Milestone, URL: https://upload.wikimedia.org/wikipedia/commons/thumb/6/6c/All_Quiet_on_the_Western_Front_%281930_film%29_poster.jpg/220px-All_Quiet_on_the_Western_Front_%281930_film%29_poster.jpg\n",
      "Title: Wings, Year: 1927, Director: William A. Wellman, URL: https://upload.wikimedia.org/wikipedia/commons/thumb/b/b3/Wings_%281927%29_poster.jpg/220px-Wings_%281927%29_poster.jpg\n",
      "Title: Sunny Side Up, Year: 1929, Director: David Butler, URL: https://upload.wikimedia.org/wikipedia/commons/thumb/a/a6/Sunny_Side_Up_%281929_film%29.jpg/220px-Sunny_Side_Up_%281929_film%29.jpg\n",
      "Title: The Broadway Melody, Year: 1929, Director: Harry Beaumont, URL: https://upload.wikimedia.org/wikipedia/commons/thumb/f/f0/Broadway_Melody_poster.jpg/220px-Broadway_Melody_poster.jpg\n",
      "Title: The Singing Fool, Year: 1928, Director: Lloyd Bacon, URL: https://upload.wikimedia.org/wikipedia/commons/thumb/2/23/The_Singing_Fool_%281928%29_Poster.jpg/220px-The_Singing_Fool_%281928%29_Poster.jpg\n",
      "Title: For Heaven's Sake, Year: 1926, Director: Sam Taylor, URL: https://upload.wikimedia.org/wikipedia/commons/thumb/4/4e/For_Heaven%27s_Sake_ad_in_Motion_Picture_News_%28March_6%2C_1926_to_April_24%2C_1926%29_%28page_436_crop%29.jpg/220px-For_Heaven%27s_Sake_ad_in_Motion_Picture_News_%28March_6%2C_1926_to_April_24%2C_1926%29_%28page_436_crop%29.jpg\n",
      "Title: Ben-Hur: A Tale of the Christ, Year: 1925, Director: Fred Niblo, Charles Brabin, URL: https://upload.wikimedia.org/wikipedia/commons/thumb/6/63/Ben-Hur-1925.jpg/220px-Ben-Hur-1925.jpg\n",
      "Title: The Big Parade, Year: 1925, Director: King Vidor, URL: https://upload.wikimedia.org/wikipedia/commons/thumb/2/28/The_Big_Parade_%281925%29_poster.jpg/220px-The_Big_Parade_%281925%29_poster.jpg\n",
      "Title: The Sea Hawk, Year: 1924, Director: Frank Lloyd, URL: https://upload.wikimedia.org/wikipedia/commons/thumb/1/1a/The_Sea_Hawk_-_1924_theatrical_poster.jpg/220px-The_Sea_Hawk_-_1924_theatrical_poster.jpg\n",
      "Title: The Covered Wagon, Year: 1923, Director: James Cruze, URL: https://upload.wikimedia.org/wikipedia/commons/thumb/a/a5/The_Covered_Wagon_poster.jpg/220px-The_Covered_Wagon_poster.jpg\n",
      "Title: Douglas Fairbanks in Robin Hood, Year: 1922, Director: Allan Dwan, URL: https://upload.wikimedia.org/wikipedia/commons/thumb/4/44/Douglas_Fairbanks_Robin_Hood_1922_film_poster.jpg/220px-Douglas_Fairbanks_Robin_Hood_1922_film_poster.jpg\n",
      "Title: Way Down East, Year: 1920, Director: D. W. Griffith, URL: https://upload.wikimedia.org/wikipedia/commons/thumb/f/f1/Waydowneast1.jpg/220px-Waydowneast1.jpg\n",
      "Title: The Miracle Man, Year: 1919, Director: George Loane Tucker, URL: https://upload.wikimedia.org/wikipedia/commons/thumb/e/e4/Miracle_Man_poster.jpg/220px-Miracle_Man_poster.jpg\n",
      "Title: The Four Horsemen of the Apocalypse, Year: 1921, Director: Rex Ingram, URL: https://upload.wikimedia.org/wikipedia/commons/thumb/2/27/Four_Horsemen_of_the_Apocalypse_Poster.jpg/220px-Four_Horsemen_of_the_Apocalypse_Poster.jpg\n",
      "Title: Mickey, Year: 1918, Director: F. Richard Jones, URL: https://upload.wikimedia.org/wikipedia/commons/thumb/e/e2/Mickey_Poster.jpg/220px-Mickey_Poster.jpg\n",
      "Title: Cleopatra, Year: 1917, Director: J. Gordon Edwards, URL: https://upload.wikimedia.org/wikipedia/commons/thumb/c/cc/Cleopatra1917.jpg/220px-Cleopatra1917.jpg\n",
      "Title: Intolerance, Year: 1916, Director: D. W. Griffith, URL: https://upload.wikimedia.org/wikipedia/commons/thumb/8/88/Intolerance_%28film%29.jpg/220px-Intolerance_%28film%29.jpg\n"
     ]
    }
   ],
   "source": [
    "data = load_data_from_json('/Users/fllarpy/projects/DWV/pop-films/wikipedia_scaper/movies_spider.json')\n",
    "save_data_to_db(data)\n",
    "check_data_in_db()"
   ]
  },
  {
   "cell_type": "code",
   "execution_count": 7,
   "metadata": {},
   "outputs": [
    {
     "name": "stdout",
     "output_type": "stream",
     "text": [
      "2025-03-02 22:38:04,266 INFO sqlalchemy.engine.Engine BEGIN (implicit)\n",
      "2025-03-02 22:38:04,266 INFO sqlalchemy.engine.Engine SELECT films.id, films.title, films.release_year, films.director, films.box_office, films.country, films.image_url \n",
      "FROM films\n",
      "2025-03-02 22:38:04,266 INFO sqlalchemy.engine.Engine [cached since 0.02268s ago] {}\n",
      "2025-03-02 22:38:04,269 INFO sqlalchemy.engine.Engine ROLLBACK\n"
     ]
    }
   ],
   "source": [
    "from database.config.get_data import export_to_json\n",
    "\n",
    "export_to_json('web/films_data.json')"
   ]
  }
 ],
 "metadata": {
  "kernelspec": {
   "display_name": "Python 3",
   "language": "python",
   "name": "python3"
  },
  "language_info": {
   "codemirror_mode": {
    "name": "ipython",
    "version": 3
   },
   "file_extension": ".py",
   "mimetype": "text/x-python",
   "name": "python",
   "nbconvert_exporter": "python",
   "pygments_lexer": "ipython3",
   "version": "3.13.0"
  }
 },
 "nbformat": 4,
 "nbformat_minor": 2
}
